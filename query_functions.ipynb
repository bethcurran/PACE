{
 "cells": [
  {
   "cell_type": "markdown",
   "id": "d38dfe75-7f0d-4b19-a329-593f61552cc9",
   "metadata": {},
   "source": [
    "# ML4FLoods - Query Function Developement"
   ]
  },
  {
   "cell_type": "markdown",
   "id": "eb878f58-93f3-4e73-99d7-1d5dd7ba122a",
   "metadata": {
    "jp-MarkdownHeadingCollapsed": true,
    "tags": []
   },
   "source": [
    "Aim: To adapt and extend on code from ee_download.py in order to query avaliable Earth Engine data for a given AOI."
   ]
  },
  {
   "cell_type": "code",
   "execution_count": null,
   "id": "8b00fc87-24d5-4ec6-8baa-da8d7f431e58",
   "metadata": {},
   "outputs": [],
   "source": [
    "pip install git+https://github.com/spaceml-org/ml4floods#egg=ml4floods"
   ]
  },
  {
   "cell_type": "code",
   "execution_count": 5,
   "id": "7f915e7b-5b18-4e06-b0a4-70e12f65f115",
   "metadata": {},
   "outputs": [],
   "source": [
    "import traceback\n",
    "import warnings\n",
    "\n",
    "from io import StringIO\n",
    "import ee\n",
    "import time\n",
    "import os\n",
    "from glob import glob\n",
    "from typing import Optional, Callable, List, Tuple\n",
    "from shapely.geometry import mapping, Polygon\n",
    "import numpy as np\n",
    "import geopandas as gpd\n",
    "import pandas as pd\n",
    "import fsspec\n",
    "from datetime import datetime, timezone\n",
    "import math\n",
    "\n",
    "from ml4floods.data import ee_download, utils"
   ]
  },
  {
   "cell_type": "markdown",
   "id": "8c9b3ca0-f6db-46fe-9e6c-9d18c8d57088",
   "metadata": {},
   "source": [
    "### Setting up Search Parameters"
   ]
  },
  {
   "cell_type": "code",
   "execution_count": 6,
   "id": "5eba4f56",
   "metadata": {},
   "outputs": [],
   "source": [
    "#Reading in the AOI \n",
    "\n",
    "#For the purposes on this workflow we are assuming the AOI is given as a file that is readable by geopandas\n",
    "def read_aoi(my_gpd_aoi:str):\n",
    "    my_aoi = gpd.read_file(my_gpd_aoi)\n",
    "    \n",
    "    \n",
    "    js = json.loads(sydney_aoi.to_json()) # convertin gthe aoi to a json and getting the \n",
    "    bounds = ee.Geometry(ee.FeatureCollection(js).geometry())\n",
    "    \n",
    "    return bounds\n",
    "#for test case: using patch from sydney map"
   ]
  },
  {
   "cell_type": "code",
   "execution_count": 8,
   "id": "0b44681f-ee98-47dc-a04f-ae84d10ed618",
   "metadata": {},
   "outputs": [],
   "source": [
    "#Specifiying date of interest and converting to a variable to be passed, \n",
    "#inlcude year as a seperate variable for year long data (e.g. permanent water)\n",
    "\n",
    "#User to input dates with format 'dd/mm/yy' seperated by a comma. \n",
    "\n",
    "date_range = ('dd/mm/yy', 'dd/mm/yy')\n",
    "\n",
    "def get_datetime(date_range: tuple): # function returns a tuple containing datetime\n",
    "    datetime_start= datetime.strptime(date_range[0], '%d/%m/%y')\n",
    "    datetime_end= datetime.strptime(date_range[1], '%d/%m/%y')\n",
    "    \n",
    "    start_year = datetime_start.year\n",
    "    end_year = datetime_end.year\n",
    "    \n",
    "    return datetime_start, datetime_end, start_year, end_year "
   ]
  },
  {
   "cell_type": "markdown",
   "id": "27777020-17d8-4a27-b978-f94bb9634fdd",
   "metadata": {},
   "source": [
    "**QUESTION**: why do we have the start and end year? Will we use it later?"
   ]
  },
  {
   "cell_type": "markdown",
   "id": "1b431518-40c6-40c2-9e67-590a1f676f7e",
   "metadata": {},
   "source": [
    "### Initial Queries"
   ]
  },
  {
   "cell_type": "code",
   "execution_count": null,
   "id": "0b45ee39-c365-4f3b-89ff-2c096b8863a6",
   "metadata": {},
   "outputs": [],
   "source": [
    "def get_imageCollections(bounds: ee.geometry.Geometry, date: tuple): # returns imageCollection\n",
    "\n",
    "    get_landsat_collection = ee_download.get_landsat_collection\n",
    "    landsat_imgs = get_landsat_collection(date_start=dates[0], date_end=dates[1] , bounds= bounds)\n",
    "\n",
    "    get_s2_collection = ee_download.get_s2_collection\n",
    "    s2_imgs = get_s2_collection(date_start=dates[0], date_end=dates[1] , bounds= bounds)\n",
    "    \n",
    "    return landsat_imgs, s2_imgs"
   ]
  },
  {
   "cell_type": "code",
   "execution_count": null,
   "id": "6c6300f9-dd70-4b05-ac50-4410aae05705",
   "metadata": {},
   "outputs": [],
   "source": [
    "def extract_properties(landsat_imgs, s2_imgs, init_bounds, aoi_code):\n",
    "    \n",
    "    coordinates = init_bounds['coordinates']\n",
    "    \n",
    "    landsat_dict = landsat_imgs.getInfo()\n",
    "    s2_dict = s2_imgs.getInfo()\n",
    "    \n",
    "    n_landsat = len(landsat_dict['features'])\n",
    "    print('Landsat images:', n_landsat)\n",
    "    n_s2 = len(s2_dict['features'])\n",
    "    print('s2 images:', n_s2)\n",
    "    \n",
    "    n_total = n_landsat + n_s2 \n",
    "    \n",
    "    properties_df = pd.DataFrame(index=np.arange(0, n_total), columns=['id', 'source', 'cloud_cover', 'percentage_valid_pixels', 'coordinates', 'aoi_code']) \n",
    "    \n",
    "    \n",
    "    for i in range(n_landsat):\n",
    "        properties_df['id'][i] = landsat_dict['features'][i].get('id')\n",
    "        properties_df['source'][i] = 'landsat'\n",
    "        properties_df['cloud_cover'][i] = landsat_dict['features'][i].get('properties')['CLOUD_COVER']\n",
    "        properties_df['percentage_valid_pixels'][i] = landsat_dict['features'][i].get('properties')['valids'] \n",
    "        properties_df['coordinates'][i] = coordinates\n",
    "        properties_df['aoi_code'][i] = aoi_code\n",
    "        #find area/co-ordinates associated with each image\n",
    "        \n",
    "    for i in range(n_s2):\n",
    "        j = i + n_landsat\n",
    "        properties_df['id'][j] = s2_dict['features'][i].get('id')\n",
    "        properties_df['source'][j] = 's2'\n",
    "        properties_df['cloud_cover'][j] = s2_dict['features'][i].get('properties')['CLOUD_COVERAGE_ASSESSMENT']\n",
    "        properties_df['percentage_valid_pixels'][j] = s2_dict['features'][i].get('properties')['valids'] \n",
    "        properties_df['coordinates'][j] = coordinates\n",
    "        properties_df['aoi_code'][j] = aoi_code\n",
    "        #find area/co-ordinates associated with each image\n",
    "    \n",
    "    return properties_df"
   ]
  }
 ],
 "metadata": {
  "environment": {
   "kernel": "python3",
   "name": "common-cpu.m95",
   "type": "gcloud",
   "uri": "gcr.io/deeplearning-platform-release/base-cpu:m95"
  },
  "kernelspec": {
   "display_name": "Python 3",
   "language": "python",
   "name": "python3"
  },
  "language_info": {
   "codemirror_mode": {
    "name": "ipython",
    "version": 3
   },
   "file_extension": ".py",
   "mimetype": "text/x-python",
   "name": "python",
   "nbconvert_exporter": "python",
   "pygments_lexer": "ipython3",
   "version": "3.7.12"
  }
 },
 "nbformat": 4,
 "nbformat_minor": 5
}
