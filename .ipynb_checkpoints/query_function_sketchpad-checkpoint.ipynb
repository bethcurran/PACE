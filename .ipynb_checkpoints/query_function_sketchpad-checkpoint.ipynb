{
 "cells": [
  {
   "cell_type": "code",
   "execution_count": 4,
   "id": "e12ba808-2bb8-482f-bbb9-3a0c6cc1eb72",
   "metadata": {},
   "outputs": [],
   "source": [
    "import traceback\n",
    "import warnings\n",
    "\n",
    "from io import StringIO\n",
    "import ee\n",
    "import time\n",
    "import os\n",
    "from glob import glob\n",
    "from typing import Optional, Callable, List, Tuple\n",
    "from shapely.geometry import mapping, Polygon\n",
    "import numpy as np\n",
    "import geopandas as gpd\n",
    "import pandas as pd\n",
    "import fsspec\n",
    "from datetime import datetime, timezone\n",
    "import math\n",
    "import json\n",
    "\n",
    "from ml4floods.data import ee_download, utils\n"
   ]
  },
  {
   "cell_type": "markdown",
   "id": "ce88aece-bf46-40b6-925b-e37dcc675916",
   "metadata": {
    "jp-MarkdownHeadingCollapsed": true,
    "tags": []
   },
   "source": [
    "# Calling some functions"
   ]
  },
  {
   "cell_type": "markdown",
   "id": "c6701e75-feba-46dd-8475-4085e1018705",
   "metadata": {},
   "source": [
    "Removed the full function call and used the following instead."
   ]
  },
  {
   "cell_type": "code",
   "execution_count": 5,
   "id": "24e9339e-70c7-41b7-a632-fbe6e905915e",
   "metadata": {},
   "outputs": [],
   "source": [
    "get_count_function = ee_download.get_count_function"
   ]
  },
  {
   "cell_type": "code",
   "execution_count": 6,
   "id": "7a213126-043f-4197-b721-01767dc9f1d5",
   "metadata": {},
   "outputs": [],
   "source": [
    "get_landsat_collection = ee_download.get_landsat_collection"
   ]
  },
  {
   "cell_type": "code",
   "execution_count": 7,
   "id": "dd70ae3b-2ccb-4594-aba1-da5738d34a37",
   "metadata": {},
   "outputs": [],
   "source": [
    "collection_mosaic_day = ee_download.collection_mosaic_day"
   ]
  },
  {
   "cell_type": "code",
   "execution_count": 8,
   "id": "2daa429f-526b-4935-9223-dab055c5746f",
   "metadata": {},
   "outputs": [],
   "source": [
    "BANDS_NAMES = ee_download.BANDS_NAMES"
   ]
  },
  {
   "cell_type": "markdown",
   "id": "dc53f8a3-81ab-48be-a3fc-29fd7c24e71f",
   "metadata": {},
   "source": [
    "Calling the aoi file"
   ]
  },
  {
   "cell_type": "markdown",
   "id": "c2c6ed3d-7e2e-4d81-a524-a23536f5c160",
   "metadata": {
    "jp-MarkdownHeadingCollapsed": true,
    "tags": []
   },
   "source": [
    "# Reading the geojson file"
   ]
  },
  {
   "cell_type": "code",
   "execution_count": 98,
   "id": "b406c4df-6e68-44c5-bae7-d793eb9f5045",
   "metadata": {},
   "outputs": [],
   "source": [
    "sydney_aoi= gpd.read_file('2022-07-21_aois.geojson')"
   ]
  },
  {
   "cell_type": "code",
   "execution_count": 10,
   "id": "35b53f77-29f8-4e51-91d5-44bd66601351",
   "metadata": {},
   "outputs": [
    {
     "data": {
      "text/html": [
       "<div>\n",
       "<style scoped>\n",
       "    .dataframe tbody tr th:only-of-type {\n",
       "        vertical-align: middle;\n",
       "    }\n",
       "\n",
       "    .dataframe tbody tr th {\n",
       "        vertical-align: top;\n",
       "    }\n",
       "\n",
       "    .dataframe thead th {\n",
       "        text-align: right;\n",
       "    }\n",
       "</style>\n",
       "<table border=\"1\" class=\"dataframe\">\n",
       "  <thead>\n",
       "    <tr style=\"text-align: right;\">\n",
       "      <th></th>\n",
       "      <th>aoi_code</th>\n",
       "      <th>geometry</th>\n",
       "    </tr>\n",
       "  </thead>\n",
       "  <tbody>\n",
       "    <tr>\n",
       "      <th>0</th>\n",
       "      <td>AOI01</td>\n",
       "      <td>POLYGON ((147.09960 -31.24462, 147.30960 -31.2...</td>\n",
       "    </tr>\n",
       "    <tr>\n",
       "      <th>1</th>\n",
       "      <td>AOI01</td>\n",
       "      <td>POLYGON ((147.09960 -31.24462, 147.30960 -31.2...</td>\n",
       "    </tr>\n",
       "    <tr>\n",
       "      <th>2</th>\n",
       "      <td>AOI02</td>\n",
       "      <td>POLYGON ((147.09960 -31.04462, 147.30960 -31.0...</td>\n",
       "    </tr>\n",
       "    <tr>\n",
       "      <th>3</th>\n",
       "      <td>AOI02</td>\n",
       "      <td>POLYGON ((147.09960 -31.04462, 147.30960 -31.0...</td>\n",
       "    </tr>\n",
       "    <tr>\n",
       "      <th>4</th>\n",
       "      <td>AOI0289</td>\n",
       "      <td>POLYGON ((147.49960 -32.44461, 147.70960 -32.4...</td>\n",
       "    </tr>\n",
       "    <tr>\n",
       "      <th>...</th>\n",
       "      <td>...</td>\n",
       "      <td>...</td>\n",
       "    </tr>\n",
       "    <tr>\n",
       "      <th>476</th>\n",
       "      <td>AOI97</td>\n",
       "      <td>POLYGON ((150.29960 -34.24462, 150.50960 -34.2...</td>\n",
       "    </tr>\n",
       "    <tr>\n",
       "      <th>477</th>\n",
       "      <td>AOI98</td>\n",
       "      <td>POLYGON ((150.29960 -34.04462, 150.50960 -34.0...</td>\n",
       "    </tr>\n",
       "    <tr>\n",
       "      <th>478</th>\n",
       "      <td>AOI98</td>\n",
       "      <td>POLYGON ((150.29960 -34.04462, 150.50960 -34.0...</td>\n",
       "    </tr>\n",
       "    <tr>\n",
       "      <th>479</th>\n",
       "      <td>AOI99</td>\n",
       "      <td>POLYGON ((150.29960 -33.84462, 150.50960 -33.8...</td>\n",
       "    </tr>\n",
       "    <tr>\n",
       "      <th>480</th>\n",
       "      <td>AOI99</td>\n",
       "      <td>POLYGON ((150.29960 -33.84462, 150.50960 -33.8...</td>\n",
       "    </tr>\n",
       "  </tbody>\n",
       "</table>\n",
       "<p>481 rows × 2 columns</p>\n",
       "</div>"
      ],
      "text/plain": [
       "    aoi_code                                           geometry\n",
       "0      AOI01  POLYGON ((147.09960 -31.24462, 147.30960 -31.2...\n",
       "1      AOI01  POLYGON ((147.09960 -31.24462, 147.30960 -31.2...\n",
       "2      AOI02  POLYGON ((147.09960 -31.04462, 147.30960 -31.0...\n",
       "3      AOI02  POLYGON ((147.09960 -31.04462, 147.30960 -31.0...\n",
       "4    AOI0289  POLYGON ((147.49960 -32.44461, 147.70960 -32.4...\n",
       "..       ...                                                ...\n",
       "476    AOI97  POLYGON ((150.29960 -34.24462, 150.50960 -34.2...\n",
       "477    AOI98  POLYGON ((150.29960 -34.04462, 150.50960 -34.0...\n",
       "478    AOI98  POLYGON ((150.29960 -34.04462, 150.50960 -34.0...\n",
       "479    AOI99  POLYGON ((150.29960 -33.84462, 150.50960 -33.8...\n",
       "480    AOI99  POLYGON ((150.29960 -33.84462, 150.50960 -33.8...\n",
       "\n",
       "[481 rows x 2 columns]"
      ]
     },
     "execution_count": 10,
     "metadata": {},
     "output_type": "execute_result"
    }
   ],
   "source": [
    "sydney_aoi"
   ]
  },
  {
   "cell_type": "code",
   "execution_count": 11,
   "id": "1180aeff-1f20-4e17-a026-e35a1eadd446",
   "metadata": {},
   "outputs": [
    {
     "data": {
      "text/plain": [
       "0      POLYGON ((147.09960 -31.24462, 147.30960 -31.2...\n",
       "1      POLYGON ((147.09960 -31.24462, 147.30960 -31.2...\n",
       "2      POLYGON ((147.09960 -31.04462, 147.30960 -31.0...\n",
       "3      POLYGON ((147.09960 -31.04462, 147.30960 -31.0...\n",
       "4      POLYGON ((147.49960 -32.44461, 147.70960 -32.4...\n",
       "                             ...                        \n",
       "476    POLYGON ((150.29960 -34.24462, 150.50960 -34.2...\n",
       "477    POLYGON ((150.29960 -34.04462, 150.50960 -34.0...\n",
       "478    POLYGON ((150.29960 -34.04462, 150.50960 -34.0...\n",
       "479    POLYGON ((150.29960 -33.84462, 150.50960 -33.8...\n",
       "480    POLYGON ((150.29960 -33.84462, 150.50960 -33.8...\n",
       "Name: geometry, Length: 481, dtype: geometry"
      ]
     },
     "execution_count": 11,
     "metadata": {},
     "output_type": "execute_result"
    }
   ],
   "source": [
    "sydney_aoi.geometry"
   ]
  },
  {
   "cell_type": "markdown",
   "id": "c9275ee0-c20a-4df3-bc45-2ea20bea7861",
   "metadata": {},
   "source": [
    "Getting the bounds from a single polygon"
   ]
  },
  {
   "cell_type": "code",
   "execution_count": 12,
   "id": "e3f356a8-52d4-4b34-a265-be043694531b",
   "metadata": {},
   "outputs": [
    {
     "data": {
      "text/plain": [
       "(147.09959654580408,\n",
       " -31.244618412374592,\n",
       " 147.30959654580408,\n",
       " -31.03461841237459)"
      ]
     },
     "execution_count": 12,
     "metadata": {},
     "output_type": "execute_result"
    }
   ],
   "source": [
    "test_bounds= sydney_aoi.geometry[0].bounds\n",
    "test_bounds"
   ]
  },
  {
   "cell_type": "markdown",
   "id": "9cc06267-ad65-45f5-b779-45f216642d34",
   "metadata": {
    "tags": []
   },
   "source": [
    "# Sorting the dates"
   ]
  },
  {
   "cell_type": "markdown",
   "id": "cf2a267a-ed5f-46ef-b1e0-9d238a22a450",
   "metadata": {},
   "source": [
    "Converting standard date format into a datetime objectget_landsat_collection(date_start= , date_end= , bounds= test_bounds)"
   ]
  },
  {
   "cell_type": "code",
   "execution_count": 13,
   "id": "bf298f15-dd31-4243-9587-d00cd0050435",
   "metadata": {},
   "outputs": [
    {
     "data": {
      "text/plain": [
       "datetime.datetime(2021, 8, 2, 0, 0)"
      ]
     },
     "execution_count": 13,
     "metadata": {},
     "output_type": "execute_result"
    }
   ],
   "source": [
    "date_string_start = '02/08/21'\n",
    "date_string_end = '03/09/21'\n",
    "datetime_start= datetime.strptime(date_string_start, '%d/%m/%y')\n",
    "datetime_end= datetime.strptime(date_string_end, '%d/%m/%y')\n",
    "datetime_start"
   ]
  },
  {
   "cell_type": "code",
   "execution_count": 14,
   "id": "176faae1-cde4-43f7-b702-7cc78702bd07",
   "metadata": {},
   "outputs": [],
   "source": [
    "date_range = ('02/08/21', '03/09/21')"
   ]
  },
  {
   "cell_type": "code",
   "execution_count": 124,
   "id": "7a388331-e114-447a-89af-b4c363c41901",
   "metadata": {},
   "outputs": [
    {
     "data": {
      "text/plain": [
       "tuple"
      ]
     },
     "execution_count": 124,
     "metadata": {},
     "output_type": "execute_result"
    }
   ],
   "source": [
    "type(date_range)"
   ]
  },
  {
   "cell_type": "code",
   "execution_count": null,
   "id": "d6bb41af-e8cb-41f9-9d2e-77a3c52d0931",
   "metadata": {},
   "outputs": [
    {
     "name": "stdout",
     "output_type": "stream",
     "text": [
      "(datetime.datetime(2021, 8, 2, 0, 0), datetime.datetime(2021, 9, 3, 0, 0))\n"
     ]
    }
   ],
   "source": [
    "#Test of datetime function from query notebook\n",
    "\n",
    "#e.g. date_range = ('dd/mm/yy', 'dd/mm/yy')\n",
    "\n",
    "def get_datetime(date_range):\n",
    "    datetime_start= datetime.strptime(date_range[0], '%d/%m/%y')\n",
    "    datetime_end= datetime.strptime(date_range[1], '%d/%m/%y')\n",
    "    \n",
    "    start_year = datetime_start.year\n",
    "    end_year = datetime_end.year\n",
    "    \n",
    "    return datetime_start, datetime_end, start_year, end_year\n",
    "\n",
    "dates = get_datetime(date_range)\n",
    "\n",
    "print(dates)"
   ]
  },
  {
   "cell_type": "code",
   "execution_count": 126,
   "id": "78128df3-51cc-4969-8c95-a7680efae34b",
   "metadata": {},
   "outputs": [
    {
     "data": {
      "text/plain": [
       "tuple"
      ]
     },
     "execution_count": 129,
     "metadata": {},
     "output_type": "execute_result"
    }
   ],
   "source": [
    "type(dates[0])"
   ]
  },
  {
   "cell_type": "code",
   "execution_count": 16,
   "id": "8862c4a7-d261-4d3c-a2b4-e6e2e58d9a70",
   "metadata": {},
   "outputs": [
    {
     "name": "stdout",
     "output_type": "stream",
     "text": [
      "Start datetime: 2021-08-02 00:00:00, end datetime: 2021-09-03 00:00:00\n"
     ]
    }
   ],
   "source": [
    "print(f'Start datetime: {dates[0]}, end datetime: {dates[1]}')"
   ]
  },
  {
   "cell_type": "markdown",
   "id": "de6e8e62-e869-4e23-8961-ed0b80e03b36",
   "metadata": {
    "jp-MarkdownHeadingCollapsed": true,
    "tags": []
   },
   "source": [
    "# Authenticating `ee`"
   ]
  },
  {
   "cell_type": "markdown",
   "id": "388819cf-c56c-4a43-87b9-e7236183f38f",
   "metadata": {},
   "source": [
    "First will have to run `earthengine authenticate` in the VM command line / terminal. \n",
    "\n",
    "**Issue:** Doesn't allow us to authenticate. We get an 'access blocked' message. We checked the GCP API information under APIs and Servicse > Enabled APIs & Services and there are no API credentials (client ID and key). We had a look into what the issue might be and found that we may need to enable 'Google Earth Engine API', but this did nothing. \n",
    "\n",
    "- Do we need client ID and key for the API to get access?\n",
    "- Do we need to open the authentication link  in a VM browser? \n",
    "- Any other reasons why the authentication link doesn't work\n",
    "\n",
    "\n",
    "**SOLVED** Cormac suggested to run the following"
   ]
  },
  {
   "cell_type": "code",
   "execution_count": 17,
   "id": "dde0ebc6-58f9-4898-bf1e-556df4784946",
   "metadata": {},
   "outputs": [
    {
     "data": {
      "text/html": [
       "<p>To authorize access needed by Earth Engine, open the following\n",
       "        URL in a web browser and follow the instructions:</p>\n",
       "        <p><a href=https://code.earthengine.google.com/client-auth?scopes=https%3A//www.googleapis.com/auth/earthengine%20https%3A//www.googleapis.com/auth/devstorage.full_control&request_id=mppaftzXO4D_2N4V_RQja-rQ1URB277AHGohiGCJmz4&tc=6_OZugFx7sQ_tljeCqr099lJPjX80JE5JzkpCUe7_hw&cc=np5w4CMMcG_T9gj0QZ3iaqslePtPL5UQ7q59QBokv8Q>https://code.earthengine.google.com/client-auth?scopes=https%3A//www.googleapis.com/auth/earthengine%20https%3A//www.googleapis.com/auth/devstorage.full_control&request_id=mppaftzXO4D_2N4V_RQja-rQ1URB277AHGohiGCJmz4&tc=6_OZugFx7sQ_tljeCqr099lJPjX80JE5JzkpCUe7_hw&cc=np5w4CMMcG_T9gj0QZ3iaqslePtPL5UQ7q59QBokv8Q</a></p>\n",
       "        <p>The authorization workflow will generate a code, which you should paste in the box below.</p>\n",
       "        "
      ],
      "text/plain": [
       "<IPython.core.display.HTML object>"
      ]
     },
     "metadata": {},
     "output_type": "display_data"
    },
    {
     "name": "stdin",
     "output_type": "stream",
     "text": [
      "Enter verification code:  4/1AdQt8qhFTbgHipbguWhHCkge1H_6CqFDd1mmBReTY1vRwRGgER9W33BhOYY\n"
     ]
    },
    {
     "name": "stdout",
     "output_type": "stream",
     "text": [
      "\n",
      "Successfully saved authorization token.\n"
     ]
    }
   ],
   "source": [
    "ee.Authenticate()"
   ]
  },
  {
   "cell_type": "markdown",
   "id": "ce9ae0b6-042b-42c2-82ef-547b382105d7",
   "metadata": {},
   "source": [
    "Initialise earth engine (ee)"
   ]
  },
  {
   "cell_type": "code",
   "execution_count": 18,
   "id": "433c8770-280e-4a7e-a762-174fa3c5e9bb",
   "metadata": {},
   "outputs": [],
   "source": [
    "ee.Initialize()"
   ]
  },
  {
   "cell_type": "markdown",
   "id": "d0b445ef-d6c1-460c-9801-3682dee15a13",
   "metadata": {
    "tags": []
   },
   "source": [
    "# Getting the bounds and getting the images"
   ]
  },
  {
   "cell_type": "code",
   "execution_count": 19,
   "id": "f6759fdc-6928-48cc-bc32-6c37b15a0df8",
   "metadata": {},
   "outputs": [
    {
     "data": {
      "text/plain": [
       "tuple"
      ]
     },
     "execution_count": 19,
     "metadata": {},
     "output_type": "execute_result"
    }
   ],
   "source": [
    "type(sydney_aoi.geometry[0].bounds)"
   ]
  },
  {
   "cell_type": "code",
   "execution_count": 122,
   "id": "634a6340-8a11-4bae-a988-394654ddaac3",
   "metadata": {},
   "outputs": [
    {
     "data": {
      "text/plain": [
       "ee.geometry.Geometry"
      ]
     },
     "execution_count": 122,
     "metadata": {},
     "output_type": "execute_result"
    }
   ],
   "source": [
    "\n",
    "js = json.loads(sydney_aoi.to_json()) # Converting the aoi to a json and loading the json information, inludes coordinates,\n",
    "                                        # id for each polygon. Within the dictionary we have a 'featureCollection'\n",
    "    \n",
    "bounds = ee.Geometry(ee.FeatureCollection(js).geometry()) # Getting the bounds of the polygons \n",
    "\n",
    "type(bounds)"
   ]
  },
  {
   "cell_type": "raw",
   "id": "d391eda5-13dd-4ce7-8618-661bacd062ce",
   "metadata": {},
   "source": [
    "type(js)"
   ]
  },
  {
   "cell_type": "raw",
   "id": "2017adcf-3991-4523-aba5-38557d133049",
   "metadata": {},
   "source": [
    "js"
   ]
  },
  {
   "cell_type": "raw",
   "id": "f39c8a5c-5478-4863-b44f-2e7a0efed83b",
   "metadata": {},
   "source": [
    "js['features'][0]['geometry']['coordinates']"
   ]
  },
  {
   "cell_type": "raw",
   "id": "e093061f-4dd4-4b41-a04b-5d3b68a3998e",
   "metadata": {},
   "source": [
    "sydney_aoi.geometry"
   ]
  },
  {
   "cell_type": "raw",
   "id": "1dcb0f66-8957-4b8b-9011-bb09729c06b0",
   "metadata": {},
   "source": [
    "bounds"
   ]
  },
  {
   "cell_type": "code",
   "execution_count": 21,
   "id": "39af5260-924a-4b30-8ff8-f2fdb7048397",
   "metadata": {},
   "outputs": [],
   "source": [
    "landsat_imgs = get_landsat_collection(date_start=dates[0], date_end=dates[1] , bounds=bounds)"
   ]
  },
  {
   "cell_type": "code",
   "execution_count": 22,
   "id": "ec7cd4c9-c2d4-47a4-a1b9-04cb86a3ba8e",
   "metadata": {},
   "outputs": [
    {
     "data": {
      "text/plain": [
       "ee.imagecollection.ImageCollection"
      ]
     },
     "execution_count": 22,
     "metadata": {},
     "output_type": "execute_result"
    }
   ],
   "source": [
    "type(landsat_imgs)"
   ]
  },
  {
   "cell_type": "markdown",
   "id": "2cfeb853-de93-4a82-9225-6a26afb9cc63",
   "metadata": {
    "tags": []
   },
   "source": [
    "# Checking the properties of the imageCollection"
   ]
  },
  {
   "cell_type": "markdown",
   "id": "6a517806-5dae-4b78-8c17-8fe6ba328a22",
   "metadata": {},
   "source": [
    "Checking the size of the image collection"
   ]
  },
  {
   "cell_type": "markdown",
   "id": "7517d027-9175-4c30-9048-b8dfaa79a892",
   "metadata": {},
   "source": [
    "NOTE: Find date range limits that won't time out"
   ]
  },
  {
   "cell_type": "markdown",
   "id": "dac1d546-55e3-414d-baa6-e7faddfd207a",
   "metadata": {},
   "source": [
    "**Example** from https://developers.google.com/earth-engine/apidocs/ee-imagecollection-size"
   ]
  },
  {
   "cell_type": "code",
   "execution_count": 24,
   "id": "b2c28948-32fa-43c7-a115-7662dfbd3dab",
   "metadata": {},
   "outputs": [],
   "source": [
    "col = ee.ImageCollection('LANDSAT/LC08/C02/T1_TOA').filterBounds(ee.Geometry.Point(-90.70, 34.71)).filterDate('2020-01-01', '2021-01-01');"
   ]
  },
  {
   "cell_type": "code",
   "execution_count": 25,
   "id": "75d5ae39-b9cb-4e96-ab04-ec59ad3cbe14",
   "metadata": {},
   "outputs": [
    {
     "data": {
      "text/plain": [
       "ee.imagecollection.ImageCollection"
      ]
     },
     "execution_count": 25,
     "metadata": {},
     "output_type": "execute_result"
    }
   ],
   "source": [
    "type(col)"
   ]
  },
  {
   "cell_type": "markdown",
   "id": "c2e23189-63ac-4544-b2ca-63ca8e9c22da",
   "metadata": {},
   "source": [
    "[running the below code in this link gives the number of images](https://code.earthengine.google.com/820fcb75a86f86352d4ae1d62c4650fe)"
   ]
  },
  {
   "cell_type": "raw",
   "id": "df2b1c0f-2ed4-49ed-b008-30930b8b9243",
   "metadata": {},
   "source": [
    "// Note: ee.ImageCollection.size may take a lot of time and memory to run,\n",
    "// since it must generate all of the results in order to count them. Large\n",
    "// collections and/or complex computations can produce memory limitation\n",
    "// errors.\n",
    "\n",
    "// A Landsat 8 TOA image collection (1 year of images at a specific point).\n",
    "var col = ee.ImageCollection('LANDSAT/LC08/C02/T1_TOA')\n",
    "  .filterBounds(ee.Geometry.Point(-90.70, 34.71))\n",
    "  .filterDate('2020-01-01', '2021-01-01');\n",
    "\n",
    "// Get the number of images in the collection.\n",
    "print('Number of images', col.size());"
   ]
  },
  {
   "cell_type": "markdown",
   "id": "dc7f946a-1f07-4cdc-8b0e-262a8347d8e4",
   "metadata": {},
   "source": [
    "**End Example**"
   ]
  },
  {
   "cell_type": "markdown",
   "id": "e48f4dde-cc18-4fcb-869a-9b9c17bf137b",
   "metadata": {},
   "source": [
    "After checking the function `_get_collection()` in the script, I noticed the variable `n_images` which seemed like 'number of images'. Using the same code from the script gives us: "
   ]
  },
  {
   "cell_type": "code",
   "execution_count": 26,
   "id": "27be2f34-b254-4b19-afd7-39be3b22b9fb",
   "metadata": {},
   "outputs": [
    {
     "data": {
      "text/plain": [
       "12"
      ]
     },
     "execution_count": 26,
     "metadata": {},
     "output_type": "execute_result"
    }
   ],
   "source": [
    "landsat_imgs.size().getInfo()"
   ]
  },
  {
   "cell_type": "markdown",
   "id": "6fcecfe7-6c13-4ef5-8abf-cd1e8184ccfb",
   "metadata": {},
   "source": [
    "We can see the `CLOUD_SCORE` is contained in \n",
    "\n",
    "features: [] -> id: 'date', properties: {} -> CLOUD_SCORE"
   ]
  },
  {
   "cell_type": "code",
   "execution_count": 39,
   "id": "67986065-4fa8-4c76-889f-15683522d9fb",
   "metadata": {},
   "outputs": [],
   "source": [
    "myDict = landsat_imgs.getInfo()"
   ]
  },
  {
   "cell_type": "code",
   "execution_count": 40,
   "id": "ad4ff5f6-770a-4029-91b4-1e7c360fcabb",
   "metadata": {},
   "outputs": [
    {
     "data": {
      "text/plain": [
       "12"
      ]
     },
     "execution_count": 40,
     "metadata": {},
     "output_type": "execute_result"
    }
   ],
   "source": [
    "len(myDict['features'])"
   ]
  },
  {
   "cell_type": "code",
   "execution_count": 41,
   "id": "cc68c06c-8628-4cff-98a8-0bdd8f346914",
   "metadata": {},
   "outputs": [
    {
     "data": {
      "text/plain": [
       "'2021-08-17'"
      ]
     },
     "execution_count": 41,
     "metadata": {},
     "output_type": "execute_result"
    }
   ],
   "source": [
    "myDict['features'][0].get('id')"
   ]
  },
  {
   "cell_type": "code",
   "execution_count": 42,
   "id": "305e9c21-222d-4a2f-91ea-3956087ae5df",
   "metadata": {},
   "outputs": [],
   "source": [
    "myDict = landsat_imgs.getInfo()"
   ]
  },
  {
   "cell_type": "code",
   "execution_count": 43,
   "id": "af2f9122-f384-41d8-ac06-285afa6fa66e",
   "metadata": {},
   "outputs": [
    {
     "data": {
      "text/plain": [
       "3.48"
      ]
     },
     "execution_count": 43,
     "metadata": {},
     "output_type": "execute_result"
    }
   ],
   "source": [
    "myDict['features'][0].get('properties')['CLOUD_COVER']"
   ]
  },
  {
   "cell_type": "code",
   "execution_count": 61,
   "id": "07565737-3227-471c-8e61-cd1b609f2e6b",
   "metadata": {},
   "outputs": [
    {
     "name": "stdout",
     "output_type": "stream",
     "text": [
      "0 3.48\n",
      "1 10.97\n",
      "2 40.43\n",
      "3 76.51\n",
      "4 0.32\n",
      "5 0.05\n",
      "6 54.69\n",
      "7 10.8\n",
      "8 0.02\n",
      "9 14.17\n",
      "10 1.96\n",
      "11 0.01\n",
      "Mean cloud score is 17.784166666666668\n"
     ]
    }
   ],
   "source": [
    "cloudScore_landsat = np.array([])\n",
    "\n",
    "for i in range(len(myDict['features'])):\n",
    "    val = myDict['features'][i].get('properties')['CLOUD_COVER']\n",
    "    cloudScore_landsat = np.append(cloudScore_landsat, val)\n",
    "    print(i, val) \n",
    "\n",
    "\n",
    "print(f'Mean cloud score is {cloudScore_landsat.mean()}')"
   ]
  },
  {
   "cell_type": "markdown",
   "id": "5acd330a-04ca-4b8a-a54d-6a621969f2d6",
   "metadata": {},
   "source": [
    "Now we need to know what a cloud score looks like and if there are any other properties we want to consider from the imageCollection."
   ]
  },
  {
   "cell_type": "markdown",
   "id": "717d3173-7636-40be-8b58-2c1344c73108",
   "metadata": {},
   "source": [
    "plot out on a spatial grid. \n",
    "\n",
    "Each patch may have multiple images with each of the cloud scores. \n",
    "\n",
    "geopandas table with whichever coordinates used. coords and cloud cover.\n",
    "sleep statement after each point to see how the plot is being built. \n",
    "\n",
    "---\n",
    "\n",
    "geoscape query and intersects. \n",
    "\n",
    "---\n",
    "\n",
    "linking the keys for both satellites."
   ]
  },
  {
   "cell_type": "raw",
   "id": "ade30a69-78bd-4100-83ea-bfa524b2ce39",
   "metadata": {},
   "source": [
    "myDict['features'][0].get('properties')"
   ]
  },
  {
   "cell_type": "markdown",
   "id": "349ff884-1f4c-458e-a8b9-97a7630a8e8e",
   "metadata": {},
   "source": [
    "To access the information, the procses looks like this: `landsat_imgs.getInfo()['features'][my_index].get('properties')['my_feature']`. \n",
    "\n",
    "getInfo() is a dictionary, so we access the dictionary by calling one of the words in the dictionary being 'features'. This now becomes a list of the different images, so we can index into the image we want. We then use the get() function which again returns a dictionary we can access with one of the words in the dictionary to access the information. "
   ]
  },
  {
   "cell_type": "markdown",
   "id": "b2f52bd3-27dd-4d1f-8da4-448710fc0b36",
   "metadata": {},
   "source": [
    "**Now getting the images for s2. Note, s2 has different properties to landsat**"
   ]
  },
  {
   "cell_type": "code",
   "execution_count": 47,
   "id": "3ad9723d-8cbd-438e-8f93-be829cd8174b",
   "metadata": {},
   "outputs": [],
   "source": [
    "get_s2_collection = ee_download.get_s2_collection"
   ]
  },
  {
   "cell_type": "code",
   "execution_count": 48,
   "id": "50d60b82-6ca3-4dcc-b90a-c8c621743d66",
   "metadata": {},
   "outputs": [],
   "source": [
    "s2_imgs = get_s2_collection(date_start=dates[0], date_end=dates[1] , bounds=geometry)"
   ]
  },
  {
   "cell_type": "code",
   "execution_count": 51,
   "id": "31027bda-4833-4b15-8c24-e2a3ae572800",
   "metadata": {},
   "outputs": [
    {
     "data": {
      "text/plain": [
       "10.1582"
      ]
     },
     "execution_count": 51,
     "metadata": {},
     "output_type": "execute_result"
    }
   ],
   "source": [
    "s2_imgs.getInfo()['features'][0].get('properties')['CLOUD_COVERAGE_ASSESSMENT']"
   ]
  },
  {
   "cell_type": "markdown",
   "id": "0353cb6d-f14f-4d80-9f19-8c3cb7126c52",
   "metadata": {},
   "source": [
    "Number of images"
   ]
  },
  {
   "cell_type": "code",
   "execution_count": 64,
   "id": "34423455-a3a9-4011-98af-206e468b0422",
   "metadata": {},
   "outputs": [
    {
     "data": {
      "text/plain": [
       "26"
      ]
     },
     "execution_count": 64,
     "metadata": {},
     "output_type": "execute_result"
    }
   ],
   "source": [
    "s2_imgs.size().getInfo()"
   ]
  },
  {
   "cell_type": "code",
   "execution_count": 52,
   "id": "d2d2a532-8c3a-4dac-baab-246946178efa",
   "metadata": {},
   "outputs": [],
   "source": [
    "myDict2 = s2_imgs.getInfo()"
   ]
  },
  {
   "cell_type": "code",
   "execution_count": 63,
   "id": "56693eb5-9ff0-4273-9d6e-925aae94f373",
   "metadata": {},
   "outputs": [
    {
     "name": "stdout",
     "output_type": "stream",
     "text": [
      "0 10.1582\n",
      "1 18.4946\n",
      "2 19.9737\n",
      "3 57.2791\n",
      "4 69.7648\n",
      "5 0\n",
      "6 1.937\n",
      "7 6.9454\n",
      "8 16.4855\n",
      "9 0\n",
      "10 0\n",
      "11 29.3754\n",
      "12 0\n",
      "13 98.0081\n",
      "14 0\n",
      "15 0\n",
      "16 90.0543\n",
      "17 99.9021\n",
      "18 0\n",
      "19 51.3534\n",
      "20 0\n",
      "21 99.9965\n",
      "22 99.9962\n",
      "23 0.2658\n",
      "24 0\n",
      "25 0\n",
      "Mean cloud score is 29.615003846153847\n"
     ]
    }
   ],
   "source": [
    "cloudScore_s2 = np.array([])\n",
    "\n",
    "for i in range(s2_imgs.size().getInfo()):\n",
    "    val = myDict2['features'][i].get('properties')['CLOUD_COVERAGE_ASSESSMENT']\n",
    "    cloudScore_s2 = np.append(cloudScore_s2, val)\n",
    "    print(i, val)\n",
    "    \n",
    "print(f'Mean cloud score is {cloudScore_s2.mean()}')"
   ]
  },
  {
   "cell_type": "raw",
   "id": "dae41da2-ecce-473d-bdc0-87f3c5e69609",
   "metadata": {},
   "source": [
    "s2_imgs.getInfo()"
   ]
  },
  {
   "cell_type": "code",
   "execution_count": null,
   "id": "5b216462-9670-45a2-90b6-6124cf4cab4a",
   "metadata": {},
   "outputs": [],
   "source": [
    "myDict['features']"
   ]
  },
  {
   "cell_type": "code",
   "execution_count": null,
   "id": "fdeec602-cfd9-4c46-a476-e5d0e68081f1",
   "metadata": {},
   "outputs": [],
   "source": []
  },
  {
   "cell_type": "markdown",
   "id": "e2e48ebc-5018-4dd4-873a-cfdf4cbd4317",
   "metadata": {
    "tags": []
   },
   "source": [
    "# Checking the shapefiile data type "
   ]
  },
  {
   "cell_type": "code",
   "execution_count": 79,
   "id": "37397ba6-fc78-4672-a275-de866f9b7f25",
   "metadata": {},
   "outputs": [],
   "source": [
    "import shutil"
   ]
  },
  {
   "cell_type": "code",
   "execution_count": 81,
   "id": "dc05382e-5dc0-4711-96b0-4bea1ccbbe60",
   "metadata": {},
   "outputs": [],
   "source": [
    "extract= shutil.unpack_archive('Declarations_19722_Merge.zip')"
   ]
  },
  {
   "cell_type": "code",
   "execution_count": 84,
   "id": "6bef6053-49df-4678-81b1-cf7058334689",
   "metadata": {},
   "outputs": [],
   "source": [
    "test= gpd.read_file('Declarations_unzip/Declarations_19722_Merge.shp')"
   ]
  },
  {
   "cell_type": "raw",
   "id": "74a009f7-e695-40f7-a218-82d94fd5d2f8",
   "metadata": {},
   "source": [
    "type(test)"
   ]
  },
  {
   "cell_type": "raw",
   "id": "9dc79fde-8951-40c7-9479-5a6f8e6ff290",
   "metadata": {},
   "source": [
    "test.head()"
   ]
  },
  {
   "cell_type": "code",
   "execution_count": 87,
   "id": "d10ac167-373d-4745-9d40-4552884c2d7c",
   "metadata": {},
   "outputs": [
    {
     "data": {
      "text/html": [
       "<div>\n",
       "<style scoped>\n",
       "    .dataframe tbody tr th:only-of-type {\n",
       "        vertical-align: middle;\n",
       "    }\n",
       "\n",
       "    .dataframe tbody tr th {\n",
       "        vertical-align: top;\n",
       "    }\n",
       "\n",
       "    .dataframe thead th {\n",
       "        text-align: right;\n",
       "    }\n",
       "</style>\n",
       "<table border=\"1\" class=\"dataframe\">\n",
       "  <thead>\n",
       "    <tr style=\"text-align: right;\">\n",
       "      <th></th>\n",
       "      <th>aoi_code</th>\n",
       "      <th>geometry</th>\n",
       "    </tr>\n",
       "  </thead>\n",
       "  <tbody>\n",
       "    <tr>\n",
       "      <th>0</th>\n",
       "      <td>AOI01</td>\n",
       "      <td>POLYGON ((147.09960 -31.24462, 147.30960 -31.2...</td>\n",
       "    </tr>\n",
       "    <tr>\n",
       "      <th>1</th>\n",
       "      <td>AOI01</td>\n",
       "      <td>POLYGON ((147.09960 -31.24462, 147.30960 -31.2...</td>\n",
       "    </tr>\n",
       "    <tr>\n",
       "      <th>2</th>\n",
       "      <td>AOI02</td>\n",
       "      <td>POLYGON ((147.09960 -31.04462, 147.30960 -31.0...</td>\n",
       "    </tr>\n",
       "    <tr>\n",
       "      <th>3</th>\n",
       "      <td>AOI02</td>\n",
       "      <td>POLYGON ((147.09960 -31.04462, 147.30960 -31.0...</td>\n",
       "    </tr>\n",
       "    <tr>\n",
       "      <th>4</th>\n",
       "      <td>AOI0289</td>\n",
       "      <td>POLYGON ((147.49960 -32.44461, 147.70960 -32.4...</td>\n",
       "    </tr>\n",
       "  </tbody>\n",
       "</table>\n",
       "</div>"
      ],
      "text/plain": [
       "  aoi_code                                           geometry\n",
       "0    AOI01  POLYGON ((147.09960 -31.24462, 147.30960 -31.2...\n",
       "1    AOI01  POLYGON ((147.09960 -31.24462, 147.30960 -31.2...\n",
       "2    AOI02  POLYGON ((147.09960 -31.04462, 147.30960 -31.0...\n",
       "3    AOI02  POLYGON ((147.09960 -31.04462, 147.30960 -31.0...\n",
       "4  AOI0289  POLYGON ((147.49960 -32.44461, 147.70960 -32.4..."
      ]
     },
     "execution_count": 87,
     "metadata": {},
     "output_type": "execute_result"
    }
   ],
   "source": [
    "test_aoi.head()"
   ]
  },
  {
   "cell_type": "code",
   "execution_count": 88,
   "id": "afaf3e01-a535-4516-b94c-24f6366b4472",
   "metadata": {},
   "outputs": [
    {
     "data": {
      "text/plain": [
       "0     POLYGON ((147.62222 -32.27942, 147.62209 -32.2...\n",
       "1     POLYGON ((149.61555 -33.70254, 149.61556 -33.7...\n",
       "2     POLYGON ((151.06433 -33.87054, 151.06332 -33.8...\n",
       "3     POLYGON ((151.14805 -33.92725, 151.14858 -33.9...\n",
       "4     POLYGON ((150.87089 -33.82385, 150.87078 -33.8...\n",
       "5     POLYGON ((150.60737 -33.66288, 150.61112 -33.6...\n",
       "6     POLYGON ((150.76613 -33.94513, 150.76631 -33.9...\n",
       "7     POLYGON ((150.81664 -34.17323, 150.80916 -34.1...\n",
       "8     POLYGON ((151.03941 -33.88769, 151.03956 -33.8...\n",
       "9     MULTIPOLYGON (((151.31497 -33.55578, 151.31496...\n",
       "10    POLYGON ((151.15081 -32.81308, 151.15208 -32.8...\n",
       "11    POLYGON ((151.44728 -32.39910, 151.44611 -32.3...\n",
       "12    POLYGON ((150.95623 -33.85767, 150.95632 -33.8...\n",
       "13    POLYGON ((151.09654 -33.99094, 151.09654 -33.9...\n",
       "14    POLYGON ((150.61596 -33.61414, 150.61561 -33.6...\n",
       "15    MULTIPOLYGON (((151.23479 -33.54038, 151.23481...\n",
       "16    POLYGON ((150.64863 -34.67746, 150.63766 -34.6...\n",
       "17    MULTIPOLYGON (((151.64029 -33.05817, 151.64014...\n",
       "18    POLYGON ((149.92200 -33.47800, 149.92217 -33.4...\n",
       "19    POLYGON ((150.94982 -33.90542, 150.94998 -33.9...\n",
       "20    POLYGON ((151.64284 -32.71946, 151.64328 -32.7...\n",
       "21    MULTIPOLYGON (((151.32886 -33.66075, 151.32885...\n",
       "22    POLYGON ((150.77409 -33.63494, 150.77818 -33.6...\n",
       "23    MULTIPOLYGON (((150.87680 -34.54497, 150.87642...\n",
       "24    MULTIPOLYGON (((150.33445 -35.63150, 150.33445...\n",
       "25    POLYGON ((150.79494 -32.50098, 150.79926 -32.5...\n",
       "26    POLYGON ((151.11572 -34.07133, 151.11545 -34.0...\n",
       "27    POLYGON ((150.97992 -33.39366, 150.98014 -33.3...\n",
       "28    POLYGON ((149.05093 -34.44198, 149.05090 -34.4...\n",
       "29    POLYGON ((150.07271 -34.47458, 150.07264 -34.4...\n",
       "30    POLYGON ((150.34060 -33.85652, 150.34101 -33.8...\n",
       "31    MULTIPOLYGON (((150.93660 -34.49454, 150.93658...\n",
       "32    POLYGON ((151.03010 -33.88779, 151.02962 -33.8...\n",
       "33    MULTIPOLYGON (((152.22805 -32.70573, 152.22805...\n",
       "34    POLYGON ((150.48981 -32.23270, 150.48985 -32.2...\n",
       "35    MULTIPOLYGON (((153.01984 -30.64922, 153.01986...\n",
       "36    MULTIPOLYGON (((151.76983 -32.90087, 151.76980...\n",
       "37    MULTIPOLYGON (((152.12398 -32.78479, 152.12399...\n",
       "38    MULTIPOLYGON (((151.26545 -33.92630, 151.26533...\n",
       "39    POLYGON ((147.36031 -31.15568, 147.36004 -31.1...\n",
       "Name: geometry, dtype: geometry"
      ]
     },
     "execution_count": 88,
     "metadata": {},
     "output_type": "execute_result"
    }
   ],
   "source": [
    "test['geometry']"
   ]
  },
  {
   "cell_type": "code",
   "execution_count": 93,
   "id": "f027f9ab-7c05-461d-bbe0-bcc4426718ce",
   "metadata": {},
   "outputs": [
    {
     "data": {
      "text/plain": [
       "shapely.geometry.multipolygon.MultiPolygon"
      ]
     },
     "execution_count": 93,
     "metadata": {},
     "output_type": "execute_result"
    }
   ],
   "source": [
    "type(test['geometry'][37])"
   ]
  },
  {
   "cell_type": "code",
   "execution_count": null,
   "id": "750fb495-88de-419d-9ccf-1795ee84132a",
   "metadata": {},
   "outputs": [],
   "source": [
    "sydney_aoi[type(sydney_aoi['geometry']) == shapely.geometry.multipolygon.MultiPolygon) "
   ]
  },
  {
   "cell_type": "code",
   "execution_count": 90,
   "id": "edb1a0bb-aee7-46d6-87da-00b1b48d2ab2",
   "metadata": {},
   "outputs": [
    {
     "data": {
      "image/svg+xml": [
       "<svg xmlns=\"http://www.w3.org/2000/svg\" xmlns:xlink=\"http://www.w3.org/1999/xlink\" width=\"100.0\" height=\"100.0\" viewBox=\"147.09119654580408 -31.253018412374594 0.22679999999999723 0.22680000000000433\" preserveAspectRatio=\"xMinYMin meet\"><g transform=\"matrix(1,0,0,-1,0,-62.279236824749184)\"><path fill-rule=\"evenodd\" fill=\"#66cc99\" stroke=\"#555555\" stroke-width=\"0.004536000000000087\" opacity=\"0.6\" d=\"M 147.09959654580408,-31.244618412374592 L 147.30959654580408,-31.244618412374592 L 147.30959654580408,-31.03461841237459 L 147.09959654580408,-31.03461841237459 L 147.09959654580408,-31.244618412374592 z\" /></g></svg>"
      ],
      "text/plain": [
       "<shapely.geometry.polygon.Polygon at 0x7f9a18d48550>"
      ]
     },
     "execution_count": 90,
     "metadata": {},
     "output_type": "execute_result"
    }
   ],
   "source": [
    "sydney_aoi['geometry']"
   ]
  },
  {
   "cell_type": "markdown",
   "id": "daf64de2-db19-43fd-afca-3597380d791c",
   "metadata": {},
   "source": [
    "# Putting useful information into a dataframe"
   ]
  },
  {
   "cell_type": "markdown",
   "id": "d2fb10a1-b5eb-4d94-9586-bad79d79806f",
   "metadata": {},
   "source": [
    "* CLOUD_COVER\n",
    "* polygon\n",
    "* satellite image ID associated with the polygon\n",
    "* date associated with the specific satellite image\n",
    "\n",
    "\n",
    "We need to find out what other useful information is in the properties of the imageCollection "
   ]
  },
  {
   "cell_type": "markdown",
   "id": "81ab46f6-0e93-4725-a9e0-3c708f0b4d78",
   "metadata": {},
   "source": [
    "Checking the number of polygons in `js` which comes from `sydney_aoi`"
   ]
  },
  {
   "cell_type": "code",
   "execution_count": 137,
   "id": "23f66f94-25e0-4585-8498-cf80de88cce1",
   "metadata": {},
   "outputs": [
    {
     "data": {
      "text/plain": [
       "481"
      ]
     },
     "execution_count": 137,
     "metadata": {},
     "output_type": "execute_result"
    }
   ],
   "source": [
    "len(js['features'])"
   ]
  },
  {
   "cell_type": "markdown",
   "id": "8ba860e0-6009-48b1-8254-ad493faa6afc",
   "metadata": {},
   "source": [
    "Can also be done with "
   ]
  },
  {
   "cell_type": "code",
   "execution_count": 139,
   "id": "92fb3c5a-57dc-4fd6-ba76-25f9b44fba3f",
   "metadata": {},
   "outputs": [
    {
     "data": {
      "text/plain": [
       "481"
      ]
     },
     "execution_count": 139,
     "metadata": {},
     "output_type": "execute_result"
    }
   ],
   "source": [
    "len(sydney_aoi)"
   ]
  },
  {
   "cell_type": "markdown",
   "id": "229f12f9-29de-430d-9ea2-7a752d57b6f9",
   "metadata": {},
   "source": [
    "Checking the `myDict['features'][0].get('properties')` dictionary, some interesting properties to explore are: \n",
    "* CLOUD_COVER\n",
    "* cloud_probability\n",
    "* DATE_ACQUIRED\n",
    "* 'system:index' \n",
    "\n",
    "this is another date, one day after DATE_ACQUIRED.\n",
    "* CLOUD_COVER_LAND\n",
    "* COLLECTION_NUMBER\n",
    "\n",
    "Checking the `myDict['features'][0].get('id')` dictionary has a date that is one day after DATE_acquired.\n"
   ]
  },
  {
   "cell_type": "code",
   "execution_count": null,
   "id": "1c2040fd-c1d9-4562-9cd2-46b70f22d2bd",
   "metadata": {},
   "outputs": [],
   "source": [
    "propertyArr = np.array([])\n",
    "\n",
    "# propertyDF = pd.DataFrame()\n",
    "myFeatures = ['CLOUD_COVER', 'cloud_probability', 'DATE_ACQUIRED', 'system:index', 'CLOUD_COVER_LAND', 'COLLECTION_NUMBER']\n",
    "\n",
    "\n",
    "for i in range(len(myDict['features'])):\n",
    "    for j in range(len(myFeatures)):\n",
    "        val = myDict['features'][i].get('properties')[myFeatures[j]]\n",
    "        propertyArr = np.append(propertyArr, val)\n",
    "    print(i, val) \n",
    "\n",
    "propertyDF = propertyList.DataFrame\n",
    "\n",
    "# print(f'Mean cloud score is {cloudScore_landsat.mean()}')"
   ]
  },
  {
   "cell_type": "code",
   "execution_count": 147,
   "id": "ae0e118b-a942-456b-b0e5-29aeca4362e1",
   "metadata": {},
   "outputs": [
    {
     "data": {
      "text/plain": [
       "array([3.480e+00, 1.097e+01, 4.043e+01, 7.651e+01, 3.200e-01, 5.000e-02,\n",
       "       5.469e+01, 1.080e+01, 2.000e-02, 1.417e+01, 1.960e+00, 1.000e-02])"
      ]
     },
     "execution_count": 147,
     "metadata": {},
     "output_type": "execute_result"
    }
   ],
   "source": [
    "cloudScore_landsat"
   ]
  },
  {
   "cell_type": "code",
   "execution_count": null,
   "id": "562ac352-8935-41b6-8240-27affa14c6fc",
   "metadata": {},
   "outputs": [],
   "source": [
    "myDict['features']"
   ]
  },
  {
   "cell_type": "raw",
   "id": "c19d024a-b988-4025-beab-0f9b4bb3e22d",
   "metadata": {},
   "source": [
    "myDict['features'][0].get('properties')"
   ]
  },
  {
   "cell_type": "markdown",
   "id": "3d74479f-92e5-41b4-93d1-cc64ef369062",
   "metadata": {},
   "source": [
    "# Setting up a Dataframe"
   ]
  },
  {
   "cell_type": "code",
   "execution_count": 183,
   "id": "eb1ba097-cf3d-422c-99ff-7db20a1241a8",
   "metadata": {},
   "outputs": [
    {
     "data": {
      "text/html": [
       "<div>\n",
       "<style scoped>\n",
       "    .dataframe tbody tr th:only-of-type {\n",
       "        vertical-align: middle;\n",
       "    }\n",
       "\n",
       "    .dataframe tbody tr th {\n",
       "        vertical-align: top;\n",
       "    }\n",
       "\n",
       "    .dataframe thead th {\n",
       "        text-align: right;\n",
       "    }\n",
       "</style>\n",
       "<table border=\"1\" class=\"dataframe\">\n",
       "  <thead>\n",
       "    <tr style=\"text-align: right;\">\n",
       "      <th></th>\n",
       "      <th>Source</th>\n",
       "      <th>Co-ordinates</th>\n",
       "      <th>Cloud Cover</th>\n",
       "    </tr>\n",
       "  </thead>\n",
       "  <tbody>\n",
       "    <tr>\n",
       "      <th>0</th>\n",
       "      <td>[147.20459654580407, -31.139618412374592]</td>\n",
       "      <td>NaN</td>\n",
       "      <td>NaN</td>\n",
       "    </tr>\n",
       "    <tr>\n",
       "      <th>1</th>\n",
       "      <td>NaN</td>\n",
       "      <td>NaN</td>\n",
       "      <td>NaN</td>\n",
       "    </tr>\n",
       "    <tr>\n",
       "      <th>2</th>\n",
       "      <td>NaN</td>\n",
       "      <td>NaN</td>\n",
       "      <td>NaN</td>\n",
       "    </tr>\n",
       "    <tr>\n",
       "      <th>3</th>\n",
       "      <td>NaN</td>\n",
       "      <td>NaN</td>\n",
       "      <td>NaN</td>\n",
       "    </tr>\n",
       "    <tr>\n",
       "      <th>4</th>\n",
       "      <td>NaN</td>\n",
       "      <td>NaN</td>\n",
       "      <td>NaN</td>\n",
       "    </tr>\n",
       "    <tr>\n",
       "      <th>5</th>\n",
       "      <td>NaN</td>\n",
       "      <td>NaN</td>\n",
       "      <td>NaN</td>\n",
       "    </tr>\n",
       "    <tr>\n",
       "      <th>6</th>\n",
       "      <td>NaN</td>\n",
       "      <td>NaN</td>\n",
       "      <td>NaN</td>\n",
       "    </tr>\n",
       "    <tr>\n",
       "      <th>7</th>\n",
       "      <td>NaN</td>\n",
       "      <td>NaN</td>\n",
       "      <td>NaN</td>\n",
       "    </tr>\n",
       "    <tr>\n",
       "      <th>8</th>\n",
       "      <td>NaN</td>\n",
       "      <td>NaN</td>\n",
       "      <td>NaN</td>\n",
       "    </tr>\n",
       "    <tr>\n",
       "      <th>9</th>\n",
       "      <td>NaN</td>\n",
       "      <td>NaN</td>\n",
       "      <td>NaN</td>\n",
       "    </tr>\n",
       "  </tbody>\n",
       "</table>\n",
       "</div>"
      ],
      "text/plain": [
       "                                      Source Co-ordinates Cloud Cover\n",
       "0  [147.20459654580407, -31.139618412374592]          NaN         NaN\n",
       "1                                        NaN          NaN         NaN\n",
       "2                                        NaN          NaN         NaN\n",
       "3                                        NaN          NaN         NaN\n",
       "4                                        NaN          NaN         NaN\n",
       "5                                        NaN          NaN         NaN\n",
       "6                                        NaN          NaN         NaN\n",
       "7                                        NaN          NaN         NaN\n",
       "8                                        NaN          NaN         NaN\n",
       "9                                        NaN          NaN         NaN"
      ]
     },
     "execution_count": 183,
     "metadata": {},
     "output_type": "execute_result"
    }
   ],
   "source": [
    "n_total=10\n",
    "properties_df = pd.DataFrame(index=np.arange(0, n_total), columns=['Source', 'Co-ordinates', 'Cloud Cover'])\n",
    "\n",
    "properties_df.Source[0] = polygon\n",
    "properties_df"
   ]
  },
  {
   "cell_type": "code",
   "execution_count": null,
   "id": "beef50e6-0a71-4159-8c7b-50de55486ca1",
   "metadata": {},
   "outputs": [],
   "source": [
    "properties_df.... [0+n_landsat] = s2_Dict...[0]"
   ]
  },
  {
   "cell_type": "code",
   "execution_count": 211,
   "id": "e10bc28d-84b6-4187-aa34-51c3b8fdc4d2",
   "metadata": {},
   "outputs": [],
   "source": [
    "def extract_properties(landsat_imgs, s2_imgs):\n",
    "    landsat_dict = landsat_imgs.getInfo()\n",
    "    s2_dict = s2_imgs.getInfo()\n",
    "    \n",
    "    n_landsat = len(landsat_dict['features'])\n",
    "    n_s2 = len(s2_dict['features'])\n",
    "    \n",
    "    n_total = n_landsat + n_s2 \n",
    "    \n",
    "    properties_df = pd.DataFrame(index=np.arange(0, n_total), columns=['id', 'source', 'cloud_cover', 'centerpoint', 'coordinates']) \n",
    "    \n",
    "    for i in range(n_landsat):\n",
    "        properties_df['id'][i] = landsat_dict['features'][i].get('id')\n",
    "        properties_df['source'][i] = 'landsat'\n",
    "        properties_df['cloud_cover'][i] = landsat_dict['features'][i].get('properties')['CLOUD_COVER']      \n",
    "        #find area/co-ordinates associated with each image\n",
    "        \n",
    "    for i in range(n_s2):\n",
    "        j = i + n_landsat\n",
    "        properties_df['id'][j] = s2_dict['features'][i].get('id')\n",
    "        properties_df['source'][j] = 's2'\n",
    "        properties_df['cloud_cover'][j] = s2_dict['features'][i].get('properties')['CLOUD_COVERAGE_ASSESSMENT']\n",
    "        #find area/co-ordinates associated with each image\n",
    "    \n",
    "    return properties_df"
   ]
  },
  {
   "cell_type": "code",
   "execution_count": 206,
   "id": "113101f4-455d-40ab-b580-4c1718370f85",
   "metadata": {},
   "outputs": [],
   "source": [
    "landsat_imgs = get_landsat_collection(date_start=dates[0], date_end=dates[1] , bounds=bounds)"
   ]
  },
  {
   "cell_type": "code",
   "execution_count": null,
   "id": "8e9d17e1-b3c6-44b5-b1f1-5b7cc1ae3ca3",
   "metadata": {},
   "outputs": [],
   "source": [
    "landsat_imgs.getInfo()"
   ]
  },
  {
   "cell_type": "code",
   "execution_count": null,
   "id": "27ee8bdd-06a5-49b6-a38b-e09b89671e3a",
   "metadata": {},
   "outputs": [],
   "source": [
    "test_df = extract_properties(landsat_imgs, s2_imgs)"
   ]
  },
  {
   "cell_type": "code",
   "execution_count": 213,
   "id": "74879e9b-4d80-46e1-8f37-e0008d6f8873",
   "metadata": {},
   "outputs": [
    {
     "data": {
      "text/html": [
       "<div>\n",
       "<style scoped>\n",
       "    .dataframe tbody tr th:only-of-type {\n",
       "        vertical-align: middle;\n",
       "    }\n",
       "\n",
       "    .dataframe tbody tr th {\n",
       "        vertical-align: top;\n",
       "    }\n",
       "\n",
       "    .dataframe thead th {\n",
       "        text-align: right;\n",
       "    }\n",
       "</style>\n",
       "<table border=\"1\" class=\"dataframe\">\n",
       "  <thead>\n",
       "    <tr style=\"text-align: right;\">\n",
       "      <th></th>\n",
       "      <th>id</th>\n",
       "      <th>source</th>\n",
       "      <th>cloud_cover</th>\n",
       "      <th>centerpoint</th>\n",
       "      <th>coordinates</th>\n",
       "    </tr>\n",
       "  </thead>\n",
       "  <tbody>\n",
       "    <tr>\n",
       "      <th>0</th>\n",
       "      <td>2021-08-17</td>\n",
       "      <td>landsat</td>\n",
       "      <td>3.48</td>\n",
       "      <td>NaN</td>\n",
       "      <td>NaN</td>\n",
       "    </tr>\n",
       "    <tr>\n",
       "      <th>1</th>\n",
       "      <td>2021-09-02</td>\n",
       "      <td>landsat</td>\n",
       "      <td>10.97</td>\n",
       "      <td>NaN</td>\n",
       "      <td>NaN</td>\n",
       "    </tr>\n",
       "    <tr>\n",
       "      <th>2</th>\n",
       "      <td>2021-08-08</td>\n",
       "      <td>landsat</td>\n",
       "      <td>40.43</td>\n",
       "      <td>NaN</td>\n",
       "      <td>NaN</td>\n",
       "    </tr>\n",
       "    <tr>\n",
       "      <th>3</th>\n",
       "      <td>2021-08-24</td>\n",
       "      <td>landsat</td>\n",
       "      <td>76.51</td>\n",
       "      <td>NaN</td>\n",
       "      <td>NaN</td>\n",
       "    </tr>\n",
       "    <tr>\n",
       "      <th>4</th>\n",
       "      <td>2021-08-15</td>\n",
       "      <td>landsat</td>\n",
       "      <td>0.32</td>\n",
       "      <td>NaN</td>\n",
       "      <td>NaN</td>\n",
       "    </tr>\n",
       "    <tr>\n",
       "      <th>5</th>\n",
       "      <td>2021-08-31</td>\n",
       "      <td>landsat</td>\n",
       "      <td>0.05</td>\n",
       "      <td>NaN</td>\n",
       "      <td>NaN</td>\n",
       "    </tr>\n",
       "    <tr>\n",
       "      <th>6</th>\n",
       "      <td>2021-08-06</td>\n",
       "      <td>landsat</td>\n",
       "      <td>54.69</td>\n",
       "      <td>NaN</td>\n",
       "      <td>NaN</td>\n",
       "    </tr>\n",
       "    <tr>\n",
       "      <th>7</th>\n",
       "      <td>2021-08-22</td>\n",
       "      <td>landsat</td>\n",
       "      <td>10.8</td>\n",
       "      <td>NaN</td>\n",
       "      <td>NaN</td>\n",
       "    </tr>\n",
       "    <tr>\n",
       "      <th>8</th>\n",
       "      <td>2021-08-13</td>\n",
       "      <td>landsat</td>\n",
       "      <td>0.02</td>\n",
       "      <td>NaN</td>\n",
       "      <td>NaN</td>\n",
       "    </tr>\n",
       "    <tr>\n",
       "      <th>9</th>\n",
       "      <td>2021-08-29</td>\n",
       "      <td>landsat</td>\n",
       "      <td>14.17</td>\n",
       "      <td>NaN</td>\n",
       "      <td>NaN</td>\n",
       "    </tr>\n",
       "    <tr>\n",
       "      <th>10</th>\n",
       "      <td>2021-08-04</td>\n",
       "      <td>landsat</td>\n",
       "      <td>1.96</td>\n",
       "      <td>NaN</td>\n",
       "      <td>NaN</td>\n",
       "    </tr>\n",
       "    <tr>\n",
       "      <th>11</th>\n",
       "      <td>2021-08-20</td>\n",
       "      <td>landsat</td>\n",
       "      <td>0.01</td>\n",
       "      <td>NaN</td>\n",
       "      <td>NaN</td>\n",
       "    </tr>\n",
       "    <tr>\n",
       "      <th>12</th>\n",
       "      <td>2021-08-02</td>\n",
       "      <td>s2</td>\n",
       "      <td>10.1582</td>\n",
       "      <td>NaN</td>\n",
       "      <td>NaN</td>\n",
       "    </tr>\n",
       "    <tr>\n",
       "      <th>13</th>\n",
       "      <td>2021-08-03</td>\n",
       "      <td>s2</td>\n",
       "      <td>18.4946</td>\n",
       "      <td>NaN</td>\n",
       "      <td>NaN</td>\n",
       "    </tr>\n",
       "    <tr>\n",
       "      <th>14</th>\n",
       "      <td>2021-08-04</td>\n",
       "      <td>s2</td>\n",
       "      <td>19.9737</td>\n",
       "      <td>NaN</td>\n",
       "      <td>NaN</td>\n",
       "    </tr>\n",
       "    <tr>\n",
       "      <th>15</th>\n",
       "      <td>2021-08-05</td>\n",
       "      <td>s2</td>\n",
       "      <td>57.2791</td>\n",
       "      <td>NaN</td>\n",
       "      <td>NaN</td>\n",
       "    </tr>\n",
       "    <tr>\n",
       "      <th>16</th>\n",
       "      <td>2021-08-07</td>\n",
       "      <td>s2</td>\n",
       "      <td>69.7648</td>\n",
       "      <td>NaN</td>\n",
       "      <td>NaN</td>\n",
       "    </tr>\n",
       "    <tr>\n",
       "      <th>17</th>\n",
       "      <td>2021-08-08</td>\n",
       "      <td>s2</td>\n",
       "      <td>0</td>\n",
       "      <td>NaN</td>\n",
       "      <td>NaN</td>\n",
       "    </tr>\n",
       "    <tr>\n",
       "      <th>18</th>\n",
       "      <td>2021-08-10</td>\n",
       "      <td>s2</td>\n",
       "      <td>1.937</td>\n",
       "      <td>NaN</td>\n",
       "      <td>NaN</td>\n",
       "    </tr>\n",
       "    <tr>\n",
       "      <th>19</th>\n",
       "      <td>2021-08-12</td>\n",
       "      <td>s2</td>\n",
       "      <td>6.9454</td>\n",
       "      <td>NaN</td>\n",
       "      <td>NaN</td>\n",
       "    </tr>\n",
       "    <tr>\n",
       "      <th>20</th>\n",
       "      <td>2021-08-13</td>\n",
       "      <td>s2</td>\n",
       "      <td>16.4855</td>\n",
       "      <td>NaN</td>\n",
       "      <td>NaN</td>\n",
       "    </tr>\n",
       "    <tr>\n",
       "      <th>21</th>\n",
       "      <td>2021-08-14</td>\n",
       "      <td>s2</td>\n",
       "      <td>0</td>\n",
       "      <td>NaN</td>\n",
       "      <td>NaN</td>\n",
       "    </tr>\n",
       "    <tr>\n",
       "      <th>22</th>\n",
       "      <td>2021-08-15</td>\n",
       "      <td>s2</td>\n",
       "      <td>0</td>\n",
       "      <td>NaN</td>\n",
       "      <td>NaN</td>\n",
       "    </tr>\n",
       "    <tr>\n",
       "      <th>23</th>\n",
       "      <td>2021-08-17</td>\n",
       "      <td>s2</td>\n",
       "      <td>29.3754</td>\n",
       "      <td>NaN</td>\n",
       "      <td>NaN</td>\n",
       "    </tr>\n",
       "    <tr>\n",
       "      <th>24</th>\n",
       "      <td>2021-08-18</td>\n",
       "      <td>s2</td>\n",
       "      <td>0</td>\n",
       "      <td>NaN</td>\n",
       "      <td>NaN</td>\n",
       "    </tr>\n",
       "    <tr>\n",
       "      <th>25</th>\n",
       "      <td>2021-08-19</td>\n",
       "      <td>s2</td>\n",
       "      <td>98.0081</td>\n",
       "      <td>NaN</td>\n",
       "      <td>NaN</td>\n",
       "    </tr>\n",
       "    <tr>\n",
       "      <th>26</th>\n",
       "      <td>2021-08-20</td>\n",
       "      <td>s2</td>\n",
       "      <td>0</td>\n",
       "      <td>NaN</td>\n",
       "      <td>NaN</td>\n",
       "    </tr>\n",
       "    <tr>\n",
       "      <th>27</th>\n",
       "      <td>2021-08-22</td>\n",
       "      <td>s2</td>\n",
       "      <td>0</td>\n",
       "      <td>NaN</td>\n",
       "      <td>NaN</td>\n",
       "    </tr>\n",
       "    <tr>\n",
       "      <th>28</th>\n",
       "      <td>2021-08-23</td>\n",
       "      <td>s2</td>\n",
       "      <td>90.0543</td>\n",
       "      <td>NaN</td>\n",
       "      <td>NaN</td>\n",
       "    </tr>\n",
       "    <tr>\n",
       "      <th>29</th>\n",
       "      <td>2021-08-24</td>\n",
       "      <td>s2</td>\n",
       "      <td>99.9021</td>\n",
       "      <td>NaN</td>\n",
       "      <td>NaN</td>\n",
       "    </tr>\n",
       "    <tr>\n",
       "      <th>30</th>\n",
       "      <td>2021-08-25</td>\n",
       "      <td>s2</td>\n",
       "      <td>0</td>\n",
       "      <td>NaN</td>\n",
       "      <td>NaN</td>\n",
       "    </tr>\n",
       "    <tr>\n",
       "      <th>31</th>\n",
       "      <td>2021-08-27</td>\n",
       "      <td>s2</td>\n",
       "      <td>51.3534</td>\n",
       "      <td>NaN</td>\n",
       "      <td>NaN</td>\n",
       "    </tr>\n",
       "    <tr>\n",
       "      <th>32</th>\n",
       "      <td>2021-08-28</td>\n",
       "      <td>s2</td>\n",
       "      <td>0</td>\n",
       "      <td>NaN</td>\n",
       "      <td>NaN</td>\n",
       "    </tr>\n",
       "    <tr>\n",
       "      <th>33</th>\n",
       "      <td>2021-08-29</td>\n",
       "      <td>s2</td>\n",
       "      <td>99.9965</td>\n",
       "      <td>NaN</td>\n",
       "      <td>NaN</td>\n",
       "    </tr>\n",
       "    <tr>\n",
       "      <th>34</th>\n",
       "      <td>2021-08-30</td>\n",
       "      <td>s2</td>\n",
       "      <td>99.9962</td>\n",
       "      <td>NaN</td>\n",
       "      <td>NaN</td>\n",
       "    </tr>\n",
       "    <tr>\n",
       "      <th>35</th>\n",
       "      <td>2021-09-01</td>\n",
       "      <td>s2</td>\n",
       "      <td>0.2658</td>\n",
       "      <td>NaN</td>\n",
       "      <td>NaN</td>\n",
       "    </tr>\n",
       "    <tr>\n",
       "      <th>36</th>\n",
       "      <td>2021-09-02</td>\n",
       "      <td>s2</td>\n",
       "      <td>0</td>\n",
       "      <td>NaN</td>\n",
       "      <td>NaN</td>\n",
       "    </tr>\n",
       "    <tr>\n",
       "      <th>37</th>\n",
       "      <td>2021-09-03</td>\n",
       "      <td>s2</td>\n",
       "      <td>0</td>\n",
       "      <td>NaN</td>\n",
       "      <td>NaN</td>\n",
       "    </tr>\n",
       "  </tbody>\n",
       "</table>\n",
       "</div>"
      ],
      "text/plain": [
       "            id   source cloud_cover centerpoint coordinates\n",
       "0   2021-08-17  landsat        3.48         NaN         NaN\n",
       "1   2021-09-02  landsat       10.97         NaN         NaN\n",
       "2   2021-08-08  landsat       40.43         NaN         NaN\n",
       "3   2021-08-24  landsat       76.51         NaN         NaN\n",
       "4   2021-08-15  landsat        0.32         NaN         NaN\n",
       "5   2021-08-31  landsat        0.05         NaN         NaN\n",
       "6   2021-08-06  landsat       54.69         NaN         NaN\n",
       "7   2021-08-22  landsat        10.8         NaN         NaN\n",
       "8   2021-08-13  landsat        0.02         NaN         NaN\n",
       "9   2021-08-29  landsat       14.17         NaN         NaN\n",
       "10  2021-08-04  landsat        1.96         NaN         NaN\n",
       "11  2021-08-20  landsat        0.01         NaN         NaN\n",
       "12  2021-08-02       s2     10.1582         NaN         NaN\n",
       "13  2021-08-03       s2     18.4946         NaN         NaN\n",
       "14  2021-08-04       s2     19.9737         NaN         NaN\n",
       "15  2021-08-05       s2     57.2791         NaN         NaN\n",
       "16  2021-08-07       s2     69.7648         NaN         NaN\n",
       "17  2021-08-08       s2           0         NaN         NaN\n",
       "18  2021-08-10       s2       1.937         NaN         NaN\n",
       "19  2021-08-12       s2      6.9454         NaN         NaN\n",
       "20  2021-08-13       s2     16.4855         NaN         NaN\n",
       "21  2021-08-14       s2           0         NaN         NaN\n",
       "22  2021-08-15       s2           0         NaN         NaN\n",
       "23  2021-08-17       s2     29.3754         NaN         NaN\n",
       "24  2021-08-18       s2           0         NaN         NaN\n",
       "25  2021-08-19       s2     98.0081         NaN         NaN\n",
       "26  2021-08-20       s2           0         NaN         NaN\n",
       "27  2021-08-22       s2           0         NaN         NaN\n",
       "28  2021-08-23       s2     90.0543         NaN         NaN\n",
       "29  2021-08-24       s2     99.9021         NaN         NaN\n",
       "30  2021-08-25       s2           0         NaN         NaN\n",
       "31  2021-08-27       s2     51.3534         NaN         NaN\n",
       "32  2021-08-28       s2           0         NaN         NaN\n",
       "33  2021-08-29       s2     99.9965         NaN         NaN\n",
       "34  2021-08-30       s2     99.9962         NaN         NaN\n",
       "35  2021-09-01       s2      0.2658         NaN         NaN\n",
       "36  2021-09-02       s2           0         NaN         NaN\n",
       "37  2021-09-03       s2           0         NaN         NaN"
      ]
     },
     "execution_count": 213,
     "metadata": {},
     "output_type": "execute_result"
    }
   ],
   "source": [
    "test_df"
   ]
  }
 ],
 "metadata": {
  "environment": {
   "kernel": "python3",
   "name": "common-cpu.m95",
   "type": "gcloud",
   "uri": "gcr.io/deeplearning-platform-release/base-cpu:m95"
  },
  "kernelspec": {
   "display_name": "Python 3",
   "language": "python",
   "name": "python3"
  },
  "language_info": {
   "codemirror_mode": {
    "name": "ipython",
    "version": 3
   },
   "file_extension": ".py",
   "mimetype": "text/x-python",
   "name": "python",
   "nbconvert_exporter": "python",
   "pygments_lexer": "ipython3",
   "version": "3.7.12"
  }
 },
 "nbformat": 4,
 "nbformat_minor": 5
}
