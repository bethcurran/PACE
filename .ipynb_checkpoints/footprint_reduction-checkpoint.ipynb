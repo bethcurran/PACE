{
 "cells": [
  {
   "cell_type": "markdown",
   "id": "54eeaa22-0a00-492c-8c2b-ffcd54f71403",
   "metadata": {},
   "source": [
    "**Install & import packages**"
   ]
  },
  {
   "cell_type": "code",
   "execution_count": 1,
   "id": "ad669c1c-3216-4fd3-b06d-d0344dbef865",
   "metadata": {},
   "outputs": [
    {
     "name": "stdout",
     "output_type": "stream",
     "text": [
      "Collecting ml4floods\n",
      "  Cloning https://github.com/spaceml-org/ml4floods to /tmp/pip-install-78_q5tss/ml4floods_2d67ea769b4e47c2ad411e8938b97fd4\n",
      "  Running command git clone --filter=blob:none --quiet https://github.com/spaceml-org/ml4floods /tmp/pip-install-78_q5tss/ml4floods_2d67ea769b4e47c2ad411e8938b97fd4\n",
      "  Resolved https://github.com/spaceml-org/ml4floods to commit 0f8fdc4b6b891ed249f52fda19ee23c50462e237\n",
      "  Preparing metadata (setup.py) ... \u001b[?25ldone\n",
      "\u001b[?25hRequirement already satisfied: torch in /opt/conda/lib/python3.7/site-packages (from ml4floods) (1.12.1)\n",
      "Requirement already satisfied: torchvision in /opt/conda/lib/python3.7/site-packages (from ml4floods) (0.13.1)\n",
      "Requirement already satisfied: pytorch-lightning in /opt/conda/lib/python3.7/site-packages (from ml4floods) (1.7.4)\n",
      "Requirement already satisfied: numpy in /opt/conda/lib/python3.7/site-packages (from ml4floods) (1.19.5)\n",
      "Requirement already satisfied: matplotlib in /opt/conda/lib/python3.7/site-packages (from ml4floods) (3.5.2)\n",
      "Requirement already satisfied: seaborn in /opt/conda/lib/python3.7/site-packages (from ml4floods) (0.11.2)\n",
      "Requirement already satisfied: scipy in /opt/conda/lib/python3.7/site-packages (from ml4floods) (1.7.3)\n",
      "Requirement already satisfied: pandas in /opt/conda/lib/python3.7/site-packages (from ml4floods) (1.3.5)\n",
      "Requirement already satisfied: rasterio in /opt/conda/lib/python3.7/site-packages (from ml4floods) (1.2.10)\n",
      "Requirement already satisfied: geopandas in /opt/conda/lib/python3.7/site-packages (from ml4floods) (0.10.2)\n",
      "Requirement already satisfied: tqdm in /opt/conda/lib/python3.7/site-packages (from ml4floods) (4.64.0)\n",
      "Requirement already satisfied: opencv-python in /opt/conda/lib/python3.7/site-packages (from ml4floods) (4.6.0.66)\n",
      "Requirement already satisfied: albumentations in /opt/conda/lib/python3.7/site-packages (from ml4floods) (1.2.1)\n",
      "Requirement already satisfied: google-cloud-storage in /opt/conda/lib/python3.7/site-packages (from ml4floods) (2.5.0)\n",
      "Requirement already satisfied: fsspec in /opt/conda/lib/python3.7/site-packages (from ml4floods) (2022.7.1)\n",
      "Requirement already satisfied: gcsfs in /opt/conda/lib/python3.7/site-packages (from ml4floods) (2022.7.1)\n",
      "Requirement already satisfied: requests_html in /opt/conda/lib/python3.7/site-packages (from ml4floods) (0.10.0)\n",
      "Requirement already satisfied: earthengine-api in /opt/conda/lib/python3.7/site-packages (from ml4floods) (0.1.322)\n",
      "Requirement already satisfied: mercantile in /opt/conda/lib/python3.7/site-packages (from ml4floods) (1.2.1)\n",
      "Requirement already satisfied: qudida>=0.0.4 in /opt/conda/lib/python3.7/site-packages (from albumentations->ml4floods) (0.0.4)\n",
      "Requirement already satisfied: opencv-python-headless>=4.1.1 in /opt/conda/lib/python3.7/site-packages (from albumentations->ml4floods) (4.6.0.66)\n",
      "Requirement already satisfied: scikit-image>=0.16.1 in /opt/conda/lib/python3.7/site-packages (from albumentations->ml4floods) (0.19.3)\n",
      "Requirement already satisfied: PyYAML in /opt/conda/lib/python3.7/site-packages (from albumentations->ml4floods) (6.0)\n",
      "Requirement already satisfied: six in /opt/conda/lib/python3.7/site-packages (from earthengine-api->ml4floods) (1.16.0)\n",
      "Requirement already satisfied: httplib2shim in /opt/conda/lib/python3.7/site-packages (from earthengine-api->ml4floods) (0.0.3)\n",
      "Requirement already satisfied: google-auth-httplib2>=0.0.3 in /opt/conda/lib/python3.7/site-packages (from earthengine-api->ml4floods) (0.1.0)\n",
      "Requirement already satisfied: google-api-python-client<2,>=1.12.1 in /opt/conda/lib/python3.7/site-packages (from earthengine-api->ml4floods) (1.12.11)\n",
      "Requirement already satisfied: google-auth>=1.4.1 in /opt/conda/lib/python3.7/site-packages (from earthengine-api->ml4floods) (2.10.0)\n",
      "Requirement already satisfied: httplib2<1dev,>=0.9.2 in /opt/conda/lib/python3.7/site-packages (from earthengine-api->ml4floods) (0.20.4)\n",
      "Requirement already satisfied: future in /opt/conda/lib/python3.7/site-packages (from earthengine-api->ml4floods) (0.18.2)\n",
      "Requirement already satisfied: google-auth-oauthlib in /opt/conda/lib/python3.7/site-packages (from gcsfs->ml4floods) (0.4.6)\n",
      "Requirement already satisfied: decorator>4.1.2 in /opt/conda/lib/python3.7/site-packages (from gcsfs->ml4floods) (5.1.1)\n",
      "Requirement already satisfied: aiohttp in /opt/conda/lib/python3.7/site-packages (from gcsfs->ml4floods) (3.8.1)\n",
      "Requirement already satisfied: requests in /opt/conda/lib/python3.7/site-packages (from gcsfs->ml4floods) (2.28.1)\n",
      "Requirement already satisfied: fiona>=1.8 in /opt/conda/lib/python3.7/site-packages (from geopandas->ml4floods) (1.8.21)\n",
      "Requirement already satisfied: pyproj>=2.2.0 in /opt/conda/lib/python3.7/site-packages (from geopandas->ml4floods) (3.2.1)\n",
      "Requirement already satisfied: shapely>=1.6 in /opt/conda/lib/python3.7/site-packages (from geopandas->ml4floods) (1.8.4)\n",
      "Requirement already satisfied: python-dateutil>=2.7.3 in /opt/conda/lib/python3.7/site-packages (from pandas->ml4floods) (2.8.2)\n",
      "Requirement already satisfied: pytz>=2017.3 in /opt/conda/lib/python3.7/site-packages (from pandas->ml4floods) (2022.1)\n",
      "Requirement already satisfied: google-resumable-media>=2.3.2 in /opt/conda/lib/python3.7/site-packages (from google-cloud-storage->ml4floods) (2.3.3)\n",
      "Requirement already satisfied: google-api-core!=2.0.*,!=2.1.*,!=2.2.*,!=2.3.0,<3.0.0dev,>=1.31.5 in /opt/conda/lib/python3.7/site-packages (from google-cloud-storage->ml4floods) (2.8.1)\n",
      "Requirement already satisfied: google-cloud-core<3.0dev,>=2.3.0 in /opt/conda/lib/python3.7/site-packages (from google-cloud-storage->ml4floods) (2.3.2)\n",
      "Requirement already satisfied: pillow>=6.2.0 in /opt/conda/lib/python3.7/site-packages (from matplotlib->ml4floods) (9.2.0)\n",
      "Requirement already satisfied: pyparsing>=2.2.1 in /opt/conda/lib/python3.7/site-packages (from matplotlib->ml4floods) (3.0.9)\n",
      "Requirement already satisfied: kiwisolver>=1.0.1 in /opt/conda/lib/python3.7/site-packages (from matplotlib->ml4floods) (1.4.4)\n",
      "Requirement already satisfied: packaging>=20.0 in /opt/conda/lib/python3.7/site-packages (from matplotlib->ml4floods) (21.3)\n",
      "Requirement already satisfied: cycler>=0.10 in /opt/conda/lib/python3.7/site-packages (from matplotlib->ml4floods) (0.11.0)\n",
      "Requirement already satisfied: fonttools>=4.22.0 in /opt/conda/lib/python3.7/site-packages (from matplotlib->ml4floods) (4.34.4)\n",
      "Requirement already satisfied: click>=3.0 in /opt/conda/lib/python3.7/site-packages (from mercantile->ml4floods) (8.1.3)\n",
      "Requirement already satisfied: typing-extensions>=4.0.0 in /opt/conda/lib/python3.7/site-packages (from pytorch-lightning->ml4floods) (4.3.0)\n",
      "Requirement already satisfied: torchmetrics>=0.7.0 in /opt/conda/lib/python3.7/site-packages (from pytorch-lightning->ml4floods) (0.9.3)\n",
      "Requirement already satisfied: pyDeprecate>=0.3.1 in /opt/conda/lib/python3.7/site-packages (from pytorch-lightning->ml4floods) (0.3.2)\n",
      "Requirement already satisfied: tensorboard>=2.9.1 in /opt/conda/lib/python3.7/site-packages (from pytorch-lightning->ml4floods) (2.10.0)\n",
      "Requirement already satisfied: cligj>=0.5 in /opt/conda/lib/python3.7/site-packages (from rasterio->ml4floods) (0.7.2)\n",
      "Requirement already satisfied: certifi in /opt/conda/lib/python3.7/site-packages (from rasterio->ml4floods) (2022.6.15)\n",
      "Requirement already satisfied: affine in /opt/conda/lib/python3.7/site-packages (from rasterio->ml4floods) (2.3.1)\n",
      "Requirement already satisfied: click-plugins in /opt/conda/lib/python3.7/site-packages (from rasterio->ml4floods) (1.1.1)\n",
      "Requirement already satisfied: setuptools in /opt/conda/lib/python3.7/site-packages (from rasterio->ml4floods) (59.8.0)\n",
      "Requirement already satisfied: snuggs>=1.4.1 in /opt/conda/lib/python3.7/site-packages (from rasterio->ml4floods) (1.4.7)\n",
      "Requirement already satisfied: attrs in /opt/conda/lib/python3.7/site-packages (from rasterio->ml4floods) (22.1.0)\n",
      "Requirement already satisfied: bs4 in /opt/conda/lib/python3.7/site-packages (from requests_html->ml4floods) (0.0.1)\n",
      "Requirement already satisfied: pyppeteer>=0.0.14 in /opt/conda/lib/python3.7/site-packages (from requests_html->ml4floods) (1.0.2)\n",
      "Requirement already satisfied: w3lib in /opt/conda/lib/python3.7/site-packages (from requests_html->ml4floods) (2.0.1)\n",
      "Requirement already satisfied: pyquery in /opt/conda/lib/python3.7/site-packages (from requests_html->ml4floods) (1.4.3)\n",
      "Requirement already satisfied: parse in /opt/conda/lib/python3.7/site-packages (from requests_html->ml4floods) (1.19.0)\n",
      "Requirement already satisfied: fake-useragent in /opt/conda/lib/python3.7/site-packages (from requests_html->ml4floods) (0.1.11)\n",
      "Requirement already satisfied: importlib-metadata in /opt/conda/lib/python3.7/site-packages (from click>=3.0->mercantile->ml4floods) (4.11.4)\n",
      "Requirement already satisfied: munch in /opt/conda/lib/python3.7/site-packages (from fiona>=1.8->geopandas->ml4floods) (2.5.0)\n",
      "Requirement already satisfied: protobuf<4.0.0dev,>=3.15.0 in /opt/conda/lib/python3.7/site-packages (from google-api-core!=2.0.*,!=2.1.*,!=2.2.*,!=2.3.0,<3.0.0dev,>=1.31.5->google-cloud-storage->ml4floods) (3.19.4)\n",
      "Requirement already satisfied: googleapis-common-protos<2.0dev,>=1.56.2 in /opt/conda/lib/python3.7/site-packages (from google-api-core!=2.0.*,!=2.1.*,!=2.2.*,!=2.3.0,<3.0.0dev,>=1.31.5->google-cloud-storage->ml4floods) (1.56.4)\n",
      "Requirement already satisfied: uritemplate<4dev,>=3.0.0 in /opt/conda/lib/python3.7/site-packages (from google-api-python-client<2,>=1.12.1->earthengine-api->ml4floods) (3.0.1)\n",
      "Requirement already satisfied: cachetools<6.0,>=2.0.0 in /opt/conda/lib/python3.7/site-packages (from google-auth>=1.4.1->earthengine-api->ml4floods) (5.0.0)\n",
      "Requirement already satisfied: pyasn1-modules>=0.2.1 in /opt/conda/lib/python3.7/site-packages (from google-auth>=1.4.1->earthengine-api->ml4floods) (0.2.7)\n",
      "Requirement already satisfied: rsa<5,>=3.1.4 in /opt/conda/lib/python3.7/site-packages (from google-auth>=1.4.1->earthengine-api->ml4floods) (4.9)\n",
      "Requirement already satisfied: google-crc32c<2.0dev,>=1.0 in /opt/conda/lib/python3.7/site-packages (from google-resumable-media>=2.3.2->google-cloud-storage->ml4floods) (1.1.2)\n",
      "Requirement already satisfied: websockets<11.0,>=10.0 in /opt/conda/lib/python3.7/site-packages (from pyppeteer>=0.0.14->requests_html->ml4floods) (10.3)\n",
      "Requirement already satisfied: appdirs<2.0.0,>=1.4.3 in /opt/conda/lib/python3.7/site-packages (from pyppeteer>=0.0.14->requests_html->ml4floods) (1.4.4)\n",
      "Requirement already satisfied: pyee<9.0.0,>=8.1.0 in /opt/conda/lib/python3.7/site-packages (from pyppeteer>=0.0.14->requests_html->ml4floods) (8.2.2)\n",
      "Requirement already satisfied: urllib3<2.0.0,>=1.25.8 in /opt/conda/lib/python3.7/site-packages (from pyppeteer>=0.0.14->requests_html->ml4floods) (1.26.11)\n",
      "Requirement already satisfied: scikit-learn>=0.19.1 in /opt/conda/lib/python3.7/site-packages (from qudida>=0.0.4->albumentations->ml4floods) (1.0.2)\n",
      "Requirement already satisfied: idna<4,>=2.5 in /opt/conda/lib/python3.7/site-packages (from requests->gcsfs->ml4floods) (3.3)\n",
      "Requirement already satisfied: charset-normalizer<3,>=2 in /opt/conda/lib/python3.7/site-packages (from requests->gcsfs->ml4floods) (2.1.0)\n",
      "Requirement already satisfied: tifffile>=2019.7.26 in /opt/conda/lib/python3.7/site-packages (from scikit-image>=0.16.1->albumentations->ml4floods) (2021.11.2)\n",
      "Requirement already satisfied: PyWavelets>=1.1.1 in /opt/conda/lib/python3.7/site-packages (from scikit-image>=0.16.1->albumentations->ml4floods) (1.3.0)\n",
      "Requirement already satisfied: imageio>=2.4.1 in /opt/conda/lib/python3.7/site-packages (from scikit-image>=0.16.1->albumentations->ml4floods) (2.21.2)\n",
      "Requirement already satisfied: networkx>=2.2 in /opt/conda/lib/python3.7/site-packages (from scikit-image>=0.16.1->albumentations->ml4floods) (2.7.1)\n",
      "Requirement already satisfied: wheel>=0.26 in /opt/conda/lib/python3.7/site-packages (from tensorboard>=2.9.1->pytorch-lightning->ml4floods) (0.37.1)\n",
      "Requirement already satisfied: werkzeug>=1.0.1 in /opt/conda/lib/python3.7/site-packages (from tensorboard>=2.9.1->pytorch-lightning->ml4floods) (2.2.2)\n",
      "Requirement already satisfied: tensorboard-plugin-wit>=1.6.0 in /opt/conda/lib/python3.7/site-packages (from tensorboard>=2.9.1->pytorch-lightning->ml4floods) (1.8.1)\n",
      "Requirement already satisfied: markdown>=2.6.8 in /opt/conda/lib/python3.7/site-packages (from tensorboard>=2.9.1->pytorch-lightning->ml4floods) (3.4.1)\n",
      "Requirement already satisfied: tensorboard-data-server<0.7.0,>=0.6.0 in /opt/conda/lib/python3.7/site-packages (from tensorboard>=2.9.1->pytorch-lightning->ml4floods) (0.6.1)\n",
      "Requirement already satisfied: absl-py>=0.4 in /opt/conda/lib/python3.7/site-packages (from tensorboard>=2.9.1->pytorch-lightning->ml4floods) (1.2.0)\n",
      "Requirement already satisfied: grpcio>=1.24.3 in /opt/conda/lib/python3.7/site-packages (from tensorboard>=2.9.1->pytorch-lightning->ml4floods) (1.48.0)\n",
      "Requirement already satisfied: requests-oauthlib>=0.7.0 in /opt/conda/lib/python3.7/site-packages (from google-auth-oauthlib->gcsfs->ml4floods) (1.3.1)\n",
      "Requirement already satisfied: multidict<7.0,>=4.5 in /opt/conda/lib/python3.7/site-packages (from aiohttp->gcsfs->ml4floods) (6.0.2)\n",
      "Requirement already satisfied: aiosignal>=1.1.2 in /opt/conda/lib/python3.7/site-packages (from aiohttp->gcsfs->ml4floods) (1.2.0)\n",
      "Requirement already satisfied: async-timeout<5.0,>=4.0.0a3 in /opt/conda/lib/python3.7/site-packages (from aiohttp->gcsfs->ml4floods) (4.0.2)\n",
      "Requirement already satisfied: yarl<2.0,>=1.0 in /opt/conda/lib/python3.7/site-packages (from aiohttp->gcsfs->ml4floods) (1.7.2)\n",
      "Requirement already satisfied: asynctest==0.13.0 in /opt/conda/lib/python3.7/site-packages (from aiohttp->gcsfs->ml4floods) (0.13.0)\n",
      "Requirement already satisfied: frozenlist>=1.1.1 in /opt/conda/lib/python3.7/site-packages (from aiohttp->gcsfs->ml4floods) (1.3.1)\n",
      "Requirement already satisfied: beautifulsoup4 in /opt/conda/lib/python3.7/site-packages (from bs4->requests_html->ml4floods) (4.11.1)\n",
      "Requirement already satisfied: lxml>=2.1 in /opt/conda/lib/python3.7/site-packages (from pyquery->requests_html->ml4floods) (4.9.1)\n",
      "Requirement already satisfied: cssselect>0.7.9 in /opt/conda/lib/python3.7/site-packages (from pyquery->requests_html->ml4floods) (1.1.0)\n",
      "Requirement already satisfied: cffi>=1.0.0 in /opt/conda/lib/python3.7/site-packages (from google-crc32c<2.0dev,>=1.0->google-resumable-media>=2.3.2->google-cloud-storage->ml4floods) (1.15.1)\n",
      "Requirement already satisfied: zipp>=0.5 in /opt/conda/lib/python3.7/site-packages (from importlib-metadata->click>=3.0->mercantile->ml4floods) (3.8.1)\n",
      "Requirement already satisfied: pyasn1<0.5.0,>=0.4.6 in /opt/conda/lib/python3.7/site-packages (from pyasn1-modules>=0.2.1->google-auth>=1.4.1->earthengine-api->ml4floods) (0.4.8)\n",
      "Requirement already satisfied: oauthlib>=3.0.0 in /opt/conda/lib/python3.7/site-packages (from requests-oauthlib>=0.7.0->google-auth-oauthlib->gcsfs->ml4floods) (3.2.0)\n",
      "Requirement already satisfied: threadpoolctl>=2.0.0 in /opt/conda/lib/python3.7/site-packages (from scikit-learn>=0.19.1->qudida>=0.0.4->albumentations->ml4floods) (3.1.0)\n",
      "Requirement already satisfied: joblib>=0.11 in /opt/conda/lib/python3.7/site-packages (from scikit-learn>=0.19.1->qudida>=0.0.4->albumentations->ml4floods) (1.1.0)\n",
      "Requirement already satisfied: MarkupSafe>=2.1.1 in /opt/conda/lib/python3.7/site-packages (from werkzeug>=1.0.1->tensorboard>=2.9.1->pytorch-lightning->ml4floods) (2.1.1)\n",
      "Requirement already satisfied: soupsieve>1.2 in /opt/conda/lib/python3.7/site-packages (from beautifulsoup4->bs4->requests_html->ml4floods) (2.3.2.post1)\n",
      "Requirement already satisfied: pycparser in /opt/conda/lib/python3.7/site-packages (from cffi>=1.0.0->google-crc32c<2.0dev,>=1.0->google-resumable-media>=2.3.2->google-cloud-storage->ml4floods) (2.21)\n",
      "Note: you may need to restart the kernel to use updated packages.\n"
     ]
    }
   ],
   "source": [
    "pip install git+https://github.com/spaceml-org/ml4floods#egg=ml4floods"
   ]
  },
  {
   "cell_type": "code",
   "execution_count": 2,
   "id": "a20fc28b-e8b0-499e-aa4a-6a9e9d66357a",
   "metadata": {},
   "outputs": [],
   "source": [
    "import os\n",
    "import geopandas as gpd"
   ]
  },
  {
   "cell_type": "markdown",
   "id": "c95264f6-1d9a-405b-ab0c-b9923b2f1fde",
   "metadata": {},
   "source": [
    "**Reducing the size of the footprint file**"
   ]
  },
  {
   "cell_type": "code",
   "execution_count": 4,
   "id": "580fae14-6744-4664-b720-cb8a36a9b02f",
   "metadata": {},
   "outputs": [],
   "source": [
    "# returns a geodataframe of the buildings affected by the floods\n",
    "# aoi_floodMapPath is the government supplied aoi that will be used to reduce the footprint file. \n",
    "def get_aoi_footprint(aoi_floodMapPath : str, footprintPath : str):\n",
    "\n",
    "    # Reading the files in\n",
    "    aoi_flood = gpd.read_file(aoi_floodMapPath)\n",
    "    footprint = gpd.read_file(footprintPath)\n",
    "\n",
    "    # Getting the bounds of the government supplied aoi so we can apply it to the footprint file.\n",
    "    xmin, ymin, xmax, ymax = aoi_flood.total_bounds\n",
    "    aoi_footprint = footprint.cx[xmin:xmax, ymin:ymax]\n",
    "\n",
    "    # Saving the file\n",
    "    aoi_footprint.to_file(\"aoi_footprint.geojson\", driver='GeoJSON')\n",
    "    \n",
    "    return aoi_footprint"
   ]
  },
  {
   "cell_type": "markdown",
   "id": "5c1c83b3-e5da-4216-9dca-f652b40a9939",
   "metadata": {},
   "source": [
    "Get the original footprint file to retain all the class information instead of just the flood-trace."
   ]
  }
 ],
 "metadata": {
  "environment": {
   "kernel": "python3",
   "name": "common-cpu.m95",
   "type": "gcloud",
   "uri": "gcr.io/deeplearning-platform-release/base-cpu:m95"
  },
  "kernelspec": {
   "display_name": "Python 3",
   "language": "python",
   "name": "python3"
  },
  "language_info": {
   "codemirror_mode": {
    "name": "ipython",
    "version": 3
   },
   "file_extension": ".py",
   "mimetype": "text/x-python",
   "name": "python",
   "nbconvert_exporter": "python",
   "pygments_lexer": "ipython3",
   "version": "3.7.12"
  }
 },
 "nbformat": 4,
 "nbformat_minor": 5
}
