{
 "cells": [
  {
   "cell_type": "code",
   "execution_count": 1,
   "id": "e12ba808-2bb8-482f-bbb9-3a0c6cc1eb72",
   "metadata": {},
   "outputs": [],
   "source": [
    "import traceback\n",
    "import warnings\n",
    "\n",
    "from io import StringIO\n",
    "import ee\n",
    "import time\n",
    "import os\n",
    "from glob import glob\n",
    "from typing import Optional, Callable, List, Tuple\n",
    "from shapely.geometry import mapping, Polygon\n",
    "import numpy as np\n",
    "import geopandas as gpd\n",
    "import pandas as pd\n",
    "import fsspec\n",
    "from datetime import datetime, timezone\n",
    "import math"
   ]
  }
 ],
 "metadata": {
  "environment": {
   "kernel": "python3",
   "name": "common-cpu.m95",
   "type": "gcloud",
   "uri": "gcr.io/deeplearning-platform-release/base-cpu:m95"
  },
  "kernelspec": {
   "display_name": "Python 3",
   "language": "python",
   "name": "python3"
  },
  "language_info": {
   "codemirror_mode": {
    "name": "ipython",
    "version": 3
   },
   "file_extension": ".py",
   "mimetype": "text/x-python",
   "name": "python",
   "nbconvert_exporter": "python",
   "pygments_lexer": "ipython3",
   "version": "3.7.12"
  }
 },
 "nbformat": 4,
 "nbformat_minor": 5
}
