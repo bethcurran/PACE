{
 "cells": [
  {
   "cell_type": "code",
   "execution_count": 1,
   "id": "e12ba808-2bb8-482f-bbb9-3a0c6cc1eb72",
   "metadata": {},
   "outputs": [],
   "source": [
    "import traceback\n",
    "import warnings\n",
    "\n",
    "from io import StringIO\n",
    "import ee\n",
    "import time\n",
    "import os\n",
    "from glob import glob\n",
    "from typing import Optional, Callable, List, Tuple\n",
    "from shapely.geometry import mapping, Polygon\n",
    "import numpy as np\n",
    "import geopandas as gpd\n",
    "import pandas as pd\n",
    "import fsspec\n",
    "from datetime import datetime, timezone\n",
    "import math\n",
    "import json\n",
    "\n",
    "from ml4floods.data import ee_download, utils\n"
   ]
  },
  {
   "cell_type": "markdown",
   "id": "ce88aece-bf46-40b6-925b-e37dcc675916",
   "metadata": {
    "jp-MarkdownHeadingCollapsed": true,
    "tags": []
   },
   "source": [
    "# Calling some functions"
   ]
  },
  {
   "cell_type": "markdown",
   "id": "c6701e75-feba-46dd-8475-4085e1018705",
   "metadata": {},
   "source": [
    "Removed the full function call and used the following instead."
   ]
  },
  {
   "cell_type": "code",
   "execution_count": 2,
   "id": "24e9339e-70c7-41b7-a632-fbe6e905915e",
   "metadata": {},
   "outputs": [],
   "source": [
    "get_count_function = ee_download.get_count_function"
   ]
  },
  {
   "cell_type": "code",
   "execution_count": 3,
   "id": "7a213126-043f-4197-b721-01767dc9f1d5",
   "metadata": {},
   "outputs": [],
   "source": [
    "get_landsat_collection = ee_download.get_landsat_collection"
   ]
  },
  {
   "cell_type": "code",
   "execution_count": 4,
   "id": "dd70ae3b-2ccb-4594-aba1-da5738d34a37",
   "metadata": {},
   "outputs": [],
   "source": [
    "collection_mosaic_day = ee_download.collection_mosaic_day"
   ]
  },
  {
   "cell_type": "code",
   "execution_count": 5,
   "id": "2daa429f-526b-4935-9223-dab055c5746f",
   "metadata": {},
   "outputs": [],
   "source": [
    "BANDS_NAMES = ee_download.BANDS_NAMES"
   ]
  },
  {
   "cell_type": "markdown",
   "id": "dc53f8a3-81ab-48be-a3fc-29fd7c24e71f",
   "metadata": {},
   "source": [
    "Calling the aoi file"
   ]
  },
  {
   "cell_type": "markdown",
   "id": "c2c6ed3d-7e2e-4d81-a524-a23536f5c160",
   "metadata": {
    "jp-MarkdownHeadingCollapsed": true,
    "tags": []
   },
   "source": [
    "# Reading the geojson file"
   ]
  },
  {
   "cell_type": "code",
   "execution_count": 6,
   "id": "b406c4df-6e68-44c5-bae7-d793eb9f5045",
   "metadata": {},
   "outputs": [],
   "source": [
    "sydney_aoi= gpd.read_file('2022-07-21_aois.geojson')"
   ]
  },
  {
   "cell_type": "code",
   "execution_count": 7,
   "id": "35b53f77-29f8-4e51-91d5-44bd66601351",
   "metadata": {},
   "outputs": [
    {
     "data": {
      "text/html": [
       "<div>\n",
       "<style scoped>\n",
       "    .dataframe tbody tr th:only-of-type {\n",
       "        vertical-align: middle;\n",
       "    }\n",
       "\n",
       "    .dataframe tbody tr th {\n",
       "        vertical-align: top;\n",
       "    }\n",
       "\n",
       "    .dataframe thead th {\n",
       "        text-align: right;\n",
       "    }\n",
       "</style>\n",
       "<table border=\"1\" class=\"dataframe\">\n",
       "  <thead>\n",
       "    <tr style=\"text-align: right;\">\n",
       "      <th></th>\n",
       "      <th>aoi_code</th>\n",
       "      <th>geometry</th>\n",
       "    </tr>\n",
       "  </thead>\n",
       "  <tbody>\n",
       "    <tr>\n",
       "      <th>0</th>\n",
       "      <td>AOI01</td>\n",
       "      <td>POLYGON ((147.09960 -31.24462, 147.30960 -31.2...</td>\n",
       "    </tr>\n",
       "    <tr>\n",
       "      <th>1</th>\n",
       "      <td>AOI01</td>\n",
       "      <td>POLYGON ((147.09960 -31.24462, 147.30960 -31.2...</td>\n",
       "    </tr>\n",
       "    <tr>\n",
       "      <th>2</th>\n",
       "      <td>AOI02</td>\n",
       "      <td>POLYGON ((147.09960 -31.04462, 147.30960 -31.0...</td>\n",
       "    </tr>\n",
       "    <tr>\n",
       "      <th>3</th>\n",
       "      <td>AOI02</td>\n",
       "      <td>POLYGON ((147.09960 -31.04462, 147.30960 -31.0...</td>\n",
       "    </tr>\n",
       "    <tr>\n",
       "      <th>4</th>\n",
       "      <td>AOI0289</td>\n",
       "      <td>POLYGON ((147.49960 -32.44461, 147.70960 -32.4...</td>\n",
       "    </tr>\n",
       "    <tr>\n",
       "      <th>...</th>\n",
       "      <td>...</td>\n",
       "      <td>...</td>\n",
       "    </tr>\n",
       "    <tr>\n",
       "      <th>476</th>\n",
       "      <td>AOI97</td>\n",
       "      <td>POLYGON ((150.29960 -34.24462, 150.50960 -34.2...</td>\n",
       "    </tr>\n",
       "    <tr>\n",
       "      <th>477</th>\n",
       "      <td>AOI98</td>\n",
       "      <td>POLYGON ((150.29960 -34.04462, 150.50960 -34.0...</td>\n",
       "    </tr>\n",
       "    <tr>\n",
       "      <th>478</th>\n",
       "      <td>AOI98</td>\n",
       "      <td>POLYGON ((150.29960 -34.04462, 150.50960 -34.0...</td>\n",
       "    </tr>\n",
       "    <tr>\n",
       "      <th>479</th>\n",
       "      <td>AOI99</td>\n",
       "      <td>POLYGON ((150.29960 -33.84462, 150.50960 -33.8...</td>\n",
       "    </tr>\n",
       "    <tr>\n",
       "      <th>480</th>\n",
       "      <td>AOI99</td>\n",
       "      <td>POLYGON ((150.29960 -33.84462, 150.50960 -33.8...</td>\n",
       "    </tr>\n",
       "  </tbody>\n",
       "</table>\n",
       "<p>481 rows × 2 columns</p>\n",
       "</div>"
      ],
      "text/plain": [
       "    aoi_code                                           geometry\n",
       "0      AOI01  POLYGON ((147.09960 -31.24462, 147.30960 -31.2...\n",
       "1      AOI01  POLYGON ((147.09960 -31.24462, 147.30960 -31.2...\n",
       "2      AOI02  POLYGON ((147.09960 -31.04462, 147.30960 -31.0...\n",
       "3      AOI02  POLYGON ((147.09960 -31.04462, 147.30960 -31.0...\n",
       "4    AOI0289  POLYGON ((147.49960 -32.44461, 147.70960 -32.4...\n",
       "..       ...                                                ...\n",
       "476    AOI97  POLYGON ((150.29960 -34.24462, 150.50960 -34.2...\n",
       "477    AOI98  POLYGON ((150.29960 -34.04462, 150.50960 -34.0...\n",
       "478    AOI98  POLYGON ((150.29960 -34.04462, 150.50960 -34.0...\n",
       "479    AOI99  POLYGON ((150.29960 -33.84462, 150.50960 -33.8...\n",
       "480    AOI99  POLYGON ((150.29960 -33.84462, 150.50960 -33.8...\n",
       "\n",
       "[481 rows x 2 columns]"
      ]
     },
     "execution_count": 7,
     "metadata": {},
     "output_type": "execute_result"
    }
   ],
   "source": [
    "sydney_aoi"
   ]
  },
  {
   "cell_type": "code",
   "execution_count": 8,
   "id": "1180aeff-1f20-4e17-a026-e35a1eadd446",
   "metadata": {},
   "outputs": [
    {
     "data": {
      "text/plain": [
       "0      POLYGON ((147.09960 -31.24462, 147.30960 -31.2...\n",
       "1      POLYGON ((147.09960 -31.24462, 147.30960 -31.2...\n",
       "2      POLYGON ((147.09960 -31.04462, 147.30960 -31.0...\n",
       "3      POLYGON ((147.09960 -31.04462, 147.30960 -31.0...\n",
       "4      POLYGON ((147.49960 -32.44461, 147.70960 -32.4...\n",
       "                             ...                        \n",
       "476    POLYGON ((150.29960 -34.24462, 150.50960 -34.2...\n",
       "477    POLYGON ((150.29960 -34.04462, 150.50960 -34.0...\n",
       "478    POLYGON ((150.29960 -34.04462, 150.50960 -34.0...\n",
       "479    POLYGON ((150.29960 -33.84462, 150.50960 -33.8...\n",
       "480    POLYGON ((150.29960 -33.84462, 150.50960 -33.8...\n",
       "Name: geometry, Length: 481, dtype: geometry"
      ]
     },
     "execution_count": 8,
     "metadata": {},
     "output_type": "execute_result"
    }
   ],
   "source": [
    "sydney_aoi.geometry"
   ]
  },
  {
   "cell_type": "markdown",
   "id": "c9275ee0-c20a-4df3-bc45-2ea20bea7861",
   "metadata": {},
   "source": [
    "Getting the bounds from a single polygon"
   ]
  },
  {
   "cell_type": "code",
   "execution_count": 9,
   "id": "e3f356a8-52d4-4b34-a265-be043694531b",
   "metadata": {},
   "outputs": [
    {
     "data": {
      "text/plain": [
       "(147.09959654580408,\n",
       " -31.244618412374592,\n",
       " 147.30959654580408,\n",
       " -31.03461841237459)"
      ]
     },
     "execution_count": 9,
     "metadata": {},
     "output_type": "execute_result"
    }
   ],
   "source": [
    "test_bounds= sydney_aoi.geometry[0].bounds\n",
    "test_bounds"
   ]
  },
  {
   "cell_type": "markdown",
   "id": "9cc06267-ad65-45f5-b779-45f216642d34",
   "metadata": {
    "jp-MarkdownHeadingCollapsed": true,
    "tags": []
   },
   "source": [
    "# Sorting the dates"
   ]
  },
  {
   "cell_type": "markdown",
   "id": "cf2a267a-ed5f-46ef-b1e0-9d238a22a450",
   "metadata": {},
   "source": [
    "Converting standard date format into a datetime objectget_landsat_collection(date_start= , date_end= , bounds= test_bounds)"
   ]
  },
  {
   "cell_type": "code",
   "execution_count": 10,
   "id": "bf298f15-dd31-4243-9587-d00cd0050435",
   "metadata": {},
   "outputs": [
    {
     "data": {
      "text/plain": [
       "datetime.datetime(2021, 8, 2, 0, 0)"
      ]
     },
     "execution_count": 10,
     "metadata": {},
     "output_type": "execute_result"
    }
   ],
   "source": [
    "date_string_start = '02/08/21'\n",
    "date_string_end = '03/09/21'\n",
    "datetime_start= datetime.strptime(date_string_start, '%d/%m/%y')\n",
    "datetime_end= datetime.strptime(date_string_end, '%d/%m/%y')\n",
    "datetime_start"
   ]
  },
  {
   "cell_type": "code",
   "execution_count": 11,
   "id": "176faae1-cde4-43f7-b702-7cc78702bd07",
   "metadata": {},
   "outputs": [],
   "source": [
    "date_range = ('02/08/21', '03/09/21')"
   ]
  },
  {
   "cell_type": "code",
   "execution_count": 12,
   "id": "7a388331-e114-447a-89af-b4c363c41901",
   "metadata": {},
   "outputs": [
    {
     "data": {
      "text/plain": [
       "tuple"
      ]
     },
     "execution_count": 12,
     "metadata": {},
     "output_type": "execute_result"
    }
   ],
   "source": [
    "type(date_range)"
   ]
  },
  {
   "cell_type": "code",
   "execution_count": 13,
   "id": "d6bb41af-e8cb-41f9-9d2e-77a3c52d0931",
   "metadata": {},
   "outputs": [
    {
     "name": "stdout",
     "output_type": "stream",
     "text": [
      "(datetime.datetime(2021, 8, 2, 0, 0), datetime.datetime(2021, 9, 3, 0, 0), 2021, 2021)\n"
     ]
    }
   ],
   "source": [
    "#Test of datetime function from query notebook\n",
    "\n",
    "#e.g. date_range = ('dd/mm/yy', 'dd/mm/yy')\n",
    "\n",
    "def get_datetime(date_range):\n",
    "    datetime_start= datetime.strptime(date_range[0], '%d/%m/%y')\n",
    "    datetime_end= datetime.strptime(date_range[1], '%d/%m/%y')\n",
    "    \n",
    "    start_year = datetime_start.year\n",
    "    end_year = datetime_end.year\n",
    "    \n",
    "    return datetime_start, datetime_end, start_year, end_year\n",
    "\n",
    "dates = get_datetime(date_range)\n",
    "\n",
    "print(dates)"
   ]
  },
  {
   "cell_type": "code",
   "execution_count": 14,
   "id": "78128df3-51cc-4969-8c95-a7680efae34b",
   "metadata": {},
   "outputs": [
    {
     "data": {
      "text/plain": [
       "datetime.datetime"
      ]
     },
     "execution_count": 14,
     "metadata": {},
     "output_type": "execute_result"
    }
   ],
   "source": [
    "type(dates[0])"
   ]
  },
  {
   "cell_type": "code",
   "execution_count": 15,
   "id": "8862c4a7-d261-4d3c-a2b4-e6e2e58d9a70",
   "metadata": {},
   "outputs": [
    {
     "name": "stdout",
     "output_type": "stream",
     "text": [
      "Start datetime: 2021-08-02 00:00:00, end datetime: 2021-09-03 00:00:00\n"
     ]
    }
   ],
   "source": [
    "print(f'Start datetime: {dates[0]}, end datetime: {dates[1]}')"
   ]
  },
  {
   "cell_type": "markdown",
   "id": "de6e8e62-e869-4e23-8961-ed0b80e03b36",
   "metadata": {
    "tags": []
   },
   "source": [
    "# Authenticating `ee`"
   ]
  },
  {
   "cell_type": "markdown",
   "id": "388819cf-c56c-4a43-87b9-e7236183f38f",
   "metadata": {},
   "source": [
    "First will have to run `earthengine authenticate` in the VM command line / terminal. \n",
    "\n",
    "**Issue:** Doesn't allow us to authenticate. We get an 'access blocked' message. We checked the GCP API information under APIs and Servicse > Enabled APIs & Services and there are no API credentials (client ID and key). We had a look into what the issue might be and found that we may need to enable 'Google Earth Engine API', but this did nothing. \n",
    "\n",
    "- Do we need client ID and key for the API to get access?\n",
    "- Do we need to open the authentication link  in a VM browser? \n",
    "- Any other reasons why the authentication link doesn't work\n",
    "\n",
    "\n",
    "**SOLVED** Cormac suggested to run the following"
   ]
  },
  {
   "cell_type": "code",
   "execution_count": 16,
   "id": "dde0ebc6-58f9-4898-bf1e-556df4784946",
   "metadata": {},
   "outputs": [
    {
     "data": {
      "text/html": [
       "<p>To authorize access needed by Earth Engine, open the following\n",
       "        URL in a web browser and follow the instructions:</p>\n",
       "        <p><a href=https://code.earthengine.google.com/client-auth?scopes=https%3A//www.googleapis.com/auth/earthengine%20https%3A//www.googleapis.com/auth/devstorage.full_control&request_id=pVinMBgRL7qv2N1PpTHgXlBIGuPizpkKFXrJ4FsoJ9w&tc=OAsIGDSM8HwlCidi3T3TMjUvhyanCxr5fqK4HklUPS4&cc=TVlN9zcutWrijFktYLQ41mPxf11mUnCOmMnMFn44BFM>https://code.earthengine.google.com/client-auth?scopes=https%3A//www.googleapis.com/auth/earthengine%20https%3A//www.googleapis.com/auth/devstorage.full_control&request_id=pVinMBgRL7qv2N1PpTHgXlBIGuPizpkKFXrJ4FsoJ9w&tc=OAsIGDSM8HwlCidi3T3TMjUvhyanCxr5fqK4HklUPS4&cc=TVlN9zcutWrijFktYLQ41mPxf11mUnCOmMnMFn44BFM</a></p>\n",
       "        <p>The authorization workflow will generate a code, which you should paste in the box below.</p>\n",
       "        "
      ],
      "text/plain": [
       "<IPython.core.display.HTML object>"
      ]
     },
     "metadata": {},
     "output_type": "display_data"
    },
    {
     "name": "stdin",
     "output_type": "stream",
     "text": [
      "Enter verification code:  4/1AdQt8qiwM6xAqCh8lFoQq1hlCK04dVjM6QupcEPogeDpjzTAayMUPD4CQbY\n"
     ]
    },
    {
     "name": "stdout",
     "output_type": "stream",
     "text": [
      "\n",
      "Successfully saved authorization token.\n"
     ]
    }
   ],
   "source": [
    "ee.Authenticate()"
   ]
  },
  {
   "cell_type": "markdown",
   "id": "ce9ae0b6-042b-42c2-82ef-547b382105d7",
   "metadata": {},
   "source": [
    "Initialise earth engine (ee)"
   ]
  },
  {
   "cell_type": "code",
   "execution_count": 17,
   "id": "433c8770-280e-4a7e-a762-174fa3c5e9bb",
   "metadata": {},
   "outputs": [],
   "source": [
    "ee.Initialize()"
   ]
  },
  {
   "cell_type": "markdown",
   "id": "d0b445ef-d6c1-460c-9801-3682dee15a13",
   "metadata": {
    "jp-MarkdownHeadingCollapsed": true,
    "tags": []
   },
   "source": [
    "# Getting the bounds and getting the images"
   ]
  },
  {
   "cell_type": "code",
   "execution_count": 18,
   "id": "f6759fdc-6928-48cc-bc32-6c37b15a0df8",
   "metadata": {},
   "outputs": [
    {
     "data": {
      "text/plain": [
       "tuple"
      ]
     },
     "execution_count": 18,
     "metadata": {},
     "output_type": "execute_result"
    }
   ],
   "source": [
    "type(sydney_aoi.geometry[0].bounds)"
   ]
  },
  {
   "cell_type": "code",
   "execution_count": 19,
   "id": "634a6340-8a11-4bae-a988-394654ddaac3",
   "metadata": {},
   "outputs": [
    {
     "data": {
      "text/plain": [
       "ee.geometry.Geometry"
      ]
     },
     "execution_count": 19,
     "metadata": {},
     "output_type": "execute_result"
    }
   ],
   "source": [
    "\n",
    "js = json.loads(sydney_aoi.to_json()) # Converting the aoi to a json and loading the json information, inludes coordinates,\n",
    "                                        # id for each polygon. Within the dictionary we have a 'featureCollection'\n",
    "    \n",
    "bounds = ee.Geometry(ee.FeatureCollection(js).geometry()) # Getting the bounds of the polygons \n",
    "\n",
    "type(bounds)"
   ]
  },
  {
   "cell_type": "raw",
   "id": "d391eda5-13dd-4ce7-8618-661bacd062ce",
   "metadata": {},
   "source": [
    "type(js)"
   ]
  },
  {
   "cell_type": "raw",
   "id": "2017adcf-3991-4523-aba5-38557d133049",
   "metadata": {},
   "source": [
    "js"
   ]
  },
  {
   "cell_type": "raw",
   "id": "f39c8a5c-5478-4863-b44f-2e7a0efed83b",
   "metadata": {},
   "source": [
    "js['features'][0]['geometry']['coordinates']"
   ]
  },
  {
   "cell_type": "raw",
   "id": "e093061f-4dd4-4b41-a04b-5d3b68a3998e",
   "metadata": {},
   "source": [
    "sydney_aoi.geometry"
   ]
  },
  {
   "cell_type": "raw",
   "id": "1dcb0f66-8957-4b8b-9011-bb09729c06b0",
   "metadata": {},
   "source": [
    "bounds"
   ]
  },
  {
   "cell_type": "code",
   "execution_count": 20,
   "id": "39af5260-924a-4b30-8ff8-f2fdb7048397",
   "metadata": {},
   "outputs": [],
   "source": [
    "landsat_imgs = get_landsat_collection(date_start=dates[0], date_end=dates[1] , bounds=bounds)"
   ]
  },
  {
   "cell_type": "code",
   "execution_count": 21,
   "id": "ec7cd4c9-c2d4-47a4-a1b9-04cb86a3ba8e",
   "metadata": {},
   "outputs": [
    {
     "data": {
      "text/plain": [
       "ee.imagecollection.ImageCollection"
      ]
     },
     "execution_count": 21,
     "metadata": {},
     "output_type": "execute_result"
    }
   ],
   "source": [
    "type(landsat_imgs)"
   ]
  },
  {
   "cell_type": "markdown",
   "id": "2cfeb853-de93-4a82-9225-6a26afb9cc63",
   "metadata": {
    "jp-MarkdownHeadingCollapsed": true,
    "tags": []
   },
   "source": [
    "# Checking the properties of the imageCollection"
   ]
  },
  {
   "cell_type": "markdown",
   "id": "6a517806-5dae-4b78-8c17-8fe6ba328a22",
   "metadata": {},
   "source": [
    "Checking the size of the image collection"
   ]
  },
  {
   "cell_type": "markdown",
   "id": "7517d027-9175-4c30-9048-b8dfaa79a892",
   "metadata": {},
   "source": [
    "NOTE: Find date range limits that won't time out"
   ]
  },
  {
   "cell_type": "markdown",
   "id": "dac1d546-55e3-414d-baa6-e7faddfd207a",
   "metadata": {},
   "source": [
    "**Example** from https://developers.google.com/earth-engine/apidocs/ee-imagecollection-size"
   ]
  },
  {
   "cell_type": "code",
   "execution_count": 22,
   "id": "b2c28948-32fa-43c7-a115-7662dfbd3dab",
   "metadata": {},
   "outputs": [],
   "source": [
    "col = ee.ImageCollection('LANDSAT/LC08/C02/T1_TOA').filterBounds(ee.Geometry.Point(-90.70, 34.71)).filterDate('2020-01-01', '2021-01-01');"
   ]
  },
  {
   "cell_type": "code",
   "execution_count": 23,
   "id": "75d5ae39-b9cb-4e96-ab04-ec59ad3cbe14",
   "metadata": {},
   "outputs": [
    {
     "data": {
      "text/plain": [
       "ee.imagecollection.ImageCollection"
      ]
     },
     "execution_count": 23,
     "metadata": {},
     "output_type": "execute_result"
    }
   ],
   "source": [
    "type(col)"
   ]
  },
  {
   "cell_type": "markdown",
   "id": "c2e23189-63ac-4544-b2ca-63ca8e9c22da",
   "metadata": {},
   "source": [
    "[running the below code in this link gives the number of images](https://code.earthengine.google.com/820fcb75a86f86352d4ae1d62c4650fe)"
   ]
  },
  {
   "cell_type": "raw",
   "id": "df2b1c0f-2ed4-49ed-b008-30930b8b9243",
   "metadata": {},
   "source": [
    "// Note: ee.ImageCollection.size may take a lot of time and memory to run,\n",
    "// since it must generate all of the results in order to count them. Large\n",
    "// collections and/or complex computations can produce memory limitation\n",
    "// errors.\n",
    "\n",
    "// A Landsat 8 TOA image collection (1 year of images at a specific point).\n",
    "var col = ee.ImageCollection('LANDSAT/LC08/C02/T1_TOA')\n",
    "  .filterBounds(ee.Geometry.Point(-90.70, 34.71))\n",
    "  .filterDate('2020-01-01', '2021-01-01');\n",
    "\n",
    "// Get the number of images in the collection.\n",
    "print('Number of images', col.size());"
   ]
  },
  {
   "cell_type": "markdown",
   "id": "dc7f946a-1f07-4cdc-8b0e-262a8347d8e4",
   "metadata": {},
   "source": [
    "**End Example**"
   ]
  },
  {
   "cell_type": "markdown",
   "id": "e48f4dde-cc18-4fcb-869a-9b9c17bf137b",
   "metadata": {},
   "source": [
    "After checking the function `_get_collection()` in the script, I noticed the variable `n_images` which seemed like 'number of images'. Using the same code from the script gives us: "
   ]
  },
  {
   "cell_type": "code",
   "execution_count": 24,
   "id": "27be2f34-b254-4b19-afd7-39be3b22b9fb",
   "metadata": {},
   "outputs": [
    {
     "data": {
      "text/plain": [
       "12"
      ]
     },
     "execution_count": 24,
     "metadata": {},
     "output_type": "execute_result"
    }
   ],
   "source": [
    "landsat_imgs.size().getInfo()"
   ]
  },
  {
   "cell_type": "markdown",
   "id": "6fcecfe7-6c13-4ef5-8abf-cd1e8184ccfb",
   "metadata": {},
   "source": [
    "We can see the `CLOUD_SCORE` is contained in \n",
    "\n",
    "features: [] -> id: 'date', properties: {} -> CLOUD_SCORE"
   ]
  },
  {
   "cell_type": "code",
   "execution_count": 25,
   "id": "67986065-4fa8-4c76-889f-15683522d9fb",
   "metadata": {},
   "outputs": [],
   "source": [
    "myDict = landsat_imgs.getInfo()"
   ]
  },
  {
   "cell_type": "code",
   "execution_count": 26,
   "id": "ad4ff5f6-770a-4029-91b4-1e7c360fcabb",
   "metadata": {},
   "outputs": [
    {
     "data": {
      "text/plain": [
       "12"
      ]
     },
     "execution_count": 26,
     "metadata": {},
     "output_type": "execute_result"
    }
   ],
   "source": [
    "len(myDict['features'])"
   ]
  },
  {
   "cell_type": "code",
   "execution_count": 27,
   "id": "cc68c06c-8628-4cff-98a8-0bdd8f346914",
   "metadata": {},
   "outputs": [
    {
     "data": {
      "text/plain": [
       "'2021-08-17'"
      ]
     },
     "execution_count": 27,
     "metadata": {},
     "output_type": "execute_result"
    }
   ],
   "source": [
    "myDict['features'][0].get('id')"
   ]
  },
  {
   "cell_type": "code",
   "execution_count": 28,
   "id": "305e9c21-222d-4a2f-91ea-3956087ae5df",
   "metadata": {},
   "outputs": [],
   "source": [
    "myDict = landsat_imgs.getInfo()"
   ]
  },
  {
   "cell_type": "code",
   "execution_count": 29,
   "id": "af2f9122-f384-41d8-ac06-285afa6fa66e",
   "metadata": {},
   "outputs": [
    {
     "data": {
      "text/plain": [
       "3.48"
      ]
     },
     "execution_count": 29,
     "metadata": {},
     "output_type": "execute_result"
    }
   ],
   "source": [
    "myDict['features'][0].get('properties')['CLOUD_COVER']"
   ]
  },
  {
   "cell_type": "code",
   "execution_count": 30,
   "id": "07565737-3227-471c-8e61-cd1b609f2e6b",
   "metadata": {},
   "outputs": [
    {
     "name": "stdout",
     "output_type": "stream",
     "text": [
      "0 3.48\n",
      "1 10.97\n",
      "2 40.43\n",
      "3 76.51\n",
      "4 0.32\n",
      "5 0.05\n",
      "6 54.69\n",
      "7 10.8\n",
      "8 0.02\n",
      "9 14.17\n",
      "10 1.96\n",
      "11 0.01\n",
      "Mean cloud score is 17.784166666666668\n"
     ]
    }
   ],
   "source": [
    "cloudScore_landsat = np.array([])\n",
    "\n",
    "for i in range(len(myDict['features'])):\n",
    "    val = myDict['features'][i].get('properties')['CLOUD_COVER']\n",
    "    cloudScore_landsat = np.append(cloudScore_landsat, val)\n",
    "    print(i, val) \n",
    "\n",
    "\n",
    "print(f'Mean cloud score is {cloudScore_landsat.mean()}')"
   ]
  },
  {
   "cell_type": "markdown",
   "id": "5acd330a-04ca-4b8a-a54d-6a621969f2d6",
   "metadata": {},
   "source": [
    "Now we need to know what a cloud score looks like and if there are any other properties we want to consider from the imageCollection."
   ]
  },
  {
   "cell_type": "markdown",
   "id": "717d3173-7636-40be-8b58-2c1344c73108",
   "metadata": {},
   "source": [
    "plot out on a spatial grid. \n",
    "\n",
    "Each patch may have multiple images with each of the cloud scores. \n",
    "\n",
    "geopandas table with whichever coordinates used. coords and cloud cover.\n",
    "sleep statement after each point to see how the plot is being built. \n",
    "\n",
    "---\n",
    "\n",
    "geoscape query and intersects. \n",
    "\n",
    "---\n",
    "\n",
    "linking the keys for both satellites."
   ]
  },
  {
   "cell_type": "raw",
   "id": "ade30a69-78bd-4100-83ea-bfa524b2ce39",
   "metadata": {},
   "source": [
    "myDict['features'][0].get('properties')"
   ]
  },
  {
   "cell_type": "markdown",
   "id": "349ff884-1f4c-458e-a8b9-97a7630a8e8e",
   "metadata": {},
   "source": [
    "To access the information, the procses looks like this: `landsat_imgs.getInfo()['features'][my_index].get('properties')['my_feature']`. \n",
    "\n",
    "getInfo() is a dictionary, so we access the dictionary by calling one of the words in the dictionary being 'features'. This now becomes a list of the different images, so we can index into the image we want. We then use the get() function which again returns a dictionary we can access with one of the words in the dictionary to access the information. "
   ]
  },
  {
   "cell_type": "markdown",
   "id": "b2f52bd3-27dd-4d1f-8da4-448710fc0b36",
   "metadata": {},
   "source": [
    "**Now getting the images for s2. Note, s2 has different properties to landsat**"
   ]
  },
  {
   "cell_type": "code",
   "execution_count": 31,
   "id": "3ad9723d-8cbd-438e-8f93-be829cd8174b",
   "metadata": {},
   "outputs": [],
   "source": [
    "get_s2_collection = ee_download.get_s2_collection"
   ]
  },
  {
   "cell_type": "code",
   "execution_count": 32,
   "id": "50d60b82-6ca3-4dcc-b90a-c8c621743d66",
   "metadata": {},
   "outputs": [],
   "source": [
    "s2_imgs = get_s2_collection(date_start=dates[0], date_end=dates[1] , bounds=bounds)"
   ]
  },
  {
   "cell_type": "code",
   "execution_count": 33,
   "id": "31027bda-4833-4b15-8c24-e2a3ae572800",
   "metadata": {},
   "outputs": [
    {
     "data": {
      "text/plain": [
       "10.1582"
      ]
     },
     "execution_count": 33,
     "metadata": {},
     "output_type": "execute_result"
    }
   ],
   "source": [
    "s2_imgs.getInfo()['features'][0].get('properties')['CLOUD_COVERAGE_ASSESSMENT']"
   ]
  },
  {
   "cell_type": "markdown",
   "id": "0353cb6d-f14f-4d80-9f19-8c3cb7126c52",
   "metadata": {},
   "source": [
    "Number of images"
   ]
  },
  {
   "cell_type": "code",
   "execution_count": 34,
   "id": "34423455-a3a9-4011-98af-206e468b0422",
   "metadata": {},
   "outputs": [
    {
     "data": {
      "text/plain": [
       "26"
      ]
     },
     "execution_count": 34,
     "metadata": {},
     "output_type": "execute_result"
    }
   ],
   "source": [
    "s2_imgs.size().getInfo()"
   ]
  },
  {
   "cell_type": "code",
   "execution_count": 35,
   "id": "d2d2a532-8c3a-4dac-baab-246946178efa",
   "metadata": {},
   "outputs": [],
   "source": [
    "myDict2 = s2_imgs.getInfo()"
   ]
  },
  {
   "cell_type": "code",
   "execution_count": 36,
   "id": "56693eb5-9ff0-4273-9d6e-925aae94f373",
   "metadata": {},
   "outputs": [
    {
     "name": "stdout",
     "output_type": "stream",
     "text": [
      "0 10.1582\n",
      "1 18.4946\n",
      "2 19.9737\n",
      "3 57.2791\n",
      "4 69.7648\n",
      "5 0\n",
      "6 1.937\n",
      "7 6.9454\n",
      "8 16.4855\n",
      "9 0\n",
      "10 0\n",
      "11 29.3754\n",
      "12 0\n",
      "13 98.0081\n",
      "14 0\n",
      "15 0\n",
      "16 90.0543\n",
      "17 99.9021\n",
      "18 0\n",
      "19 51.3534\n",
      "20 0\n",
      "21 99.9965\n",
      "22 99.9962\n",
      "23 0.2658\n",
      "24 0\n",
      "25 0\n",
      "Mean cloud score is 29.615003846153847\n"
     ]
    }
   ],
   "source": [
    "cloudScore_s2 = np.array([])\n",
    "\n",
    "for i in range(s2_imgs.size().getInfo()):\n",
    "    val = myDict2['features'][i].get('properties')['CLOUD_COVERAGE_ASSESSMENT']\n",
    "    cloudScore_s2 = np.append(cloudScore_s2, val)\n",
    "    print(i, val)\n",
    "    \n",
    "print(f'Mean cloud score is {cloudScore_s2.mean()}')"
   ]
  },
  {
   "cell_type": "raw",
   "id": "dae41da2-ecce-473d-bdc0-87f3c5e69609",
   "metadata": {},
   "source": [
    "s2_imgs.getInfo()"
   ]
  },
  {
   "cell_type": "code",
   "execution_count": null,
   "id": "5b216462-9670-45a2-90b6-6124cf4cab4a",
   "metadata": {},
   "outputs": [],
   "source": [
    "myDict['features']"
   ]
  },
  {
   "cell_type": "markdown",
   "id": "e2e48ebc-5018-4dd4-873a-cfdf4cbd4317",
   "metadata": {
    "jp-MarkdownHeadingCollapsed": true,
    "tags": []
   },
   "source": [
    "# Checking the shapefile data type "
   ]
  },
  {
   "cell_type": "code",
   "execution_count": 38,
   "id": "37397ba6-fc78-4672-a275-de866f9b7f25",
   "metadata": {},
   "outputs": [],
   "source": [
    "import shutil"
   ]
  },
  {
   "cell_type": "code",
   "execution_count": 39,
   "id": "dc05382e-5dc0-4711-96b0-4bea1ccbbe60",
   "metadata": {},
   "outputs": [],
   "source": [
    "extract= shutil.unpack_archive('Declarations_19722_Merge.zip')"
   ]
  },
  {
   "cell_type": "code",
   "execution_count": 40,
   "id": "6bef6053-49df-4678-81b1-cf7058334689",
   "metadata": {},
   "outputs": [],
   "source": [
    "test= gpd.read_file('Declarations_unzip/Declarations_19722_Merge.shp')"
   ]
  },
  {
   "cell_type": "code",
   "execution_count": 41,
   "id": "afaf3e01-a535-4516-b94c-24f6366b4472",
   "metadata": {},
   "outputs": [
    {
     "data": {
      "text/plain": [
       "geopandas.geodataframe.GeoDataFrame"
      ]
     },
     "execution_count": 41,
     "metadata": {},
     "output_type": "execute_result"
    }
   ],
   "source": [
    "type(test)"
   ]
  },
  {
   "cell_type": "code",
   "execution_count": 42,
   "id": "554bbd23-9699-4684-a8a3-0aa0f0135f5d",
   "metadata": {},
   "outputs": [
    {
     "data": {
      "text/plain": [
       "geopandas.geoseries.GeoSeries"
      ]
     },
     "execution_count": 42,
     "metadata": {},
     "output_type": "execute_result"
    }
   ],
   "source": [
    "type(test['geometry'])"
   ]
  },
  {
   "cell_type": "code",
   "execution_count": 43,
   "id": "f027f9ab-7c05-461d-bbe0-bcc4426718ce",
   "metadata": {},
   "outputs": [
    {
     "data": {
      "text/plain": [
       "shapely.geometry.multipolygon.MultiPolygon"
      ]
     },
     "execution_count": 43,
     "metadata": {},
     "output_type": "execute_result"
    }
   ],
   "source": [
    "type(test['geometry'][37])"
   ]
  },
  {
   "cell_type": "markdown",
   "id": "daf64de2-db19-43fd-afca-3597380d791c",
   "metadata": {
    "jp-MarkdownHeadingCollapsed": true,
    "tags": []
   },
   "source": [
    "# Putting useful information into a dataframe"
   ]
  },
  {
   "cell_type": "markdown",
   "id": "d2fb10a1-b5eb-4d94-9586-bad79d79806f",
   "metadata": {},
   "source": [
    "* CLOUD_COVER\n",
    "* polygon\n",
    "* satellite image ID associated with the polygon\n",
    "* date associated with the specific satellite image\n",
    "\n",
    "\n",
    "We need to find out what other useful information is in the properties of the imageCollection "
   ]
  },
  {
   "cell_type": "markdown",
   "id": "81ab46f6-0e93-4725-a9e0-3c708f0b4d78",
   "metadata": {},
   "source": [
    "Checking the number of polygons in `js` which comes from `sydney_aoi`"
   ]
  },
  {
   "cell_type": "code",
   "execution_count": 44,
   "id": "23f66f94-25e0-4585-8498-cf80de88cce1",
   "metadata": {},
   "outputs": [
    {
     "data": {
      "text/plain": [
       "481"
      ]
     },
     "execution_count": 44,
     "metadata": {},
     "output_type": "execute_result"
    }
   ],
   "source": [
    "len(js['features'])"
   ]
  },
  {
   "cell_type": "markdown",
   "id": "8ba860e0-6009-48b1-8254-ad493faa6afc",
   "metadata": {},
   "source": [
    "Can also be done with "
   ]
  },
  {
   "cell_type": "code",
   "execution_count": 45,
   "id": "92fb3c5a-57dc-4fd6-ba76-25f9b44fba3f",
   "metadata": {},
   "outputs": [
    {
     "data": {
      "text/plain": [
       "481"
      ]
     },
     "execution_count": 45,
     "metadata": {},
     "output_type": "execute_result"
    }
   ],
   "source": [
    "len(sydney_aoi)"
   ]
  },
  {
   "cell_type": "markdown",
   "id": "229f12f9-29de-430d-9ea2-7a752d57b6f9",
   "metadata": {},
   "source": [
    "Checking the `myDict['features'][0].get('properties')` dictionary, some interesting properties to explore are: \n",
    "* CLOUD_COVER\n",
    "* cloud_probability\n",
    "* DATE_ACQUIRED\n",
    "* 'system:index' \n",
    "\n",
    "this is another date, one day after DATE_ACQUIRED.\n",
    "* CLOUD_COVER_LAND\n",
    "* COLLECTION_NUMBER\n",
    "\n",
    "Checking the `myDict['features'][0].get('id')` dictionary has a date that is one day after DATE_acquired.\n"
   ]
  },
  {
   "cell_type": "code",
   "execution_count": 46,
   "id": "ae0e118b-a942-456b-b0e5-29aeca4362e1",
   "metadata": {},
   "outputs": [
    {
     "data": {
      "text/plain": [
       "array([3.480e+00, 1.097e+01, 4.043e+01, 7.651e+01, 3.200e-01, 5.000e-02,\n",
       "       5.469e+01, 1.080e+01, 2.000e-02, 1.417e+01, 1.960e+00, 1.000e-02])"
      ]
     },
     "execution_count": 46,
     "metadata": {},
     "output_type": "execute_result"
    }
   ],
   "source": [
    "cloudScore_landsat"
   ]
  },
  {
   "cell_type": "raw",
   "id": "43a38a31-8453-4262-bc1b-73e6d948c7ec",
   "metadata": {},
   "source": [
    "myDict['features']"
   ]
  },
  {
   "cell_type": "raw",
   "id": "c19d024a-b988-4025-beab-0f9b4bb3e22d",
   "metadata": {},
   "source": [
    "myDict['features'][0].get('properties')"
   ]
  },
  {
   "cell_type": "markdown",
   "id": "f7a88d63-ff41-4eb4-9cf6-e36171c9fa18",
   "metadata": {
    "jp-MarkdownHeadingCollapsed": true,
    "tags": []
   },
   "source": [
    "# Extracting properties for individual polygons from original AOI"
   ]
  },
  {
   "cell_type": "code",
   "execution_count": 47,
   "id": "1613f0a6-b966-4ed4-9553-77f476203e2d",
   "metadata": {},
   "outputs": [],
   "source": [
    "def get_imageCollections(bounds: ee.geometry.Geometry, dates: tuple): # returns imageCollection\n",
    "\n",
    "    get_landsat_collection = ee_download.get_landsat_collection\n",
    "    landsat_imgs = get_landsat_collection(date_start=dates[0], date_end=dates[1] , bounds= bounds)\n",
    "\n",
    "    get_s2_collection = ee_download.get_s2_collection\n",
    "    s2_imgs = get_s2_collection(date_start=dates[0], date_end=dates[1] , bounds= bounds)\n",
    "    \n",
    "    return landsat_imgs, s2_imgs"
   ]
  },
  {
   "cell_type": "code",
   "execution_count": 48,
   "id": "5f128efa-50f1-48c2-b391-1b3e1f287e9d",
   "metadata": {},
   "outputs": [],
   "source": [
    "def get_datetime(date_range: tuple): # function returns a tuple containing datetime\n",
    "    datetime_start= datetime.strptime(date_range[0], '%d/%m/%y')\n",
    "    datetime_end= datetime.strptime(date_range[1], '%d/%m/%y')\n",
    "    \n",
    "    start_year = datetime_start.year\n",
    "    end_year = datetime_end.year\n",
    "    \n",
    "    return datetime_start, datetime_end, start_year, end_year "
   ]
  },
  {
   "cell_type": "code",
   "execution_count": 49,
   "id": "be58832e-7bea-403d-8e3a-b0fba15ec566",
   "metadata": {},
   "outputs": [],
   "source": [
    "def read_aoi(my_gpd_aoi:str):\n",
    "    my_aoi = gpd.read_file(my_gpd_aoi)\n",
    "    \n",
    "    aoi_codes = my_aoi['aoi_code']\n",
    "    js = json.loads(my_aoi.to_json()) # convertin gthe aoi to a json and getting the \n",
    "    bounds = ee.Geometry(ee.FeatureCollection(js).geometry())\n",
    "    \n",
    "    return bounds, aoi_codes"
   ]
  },
  {
   "cell_type": "code",
   "execution_count": 50,
   "id": "85a03bf8-a4b6-46c1-9c24-bbe4016a59c5",
   "metadata": {},
   "outputs": [],
   "source": [
    "def extract_properties(landsat_imgs, s2_imgs, init_bounds, aoi_code):\n",
    "    \n",
    "    coordinates = init_bounds['coordinates']\n",
    "    \n",
    "    landsat_dict = landsat_imgs.getInfo()\n",
    "    s2_dict = s2_imgs.getInfo()\n",
    "    \n",
    "    n_landsat = len(landsat_dict['features'])\n",
    "    print('Landsat images:', n_landsat)\n",
    "    n_s2 = len(s2_dict['features'])\n",
    "    print('s2 images:', n_s2)\n",
    "    \n",
    "    n_total = n_landsat + n_s2 \n",
    "    \n",
    "    properties_df = pd.DataFrame(index=np.arange(0, n_total), columns=['id', 'source', 'cloud_cover', 'percentage_valid_pixels', 'coordinates', 'aoi_code']) \n",
    "    \n",
    "    \n",
    "    for i in range(n_landsat):\n",
    "        properties_df['id'][i] = landsat_dict['features'][i].get('id')\n",
    "        properties_df['source'][i] = 'landsat'\n",
    "        properties_df['cloud_cover'][i] = landsat_dict['features'][i].get('properties')['CLOUD_COVER']\n",
    "        properties_df['percentage_valid_pixels'][i] = landsat_dict['features'][i].get('properties')['valids'] \n",
    "        properties_df['coordinates'][i] = coordinates\n",
    "        properties_df['aoi_code'][i] = aoi_code\n",
    "        #find area/co-ordinates associated with each image\n",
    "        \n",
    "    for i in range(n_s2):\n",
    "        j = i + n_landsat\n",
    "        \n",
    "        properties_df['id'][j] = s2_dict['features'][i].get('id')\n",
    "        properties_df['source'][j] = 's2'\n",
    "        properties_df['cloud_cover'][j] = s2_dict['features'][i].get('properties')['CLOUD_COVERAGE_ASSESSMENT']\n",
    "        properties_df['percentage_valid_pixels'][j] = s2_dict['features'][i].get('properties')['valids'] \n",
    "        properties_df['coordinates'][j] = coordinates\n",
    "        properties_df['aoi_code'][j] = aoi_code\n",
    "        #find area/co-ordinates associated with each image\n",
    "    \n",
    "    return properties_df"
   ]
  },
  {
   "cell_type": "code",
   "execution_count": 51,
   "id": "d1065420-4217-461b-af1c-0c1df95396e6",
   "metadata": {},
   "outputs": [],
   "source": [
    "test_dates = ('02/08/21', '03/09/21')\n",
    "\n",
    "test_datetime = get_datetime(test_dates)"
   ]
  },
  {
   "cell_type": "code",
   "execution_count": 52,
   "id": "0e5db082-fdcb-4e0d-8a52-3d00174109cb",
   "metadata": {},
   "outputs": [
    {
     "data": {
      "text/plain": [
       "0        AOI01\n",
       "1        AOI01\n",
       "2        AOI02\n",
       "3        AOI02\n",
       "4      AOI0289\n",
       "        ...   \n",
       "476      AOI97\n",
       "477      AOI98\n",
       "478      AOI98\n",
       "479      AOI99\n",
       "480      AOI99\n",
       "Name: aoi_code, Length: 481, dtype: object"
      ]
     },
     "execution_count": 52,
     "metadata": {},
     "output_type": "execute_result"
    }
   ],
   "source": [
    "sydney_aoi, sydney_aoi_codes = read_aoi('2022-07-21_aois.geojson')\n",
    "\n",
    "sydney_aoi_codes"
   ]
  },
  {
   "cell_type": "code",
   "execution_count": 53,
   "id": "02f100a7-5455-4f13-b0ff-b7e612d134d8",
   "metadata": {},
   "outputs": [
    {
     "data": {
      "text/plain": [
       "[[[147.09959654580408, -31.244618412374592],\n",
       "  [147.30959654580408, -31.244618412374592],\n",
       "  [147.30959654580408, -31.03461841237459],\n",
       "  [147.09959654580408, -31.03461841237459],\n",
       "  [147.09959654580408, -31.244618412374592]]]"
      ]
     },
     "execution_count": 53,
     "metadata": {},
     "output_type": "execute_result"
    }
   ],
   "source": [
    "sydney_aoi_all = sydney_aoi.getInfo()['coordinates']\n",
    "\n",
    "sydney_aoi_all[0]"
   ]
  },
  {
   "cell_type": "code",
   "execution_count": 54,
   "id": "bf6cac95-5162-4bdf-a3a3-36e43594908f",
   "metadata": {},
   "outputs": [
    {
     "data": {
      "text/plain": [
       "263"
      ]
     },
     "execution_count": 54,
     "metadata": {},
     "output_type": "execute_result"
    }
   ],
   "source": [
    "len(sydney_aoi_all)"
   ]
  },
  {
   "cell_type": "code",
   "execution_count": 55,
   "id": "9ee300fa-a1ea-4296-a37d-443d3db7372f",
   "metadata": {},
   "outputs": [
    {
     "data": {
      "text/plain": [
       "ee.geometry.Geometry"
      ]
     },
     "execution_count": 55,
     "metadata": {},
     "output_type": "execute_result"
    }
   ],
   "source": [
    "sydney_aoi_poly = ee.Geometry.Polygon(sydney_aoi_all[0])\n",
    "\n",
    "type(sydney_aoi_poly)"
   ]
  },
  {
   "cell_type": "code",
   "execution_count": 56,
   "id": "22434ea4-951d-4c50-b643-5c7b70115c5e",
   "metadata": {},
   "outputs": [
    {
     "data": {
      "text/plain": [
       "263"
      ]
     },
     "execution_count": 56,
     "metadata": {},
     "output_type": "execute_result"
    }
   ],
   "source": [
    "len(sydney_aoi_all)"
   ]
  },
  {
   "cell_type": "code",
   "execution_count": 57,
   "id": "2552b74a-fc7c-41cc-921e-26485cdb9306",
   "metadata": {},
   "outputs": [],
   "source": [
    "poly_landsat, poly_s2 = get_imageCollections(sydney_aoi_poly, test_datetime)"
   ]
  },
  {
   "cell_type": "code",
   "execution_count": 58,
   "id": "cbf401af-008e-4615-931f-35c67a9aaf36",
   "metadata": {},
   "outputs": [
    {
     "name": "stdout",
     "output_type": "stream",
     "text": [
      "Landsat images: 4\n",
      "s2 images: 13\n"
     ]
    }
   ],
   "source": [
    "test_poly_df = extract_properties(poly_landsat, poly_s2, sydney_aoi_poly, sydney_aoi_codes[0])"
   ]
  },
  {
   "cell_type": "code",
   "execution_count": 59,
   "id": "0f104575-3794-4b4b-abbc-8c8ad55dc966",
   "metadata": {},
   "outputs": [
    {
     "data": {
      "text/html": [
       "<div>\n",
       "<style scoped>\n",
       "    .dataframe tbody tr th:only-of-type {\n",
       "        vertical-align: middle;\n",
       "    }\n",
       "\n",
       "    .dataframe tbody tr th {\n",
       "        vertical-align: top;\n",
       "    }\n",
       "\n",
       "    .dataframe thead th {\n",
       "        text-align: right;\n",
       "    }\n",
       "</style>\n",
       "<table border=\"1\" class=\"dataframe\">\n",
       "  <thead>\n",
       "    <tr style=\"text-align: right;\">\n",
       "      <th></th>\n",
       "      <th>id</th>\n",
       "      <th>source</th>\n",
       "      <th>cloud_cover</th>\n",
       "      <th>percentage_valid_pixels</th>\n",
       "      <th>coordinates</th>\n",
       "      <th>aoi_code</th>\n",
       "    </tr>\n",
       "  </thead>\n",
       "  <tbody>\n",
       "    <tr>\n",
       "      <th>0</th>\n",
       "      <td>2021-08-13</td>\n",
       "      <td>landsat</td>\n",
       "      <td>0.02</td>\n",
       "      <td>1</td>\n",
       "      <td>[[[147.09959654580408, -31.244618412374592], [...</td>\n",
       "      <td>AOI01</td>\n",
       "    </tr>\n",
       "    <tr>\n",
       "      <th>1</th>\n",
       "      <td>2021-08-29</td>\n",
       "      <td>landsat</td>\n",
       "      <td>14.17</td>\n",
       "      <td>1</td>\n",
       "      <td>[[[147.09959654580408, -31.244618412374592], [...</td>\n",
       "      <td>AOI01</td>\n",
       "    </tr>\n",
       "    <tr>\n",
       "      <th>2</th>\n",
       "      <td>2021-08-04</td>\n",
       "      <td>landsat</td>\n",
       "      <td>1.96</td>\n",
       "      <td>0.279306</td>\n",
       "      <td>[[[147.09959654580408, -31.244618412374592], [...</td>\n",
       "      <td>AOI01</td>\n",
       "    </tr>\n",
       "    <tr>\n",
       "      <th>3</th>\n",
       "      <td>2021-08-20</td>\n",
       "      <td>landsat</td>\n",
       "      <td>0.01</td>\n",
       "      <td>0.276128</td>\n",
       "      <td>[[[147.09959654580408, -31.244618412374592], [...</td>\n",
       "      <td>AOI01</td>\n",
       "    </tr>\n",
       "    <tr>\n",
       "      <th>4</th>\n",
       "      <td>2021-08-03</td>\n",
       "      <td>s2</td>\n",
       "      <td>3.0108</td>\n",
       "      <td>1</td>\n",
       "      <td>[[[147.09959654580408, -31.244618412374592], [...</td>\n",
       "      <td>AOI01</td>\n",
       "    </tr>\n",
       "    <tr>\n",
       "      <th>5</th>\n",
       "      <td>2021-08-05</td>\n",
       "      <td>s2</td>\n",
       "      <td>40.112</td>\n",
       "      <td>1</td>\n",
       "      <td>[[[147.09959654580408, -31.244618412374592], [...</td>\n",
       "      <td>AOI01</td>\n",
       "    </tr>\n",
       "    <tr>\n",
       "      <th>6</th>\n",
       "      <td>2021-08-08</td>\n",
       "      <td>s2</td>\n",
       "      <td>2.0378</td>\n",
       "      <td>1</td>\n",
       "      <td>[[[147.09959654580408, -31.244618412374592], [...</td>\n",
       "      <td>AOI01</td>\n",
       "    </tr>\n",
       "    <tr>\n",
       "      <th>7</th>\n",
       "      <td>2021-08-10</td>\n",
       "      <td>s2</td>\n",
       "      <td>0</td>\n",
       "      <td>1</td>\n",
       "      <td>[[[147.09959654580408, -31.244618412374592], [...</td>\n",
       "      <td>AOI01</td>\n",
       "    </tr>\n",
       "    <tr>\n",
       "      <th>8</th>\n",
       "      <td>2021-08-13</td>\n",
       "      <td>s2</td>\n",
       "      <td>0.0281</td>\n",
       "      <td>1</td>\n",
       "      <td>[[[147.09959654580408, -31.244618412374592], [...</td>\n",
       "      <td>AOI01</td>\n",
       "    </tr>\n",
       "    <tr>\n",
       "      <th>9</th>\n",
       "      <td>2021-08-15</td>\n",
       "      <td>s2</td>\n",
       "      <td>5.4465</td>\n",
       "      <td>1</td>\n",
       "      <td>[[[147.09959654580408, -31.244618412374592], [...</td>\n",
       "      <td>AOI01</td>\n",
       "    </tr>\n",
       "    <tr>\n",
       "      <th>10</th>\n",
       "      <td>2021-08-18</td>\n",
       "      <td>s2</td>\n",
       "      <td>0.2876</td>\n",
       "      <td>1</td>\n",
       "      <td>[[[147.09959654580408, -31.244618412374592], [...</td>\n",
       "      <td>AOI01</td>\n",
       "    </tr>\n",
       "    <tr>\n",
       "      <th>11</th>\n",
       "      <td>2021-08-20</td>\n",
       "      <td>s2</td>\n",
       "      <td>0.6071</td>\n",
       "      <td>1</td>\n",
       "      <td>[[[147.09959654580408, -31.244618412374592], [...</td>\n",
       "      <td>AOI01</td>\n",
       "    </tr>\n",
       "    <tr>\n",
       "      <th>12</th>\n",
       "      <td>2021-08-23</td>\n",
       "      <td>s2</td>\n",
       "      <td>33.5172</td>\n",
       "      <td>1</td>\n",
       "      <td>[[[147.09959654580408, -31.244618412374592], [...</td>\n",
       "      <td>AOI01</td>\n",
       "    </tr>\n",
       "    <tr>\n",
       "      <th>13</th>\n",
       "      <td>2021-08-25</td>\n",
       "      <td>s2</td>\n",
       "      <td>0.1036</td>\n",
       "      <td>1</td>\n",
       "      <td>[[[147.09959654580408, -31.244618412374592], [...</td>\n",
       "      <td>AOI01</td>\n",
       "    </tr>\n",
       "    <tr>\n",
       "      <th>14</th>\n",
       "      <td>2021-08-28</td>\n",
       "      <td>s2</td>\n",
       "      <td>0</td>\n",
       "      <td>1</td>\n",
       "      <td>[[[147.09959654580408, -31.244618412374592], [...</td>\n",
       "      <td>AOI01</td>\n",
       "    </tr>\n",
       "    <tr>\n",
       "      <th>15</th>\n",
       "      <td>2021-08-30</td>\n",
       "      <td>s2</td>\n",
       "      <td>97.7998</td>\n",
       "      <td>1</td>\n",
       "      <td>[[[147.09959654580408, -31.244618412374592], [...</td>\n",
       "      <td>AOI01</td>\n",
       "    </tr>\n",
       "    <tr>\n",
       "      <th>16</th>\n",
       "      <td>2021-09-02</td>\n",
       "      <td>s2</td>\n",
       "      <td>0</td>\n",
       "      <td>1</td>\n",
       "      <td>[[[147.09959654580408, -31.244618412374592], [...</td>\n",
       "      <td>AOI01</td>\n",
       "    </tr>\n",
       "  </tbody>\n",
       "</table>\n",
       "</div>"
      ],
      "text/plain": [
       "            id   source cloud_cover percentage_valid_pixels  \\\n",
       "0   2021-08-13  landsat        0.02                       1   \n",
       "1   2021-08-29  landsat       14.17                       1   \n",
       "2   2021-08-04  landsat        1.96                0.279306   \n",
       "3   2021-08-20  landsat        0.01                0.276128   \n",
       "4   2021-08-03       s2      3.0108                       1   \n",
       "5   2021-08-05       s2      40.112                       1   \n",
       "6   2021-08-08       s2      2.0378                       1   \n",
       "7   2021-08-10       s2           0                       1   \n",
       "8   2021-08-13       s2      0.0281                       1   \n",
       "9   2021-08-15       s2      5.4465                       1   \n",
       "10  2021-08-18       s2      0.2876                       1   \n",
       "11  2021-08-20       s2      0.6071                       1   \n",
       "12  2021-08-23       s2     33.5172                       1   \n",
       "13  2021-08-25       s2      0.1036                       1   \n",
       "14  2021-08-28       s2           0                       1   \n",
       "15  2021-08-30       s2     97.7998                       1   \n",
       "16  2021-09-02       s2           0                       1   \n",
       "\n",
       "                                          coordinates aoi_code  \n",
       "0   [[[147.09959654580408, -31.244618412374592], [...    AOI01  \n",
       "1   [[[147.09959654580408, -31.244618412374592], [...    AOI01  \n",
       "2   [[[147.09959654580408, -31.244618412374592], [...    AOI01  \n",
       "3   [[[147.09959654580408, -31.244618412374592], [...    AOI01  \n",
       "4   [[[147.09959654580408, -31.244618412374592], [...    AOI01  \n",
       "5   [[[147.09959654580408, -31.244618412374592], [...    AOI01  \n",
       "6   [[[147.09959654580408, -31.244618412374592], [...    AOI01  \n",
       "7   [[[147.09959654580408, -31.244618412374592], [...    AOI01  \n",
       "8   [[[147.09959654580408, -31.244618412374592], [...    AOI01  \n",
       "9   [[[147.09959654580408, -31.244618412374592], [...    AOI01  \n",
       "10  [[[147.09959654580408, -31.244618412374592], [...    AOI01  \n",
       "11  [[[147.09959654580408, -31.244618412374592], [...    AOI01  \n",
       "12  [[[147.09959654580408, -31.244618412374592], [...    AOI01  \n",
       "13  [[[147.09959654580408, -31.244618412374592], [...    AOI01  \n",
       "14  [[[147.09959654580408, -31.244618412374592], [...    AOI01  \n",
       "15  [[[147.09959654580408, -31.244618412374592], [...    AOI01  \n",
       "16  [[[147.09959654580408, -31.244618412374592], [...    AOI01  "
      ]
     },
     "execution_count": 59,
     "metadata": {},
     "output_type": "execute_result"
    }
   ],
   "source": [
    "test_poly_df"
   ]
  },
  {
   "cell_type": "code",
   "execution_count": 60,
   "id": "eb358cc1-c9d4-4fab-bc68-32b9aaf7a846",
   "metadata": {},
   "outputs": [
    {
     "data": {
      "text/plain": [
       "[[[147.09959654580408, -31.244618412374592],\n",
       "  [147.30959654580408, -31.244618412374592],\n",
       "  [147.30959654580408, -31.03461841237459],\n",
       "  [147.09959654580408, -31.03461841237459],\n",
       "  [147.09959654580408, -31.244618412374592]]]"
      ]
     },
     "execution_count": 60,
     "metadata": {},
     "output_type": "execute_result"
    }
   ],
   "source": [
    "test_poly_df['coordinates'][0]"
   ]
  },
  {
   "cell_type": "code",
   "execution_count": 61,
   "id": "cb7e0a4a-8ea7-4c93-b65d-3096b5304f30",
   "metadata": {},
   "outputs": [
    {
     "data": {
      "text/plain": [
       "(17, 6)"
      ]
     },
     "execution_count": 61,
     "metadata": {},
     "output_type": "execute_result"
    }
   ],
   "source": [
    "test_poly_df.shape"
   ]
  },
  {
   "cell_type": "markdown",
   "id": "4ae1571e-c45a-497b-87f3-8b9d1d7ec210",
   "metadata": {},
   "source": [
    "**QUESTION** Previously we had 12 images for landsat and 26 images for s2, is the decrease we see above due to only selecting a single AOI from `sydney_aoi_codes`? "
   ]
  },
  {
   "cell_type": "markdown",
   "id": "5af8bfaf-2282-4c3c-88fc-c711441d44db",
   "metadata": {},
   "source": [
    "`test_poly_df` Now has the properties from the iamges for a single polygon of an AOI, being from `sydney_aoi_all[0]`. We want to link all the AOI codes to each polygon. \n",
    "\n",
    "It seems like for each polygon we need to check each image and associate the AOI to that polygon."
   ]
  },
  {
   "cell_type": "markdown",
   "id": "59e4aad6-9936-4dad-b9bb-5b5c4da52e70",
   "metadata": {},
   "source": [
    "# Getting the images for multiple polygons"
   ]
  },
  {
   "cell_type": "code",
   "execution_count": 62,
   "id": "0341f530-4da8-428c-9010-c0dcfcd23f1d",
   "metadata": {},
   "outputs": [
    {
     "data": {
      "text/plain": [
       "ee.geometry.Geometry"
      ]
     },
     "execution_count": 62,
     "metadata": {},
     "output_type": "execute_result"
    }
   ],
   "source": [
    "type(sydney_aoi_poly)"
   ]
  },
  {
   "cell_type": "markdown",
   "id": "13427465-a41a-4c59-b44f-f77e1fd07816",
   "metadata": {},
   "source": [
    "Getting the first 20 polygons instead of all 263 (long processing times when getting the imageCollection. If you run on all 263 polygons, takes about 10 minutes."
   ]
  },
  {
   "cell_type": "code",
   "execution_count": 63,
   "id": "a9e21b15-5585-4f30-8888-72713f7e857e",
   "metadata": {},
   "outputs": [],
   "source": [
    "sydney_aoi, sydney_aoi_codes = read_aoi('2022-07-21_aois.geojson')\n",
    "\n",
    "# sydney_aoi_codes"
   ]
  },
  {
   "cell_type": "code",
   "execution_count": 64,
   "id": "9b01080d-35ab-49f4-a26b-6c9e0a237fb7",
   "metadata": {},
   "outputs": [
    {
     "data": {
      "text/plain": [
       "[[[147.09959654580408, -31.244618412374592],\n",
       "  [147.30959654580408, -31.244618412374592],\n",
       "  [147.30959654580408, -31.03461841237459],\n",
       "  [147.09959654580408, -31.03461841237459],\n",
       "  [147.09959654580408, -31.244618412374592]]]"
      ]
     },
     "execution_count": 64,
     "metadata": {},
     "output_type": "execute_result"
    }
   ],
   "source": [
    "sydney_aoi_all = sydney_aoi.getInfo()['coordinates']\n",
    "\n",
    "sydney_aoi_all[0]"
   ]
  },
  {
   "cell_type": "code",
   "execution_count": 65,
   "id": "cf49de89-6c07-4f05-b645-3878e5603633",
   "metadata": {},
   "outputs": [
    {
     "data": {
      "text/plain": [
       "numpy.ndarray"
      ]
     },
     "execution_count": 65,
     "metadata": {},
     "output_type": "execute_result"
    }
   ],
   "source": [
    "sydney_aoi_poly = []\n",
    "for i in range(len(sydney_aoi_all[0:20])):\n",
    "    sydney_aoi_poly = np.append(sydney_aoi_poly, ee.Geometry.Polygon(sydney_aoi_all[i]))\n",
    "    \n",
    "type(sydney_aoi_poly)"
   ]
  },
  {
   "cell_type": "code",
   "execution_count": 66,
   "id": "c44673c0-6080-466a-bb82-3bf552d209c6",
   "metadata": {},
   "outputs": [
    {
     "data": {
      "text/plain": [
       "ee.geometry.Geometry"
      ]
     },
     "execution_count": 66,
     "metadata": {},
     "output_type": "execute_result"
    }
   ],
   "source": [
    "type(sydney_aoi_poly[0])"
   ]
  },
  {
   "cell_type": "markdown",
   "id": "dd78c727-07da-47d3-b62b-b6a1376e7ddb",
   "metadata": {},
   "source": [
    "Getting the first 20 codes to match the first 20 polygons"
   ]
  },
  {
   "cell_type": "code",
   "execution_count": 67,
   "id": "1e148d06-e21f-4a15-bdcc-1d7de7867f95",
   "metadata": {},
   "outputs": [],
   "source": [
    "sydney_aoi_codes = sydney_aoi_codes[0:20]"
   ]
  },
  {
   "cell_type": "code",
   "execution_count": 68,
   "id": "12f95ce3-2335-4334-a6c3-f129b5e0085f",
   "metadata": {},
   "outputs": [
    {
     "data": {
      "text/plain": [
       "20"
      ]
     },
     "execution_count": 68,
     "metadata": {},
     "output_type": "execute_result"
    }
   ],
   "source": [
    "len(sydney_aoi_poly)"
   ]
  },
  {
   "cell_type": "code",
   "execution_count": 69,
   "id": "adb8172c-f4f2-46c6-b6dd-dbe40891fc93",
   "metadata": {},
   "outputs": [],
   "source": [
    "def get_imageCollections(bounds: np.ndarray, dates: tuple): # returns imageCollection\n",
    "\n",
    "    get_landsat_collection = ee_download.get_landsat_collection\n",
    "    get_s2_collection = ee_download.get_s2_collection\n",
    "    \n",
    "    landsat_imgs = []\n",
    "    s2_imgs = []\n",
    "    \n",
    "    for i in range(len(sydney_aoi_poly)):\n",
    "        landsat_imgs = np.append(landsat_imgs, get_landsat_collection(date_start=dates[0], date_end=dates[1] , bounds= bounds[i]))\n",
    "        s2_imgs = np.append(s2_imgs, get_s2_collection(date_start=dates[0], date_end=dates[1] , bounds= bounds[i]))\n",
    "\n",
    "    return landsat_imgs, s2_imgs"
   ]
  },
  {
   "cell_type": "code",
   "execution_count": 70,
   "id": "d37bbe11-4fe0-4a5e-b3b9-703d54b0eae5",
   "metadata": {},
   "outputs": [],
   "source": [
    "poly_landsat, poly_s2 = get_imageCollections(sydney_aoi_poly, test_datetime)"
   ]
  },
  {
   "cell_type": "code",
   "execution_count": 71,
   "id": "96f145ff-3672-46fb-b346-6bb341c63ec9",
   "metadata": {},
   "outputs": [
    {
     "data": {
      "text/plain": [
       "4"
      ]
     },
     "execution_count": 71,
     "metadata": {},
     "output_type": "execute_result"
    }
   ],
   "source": [
    "len(poly_landsat[0].getInfo()['features'])"
   ]
  },
  {
   "cell_type": "markdown",
   "id": "b675acc3-6a62-48df-affb-49ef11bdc37d",
   "metadata": {},
   "source": [
    "Checking how many images are in each of the firs 20 polygons"
   ]
  },
  {
   "cell_type": "code",
   "execution_count": 72,
   "id": "8c53f449-3cbb-463e-b55a-5fa627ff5a9c",
   "metadata": {},
   "outputs": [
    {
     "name": "stdout",
     "output_type": "stream",
     "text": [
      "4\n",
      "4\n",
      "2\n",
      "2\n",
      "4\n",
      "4\n",
      "4\n",
      "4\n",
      "4\n",
      "4\n",
      "4\n",
      "4\n",
      "4\n",
      "4\n",
      "4\n",
      "4\n",
      "4\n",
      "4\n",
      "4\n",
      "4\n"
     ]
    }
   ],
   "source": [
    "for i in range(len(poly_landsat)):\n",
    "    print(len(poly_landsat[i].getInfo()['features']))    "
   ]
  },
  {
   "cell_type": "code",
   "execution_count": 73,
   "id": "e7f3e0dc-6fd2-48ee-9e0f-457862df62e5",
   "metadata": {},
   "outputs": [
    {
     "data": {
      "text/plain": [
       "20"
      ]
     },
     "execution_count": 73,
     "metadata": {},
     "output_type": "execute_result"
    }
   ],
   "source": [
    "len(sydney_aoi_poly)"
   ]
  },
  {
   "cell_type": "code",
   "execution_count": 74,
   "id": "1c32d9f7-c70a-42e1-9225-913769c4318b",
   "metadata": {},
   "outputs": [
    {
     "data": {
      "text/plain": [
       "[[[147.09959654580408, -31.244618412374592],\n",
       "  [147.30959654580408, -31.244618412374592],\n",
       "  [147.30959654580408, -31.03461841237459],\n",
       "  [147.09959654580408, -31.03461841237459],\n",
       "  [147.09959654580408, -31.244618412374592]]]"
      ]
     },
     "execution_count": 74,
     "metadata": {},
     "output_type": "execute_result"
    }
   ],
   "source": [
    "sydney_aoi_poly[0]['coordinates']"
   ]
  },
  {
   "cell_type": "code",
   "execution_count": 84,
   "id": "1d0e45bc-461d-4c3b-bb0a-e895a9ab7f82",
   "metadata": {},
   "outputs": [],
   "source": [
    "landsat_coordinates = [[] for _ in range(len(poly_landsat))] # creating number of lists to match the number of polygons so that each polygon will have it's coordinates\n",
    "n_landsat = []\n",
    "\n",
    "for i in range(len(poly_landsat)):\n",
    "    landsat_coordinates[i] = sydney_aoi_poly[i]['coordinates']\n",
    "\n",
    "    n_landsat = np.append(n_landsat, len(poly_landsat[i].getInfo()['features'])) # Of the 20 indices, there will be the number of images in each. \n"
   ]
  },
  {
   "cell_type": "markdown",
   "id": "25429326-b450-436a-8a0f-0a0e801670ac",
   "metadata": {},
   "source": [
    "Trying to make a DF that isn't nested. Creating the DF comes later, first let's try to make lists that will be used to populate the DF. "
   ]
  },
  {
   "cell_type": "code",
   "execution_count": 76,
   "id": "0df97dcd-bf17-4e92-97e6-f66032e30eb6",
   "metadata": {},
   "outputs": [],
   "source": [
    "id_list = []\n",
    "cloudCover_list = []\n",
    "validPixels_list = []\n",
    "# coordinates_list = []\n",
    "# aoi_list = []\n",
    "source_list = ['landsat']*np.int(n_landsat.sum()) # creating a list the size of the total number of images of all the polygons\n",
    "\n",
    "for i in range(len(poly_landsat)): # Iterating through all the polygons\n",
    "    \n",
    "    for k in range(np.int(n_landsat[i])): # Iterating through all the images of each polygon\n",
    "        \n",
    "        id_list = np.append(id_list, poly_landsat[i].getInfo()['features'][k].get('id'))\n",
    "        cloudCover_list = np.append(cloudCover_list, poly_landsat[i].getInfo()['features'][k].get('properties')['CLOUD_COVER'])\n",
    "        validPixels_list = np.append(validPixels_list, poly_landsat[i].getInfo()['features'][k].get('properties')['valids'])\n",
    "        # coordinates_list = landsat_coordinates[i]\n",
    "        # aoi_list = sydney_aoi_codes[i]\n"
   ]
  },
  {
   "cell_type": "markdown",
   "id": "e266bcfb-049e-4912-b884-5c0cbd1e36fd",
   "metadata": {},
   "source": [
    "Having issues with coordinates and aoi, commented them out and will work on them in a separate cell. "
   ]
  },
  {
   "cell_type": "code",
   "execution_count": 78,
   "id": "c4a2cf40-4007-44bf-9d59-73b29fb14024",
   "metadata": {},
   "outputs": [
    {
     "data": {
      "text/plain": [
       "20"
      ]
     },
     "execution_count": 78,
     "metadata": {},
     "output_type": "execute_result"
    }
   ],
   "source": [
    "len(landsat_coordinates)"
   ]
  },
  {
   "cell_type": "code",
   "execution_count": 85,
   "id": "18b08d91-b72a-4100-8605-dc523588d1b8",
   "metadata": {},
   "outputs": [
    {
     "data": {
      "text/plain": [
       "[[[147.09959654580408, -31.244618412374592],\n",
       "  [147.30959654580408, -31.244618412374592],\n",
       "  [147.30959654580408, -31.03461841237459],\n",
       "  [147.09959654580408, -31.03461841237459],\n",
       "  [147.09959654580408, -31.244618412374592]]]"
      ]
     },
     "execution_count": 85,
     "metadata": {},
     "output_type": "execute_result"
    }
   ],
   "source": [
    "landsat_coordinates[0]"
   ]
  },
  {
   "cell_type": "code",
   "execution_count": null,
   "id": "01d743af-9983-46e0-afe3-7410f2ac27d5",
   "metadata": {},
   "outputs": [],
   "source": [
    "coordinates_list = [] # creating number of lists to match the number of polygons so that each polygon will have it's coordinates\n",
    "\n",
    "aoi_list = []\n",
    "\n",
    "for i in range(len(poly_landsat)): # Iterating through all the polygons\n",
    "    \n",
    "    for k in range(len(poly_landsat[i].getInfo()['features'])): # Iterating through all the images of each polygon\n",
    "        \n",
    "        print(k)\n",
    "        \n",
    "        aoi_list = np.append(aoi_list, sydney_aoi_codes[i])\n",
    "        \n",
    "        index_coord = landsat_coordinates[i]\n",
    "        \n",
    "        print(index_coord)\n",
    "\n",
    "        coordinates_list.extend(index_coord)"
   ]
  },
  {
   "cell_type": "code",
   "execution_count": 110,
   "id": "7c9d59bb-c071-466b-9a0a-b2e921f8cbbb",
   "metadata": {},
   "outputs": [
    {
     "data": {
      "text/plain": [
       "76"
      ]
     },
     "execution_count": 110,
     "metadata": {},
     "output_type": "execute_result"
    }
   ],
   "source": [
    "len(coordinates_list)"
   ]
  },
  {
   "cell_type": "code",
   "execution_count": 111,
   "id": "4765f61f-a4fc-44e2-b48a-066c780f94d5",
   "metadata": {},
   "outputs": [
    {
     "data": {
      "text/plain": [
       "list"
      ]
     },
     "execution_count": 111,
     "metadata": {},
     "output_type": "execute_result"
    }
   ],
   "source": [
    "type(coordinates_list[0])"
   ]
  },
  {
   "cell_type": "markdown",
   "id": "e4a6ec61-f2a7-44a9-9b49-26937ce1614d",
   "metadata": {},
   "source": [
    "Managed to get the aoi list, but the coordinates list is having issues. For every polygon, the array of coordinates needs to be duplicated to the number of images that are in the polygon. "
   ]
  },
  {
   "cell_type": "code",
   "execution_count": 114,
   "id": "30eddbf3-9c33-4016-9720-5a7d9319db81",
   "metadata": {},
   "outputs": [
    {
     "data": {
      "text/html": [
       "<div>\n",
       "<style scoped>\n",
       "    .dataframe tbody tr th:only-of-type {\n",
       "        vertical-align: middle;\n",
       "    }\n",
       "\n",
       "    .dataframe tbody tr th {\n",
       "        vertical-align: top;\n",
       "    }\n",
       "\n",
       "    .dataframe thead th {\n",
       "        text-align: right;\n",
       "    }\n",
       "</style>\n",
       "<table border=\"1\" class=\"dataframe\">\n",
       "  <thead>\n",
       "    <tr style=\"text-align: right;\">\n",
       "      <th></th>\n",
       "      <th>id</th>\n",
       "      <th>cloud_cover</th>\n",
       "      <th>source</th>\n",
       "      <th>aoi_code</th>\n",
       "      <th>percentage_valid_pixels</th>\n",
       "      <th>geometry</th>\n",
       "    </tr>\n",
       "  </thead>\n",
       "  <tbody>\n",
       "    <tr>\n",
       "      <th>0</th>\n",
       "      <td>2021-08-13</td>\n",
       "      <td>0.02</td>\n",
       "      <td>landsat</td>\n",
       "      <td>AOI01</td>\n",
       "      <td>1.000000</td>\n",
       "      <td>[[147.09959654580408, -31.244618412374592], [1...</td>\n",
       "    </tr>\n",
       "    <tr>\n",
       "      <th>1</th>\n",
       "      <td>2021-08-29</td>\n",
       "      <td>14.17</td>\n",
       "      <td>landsat</td>\n",
       "      <td>AOI01</td>\n",
       "      <td>1.000000</td>\n",
       "      <td>[[147.09959654580408, -31.244618412374592], [1...</td>\n",
       "    </tr>\n",
       "    <tr>\n",
       "      <th>2</th>\n",
       "      <td>2021-08-04</td>\n",
       "      <td>1.96</td>\n",
       "      <td>landsat</td>\n",
       "      <td>AOI01</td>\n",
       "      <td>0.279306</td>\n",
       "      <td>[[147.09959654580408, -31.244618412374592], [1...</td>\n",
       "    </tr>\n",
       "    <tr>\n",
       "      <th>3</th>\n",
       "      <td>2021-08-20</td>\n",
       "      <td>0.01</td>\n",
       "      <td>landsat</td>\n",
       "      <td>AOI01</td>\n",
       "      <td>0.276128</td>\n",
       "      <td>[[147.09959654580408, -31.244618412374592], [1...</td>\n",
       "    </tr>\n",
       "    <tr>\n",
       "      <th>4</th>\n",
       "      <td>2021-08-13</td>\n",
       "      <td>0.02</td>\n",
       "      <td>landsat</td>\n",
       "      <td>AOI01</td>\n",
       "      <td>1.000000</td>\n",
       "      <td>[[147.09959654580408, -31.04461841237459], [14...</td>\n",
       "    </tr>\n",
       "    <tr>\n",
       "      <th>5</th>\n",
       "      <td>2021-08-29</td>\n",
       "      <td>14.17</td>\n",
       "      <td>landsat</td>\n",
       "      <td>AOI01</td>\n",
       "      <td>1.000000</td>\n",
       "      <td>[[147.09959654580408, -31.04461841237459], [14...</td>\n",
       "    </tr>\n",
       "    <tr>\n",
       "      <th>6</th>\n",
       "      <td>2021-08-04</td>\n",
       "      <td>1.96</td>\n",
       "      <td>landsat</td>\n",
       "      <td>AOI01</td>\n",
       "      <td>0.521599</td>\n",
       "      <td>[[147.09959654580408, -31.04461841237459], [14...</td>\n",
       "    </tr>\n",
       "    <tr>\n",
       "      <th>7</th>\n",
       "      <td>2021-08-20</td>\n",
       "      <td>0.01</td>\n",
       "      <td>landsat</td>\n",
       "      <td>AOI01</td>\n",
       "      <td>0.518510</td>\n",
       "      <td>[[147.09959654580408, -31.04461841237459], [14...</td>\n",
       "    </tr>\n",
       "    <tr>\n",
       "      <th>8</th>\n",
       "      <td>2021-08-13</td>\n",
       "      <td>2.36</td>\n",
       "      <td>landsat</td>\n",
       "      <td>AOI02</td>\n",
       "      <td>1.000000</td>\n",
       "      <td>[[147.4996031608572, -32.44460560526437], [147...</td>\n",
       "    </tr>\n",
       "    <tr>\n",
       "      <th>9</th>\n",
       "      <td>2021-08-29</td>\n",
       "      <td>56.97</td>\n",
       "      <td>landsat</td>\n",
       "      <td>AOI02</td>\n",
       "      <td>1.000000</td>\n",
       "      <td>[[147.4996031608572, -32.44460560526437], [147...</td>\n",
       "    </tr>\n",
       "  </tbody>\n",
       "</table>\n",
       "</div>"
      ],
      "text/plain": [
       "           id  cloud_cover   source aoi_code  percentage_valid_pixels  \\\n",
       "0  2021-08-13         0.02  landsat    AOI01                 1.000000   \n",
       "1  2021-08-29        14.17  landsat    AOI01                 1.000000   \n",
       "2  2021-08-04         1.96  landsat    AOI01                 0.279306   \n",
       "3  2021-08-20         0.01  landsat    AOI01                 0.276128   \n",
       "4  2021-08-13         0.02  landsat    AOI01                 1.000000   \n",
       "5  2021-08-29        14.17  landsat    AOI01                 1.000000   \n",
       "6  2021-08-04         1.96  landsat    AOI01                 0.521599   \n",
       "7  2021-08-20         0.01  landsat    AOI01                 0.518510   \n",
       "8  2021-08-13         2.36  landsat    AOI02                 1.000000   \n",
       "9  2021-08-29        56.97  landsat    AOI02                 1.000000   \n",
       "\n",
       "                                            geometry  \n",
       "0  [[147.09959654580408, -31.244618412374592], [1...  \n",
       "1  [[147.09959654580408, -31.244618412374592], [1...  \n",
       "2  [[147.09959654580408, -31.244618412374592], [1...  \n",
       "3  [[147.09959654580408, -31.244618412374592], [1...  \n",
       "4  [[147.09959654580408, -31.04461841237459], [14...  \n",
       "5  [[147.09959654580408, -31.04461841237459], [14...  \n",
       "6  [[147.09959654580408, -31.04461841237459], [14...  \n",
       "7  [[147.09959654580408, -31.04461841237459], [14...  \n",
       "8  [[147.4996031608572, -32.44460560526437], [147...  \n",
       "9  [[147.4996031608572, -32.44460560526437], [147...  "
      ]
     },
     "execution_count": 114,
     "metadata": {},
     "output_type": "execute_result"
    }
   ],
   "source": [
    "landsat_gdf = gpd.GeoDataFrame({'id':id_list, 'cloud_cover':cloudCover_list, 'source': source_list, 'aoi_code': aoi_list, 'percentage_valid_pixels': validPixels_list, 'geometry':coordinates_list})\n",
    "landsat_gdf.head(10)"
   ]
  },
  {
   "cell_type": "code",
   "execution_count": 115,
   "id": "5e2d2f12-e1bc-4ebf-b2ce-a173d5c2abc2",
   "metadata": {},
   "outputs": [
    {
     "data": {
      "text/plain": [
       "list"
      ]
     },
     "execution_count": 115,
     "metadata": {},
     "output_type": "execute_result"
    }
   ],
   "source": [
    "type(landsat_gdf.geometry[0])"
   ]
  },
  {
   "cell_type": "code",
   "execution_count": 116,
   "id": "7fbd8ae0-606c-48cb-9538-aff416c4de01",
   "metadata": {},
   "outputs": [],
   "source": [
    "from shapely.geometry import Polygon\n",
    "\n",
    "landsat_gdf['geometry'] = landsat_gdf['geometry'].apply(Polygon)"
   ]
  },
  {
   "cell_type": "code",
   "execution_count": 117,
   "id": "479f6191-c5a2-4c47-8a64-fbc093a3cf7b",
   "metadata": {},
   "outputs": [
    {
     "data": {
      "text/html": [
       "<div>\n",
       "<style scoped>\n",
       "    .dataframe tbody tr th:only-of-type {\n",
       "        vertical-align: middle;\n",
       "    }\n",
       "\n",
       "    .dataframe tbody tr th {\n",
       "        vertical-align: top;\n",
       "    }\n",
       "\n",
       "    .dataframe thead th {\n",
       "        text-align: right;\n",
       "    }\n",
       "</style>\n",
       "<table border=\"1\" class=\"dataframe\">\n",
       "  <thead>\n",
       "    <tr style=\"text-align: right;\">\n",
       "      <th></th>\n",
       "      <th>id</th>\n",
       "      <th>cloud_cover</th>\n",
       "      <th>source</th>\n",
       "      <th>aoi_code</th>\n",
       "      <th>percentage_valid_pixels</th>\n",
       "      <th>geometry</th>\n",
       "    </tr>\n",
       "  </thead>\n",
       "  <tbody>\n",
       "    <tr>\n",
       "      <th>0</th>\n",
       "      <td>2021-08-13</td>\n",
       "      <td>0.02</td>\n",
       "      <td>landsat</td>\n",
       "      <td>AOI01</td>\n",
       "      <td>1.000000</td>\n",
       "      <td>POLYGON ((147.09960 -31.24462, 147.30960 -31.2...</td>\n",
       "    </tr>\n",
       "    <tr>\n",
       "      <th>1</th>\n",
       "      <td>2021-08-29</td>\n",
       "      <td>14.17</td>\n",
       "      <td>landsat</td>\n",
       "      <td>AOI01</td>\n",
       "      <td>1.000000</td>\n",
       "      <td>POLYGON ((147.09960 -31.24462, 147.30960 -31.2...</td>\n",
       "    </tr>\n",
       "    <tr>\n",
       "      <th>2</th>\n",
       "      <td>2021-08-04</td>\n",
       "      <td>1.96</td>\n",
       "      <td>landsat</td>\n",
       "      <td>AOI01</td>\n",
       "      <td>0.279306</td>\n",
       "      <td>POLYGON ((147.09960 -31.24462, 147.30960 -31.2...</td>\n",
       "    </tr>\n",
       "    <tr>\n",
       "      <th>3</th>\n",
       "      <td>2021-08-20</td>\n",
       "      <td>0.01</td>\n",
       "      <td>landsat</td>\n",
       "      <td>AOI01</td>\n",
       "      <td>0.276128</td>\n",
       "      <td>POLYGON ((147.09960 -31.24462, 147.30960 -31.2...</td>\n",
       "    </tr>\n",
       "    <tr>\n",
       "      <th>4</th>\n",
       "      <td>2021-08-13</td>\n",
       "      <td>0.02</td>\n",
       "      <td>landsat</td>\n",
       "      <td>AOI01</td>\n",
       "      <td>1.000000</td>\n",
       "      <td>POLYGON ((147.09960 -31.04462, 147.30960 -31.0...</td>\n",
       "    </tr>\n",
       "    <tr>\n",
       "      <th>...</th>\n",
       "      <td>...</td>\n",
       "      <td>...</td>\n",
       "      <td>...</td>\n",
       "      <td>...</td>\n",
       "      <td>...</td>\n",
       "      <td>...</td>\n",
       "    </tr>\n",
       "    <tr>\n",
       "      <th>71</th>\n",
       "      <td>2021-08-29</td>\n",
       "      <td>56.97</td>\n",
       "      <td>landsat</td>\n",
       "      <td>AOI0395</td>\n",
       "      <td>0.705777</td>\n",
       "      <td>POLYGON ((148.29960 -32.24461, 148.50960 -32.2...</td>\n",
       "    </tr>\n",
       "    <tr>\n",
       "      <th>72</th>\n",
       "      <td>2021-08-06</td>\n",
       "      <td>54.69</td>\n",
       "      <td>landsat</td>\n",
       "      <td>AOI0396</td>\n",
       "      <td>1.000000</td>\n",
       "      <td>POLYGON ((148.29960 -32.04461, 148.50960 -32.0...</td>\n",
       "    </tr>\n",
       "    <tr>\n",
       "      <th>73</th>\n",
       "      <td>2021-08-22</td>\n",
       "      <td>10.80</td>\n",
       "      <td>landsat</td>\n",
       "      <td>AOI0396</td>\n",
       "      <td>1.000000</td>\n",
       "      <td>POLYGON ((148.29960 -32.04461, 148.50960 -32.0...</td>\n",
       "    </tr>\n",
       "    <tr>\n",
       "      <th>74</th>\n",
       "      <td>2021-08-13</td>\n",
       "      <td>2.36</td>\n",
       "      <td>landsat</td>\n",
       "      <td>AOI0396</td>\n",
       "      <td>0.932296</td>\n",
       "      <td>POLYGON ((148.29960 -32.04461, 148.50960 -32.0...</td>\n",
       "    </tr>\n",
       "    <tr>\n",
       "      <th>75</th>\n",
       "      <td>2021-08-29</td>\n",
       "      <td>56.97</td>\n",
       "      <td>landsat</td>\n",
       "      <td>AOI0396</td>\n",
       "      <td>0.938963</td>\n",
       "      <td>POLYGON ((148.29960 -32.04461, 148.50960 -32.0...</td>\n",
       "    </tr>\n",
       "  </tbody>\n",
       "</table>\n",
       "<p>76 rows × 6 columns</p>\n",
       "</div>"
      ],
      "text/plain": [
       "            id  cloud_cover   source aoi_code  percentage_valid_pixels  \\\n",
       "0   2021-08-13         0.02  landsat    AOI01                 1.000000   \n",
       "1   2021-08-29        14.17  landsat    AOI01                 1.000000   \n",
       "2   2021-08-04         1.96  landsat    AOI01                 0.279306   \n",
       "3   2021-08-20         0.01  landsat    AOI01                 0.276128   \n",
       "4   2021-08-13         0.02  landsat    AOI01                 1.000000   \n",
       "..         ...          ...      ...      ...                      ...   \n",
       "71  2021-08-29        56.97  landsat  AOI0395                 0.705777   \n",
       "72  2021-08-06        54.69  landsat  AOI0396                 1.000000   \n",
       "73  2021-08-22        10.80  landsat  AOI0396                 1.000000   \n",
       "74  2021-08-13         2.36  landsat  AOI0396                 0.932296   \n",
       "75  2021-08-29        56.97  landsat  AOI0396                 0.938963   \n",
       "\n",
       "                                             geometry  \n",
       "0   POLYGON ((147.09960 -31.24462, 147.30960 -31.2...  \n",
       "1   POLYGON ((147.09960 -31.24462, 147.30960 -31.2...  \n",
       "2   POLYGON ((147.09960 -31.24462, 147.30960 -31.2...  \n",
       "3   POLYGON ((147.09960 -31.24462, 147.30960 -31.2...  \n",
       "4   POLYGON ((147.09960 -31.04462, 147.30960 -31.0...  \n",
       "..                                                ...  \n",
       "71  POLYGON ((148.29960 -32.24461, 148.50960 -32.2...  \n",
       "72  POLYGON ((148.29960 -32.04461, 148.50960 -32.0...  \n",
       "73  POLYGON ((148.29960 -32.04461, 148.50960 -32.0...  \n",
       "74  POLYGON ((148.29960 -32.04461, 148.50960 -32.0...  \n",
       "75  POLYGON ((148.29960 -32.04461, 148.50960 -32.0...  \n",
       "\n",
       "[76 rows x 6 columns]"
      ]
     },
     "execution_count": 117,
     "metadata": {},
     "output_type": "execute_result"
    }
   ],
   "source": [
    "landsat_gdf"
   ]
  },
  {
   "cell_type": "code",
   "execution_count": 128,
   "id": "7bb6a69a-d6f1-47f1-bb8e-38d6bb2fe9f1",
   "metadata": {},
   "outputs": [
    {
     "name": "stderr",
     "output_type": "stream",
     "text": [
      "/opt/conda/lib/python3.7/site-packages/ipykernel_launcher.py:1: FutureWarning: Dropping invalid columns in DataFrameGroupBy.add is deprecated. In a future version, a TypeError will be raised. Before calling .add, select only columns which should be valid for the function.\n",
      "  \"\"\"Entry point for launching an IPython kernel.\n"
     ]
    },
    {
     "ename": "TypeError",
     "evalue": "'<' not supported between instances of 'Polygon' and 'Polygon'",
     "output_type": "error",
     "traceback": [
      "\u001b[0;31m---------------------------------------------------------------------------\u001b[0m",
      "\u001b[0;31mTypeError\u001b[0m                                 Traceback (most recent call last)",
      "\u001b[0;32m/opt/conda/lib/python3.7/site-packages/pandas/core/algorithms.py\u001b[0m in \u001b[0;36msafe_sort\u001b[0;34m(values, codes, na_sentinel, assume_unique, verify)\u001b[0m\n\u001b[1;32m   1798\u001b[0m         \u001b[0;32mtry\u001b[0m\u001b[0;34m:\u001b[0m\u001b[0;34m\u001b[0m\u001b[0;34m\u001b[0m\u001b[0m\n\u001b[0;32m-> 1799\u001b[0;31m             \u001b[0msorter\u001b[0m \u001b[0;34m=\u001b[0m \u001b[0mvalues\u001b[0m\u001b[0;34m.\u001b[0m\u001b[0margsort\u001b[0m\u001b[0;34m(\u001b[0m\u001b[0;34m)\u001b[0m\u001b[0;34m\u001b[0m\u001b[0;34m\u001b[0m\u001b[0m\n\u001b[0m\u001b[1;32m   1800\u001b[0m             \u001b[0mordered\u001b[0m \u001b[0;34m=\u001b[0m \u001b[0mvalues\u001b[0m\u001b[0;34m.\u001b[0m\u001b[0mtake\u001b[0m\u001b[0;34m(\u001b[0m\u001b[0msorter\u001b[0m\u001b[0;34m)\u001b[0m\u001b[0;34m\u001b[0m\u001b[0;34m\u001b[0m\u001b[0m\n",
      "\u001b[0;32m/opt/conda/lib/python3.7/site-packages/pandas/core/arrays/base.py\u001b[0m in \u001b[0;36margsort\u001b[0;34m(self, ascending, kind, na_position, *args, **kwargs)\u001b[0m\n\u001b[1;32m    626\u001b[0m \u001b[0;34m\u001b[0m\u001b[0m\n\u001b[0;32m--> 627\u001b[0;31m         \u001b[0mvalues\u001b[0m \u001b[0;34m=\u001b[0m \u001b[0mself\u001b[0m\u001b[0;34m.\u001b[0m\u001b[0m_values_for_argsort\u001b[0m\u001b[0;34m(\u001b[0m\u001b[0;34m)\u001b[0m\u001b[0;34m\u001b[0m\u001b[0;34m\u001b[0m\u001b[0m\n\u001b[0m\u001b[1;32m    628\u001b[0m         return nargsort(\n",
      "\u001b[0;32m/opt/conda/lib/python3.7/site-packages/geopandas/array.py\u001b[0m in \u001b[0;36m_values_for_argsort\u001b[0;34m(self)\u001b[0m\n\u001b[1;32m   1230\u001b[0m         \u001b[0;31m# Note: this is used in `ExtensionArray.argsort`.\u001b[0m\u001b[0;34m\u001b[0m\u001b[0;34m\u001b[0m\u001b[0;34m\u001b[0m\u001b[0m\n\u001b[0;32m-> 1231\u001b[0;31m         \u001b[0;32mraise\u001b[0m \u001b[0mTypeError\u001b[0m\u001b[0;34m(\u001b[0m\u001b[0;34m\"geometries are not orderable\"\u001b[0m\u001b[0;34m)\u001b[0m\u001b[0;34m\u001b[0m\u001b[0;34m\u001b[0m\u001b[0m\n\u001b[0m\u001b[1;32m   1232\u001b[0m \u001b[0;34m\u001b[0m\u001b[0m\n",
      "\u001b[0;31mTypeError\u001b[0m: geometries are not orderable",
      "\nDuring handling of the above exception, another exception occurred:\n",
      "\u001b[0;31mTypeError\u001b[0m                                 Traceback (most recent call last)",
      "\u001b[0;32m/tmp/ipykernel_14203/1094230455.py\u001b[0m in \u001b[0;36m<module>\u001b[0;34m\u001b[0m\n\u001b[0;32m----> 1\u001b[0;31m \u001b[0mlandsat_gdf\u001b[0m\u001b[0;34m.\u001b[0m\u001b[0mgroupby\u001b[0m\u001b[0;34m(\u001b[0m\u001b[0;34m'geometry'\u001b[0m\u001b[0;34m)\u001b[0m\u001b[0;34m.\u001b[0m\u001b[0msum\u001b[0m\u001b[0;34m(\u001b[0m\u001b[0;34m)\u001b[0m\u001b[0;34m\u001b[0m\u001b[0;34m\u001b[0m\u001b[0m\n\u001b[0m",
      "\u001b[0;32m/opt/conda/lib/python3.7/site-packages/pandas/core/groupby/groupby.py\u001b[0m in \u001b[0;36msum\u001b[0;34m(self, numeric_only, min_count)\u001b[0m\n\u001b[1;32m   1851\u001b[0m                 \u001b[0mmin_count\u001b[0m\u001b[0;34m=\u001b[0m\u001b[0mmin_count\u001b[0m\u001b[0;34m,\u001b[0m\u001b[0;34m\u001b[0m\u001b[0;34m\u001b[0m\u001b[0m\n\u001b[1;32m   1852\u001b[0m                 \u001b[0malias\u001b[0m\u001b[0;34m=\u001b[0m\u001b[0;34m\"add\"\u001b[0m\u001b[0;34m,\u001b[0m\u001b[0;34m\u001b[0m\u001b[0;34m\u001b[0m\u001b[0m\n\u001b[0;32m-> 1853\u001b[0;31m                 \u001b[0mnpfunc\u001b[0m\u001b[0;34m=\u001b[0m\u001b[0mnp\u001b[0m\u001b[0;34m.\u001b[0m\u001b[0msum\u001b[0m\u001b[0;34m,\u001b[0m\u001b[0;34m\u001b[0m\u001b[0;34m\u001b[0m\u001b[0m\n\u001b[0m\u001b[1;32m   1854\u001b[0m             )\n\u001b[1;32m   1855\u001b[0m \u001b[0;34m\u001b[0m\u001b[0m\n",
      "\u001b[0;32m/opt/conda/lib/python3.7/site-packages/pandas/core/groupby/groupby.py\u001b[0m in \u001b[0;36m_agg_general\u001b[0;34m(self, numeric_only, min_count, alias, npfunc)\u001b[0m\n\u001b[1;32m   1366\u001b[0m                 \u001b[0malt\u001b[0m\u001b[0;34m=\u001b[0m\u001b[0mnpfunc\u001b[0m\u001b[0;34m,\u001b[0m\u001b[0;34m\u001b[0m\u001b[0;34m\u001b[0m\u001b[0m\n\u001b[1;32m   1367\u001b[0m                 \u001b[0mnumeric_only\u001b[0m\u001b[0;34m=\u001b[0m\u001b[0mnumeric_only\u001b[0m\u001b[0;34m,\u001b[0m\u001b[0;34m\u001b[0m\u001b[0;34m\u001b[0m\u001b[0m\n\u001b[0;32m-> 1368\u001b[0;31m                 \u001b[0mmin_count\u001b[0m\u001b[0;34m=\u001b[0m\u001b[0mmin_count\u001b[0m\u001b[0;34m,\u001b[0m\u001b[0;34m\u001b[0m\u001b[0;34m\u001b[0m\u001b[0m\n\u001b[0m\u001b[1;32m   1369\u001b[0m             )\n\u001b[1;32m   1370\u001b[0m             \u001b[0;32mreturn\u001b[0m \u001b[0mresult\u001b[0m\u001b[0;34m.\u001b[0m\u001b[0m__finalize__\u001b[0m\u001b[0;34m(\u001b[0m\u001b[0mself\u001b[0m\u001b[0;34m.\u001b[0m\u001b[0mobj\u001b[0m\u001b[0;34m,\u001b[0m \u001b[0mmethod\u001b[0m\u001b[0;34m=\u001b[0m\u001b[0;34m\"groupby\"\u001b[0m\u001b[0;34m)\u001b[0m\u001b[0;34m\u001b[0m\u001b[0;34m\u001b[0m\u001b[0m\n",
      "\u001b[0;32m/opt/conda/lib/python3.7/site-packages/pandas/core/groupby/generic.py\u001b[0m in \u001b[0;36m_cython_agg_general\u001b[0;34m(self, how, alt, numeric_only, min_count)\u001b[0m\n\u001b[1;32m   1092\u001b[0m             )\n\u001b[1;32m   1093\u001b[0m \u001b[0;34m\u001b[0m\u001b[0m\n\u001b[0;32m-> 1094\u001b[0;31m         \u001b[0;32mreturn\u001b[0m \u001b[0mself\u001b[0m\u001b[0;34m.\u001b[0m\u001b[0m_wrap_agged_manager\u001b[0m\u001b[0;34m(\u001b[0m\u001b[0mnew_mgr\u001b[0m\u001b[0;34m)\u001b[0m\u001b[0;34m\u001b[0m\u001b[0;34m\u001b[0m\u001b[0m\n\u001b[0m\u001b[1;32m   1095\u001b[0m \u001b[0;34m\u001b[0m\u001b[0m\n\u001b[1;32m   1096\u001b[0m     \u001b[0;32mdef\u001b[0m \u001b[0m_aggregate_frame\u001b[0m\u001b[0;34m(\u001b[0m\u001b[0mself\u001b[0m\u001b[0;34m,\u001b[0m \u001b[0mfunc\u001b[0m\u001b[0;34m,\u001b[0m \u001b[0;34m*\u001b[0m\u001b[0margs\u001b[0m\u001b[0;34m,\u001b[0m \u001b[0;34m**\u001b[0m\u001b[0mkwargs\u001b[0m\u001b[0;34m)\u001b[0m \u001b[0;34m->\u001b[0m \u001b[0mDataFrame\u001b[0m\u001b[0;34m:\u001b[0m\u001b[0;34m\u001b[0m\u001b[0;34m\u001b[0m\u001b[0m\n",
      "\u001b[0;32m/opt/conda/lib/python3.7/site-packages/pandas/core/groupby/generic.py\u001b[0m in \u001b[0;36m_wrap_agged_manager\u001b[0;34m(self, mgr)\u001b[0m\n\u001b[1;32m   1686\u001b[0m             \u001b[0mresult\u001b[0m \u001b[0;34m=\u001b[0m \u001b[0mresult\u001b[0m\u001b[0;34m.\u001b[0m\u001b[0m_consolidate\u001b[0m\u001b[0;34m(\u001b[0m\u001b[0;34m)\u001b[0m\u001b[0;34m\u001b[0m\u001b[0;34m\u001b[0m\u001b[0m\n\u001b[1;32m   1687\u001b[0m         \u001b[0;32melse\u001b[0m\u001b[0;34m:\u001b[0m\u001b[0;34m\u001b[0m\u001b[0;34m\u001b[0m\u001b[0m\n\u001b[0;32m-> 1688\u001b[0;31m             \u001b[0mindex\u001b[0m \u001b[0;34m=\u001b[0m \u001b[0mself\u001b[0m\u001b[0;34m.\u001b[0m\u001b[0mgrouper\u001b[0m\u001b[0;34m.\u001b[0m\u001b[0mresult_index\u001b[0m\u001b[0;34m\u001b[0m\u001b[0;34m\u001b[0m\u001b[0m\n\u001b[0m\u001b[1;32m   1689\u001b[0m             \u001b[0mmgr\u001b[0m\u001b[0;34m.\u001b[0m\u001b[0mset_axis\u001b[0m\u001b[0;34m(\u001b[0m\u001b[0;36m1\u001b[0m\u001b[0;34m,\u001b[0m \u001b[0mindex\u001b[0m\u001b[0;34m)\u001b[0m\u001b[0;34m\u001b[0m\u001b[0;34m\u001b[0m\u001b[0m\n\u001b[1;32m   1690\u001b[0m             \u001b[0mresult\u001b[0m \u001b[0;34m=\u001b[0m \u001b[0mself\u001b[0m\u001b[0;34m.\u001b[0m\u001b[0mobj\u001b[0m\u001b[0;34m.\u001b[0m\u001b[0m_constructor\u001b[0m\u001b[0;34m(\u001b[0m\u001b[0mmgr\u001b[0m\u001b[0;34m)\u001b[0m\u001b[0;34m\u001b[0m\u001b[0;34m\u001b[0m\u001b[0m\n",
      "\u001b[0;32m/opt/conda/lib/python3.7/site-packages/pandas/_libs/properties.pyx\u001b[0m in \u001b[0;36mpandas._libs.properties.CachedProperty.__get__\u001b[0;34m()\u001b[0m\n",
      "\u001b[0;32m/opt/conda/lib/python3.7/site-packages/pandas/core/groupby/ops.py\u001b[0m in \u001b[0;36mresult_index\u001b[0;34m(self)\u001b[0m\n\u001b[1;32m    962\u001b[0m     \u001b[0;32mdef\u001b[0m \u001b[0mresult_index\u001b[0m\u001b[0;34m(\u001b[0m\u001b[0mself\u001b[0m\u001b[0;34m)\u001b[0m \u001b[0;34m->\u001b[0m \u001b[0mIndex\u001b[0m\u001b[0;34m:\u001b[0m\u001b[0;34m\u001b[0m\u001b[0;34m\u001b[0m\u001b[0m\n\u001b[1;32m    963\u001b[0m         \u001b[0;32mif\u001b[0m \u001b[0mlen\u001b[0m\u001b[0;34m(\u001b[0m\u001b[0mself\u001b[0m\u001b[0;34m.\u001b[0m\u001b[0mgroupings\u001b[0m\u001b[0;34m)\u001b[0m \u001b[0;34m==\u001b[0m \u001b[0;36m1\u001b[0m\u001b[0;34m:\u001b[0m\u001b[0;34m\u001b[0m\u001b[0;34m\u001b[0m\u001b[0m\n\u001b[0;32m--> 964\u001b[0;31m             \u001b[0;32mreturn\u001b[0m \u001b[0mself\u001b[0m\u001b[0;34m.\u001b[0m\u001b[0mgroupings\u001b[0m\u001b[0;34m[\u001b[0m\u001b[0;36m0\u001b[0m\u001b[0;34m]\u001b[0m\u001b[0;34m.\u001b[0m\u001b[0mresult_index\u001b[0m\u001b[0;34m.\u001b[0m\u001b[0mrename\u001b[0m\u001b[0;34m(\u001b[0m\u001b[0mself\u001b[0m\u001b[0;34m.\u001b[0m\u001b[0mnames\u001b[0m\u001b[0;34m[\u001b[0m\u001b[0;36m0\u001b[0m\u001b[0;34m]\u001b[0m\u001b[0;34m)\u001b[0m\u001b[0;34m\u001b[0m\u001b[0;34m\u001b[0m\u001b[0m\n\u001b[0m\u001b[1;32m    965\u001b[0m \u001b[0;34m\u001b[0m\u001b[0m\n\u001b[1;32m    966\u001b[0m         \u001b[0mcodes\u001b[0m \u001b[0;34m=\u001b[0m \u001b[0mself\u001b[0m\u001b[0;34m.\u001b[0m\u001b[0mreconstructed_codes\u001b[0m\u001b[0;34m\u001b[0m\u001b[0;34m\u001b[0m\u001b[0m\n",
      "\u001b[0;32m/opt/conda/lib/python3.7/site-packages/pandas/_libs/properties.pyx\u001b[0m in \u001b[0;36mpandas._libs.properties.CachedProperty.__get__\u001b[0;34m()\u001b[0m\n",
      "\u001b[0;32m/opt/conda/lib/python3.7/site-packages/pandas/core/groupby/grouper.py\u001b[0m in \u001b[0;36mresult_index\u001b[0;34m(self)\u001b[0m\n\u001b[1;32m    627\u001b[0m             \u001b[0;32massert\u001b[0m \u001b[0misinstance\u001b[0m\u001b[0;34m(\u001b[0m\u001b[0mgroup_idx\u001b[0m\u001b[0;34m,\u001b[0m \u001b[0mCategoricalIndex\u001b[0m\u001b[0;34m)\u001b[0m\u001b[0;34m\u001b[0m\u001b[0;34m\u001b[0m\u001b[0m\n\u001b[1;32m    628\u001b[0m             \u001b[0;32mreturn\u001b[0m \u001b[0mrecode_from_groupby\u001b[0m\u001b[0;34m(\u001b[0m\u001b[0mself\u001b[0m\u001b[0;34m.\u001b[0m\u001b[0m_all_grouper\u001b[0m\u001b[0;34m,\u001b[0m \u001b[0mself\u001b[0m\u001b[0;34m.\u001b[0m\u001b[0m_sort\u001b[0m\u001b[0;34m,\u001b[0m \u001b[0mgroup_idx\u001b[0m\u001b[0;34m)\u001b[0m\u001b[0;34m\u001b[0m\u001b[0;34m\u001b[0m\u001b[0m\n\u001b[0;32m--> 629\u001b[0;31m         \u001b[0;32mreturn\u001b[0m \u001b[0mself\u001b[0m\u001b[0;34m.\u001b[0m\u001b[0mgroup_index\u001b[0m\u001b[0;34m\u001b[0m\u001b[0;34m\u001b[0m\u001b[0m\n\u001b[0m\u001b[1;32m    630\u001b[0m \u001b[0;34m\u001b[0m\u001b[0m\n\u001b[1;32m    631\u001b[0m     \u001b[0;34m@\u001b[0m\u001b[0mcache_readonly\u001b[0m\u001b[0;34m\u001b[0m\u001b[0;34m\u001b[0m\u001b[0m\n",
      "\u001b[0;32m/opt/conda/lib/python3.7/site-packages/pandas/_libs/properties.pyx\u001b[0m in \u001b[0;36mpandas._libs.properties.CachedProperty.__get__\u001b[0;34m()\u001b[0m\n",
      "\u001b[0;32m/opt/conda/lib/python3.7/site-packages/pandas/core/groupby/grouper.py\u001b[0m in \u001b[0;36mgroup_index\u001b[0;34m(self)\u001b[0m\n\u001b[1;32m    634\u001b[0m             \u001b[0;31m# _group_index is set in __init__ for MultiIndex cases\u001b[0m\u001b[0;34m\u001b[0m\u001b[0;34m\u001b[0m\u001b[0;34m\u001b[0m\u001b[0m\n\u001b[1;32m    635\u001b[0m             \u001b[0;32mreturn\u001b[0m \u001b[0mself\u001b[0m\u001b[0;34m.\u001b[0m\u001b[0m_group_index\u001b[0m\u001b[0;34m\u001b[0m\u001b[0;34m\u001b[0m\u001b[0m\n\u001b[0;32m--> 636\u001b[0;31m         \u001b[0muniques\u001b[0m \u001b[0;34m=\u001b[0m \u001b[0mself\u001b[0m\u001b[0;34m.\u001b[0m\u001b[0mgroup_arraylike\u001b[0m\u001b[0;34m\u001b[0m\u001b[0;34m\u001b[0m\u001b[0m\n\u001b[0m\u001b[1;32m    637\u001b[0m         \u001b[0;32mreturn\u001b[0m \u001b[0mIndex\u001b[0m\u001b[0;34m(\u001b[0m\u001b[0muniques\u001b[0m\u001b[0;34m,\u001b[0m \u001b[0mname\u001b[0m\u001b[0;34m=\u001b[0m\u001b[0mself\u001b[0m\u001b[0;34m.\u001b[0m\u001b[0mname\u001b[0m\u001b[0;34m)\u001b[0m\u001b[0;34m\u001b[0m\u001b[0;34m\u001b[0m\u001b[0m\n\u001b[1;32m    638\u001b[0m \u001b[0;34m\u001b[0m\u001b[0m\n",
      "\u001b[0;32m/opt/conda/lib/python3.7/site-packages/pandas/_libs/properties.pyx\u001b[0m in \u001b[0;36mpandas._libs.properties.CachedProperty.__get__\u001b[0;34m()\u001b[0m\n",
      "\u001b[0;32m/opt/conda/lib/python3.7/site-packages/pandas/core/groupby/grouper.py\u001b[0m in \u001b[0;36mgroup_arraylike\u001b[0;34m(self)\u001b[0m\n\u001b[1;32m    618\u001b[0m         \u001b[0mwe\u001b[0m \u001b[0mcan\u001b[0m \u001b[0mcan\u001b[0m \u001b[0mretain\u001b[0m \u001b[0mExtensionDtypes\u001b[0m\u001b[0;34m.\u001b[0m\u001b[0;34m\u001b[0m\u001b[0;34m\u001b[0m\u001b[0m\n\u001b[1;32m    619\u001b[0m         \"\"\"\n\u001b[0;32m--> 620\u001b[0;31m         \u001b[0;32mreturn\u001b[0m \u001b[0mself\u001b[0m\u001b[0;34m.\u001b[0m\u001b[0m_codes_and_uniques\u001b[0m\u001b[0;34m[\u001b[0m\u001b[0;36m1\u001b[0m\u001b[0;34m]\u001b[0m\u001b[0;34m\u001b[0m\u001b[0;34m\u001b[0m\u001b[0m\n\u001b[0m\u001b[1;32m    621\u001b[0m \u001b[0;34m\u001b[0m\u001b[0m\n\u001b[1;32m    622\u001b[0m     \u001b[0;34m@\u001b[0m\u001b[0mcache_readonly\u001b[0m\u001b[0;34m\u001b[0m\u001b[0;34m\u001b[0m\u001b[0m\n",
      "\u001b[0;32m/opt/conda/lib/python3.7/site-packages/pandas/_libs/properties.pyx\u001b[0m in \u001b[0;36mpandas._libs.properties.CachedProperty.__get__\u001b[0;34m()\u001b[0m\n",
      "\u001b[0;32m/opt/conda/lib/python3.7/site-packages/pandas/core/groupby/grouper.py\u001b[0m in \u001b[0;36m_codes_and_uniques\u001b[0;34m(self)\u001b[0m\n\u001b[1;32m    669\u001b[0m                 \u001b[0mna_sentinel\u001b[0m \u001b[0;34m=\u001b[0m \u001b[0;34m-\u001b[0m\u001b[0;36m1\u001b[0m\u001b[0;34m\u001b[0m\u001b[0;34m\u001b[0m\u001b[0m\n\u001b[1;32m    670\u001b[0m             codes, uniques = algorithms.factorize(\n\u001b[0;32m--> 671\u001b[0;31m                 \u001b[0mself\u001b[0m\u001b[0;34m.\u001b[0m\u001b[0mgrouping_vector\u001b[0m\u001b[0;34m,\u001b[0m \u001b[0msort\u001b[0m\u001b[0;34m=\u001b[0m\u001b[0mself\u001b[0m\u001b[0;34m.\u001b[0m\u001b[0m_sort\u001b[0m\u001b[0;34m,\u001b[0m \u001b[0mna_sentinel\u001b[0m\u001b[0;34m=\u001b[0m\u001b[0mna_sentinel\u001b[0m\u001b[0;34m\u001b[0m\u001b[0;34m\u001b[0m\u001b[0m\n\u001b[0m\u001b[1;32m    672\u001b[0m             )\n\u001b[1;32m    673\u001b[0m         \u001b[0;32mreturn\u001b[0m \u001b[0mcodes\u001b[0m\u001b[0;34m,\u001b[0m \u001b[0muniques\u001b[0m\u001b[0;34m\u001b[0m\u001b[0;34m\u001b[0m\u001b[0m\n",
      "\u001b[0;32m/opt/conda/lib/python3.7/site-packages/pandas/core/algorithms.py\u001b[0m in \u001b[0;36mfactorize\u001b[0;34m(values, sort, na_sentinel, size_hint)\u001b[0m\n\u001b[1;32m    765\u001b[0m     \u001b[0;32mif\u001b[0m \u001b[0msort\u001b[0m \u001b[0;32mand\u001b[0m \u001b[0mlen\u001b[0m\u001b[0;34m(\u001b[0m\u001b[0muniques\u001b[0m\u001b[0;34m)\u001b[0m \u001b[0;34m>\u001b[0m \u001b[0;36m0\u001b[0m\u001b[0;34m:\u001b[0m\u001b[0;34m\u001b[0m\u001b[0;34m\u001b[0m\u001b[0m\n\u001b[1;32m    766\u001b[0m         uniques, codes = safe_sort(\n\u001b[0;32m--> 767\u001b[0;31m             \u001b[0muniques\u001b[0m\u001b[0;34m,\u001b[0m \u001b[0mcodes\u001b[0m\u001b[0;34m,\u001b[0m \u001b[0mna_sentinel\u001b[0m\u001b[0;34m=\u001b[0m\u001b[0mna_sentinel\u001b[0m\u001b[0;34m,\u001b[0m \u001b[0massume_unique\u001b[0m\u001b[0;34m=\u001b[0m\u001b[0;32mTrue\u001b[0m\u001b[0;34m,\u001b[0m \u001b[0mverify\u001b[0m\u001b[0;34m=\u001b[0m\u001b[0;32mFalse\u001b[0m\u001b[0;34m\u001b[0m\u001b[0;34m\u001b[0m\u001b[0m\n\u001b[0m\u001b[1;32m    768\u001b[0m         )\n\u001b[1;32m    769\u001b[0m \u001b[0;34m\u001b[0m\u001b[0m\n",
      "\u001b[0;32m/opt/conda/lib/python3.7/site-packages/pandas/core/algorithms.py\u001b[0m in \u001b[0;36msafe_sort\u001b[0;34m(values, codes, na_sentinel, assume_unique, verify)\u001b[0m\n\u001b[1;32m   1806\u001b[0m                 \u001b[0mordered\u001b[0m \u001b[0;34m=\u001b[0m \u001b[0m_sort_tuples\u001b[0m\u001b[0;34m(\u001b[0m\u001b[0mvalues\u001b[0m\u001b[0;34m)\u001b[0m\u001b[0;34m\u001b[0m\u001b[0;34m\u001b[0m\u001b[0m\n\u001b[1;32m   1807\u001b[0m             \u001b[0;32melse\u001b[0m\u001b[0;34m:\u001b[0m\u001b[0;34m\u001b[0m\u001b[0;34m\u001b[0m\u001b[0m\n\u001b[0;32m-> 1808\u001b[0;31m                 \u001b[0mordered\u001b[0m \u001b[0;34m=\u001b[0m \u001b[0m_sort_mixed\u001b[0m\u001b[0;34m(\u001b[0m\u001b[0mvalues\u001b[0m\u001b[0;34m)\u001b[0m\u001b[0;34m\u001b[0m\u001b[0;34m\u001b[0m\u001b[0m\n\u001b[0m\u001b[1;32m   1809\u001b[0m \u001b[0;34m\u001b[0m\u001b[0m\n\u001b[1;32m   1810\u001b[0m     \u001b[0;31m# codes:\u001b[0m\u001b[0;34m\u001b[0m\u001b[0;34m\u001b[0m\u001b[0;34m\u001b[0m\u001b[0m\n",
      "\u001b[0;32m/opt/conda/lib/python3.7/site-packages/pandas/core/algorithms.py\u001b[0m in \u001b[0;36m_sort_mixed\u001b[0;34m(values)\u001b[0m\n\u001b[1;32m   1858\u001b[0m     \u001b[0;34m\"\"\"order ints before strings in 1d arrays, safe in py3\"\"\"\u001b[0m\u001b[0;34m\u001b[0m\u001b[0;34m\u001b[0m\u001b[0m\n\u001b[1;32m   1859\u001b[0m     \u001b[0mstr_pos\u001b[0m \u001b[0;34m=\u001b[0m \u001b[0mnp\u001b[0m\u001b[0;34m.\u001b[0m\u001b[0marray\u001b[0m\u001b[0;34m(\u001b[0m\u001b[0;34m[\u001b[0m\u001b[0misinstance\u001b[0m\u001b[0;34m(\u001b[0m\u001b[0mx\u001b[0m\u001b[0;34m,\u001b[0m \u001b[0mstr\u001b[0m\u001b[0;34m)\u001b[0m \u001b[0;32mfor\u001b[0m \u001b[0mx\u001b[0m \u001b[0;32min\u001b[0m \u001b[0mvalues\u001b[0m\u001b[0;34m]\u001b[0m\u001b[0;34m,\u001b[0m \u001b[0mdtype\u001b[0m\u001b[0;34m=\u001b[0m\u001b[0mbool\u001b[0m\u001b[0;34m)\u001b[0m\u001b[0;34m\u001b[0m\u001b[0;34m\u001b[0m\u001b[0m\n\u001b[0;32m-> 1860\u001b[0;31m     \u001b[0mnums\u001b[0m \u001b[0;34m=\u001b[0m \u001b[0mnp\u001b[0m\u001b[0;34m.\u001b[0m\u001b[0msort\u001b[0m\u001b[0;34m(\u001b[0m\u001b[0mvalues\u001b[0m\u001b[0;34m[\u001b[0m\u001b[0;34m~\u001b[0m\u001b[0mstr_pos\u001b[0m\u001b[0;34m]\u001b[0m\u001b[0;34m)\u001b[0m\u001b[0;34m\u001b[0m\u001b[0;34m\u001b[0m\u001b[0m\n\u001b[0m\u001b[1;32m   1861\u001b[0m     \u001b[0mstrs\u001b[0m \u001b[0;34m=\u001b[0m \u001b[0mnp\u001b[0m\u001b[0;34m.\u001b[0m\u001b[0msort\u001b[0m\u001b[0;34m(\u001b[0m\u001b[0mvalues\u001b[0m\u001b[0;34m[\u001b[0m\u001b[0mstr_pos\u001b[0m\u001b[0;34m]\u001b[0m\u001b[0;34m)\u001b[0m\u001b[0;34m\u001b[0m\u001b[0;34m\u001b[0m\u001b[0m\n\u001b[1;32m   1862\u001b[0m     \u001b[0;32mreturn\u001b[0m \u001b[0mnp\u001b[0m\u001b[0;34m.\u001b[0m\u001b[0mconcatenate\u001b[0m\u001b[0;34m(\u001b[0m\u001b[0;34m[\u001b[0m\u001b[0mnums\u001b[0m\u001b[0;34m,\u001b[0m \u001b[0mnp\u001b[0m\u001b[0;34m.\u001b[0m\u001b[0masarray\u001b[0m\u001b[0;34m(\u001b[0m\u001b[0mstrs\u001b[0m\u001b[0;34m,\u001b[0m \u001b[0mdtype\u001b[0m\u001b[0;34m=\u001b[0m\u001b[0mobject\u001b[0m\u001b[0;34m)\u001b[0m\u001b[0;34m]\u001b[0m\u001b[0;34m)\u001b[0m\u001b[0;34m\u001b[0m\u001b[0;34m\u001b[0m\u001b[0m\n",
      "\u001b[0;32m<__array_function__ internals>\u001b[0m in \u001b[0;36msort\u001b[0;34m(*args, **kwargs)\u001b[0m\n",
      "\u001b[0;32m/opt/conda/lib/python3.7/site-packages/numpy/core/fromnumeric.py\u001b[0m in \u001b[0;36msort\u001b[0;34m(a, axis, kind, order)\u001b[0m\n\u001b[1;32m    989\u001b[0m     \u001b[0;32melse\u001b[0m\u001b[0;34m:\u001b[0m\u001b[0;34m\u001b[0m\u001b[0;34m\u001b[0m\u001b[0m\n\u001b[1;32m    990\u001b[0m         \u001b[0ma\u001b[0m \u001b[0;34m=\u001b[0m \u001b[0masanyarray\u001b[0m\u001b[0;34m(\u001b[0m\u001b[0ma\u001b[0m\u001b[0;34m)\u001b[0m\u001b[0;34m.\u001b[0m\u001b[0mcopy\u001b[0m\u001b[0;34m(\u001b[0m\u001b[0morder\u001b[0m\u001b[0;34m=\u001b[0m\u001b[0;34m\"K\"\u001b[0m\u001b[0;34m)\u001b[0m\u001b[0;34m\u001b[0m\u001b[0;34m\u001b[0m\u001b[0m\n\u001b[0;32m--> 991\u001b[0;31m     \u001b[0ma\u001b[0m\u001b[0;34m.\u001b[0m\u001b[0msort\u001b[0m\u001b[0;34m(\u001b[0m\u001b[0maxis\u001b[0m\u001b[0;34m=\u001b[0m\u001b[0maxis\u001b[0m\u001b[0;34m,\u001b[0m \u001b[0mkind\u001b[0m\u001b[0;34m=\u001b[0m\u001b[0mkind\u001b[0m\u001b[0;34m,\u001b[0m \u001b[0morder\u001b[0m\u001b[0;34m=\u001b[0m\u001b[0morder\u001b[0m\u001b[0;34m)\u001b[0m\u001b[0;34m\u001b[0m\u001b[0;34m\u001b[0m\u001b[0m\n\u001b[0m\u001b[1;32m    992\u001b[0m     \u001b[0;32mreturn\u001b[0m \u001b[0ma\u001b[0m\u001b[0;34m\u001b[0m\u001b[0;34m\u001b[0m\u001b[0m\n\u001b[1;32m    993\u001b[0m \u001b[0;34m\u001b[0m\u001b[0m\n",
      "\u001b[0;31mTypeError\u001b[0m: '<' not supported between instances of 'Polygon' and 'Polygon'"
     ]
    }
   ],
   "source": [
    "landsat_gdf.groupby('geometry').sum()"
   ]
  },
  {
   "cell_type": "code",
   "execution_count": 124,
   "id": "19d3cb80-4233-4bcd-a50b-524e150658ca",
   "metadata": {},
   "outputs": [
    {
     "ename": "TypeError",
     "evalue": "'<' not supported between instances of 'Polygon' and 'Polygon'",
     "output_type": "error",
     "traceback": [
      "\u001b[0;31m---------------------------------------------------------------------------\u001b[0m",
      "\u001b[0;31mTypeError\u001b[0m                                 Traceback (most recent call last)",
      "\u001b[0;32m/opt/conda/lib/python3.7/site-packages/pandas/core/algorithms.py\u001b[0m in \u001b[0;36msafe_sort\u001b[0;34m(values, codes, na_sentinel, assume_unique, verify)\u001b[0m\n\u001b[1;32m   1798\u001b[0m         \u001b[0;32mtry\u001b[0m\u001b[0;34m:\u001b[0m\u001b[0;34m\u001b[0m\u001b[0;34m\u001b[0m\u001b[0m\n\u001b[0;32m-> 1799\u001b[0;31m             \u001b[0msorter\u001b[0m \u001b[0;34m=\u001b[0m \u001b[0mvalues\u001b[0m\u001b[0;34m.\u001b[0m\u001b[0margsort\u001b[0m\u001b[0;34m(\u001b[0m\u001b[0;34m)\u001b[0m\u001b[0;34m\u001b[0m\u001b[0;34m\u001b[0m\u001b[0m\n\u001b[0m\u001b[1;32m   1800\u001b[0m             \u001b[0mordered\u001b[0m \u001b[0;34m=\u001b[0m \u001b[0mvalues\u001b[0m\u001b[0;34m.\u001b[0m\u001b[0mtake\u001b[0m\u001b[0;34m(\u001b[0m\u001b[0msorter\u001b[0m\u001b[0;34m)\u001b[0m\u001b[0;34m\u001b[0m\u001b[0;34m\u001b[0m\u001b[0m\n",
      "\u001b[0;32m/opt/conda/lib/python3.7/site-packages/pandas/core/arrays/base.py\u001b[0m in \u001b[0;36margsort\u001b[0;34m(self, ascending, kind, na_position, *args, **kwargs)\u001b[0m\n\u001b[1;32m    626\u001b[0m \u001b[0;34m\u001b[0m\u001b[0m\n\u001b[0;32m--> 627\u001b[0;31m         \u001b[0mvalues\u001b[0m \u001b[0;34m=\u001b[0m \u001b[0mself\u001b[0m\u001b[0;34m.\u001b[0m\u001b[0m_values_for_argsort\u001b[0m\u001b[0;34m(\u001b[0m\u001b[0;34m)\u001b[0m\u001b[0;34m\u001b[0m\u001b[0;34m\u001b[0m\u001b[0m\n\u001b[0m\u001b[1;32m    628\u001b[0m         return nargsort(\n",
      "\u001b[0;32m/opt/conda/lib/python3.7/site-packages/geopandas/array.py\u001b[0m in \u001b[0;36m_values_for_argsort\u001b[0;34m(self)\u001b[0m\n\u001b[1;32m   1230\u001b[0m         \u001b[0;31m# Note: this is used in `ExtensionArray.argsort`.\u001b[0m\u001b[0;34m\u001b[0m\u001b[0;34m\u001b[0m\u001b[0;34m\u001b[0m\u001b[0m\n\u001b[0;32m-> 1231\u001b[0;31m         \u001b[0;32mraise\u001b[0m \u001b[0mTypeError\u001b[0m\u001b[0;34m(\u001b[0m\u001b[0;34m\"geometries are not orderable\"\u001b[0m\u001b[0;34m)\u001b[0m\u001b[0;34m\u001b[0m\u001b[0;34m\u001b[0m\u001b[0m\n\u001b[0m\u001b[1;32m   1232\u001b[0m \u001b[0;34m\u001b[0m\u001b[0m\n",
      "\u001b[0;31mTypeError\u001b[0m: geometries are not orderable",
      "\nDuring handling of the above exception, another exception occurred:\n",
      "\u001b[0;31mTypeError\u001b[0m                                 Traceback (most recent call last)",
      "\u001b[0;32m/tmp/ipykernel_14203/2236605900.py\u001b[0m in \u001b[0;36m<module>\u001b[0;34m\u001b[0m\n\u001b[0;32m----> 1\u001b[0;31m \u001b[0mlandsat_gdf_gb\u001b[0m\u001b[0;34m.\u001b[0m\u001b[0mhead\u001b[0m\u001b[0;34m(\u001b[0m\u001b[0;34m)\u001b[0m\u001b[0;34m\u001b[0m\u001b[0;34m\u001b[0m\u001b[0m\n\u001b[0m",
      "\u001b[0;32m/opt/conda/lib/python3.7/site-packages/pandas/core/groupby/groupby.py\u001b[0m in \u001b[0;36mhead\u001b[0;34m(self, n)\u001b[0m\n\u001b[1;32m   3074\u001b[0m         \"\"\"\n\u001b[1;32m   3075\u001b[0m         \u001b[0mself\u001b[0m\u001b[0;34m.\u001b[0m\u001b[0m_reset_group_selection\u001b[0m\u001b[0;34m(\u001b[0m\u001b[0;34m)\u001b[0m\u001b[0;34m\u001b[0m\u001b[0;34m\u001b[0m\u001b[0m\n\u001b[0;32m-> 3076\u001b[0;31m         \u001b[0mmask\u001b[0m \u001b[0;34m=\u001b[0m \u001b[0mself\u001b[0m\u001b[0;34m.\u001b[0m\u001b[0m_cumcount_array\u001b[0m\u001b[0;34m(\u001b[0m\u001b[0;34m)\u001b[0m \u001b[0;34m<\u001b[0m \u001b[0mn\u001b[0m\u001b[0;34m\u001b[0m\u001b[0;34m\u001b[0m\u001b[0m\n\u001b[0m\u001b[1;32m   3077\u001b[0m         \u001b[0;32mif\u001b[0m \u001b[0mself\u001b[0m\u001b[0;34m.\u001b[0m\u001b[0maxis\u001b[0m \u001b[0;34m==\u001b[0m \u001b[0;36m0\u001b[0m\u001b[0;34m:\u001b[0m\u001b[0;34m\u001b[0m\u001b[0;34m\u001b[0m\u001b[0m\n\u001b[1;32m   3078\u001b[0m             \u001b[0;32mreturn\u001b[0m \u001b[0mself\u001b[0m\u001b[0;34m.\u001b[0m\u001b[0m_selected_obj\u001b[0m\u001b[0;34m[\u001b[0m\u001b[0mmask\u001b[0m\u001b[0;34m]\u001b[0m\u001b[0;34m\u001b[0m\u001b[0;34m\u001b[0m\u001b[0m\n",
      "\u001b[0;32m/opt/conda/lib/python3.7/site-packages/pandas/core/groupby/groupby.py\u001b[0m in \u001b[0;36m_cumcount_array\u001b[0;34m(self, ascending)\u001b[0m\n\u001b[1;32m   1503\u001b[0m         \u001b[0;34m(\u001b[0m\u001b[0mthough\u001b[0m \u001b[0mthe\u001b[0m \u001b[0mdefault\u001b[0m \u001b[0;32mis\u001b[0m \u001b[0msort\u001b[0m\u001b[0;34m=\u001b[0m\u001b[0;32mTrue\u001b[0m\u001b[0;34m)\u001b[0m \u001b[0;32mfor\u001b[0m \u001b[0mgroupby\u001b[0m \u001b[0;32min\u001b[0m \u001b[0mgeneral\u001b[0m\u001b[0;34m\u001b[0m\u001b[0;34m\u001b[0m\u001b[0m\n\u001b[1;32m   1504\u001b[0m         \"\"\"\n\u001b[0;32m-> 1505\u001b[0;31m         \u001b[0mids\u001b[0m\u001b[0;34m,\u001b[0m \u001b[0m_\u001b[0m\u001b[0;34m,\u001b[0m \u001b[0mngroups\u001b[0m \u001b[0;34m=\u001b[0m \u001b[0mself\u001b[0m\u001b[0;34m.\u001b[0m\u001b[0mgrouper\u001b[0m\u001b[0;34m.\u001b[0m\u001b[0mgroup_info\u001b[0m\u001b[0;34m\u001b[0m\u001b[0;34m\u001b[0m\u001b[0m\n\u001b[0m\u001b[1;32m   1506\u001b[0m         \u001b[0msorter\u001b[0m \u001b[0;34m=\u001b[0m \u001b[0mget_group_index_sorter\u001b[0m\u001b[0;34m(\u001b[0m\u001b[0mids\u001b[0m\u001b[0;34m,\u001b[0m \u001b[0mngroups\u001b[0m\u001b[0;34m)\u001b[0m\u001b[0;34m\u001b[0m\u001b[0;34m\u001b[0m\u001b[0m\n\u001b[1;32m   1507\u001b[0m         \u001b[0mids\u001b[0m\u001b[0;34m,\u001b[0m \u001b[0mcount\u001b[0m \u001b[0;34m=\u001b[0m \u001b[0mids\u001b[0m\u001b[0;34m[\u001b[0m\u001b[0msorter\u001b[0m\u001b[0;34m]\u001b[0m\u001b[0;34m,\u001b[0m \u001b[0mlen\u001b[0m\u001b[0;34m(\u001b[0m\u001b[0mids\u001b[0m\u001b[0;34m)\u001b[0m\u001b[0;34m\u001b[0m\u001b[0;34m\u001b[0m\u001b[0m\n",
      "\u001b[0;32m/opt/conda/lib/python3.7/site-packages/pandas/_libs/properties.pyx\u001b[0m in \u001b[0;36mpandas._libs.properties.CachedProperty.__get__\u001b[0;34m()\u001b[0m\n",
      "\u001b[0;32m/opt/conda/lib/python3.7/site-packages/pandas/core/groupby/ops.py\u001b[0m in \u001b[0;36mgroup_info\u001b[0;34m(self)\u001b[0m\n\u001b[1;32m    909\u001b[0m     \u001b[0;34m@\u001b[0m\u001b[0mcache_readonly\u001b[0m\u001b[0;34m\u001b[0m\u001b[0;34m\u001b[0m\u001b[0m\n\u001b[1;32m    910\u001b[0m     \u001b[0;32mdef\u001b[0m \u001b[0mgroup_info\u001b[0m\u001b[0;34m(\u001b[0m\u001b[0mself\u001b[0m\u001b[0;34m)\u001b[0m\u001b[0;34m:\u001b[0m\u001b[0;34m\u001b[0m\u001b[0;34m\u001b[0m\u001b[0m\n\u001b[0;32m--> 911\u001b[0;31m         \u001b[0mcomp_ids\u001b[0m\u001b[0;34m,\u001b[0m \u001b[0mobs_group_ids\u001b[0m \u001b[0;34m=\u001b[0m \u001b[0mself\u001b[0m\u001b[0;34m.\u001b[0m\u001b[0m_get_compressed_codes\u001b[0m\u001b[0;34m(\u001b[0m\u001b[0;34m)\u001b[0m\u001b[0;34m\u001b[0m\u001b[0;34m\u001b[0m\u001b[0m\n\u001b[0m\u001b[1;32m    912\u001b[0m \u001b[0;34m\u001b[0m\u001b[0m\n\u001b[1;32m    913\u001b[0m         \u001b[0mngroups\u001b[0m \u001b[0;34m=\u001b[0m \u001b[0mlen\u001b[0m\u001b[0;34m(\u001b[0m\u001b[0mobs_group_ids\u001b[0m\u001b[0;34m)\u001b[0m\u001b[0;34m\u001b[0m\u001b[0;34m\u001b[0m\u001b[0m\n",
      "\u001b[0;32m/opt/conda/lib/python3.7/site-packages/pandas/core/groupby/ops.py\u001b[0m in \u001b[0;36m_get_compressed_codes\u001b[0;34m(self)\u001b[0m\n\u001b[1;32m    933\u001b[0m \u001b[0;34m\u001b[0m\u001b[0m\n\u001b[1;32m    934\u001b[0m         \u001b[0mping\u001b[0m \u001b[0;34m=\u001b[0m \u001b[0mself\u001b[0m\u001b[0;34m.\u001b[0m\u001b[0mgroupings\u001b[0m\u001b[0;34m[\u001b[0m\u001b[0;36m0\u001b[0m\u001b[0;34m]\u001b[0m\u001b[0;34m\u001b[0m\u001b[0;34m\u001b[0m\u001b[0m\n\u001b[0;32m--> 935\u001b[0;31m         \u001b[0;32mreturn\u001b[0m \u001b[0mping\u001b[0m\u001b[0;34m.\u001b[0m\u001b[0mcodes\u001b[0m\u001b[0;34m,\u001b[0m \u001b[0mnp\u001b[0m\u001b[0;34m.\u001b[0m\u001b[0marange\u001b[0m\u001b[0;34m(\u001b[0m\u001b[0mlen\u001b[0m\u001b[0;34m(\u001b[0m\u001b[0mping\u001b[0m\u001b[0;34m.\u001b[0m\u001b[0mgroup_index\u001b[0m\u001b[0;34m)\u001b[0m\u001b[0;34m)\u001b[0m\u001b[0;34m\u001b[0m\u001b[0;34m\u001b[0m\u001b[0m\n\u001b[0m\u001b[1;32m    936\u001b[0m \u001b[0;34m\u001b[0m\u001b[0m\n\u001b[1;32m    937\u001b[0m     \u001b[0;34m@\u001b[0m\u001b[0mfinal\u001b[0m\u001b[0;34m\u001b[0m\u001b[0;34m\u001b[0m\u001b[0m\n",
      "\u001b[0;32m/opt/conda/lib/python3.7/site-packages/pandas/core/groupby/grouper.py\u001b[0m in \u001b[0;36mcodes\u001b[0;34m(self)\u001b[0m\n\u001b[1;32m    610\u001b[0m             \u001b[0;32mreturn\u001b[0m \u001b[0mself\u001b[0m\u001b[0;34m.\u001b[0m\u001b[0m_codes\u001b[0m\u001b[0;34m\u001b[0m\u001b[0;34m\u001b[0m\u001b[0m\n\u001b[1;32m    611\u001b[0m \u001b[0;34m\u001b[0m\u001b[0m\n\u001b[0;32m--> 612\u001b[0;31m         \u001b[0;32mreturn\u001b[0m \u001b[0mself\u001b[0m\u001b[0;34m.\u001b[0m\u001b[0m_codes_and_uniques\u001b[0m\u001b[0;34m[\u001b[0m\u001b[0;36m0\u001b[0m\u001b[0;34m]\u001b[0m\u001b[0;34m\u001b[0m\u001b[0;34m\u001b[0m\u001b[0m\n\u001b[0m\u001b[1;32m    613\u001b[0m \u001b[0;34m\u001b[0m\u001b[0m\n\u001b[1;32m    614\u001b[0m     \u001b[0;34m@\u001b[0m\u001b[0mcache_readonly\u001b[0m\u001b[0;34m\u001b[0m\u001b[0;34m\u001b[0m\u001b[0m\n",
      "\u001b[0;32m/opt/conda/lib/python3.7/site-packages/pandas/_libs/properties.pyx\u001b[0m in \u001b[0;36mpandas._libs.properties.CachedProperty.__get__\u001b[0;34m()\u001b[0m\n",
      "\u001b[0;32m/opt/conda/lib/python3.7/site-packages/pandas/core/groupby/grouper.py\u001b[0m in \u001b[0;36m_codes_and_uniques\u001b[0;34m(self)\u001b[0m\n\u001b[1;32m    669\u001b[0m                 \u001b[0mna_sentinel\u001b[0m \u001b[0;34m=\u001b[0m \u001b[0;34m-\u001b[0m\u001b[0;36m1\u001b[0m\u001b[0;34m\u001b[0m\u001b[0;34m\u001b[0m\u001b[0m\n\u001b[1;32m    670\u001b[0m             codes, uniques = algorithms.factorize(\n\u001b[0;32m--> 671\u001b[0;31m                 \u001b[0mself\u001b[0m\u001b[0;34m.\u001b[0m\u001b[0mgrouping_vector\u001b[0m\u001b[0;34m,\u001b[0m \u001b[0msort\u001b[0m\u001b[0;34m=\u001b[0m\u001b[0mself\u001b[0m\u001b[0;34m.\u001b[0m\u001b[0m_sort\u001b[0m\u001b[0;34m,\u001b[0m \u001b[0mna_sentinel\u001b[0m\u001b[0;34m=\u001b[0m\u001b[0mna_sentinel\u001b[0m\u001b[0;34m\u001b[0m\u001b[0;34m\u001b[0m\u001b[0m\n\u001b[0m\u001b[1;32m    672\u001b[0m             )\n\u001b[1;32m    673\u001b[0m         \u001b[0;32mreturn\u001b[0m \u001b[0mcodes\u001b[0m\u001b[0;34m,\u001b[0m \u001b[0muniques\u001b[0m\u001b[0;34m\u001b[0m\u001b[0;34m\u001b[0m\u001b[0m\n",
      "\u001b[0;32m/opt/conda/lib/python3.7/site-packages/pandas/core/algorithms.py\u001b[0m in \u001b[0;36mfactorize\u001b[0;34m(values, sort, na_sentinel, size_hint)\u001b[0m\n\u001b[1;32m    765\u001b[0m     \u001b[0;32mif\u001b[0m \u001b[0msort\u001b[0m \u001b[0;32mand\u001b[0m \u001b[0mlen\u001b[0m\u001b[0;34m(\u001b[0m\u001b[0muniques\u001b[0m\u001b[0;34m)\u001b[0m \u001b[0;34m>\u001b[0m \u001b[0;36m0\u001b[0m\u001b[0;34m:\u001b[0m\u001b[0;34m\u001b[0m\u001b[0;34m\u001b[0m\u001b[0m\n\u001b[1;32m    766\u001b[0m         uniques, codes = safe_sort(\n\u001b[0;32m--> 767\u001b[0;31m             \u001b[0muniques\u001b[0m\u001b[0;34m,\u001b[0m \u001b[0mcodes\u001b[0m\u001b[0;34m,\u001b[0m \u001b[0mna_sentinel\u001b[0m\u001b[0;34m=\u001b[0m\u001b[0mna_sentinel\u001b[0m\u001b[0;34m,\u001b[0m \u001b[0massume_unique\u001b[0m\u001b[0;34m=\u001b[0m\u001b[0;32mTrue\u001b[0m\u001b[0;34m,\u001b[0m \u001b[0mverify\u001b[0m\u001b[0;34m=\u001b[0m\u001b[0;32mFalse\u001b[0m\u001b[0;34m\u001b[0m\u001b[0;34m\u001b[0m\u001b[0m\n\u001b[0m\u001b[1;32m    768\u001b[0m         )\n\u001b[1;32m    769\u001b[0m \u001b[0;34m\u001b[0m\u001b[0m\n",
      "\u001b[0;32m/opt/conda/lib/python3.7/site-packages/pandas/core/algorithms.py\u001b[0m in \u001b[0;36msafe_sort\u001b[0;34m(values, codes, na_sentinel, assume_unique, verify)\u001b[0m\n\u001b[1;32m   1806\u001b[0m                 \u001b[0mordered\u001b[0m \u001b[0;34m=\u001b[0m \u001b[0m_sort_tuples\u001b[0m\u001b[0;34m(\u001b[0m\u001b[0mvalues\u001b[0m\u001b[0;34m)\u001b[0m\u001b[0;34m\u001b[0m\u001b[0;34m\u001b[0m\u001b[0m\n\u001b[1;32m   1807\u001b[0m             \u001b[0;32melse\u001b[0m\u001b[0;34m:\u001b[0m\u001b[0;34m\u001b[0m\u001b[0;34m\u001b[0m\u001b[0m\n\u001b[0;32m-> 1808\u001b[0;31m                 \u001b[0mordered\u001b[0m \u001b[0;34m=\u001b[0m \u001b[0m_sort_mixed\u001b[0m\u001b[0;34m(\u001b[0m\u001b[0mvalues\u001b[0m\u001b[0;34m)\u001b[0m\u001b[0;34m\u001b[0m\u001b[0;34m\u001b[0m\u001b[0m\n\u001b[0m\u001b[1;32m   1809\u001b[0m \u001b[0;34m\u001b[0m\u001b[0m\n\u001b[1;32m   1810\u001b[0m     \u001b[0;31m# codes:\u001b[0m\u001b[0;34m\u001b[0m\u001b[0;34m\u001b[0m\u001b[0;34m\u001b[0m\u001b[0m\n",
      "\u001b[0;32m/opt/conda/lib/python3.7/site-packages/pandas/core/algorithms.py\u001b[0m in \u001b[0;36m_sort_mixed\u001b[0;34m(values)\u001b[0m\n\u001b[1;32m   1858\u001b[0m     \u001b[0;34m\"\"\"order ints before strings in 1d arrays, safe in py3\"\"\"\u001b[0m\u001b[0;34m\u001b[0m\u001b[0;34m\u001b[0m\u001b[0m\n\u001b[1;32m   1859\u001b[0m     \u001b[0mstr_pos\u001b[0m \u001b[0;34m=\u001b[0m \u001b[0mnp\u001b[0m\u001b[0;34m.\u001b[0m\u001b[0marray\u001b[0m\u001b[0;34m(\u001b[0m\u001b[0;34m[\u001b[0m\u001b[0misinstance\u001b[0m\u001b[0;34m(\u001b[0m\u001b[0mx\u001b[0m\u001b[0;34m,\u001b[0m \u001b[0mstr\u001b[0m\u001b[0;34m)\u001b[0m \u001b[0;32mfor\u001b[0m \u001b[0mx\u001b[0m \u001b[0;32min\u001b[0m \u001b[0mvalues\u001b[0m\u001b[0;34m]\u001b[0m\u001b[0;34m,\u001b[0m \u001b[0mdtype\u001b[0m\u001b[0;34m=\u001b[0m\u001b[0mbool\u001b[0m\u001b[0;34m)\u001b[0m\u001b[0;34m\u001b[0m\u001b[0;34m\u001b[0m\u001b[0m\n\u001b[0;32m-> 1860\u001b[0;31m     \u001b[0mnums\u001b[0m \u001b[0;34m=\u001b[0m \u001b[0mnp\u001b[0m\u001b[0;34m.\u001b[0m\u001b[0msort\u001b[0m\u001b[0;34m(\u001b[0m\u001b[0mvalues\u001b[0m\u001b[0;34m[\u001b[0m\u001b[0;34m~\u001b[0m\u001b[0mstr_pos\u001b[0m\u001b[0;34m]\u001b[0m\u001b[0;34m)\u001b[0m\u001b[0;34m\u001b[0m\u001b[0;34m\u001b[0m\u001b[0m\n\u001b[0m\u001b[1;32m   1861\u001b[0m     \u001b[0mstrs\u001b[0m \u001b[0;34m=\u001b[0m \u001b[0mnp\u001b[0m\u001b[0;34m.\u001b[0m\u001b[0msort\u001b[0m\u001b[0;34m(\u001b[0m\u001b[0mvalues\u001b[0m\u001b[0;34m[\u001b[0m\u001b[0mstr_pos\u001b[0m\u001b[0;34m]\u001b[0m\u001b[0;34m)\u001b[0m\u001b[0;34m\u001b[0m\u001b[0;34m\u001b[0m\u001b[0m\n\u001b[1;32m   1862\u001b[0m     \u001b[0;32mreturn\u001b[0m \u001b[0mnp\u001b[0m\u001b[0;34m.\u001b[0m\u001b[0mconcatenate\u001b[0m\u001b[0;34m(\u001b[0m\u001b[0;34m[\u001b[0m\u001b[0mnums\u001b[0m\u001b[0;34m,\u001b[0m \u001b[0mnp\u001b[0m\u001b[0;34m.\u001b[0m\u001b[0masarray\u001b[0m\u001b[0;34m(\u001b[0m\u001b[0mstrs\u001b[0m\u001b[0;34m,\u001b[0m \u001b[0mdtype\u001b[0m\u001b[0;34m=\u001b[0m\u001b[0mobject\u001b[0m\u001b[0;34m)\u001b[0m\u001b[0;34m]\u001b[0m\u001b[0;34m)\u001b[0m\u001b[0;34m\u001b[0m\u001b[0;34m\u001b[0m\u001b[0m\n",
      "\u001b[0;32m<__array_function__ internals>\u001b[0m in \u001b[0;36msort\u001b[0;34m(*args, **kwargs)\u001b[0m\n",
      "\u001b[0;32m/opt/conda/lib/python3.7/site-packages/numpy/core/fromnumeric.py\u001b[0m in \u001b[0;36msort\u001b[0;34m(a, axis, kind, order)\u001b[0m\n\u001b[1;32m    989\u001b[0m     \u001b[0;32melse\u001b[0m\u001b[0;34m:\u001b[0m\u001b[0;34m\u001b[0m\u001b[0;34m\u001b[0m\u001b[0m\n\u001b[1;32m    990\u001b[0m         \u001b[0ma\u001b[0m \u001b[0;34m=\u001b[0m \u001b[0masanyarray\u001b[0m\u001b[0;34m(\u001b[0m\u001b[0ma\u001b[0m\u001b[0;34m)\u001b[0m\u001b[0;34m.\u001b[0m\u001b[0mcopy\u001b[0m\u001b[0;34m(\u001b[0m\u001b[0morder\u001b[0m\u001b[0;34m=\u001b[0m\u001b[0;34m\"K\"\u001b[0m\u001b[0;34m)\u001b[0m\u001b[0;34m\u001b[0m\u001b[0;34m\u001b[0m\u001b[0m\n\u001b[0;32m--> 991\u001b[0;31m     \u001b[0ma\u001b[0m\u001b[0;34m.\u001b[0m\u001b[0msort\u001b[0m\u001b[0;34m(\u001b[0m\u001b[0maxis\u001b[0m\u001b[0;34m=\u001b[0m\u001b[0maxis\u001b[0m\u001b[0;34m,\u001b[0m \u001b[0mkind\u001b[0m\u001b[0;34m=\u001b[0m\u001b[0mkind\u001b[0m\u001b[0;34m,\u001b[0m \u001b[0morder\u001b[0m\u001b[0;34m=\u001b[0m\u001b[0morder\u001b[0m\u001b[0;34m)\u001b[0m\u001b[0;34m\u001b[0m\u001b[0;34m\u001b[0m\u001b[0m\n\u001b[0m\u001b[1;32m    992\u001b[0m     \u001b[0;32mreturn\u001b[0m \u001b[0ma\u001b[0m\u001b[0;34m\u001b[0m\u001b[0;34m\u001b[0m\u001b[0m\n\u001b[1;32m    993\u001b[0m \u001b[0;34m\u001b[0m\u001b[0m\n",
      "\u001b[0;31mTypeError\u001b[0m: '<' not supported between instances of 'Polygon' and 'Polygon'"
     ]
    }
   ],
   "source": []
  },
  {
   "cell_type": "code",
   "execution_count": null,
   "id": "cb1ba388-bb51-4ca5-b9bd-663bdfd0f8b5",
   "metadata": {},
   "outputs": [],
   "source": []
  }
 ],
 "metadata": {
  "environment": {
   "kernel": "python3",
   "name": "common-cpu.m95",
   "type": "gcloud",
   "uri": "gcr.io/deeplearning-platform-release/base-cpu:m95"
  },
  "kernelspec": {
   "display_name": "Python 3",
   "language": "python",
   "name": "python3"
  },
  "language_info": {
   "codemirror_mode": {
    "name": "ipython",
    "version": 3
   },
   "file_extension": ".py",
   "mimetype": "text/x-python",
   "name": "python",
   "nbconvert_exporter": "python",
   "pygments_lexer": "ipython3",
   "version": "3.7.12"
  }
 },
 "nbformat": 4,
 "nbformat_minor": 5
}
