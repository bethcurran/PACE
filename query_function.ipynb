{
 "cells": [
  {
   "cell_type": "markdown",
   "id": "d38dfe75-7f0d-4b19-a329-593f61552cc9",
   "metadata": {},
   "source": [
    "# ML4FLoods - Query Function Developement"
   ]
  },
  {
   "cell_type": "markdown",
   "id": "eb878f58-93f3-4e73-99d7-1d5dd7ba122a",
   "metadata": {
    "jp-MarkdownHeadingCollapsed": true,
    "tags": []
   },
   "source": [
    "Aim: To adapt and extend on code from ee_download.py in order to query avaliable Earth Engine data for a given AOI."
   ]
  },
  {
   "cell_type": "code",
   "execution_count": null,
   "id": "8b00fc87-24d5-4ec6-8baa-da8d7f431e58",
   "metadata": {},
   "outputs": [],
   "source": [
    "pip install git+https://github.com/spaceml-org/ml4floods#egg=ml4floods"
   ]
  },
  {
   "cell_type": "code",
   "execution_count": 9,
   "id": "7f915e7b-5b18-4e06-b0a4-70e12f65f115",
   "metadata": {},
   "outputs": [],
   "source": [
    "import traceback\n",
    "import warnings\n",
    "\n",
    "from io import StringIO\n",
    "import ee\n",
    "import time\n",
    "import os\n",
    "from glob import glob\n",
    "from typing import Optional, Callable, List, Tuple\n",
    "from shapely.geometry import mapping, Polygon\n",
    "import numpy as np\n",
    "import geopandas as gpd\n",
    "import pandas as pd\n",
    "import fsspec\n",
    "from datetime import datetime, timezone\n",
    "import math"
   ]
  },
  {
   "cell_type": "markdown",
   "id": "8c9b3ca0-f6db-46fe-9e6c-9d18c8d57088",
   "metadata": {},
   "source": [
    "### Setting up Search Parameters"
   ]
  },
  {
   "cell_type": "code",
   "execution_count": null,
   "id": "d64c5737-4d45-400f-a5a0-19790573f377",
   "metadata": {},
   "outputs": [],
   "source": [
    "#Reading in the AOI \n",
    "#for test case: using patch from sydney map"
   ]
  },
  {
   "cell_type": "code",
   "execution_count": null,
   "id": "41cabd5d-a719-48fd-95ff-bf3513d4be85",
   "metadata": {},
   "outputs": [],
   "source": [
    "#Coverting bounds of AOI to a variable (polygon) to be passed into the query functions"
   ]
  },
  {
   "cell_type": "code",
   "execution_count": null,
   "id": "0b44681f-ee98-47dc-a04f-ae84d10ed618",
   "metadata": {},
   "outputs": [],
   "source": [
    "#Specifiying date of interest and converting to a variable to be passed, \n",
    "#inlcude year as a seperate variable for year long data (e.g. permanent water)"
   ]
  },
  {
   "cell_type": "markdown",
   "id": "1b431518-40c6-40c2-9e67-590a1f676f7e",
   "metadata": {},
   "source": [
    "### Initial Queries"
   ]
  },
  {
   "cell_type": "code",
   "execution_count": null,
   "id": "0b45ee39-c365-4f3b-89ff-2c096b8863a6",
   "metadata": {},
   "outputs": [],
   "source": []
  }
 ],
 "metadata": {
  "environment": {
   "kernel": "python3",
   "name": "common-cpu.m95",
   "type": "gcloud",
   "uri": "gcr.io/deeplearning-platform-release/base-cpu:m95"
  },
  "kernelspec": {
   "display_name": "Python 3",
   "language": "python",
   "name": "python3"
  },
  "language_info": {
   "codemirror_mode": {
    "name": "ipython",
    "version": 3
   },
   "file_extension": ".py",
   "mimetype": "text/x-python",
   "name": "python",
   "nbconvert_exporter": "python",
   "pygments_lexer": "ipython3",
   "version": "3.7.12"
  }
 },
 "nbformat": 4,
 "nbformat_minor": 5
}
