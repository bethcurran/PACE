{
 "cells": [
  {
   "cell_type": "code",
   "execution_count": 1,
   "id": "5978f7a4-ebb6-4b96-a7f5-fcb76e009586",
   "metadata": {},
   "outputs": [
    {
     "name": "stdout",
     "output_type": "stream",
     "text": [
      "/home/jupyter/PACE\n"
     ]
    }
   ],
   "source": [
    "cd /home/jupyter/PACE"
   ]
  },
  {
   "cell_type": "code",
   "execution_count": 2,
   "id": "4af032eb-20a5-4297-afd1-6b5b75b86c9a",
   "metadata": {},
   "outputs": [
    {
     "name": "stdout",
     "output_type": "stream",
     "text": [
      "Declarations_19722_Merge.cpg  Declarations_19722_Merge.shp.xml\n",
      "Declarations_19722_Merge.dbf  Declarations_19722_Merge.shx\n",
      "Declarations_19722_Merge.prj  aoi_flood_footprint.geojson\n",
      "Declarations_19722_Merge.sbn  \u001b[0m\u001b[01;34mdata\u001b[0m/\n",
      "Declarations_19722_Merge.sbx  \u001b[01;34mnotebooks\u001b[0m/\n",
      "Declarations_19722_Merge.shp\n"
     ]
    }
   ],
   "source": [
    "ls"
   ]
  },
  {
   "cell_type": "markdown",
   "id": "339e6e80-fea7-4ebe-975c-9c3ef27652c4",
   "metadata": {
    "jp-MarkdownHeadingCollapsed": true,
    "tags": []
   },
   "source": [
    "# **Install & import packages**"
   ]
  },
  {
   "cell_type": "code",
   "execution_count": 3,
   "id": "643eaefa-d758-4b20-82dd-cae59cec6870",
   "metadata": {},
   "outputs": [
    {
     "name": "stdout",
     "output_type": "stream",
     "text": [
      "Collecting ml4floods\n",
      "  Cloning https://github.com/spaceml-org/ml4floods to /tmp/pip-install-4dbl2a__/ml4floods_247333967b5142ba9db787d8bb02f940\n",
      "  Running command git clone --filter=blob:none --quiet https://github.com/spaceml-org/ml4floods /tmp/pip-install-4dbl2a__/ml4floods_247333967b5142ba9db787d8bb02f940\n",
      "  Resolved https://github.com/spaceml-org/ml4floods to commit 0f8fdc4b6b891ed249f52fda19ee23c50462e237\n",
      "  Preparing metadata (setup.py) ... \u001b[?25ldone\n",
      "\u001b[?25hRequirement already satisfied: torch in /opt/conda/lib/python3.7/site-packages (from ml4floods) (1.12.1)\n",
      "Requirement already satisfied: torchvision in /opt/conda/lib/python3.7/site-packages (from ml4floods) (0.13.1)\n",
      "Requirement already satisfied: pytorch-lightning in /opt/conda/lib/python3.7/site-packages (from ml4floods) (1.7.4)\n",
      "Requirement already satisfied: numpy in /opt/conda/lib/python3.7/site-packages (from ml4floods) (1.19.5)\n",
      "Requirement already satisfied: matplotlib in /opt/conda/lib/python3.7/site-packages (from ml4floods) (3.5.2)\n",
      "Requirement already satisfied: seaborn in /opt/conda/lib/python3.7/site-packages (from ml4floods) (0.11.2)\n",
      "Requirement already satisfied: scipy in /opt/conda/lib/python3.7/site-packages (from ml4floods) (1.7.3)\n",
      "Requirement already satisfied: pandas in /opt/conda/lib/python3.7/site-packages (from ml4floods) (1.3.5)\n",
      "Requirement already satisfied: rasterio in /opt/conda/lib/python3.7/site-packages (from ml4floods) (1.2.10)\n",
      "Requirement already satisfied: geopandas in /opt/conda/lib/python3.7/site-packages (from ml4floods) (0.10.2)\n",
      "Requirement already satisfied: tqdm in /opt/conda/lib/python3.7/site-packages (from ml4floods) (4.64.0)\n",
      "Requirement already satisfied: opencv-python in /opt/conda/lib/python3.7/site-packages (from ml4floods) (4.6.0.66)\n",
      "Requirement already satisfied: albumentations in /opt/conda/lib/python3.7/site-packages (from ml4floods) (1.2.1)\n",
      "Requirement already satisfied: google-cloud-storage in /opt/conda/lib/python3.7/site-packages (from ml4floods) (2.5.0)\n",
      "Requirement already satisfied: fsspec in /opt/conda/lib/python3.7/site-packages (from ml4floods) (2022.7.1)\n",
      "Requirement already satisfied: gcsfs in /opt/conda/lib/python3.7/site-packages (from ml4floods) (2022.7.1)\n",
      "Requirement already satisfied: requests_html in /opt/conda/lib/python3.7/site-packages (from ml4floods) (0.10.0)\n",
      "Requirement already satisfied: earthengine-api in /opt/conda/lib/python3.7/site-packages (from ml4floods) (0.1.322)\n",
      "Requirement already satisfied: mercantile in /opt/conda/lib/python3.7/site-packages (from ml4floods) (1.2.1)\n",
      "Requirement already satisfied: PyYAML in /opt/conda/lib/python3.7/site-packages (from albumentations->ml4floods) (6.0)\n",
      "Requirement already satisfied: scikit-image>=0.16.1 in /opt/conda/lib/python3.7/site-packages (from albumentations->ml4floods) (0.19.3)\n",
      "Requirement already satisfied: opencv-python-headless>=4.1.1 in /opt/conda/lib/python3.7/site-packages (from albumentations->ml4floods) (4.6.0.66)\n",
      "Requirement already satisfied: qudida>=0.0.4 in /opt/conda/lib/python3.7/site-packages (from albumentations->ml4floods) (0.0.4)\n",
      "Requirement already satisfied: httplib2shim in /opt/conda/lib/python3.7/site-packages (from earthengine-api->ml4floods) (0.0.3)\n",
      "Requirement already satisfied: google-auth-httplib2>=0.0.3 in /opt/conda/lib/python3.7/site-packages (from earthengine-api->ml4floods) (0.1.0)\n",
      "Requirement already satisfied: google-auth>=1.4.1 in /opt/conda/lib/python3.7/site-packages (from earthengine-api->ml4floods) (2.10.0)\n",
      "Requirement already satisfied: six in /opt/conda/lib/python3.7/site-packages (from earthengine-api->ml4floods) (1.16.0)\n",
      "Requirement already satisfied: httplib2<1dev,>=0.9.2 in /opt/conda/lib/python3.7/site-packages (from earthengine-api->ml4floods) (0.20.4)\n",
      "Requirement already satisfied: google-api-python-client<2,>=1.12.1 in /opt/conda/lib/python3.7/site-packages (from earthengine-api->ml4floods) (1.12.11)\n",
      "Requirement already satisfied: future in /opt/conda/lib/python3.7/site-packages (from earthengine-api->ml4floods) (0.18.2)\n",
      "Requirement already satisfied: aiohttp in /opt/conda/lib/python3.7/site-packages (from gcsfs->ml4floods) (3.8.1)\n",
      "Requirement already satisfied: decorator>4.1.2 in /opt/conda/lib/python3.7/site-packages (from gcsfs->ml4floods) (5.1.1)\n",
      "Requirement already satisfied: google-auth-oauthlib in /opt/conda/lib/python3.7/site-packages (from gcsfs->ml4floods) (0.4.6)\n",
      "Requirement already satisfied: requests in /opt/conda/lib/python3.7/site-packages (from gcsfs->ml4floods) (2.28.1)\n",
      "Requirement already satisfied: fiona>=1.8 in /opt/conda/lib/python3.7/site-packages (from geopandas->ml4floods) (1.8.21)\n",
      "Requirement already satisfied: pyproj>=2.2.0 in /opt/conda/lib/python3.7/site-packages (from geopandas->ml4floods) (3.2.1)\n",
      "Requirement already satisfied: shapely>=1.6 in /opt/conda/lib/python3.7/site-packages (from geopandas->ml4floods) (1.8.4)\n",
      "Requirement already satisfied: python-dateutil>=2.7.3 in /opt/conda/lib/python3.7/site-packages (from pandas->ml4floods) (2.8.2)\n",
      "Requirement already satisfied: pytz>=2017.3 in /opt/conda/lib/python3.7/site-packages (from pandas->ml4floods) (2022.1)\n",
      "Requirement already satisfied: google-cloud-core<3.0dev,>=2.3.0 in /opt/conda/lib/python3.7/site-packages (from google-cloud-storage->ml4floods) (2.3.2)\n",
      "Requirement already satisfied: google-api-core!=2.0.*,!=2.1.*,!=2.2.*,!=2.3.0,<3.0.0dev,>=1.31.5 in /opt/conda/lib/python3.7/site-packages (from google-cloud-storage->ml4floods) (2.8.1)\n",
      "Requirement already satisfied: google-resumable-media>=2.3.2 in /opt/conda/lib/python3.7/site-packages (from google-cloud-storage->ml4floods) (2.3.3)\n",
      "Requirement already satisfied: cycler>=0.10 in /opt/conda/lib/python3.7/site-packages (from matplotlib->ml4floods) (0.11.0)\n",
      "Requirement already satisfied: pyparsing>=2.2.1 in /opt/conda/lib/python3.7/site-packages (from matplotlib->ml4floods) (3.0.9)\n",
      "Requirement already satisfied: kiwisolver>=1.0.1 in /opt/conda/lib/python3.7/site-packages (from matplotlib->ml4floods) (1.4.4)\n",
      "Requirement already satisfied: packaging>=20.0 in /opt/conda/lib/python3.7/site-packages (from matplotlib->ml4floods) (21.3)\n",
      "Requirement already satisfied: fonttools>=4.22.0 in /opt/conda/lib/python3.7/site-packages (from matplotlib->ml4floods) (4.34.4)\n",
      "Requirement already satisfied: pillow>=6.2.0 in /opt/conda/lib/python3.7/site-packages (from matplotlib->ml4floods) (9.2.0)\n",
      "Requirement already satisfied: click>=3.0 in /opt/conda/lib/python3.7/site-packages (from mercantile->ml4floods) (8.1.3)\n",
      "Requirement already satisfied: typing-extensions>=4.0.0 in /opt/conda/lib/python3.7/site-packages (from pytorch-lightning->ml4floods) (4.3.0)\n",
      "Requirement already satisfied: torchmetrics>=0.7.0 in /opt/conda/lib/python3.7/site-packages (from pytorch-lightning->ml4floods) (0.9.3)\n",
      "Requirement already satisfied: tensorboard>=2.9.1 in /opt/conda/lib/python3.7/site-packages (from pytorch-lightning->ml4floods) (2.10.0)\n",
      "Requirement already satisfied: pyDeprecate>=0.3.1 in /opt/conda/lib/python3.7/site-packages (from pytorch-lightning->ml4floods) (0.3.2)\n",
      "Requirement already satisfied: certifi in /opt/conda/lib/python3.7/site-packages (from rasterio->ml4floods) (2022.6.15)\n",
      "Requirement already satisfied: attrs in /opt/conda/lib/python3.7/site-packages (from rasterio->ml4floods) (22.1.0)\n",
      "Requirement already satisfied: cligj>=0.5 in /opt/conda/lib/python3.7/site-packages (from rasterio->ml4floods) (0.7.2)\n",
      "Requirement already satisfied: affine in /opt/conda/lib/python3.7/site-packages (from rasterio->ml4floods) (2.3.1)\n",
      "Requirement already satisfied: snuggs>=1.4.1 in /opt/conda/lib/python3.7/site-packages (from rasterio->ml4floods) (1.4.7)\n",
      "Requirement already satisfied: click-plugins in /opt/conda/lib/python3.7/site-packages (from rasterio->ml4floods) (1.1.1)\n",
      "Requirement already satisfied: setuptools in /opt/conda/lib/python3.7/site-packages (from rasterio->ml4floods) (59.8.0)\n",
      "Requirement already satisfied: w3lib in /opt/conda/lib/python3.7/site-packages (from requests_html->ml4floods) (2.0.1)\n",
      "Requirement already satisfied: fake-useragent in /opt/conda/lib/python3.7/site-packages (from requests_html->ml4floods) (0.1.11)\n",
      "Requirement already satisfied: pyquery in /opt/conda/lib/python3.7/site-packages (from requests_html->ml4floods) (1.4.3)\n",
      "Requirement already satisfied: bs4 in /opt/conda/lib/python3.7/site-packages (from requests_html->ml4floods) (0.0.1)\n",
      "Requirement already satisfied: parse in /opt/conda/lib/python3.7/site-packages (from requests_html->ml4floods) (1.19.0)\n",
      "Requirement already satisfied: pyppeteer>=0.0.14 in /opt/conda/lib/python3.7/site-packages (from requests_html->ml4floods) (1.0.2)\n",
      "Requirement already satisfied: importlib-metadata in /opt/conda/lib/python3.7/site-packages (from click>=3.0->mercantile->ml4floods) (4.11.4)\n",
      "Requirement already satisfied: munch in /opt/conda/lib/python3.7/site-packages (from fiona>=1.8->geopandas->ml4floods) (2.5.0)\n",
      "Requirement already satisfied: googleapis-common-protos<2.0dev,>=1.56.2 in /opt/conda/lib/python3.7/site-packages (from google-api-core!=2.0.*,!=2.1.*,!=2.2.*,!=2.3.0,<3.0.0dev,>=1.31.5->google-cloud-storage->ml4floods) (1.56.4)\n",
      "Requirement already satisfied: protobuf<4.0.0dev,>=3.15.0 in /opt/conda/lib/python3.7/site-packages (from google-api-core!=2.0.*,!=2.1.*,!=2.2.*,!=2.3.0,<3.0.0dev,>=1.31.5->google-cloud-storage->ml4floods) (3.19.4)\n",
      "Requirement already satisfied: uritemplate<4dev,>=3.0.0 in /opt/conda/lib/python3.7/site-packages (from google-api-python-client<2,>=1.12.1->earthengine-api->ml4floods) (3.0.1)\n",
      "Requirement already satisfied: cachetools<6.0,>=2.0.0 in /opt/conda/lib/python3.7/site-packages (from google-auth>=1.4.1->earthengine-api->ml4floods) (5.0.0)\n",
      "Requirement already satisfied: rsa<5,>=3.1.4 in /opt/conda/lib/python3.7/site-packages (from google-auth>=1.4.1->earthengine-api->ml4floods) (4.9)\n",
      "Requirement already satisfied: pyasn1-modules>=0.2.1 in /opt/conda/lib/python3.7/site-packages (from google-auth>=1.4.1->earthengine-api->ml4floods) (0.2.7)\n",
      "Requirement already satisfied: google-crc32c<2.0dev,>=1.0 in /opt/conda/lib/python3.7/site-packages (from google-resumable-media>=2.3.2->google-cloud-storage->ml4floods) (1.1.2)\n",
      "Requirement already satisfied: appdirs<2.0.0,>=1.4.3 in /opt/conda/lib/python3.7/site-packages (from pyppeteer>=0.0.14->requests_html->ml4floods) (1.4.4)\n",
      "Requirement already satisfied: pyee<9.0.0,>=8.1.0 in /opt/conda/lib/python3.7/site-packages (from pyppeteer>=0.0.14->requests_html->ml4floods) (8.2.2)\n",
      "Requirement already satisfied: websockets<11.0,>=10.0 in /opt/conda/lib/python3.7/site-packages (from pyppeteer>=0.0.14->requests_html->ml4floods) (10.3)\n",
      "Requirement already satisfied: urllib3<2.0.0,>=1.25.8 in /opt/conda/lib/python3.7/site-packages (from pyppeteer>=0.0.14->requests_html->ml4floods) (1.26.11)\n",
      "Requirement already satisfied: scikit-learn>=0.19.1 in /opt/conda/lib/python3.7/site-packages (from qudida>=0.0.4->albumentations->ml4floods) (1.0.2)\n",
      "Requirement already satisfied: charset-normalizer<3,>=2 in /opt/conda/lib/python3.7/site-packages (from requests->gcsfs->ml4floods) (2.1.0)\n",
      "Requirement already satisfied: idna<4,>=2.5 in /opt/conda/lib/python3.7/site-packages (from requests->gcsfs->ml4floods) (3.3)\n",
      "Requirement already satisfied: imageio>=2.4.1 in /opt/conda/lib/python3.7/site-packages (from scikit-image>=0.16.1->albumentations->ml4floods) (2.21.2)\n",
      "Requirement already satisfied: PyWavelets>=1.1.1 in /opt/conda/lib/python3.7/site-packages (from scikit-image>=0.16.1->albumentations->ml4floods) (1.3.0)\n",
      "Requirement already satisfied: tifffile>=2019.7.26 in /opt/conda/lib/python3.7/site-packages (from scikit-image>=0.16.1->albumentations->ml4floods) (2021.11.2)\n",
      "Requirement already satisfied: networkx>=2.2 in /opt/conda/lib/python3.7/site-packages (from scikit-image>=0.16.1->albumentations->ml4floods) (2.7.1)\n",
      "Requirement already satisfied: tensorboard-data-server<0.7.0,>=0.6.0 in /opt/conda/lib/python3.7/site-packages (from tensorboard>=2.9.1->pytorch-lightning->ml4floods) (0.6.1)\n",
      "Requirement already satisfied: absl-py>=0.4 in /opt/conda/lib/python3.7/site-packages (from tensorboard>=2.9.1->pytorch-lightning->ml4floods) (1.2.0)\n",
      "Requirement already satisfied: wheel>=0.26 in /opt/conda/lib/python3.7/site-packages (from tensorboard>=2.9.1->pytorch-lightning->ml4floods) (0.37.1)\n",
      "Requirement already satisfied: tensorboard-plugin-wit>=1.6.0 in /opt/conda/lib/python3.7/site-packages (from tensorboard>=2.9.1->pytorch-lightning->ml4floods) (1.8.1)\n",
      "Requirement already satisfied: werkzeug>=1.0.1 in /opt/conda/lib/python3.7/site-packages (from tensorboard>=2.9.1->pytorch-lightning->ml4floods) (2.2.2)\n",
      "Requirement already satisfied: markdown>=2.6.8 in /opt/conda/lib/python3.7/site-packages (from tensorboard>=2.9.1->pytorch-lightning->ml4floods) (3.4.1)\n",
      "Requirement already satisfied: grpcio>=1.24.3 in /opt/conda/lib/python3.7/site-packages (from tensorboard>=2.9.1->pytorch-lightning->ml4floods) (1.48.0)\n",
      "Requirement already satisfied: requests-oauthlib>=0.7.0 in /opt/conda/lib/python3.7/site-packages (from google-auth-oauthlib->gcsfs->ml4floods) (1.3.1)\n",
      "Requirement already satisfied: asynctest==0.13.0 in /opt/conda/lib/python3.7/site-packages (from aiohttp->gcsfs->ml4floods) (0.13.0)\n",
      "Requirement already satisfied: yarl<2.0,>=1.0 in /opt/conda/lib/python3.7/site-packages (from aiohttp->gcsfs->ml4floods) (1.7.2)\n",
      "Requirement already satisfied: async-timeout<5.0,>=4.0.0a3 in /opt/conda/lib/python3.7/site-packages (from aiohttp->gcsfs->ml4floods) (4.0.2)\n",
      "Requirement already satisfied: frozenlist>=1.1.1 in /opt/conda/lib/python3.7/site-packages (from aiohttp->gcsfs->ml4floods) (1.3.1)\n",
      "Requirement already satisfied: aiosignal>=1.1.2 in /opt/conda/lib/python3.7/site-packages (from aiohttp->gcsfs->ml4floods) (1.2.0)\n",
      "Requirement already satisfied: multidict<7.0,>=4.5 in /opt/conda/lib/python3.7/site-packages (from aiohttp->gcsfs->ml4floods) (6.0.2)\n",
      "Requirement already satisfied: beautifulsoup4 in /opt/conda/lib/python3.7/site-packages (from bs4->requests_html->ml4floods) (4.11.1)\n",
      "Requirement already satisfied: lxml>=2.1 in /opt/conda/lib/python3.7/site-packages (from pyquery->requests_html->ml4floods) (4.9.1)\n",
      "Requirement already satisfied: cssselect>0.7.9 in /opt/conda/lib/python3.7/site-packages (from pyquery->requests_html->ml4floods) (1.1.0)\n",
      "Requirement already satisfied: cffi>=1.0.0 in /opt/conda/lib/python3.7/site-packages (from google-crc32c<2.0dev,>=1.0->google-resumable-media>=2.3.2->google-cloud-storage->ml4floods) (1.15.1)\n",
      "Requirement already satisfied: zipp>=0.5 in /opt/conda/lib/python3.7/site-packages (from importlib-metadata->click>=3.0->mercantile->ml4floods) (3.8.1)\n",
      "Requirement already satisfied: pyasn1<0.5.0,>=0.4.6 in /opt/conda/lib/python3.7/site-packages (from pyasn1-modules>=0.2.1->google-auth>=1.4.1->earthengine-api->ml4floods) (0.4.8)\n",
      "Requirement already satisfied: oauthlib>=3.0.0 in /opt/conda/lib/python3.7/site-packages (from requests-oauthlib>=0.7.0->google-auth-oauthlib->gcsfs->ml4floods) (3.2.0)\n",
      "Requirement already satisfied: threadpoolctl>=2.0.0 in /opt/conda/lib/python3.7/site-packages (from scikit-learn>=0.19.1->qudida>=0.0.4->albumentations->ml4floods) (3.1.0)\n",
      "Requirement already satisfied: joblib>=0.11 in /opt/conda/lib/python3.7/site-packages (from scikit-learn>=0.19.1->qudida>=0.0.4->albumentations->ml4floods) (1.1.0)\n",
      "Requirement already satisfied: MarkupSafe>=2.1.1 in /opt/conda/lib/python3.7/site-packages (from werkzeug>=1.0.1->tensorboard>=2.9.1->pytorch-lightning->ml4floods) (2.1.1)\n",
      "Requirement already satisfied: soupsieve>1.2 in /opt/conda/lib/python3.7/site-packages (from beautifulsoup4->bs4->requests_html->ml4floods) (2.3.2.post1)\n",
      "Requirement already satisfied: pycparser in /opt/conda/lib/python3.7/site-packages (from cffi>=1.0.0->google-crc32c<2.0dev,>=1.0->google-resumable-media>=2.3.2->google-cloud-storage->ml4floods) (2.21)\n",
      "Requirement already satisfied: pygeos in /opt/conda/lib/python3.7/site-packages (0.13)\n",
      "Requirement already satisfied: numpy>=1.13 in /opt/conda/lib/python3.7/site-packages (from pygeos) (1.19.5)\n"
     ]
    }
   ],
   "source": [
    "!pip install git+https://github.com/spaceml-org/ml4floods#egg=ml4floods\n",
    "!pip install pygeos"
   ]
  },
  {
   "cell_type": "code",
   "execution_count": 4,
   "id": "7413f348-9082-464a-9021-10010188454c",
   "metadata": {},
   "outputs": [],
   "source": [
    "import pandas as pd\n",
    "import geopandas as gpd\n",
    "import numpy as np\n",
    "import os\n",
    "import pygeos\n",
    "gpd.options.use_pygeos = True"
   ]
  },
  {
   "cell_type": "markdown",
   "id": "b2965aff-612f-4d24-b01d-d0db12afab63",
   "metadata": {
    "tags": []
   },
   "source": [
    "# **Getting the buildings affected by the floods in the government supplied AOI.**"
   ]
  },
  {
   "cell_type": "markdown",
   "id": "9cc5ab14-8fd9-4e8b-a78a-68fb13051529",
   "metadata": {
    "tags": []
   },
   "source": [
    "## Getting the intersection DF"
   ]
  },
  {
   "cell_type": "code",
   "execution_count": 5,
   "id": "9eaa8e26-4b32-4112-8c18-f8117dd6e586",
   "metadata": {},
   "outputs": [],
   "source": [
    "# Returns a geodata with the buildings affected in the government supplied AOI.\n",
    "\n",
    "def get_intersection(aoi_footprintPath: str, aoi_mapPath: str ):\n",
    "    \n",
    "    # Reading the files in.\n",
    "    aoi_footprint = gpd.read_file(aoi_footprintPath)\n",
    "    aoi_map = gpd.read_file(aoi_mapPath)\n",
    "\n",
    "    # Finding the affected buildings in the government supplied AOI. \n",
    "    aoi_intersect = gpd.overlay(aoi_map, aoi_footprint, how='intersection')\n",
    "    \n",
    "    length = len(aoi_intersect.groupby('class').get_group('flood-trace'))\n",
    "    \n",
    "    # Number of affected buildings.\n",
    "    print(f'There are {length} buildings affected in this AOI')\n",
    "    \n",
    "    # Saving the file. \n",
    "    aoi_intersect.to_file(\"data/aoi_intersect.geojson\", driver='GeoJSON')\n",
    "    \n",
    "    return aoi_intersect"
   ]
  },
  {
   "cell_type": "code",
   "execution_count": 131,
   "id": "c93094ba-2b13-44f1-bd7e-cf5a47f19299",
   "metadata": {},
   "outputs": [],
   "source": [
    "aoi_footprint_path = 'data/syd_reduced_footprint.geojson'\n",
    "aoi_footprint = gpd.read_file(aoi_footprint_path)\n",
    "\n",
    "aoi_map_path = 'data/syd_reduced_map.geojson'\n",
    "aoi_map = gpd.read_file(aoi_map_path)"
   ]
  },
  {
   "cell_type": "code",
   "execution_count": 7,
   "id": "b7c6825c-33e1-43cd-bbfa-cb0528eb3413",
   "metadata": {},
   "outputs": [
    {
     "name": "stdout",
     "output_type": "stream",
     "text": [
      "There are 399 buildings affected in this AOI\n"
     ]
    }
   ],
   "source": [
    "test = get_intersection(aoi_footprint_path, aoi_map_path)"
   ]
  },
  {
   "cell_type": "markdown",
   "id": "3a90a091-80c8-4f99-a113-2da61f37bce0",
   "metadata": {},
   "source": [
    "`intersection()` with parameter `align = True` checks for the exact coordinates in both dataframes. Considering they won't match in coordinates, we won't find intersections. One dataframe has the coordinates for polygons of the floodmap and the other is coordinates for buildings. "
   ]
  },
  {
   "cell_type": "code",
   "execution_count": 8,
   "id": "244f6278-208d-4d28-ad09-d3af6cbde9bb",
   "metadata": {},
   "outputs": [
    {
     "name": "stderr",
     "output_type": "stream",
     "text": [
      "/opt/conda/lib/python3.7/site-packages/geopandas/base.py:31: UserWarning: The indices of the two GeoSeries are different.\n",
      "  warn(\"The indices of the two GeoSeries are different.\")\n",
      "/opt/conda/lib/python3.7/site-packages/pygeos/set_operations.py:129: RuntimeWarning: invalid value encountered in intersection\n",
      "  return lib.intersection(a, b, **kwargs)\n"
     ]
    }
   ],
   "source": [
    "intersection = aoi_footprint['geometry'].intersection(aoi_map['geometry'], align= True)"
   ]
  },
  {
   "cell_type": "markdown",
   "id": "021f79bb-0cbd-4c62-97e0-3a14b34b3d25",
   "metadata": {},
   "source": [
    "Displaying everything BUT the empty and none polygons"
   ]
  },
  {
   "cell_type": "code",
   "execution_count": 9,
   "id": "0f0082d8-48d8-4796-9643-7f49e2bfa3f2",
   "metadata": {},
   "outputs": [
    {
     "name": "stderr",
     "output_type": "stream",
     "text": [
      "/opt/conda/lib/python3.7/site-packages/ipykernel_launcher.py:1: UserWarning: GeoSeries.isna() previously returned True for both missing (None) and empty geometries. Now, it only returns True for missing values. Since the calling GeoSeries contains empty geometries, the result has changed compared to previous versions of GeoPandas.\n",
      "Given a GeoSeries 's', you can use 's.is_empty | s.isna()' to get back the old behaviour.\n",
      "\n",
      "To further ignore this warning, you can do: \n",
      "import warnings; warnings.filterwarnings('ignore', 'GeoSeries.isna', UserWarning)\n",
      "  \"\"\"Entry point for launching an IPython kernel.\n"
     ]
    },
    {
     "data": {
      "text/plain": [
       "0    POLYGON ((150.80019 -32.32059, 150.80024 -32.3...\n",
       "1    POLYGON ((150.81629 -32.30646, 150.81631 -32.3...\n",
       "dtype: geometry"
      ]
     },
     "execution_count": 9,
     "metadata": {},
     "output_type": "execute_result"
    }
   ],
   "source": [
    "intersection[(intersection.is_empty == False) & (intersection.isna() == False)]"
   ]
  },
  {
   "cell_type": "code",
   "execution_count": 10,
   "id": "20415e94-adcb-4dbc-a6da-a8141541fb91",
   "metadata": {},
   "outputs": [
    {
     "data": {
      "text/plain": [
       "0        POLYGON ((150.80033 -32.32067, 150.80037 -32.3...\n",
       "1        POLYGON ((150.81640 -32.30648, 150.81642 -32.3...\n",
       "2        POLYGON ((150.83105 -32.73790, 150.83114 -32.7...\n",
       "3        POLYGON ((150.84422 -32.44826, 150.84432 -32.4...\n",
       "4        POLYGON ((150.81490 -32.25455, 150.81503 -32.2...\n",
       "                               ...                        \n",
       "21045    POLYGON ((151.18303 -32.56620, 151.18304 -32.5...\n",
       "21046    POLYGON ((151.17889 -32.54310, 151.17892 -32.5...\n",
       "21047    POLYGON ((151.18157 -32.54495, 151.18167 -32.5...\n",
       "21048    POLYGON ((151.18859 -32.56647, 151.18866 -32.5...\n",
       "21049    POLYGON ((151.19544 -32.60997, 151.19548 -32.6...\n",
       "Name: geometry, Length: 21050, dtype: geometry"
      ]
     },
     "execution_count": 10,
     "metadata": {},
     "output_type": "execute_result"
    }
   ],
   "source": [
    "aoi_footprint['geometry']"
   ]
  },
  {
   "cell_type": "code",
   "execution_count": 11,
   "id": "57cdf02e-f87d-4124-903e-a55f9fee6a59",
   "metadata": {},
   "outputs": [
    {
     "data": {
      "text/plain": [
       "295      POLYGON ((150.88725 -32.25680, 150.88736 -32.2...\n",
       "436      POLYGON ((150.88356 -32.33784, 150.88359 -32.3...\n",
       "449      POLYGON ((150.87831 -32.32271, 150.87819 -32.3...\n",
       "1014     POLYGON ((150.99354 -32.54876, 150.99354 -32.5...\n",
       "1095     POLYGON ((150.97138 -32.57291, 150.97134 -32.5...\n",
       "                               ...                        \n",
       "42445    POLYGON ((151.18287 -32.55453, 151.18285 -32.5...\n",
       "42459    POLYGON ((151.11194 -32.68864, 151.11200 -32.6...\n",
       "42488    POLYGON ((151.19435 -32.59770, 151.19441 -32.5...\n",
       "42511    POLYGON ((151.16862 -32.43871, 151.16856 -32.4...\n",
       "42608    POLYGON ((151.13915 -32.56989, 151.13922 -32.5...\n",
       "Name: geometry, Length: 399, dtype: geometry"
      ]
     },
     "execution_count": 11,
     "metadata": {},
     "output_type": "execute_result"
    }
   ],
   "source": [
    "test.groupby('class').get_group('flood-trace')['geometry']"
   ]
  },
  {
   "cell_type": "markdown",
   "id": "42da44b2-f7e7-4cba-b005-018f72faa4ab",
   "metadata": {},
   "source": [
    "We want to retain the full footprint, so lets get the coordinates of the intersect and find what it looks like in the footprint DF. \n",
    "\n",
    "Could loop through each coordinate to see if the any of the vertices of the intersect match the footprint intersect then print the index location(s) of where they match in the footprint DF to get the full shape of the building. "
   ]
  },
  {
   "cell_type": "markdown",
   "id": "f9ca2b26-6078-448b-a8e5-a273e8c81d97",
   "metadata": {
    "tags": []
   },
   "source": [
    "## Looping through each coordinate to find intersection coordinates in the Footprint dataframe"
   ]
  },
  {
   "cell_type": "code",
   "execution_count": 12,
   "id": "486aa793-ddf9-4adc-b630-fd6ade80cde6",
   "metadata": {},
   "outputs": [],
   "source": [
    "import numpy as np"
   ]
  },
  {
   "cell_type": "markdown",
   "id": "ff03467d-fa31-45d4-96c8-ca8765c96fdb",
   "metadata": {},
   "source": [
    "Getting the flood-trace class"
   ]
  },
  {
   "cell_type": "code",
   "execution_count": 13,
   "id": "d18ad161-86dc-4a59-a2b8-59f643afb7bc",
   "metadata": {},
   "outputs": [
    {
     "data": {
      "text/html": [
       "<div>\n",
       "<style scoped>\n",
       "    .dataframe tbody tr th:only-of-type {\n",
       "        vertical-align: middle;\n",
       "    }\n",
       "\n",
       "    .dataframe tbody tr th {\n",
       "        vertical-align: top;\n",
       "    }\n",
       "\n",
       "    .dataframe thead th {\n",
       "        text-align: right;\n",
       "    }\n",
       "</style>\n",
       "<table border=\"1\" class=\"dataframe\">\n",
       "  <thead>\n",
       "    <tr style=\"text-align: right;\">\n",
       "      <th></th>\n",
       "      <th>class</th>\n",
       "      <th>geometry</th>\n",
       "    </tr>\n",
       "  </thead>\n",
       "  <tbody>\n",
       "    <tr>\n",
       "      <th>295</th>\n",
       "      <td>flood-trace</td>\n",
       "      <td>POLYGON ((150.88725 -32.25680, 150.88736 -32.2...</td>\n",
       "    </tr>\n",
       "    <tr>\n",
       "      <th>436</th>\n",
       "      <td>flood-trace</td>\n",
       "      <td>POLYGON ((150.88356 -32.33784, 150.88359 -32.3...</td>\n",
       "    </tr>\n",
       "    <tr>\n",
       "      <th>449</th>\n",
       "      <td>flood-trace</td>\n",
       "      <td>POLYGON ((150.87831 -32.32271, 150.87819 -32.3...</td>\n",
       "    </tr>\n",
       "    <tr>\n",
       "      <th>1014</th>\n",
       "      <td>flood-trace</td>\n",
       "      <td>POLYGON ((150.99354 -32.54876, 150.99354 -32.5...</td>\n",
       "    </tr>\n",
       "    <tr>\n",
       "      <th>1095</th>\n",
       "      <td>flood-trace</td>\n",
       "      <td>POLYGON ((150.97138 -32.57291, 150.97134 -32.5...</td>\n",
       "    </tr>\n",
       "    <tr>\n",
       "      <th>...</th>\n",
       "      <td>...</td>\n",
       "      <td>...</td>\n",
       "    </tr>\n",
       "    <tr>\n",
       "      <th>42445</th>\n",
       "      <td>flood-trace</td>\n",
       "      <td>POLYGON ((151.18287 -32.55453, 151.18285 -32.5...</td>\n",
       "    </tr>\n",
       "    <tr>\n",
       "      <th>42459</th>\n",
       "      <td>flood-trace</td>\n",
       "      <td>POLYGON ((151.11194 -32.68864, 151.11200 -32.6...</td>\n",
       "    </tr>\n",
       "    <tr>\n",
       "      <th>42488</th>\n",
       "      <td>flood-trace</td>\n",
       "      <td>POLYGON ((151.19435 -32.59770, 151.19441 -32.5...</td>\n",
       "    </tr>\n",
       "    <tr>\n",
       "      <th>42511</th>\n",
       "      <td>flood-trace</td>\n",
       "      <td>POLYGON ((151.16862 -32.43871, 151.16856 -32.4...</td>\n",
       "    </tr>\n",
       "    <tr>\n",
       "      <th>42608</th>\n",
       "      <td>flood-trace</td>\n",
       "      <td>POLYGON ((151.13915 -32.56989, 151.13922 -32.5...</td>\n",
       "    </tr>\n",
       "  </tbody>\n",
       "</table>\n",
       "<p>399 rows × 2 columns</p>\n",
       "</div>"
      ],
      "text/plain": [
       "             class                                           geometry\n",
       "295    flood-trace  POLYGON ((150.88725 -32.25680, 150.88736 -32.2...\n",
       "436    flood-trace  POLYGON ((150.88356 -32.33784, 150.88359 -32.3...\n",
       "449    flood-trace  POLYGON ((150.87831 -32.32271, 150.87819 -32.3...\n",
       "1014   flood-trace  POLYGON ((150.99354 -32.54876, 150.99354 -32.5...\n",
       "1095   flood-trace  POLYGON ((150.97138 -32.57291, 150.97134 -32.5...\n",
       "...            ...                                                ...\n",
       "42445  flood-trace  POLYGON ((151.18287 -32.55453, 151.18285 -32.5...\n",
       "42459  flood-trace  POLYGON ((151.11194 -32.68864, 151.11200 -32.6...\n",
       "42488  flood-trace  POLYGON ((151.19435 -32.59770, 151.19441 -32.5...\n",
       "42511  flood-trace  POLYGON ((151.16862 -32.43871, 151.16856 -32.4...\n",
       "42608  flood-trace  POLYGON ((151.13915 -32.56989, 151.13922 -32.5...\n",
       "\n",
       "[399 rows x 2 columns]"
      ]
     },
     "execution_count": 13,
     "metadata": {},
     "output_type": "execute_result"
    }
   ],
   "source": [
    "test.groupby('class').get_group('flood-trace')"
   ]
  },
  {
   "cell_type": "markdown",
   "id": "e7ea2dc2-4c8c-40da-8b84-e33bb0a9936c",
   "metadata": {},
   "source": [
    "Checking the first index, being 295 and not 1. This is the case becaus the full `test` DF contains many classes, but we filtered by the flood-trace class in the previous cell."
   ]
  },
  {
   "cell_type": "code",
   "execution_count": 14,
   "id": "99a65054-0629-422d-8b77-76c86565cbfc",
   "metadata": {},
   "outputs": [
    {
     "data": {
      "text/plain": [
       "class                                             flood-trace\n",
       "geometry    POLYGON ((150.8872532897568 -32.25679598968163...\n",
       "Name: 295, dtype: object"
      ]
     },
     "execution_count": 14,
     "metadata": {},
     "output_type": "execute_result"
    }
   ],
   "source": [
    "test.loc[295]"
   ]
  },
  {
   "cell_type": "markdown",
   "id": "6d788e59-d681-48dd-9b26-b441f5657a12",
   "metadata": {},
   "source": [
    "Details of the first polygon in the footprint dataframe (i.e. the coordinates of the first building in the DF)"
   ]
  },
  {
   "cell_type": "markdown",
   "id": "b0692599-4ec6-4627-afe1-c048de8a4f3a",
   "metadata": {},
   "source": [
    "Accessing the coordinates of the first building. "
   ]
  },
  {
   "cell_type": "code",
   "execution_count": 15,
   "id": "337941a2-e1fa-4333-839d-bb5bfcd5a113",
   "metadata": {},
   "outputs": [
    {
     "data": {
      "text/plain": [
       "Int64Index([  295,   436,   449,  1014,  1095,  1156,  1188,  1360,  1426,\n",
       "             1552,\n",
       "            ...\n",
       "            41924, 41927, 42071, 42232, 42412, 42445, 42459, 42488, 42511,\n",
       "            42608],\n",
       "           dtype='int64', length=399)"
      ]
     },
     "execution_count": 15,
     "metadata": {},
     "output_type": "execute_result"
    }
   ],
   "source": [
    "test.groupby('class').get_group('flood-trace')['geometry'].index"
   ]
  },
  {
   "cell_type": "code",
   "execution_count": 16,
   "id": "c6a1b8c7-1c8a-4663-807e-b1025978099b",
   "metadata": {},
   "outputs": [
    {
     "data": {
      "text/plain": [
       "(150.8871978737571, -32.25693153405079, 150.8873607340969, -32.25679598968163)"
      ]
     },
     "execution_count": 16,
     "metadata": {},
     "output_type": "execute_result"
    }
   ],
   "source": [
    "test['geometry'][295].bounds"
   ]
  },
  {
   "cell_type": "code",
   "execution_count": 17,
   "id": "459a64eb-4aff-47e5-bacc-b3669a330142",
   "metadata": {},
   "outputs": [
    {
     "data": {
      "text/plain": [
       "(150.8001922262388, -32.3206707407335, 150.8003744702567, -32.32053677553388)"
      ]
     },
     "execution_count": 17,
     "metadata": {},
     "output_type": "execute_result"
    }
   ],
   "source": [
    "aoi_footprint['geometry'][0].bounds"
   ]
  },
  {
   "cell_type": "code",
   "execution_count": 18,
   "id": "37d655ee-473e-4fb2-a94d-41cff557c94c",
   "metadata": {},
   "outputs": [
    {
     "data": {
      "text/plain": [
       "(150.8001922262388, -32.3206707407335, 150.8003744702567, -32.32053677553388)"
      ]
     },
     "execution_count": 18,
     "metadata": {},
     "output_type": "execute_result"
    }
   ],
   "source": [
    "test['geometry'][0].bounds"
   ]
  },
  {
   "cell_type": "code",
   "execution_count": 19,
   "id": "f6000f16-01bf-45f5-be42-35e1ffb5bda4",
   "metadata": {},
   "outputs": [
    {
     "data": {
      "text/plain": [
       "True"
      ]
     },
     "execution_count": 19,
     "metadata": {},
     "output_type": "execute_result"
    }
   ],
   "source": [
    "test['geometry'][41927].bounds == test['geometry'][41927].bounds"
   ]
  },
  {
   "cell_type": "code",
   "execution_count": 20,
   "id": "3411f17a-6b5a-4d39-a6d9-081bbee62e42",
   "metadata": {},
   "outputs": [
    {
     "data": {
      "text/plain": [
       "(151.1512153715256, -32.58407969618406, 151.1513278599995, -32.58392574669479)"
      ]
     },
     "execution_count": 20,
     "metadata": {},
     "output_type": "execute_result"
    }
   ],
   "source": [
    "test['geometry'][41927].bounds"
   ]
  },
  {
   "cell_type": "markdown",
   "id": "a10216f1-65a3-4a0f-8864-e72016ad2d9f",
   "metadata": {},
   "source": [
    "With the below loop, we should expect 399 'j' indices. "
   ]
  },
  {
   "cell_type": "code",
   "execution_count": 58,
   "id": "e2394447-47c8-4736-8bdb-b36fe7773f7b",
   "metadata": {},
   "outputs": [
    {
     "name": "stdout",
     "output_type": "stream",
     "text": [
      "Checking Intersection index 295\n",
      "Footprint index 146 contains the full coordinates for Intersection index 295\n",
      "Checking Intersection index 436\n",
      "Checking Intersection index 449\n",
      "Checking Intersection index 1014\n",
      "Checking Intersection index 1095\n",
      "Checking Intersection index 1156\n",
      "Checking Intersection index 1188\n",
      "Footprint index 586 contains the full coordinates for Intersection index 1188\n",
      "Checking Intersection index 1360\n",
      "Checking Intersection index 1426\n",
      "Checking Intersection index 1552\n",
      "Checking Intersection index 1609\n",
      "Footprint index 793 contains the full coordinates for Intersection index 1609\n",
      "Checking Intersection index 1779\n",
      "Checking Intersection index 1977\n",
      "Footprint index 975 contains the full coordinates for Intersection index 1977\n",
      "Checking Intersection index 2421\n",
      "Checking Intersection index 2433\n",
      "Checking Intersection index 2605\n",
      "Footprint index 1286 contains the full coordinates for Intersection index 2605\n",
      "Checking Intersection index 2676\n",
      "Footprint index 1321 contains the full coordinates for Intersection index 2676\n",
      "Checking Intersection index 2964\n",
      "Checking Intersection index 3109\n",
      "Checking Intersection index 3716\n",
      "Footprint index 1839 contains the full coordinates for Intersection index 3716\n",
      "Checking Intersection index 3958\n",
      "Checking Intersection index 4050\n",
      "Checking Intersection index 4055\n",
      "Footprint index 2006 contains the full coordinates for Intersection index 4055\n",
      "Checking Intersection index 4082\n",
      "Footprint index 2019 contains the full coordinates for Intersection index 4082\n",
      "Checking Intersection index 4093\n",
      "Checking Intersection index 4132\n",
      "Footprint index 2043 contains the full coordinates for Intersection index 4132\n",
      "Checking Intersection index 4145\n",
      "Footprint index 2049 contains the full coordinates for Intersection index 4145\n",
      "Checking Intersection index 4150\n",
      "Footprint index 2051 contains the full coordinates for Intersection index 4150\n",
      "Checking Intersection index 4187\n",
      "Checking Intersection index 4205\n",
      "Checking Intersection index 4219\n",
      "Footprint index 2083 contains the full coordinates for Intersection index 4219\n",
      "Checking Intersection index 4235\n",
      "Footprint index 2090 contains the full coordinates for Intersection index 4235\n",
      "Checking Intersection index 4385\n",
      "Checking Intersection index 4394\n",
      "Footprint index 2167 contains the full coordinates for Intersection index 4394\n",
      "Checking Intersection index 4455\n",
      "Footprint index 2197 contains the full coordinates for Intersection index 4455\n",
      "Checking Intersection index 4468\n",
      "Footprint index 2203 contains the full coordinates for Intersection index 4468\n",
      "Checking Intersection index 4483\n",
      "Footprint index 2210 contains the full coordinates for Intersection index 4483\n",
      "Checking Intersection index 4494\n",
      "Footprint index 2215 contains the full coordinates for Intersection index 4494\n",
      "Checking Intersection index 4695\n",
      "Footprint index 2315 contains the full coordinates for Intersection index 4695\n",
      "Checking Intersection index 4762\n",
      "Checking Intersection index 4828\n",
      "Footprint index 2380 contains the full coordinates for Intersection index 4828\n",
      "Checking Intersection index 4881\n",
      "Checking Intersection index 4914\n",
      "Checking Intersection index 5082\n",
      "Footprint index 2505 contains the full coordinates for Intersection index 5082\n",
      "Checking Intersection index 5095\n",
      "Checking Intersection index 5224\n",
      "Checking Intersection index 5297\n",
      "Footprint index 2611 contains the full coordinates for Intersection index 5297\n",
      "Checking Intersection index 5444\n",
      "Checking Intersection index 5477\n",
      "Checking Intersection index 6204\n",
      "Checking Intersection index 6765\n",
      "Footprint index 3342 contains the full coordinates for Intersection index 6765\n",
      "Checking Intersection index 6887\n",
      "Footprint index 3402 contains the full coordinates for Intersection index 6887\n",
      "Checking Intersection index 6931\n",
      "Checking Intersection index 6936\n",
      "Checking Intersection index 6993\n",
      "Footprint index 3453 contains the full coordinates for Intersection index 6993\n",
      "Checking Intersection index 7016\n",
      "Checking Intersection index 7044\n",
      "Checking Intersection index 7068\n",
      "Footprint index 3488 contains the full coordinates for Intersection index 7068\n",
      "Checking Intersection index 7348\n",
      "Footprint index 3627 contains the full coordinates for Intersection index 7348\n",
      "Checking Intersection index 7448\n",
      "Checking Intersection index 7493\n",
      "Checking Intersection index 7541\n",
      "Footprint index 3721 contains the full coordinates for Intersection index 7541\n",
      "Checking Intersection index 7624\n",
      "Footprint index 3762 contains the full coordinates for Intersection index 7624\n",
      "Checking Intersection index 7693\n",
      "Footprint index 3796 contains the full coordinates for Intersection index 7693\n",
      "Checking Intersection index 7698\n",
      "Footprint index 3798 contains the full coordinates for Intersection index 7698\n",
      "Checking Intersection index 7916\n",
      "Checking Intersection index 7995\n",
      "Checking Intersection index 8080\n",
      "Checking Intersection index 8104\n",
      "Footprint index 3998 contains the full coordinates for Intersection index 8104\n",
      "Checking Intersection index 8145\n",
      "Footprint index 4018 contains the full coordinates for Intersection index 8145\n",
      "Checking Intersection index 8208\n",
      "Checking Intersection index 8236\n",
      "Checking Intersection index 8456\n",
      "Checking Intersection index 8699\n",
      "Checking Intersection index 8766\n",
      "Checking Intersection index 8965\n",
      "Footprint index 4422 contains the full coordinates for Intersection index 8965\n",
      "Checking Intersection index 9002\n",
      "Checking Intersection index 9150\n",
      "Checking Intersection index 9383\n",
      "Footprint index 4629 contains the full coordinates for Intersection index 9383\n",
      "Checking Intersection index 9392\n",
      "Checking Intersection index 9462\n",
      "Footprint index 4667 contains the full coordinates for Intersection index 9462\n",
      "Checking Intersection index 9469\n",
      "Checking Intersection index 9478\n",
      "Checking Intersection index 9565\n",
      "Footprint index 4717 contains the full coordinates for Intersection index 9565\n",
      "Checking Intersection index 9568\n",
      "Footprint index 4718 contains the full coordinates for Intersection index 9568\n",
      "Checking Intersection index 9783\n",
      "Checking Intersection index 9796\n",
      "Footprint index 4828 contains the full coordinates for Intersection index 9796\n",
      "Checking Intersection index 9799\n",
      "Footprint index 4829 contains the full coordinates for Intersection index 9799\n",
      "Checking Intersection index 9858\n",
      "Checking Intersection index 9980\n",
      "Footprint index 4918 contains the full coordinates for Intersection index 9980\n",
      "Checking Intersection index 10117\n",
      "Footprint index 4986 contains the full coordinates for Intersection index 10117\n",
      "Checking Intersection index 10222\n",
      "Footprint index 5038 contains the full coordinates for Intersection index 10222\n",
      "Checking Intersection index 10269\n",
      "Footprint index 5061 contains the full coordinates for Intersection index 10269\n",
      "Checking Intersection index 10384\n",
      "Checking Intersection index 10430\n",
      "Checking Intersection index 10554\n",
      "Footprint index 5201 contains the full coordinates for Intersection index 10554\n",
      "Checking Intersection index 10583\n",
      "Checking Intersection index 10622\n",
      "Footprint index 5234 contains the full coordinates for Intersection index 10622\n",
      "Checking Intersection index 10727\n",
      "Checking Intersection index 11084\n",
      "Footprint index 5464 contains the full coordinates for Intersection index 11084\n",
      "Checking Intersection index 11139\n",
      "Checking Intersection index 11284\n",
      "Checking Intersection index 11301\n",
      "Checking Intersection index 11384\n",
      "Checking Intersection index 11451\n",
      "Footprint index 5645 contains the full coordinates for Intersection index 11451\n",
      "Checking Intersection index 11490\n",
      "Footprint index 5664 contains the full coordinates for Intersection index 11490\n",
      "Checking Intersection index 11704\n",
      "Checking Intersection index 11962\n",
      "Footprint index 5897 contains the full coordinates for Intersection index 11962\n",
      "Checking Intersection index 12013\n",
      "Footprint index 5922 contains the full coordinates for Intersection index 12013\n",
      "Checking Intersection index 12060\n",
      "Footprint index 5945 contains the full coordinates for Intersection index 12060\n",
      "Checking Intersection index 12109\n",
      "Footprint index 5969 contains the full coordinates for Intersection index 12109\n",
      "Checking Intersection index 12290\n",
      "Footprint index 6059 contains the full coordinates for Intersection index 12290\n",
      "Checking Intersection index 12357\n",
      "Footprint index 6092 contains the full coordinates for Intersection index 12357\n",
      "Checking Intersection index 12496\n",
      "Checking Intersection index 12527\n",
      "Checking Intersection index 12632\n",
      "Checking Intersection index 12691\n",
      "Checking Intersection index 12725\n",
      "Footprint index 6271 contains the full coordinates for Intersection index 12725\n",
      "Checking Intersection index 12946\n",
      "Checking Intersection index 13010\n",
      "Checking Intersection index 13088\n",
      "Checking Intersection index 13154\n",
      "Footprint index 6482 contains the full coordinates for Intersection index 13154\n",
      "Checking Intersection index 13245\n",
      "Checking Intersection index 13442\n",
      "Footprint index 6625 contains the full coordinates for Intersection index 13442\n",
      "Checking Intersection index 13555\n",
      "Footprint index 6681 contains the full coordinates for Intersection index 13555\n",
      "Checking Intersection index 13754\n",
      "Checking Intersection index 13891\n",
      "Footprint index 6848 contains the full coordinates for Intersection index 13891\n",
      "Checking Intersection index 13924\n",
      "Footprint index 6864 contains the full coordinates for Intersection index 13924\n",
      "Checking Intersection index 14237\n",
      "Checking Intersection index 14598\n",
      "Footprint index 7200 contains the full coordinates for Intersection index 14598\n",
      "Checking Intersection index 14609\n",
      "Checking Intersection index 14895\n",
      "Checking Intersection index 15115\n",
      "Checking Intersection index 15146\n",
      "Footprint index 7470 contains the full coordinates for Intersection index 15146\n",
      "Checking Intersection index 15226\n",
      "Checking Intersection index 15255\n",
      "Footprint index 7523 contains the full coordinates for Intersection index 15255\n",
      "Checking Intersection index 15282\n",
      "Footprint index 7536 contains the full coordinates for Intersection index 15282\n",
      "Checking Intersection index 15308\n",
      "Footprint index 7547 contains the full coordinates for Intersection index 15308\n",
      "Checking Intersection index 15338\n",
      "Footprint index 7561 contains the full coordinates for Intersection index 15338\n",
      "Checking Intersection index 15447\n",
      "Checking Intersection index 15472\n",
      "Footprint index 7627 contains the full coordinates for Intersection index 15472\n",
      "Checking Intersection index 15503\n",
      "Checking Intersection index 15592\n",
      "Footprint index 7686 contains the full coordinates for Intersection index 15592\n",
      "Checking Intersection index 15613\n",
      "Checking Intersection index 15634\n",
      "Footprint index 7706 contains the full coordinates for Intersection index 15634\n",
      "Checking Intersection index 15697\n",
      "Footprint index 7737 contains the full coordinates for Intersection index 15697\n",
      "Checking Intersection index 15716\n",
      "Footprint index 7746 contains the full coordinates for Intersection index 15716\n",
      "Checking Intersection index 15751\n",
      "Checking Intersection index 15987\n",
      "Footprint index 7880 contains the full coordinates for Intersection index 15987\n",
      "Checking Intersection index 15999\n",
      "Footprint index 7885 contains the full coordinates for Intersection index 15999\n",
      "Checking Intersection index 16070\n",
      "Footprint index 7920 contains the full coordinates for Intersection index 16070\n",
      "Checking Intersection index 16111\n",
      "Checking Intersection index 16132\n",
      "Checking Intersection index 16280\n",
      "Checking Intersection index 16319\n",
      "Footprint index 8042 contains the full coordinates for Intersection index 16319\n",
      "Checking Intersection index 16324\n",
      "Checking Intersection index 16498\n",
      "Checking Intersection index 16531\n",
      "Footprint index 8146 contains the full coordinates for Intersection index 16531\n",
      "Checking Intersection index 17118\n",
      "Checking Intersection index 17340\n",
      "Footprint index 8548 contains the full coordinates for Intersection index 17340\n",
      "Checking Intersection index 17484\n",
      "Checking Intersection index 17525\n",
      "Footprint index 8639 contains the full coordinates for Intersection index 17525\n",
      "Checking Intersection index 17622\n",
      "Checking Intersection index 17625\n",
      "Checking Intersection index 17744\n",
      "Checking Intersection index 17981\n",
      "Footprint index 8864 contains the full coordinates for Intersection index 17981\n",
      "Checking Intersection index 18031\n",
      "Footprint index 8888 contains the full coordinates for Intersection index 18031\n",
      "Checking Intersection index 18034\n",
      "Checking Intersection index 18037\n",
      "Checking Intersection index 18046\n",
      "Footprint index 8894 contains the full coordinates for Intersection index 18046\n",
      "Checking Intersection index 18049\n",
      "Footprint index 8895 contains the full coordinates for Intersection index 18049\n",
      "Checking Intersection index 18128\n",
      "Checking Intersection index 18261\n",
      "Footprint index 8999 contains the full coordinates for Intersection index 18261\n",
      "Checking Intersection index 18343\n",
      "Checking Intersection index 18364\n",
      "Footprint index 9049 contains the full coordinates for Intersection index 18364\n",
      "Checking Intersection index 18371\n",
      "Footprint index 9052 contains the full coordinates for Intersection index 18371\n",
      "Checking Intersection index 18402\n",
      "Checking Intersection index 18643\n",
      "Checking Intersection index 18656\n",
      "Checking Intersection index 18677\n",
      "Footprint index 9203 contains the full coordinates for Intersection index 18677\n",
      "Checking Intersection index 18730\n",
      "Checking Intersection index 18794\n",
      "Footprint index 9260 contains the full coordinates for Intersection index 18794\n",
      "Checking Intersection index 18835\n",
      "Checking Intersection index 19207\n",
      "Checking Intersection index 19280\n",
      "Checking Intersection index 19306\n",
      "Checking Intersection index 19370\n",
      "Footprint index 9544 contains the full coordinates for Intersection index 19370\n",
      "Checking Intersection index 19409\n",
      "Footprint index 9563 contains the full coordinates for Intersection index 19409\n",
      "Checking Intersection index 19426\n",
      "Checking Intersection index 19444\n",
      "Checking Intersection index 19537\n",
      "Checking Intersection index 19565\n",
      "Checking Intersection index 19842\n",
      "Checking Intersection index 19883\n",
      "Footprint index 9796 contains the full coordinates for Intersection index 19883\n",
      "Checking Intersection index 20305\n",
      "Footprint index 10005 contains the full coordinates for Intersection index 20305\n",
      "Checking Intersection index 20330\n",
      "Checking Intersection index 20420\n",
      "Checking Intersection index 20439\n",
      "Checking Intersection index 20490\n",
      "Footprint index 10095 contains the full coordinates for Intersection index 20490\n",
      "Checking Intersection index 20531\n",
      "Checking Intersection index 20548\n",
      "Footprint index 10123 contains the full coordinates for Intersection index 20548\n",
      "Checking Intersection index 20577\n",
      "Checking Intersection index 20593\n",
      "Checking Intersection index 20624\n",
      "Footprint index 10159 contains the full coordinates for Intersection index 20624\n",
      "Checking Intersection index 20701\n",
      "Checking Intersection index 20737\n",
      "Checking Intersection index 20746\n",
      "Checking Intersection index 20768\n",
      "Checking Intersection index 20942\n",
      "Footprint index 10314 contains the full coordinates for Intersection index 20942\n",
      "Checking Intersection index 21453\n",
      "Checking Intersection index 21595\n",
      "Footprint index 10639 contains the full coordinates for Intersection index 21595\n",
      "Checking Intersection index 21620\n",
      "Footprint index 10651 contains the full coordinates for Intersection index 21620\n",
      "Checking Intersection index 21711\n",
      "Checking Intersection index 21741\n",
      "Checking Intersection index 21820\n",
      "Footprint index 10749 contains the full coordinates for Intersection index 21820\n",
      "Checking Intersection index 22049\n",
      "Footprint index 10863 contains the full coordinates for Intersection index 22049\n",
      "Checking Intersection index 22496\n",
      "Footprint index 11086 contains the full coordinates for Intersection index 22496\n",
      "Checking Intersection index 22611\n",
      "Checking Intersection index 22712\n",
      "Checking Intersection index 22787\n",
      "Checking Intersection index 22810\n",
      "Checking Intersection index 22873\n",
      "Footprint index 11270 contains the full coordinates for Intersection index 22873\n",
      "Checking Intersection index 22887\n",
      "Footprint index 11276 contains the full coordinates for Intersection index 22887\n",
      "Checking Intersection index 22990\n",
      "Checking Intersection index 22997\n",
      "Footprint index 11330 contains the full coordinates for Intersection index 22997\n",
      "Checking Intersection index 23006\n",
      "Checking Intersection index 23075\n",
      "Footprint index 11368 contains the full coordinates for Intersection index 23075\n",
      "Checking Intersection index 23145\n",
      "Footprint index 11402 contains the full coordinates for Intersection index 23145\n",
      "Checking Intersection index 23150\n",
      "Checking Intersection index 23345\n",
      "Footprint index 11500 contains the full coordinates for Intersection index 23345\n",
      "Checking Intersection index 23454\n",
      "Checking Intersection index 23553\n",
      "Checking Intersection index 23852\n",
      "Footprint index 11751 contains the full coordinates for Intersection index 23852\n",
      "Checking Intersection index 23931\n",
      "Checking Intersection index 24185\n",
      "Footprint index 11916 contains the full coordinates for Intersection index 24185\n",
      "Checking Intersection index 24293\n",
      "Checking Intersection index 24319\n",
      "Footprint index 11981 contains the full coordinates for Intersection index 24319\n",
      "Checking Intersection index 24362\n",
      "Checking Intersection index 24388\n",
      "Checking Intersection index 24631\n",
      "Footprint index 12135 contains the full coordinates for Intersection index 24631\n",
      "Checking Intersection index 24834\n",
      "Checking Intersection index 25167\n",
      "Checking Intersection index 25295\n",
      "Footprint index 12465 contains the full coordinates for Intersection index 25295\n",
      "Checking Intersection index 25434\n",
      "Footprint index 12532 contains the full coordinates for Intersection index 25434\n",
      "Checking Intersection index 25497\n",
      "Checking Intersection index 25597\n",
      "Checking Intersection index 25616\n",
      "Checking Intersection index 25653\n",
      "Checking Intersection index 25700\n",
      "Checking Intersection index 25795\n",
      "Footprint index 12707 contains the full coordinates for Intersection index 25795\n",
      "Checking Intersection index 25804\n",
      "Footprint index 12711 contains the full coordinates for Intersection index 25804\n",
      "Checking Intersection index 25883\n",
      "Checking Intersection index 26168\n",
      "Checking Intersection index 26201\n",
      "Footprint index 12908 contains the full coordinates for Intersection index 26201\n",
      "Checking Intersection index 26314\n",
      "Footprint index 12964 contains the full coordinates for Intersection index 26314\n",
      "Checking Intersection index 26323\n",
      "Checking Intersection index 26498\n",
      "Footprint index 13055 contains the full coordinates for Intersection index 26498\n",
      "Checking Intersection index 26559\n",
      "Footprint index 13085 contains the full coordinates for Intersection index 26559\n",
      "Checking Intersection index 26696\n",
      "Checking Intersection index 26874\n",
      "Checking Intersection index 27129\n",
      "Footprint index 13368 contains the full coordinates for Intersection index 27129\n",
      "Checking Intersection index 27144\n",
      "Checking Intersection index 27722\n",
      "Checking Intersection index 27737\n",
      "Checking Intersection index 27886\n",
      "Footprint index 13744 contains the full coordinates for Intersection index 27886\n",
      "Checking Intersection index 27917\n",
      "Checking Intersection index 28079\n",
      "Checking Intersection index 28171\n",
      "Footprint index 13883 contains the full coordinates for Intersection index 28171\n",
      "Checking Intersection index 28208\n",
      "Checking Intersection index 28218\n",
      "Footprint index 13905 contains the full coordinates for Intersection index 28218\n",
      "Checking Intersection index 28235\n",
      "Checking Intersection index 28294\n",
      "Footprint index 13941 contains the full coordinates for Intersection index 28294\n",
      "Checking Intersection index 28355\n",
      "Checking Intersection index 28428\n",
      "Checking Intersection index 28529\n",
      "Footprint index 14056 contains the full coordinates for Intersection index 28529\n",
      "Checking Intersection index 28871\n",
      "Checking Intersection index 28984\n",
      "Footprint index 14281 contains the full coordinates for Intersection index 28984\n",
      "Checking Intersection index 29080\n",
      "Footprint index 14328 contains the full coordinates for Intersection index 29080\n",
      "Checking Intersection index 29471\n",
      "Footprint index 14523 contains the full coordinates for Intersection index 29471\n",
      "Checking Intersection index 29704\n",
      "Footprint index 14639 contains the full coordinates for Intersection index 29704\n",
      "Checking Intersection index 29821\n",
      "Checking Intersection index 29845\n",
      "Footprint index 14708 contains the full coordinates for Intersection index 29845\n",
      "Checking Intersection index 29856\n",
      "Checking Intersection index 29891\n",
      "Footprint index 14729 contains the full coordinates for Intersection index 29891\n",
      "Checking Intersection index 30096\n",
      "Footprint index 14831 contains the full coordinates for Intersection index 30096\n",
      "Checking Intersection index 30396\n",
      "Checking Intersection index 30512\n",
      "Checking Intersection index 30591\n",
      "Footprint index 15075 contains the full coordinates for Intersection index 30591\n",
      "Checking Intersection index 30651\n",
      "Checking Intersection index 30799\n",
      "Checking Intersection index 30865\n",
      "Footprint index 15209 contains the full coordinates for Intersection index 30865\n",
      "Checking Intersection index 30939\n",
      "Checking Intersection index 30972\n",
      "Checking Intersection index 31103\n",
      "Footprint index 15326 contains the full coordinates for Intersection index 31103\n",
      "Checking Intersection index 31108\n",
      "Checking Intersection index 31179\n",
      "Checking Intersection index 31348\n",
      "Footprint index 15447 contains the full coordinates for Intersection index 31348\n",
      "Checking Intersection index 31363\n",
      "Checking Intersection index 31368\n",
      "Checking Intersection index 31420\n",
      "Checking Intersection index 31427\n",
      "Footprint index 15484 contains the full coordinates for Intersection index 31427\n",
      "Checking Intersection index 31500\n",
      "Footprint index 15520 contains the full coordinates for Intersection index 31500\n",
      "Checking Intersection index 31507\n",
      "Checking Intersection index 31806\n",
      "Checking Intersection index 31873\n",
      "Checking Intersection index 31975\n",
      "Footprint index 15754 contains the full coordinates for Intersection index 31975\n",
      "Checking Intersection index 32141\n",
      "Checking Intersection index 32168\n",
      "Footprint index 15849 contains the full coordinates for Intersection index 32168\n",
      "Checking Intersection index 32273\n",
      "Checking Intersection index 32769\n",
      "Footprint index 16148 contains the full coordinates for Intersection index 32769\n",
      "Checking Intersection index 33224\n",
      "Checking Intersection index 33302\n",
      "Checking Intersection index 33381\n",
      "Checking Intersection index 33404\n",
      "Checking Intersection index 33414\n",
      "Footprint index 16467 contains the full coordinates for Intersection index 33414\n",
      "Checking Intersection index 33570\n",
      "Checking Intersection index 33604\n",
      "Checking Intersection index 33660\n",
      "Checking Intersection index 33666\n",
      "Footprint index 16589 contains the full coordinates for Intersection index 33666\n",
      "Checking Intersection index 33721\n",
      "Footprint index 16616 contains the full coordinates for Intersection index 33721\n",
      "Checking Intersection index 33749\n",
      "Footprint index 16629 contains the full coordinates for Intersection index 33749\n",
      "Checking Intersection index 33782\n",
      "Footprint index 16645 contains the full coordinates for Intersection index 33782\n",
      "Checking Intersection index 33849\n",
      "Checking Intersection index 33933\n",
      "Checking Intersection index 34001\n",
      "Checking Intersection index 34104\n",
      "Checking Intersection index 34288\n",
      "Footprint index 16893 contains the full coordinates for Intersection index 34288\n",
      "Checking Intersection index 34351\n",
      "Checking Intersection index 34374\n",
      "Checking Intersection index 34481\n",
      "Footprint index 16988 contains the full coordinates for Intersection index 34481\n",
      "Checking Intersection index 34574\n",
      "Checking Intersection index 34817\n",
      "Checking Intersection index 34862\n",
      "Footprint index 17176 contains the full coordinates for Intersection index 34862\n",
      "Checking Intersection index 35013\n",
      "Checking Intersection index 35077\n",
      "Footprint index 17282 contains the full coordinates for Intersection index 35077\n",
      "Checking Intersection index 35460\n",
      "Footprint index 17473 contains the full coordinates for Intersection index 35460\n",
      "Checking Intersection index 36240\n",
      "Footprint index 17861 contains the full coordinates for Intersection index 36240\n",
      "Checking Intersection index 36402\n",
      "Checking Intersection index 36444\n",
      "Checking Intersection index 36519\n",
      "Checking Intersection index 36763\n",
      "Checking Intersection index 36804\n",
      "Footprint index 18137 contains the full coordinates for Intersection index 36804\n",
      "Checking Intersection index 37016\n",
      "Footprint index 18242 contains the full coordinates for Intersection index 37016\n",
      "Checking Intersection index 37047\n",
      "Footprint index 18257 contains the full coordinates for Intersection index 37047\n",
      "Checking Intersection index 37052\n",
      "Footprint index 18259 contains the full coordinates for Intersection index 37052\n",
      "Checking Intersection index 37341\n",
      "Checking Intersection index 37791\n",
      "Footprint index 18627 contains the full coordinates for Intersection index 37791\n",
      "Checking Intersection index 37796\n",
      "Footprint index 18629 contains the full coordinates for Intersection index 37796\n",
      "Checking Intersection index 38323\n",
      "Checking Intersection index 38408\n",
      "Checking Intersection index 38717\n",
      "Footprint index 19087 contains the full coordinates for Intersection index 38717\n",
      "Checking Intersection index 38746\n",
      "Checking Intersection index 38776\n",
      "Checking Intersection index 38779\n",
      "Footprint index 19116 contains the full coordinates for Intersection index 38779\n",
      "Checking Intersection index 38894\n",
      "Footprint index 19173 contains the full coordinates for Intersection index 38894\n",
      "Checking Intersection index 38909\n",
      "Checking Intersection index 38912\n",
      "Checking Intersection index 38917\n",
      "Checking Intersection index 38978\n",
      "Checking Intersection index 39035\n",
      "Footprint index 19241 contains the full coordinates for Intersection index 39035\n",
      "Checking Intersection index 39107\n",
      "Checking Intersection index 39260\n",
      "Footprint index 19351 contains the full coordinates for Intersection index 39260\n",
      "Checking Intersection index 39305\n",
      "Checking Intersection index 39314\n",
      "Footprint index 19376 contains the full coordinates for Intersection index 39314\n",
      "Checking Intersection index 39327\n",
      "Footprint index 19382 contains the full coordinates for Intersection index 39327\n",
      "Checking Intersection index 39515\n",
      "Checking Intersection index 39588\n",
      "Checking Intersection index 39603\n",
      "Checking Intersection index 39624\n",
      "Checking Intersection index 39848\n",
      "Footprint index 19639 contains the full coordinates for Intersection index 39848\n",
      "Checking Intersection index 39877\n",
      "Checking Intersection index 40182\n",
      "Footprint index 19805 contains the full coordinates for Intersection index 40182\n",
      "Checking Intersection index 40201\n",
      "Checking Intersection index 40208\n",
      "Checking Intersection index 40262\n",
      "Checking Intersection index 40443\n",
      "Checking Intersection index 40486\n",
      "Checking Intersection index 40514\n",
      "Footprint index 19966 contains the full coordinates for Intersection index 40514\n",
      "Checking Intersection index 40603\n",
      "Footprint index 20010 contains the full coordinates for Intersection index 40603\n",
      "Checking Intersection index 40836\n",
      "Checking Intersection index 40887\n",
      "Footprint index 20151 contains the full coordinates for Intersection index 40887\n",
      "Checking Intersection index 41034\n",
      "Checking Intersection index 41118\n",
      "Footprint index 20265 contains the full coordinates for Intersection index 41118\n",
      "Checking Intersection index 41313\n",
      "Checking Intersection index 41357\n",
      "Checking Intersection index 41394\n",
      "Checking Intersection index 41492\n",
      "Footprint index 20447 contains the full coordinates for Intersection index 41492\n",
      "Checking Intersection index 41542\n",
      "Footprint index 20471 contains the full coordinates for Intersection index 41542\n",
      "Checking Intersection index 41821\n",
      "Checking Intersection index 41924\n",
      "Footprint index 20660 contains the full coordinates for Intersection index 41924\n",
      "Checking Intersection index 41927\n",
      "Footprint index 20661 contains the full coordinates for Intersection index 41927\n",
      "Checking Intersection index 42071\n",
      "Checking Intersection index 42232\n",
      "Checking Intersection index 42412\n",
      "Footprint index 20901 contains the full coordinates for Intersection index 42412\n",
      "Checking Intersection index 42445\n",
      "Checking Intersection index 42459\n",
      "Checking Intersection index 42488\n",
      "Footprint index 20937 contains the full coordinates for Intersection index 42488\n",
      "Checking Intersection index 42511\n",
      "Checking Intersection index 42608\n",
      "Footprint index 20996 contains the full coordinates for Intersection index 42608\n"
     ]
    }
   ],
   "source": [
    "footprintCoordinatesIndex = []\n",
    "intersectCoordinatesIndex = []\n",
    "\n",
    "for i in test.groupby('class').get_group('flood-trace')['geometry'].index:\n",
    "    print(f'Checking Intersection index {i}')\n",
    "    for j in range(len(aoi_footprint)):\n",
    "        # print(f'Checking Footprint index {j}')\n",
    "        if test['geometry'][i].bounds == aoi_footprint['geometry'][j].bounds:\n",
    "            print(f'Footprint index {j} contains the full coordinates for Intersection index {i}')\n",
    "            footprintCoordinatesIndex = np.append(footprintCoordinatesIndex, j)\n",
    "            intersectCoordinatesIndex = np.append(intersectCoordinatesIndex, i)\n",
    "            break\n",
    "            \n"
   ]
  },
  {
   "cell_type": "code",
   "execution_count": 47,
   "id": "7f5bf281-fff1-431d-a087-5634624a167c",
   "metadata": {},
   "outputs": [
    {
     "data": {
      "text/plain": [
       "True"
      ]
     },
     "execution_count": 47,
     "metadata": {},
     "output_type": "execute_result"
    }
   ],
   "source": [
    "aoi_footprint['geometry'][9563].bounds == test['geometry'][19409].bounds"
   ]
  },
  {
   "cell_type": "markdown",
   "id": "d1557011-f3f0-4dd5-bc96-45520b1a05e0",
   "metadata": {},
   "source": [
    "The Intersection index full coordinates found with the above loop are: "
   ]
  },
  {
   "cell_type": "code",
   "execution_count": 59,
   "id": "8881d8e7-454c-47b7-8240-eccb521ea332",
   "metadata": {},
   "outputs": [
    {
     "data": {
      "text/plain": [
       "array([  146.,   586.,   793.,   975.,  1286.,  1321.,  1839.,  2006.,\n",
       "        2019.,  2043.,  2049.,  2051.,  2083.,  2090.,  2167.,  2197.,\n",
       "        2203.,  2210.,  2215.,  2315.,  2380.,  2505.,  2611.,  3342.,\n",
       "        3402.,  3453.,  3488.,  3627.,  3721.,  3762.,  3796.,  3798.,\n",
       "        3998.,  4018.,  4422.,  4629.,  4667.,  4717.,  4718.,  4828.,\n",
       "        4829.,  4918.,  4986.,  5038.,  5061.,  5201.,  5234.,  5464.,\n",
       "        5645.,  5664.,  5897.,  5922.,  5945.,  5969.,  6059.,  6092.,\n",
       "        6271.,  6482.,  6625.,  6681.,  6848.,  6864.,  7200.,  7470.,\n",
       "        7523.,  7536.,  7547.,  7561.,  7627.,  7686.,  7706.,  7737.,\n",
       "        7746.,  7880.,  7885.,  7920.,  8042.,  8146.,  8548.,  8639.,\n",
       "        8864.,  8888.,  8894.,  8895.,  8999.,  9049.,  9052.,  9203.,\n",
       "        9260.,  9544.,  9563.,  9796., 10005., 10095., 10123., 10159.,\n",
       "       10314., 10639., 10651., 10749., 10863., 11086., 11270., 11276.,\n",
       "       11330., 11368., 11402., 11500., 11751., 11916., 11981., 12135.,\n",
       "       12465., 12532., 12707., 12711., 12908., 12964., 13055., 13085.,\n",
       "       13368., 13744., 13883., 13905., 13941., 14056., 14281., 14328.,\n",
       "       14523., 14639., 14708., 14729., 14831., 15075., 15209., 15326.,\n",
       "       15447., 15484., 15520., 15754., 15849., 16148., 16467., 16589.,\n",
       "       16616., 16629., 16645., 16893., 16988., 17176., 17282., 17473.,\n",
       "       17861., 18137., 18242., 18257., 18259., 18627., 18629., 19087.,\n",
       "       19116., 19173., 19241., 19351., 19376., 19382., 19639., 19805.,\n",
       "       19966., 20010., 20151., 20265., 20447., 20471., 20660., 20661.,\n",
       "       20901., 20937., 20996.])"
      ]
     },
     "execution_count": 59,
     "metadata": {},
     "output_type": "execute_result"
    }
   ],
   "source": [
    "footprintCoordinatesIndex"
   ]
  },
  {
   "cell_type": "code",
   "execution_count": 62,
   "id": "e063da23-8e03-4191-8241-956e4cb4ccbc",
   "metadata": {},
   "outputs": [
    {
     "data": {
      "text/plain": [
       "179"
      ]
     },
     "execution_count": 62,
     "metadata": {},
     "output_type": "execute_result"
    }
   ],
   "source": [
    "len(footprintCoordinatesIndex)"
   ]
  },
  {
   "cell_type": "markdown",
   "id": "0ec23f69-cc3c-46da-9e41-a715b2c20416",
   "metadata": {},
   "source": [
    "The remaining Intersection index to find their full coordinates are:"
   ]
  },
  {
   "cell_type": "code",
   "execution_count": 61,
   "id": "f7725225-6ac8-4ceb-8523-01ee08aa657f",
   "metadata": {},
   "outputs": [
    {
     "data": {
      "text/plain": [
       "array([  295.,  1188.,  1609.,  1977.,  2605.,  2676.,  3716.,  4055.,\n",
       "        4082.,  4132.,  4145.,  4150.,  4219.,  4235.,  4394.,  4455.,\n",
       "        4468.,  4483.,  4494.,  4695.,  4828.,  5082.,  5297.,  6765.,\n",
       "        6887.,  6993.,  7068.,  7348.,  7541.,  7624.,  7693.,  7698.,\n",
       "        8104.,  8145.,  8965.,  9383.,  9462.,  9565.,  9568.,  9796.,\n",
       "        9799.,  9980., 10117., 10222., 10269., 10554., 10622., 11084.,\n",
       "       11451., 11490., 11962., 12013., 12060., 12109., 12290., 12357.,\n",
       "       12725., 13154., 13442., 13555., 13891., 13924., 14598., 15146.,\n",
       "       15255., 15282., 15308., 15338., 15472., 15592., 15634., 15697.,\n",
       "       15716., 15987., 15999., 16070., 16319., 16531., 17340., 17525.,\n",
       "       17981., 18031., 18046., 18049., 18261., 18364., 18371., 18677.,\n",
       "       18794., 19370., 19409., 19883., 20305., 20490., 20548., 20624.,\n",
       "       20942., 21595., 21620., 21820., 22049., 22496., 22873., 22887.,\n",
       "       22997., 23075., 23145., 23345., 23852., 24185., 24319., 24631.,\n",
       "       25295., 25434., 25795., 25804., 26201., 26314., 26498., 26559.,\n",
       "       27129., 27886., 28171., 28218., 28294., 28529., 28984., 29080.,\n",
       "       29471., 29704., 29845., 29891., 30096., 30591., 30865., 31103.,\n",
       "       31348., 31427., 31500., 31975., 32168., 32769., 33414., 33666.,\n",
       "       33721., 33749., 33782., 34288., 34481., 34862., 35077., 35460.,\n",
       "       36240., 36804., 37016., 37047., 37052., 37791., 37796., 38717.,\n",
       "       38779., 38894., 39035., 39260., 39314., 39327., 39848., 40182.,\n",
       "       40514., 40603., 40887., 41118., 41492., 41542., 41924., 41927.,\n",
       "       42412., 42488., 42608.])"
      ]
     },
     "execution_count": 61,
     "metadata": {},
     "output_type": "execute_result"
    }
   ],
   "source": [
    "intersectCoordinatesIndex"
   ]
  },
  {
   "cell_type": "code",
   "execution_count": 67,
   "id": "eadb7a02-cc1a-446f-a6bd-08923ede04a8",
   "metadata": {},
   "outputs": [
    {
     "data": {
      "text/plain": [
       "179"
      ]
     },
     "execution_count": 67,
     "metadata": {},
     "output_type": "execute_result"
    }
   ],
   "source": [
    "len(intersectCoordinatesIndex)"
   ]
  },
  {
   "cell_type": "markdown",
   "id": "dce02e83-719b-40c5-949b-2c8409fe7acb",
   "metadata": {},
   "source": [
    "Number of Intersection indices to find:"
   ]
  },
  {
   "cell_type": "code",
   "execution_count": 68,
   "id": "8b6c5977-2bb6-4163-a17a-2a98823ca9f9",
   "metadata": {},
   "outputs": [
    {
     "data": {
      "text/plain": [
       "220"
      ]
     },
     "execution_count": 68,
     "metadata": {},
     "output_type": "execute_result"
    }
   ],
   "source": [
    "len(test.groupby('class').get_group('flood-trace')['geometry'].index) - len(intersectCoordinatesIndex)"
   ]
  },
  {
   "cell_type": "code",
   "execution_count": 69,
   "id": "91386754-36b7-4ff6-8480-3cec9c176c94",
   "metadata": {},
   "outputs": [
    {
     "ename": "SyntaxError",
     "evalue": "invalid syntax (3141373569.py, line 1)",
     "output_type": "error",
     "traceback": [
      "\u001b[0;36m  File \u001b[0;32m\"/tmp/ipykernel_19153/3141373569.py\"\u001b[0;36m, line \u001b[0;32m1\u001b[0m\n\u001b[0;31m    if intersectCoordinatesIndex == test.groupby('class').get_group('flood-trace')['geometry'].index\u001b[0m\n\u001b[0m                                                                                                    ^\u001b[0m\n\u001b[0;31mSyntaxError\u001b[0m\u001b[0;31m:\u001b[0m invalid syntax\n"
     ]
    }
   ],
   "source": [
    "if intersectCoordinatesIndex == test.groupby('class').get_group('flood-trace')['geometry'].index\n",
    "    print('test')"
   ]
  },
  {
   "cell_type": "code",
   "execution_count": 72,
   "id": "62e9efb1-9393-4c8c-8b92-6a3670fc2a21",
   "metadata": {},
   "outputs": [
    {
     "data": {
      "text/plain": [
       "295"
      ]
     },
     "execution_count": 72,
     "metadata": {},
     "output_type": "execute_result"
    }
   ],
   "source": [
    "test.groupby('class').get_group('flood-trace')['geometry'].index[0]"
   ]
  },
  {
   "cell_type": "code",
   "execution_count": 83,
   "id": "75c0b23e-8d9b-48ff-858f-6c5fb5b10eb1",
   "metadata": {},
   "outputs": [
    {
     "name": "stdout",
     "output_type": "stream",
     "text": [
      "0\n"
     ]
    }
   ],
   "source": [
    "remainingIndex = []\n",
    "for i in range(len(intersectCoordinatesIndex)):\n",
    "    # print(i)\n",
    "    if intersectCoordinatesIndex[i] != test.groupby('class').get_group('flood-trace')['geometry'].index[i]:\n",
    "        remainingIndex = np.append(remainingIndex, test.groupby('class').get_group('flood-trace')['geometry'].index[i])\n",
    "    else:\n",
    "        print(i)"
   ]
  },
  {
   "cell_type": "code",
   "execution_count": 84,
   "id": "8b7c4c92-62f4-4980-9ad7-6dcd7bc82d90",
   "metadata": {},
   "outputs": [
    {
     "data": {
      "text/plain": [
       "178"
      ]
     },
     "execution_count": 84,
     "metadata": {},
     "output_type": "execute_result"
    }
   ],
   "source": [
    "len(remainingIndex)"
   ]
  },
  {
   "cell_type": "code",
   "execution_count": 90,
   "id": "a1923ea3-37da-447b-945c-eaff2d4d146c",
   "metadata": {},
   "outputs": [
    {
     "data": {
      "image/svg+xml": [
       "<svg xmlns=\"http://www.w3.org/2000/svg\" xmlns:xlink=\"http://www.w3.org/1999/xlink\" width=\"100.0\" height=\"100.0\" viewBox=\"151.18989818769725 -32.585085224959954 0.0001252899289738707 0.00010702928374684006\" preserveAspectRatio=\"xMinYMin meet\"><g transform=\"matrix(1,0,0,-1,0,-65.17006342063615)\"><path fill-rule=\"evenodd\" fill=\"#66cc99\" stroke=\"#555555\" stroke-width=\"2.505798579477414e-06\" opacity=\"0.6\" d=\"M 151.1899410112017,-32.58508058459221 L 151.189902828065,-32.58501500890402 L 151.1899806541217,-32.58498283604395 L 151.1900188372585,-32.58504841175564 L 151.1899410112017,-32.58508058459221 z\" /></g></svg>"
      ],
      "text/plain": [
       "<shapely.geometry.polygon.Polygon at 0x7fa1aaaff1d0>"
      ]
     },
     "execution_count": 90,
     "metadata": {},
     "output_type": "execute_result"
    }
   ],
   "source": [
    "test.groupby('class').get_group('flood-trace')['geometry'][42412]"
   ]
  },
  {
   "cell_type": "code",
   "execution_count": 99,
   "id": "7892737c-b09b-46d1-8721-bf537657d1a7",
   "metadata": {},
   "outputs": [
    {
     "data": {
      "text/plain": [
       "0        POLYGON ((150.80033 -32.32067, 150.80037 -32.3...\n",
       "1        POLYGON ((150.81640 -32.30648, 150.81642 -32.3...\n",
       "2        POLYGON ((150.83105 -32.73790, 150.83114 -32.7...\n",
       "3        POLYGON ((150.84422 -32.44826, 150.84432 -32.4...\n",
       "4        POLYGON ((150.81490 -32.25455, 150.81503 -32.2...\n",
       "                               ...                        \n",
       "21045    POLYGON ((151.18303 -32.56620, 151.18304 -32.5...\n",
       "21046    POLYGON ((151.17889 -32.54310, 151.17892 -32.5...\n",
       "21047    POLYGON ((151.18157 -32.54495, 151.18167 -32.5...\n",
       "21048    POLYGON ((151.18859 -32.56647, 151.18866 -32.5...\n",
       "21049    POLYGON ((151.19544 -32.60997, 151.19548 -32.6...\n",
       "Name: geometry, Length: 21050, dtype: geometry"
      ]
     },
     "execution_count": 99,
     "metadata": {},
     "output_type": "execute_result"
    }
   ],
   "source": [
    "aoi_footprint['geometry']"
   ]
  },
  {
   "cell_type": "code",
   "execution_count": null,
   "id": "c9ab989e-0d7b-446d-9900-a8eb67722200",
   "metadata": {},
   "outputs": [
    {
     "data": {
      "text/plain": [
       "geopandas.geodataframe.GeoDataFrame"
      ]
     },
     "execution_count": 97,
     "metadata": {},
     "output_type": "execute_result"
    }
   ],
   "source": [
    "type(aoi_map)"
   ]
  },
  {
   "cell_type": "markdown",
   "id": "b9fa4cbb-eada-4791-ac6f-7cff9a003193",
   "metadata": {},
   "source": [
    "# end of notebook"
   ]
  },
  {
   "cell_type": "code",
   "execution_count": null,
   "id": "370dd57d-457b-448f-a125-6a4461417516",
   "metadata": {},
   "outputs": [],
   "source": []
  },
  {
   "cell_type": "code",
   "execution_count": 107,
   "id": "b4dccceb-6900-4f0c-b022-3e706a5f3164",
   "metadata": {},
   "outputs": [],
   "source": [
    "test1 = gpd.overlay(aoi_map.groupby('class').get_group('flood-trace'), aoi_footprint, how='intersection')\n",
    "test2 = gpd.overlay(aoi_footprint, aoi_map.groupby('class').get_group('flood-trace'), how='intersection')\n",
    "\n"
   ]
  },
  {
   "cell_type": "code",
   "execution_count": 132,
   "id": "7286bc64-f5b4-4bcd-ac99-096f356884be",
   "metadata": {},
   "outputs": [],
   "source": [
    "aoi_map= aoi_map.groupby('class').get_group('flood-trace')"
   ]
  },
  {
   "cell_type": "code",
   "execution_count": 133,
   "id": "6fe41457-980d-4637-a505-2bf2f7104ce6",
   "metadata": {},
   "outputs": [],
   "source": [
    "aoi_map['index'] = aoi_map.index"
   ]
  },
  {
   "cell_type": "code",
   "execution_count": 134,
   "id": "119be56a-56d5-416b-a7e2-4ba72bc30f7a",
   "metadata": {},
   "outputs": [
    {
     "data": {
      "text/html": [
       "<div>\n",
       "<style scoped>\n",
       "    .dataframe tbody tr th:only-of-type {\n",
       "        vertical-align: middle;\n",
       "    }\n",
       "\n",
       "    .dataframe tbody tr th {\n",
       "        vertical-align: top;\n",
       "    }\n",
       "\n",
       "    .dataframe thead th {\n",
       "        text-align: right;\n",
       "    }\n",
       "</style>\n",
       "<table border=\"1\" class=\"dataframe\">\n",
       "  <thead>\n",
       "    <tr style=\"text-align: right;\">\n",
       "      <th></th>\n",
       "      <th>class</th>\n",
       "      <th>geometry</th>\n",
       "      <th>index</th>\n",
       "    </tr>\n",
       "  </thead>\n",
       "  <tbody>\n",
       "    <tr>\n",
       "      <th>125</th>\n",
       "      <td>flood-trace</td>\n",
       "      <td>POLYGON ((150.77920 -32.45335, 150.77920 -32.4...</td>\n",
       "      <td>125</td>\n",
       "    </tr>\n",
       "    <tr>\n",
       "      <th>126</th>\n",
       "      <td>flood-trace</td>\n",
       "      <td>POLYGON ((150.81227 -32.59426, 150.81165 -32.5...</td>\n",
       "      <td>126</td>\n",
       "    </tr>\n",
       "    <tr>\n",
       "      <th>127</th>\n",
       "      <td>flood-trace</td>\n",
       "      <td>POLYGON ((150.80230 -32.59264, 150.80124 -32.5...</td>\n",
       "      <td>127</td>\n",
       "    </tr>\n",
       "    <tr>\n",
       "      <th>128</th>\n",
       "      <td>flood-trace</td>\n",
       "      <td>POLYGON ((150.81061 -32.57484, 150.81062 -32.5...</td>\n",
       "      <td>128</td>\n",
       "    </tr>\n",
       "    <tr>\n",
       "      <th>129</th>\n",
       "      <td>flood-trace</td>\n",
       "      <td>POLYGON ((150.80853 -32.57282, 150.80907 -32.5...</td>\n",
       "      <td>129</td>\n",
       "    </tr>\n",
       "    <tr>\n",
       "      <th>...</th>\n",
       "      <td>...</td>\n",
       "      <td>...</td>\n",
       "      <td>...</td>\n",
       "    </tr>\n",
       "    <tr>\n",
       "      <th>2054</th>\n",
       "      <td>flood-trace</td>\n",
       "      <td>POLYGON ((151.19993 -32.40857, 151.19972 -32.4...</td>\n",
       "      <td>2054</td>\n",
       "    </tr>\n",
       "    <tr>\n",
       "      <th>2055</th>\n",
       "      <td>flood-trace</td>\n",
       "      <td>POLYGON ((151.18702 -32.36843, 151.18733 -32.3...</td>\n",
       "      <td>2055</td>\n",
       "    </tr>\n",
       "    <tr>\n",
       "      <th>2056</th>\n",
       "      <td>flood-trace</td>\n",
       "      <td>POLYGON ((151.18673 -32.36690, 151.18725 -32.3...</td>\n",
       "      <td>2056</td>\n",
       "    </tr>\n",
       "    <tr>\n",
       "      <th>2057</th>\n",
       "      <td>flood-trace</td>\n",
       "      <td>POLYGON ((151.18791 -32.36114, 151.18790 -32.3...</td>\n",
       "      <td>2057</td>\n",
       "    </tr>\n",
       "    <tr>\n",
       "      <th>2058</th>\n",
       "      <td>flood-trace</td>\n",
       "      <td>POLYGON ((151.19274 -32.34227, 151.19263 -32.3...</td>\n",
       "      <td>2058</td>\n",
       "    </tr>\n",
       "  </tbody>\n",
       "</table>\n",
       "<p>1934 rows × 3 columns</p>\n",
       "</div>"
      ],
      "text/plain": [
       "            class                                           geometry  index\n",
       "125   flood-trace  POLYGON ((150.77920 -32.45335, 150.77920 -32.4...    125\n",
       "126   flood-trace  POLYGON ((150.81227 -32.59426, 150.81165 -32.5...    126\n",
       "127   flood-trace  POLYGON ((150.80230 -32.59264, 150.80124 -32.5...    127\n",
       "128   flood-trace  POLYGON ((150.81061 -32.57484, 150.81062 -32.5...    128\n",
       "129   flood-trace  POLYGON ((150.80853 -32.57282, 150.80907 -32.5...    129\n",
       "...           ...                                                ...    ...\n",
       "2054  flood-trace  POLYGON ((151.19993 -32.40857, 151.19972 -32.4...   2054\n",
       "2055  flood-trace  POLYGON ((151.18702 -32.36843, 151.18733 -32.3...   2055\n",
       "2056  flood-trace  POLYGON ((151.18673 -32.36690, 151.18725 -32.3...   2056\n",
       "2057  flood-trace  POLYGON ((151.18791 -32.36114, 151.18790 -32.3...   2057\n",
       "2058  flood-trace  POLYGON ((151.19274 -32.34227, 151.19263 -32.3...   2058\n",
       "\n",
       "[1934 rows x 3 columns]"
      ]
     },
     "execution_count": 134,
     "metadata": {},
     "output_type": "execute_result"
    }
   ],
   "source": [
    "aoi_map"
   ]
  },
  {
   "cell_type": "code",
   "execution_count": 135,
   "id": "d719e2fd-10d1-4e2d-8ba0-4920cc671bc4",
   "metadata": {},
   "outputs": [],
   "source": [
    "aoi_footprint['footprint_index'] = aoi_footprint.index"
   ]
  },
  {
   "cell_type": "code",
   "execution_count": 176,
   "id": "5ad68b14-e152-4094-947d-8f543d193dd3",
   "metadata": {},
   "outputs": [],
   "source": [
    "test3 = gpd.overlay(aoi_map, aoi_footprint, how='intersection')\n"
   ]
  },
  {
   "cell_type": "code",
   "execution_count": 177,
   "id": "929be541-47e3-49b8-8050-8ec2fa3b28a2",
   "metadata": {},
   "outputs": [
    {
     "data": {
      "text/html": [
       "<div>\n",
       "<style scoped>\n",
       "    .dataframe tbody tr th:only-of-type {\n",
       "        vertical-align: middle;\n",
       "    }\n",
       "\n",
       "    .dataframe tbody tr th {\n",
       "        vertical-align: top;\n",
       "    }\n",
       "\n",
       "    .dataframe thead th {\n",
       "        text-align: right;\n",
       "    }\n",
       "</style>\n",
       "<table border=\"1\" class=\"dataframe\">\n",
       "  <thead>\n",
       "    <tr style=\"text-align: right;\">\n",
       "      <th></th>\n",
       "      <th>class</th>\n",
       "      <th>index</th>\n",
       "      <th>footprint_index</th>\n",
       "      <th>geometry</th>\n",
       "    </tr>\n",
       "  </thead>\n",
       "  <tbody>\n",
       "    <tr>\n",
       "      <th>0</th>\n",
       "      <td>flood-trace</td>\n",
       "      <td>137</td>\n",
       "      <td>14713</td>\n",
       "      <td>POLYGON ((150.80711 -32.48319, 150.80714 -32.4...</td>\n",
       "    </tr>\n",
       "    <tr>\n",
       "      <th>1</th>\n",
       "      <td>flood-trace</td>\n",
       "      <td>157</td>\n",
       "      <td>20010</td>\n",
       "      <td>POLYGON ((150.80891 -32.29164, 150.80892 -32.2...</td>\n",
       "    </tr>\n",
       "    <tr>\n",
       "      <th>2</th>\n",
       "      <td>flood-trace</td>\n",
       "      <td>159</td>\n",
       "      <td>14697</td>\n",
       "      <td>POLYGON ((150.80607 -32.29101, 150.80606 -32.2...</td>\n",
       "    </tr>\n",
       "    <tr>\n",
       "      <th>3</th>\n",
       "      <td>flood-trace</td>\n",
       "      <td>160</td>\n",
       "      <td>10710</td>\n",
       "      <td>POLYGON ((150.80794 -32.28899, 150.80792 -32.2...</td>\n",
       "    </tr>\n",
       "    <tr>\n",
       "      <th>4</th>\n",
       "      <td>flood-trace</td>\n",
       "      <td>160</td>\n",
       "      <td>14729</td>\n",
       "      <td>POLYGON ((150.80761 -32.28906, 150.80765 -32.2...</td>\n",
       "    </tr>\n",
       "    <tr>\n",
       "      <th>...</th>\n",
       "      <td>...</td>\n",
       "      <td>...</td>\n",
       "      <td>...</td>\n",
       "      <td>...</td>\n",
       "    </tr>\n",
       "    <tr>\n",
       "      <th>394</th>\n",
       "      <td>flood-trace</td>\n",
       "      <td>2044</td>\n",
       "      <td>14056</td>\n",
       "      <td>POLYGON ((151.18242 -32.54678, 151.18262 -32.5...</td>\n",
       "    </tr>\n",
       "    <tr>\n",
       "      <th>395</th>\n",
       "      <td>flood-trace</td>\n",
       "      <td>2044</td>\n",
       "      <td>15836</td>\n",
       "      <td>POLYGON ((151.18173 -32.54645, 151.18195 -32.5...</td>\n",
       "    </tr>\n",
       "    <tr>\n",
       "      <th>396</th>\n",
       "      <td>flood-trace</td>\n",
       "      <td>2044</td>\n",
       "      <td>18137</td>\n",
       "      <td>POLYGON ((151.18197 -32.54672, 151.18190 -32.5...</td>\n",
       "    </tr>\n",
       "    <tr>\n",
       "      <th>397</th>\n",
       "      <td>flood-trace</td>\n",
       "      <td>2044</td>\n",
       "      <td>19351</td>\n",
       "      <td>POLYGON ((151.18262 -32.54686, 151.18270 -32.5...</td>\n",
       "    </tr>\n",
       "    <tr>\n",
       "      <th>398</th>\n",
       "      <td>flood-trace</td>\n",
       "      <td>2044</td>\n",
       "      <td>19932</td>\n",
       "      <td>POLYGON ((151.18799 -32.54788, 151.18796 -32.5...</td>\n",
       "    </tr>\n",
       "  </tbody>\n",
       "</table>\n",
       "<p>399 rows × 4 columns</p>\n",
       "</div>"
      ],
      "text/plain": [
       "           class  index  footprint_index  \\\n",
       "0    flood-trace    137            14713   \n",
       "1    flood-trace    157            20010   \n",
       "2    flood-trace    159            14697   \n",
       "3    flood-trace    160            10710   \n",
       "4    flood-trace    160            14729   \n",
       "..           ...    ...              ...   \n",
       "394  flood-trace   2044            14056   \n",
       "395  flood-trace   2044            15836   \n",
       "396  flood-trace   2044            18137   \n",
       "397  flood-trace   2044            19351   \n",
       "398  flood-trace   2044            19932   \n",
       "\n",
       "                                              geometry  \n",
       "0    POLYGON ((150.80711 -32.48319, 150.80714 -32.4...  \n",
       "1    POLYGON ((150.80891 -32.29164, 150.80892 -32.2...  \n",
       "2    POLYGON ((150.80607 -32.29101, 150.80606 -32.2...  \n",
       "3    POLYGON ((150.80794 -32.28899, 150.80792 -32.2...  \n",
       "4    POLYGON ((150.80761 -32.28906, 150.80765 -32.2...  \n",
       "..                                                 ...  \n",
       "394  POLYGON ((151.18242 -32.54678, 151.18262 -32.5...  \n",
       "395  POLYGON ((151.18173 -32.54645, 151.18195 -32.5...  \n",
       "396  POLYGON ((151.18197 -32.54672, 151.18190 -32.5...  \n",
       "397  POLYGON ((151.18262 -32.54686, 151.18270 -32.5...  \n",
       "398  POLYGON ((151.18799 -32.54788, 151.18796 -32.5...  \n",
       "\n",
       "[399 rows x 4 columns]"
      ]
     },
     "execution_count": 177,
     "metadata": {},
     "output_type": "execute_result"
    }
   ],
   "source": [
    "test3"
   ]
  },
  {
   "cell_type": "code",
   "execution_count": 142,
   "id": "d02359d1-92f5-4f98-890a-751abce4f862",
   "metadata": {},
   "outputs": [
    {
     "data": {
      "image/svg+xml": [
       "<svg xmlns=\"http://www.w3.org/2000/svg\" xmlns:xlink=\"http://www.w3.org/1999/xlink\" width=\"100.0\" height=\"100.0\" viewBox=\"150.80702874733763 -32.483278334945744 0.000115577482063145 0.00010902475774798859\" preserveAspectRatio=\"xMinYMin meet\"><g transform=\"matrix(1,0,0,-1,0,-64.96644764513374)\"><path fill-rule=\"evenodd\" fill=\"#66cc99\" stroke=\"#555555\" stroke-width=\"2.3115496412629e-06\" opacity=\"0.6\" d=\"M 150.8070330279851,-32.48325156303098 L 150.80710650079,-32.48327405429826 L 150.8071400441722,-32.48319608212228 L 150.8070665713674,-32.48317359083548 L 150.8070330279851,-32.48325156303098 z\" /></g></svg>"
      ],
      "text/plain": [
       "<shapely.geometry.polygon.Polygon at 0x7fa1a9a1be90>"
      ]
     },
     "execution_count": 142,
     "metadata": {},
     "output_type": "execute_result"
    }
   ],
   "source": [
    "aoi_footprint['geometry'][14713]"
   ]
  },
  {
   "cell_type": "code",
   "execution_count": 154,
   "id": "2512c1b0-0462-4e0b-8847-e2d4e711bd53",
   "metadata": {},
   "outputs": [
    {
     "data": {
      "text/plain": [
       "0      POLYGON ((150.80033 -32.32067, 150.80037 -32.3...\n",
       "1      POLYGON ((150.81640 -32.30648, 150.81642 -32.3...\n",
       "2      POLYGON ((150.83105 -32.73790, 150.83114 -32.7...\n",
       "3      POLYGON ((150.84422 -32.44826, 150.84432 -32.4...\n",
       "4      POLYGON ((150.81490 -32.25455, 150.81503 -32.2...\n",
       "                             ...                        \n",
       "394    POLYGON ((150.89824 -32.25064, 150.89836 -32.2...\n",
       "395    POLYGON ((150.90542 -32.28570, 150.90539 -32.2...\n",
       "396    POLYGON ((150.90204 -32.28617, 150.90212 -32.2...\n",
       "397    POLYGON ((150.89696 -32.25255, 150.89712 -32.2...\n",
       "398    POLYGON ((150.90060 -32.28568, 150.90067 -32.2...\n",
       "Name: geometry, Length: 399, dtype: geometry"
      ]
     },
     "execution_count": 154,
     "metadata": {},
     "output_type": "execute_result"
    }
   ],
   "source": [
    "aoi_footprint['geometry'][test3['footprint_index'].index]"
   ]
  },
  {
   "cell_type": "code",
   "execution_count": 164,
   "id": "b98a4380-7930-4a6a-86bc-b3bd5b3a7809",
   "metadata": {},
   "outputs": [
    {
     "data": {
      "text/plain": [
       "0      14713\n",
       "1      20010\n",
       "2      14697\n",
       "3      10710\n",
       "4      14729\n",
       "       ...  \n",
       "394    14056\n",
       "395    15836\n",
       "396    18137\n",
       "397    19351\n",
       "398    19932\n",
       "Name: footprint_index, Length: 399, dtype: int64"
      ]
     },
     "execution_count": 164,
     "metadata": {},
     "output_type": "execute_result"
    }
   ],
   "source": [
    "test3['footprint_index']"
   ]
  },
  {
   "cell_type": "code",
   "execution_count": 189,
   "id": "d2905191-8eea-411b-ba25-695ca54fcd76",
   "metadata": {},
   "outputs": [
    {
     "name": "stderr",
     "output_type": "stream",
     "text": [
      "/opt/conda/lib/python3.7/site-packages/ipykernel_launcher.py:3: SettingWithCopyWarning: \n",
      "A value is trying to be set on a copy of a slice from a DataFrame\n",
      "\n",
      "See the caveats in the documentation: https://pandas.pydata.org/pandas-docs/stable/user_guide/indexing.html#returning-a-view-versus-a-copy\n",
      "  This is separate from the ipykernel package so we can avoid doing imports until\n"
     ]
    }
   ],
   "source": [
    "for i, val in enumerate(test3['footprint_index']):\n",
    "    # print(i)\n",
    "    test3['full_geometry'][i] = aoi_footprint['geometry'][val]"
   ]
  },
  {
   "cell_type": "code",
   "execution_count": 190,
   "id": "c0e0064f-b87a-486a-847d-05ac033111f6",
   "metadata": {},
   "outputs": [
    {
     "data": {
      "image/svg+xml": [
       "<svg xmlns=\"http://www.w3.org/2000/svg\" xmlns:xlink=\"http://www.w3.org/1999/xlink\" width=\"100.0\" height=\"100.0\" viewBox=\"150.8070947376775 -32.48327758182531 4.883402175437368e-05 9.524323027676473e-05\" preserveAspectRatio=\"xMinYMin meet\"><g transform=\"matrix(1,0,0,-1,0,-64.96645992042035)\"><path fill-rule=\"evenodd\" fill=\"#66cc99\" stroke=\"#555555\" stroke-width=\"1.9048646055352948e-06\" opacity=\"0.6\" d=\"M 150.807106671329,-32.483185866122085 L 150.8071400441722,-32.48319608212228 L 150.80710650079,-32.48327405429826 L 150.80709826520453,-32.483271533246366 L 150.807106671329,-32.483185866122085 z\" /></g></svg>"
      ],
      "text/plain": [
       "<shapely.geometry.polygon.Polygon at 0x7fa1a986ce90>"
      ]
     },
     "execution_count": 190,
     "metadata": {},
     "output_type": "execute_result"
    }
   ],
   "source": [
    "test3['geometry'][0]"
   ]
  },
  {
   "cell_type": "code",
   "execution_count": 192,
   "id": "6d3dc9d9-f66a-4b63-93b2-c61fca9e34d2",
   "metadata": {},
   "outputs": [
    {
     "data": {
      "image/svg+xml": [
       "<svg xmlns=\"http://www.w3.org/2000/svg\" xmlns:xlink=\"http://www.w3.org/1999/xlink\" width=\"100.0\" height=\"100.0\" viewBox=\"150.80702874733763 -32.483278334945744 0.000115577482063145 0.00010902475774798859\" preserveAspectRatio=\"xMinYMin meet\"><g transform=\"matrix(1,0,0,-1,0,-64.96644764513374)\"><path fill-rule=\"evenodd\" fill=\"#66cc99\" stroke=\"#555555\" stroke-width=\"2.3115496412629e-06\" opacity=\"0.6\" d=\"M 150.8070330279851,-32.48325156303098 L 150.80710650079,-32.48327405429826 L 150.8071400441722,-32.48319608212228 L 150.8070665713674,-32.48317359083548 L 150.8070330279851,-32.48325156303098 z\" /></g></svg>"
      ],
      "text/plain": [
       "<shapely.geometry.polygon.Polygon at 0x7fa1a8ca9f50>"
      ]
     },
     "execution_count": 192,
     "metadata": {},
     "output_type": "execute_result"
    }
   ],
   "source": [
    "test3['full_geometry'][0]"
   ]
  },
  {
   "cell_type": "code",
   "execution_count": 193,
   "id": "a71ea0a7-728a-46a8-b7d1-050ec2f88085",
   "metadata": {},
   "outputs": [
    {
     "data": {
      "image/svg+xml": [
       "<svg xmlns=\"http://www.w3.org/2000/svg\" xmlns:xlink=\"http://www.w3.org/1999/xlink\" width=\"100.0\" height=\"100.0\" viewBox=\"150.80702874733763 -32.483278334945744 0.000115577482063145 0.00010902475774798859\" preserveAspectRatio=\"xMinYMin meet\"><g transform=\"matrix(1,0,0,-1,0,-64.96644764513374)\"><path fill-rule=\"evenodd\" fill=\"#66cc99\" stroke=\"#555555\" stroke-width=\"2.3115496412629e-06\" opacity=\"0.6\" d=\"M 150.8070330279851,-32.48325156303098 L 150.80710650079,-32.48327405429826 L 150.8071400441722,-32.48319608212228 L 150.8070665713674,-32.48317359083548 L 150.8070330279851,-32.48325156303098 z\" /></g></svg>"
      ],
      "text/plain": [
       "<shapely.geometry.polygon.Polygon at 0x7fa1a8dbfe90>"
      ]
     },
     "execution_count": 193,
     "metadata": {},
     "output_type": "execute_result"
    }
   ],
   "source": [
    "aoi_footprint['geometry'][14713]"
   ]
  },
  {
   "cell_type": "code",
   "execution_count": null,
   "id": "35d4e087-3411-4a4e-84f3-62267b428fa3",
   "metadata": {},
   "outputs": [],
   "source": [
    "test3 = test3.drop(columns= 'geometry')"
   ]
  },
  {
   "cell_type": "code",
   "execution_count": 200,
   "id": "95f789fa-3f36-410b-95db-587a64fd6208",
   "metadata": {},
   "outputs": [],
   "source": [
    "test3['geometry'] = test3['full_geometry']\n",
    "test3 = test3.drop(columns = 'full_geometry')"
   ]
  },
  {
   "cell_type": "code",
   "execution_count": 201,
   "id": "1cf958c1-6b9d-4c57-a9aa-8a01bfd94285",
   "metadata": {},
   "outputs": [],
   "source": [
    "test3.to_file(\"data/aoi_intersect.geojson\", driver='GeoJSON')"
   ]
  }
 ],
 "metadata": {
  "environment": {
   "kernel": "python3",
   "name": "common-cpu.m95",
   "type": "gcloud",
   "uri": "gcr.io/deeplearning-platform-release/base-cpu:m95"
  },
  "kernelspec": {
   "display_name": "Python 3",
   "language": "python",
   "name": "python3"
  },
  "language_info": {
   "codemirror_mode": {
    "name": "ipython",
    "version": 3
   },
   "file_extension": ".py",
   "mimetype": "text/x-python",
   "name": "python",
   "nbconvert_exporter": "python",
   "pygments_lexer": "ipython3",
   "version": "3.7.12"
  }
 },
 "nbformat": 4,
 "nbformat_minor": 5
}
