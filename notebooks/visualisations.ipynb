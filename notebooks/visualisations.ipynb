{
 "cells": [
  {
   "cell_type": "markdown",
   "id": "76603a76-9b88-4f02-ac5c-68efef8788c1",
   "metadata": {},
   "source": [
    "Issues: \n",
    "\n",
    "The first plot in the function `singleAoi`, cannot get both plots on the same figures."
   ]
  },
  {
   "cell_type": "markdown",
   "id": "56cd89ca-5e8c-4ac0-ba3b-494ad86db198",
   "metadata": {},
   "source": [
    "# Importing, authenticating and initialising. "
   ]
  },
  {
   "cell_type": "code",
   "execution_count": null,
   "id": "d148141c-4444-4cc9-a0b7-d371ca3121d1",
   "metadata": {},
   "outputs": [],
   "source": [
    "!pip install geemap"
   ]
  },
  {
   "cell_type": "markdown",
   "id": "a2fe6bae-36d8-44b5-8a57-5252833ef834",
   "metadata": {},
   "source": [
    "Might have to restart the kernel after running the download to get `import geemap.eefolium as geemap` to work "
   ]
  },
  {
   "cell_type": "code",
   "execution_count": null,
   "id": "798d2e45-c7e7-4440-ad63-3b3c0cfd6339",
   "metadata": {},
   "outputs": [],
   "source": [
    "import matplotlib.pyplot as plt\n",
    "import geopandas as gpd\n",
    "import numpy as np\n",
    "from shapely.geometry import mapping, Polygon, shape\n",
    "import pandas as pd\n",
    "import ee\n",
    "import folium\n",
    "\n",
    "from datetime import datetime, timedelta, timezone\n",
    "from ml4floods.data import ee_download\n",
    "import os\n",
    "\n",
    "import geemap.eefolium as geemap\n",
    "import fsspec\n",
    "\n",
    "import json\n"
   ]
  },
  {
   "cell_type": "code",
   "execution_count": null,
   "id": "2c80a787-6502-43e1-80ac-dfb0550bea6d",
   "metadata": {},
   "outputs": [],
   "source": [
    "def singleAoi(area_df, aoiStr: str, ):\n",
    "    if 'cloud_cove' in area_df.columns: area_df.rename(columns={'cloud_cove' : 'cloud_cover'}, inplace = True)\n",
    "    \n",
    "    if type(area_df['geometry']) is gpd.geoseries.GeoSeries:\n",
    "        continue\n",
    "    \n",
    "    ax = area_df[(area_df['source'] == 's2') & (area_df['aoi_code'] == aoiStr)].drop_duplicates(subset = 'id').plot(kind= 'scatter', x = 'id', y= 'cloud_cover', figsize = (15,10), color = 'orange')\n",
    "    area_df[(area_df['source'] == 's2') & (area_df['aoi_code'] == aoiStr)].drop_duplicates(subset = 'id').plot(kind= 'line', x = 'id', y= 'cloud_cover', figsize = (15,10), color = 'orange', ax = ax)\n",
    "\n",
    "    plt.xticks(rotation=90)\n",
    "    plt.title(f'S2 cloud cover for {aoiStr}')\n",
    "    plt.show()\n",
    "\n",
    "\n",
    "    ax2= area_df[(area_df['source'] == 'landsat') & (area_df['aoi_code'] == aoiStr)].drop_duplicates(subset = 'id').plot(kind= 'scatter', x = 'id', y= 'cloud_cover', figsize = (15,10), legend = 'source')\n",
    "    area_df[(area_df['source'] == 'landsat') & (area_df['aoi_code'] == aoiStr)].drop_duplicates(subset = 'id').plot(kind= 'line', x = 'id', y= 'cloud_cover', figsize = (15,10), legend = 'source', ax= ax2)\n",
    "\n",
    "\n",
    "    plt.xticks(rotation=90)\n",
    "    plt.title(f'Landsat cloud cover for {aoiStr}')\n",
    "    plt.show()\n",
    "\n",
    "    # Haven't been able to get the above plot on a single figure. "
   ]
  },
  {
   "cell_type": "code",
   "execution_count": null,
   "id": "2359d0f5-9458-4d20-a5b2-5941d3d21e7b",
   "metadata": {},
   "outputs": [],
   "source": [
    "def allAoi(area_df, sourceStr: str, dateStr: str, propertyStr: str):\n",
    "    \n",
    "    return(area_df[(area_df['id'] == dateStr) & (area_df['source'] == sourceStr)].explore(tooltip = 'aoi_code', column= propertyStr, popup= True, style_kwds= dict(color= 'black')))"
   ]
  },
  {
   "cell_type": "markdown",
   "id": "e3bb95f6-2b45-49a9-aa89-905430e012cb",
   "metadata": {},
   "source": [
    "`generate_polygon` and `read_aoi` are taken from `HOWTO_inference_on_image_time_series.ipynb` [seen here](http://trillium.tech/ml4floods/content/ml4ops/HOWTO_inference_on_image_time_series.html)"
   ]
  },
  {
   "cell_type": "code",
   "execution_count": 1,
   "id": "990241e3-c485-4812-8385-765e892942a2",
   "metadata": {},
   "outputs": [],
   "source": [
    "def generate_polygon(bbox):\n",
    "    \"\"\"\n",
    "    Generates a list of coordinates: [[x1,y1],[x2,y2],[x3,y3],[x4,y4],[x1,y1]]\n",
    "    \"\"\"\n",
    "    return [[bbox[0],bbox[1]],\n",
    "             [bbox[2],bbox[1]],\n",
    "             [bbox[2],bbox[3]],\n",
    "             [bbox[0],bbox[3]],\n",
    "             [bbox[0],bbox[1]]]"
   ]
  },
  {
   "cell_type": "code",
   "execution_count": null,
   "id": "ed73cee2-46d2-4c08-8c43-c7bfed25d79d",
   "metadata": {},
   "outputs": [],
   "source": [
    "def read_aoi(my_gpd_aoi:str):\n",
    "    my_aoi = gpd.read_file(my_gpd_aoi)\n",
    "    \n",
    "    aoi_codes = my_aoi['aoi_code']\n",
    "    js = json.loads(my_aoi.to_json()) # converting the aoi to a json and getting the \n",
    "    bounds = ee.Geometry(ee.FeatureCollection(js).geometry())\n",
    "    \n",
    "    return bounds, aoi_codes"
   ]
  },
  {
   "cell_type": "code",
   "execution_count": null,
   "id": "5e079c11-69c6-428c-984a-21e242d52623",
   "metadata": {},
   "outputs": [],
   "source": [
    "def geemapPlotting(area_df, aoiStr: str): # still need to add property layers\n",
    "\n",
    "    # getting the swath coordinates for plotting \n",
    "    swathAoi = tuple(generate_polygon(area_df['geometry'].total_bounds))\n",
    "    \n",
    "    # Making a dict form so that it can be used in `ee.Geometry()`. \n",
    "    swathArea_of_interest_geojson = {\n",
    "        'type': 'Polygon',\n",
    "     'coordinates': ((swathAoi),)}\n",
    "    \n",
    "    swathPol = ee.Geometry(swathArea_of_interest_geojson)\n",
    "    \n",
    "    swathPol_2_clip = ee.Geometry.Polygon(swathAoi)\n",
    "    Permanent_water_img = ee_download.permanent_water_image(date_event.year, swathPol_2_clip)\n",
    "\n",
    "    # getting the AOI coordinates for plotting\n",
    "    aoi, aoi_codes = read_aoi(aoiStr) # i.e. '../../data/2022-07-21_aois.geojson'\n",
    "    Area_of_interest_geojson = aoi.getInfo()\n",
    "    Area_of_interest = shape(Area_of_interest_geojson) # turns the above aoi into a shape, this is the shape that\n",
    "    Pol = ee.Geometry(Area_of_interest_geojson)\n",
    "    Pol_2_clip = ee.Geometry.Polygon(Area_of_interest.bounds)\n",
    "\n",
    "    Map = geemap.Map()\n",
    "\n",
    "    visualization = {\n",
    "      \"bands\": ['waterClass'],\n",
    "      \"min\": 0.0,\n",
    "      \"max\": 3.0,\n",
    "      \"palette\": ['cccccc', 'ffffff', '99d9ea', '0000ff']\n",
    "    }\n",
    "\n",
    "    Map.addLayer(Permanent_water_img, visualization, name=\"JRC Permanent water\")\n",
    "\n",
    "    Map.addLayer(swathPol, {\"color\": '999999'}, \"AoI\")\n",
    "    Map.addLayer(Pol, {\"color\": '990000'}, \"AoI2\")\n",
    "\n",
    "    Map.centerObject(swathPol, zoom=6)\n",
    "    folium.LayerControl(collapsed=False).add_to(Map)\n",
    "    Map\n"
   ]
  }
 ],
 "metadata": {
  "environment": {
   "kernel": "python3",
   "name": "common-cpu.m95",
   "type": "gcloud",
   "uri": "gcr.io/deeplearning-platform-release/base-cpu:m95"
  },
  "kernelspec": {
   "display_name": "Python 3",
   "language": "python",
   "name": "python3"
  },
  "language_info": {
   "codemirror_mode": {
    "name": "ipython",
    "version": 3
   },
   "file_extension": ".py",
   "mimetype": "text/x-python",
   "name": "python",
   "nbconvert_exporter": "python",
   "pygments_lexer": "ipython3",
   "version": "3.7.12"
  }
 },
 "nbformat": 4,
 "nbformat_minor": 5
}
