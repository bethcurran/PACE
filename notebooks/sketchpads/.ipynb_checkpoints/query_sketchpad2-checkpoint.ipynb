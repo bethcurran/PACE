{
 "cells": [
  {
   "cell_type": "markdown",
   "id": "c4c68958-0fa3-4788-8e2d-33849c2cc31d",
   "metadata": {},
   "source": [
    "Landsat image property definitions: \n",
    "\n",
    "Landsat 8\n",
    "\n",
    "[Surface Reflectance](https://developers.google.com/earth-engine/datasets/catalog/landsat-8) (not included in the dictionary we get from the imageCollection)\n",
    "\n",
    "[Top of Atmosphere](https://developers.google.com/earth-engine/datasets/catalog/LANDSAT_LC08_C02_T1_TOA)\n",
    "\n",
    "[Raw images](https://developers.google.com/earth-engine/datasets/catalog/LANDSAT_LC08_C02_T1)\n",
    "\n",
    "'Top of Astmopshere' and 'Raw Images' have the same properties, though need to check if they provide the same values. \n",
    "\n",
    "Landsat 9\n",
    "\n",
    "[Surface Reflectance](https://developers.google.com/earth-engine/datasets/catalog/LANDSAT_LC09_C02_T1_L2) (not included in the dictionary we get from the imageCollection)\n",
    "\n",
    "[Top of Atmosphere](https://developers.google.com/earth-engine/datasets/catalog/LANDSAT_LC09_C02_T1_TOA)\n",
    "\n",
    "[Raw images](https://developers.google.com/earth-engine/datasets/catalog/LANDSAT_LC09_C02_T1)\n",
    "\n",
    "'Top of Astmopshere' and 'Raw Images' have the same properties, though need to check if they provide the same values. \n",
    "\n",
    "Sentinel 2\n",
    "\n",
    "[Surface Reflectance](https://developers.google.com/earth-engine/datasets/catalog/COPERNICUS_S2_SR_HARMONIZED) (not included in the dictionary we get from the imageCollection)\n",
    "\n",
    "[Top of Atmosphere Reflectance](https://developers.google.com/earth-engine/datasets/catalog/COPERNICUS_S2_HARMONIZED)\n"
   ]
  },
  {
   "cell_type": "markdown",
   "id": "d7d72b4f-5473-414c-a021-06eb6829c01a",
   "metadata": {},
   "source": [
    "Seems like Top of Atmosphere dataset is what is accessed when we get the imageCollection. Confirmed by checking the keys of the imageCollection with the links above. "
   ]
  },
  {
   "cell_type": "markdown",
   "id": "c441a61f-d2dd-44d1-afad-b8644684c84b",
   "metadata": {
    "tags": []
   },
   "source": [
    "# Importing packages and authenticating"
   ]
  },
  {
   "cell_type": "code",
   "execution_count": 1,
   "id": "c04d2a8b-fad2-49b1-a1a4-e2d8b4bc9cea",
   "metadata": {},
   "outputs": [
    {
     "name": "stdout",
     "output_type": "stream",
     "text": [
      "/home/jupyter/PACE\n"
     ]
    }
   ],
   "source": [
    "cd /home/jupyter/PACE"
   ]
  },
  {
   "cell_type": "code",
   "execution_count": 2,
   "id": "fd83a359-fded-4b7a-943a-499d5084d906",
   "metadata": {},
   "outputs": [
    {
     "name": "stdout",
     "output_type": "stream",
     "text": [
      "Declarations_19722_Merge.cpg  Declarations_19722_Merge.shp.xml\n",
      "Declarations_19722_Merge.dbf  Declarations_19722_Merge.shx\n",
      "Declarations_19722_Merge.prj  aoi_flood_footprint.geojson\n",
      "Declarations_19722_Merge.sbn  \u001b[0m\u001b[01;34mdata\u001b[0m/\n",
      "Declarations_19722_Merge.sbx  \u001b[01;34mnotebooks\u001b[0m/\n",
      "Declarations_19722_Merge.shp\n"
     ]
    }
   ],
   "source": [
    "ls"
   ]
  },
  {
   "cell_type": "code",
   "execution_count": 3,
   "id": "fd612778-bd10-4764-b4f1-142c33d8469a",
   "metadata": {},
   "outputs": [],
   "source": [
    "import traceback\n",
    "import warnings\n",
    "\n",
    "from io import StringIO\n",
    "import ee\n",
    "import time\n",
    "import os\n",
    "from glob import glob\n",
    "from typing import Optional, Callable, List, Tuple\n",
    "from shapely.geometry import mapping, Polygon\n",
    "import numpy as np\n",
    "import geopandas as gpd\n",
    "import pandas as pd\n",
    "import fsspec\n",
    "from datetime import datetime, timezone\n",
    "import math\n",
    "import json\n",
    "import matplotlib.pyplot as plt\n",
    "\n",
    "from ml4floods.data import ee_download, utils\n"
   ]
  },
  {
   "cell_type": "code",
   "execution_count": 4,
   "id": "24a79746-fc5e-4dff-9bd3-f8e6b45b6c09",
   "metadata": {},
   "outputs": [
    {
     "data": {
      "text/html": [
       "<p>To authorize access needed by Earth Engine, open the following\n",
       "        URL in a web browser and follow the instructions:</p>\n",
       "        <p><a href=https://code.earthengine.google.com/client-auth?scopes=https%3A//www.googleapis.com/auth/earthengine%20https%3A//www.googleapis.com/auth/devstorage.full_control&request_id=rAuJpDqi96X34IdF2ctXGzuHom6-Fh4GOLm7JuuIgOU&tc=qtkdrA2Rud4_qo4H0mnZVmcA8BhJEXGPXOn_R2fP8SY&cc=y-ctDAxlKlIQorZ3xqg0MvYosyf24VgOy5iUoNudhbo>https://code.earthengine.google.com/client-auth?scopes=https%3A//www.googleapis.com/auth/earthengine%20https%3A//www.googleapis.com/auth/devstorage.full_control&request_id=rAuJpDqi96X34IdF2ctXGzuHom6-Fh4GOLm7JuuIgOU&tc=qtkdrA2Rud4_qo4H0mnZVmcA8BhJEXGPXOn_R2fP8SY&cc=y-ctDAxlKlIQorZ3xqg0MvYosyf24VgOy5iUoNudhbo</a></p>\n",
       "        <p>The authorization workflow will generate a code, which you should paste in the box below.</p>\n",
       "        "
      ],
      "text/plain": [
       "<IPython.core.display.HTML object>"
      ]
     },
     "metadata": {},
     "output_type": "display_data"
    },
    {
     "name": "stdin",
     "output_type": "stream",
     "text": [
      "Enter verification code:  4/1ARtbsJqyblfdnpgoB0lMTmkaoBaiA6Z04AP3vKHr_R-NFbrsDA8ZbaY6J08\n"
     ]
    },
    {
     "name": "stdout",
     "output_type": "stream",
     "text": [
      "\n",
      "Successfully saved authorization token.\n"
     ]
    }
   ],
   "source": [
    "ee.Authenticate()"
   ]
  },
  {
   "cell_type": "code",
   "execution_count": 5,
   "id": "931afb47-9ddf-4e55-b1d8-a3f3f56bc069",
   "metadata": {},
   "outputs": [],
   "source": [
    "ee.Initialize()"
   ]
  },
  {
   "cell_type": "markdown",
   "id": "33fe07f4-1496-414c-ab55-59899672951e",
   "metadata": {
    "tags": []
   },
   "source": [
    "# Dates"
   ]
  },
  {
   "cell_type": "code",
   "execution_count": 6,
   "id": "5ad8a918-2d5f-4393-be99-049ae1e2890d",
   "metadata": {},
   "outputs": [],
   "source": [
    "date_range = ('02/08/21', '03/09/21')"
   ]
  },
  {
   "cell_type": "code",
   "execution_count": 7,
   "id": "aeca939f-4ab1-4068-a5f5-862caa01f074",
   "metadata": {},
   "outputs": [],
   "source": [
    "def get_datetime(date_range: tuple): # function returns a tuple containing datetime\n",
    "    datetime_start= datetime.strptime(date_range[0], '%d/%m/%y')\n",
    "    datetime_end= datetime.strptime(date_range[1], '%d/%m/%y')\n",
    "    \n",
    "    start_year = datetime_start.year\n",
    "    end_year = datetime_end.year\n",
    "    \n",
    "    return datetime_start, datetime_end, start_year, end_year "
   ]
  },
  {
   "cell_type": "code",
   "execution_count": 8,
   "id": "47d1ec4d-d8b1-41a6-bb7f-c6998612e4f6",
   "metadata": {},
   "outputs": [],
   "source": [
    "dates = get_datetime(date_range)"
   ]
  },
  {
   "cell_type": "markdown",
   "id": "c24ebd32-9248-4569-b534-71f120cf2dd9",
   "metadata": {
    "tags": []
   },
   "source": [
    "# Get the AOI"
   ]
  },
  {
   "cell_type": "code",
   "execution_count": 9,
   "id": "1df09b7f-8464-47a9-b973-99089e3e846e",
   "metadata": {},
   "outputs": [],
   "source": [
    "def read_aoi(my_gpd_aoi:str):\n",
    "    my_aoi = gpd.read_file(my_gpd_aoi)\n",
    "    \n",
    "    aoi_codes = my_aoi['aoi_code']\n",
    "    js = json.loads(my_aoi.to_json()) # convertin gthe aoi to a json and getting the \n",
    "    bounds = ee.Geometry(ee.FeatureCollection(js).geometry())\n",
    "    \n",
    "    return bounds, aoi_codes"
   ]
  },
  {
   "cell_type": "code",
   "execution_count": 10,
   "id": "c18e5782-b712-4651-8755-64749fa05f79",
   "metadata": {},
   "outputs": [],
   "source": [
    "sydney_aoi, sydney_aoi_codes = read_aoi('data/2022-07-21_aois.geojson')"
   ]
  },
  {
   "cell_type": "markdown",
   "id": "8c1969c2-99ab-4e8c-a01d-ffced90f10d1",
   "metadata": {
    "tags": []
   },
   "source": [
    "# Get the bounds of the AOI and the associated AOI codes"
   ]
  },
  {
   "cell_type": "code",
   "execution_count": 11,
   "id": "6b0d1f69-f83b-4790-83b8-47103985470d",
   "metadata": {},
   "outputs": [],
   "source": [
    "def get_polygon_bounds(total_bounds, aoi_codes, n_polygons):\n",
    "    # Get the coordinates for each AOI.\n",
    "    all_polygon_bounds = total_bounds.getInfo()['coordinates']\n",
    "\n",
    "    # Reducing the number of AOIs to n_polygons \n",
    "    polygon_aoi_codes = aoi_codes[0:n_polygons]\n",
    "\n",
    "    # Updating a list with the first 20 coordinates due to processing times. \n",
    "    polygon_bounds = []\n",
    "    for i in range(len(all_polygon_bounds[0:n_polygons])):\n",
    "      \n",
    "       polygon_bounds = np.append(polygon_bounds, ee.Geometry.Polygon(all_polygon_bounds[i]))\n",
    "                       \n",
    "    return polygon_bounds, polygon_aoi_codes"
   ]
  },
  {
   "cell_type": "code",
   "execution_count": 12,
   "id": "860a0c01-bfe3-4ee6-8026-1bb22c8d36c5",
   "metadata": {},
   "outputs": [],
   "source": [
    "sydney_20_polys, sydney_20_aois = get_polygon_bounds(sydney_aoi, sydney_aoi_codes, 20)"
   ]
  },
  {
   "cell_type": "markdown",
   "id": "f46c84ae-8e28-456d-ba4c-292ad3e63ef9",
   "metadata": {
    "tags": []
   },
   "source": [
    "# Get the imageCollection with the bounds and provided dates"
   ]
  },
  {
   "cell_type": "code",
   "execution_count": 13,
   "id": "130f572b-7975-470b-bd62-ba2c7b92628f",
   "metadata": {},
   "outputs": [],
   "source": [
    "def get_imageCollections(polygon_bounds: np.ndarray, dates: tuple): #bounds_list refers to a list of geometries/polygons extracted above from the aoi\n",
    "\n",
    "    get_landsat_collection = ee_download.get_landsat_collection\n",
    "    get_s2_collection = ee_download.get_s2_collection\n",
    "    \n",
    "    landsat_imgs = []\n",
    "    s2_imgs = []\n",
    "    \n",
    "    for i in range(len(polygon_bounds)):\n",
    "        landsat_imgs = np.append(landsat_imgs, get_landsat_collection(date_start=dates[0], date_end=dates[1] , bounds= polygon_bounds[i]))\n",
    "        s2_imgs = np.append(s2_imgs, get_s2_collection(date_start=dates[0], date_end=dates[1] , bounds= polygon_bounds[i]))\n",
    "\n",
    "    return landsat_imgs, s2_imgs"
   ]
  },
  {
   "cell_type": "code",
   "execution_count": 14,
   "id": "8ae265e9-d310-421c-8a68-806c09481d74",
   "metadata": {},
   "outputs": [],
   "source": [
    "poly_landsat, poly_s2 = get_imageCollections(sydney_20_polys, dates)"
   ]
  },
  {
   "cell_type": "markdown",
   "id": "a6cbfc66-e7c9-4dd3-b980-33eb3ee61f95",
   "metadata": {
    "tags": []
   },
   "source": [
    "# Get the properties of each imageCollection and put them in a DF"
   ]
  },
  {
   "cell_type": "code",
   "execution_count": 15,
   "id": "34119a7e-2291-4d66-a81c-e5bdf3104a5d",
   "metadata": {},
   "outputs": [],
   "source": [
    "def properties_dataframe(landsat_imgs: ee.ImageCollection, s2_imgs: ee.ImageCollection, polygon_bounds, polygon_aoi_codes):\n",
    "    \n",
    "    # --------- Landsat ---------\n",
    "    landsat_coordinates = [[] for _ in range(len(landsat_imgs))] # creating number of lists to match the number of polygons so that each polygon will have it's coordinates\n",
    "    n_landsat = []\n",
    "\n",
    "    # Loop 1: Getting the number of images for each AOI, returns an array where each index is an \n",
    "    # AOI and each value in the index is the number of images of that AOI. \n",
    "    for i in range(len(landsat_imgs)):\n",
    "\n",
    "        # Get the coordinates for each AOI\n",
    "        landsat_coordinates[i] = polygon_bounds[i]['coordinates']\n",
    "\n",
    "        # Of the 20 indices, there will be the number of images in each. \n",
    "        n_landsat = np.append(n_landsat, len(landsat_imgs[i].getInfo()['features']))\n",
    "\n",
    "    # End loop 1\n",
    "\n",
    "    id_list = []\n",
    "    cloudCover_list = []\n",
    "    validPixels_list = []\n",
    "    source_list = ['landsat']*np.int(n_landsat.sum()) # creating a list the size of the total number of images of all the polygons\n",
    "    coordinates_list = [] # creating number of lists to match the number of polygons so that each polygon will have it's coordinates\n",
    "    aoi_list = []\n",
    "\n",
    "    # Loop 2: Updating property lists that will be used to populate a dataframe.\n",
    "    for i in range(len(landsat_imgs)): # Iterating through all the polygons\n",
    "\n",
    "        for k in range(np.int(n_landsat[i])): # Iterating through all the images of each polygon\n",
    "\n",
    "            id_list = np.append(id_list, landsat_imgs[i].getInfo()['features'][k].get('id'))\n",
    "            cloudCover_list = np.append(cloudCover_list, landsat_imgs[i].getInfo()['features'][k].get('properties')['CLOUD_COVER'])\n",
    "            validPixels_list = np.append(validPixels_list, landsat_imgs[i].getInfo()['features'][k].get('properties')['valids'])\n",
    "            aoi_list = np.append(aoi_list, polygon_aoi_codes[i])\n",
    "            index_coord = landsat_coordinates[i]\n",
    "            coordinates_list.extend(index_coord)      \n",
    "    # End loop 2\n",
    "\n",
    "    # Populate the dataframe\n",
    "    landsat_df = gpd.GeoDataFrame({'id':id_list, 'cloud_cover':cloudCover_list, 'source': source_list, 'aoi_code': aoi_list, 'percentage_valid_pixels': validPixels_list, 'geometry':coordinates_list})\n",
    "    landsat_df.head(10)\n",
    "    print('Number of landsat images:', len(landsat_df))\n",
    "\n",
    "    # --------- S2 ---------\n",
    "    s2_coordinates = [[] for _ in range(len(s2_imgs))] # creating number of lists to match the number of polygons so that each polygon will have it's coordinates\n",
    "    n_s2 = []\n",
    "    # Loop 1\n",
    "    for i in range(len(s2_imgs)): # Iterating through all the polygons\n",
    "\n",
    "        s2_coordinates[i] = polygon_bounds[i]['coordinates']\n",
    "\n",
    "        n_s2 = np.append(n_s2, len(s2_imgs[i].getInfo()['features'])) # Of the 20 indices, there will be the number of images in each. \n",
    "    # End loop 1\n",
    "\n",
    "    id_list = []\n",
    "    cloudCover_list = []\n",
    "    validPixels_list = []\n",
    "    source_list = ['s2']*np.int(n_s2.sum()) # creating a list the size of the total number of images of all the polygons\n",
    "    coordinates_list = [] # creating number of lists to match the number of polygons so that each polygon will have it's coordinates\n",
    "    aoi_list = []\n",
    "\n",
    "    # Loop 2\n",
    "    for i in range(len(s2_imgs)): # Iterating through all the polygons\n",
    "\n",
    "        for k in range(np.int(n_s2[i])): # Iterating through all the images of each polygon\n",
    "\n",
    "            id_list = np.append(id_list, s2_imgs[i].getInfo()['features'][k].get('id'))\n",
    "            cloudCover_list = np.append(cloudCover_list, s2_imgs[i].getInfo()['features'][k].get('properties')['CLOUDY_PIXEL_PERCENTAGE'])\n",
    "            validPixels_list = np.append(validPixels_list, s2_imgs[i].getInfo()['features'][k].get('properties')['valids'])\n",
    "            aoi_list = np.append(aoi_list, polygon_aoi_codes[i])\n",
    "            index_coord = s2_coordinates[i]\n",
    "            coordinates_list.extend(index_coord)      \n",
    "    # End loop 2\n",
    "\n",
    "    # Populate the dataframe\n",
    "    s2_df = gpd.GeoDataFrame({'id':id_list, 'cloud_cover':cloudCover_list, 'source': source_list, 'aoi_code': aoi_list, 'percentage_valid_pixels': validPixels_list, 'geometry':coordinates_list})\n",
    "    s2_df.head(10)\n",
    "    print('Number of s2 images:', len(s2_df))\n",
    "    \n",
    "    # Combining into one dataframe, assigning crs and formatting geometry column for plotting\n",
    "    \n",
    "    all_df = pd.concat([landsat_df, s2_df])\n",
    "    \n",
    "    all_df.crs = 'EPSG:4326'\n",
    "    \n",
    "    all_df['geometry'] = all_df['geometry'].apply(Polygon)\n",
    "    \n",
    "    print('Total number of images:', len(all_df))\n",
    "          \n",
    "    return all_df"
   ]
  },
  {
   "cell_type": "markdown",
   "id": "7bb8d08b-cd74-4002-b67f-55d02c02e6d5",
   "metadata": {},
   "source": [
    "For 20 polygons"
   ]
  },
  {
   "cell_type": "code",
   "execution_count": 16,
   "id": "047982b9-449e-4f80-bd56-d864d0e5897b",
   "metadata": {},
   "outputs": [
    {
     "name": "stdout",
     "output_type": "stream",
     "text": [
      "Number of landsat images: 76\n",
      "Number of s2 images: 148\n",
      "Total number of images: 224\n"
     ]
    }
   ],
   "source": [
    "sydney20_df = properties_dataframe(poly_landsat, poly_s2, sydney_20_polys, sydney_20_aois)"
   ]
  },
  {
   "cell_type": "markdown",
   "id": "7010c5f5-7e3e-4b9f-a1af-80f2b9d26079",
   "metadata": {},
   "source": [
    "Took about 15 minutes on Chris' home desktop"
   ]
  },
  {
   "cell_type": "code",
   "execution_count": 36,
   "id": "687e4697-5156-43de-bed4-5475b8528ae9",
   "metadata": {},
   "outputs": [
    {
     "name": "stderr",
     "output_type": "stream",
     "text": [
      "/opt/conda/lib/python3.7/site-packages/ipykernel_launcher.py:1: UserWarning: Column names longer than 10 characters will be truncated when saved to ESRI Shapefile.\n",
      "  \"\"\"Entry point for launching an IPython kernel.\n"
     ]
    }
   ],
   "source": [
    "sydney20_df.to_file('data/sydney20_df.shp')"
   ]
  },
  {
   "cell_type": "code",
   "execution_count": 33,
   "id": "8921eede-64fe-438f-945b-9166c2eb1179",
   "metadata": {},
   "outputs": [
    {
     "data": {
      "text/html": [
       "<div>\n",
       "<style scoped>\n",
       "    .dataframe tbody tr th:only-of-type {\n",
       "        vertical-align: middle;\n",
       "    }\n",
       "\n",
       "    .dataframe tbody tr th {\n",
       "        vertical-align: top;\n",
       "    }\n",
       "\n",
       "    .dataframe thead th {\n",
       "        text-align: right;\n",
       "    }\n",
       "</style>\n",
       "<table border=\"1\" class=\"dataframe\">\n",
       "  <thead>\n",
       "    <tr style=\"text-align: right;\">\n",
       "      <th></th>\n",
       "      <th>id</th>\n",
       "      <th>cloud_cover</th>\n",
       "      <th>source</th>\n",
       "      <th>aoi_code</th>\n",
       "      <th>percentage_valid_pixels</th>\n",
       "      <th>geometry</th>\n",
       "    </tr>\n",
       "  </thead>\n",
       "  <tbody>\n",
       "    <tr>\n",
       "      <th>0</th>\n",
       "      <td>2021-08-13</td>\n",
       "      <td>0.02</td>\n",
       "      <td>landsat</td>\n",
       "      <td>AOI01</td>\n",
       "      <td>1.000000</td>\n",
       "      <td>POLYGON ((147.09960 -31.24462, 147.30960 -31.2...</td>\n",
       "    </tr>\n",
       "    <tr>\n",
       "      <th>1</th>\n",
       "      <td>2021-08-29</td>\n",
       "      <td>14.17</td>\n",
       "      <td>landsat</td>\n",
       "      <td>AOI01</td>\n",
       "      <td>1.000000</td>\n",
       "      <td>POLYGON ((147.09960 -31.24462, 147.30960 -31.2...</td>\n",
       "    </tr>\n",
       "    <tr>\n",
       "      <th>2</th>\n",
       "      <td>2021-08-04</td>\n",
       "      <td>1.96</td>\n",
       "      <td>landsat</td>\n",
       "      <td>AOI01</td>\n",
       "      <td>0.279306</td>\n",
       "      <td>POLYGON ((147.09960 -31.24462, 147.30960 -31.2...</td>\n",
       "    </tr>\n",
       "    <tr>\n",
       "      <th>3</th>\n",
       "      <td>2021-08-20</td>\n",
       "      <td>0.01</td>\n",
       "      <td>landsat</td>\n",
       "      <td>AOI01</td>\n",
       "      <td>0.276128</td>\n",
       "      <td>POLYGON ((147.09960 -31.24462, 147.30960 -31.2...</td>\n",
       "    </tr>\n",
       "    <tr>\n",
       "      <th>4</th>\n",
       "      <td>2021-08-13</td>\n",
       "      <td>0.02</td>\n",
       "      <td>landsat</td>\n",
       "      <td>AOI01</td>\n",
       "      <td>1.000000</td>\n",
       "      <td>POLYGON ((147.09960 -31.04462, 147.30960 -31.0...</td>\n",
       "    </tr>\n",
       "  </tbody>\n",
       "</table>\n",
       "</div>"
      ],
      "text/plain": [
       "           id  cloud_cover   source aoi_code  percentage_valid_pixels  \\\n",
       "0  2021-08-13         0.02  landsat    AOI01                 1.000000   \n",
       "1  2021-08-29        14.17  landsat    AOI01                 1.000000   \n",
       "2  2021-08-04         1.96  landsat    AOI01                 0.279306   \n",
       "3  2021-08-20         0.01  landsat    AOI01                 0.276128   \n",
       "4  2021-08-13         0.02  landsat    AOI01                 1.000000   \n",
       "\n",
       "                                            geometry  \n",
       "0  POLYGON ((147.09960 -31.24462, 147.30960 -31.2...  \n",
       "1  POLYGON ((147.09960 -31.24462, 147.30960 -31.2...  \n",
       "2  POLYGON ((147.09960 -31.24462, 147.30960 -31.2...  \n",
       "3  POLYGON ((147.09960 -31.24462, 147.30960 -31.2...  \n",
       "4  POLYGON ((147.09960 -31.04462, 147.30960 -31.0...  "
      ]
     },
     "execution_count": 33,
     "metadata": {},
     "output_type": "execute_result"
    }
   ],
   "source": [
    "sydney20_df.head()"
   ]
  },
  {
   "cell_type": "code",
   "execution_count": 17,
   "id": "c7426e77-44d1-48b5-98c8-e187f3439cfd",
   "metadata": {},
   "outputs": [
    {
     "data": {
      "text/html": [
       "<div style=\"width:100%;\"><div style=\"position:relative;width:100%;height:0;padding-bottom:60%;\"><span style=\"color:#565656\">Make this Notebook Trusted to load map: File -> Trust Notebook</span><iframe srcdoc=\"&lt;!DOCTYPE html&gt;\n",
       "&lt;head&gt;    \n",
       "    &lt;meta http-equiv=&quot;content-type&quot; content=&quot;text/html; charset=UTF-8&quot; /&gt;\n",
       "    \n",
       "        &lt;script&gt;\n",
       "            L_NO_TOUCH = false;\n",
       "            L_DISABLE_3D = false;\n",
       "        &lt;/script&gt;\n",
       "    \n",
       "    &lt;style&gt;html, body {width: 100%;height: 100%;margin: 0;padding: 0;}&lt;/style&gt;\n",
       "    &lt;style&gt;#map {position:absolute;top:0;bottom:0;right:0;left:0;}&lt;/style&gt;\n",
       "    &lt;script src=&quot;https://cdn.jsdelivr.net/npm/leaflet@1.6.0/dist/leaflet.js&quot;&gt;&lt;/script&gt;\n",
       "    &lt;script src=&quot;https://code.jquery.com/jquery-1.12.4.min.js&quot;&gt;&lt;/script&gt;\n",
       "    &lt;script src=&quot;https://maxcdn.bootstrapcdn.com/bootstrap/3.2.0/js/bootstrap.min.js&quot;&gt;&lt;/script&gt;\n",
       "    &lt;script src=&quot;https://cdnjs.cloudflare.com/ajax/libs/Leaflet.awesome-markers/2.0.2/leaflet.awesome-markers.js&quot;&gt;&lt;/script&gt;\n",
       "    &lt;link rel=&quot;stylesheet&quot; href=&quot;https://cdn.jsdelivr.net/npm/leaflet@1.6.0/dist/leaflet.css&quot;/&gt;\n",
       "    &lt;link rel=&quot;stylesheet&quot; href=&quot;https://maxcdn.bootstrapcdn.com/bootstrap/3.2.0/css/bootstrap.min.css&quot;/&gt;\n",
       "    &lt;link rel=&quot;stylesheet&quot; href=&quot;https://maxcdn.bootstrapcdn.com/bootstrap/3.2.0/css/bootstrap-theme.min.css&quot;/&gt;\n",
       "    &lt;link rel=&quot;stylesheet&quot; href=&quot;https://maxcdn.bootstrapcdn.com/font-awesome/4.6.3/css/font-awesome.min.css&quot;/&gt;\n",
       "    &lt;link rel=&quot;stylesheet&quot; href=&quot;https://cdnjs.cloudflare.com/ajax/libs/Leaflet.awesome-markers/2.0.2/leaflet.awesome-markers.css&quot;/&gt;\n",
       "    &lt;link rel=&quot;stylesheet&quot; href=&quot;https://cdn.jsdelivr.net/gh/python-visualization/folium/folium/templates/leaflet.awesome.rotate.min.css&quot;/&gt;\n",
       "    \n",
       "            &lt;meta name=&quot;viewport&quot; content=&quot;width=device-width,\n",
       "                initial-scale=1.0, maximum-scale=1.0, user-scalable=no&quot; /&gt;\n",
       "            &lt;style&gt;\n",
       "                #map_664fa2cc18b90f0f4c67cda443d88b6b {\n",
       "                    position: relative;\n",
       "                    width: 100.0%;\n",
       "                    height: 100.0%;\n",
       "                    left: 0.0%;\n",
       "                    top: 0.0%;\n",
       "                }\n",
       "            &lt;/style&gt;\n",
       "        \n",
       "    \n",
       "                    &lt;style&gt;\n",
       "                        .foliumtooltip {\n",
       "                            \n",
       "                        }\n",
       "                       .foliumtooltip table{\n",
       "                            margin: auto;\n",
       "                        }\n",
       "                        .foliumtooltip tr{\n",
       "                            text-align: left;\n",
       "                        }\n",
       "                        .foliumtooltip th{\n",
       "                            padding: 2px; padding-right: 8px;\n",
       "                        }\n",
       "                    &lt;/style&gt;\n",
       "            \n",
       "&lt;/head&gt;\n",
       "&lt;body&gt;    \n",
       "    \n",
       "            &lt;div class=&quot;folium-map&quot; id=&quot;map_664fa2cc18b90f0f4c67cda443d88b6b&quot; &gt;&lt;/div&gt;\n",
       "        \n",
       "&lt;/body&gt;\n",
       "&lt;script&gt;    \n",
       "    \n",
       "            var map_664fa2cc18b90f0f4c67cda443d88b6b = L.map(\n",
       "                &quot;map_664fa2cc18b90f0f4c67cda443d88b6b&quot;,\n",
       "                {\n",
       "                    center: [-31.53960560526436, 147.80459985333061],\n",
       "                    crs: L.CRS.EPSG3857,\n",
       "                    zoom: 10,\n",
       "                    zoomControl: true,\n",
       "                    preferCanvas: false,\n",
       "                }\n",
       "            );\n",
       "            L.control.scale().addTo(map_664fa2cc18b90f0f4c67cda443d88b6b);\n",
       "\n",
       "            \n",
       "\n",
       "        \n",
       "    \n",
       "            var tile_layer_a6f51f12ae6a053ab3711711a394111b = L.tileLayer(\n",
       "                &quot;https://{s}.tile.openstreetmap.org/{z}/{x}/{y}.png&quot;,\n",
       "                {&quot;attribution&quot;: &quot;Data by \\u0026copy; \\u003ca href=\\&quot;http://openstreetmap.org\\&quot;\\u003eOpenStreetMap\\u003c/a\\u003e, under \\u003ca href=\\&quot;http://www.openstreetmap.org/copyright\\&quot;\\u003eODbL\\u003c/a\\u003e.&quot;, &quot;detectRetina&quot;: false, &quot;maxNativeZoom&quot;: 18, &quot;maxZoom&quot;: 18, &quot;minZoom&quot;: 0, &quot;noWrap&quot;: false, &quot;opacity&quot;: 1, &quot;subdomains&quot;: &quot;abc&quot;, &quot;tms&quot;: false}\n",
       "            ).addTo(map_664fa2cc18b90f0f4c67cda443d88b6b);\n",
       "        \n",
       "    \n",
       "            map_664fa2cc18b90f0f4c67cda443d88b6b.fitBounds(\n",
       "                [[-32.84460560526438, 147.09959654580408], [-30.234605605264342, 148.50960316085715]],\n",
       "                {}\n",
       "            );\n",
       "        \n",
       "    \n",
       "        function geo_json_39a0109e39c3a76cfbbc87c680151af3_styler(feature) {\n",
       "            switch(feature.id) {\n",
       "                default:\n",
       "                    return {&quot;fillOpacity&quot;: 0.5, &quot;weight&quot;: 2};\n",
       "            }\n",
       "        }\n",
       "        function geo_json_39a0109e39c3a76cfbbc87c680151af3_highlighter(feature) {\n",
       "            switch(feature.id) {\n",
       "                default:\n",
       "                    return {&quot;fillOpacity&quot;: 0.75};\n",
       "            }\n",
       "        }\n",
       "        function geo_json_39a0109e39c3a76cfbbc87c680151af3_pointToLayer(feature, latlng) {\n",
       "            var opts = {&quot;bubblingMouseEvents&quot;: true, &quot;color&quot;: &quot;#3388ff&quot;, &quot;dashArray&quot;: null, &quot;dashOffset&quot;: null, &quot;fill&quot;: true, &quot;fillColor&quot;: &quot;#3388ff&quot;, &quot;fillOpacity&quot;: 0.2, &quot;fillRule&quot;: &quot;evenodd&quot;, &quot;lineCap&quot;: &quot;round&quot;, &quot;lineJoin&quot;: &quot;round&quot;, &quot;opacity&quot;: 1.0, &quot;radius&quot;: 2, &quot;stroke&quot;: true, &quot;weight&quot;: 3};\n",
       "            \n",
       "            let style = geo_json_39a0109e39c3a76cfbbc87c680151af3_styler(feature)\n",
       "            Object.assign(opts, style)\n",
       "            \n",
       "            return new L.CircleMarker(latlng, opts)\n",
       "        }\n",
       "\n",
       "        function geo_json_39a0109e39c3a76cfbbc87c680151af3_onEachFeature(feature, layer) {\n",
       "            layer.on({\n",
       "                mouseout: function(e) {\n",
       "                    if(typeof e.target.setStyle === &quot;function&quot;){\n",
       "                        geo_json_39a0109e39c3a76cfbbc87c680151af3.resetStyle(e.target);\n",
       "                    }\n",
       "                },\n",
       "                mouseover: function(e) {\n",
       "                    if(typeof e.target.setStyle === &quot;function&quot;){\n",
       "                        const highlightStyle = geo_json_39a0109e39c3a76cfbbc87c680151af3_highlighter(e.target.feature)\n",
       "                        e.target.setStyle(highlightStyle);\n",
       "                    }\n",
       "                },\n",
       "            });\n",
       "        };\n",
       "        var geo_json_39a0109e39c3a76cfbbc87c680151af3 = L.geoJson(null, {\n",
       "                onEachFeature: geo_json_39a0109e39c3a76cfbbc87c680151af3_onEachFeature,\n",
       "            \n",
       "                style: geo_json_39a0109e39c3a76cfbbc87c680151af3_styler,\n",
       "                pointToLayer: geo_json_39a0109e39c3a76cfbbc87c680151af3_pointToLayer\n",
       "        });\n",
       "\n",
       "        function geo_json_39a0109e39c3a76cfbbc87c680151af3_add (data) {\n",
       "            geo_json_39a0109e39c3a76cfbbc87c680151af3\n",
       "                .addData(data)\n",
       "                .addTo(map_664fa2cc18b90f0f4c67cda443d88b6b);\n",
       "        }\n",
       "            geo_json_39a0109e39c3a76cfbbc87c680151af3_add({&quot;bbox&quot;: [147.09959654580408, -32.84460560526438, 148.50960316085715, -30.234605605264342], &quot;features&quot;: [{&quot;bbox&quot;: [147.09959654580408, -31.244618412374592, 147.30959654580408, -31.03461841237459], &quot;geometry&quot;: {&quot;coordinates&quot;: [[[147.09959654580408, -31.244618412374592], [147.30959654580408, -31.244618412374592], [147.30959654580408, -31.03461841237459], [147.09959654580408, -31.03461841237459], [147.09959654580408, -31.244618412374592]]], &quot;type&quot;: &quot;Polygon&quot;}, &quot;id&quot;: &quot;0&quot;, &quot;properties&quot;: {&quot;aoi_code&quot;: &quot;AOI01&quot;, &quot;cloud_cover&quot;: 0.02, &quot;id&quot;: &quot;2021-08-13&quot;, &quot;percentage_valid_pixels&quot;: 1.0, &quot;source&quot;: &quot;landsat&quot;}, &quot;type&quot;: &quot;Feature&quot;}, {&quot;bbox&quot;: [147.09959654580408, -31.244618412374592, 147.30959654580408, -31.03461841237459], &quot;geometry&quot;: {&quot;coordinates&quot;: [[[147.09959654580408, -31.244618412374592], [147.30959654580408, -31.244618412374592], [147.30959654580408, -31.03461841237459], [147.09959654580408, -31.03461841237459], [147.09959654580408, -31.244618412374592]]], &quot;type&quot;: &quot;Polygon&quot;}, &quot;id&quot;: &quot;1&quot;, &quot;properties&quot;: {&quot;aoi_code&quot;: &quot;AOI01&quot;, &quot;cloud_cover&quot;: 14.17, &quot;id&quot;: &quot;2021-08-29&quot;, &quot;percentage_valid_pixels&quot;: 1.0, &quot;source&quot;: &quot;landsat&quot;}, &quot;type&quot;: &quot;Feature&quot;}, {&quot;bbox&quot;: [147.09959654580408, -31.244618412374592, 147.30959654580408, -31.03461841237459], &quot;geometry&quot;: {&quot;coordinates&quot;: [[[147.09959654580408, -31.244618412374592], [147.30959654580408, -31.244618412374592], [147.30959654580408, -31.03461841237459], [147.09959654580408, -31.03461841237459], [147.09959654580408, -31.244618412374592]]], &quot;type&quot;: &quot;Polygon&quot;}, &quot;id&quot;: &quot;2&quot;, &quot;properties&quot;: {&quot;aoi_code&quot;: &quot;AOI01&quot;, &quot;cloud_cover&quot;: 1.96, &quot;id&quot;: &quot;2021-08-04&quot;, &quot;percentage_valid_pixels&quot;: 0.2793058483698508, &quot;source&quot;: &quot;landsat&quot;}, &quot;type&quot;: &quot;Feature&quot;}, {&quot;bbox&quot;: [147.09959654580408, -31.244618412374592, 147.30959654580408, -31.03461841237459], &quot;geometry&quot;: {&quot;coordinates&quot;: [[[147.09959654580408, -31.244618412374592], [147.30959654580408, -31.244618412374592], [147.30959654580408, -31.03461841237459], [147.09959654580408, -31.03461841237459], [147.09959654580408, -31.244618412374592]]], &quot;type&quot;: &quot;Polygon&quot;}, &quot;id&quot;: &quot;3&quot;, &quot;properties&quot;: {&quot;aoi_code&quot;: &quot;AOI01&quot;, &quot;cloud_cover&quot;: 0.01, &quot;id&quot;: &quot;2021-08-20&quot;, &quot;percentage_valid_pixels&quot;: 0.2761283403702215, &quot;source&quot;: &quot;landsat&quot;}, &quot;type&quot;: &quot;Feature&quot;}, {&quot;bbox&quot;: [147.09959654580408, -31.04461841237459, 147.30959654580408, -30.83461841237459], &quot;geometry&quot;: {&quot;coordinates&quot;: [[[147.09959654580408, -31.04461841237459], [147.30959654580408, -31.04461841237459], [147.30959654580408, -30.83461841237459], [147.09959654580408, -30.83461841237459], [147.09959654580408, -31.04461841237459]]], &quot;type&quot;: &quot;Polygon&quot;}, &quot;id&quot;: &quot;4&quot;, &quot;properties&quot;: {&quot;aoi_code&quot;: &quot;AOI01&quot;, &quot;cloud_cover&quot;: 0.02, &quot;id&quot;: &quot;2021-08-13&quot;, &quot;percentage_valid_pixels&quot;: 1.0, &quot;source&quot;: &quot;landsat&quot;}, &quot;type&quot;: &quot;Feature&quot;}, {&quot;bbox&quot;: [147.09959654580408, -31.04461841237459, 147.30959654580408, -30.83461841237459], &quot;geometry&quot;: {&quot;coordinates&quot;: [[[147.09959654580408, -31.04461841237459], [147.30959654580408, -31.04461841237459], [147.30959654580408, -30.83461841237459], [147.09959654580408, -30.83461841237459], [147.09959654580408, -31.04461841237459]]], &quot;type&quot;: &quot;Polygon&quot;}, &quot;id&quot;: &quot;5&quot;, &quot;properties&quot;: {&quot;aoi_code&quot;: &quot;AOI01&quot;, &quot;cloud_cover&quot;: 14.17, &quot;id&quot;: &quot;2021-08-29&quot;, &quot;percentage_valid_pixels&quot;: 1.0, &quot;source&quot;: &quot;landsat&quot;}, &quot;type&quot;: &quot;Feature&quot;}, {&quot;bbox&quot;: [147.09959654580408, -31.04461841237459, 147.30959654580408, -30.83461841237459], &quot;geometry&quot;: {&quot;coordinates&quot;: [[[147.09959654580408, -31.04461841237459], [147.30959654580408, -31.04461841237459], [147.30959654580408, -30.83461841237459], [147.09959654580408, -30.83461841237459], [147.09959654580408, -31.04461841237459]]], &quot;type&quot;: &quot;Polygon&quot;}, &quot;id&quot;: &quot;6&quot;, &quot;properties&quot;: {&quot;aoi_code&quot;: &quot;AOI01&quot;, &quot;cloud_cover&quot;: 1.96, &quot;id&quot;: &quot;2021-08-04&quot;, &quot;percentage_valid_pixels&quot;: 0.5215987902079016, &quot;source&quot;: &quot;landsat&quot;}, &quot;type&quot;: &quot;Feature&quot;}, {&quot;bbox&quot;: [147.09959654580408, -31.04461841237459, 147.30959654580408, -30.83461841237459], &quot;geometry&quot;: {&quot;coordinates&quot;: [[[147.09959654580408, -31.04461841237459], [147.30959654580408, -31.04461841237459], [147.30959654580408, -30.83461841237459], [147.09959654580408, -30.83461841237459], [147.09959654580408, -31.04461841237459]]], &quot;type&quot;: &quot;Polygon&quot;}, &quot;id&quot;: &quot;7&quot;, &quot;properties&quot;: {&quot;aoi_code&quot;: &quot;AOI01&quot;, &quot;cloud_cover&quot;: 0.01, &quot;id&quot;: &quot;2021-08-20&quot;, &quot;percentage_valid_pixels&quot;: 0.518509723511732, &quot;source&quot;: &quot;landsat&quot;}, &quot;type&quot;: &quot;Feature&quot;}, {&quot;bbox&quot;: [147.4996031608572, -32.44460560526437, 147.7096031608572, -32.23460560526437], &quot;geometry&quot;: {&quot;coordinates&quot;: [[[147.4996031608572, -32.44460560526437], [147.7096031608572, -32.44460560526437], [147.7096031608572, -32.23460560526437], [147.4996031608572, -32.23460560526437], [147.4996031608572, -32.44460560526437]]], &quot;type&quot;: &quot;Polygon&quot;}, &quot;id&quot;: &quot;8&quot;, &quot;properties&quot;: {&quot;aoi_code&quot;: &quot;AOI02&quot;, &quot;cloud_cover&quot;: 2.36, &quot;id&quot;: &quot;2021-08-13&quot;, &quot;percentage_valid_pixels&quot;: 1.0, &quot;source&quot;: &quot;landsat&quot;}, &quot;type&quot;: &quot;Feature&quot;}, {&quot;bbox&quot;: [147.4996031608572, -32.44460560526437, 147.7096031608572, -32.23460560526437], &quot;geometry&quot;: {&quot;coordinates&quot;: [[[147.4996031608572, -32.44460560526437], [147.7096031608572, -32.44460560526437], [147.7096031608572, -32.23460560526437], [147.4996031608572, -32.23460560526437], [147.4996031608572, -32.44460560526437]]], &quot;type&quot;: &quot;Polygon&quot;}, &quot;id&quot;: &quot;9&quot;, &quot;properties&quot;: {&quot;aoi_code&quot;: &quot;AOI02&quot;, &quot;cloud_cover&quot;: 56.97, &quot;id&quot;: &quot;2021-08-29&quot;, &quot;percentage_valid_pixels&quot;: 1.0, &quot;source&quot;: &quot;landsat&quot;}, &quot;type&quot;: &quot;Feature&quot;}, {&quot;bbox&quot;: [147.4996031608572, -30.444605605264343, 147.7096031608572, -30.234605605264342], &quot;geometry&quot;: {&quot;coordinates&quot;: [[[147.4996031608572, -30.444605605264343], [147.7096031608572, -30.444605605264343], [147.7096031608572, -30.234605605264342], [147.4996031608572, -30.234605605264342], [147.4996031608572, -30.444605605264343]]], &quot;type&quot;: &quot;Polygon&quot;}, &quot;id&quot;: &quot;10&quot;, &quot;properties&quot;: {&quot;aoi_code&quot;: &quot;AOI02&quot;, &quot;cloud_cover&quot;: 0.02, &quot;id&quot;: &quot;2021-08-13&quot;, &quot;percentage_valid_pixels&quot;: 1.0, &quot;source&quot;: &quot;landsat&quot;}, &quot;type&quot;: &quot;Feature&quot;}, {&quot;bbox&quot;: [147.4996031608572, -30.444605605264343, 147.7096031608572, -30.234605605264342], &quot;geometry&quot;: {&quot;coordinates&quot;: [[[147.4996031608572, -30.444605605264343], [147.7096031608572, -30.444605605264343], [147.7096031608572, -30.234605605264342], [147.4996031608572, -30.234605605264342], [147.4996031608572, -30.444605605264343]]], &quot;type&quot;: &quot;Polygon&quot;}, &quot;id&quot;: &quot;11&quot;, &quot;properties&quot;: {&quot;aoi_code&quot;: &quot;AOI02&quot;, &quot;cloud_cover&quot;: 14.17, &quot;id&quot;: &quot;2021-08-29&quot;, &quot;percentage_valid_pixels&quot;: 1.0, &quot;source&quot;: &quot;landsat&quot;}, &quot;type&quot;: &quot;Feature&quot;}, {&quot;bbox&quot;: [147.09959654580408, -30.844618412374587, 147.30959654580408, -30.634618412374586], &quot;geometry&quot;: {&quot;coordinates&quot;: [[[147.09959654580408, -30.844618412374587], [147.30959654580408, -30.844618412374587], [147.30959654580408, -30.634618412374586], [147.09959654580408, -30.634618412374586], [147.09959654580408, -30.844618412374587]]], &quot;type&quot;: &quot;Polygon&quot;}, &quot;id&quot;: &quot;12&quot;, &quot;properties&quot;: {&quot;aoi_code&quot;: &quot;AOI0289&quot;, &quot;cloud_cover&quot;: 0.02, &quot;id&quot;: &quot;2021-08-13&quot;, &quot;percentage_valid_pixels&quot;: 1.0, &quot;source&quot;: &quot;landsat&quot;}, &quot;type&quot;: &quot;Feature&quot;}, {&quot;bbox&quot;: [147.09959654580408, -30.844618412374587, 147.30959654580408, -30.634618412374586], &quot;geometry&quot;: {&quot;coordinates&quot;: [[[147.09959654580408, -30.844618412374587], [147.30959654580408, -30.844618412374587], [147.30959654580408, -30.634618412374586], [147.09959654580408, -30.634618412374586], [147.09959654580408, -30.844618412374587]]], &quot;type&quot;: &quot;Polygon&quot;}, &quot;id&quot;: &quot;13&quot;, &quot;properties&quot;: {&quot;aoi_code&quot;: &quot;AOI0289&quot;, &quot;cloud_cover&quot;: 14.17, &quot;id&quot;: &quot;2021-08-29&quot;, &quot;percentage_valid_pixels&quot;: 1.0, &quot;source&quot;: &quot;landsat&quot;}, &quot;type&quot;: &quot;Feature&quot;}, {&quot;bbox&quot;: [147.09959654580408, -30.844618412374587, 147.30959654580408, -30.634618412374586], &quot;geometry&quot;: {&quot;coordinates&quot;: [[[147.09959654580408, -30.844618412374587], [147.30959654580408, -30.844618412374587], [147.30959654580408, -30.634618412374586], [147.09959654580408, -30.634618412374586], [147.09959654580408, -30.844618412374587]]], &quot;type&quot;: &quot;Polygon&quot;}, &quot;id&quot;: &quot;14&quot;, &quot;properties&quot;: {&quot;aoi_code&quot;: &quot;AOI0289&quot;, &quot;cloud_cover&quot;: 1.96, &quot;id&quot;: &quot;2021-08-04&quot;, &quot;percentage_valid_pixels&quot;: 0.763331287697974, &quot;source&quot;: &quot;landsat&quot;}, &quot;type&quot;: &quot;Feature&quot;}, {&quot;bbox&quot;: [147.09959654580408, -30.844618412374587, 147.30959654580408, -30.634618412374586], &quot;geometry&quot;: {&quot;coordinates&quot;: [[[147.09959654580408, -30.844618412374587], [147.30959654580408, -30.844618412374587], [147.30959654580408, -30.634618412374586], [147.09959654580408, -30.634618412374586], [147.09959654580408, -30.844618412374587]]], &quot;type&quot;: &quot;Polygon&quot;}, &quot;id&quot;: &quot;15&quot;, &quot;properties&quot;: {&quot;aoi_code&quot;: &quot;AOI0289&quot;, &quot;cloud_cover&quot;: 0.01, &quot;id&quot;: &quot;2021-08-20&quot;, &quot;percentage_valid_pixels&quot;: 0.760160884429572, &quot;source&quot;: &quot;landsat&quot;}, &quot;type&quot;: &quot;Feature&quot;}, {&quot;bbox&quot;: [147.69960316085718, -32.44460560526437, 147.9096031608572, -32.23460560526437], &quot;geometry&quot;: {&quot;coordinates&quot;: [[[147.69960316085718, -32.44460560526437], [147.9096031608572, -32.44460560526437], [147.9096031608572, -32.23460560526437], [147.69960316085718, -32.23460560526437], [147.69960316085718, -32.44460560526437]]], &quot;type&quot;: &quot;Polygon&quot;}, &quot;id&quot;: &quot;16&quot;, &quot;properties&quot;: {&quot;aoi_code&quot;: &quot;AOI0299&quot;, &quot;cloud_cover&quot;: 54.69, &quot;id&quot;: &quot;2021-08-06&quot;, &quot;percentage_valid_pixels&quot;: 0.11851375613738727, &quot;source&quot;: &quot;landsat&quot;}, &quot;type&quot;: &quot;Feature&quot;}, {&quot;bbox&quot;: [147.69960316085718, -32.44460560526437, 147.9096031608572, -32.23460560526437], &quot;geometry&quot;: {&quot;coordinates&quot;: [[[147.69960316085718, -32.44460560526437], [147.9096031608572, -32.44460560526437], [147.9096031608572, -32.23460560526437], [147.69960316085718, -32.23460560526437], [147.69960316085718, -32.44460560526437]]], &quot;type&quot;: &quot;Polygon&quot;}, &quot;id&quot;: &quot;17&quot;, &quot;properties&quot;: {&quot;aoi_code&quot;: &quot;AOI0299&quot;, &quot;cloud_cover&quot;: 10.8, &quot;id&quot;: &quot;2021-08-22&quot;, &quot;percentage_valid_pixels&quot;: 0.11387220154803157, &quot;source&quot;: &quot;landsat&quot;}, &quot;type&quot;: &quot;Feature&quot;}, {&quot;bbox&quot;: [147.69960316085718, -32.44460560526437, 147.9096031608572, -32.23460560526437], &quot;geometry&quot;: {&quot;coordinates&quot;: [[[147.69960316085718, -32.44460560526437], [147.9096031608572, -32.44460560526437], [147.9096031608572, -32.23460560526437], [147.69960316085718, -32.23460560526437], [147.69960316085718, -32.44460560526437]]], &quot;type&quot;: &quot;Polygon&quot;}, &quot;id&quot;: &quot;18&quot;, &quot;properties&quot;: {&quot;aoi_code&quot;: &quot;AOI0299&quot;, &quot;cloud_cover&quot;: 2.36, &quot;id&quot;: &quot;2021-08-13&quot;, &quot;percentage_valid_pixels&quot;: 1.0, &quot;source&quot;: &quot;landsat&quot;}, &quot;type&quot;: &quot;Feature&quot;}, {&quot;bbox&quot;: [147.69960316085718, -32.44460560526437, 147.9096031608572, -32.23460560526437], &quot;geometry&quot;: {&quot;coordinates&quot;: [[[147.69960316085718, -32.44460560526437], [147.9096031608572, -32.44460560526437], [147.9096031608572, -32.23460560526437], [147.69960316085718, -32.23460560526437], [147.69960316085718, -32.44460560526437]]], &quot;type&quot;: &quot;Polygon&quot;}, &quot;id&quot;: &quot;19&quot;, &quot;properties&quot;: {&quot;aoi_code&quot;: &quot;AOI0299&quot;, &quot;cloud_cover&quot;: 56.97, &quot;id&quot;: &quot;2021-08-29&quot;, &quot;percentage_valid_pixels&quot;: 1.0, &quot;source&quot;: &quot;landsat&quot;}, &quot;type&quot;: &quot;Feature&quot;}, {&quot;bbox&quot;: [147.69960316085718, -32.24460560526437, 147.9096031608572, -32.03460560526437], &quot;geometry&quot;: {&quot;coordinates&quot;: [[[147.69960316085718, -32.24460560526437], [147.9096031608572, -32.24460560526437], [147.9096031608572, -32.03460560526437], [147.69960316085718, -32.03460560526437], [147.69960316085718, -32.24460560526437]]], &quot;type&quot;: &quot;Polygon&quot;}, &quot;id&quot;: &quot;20&quot;, &quot;properties&quot;: {&quot;aoi_code&quot;: &quot;AOI03&quot;, &quot;cloud_cover&quot;: 54.69, &quot;id&quot;: &quot;2021-08-06&quot;, &quot;percentage_valid_pixels&quot;: 0.0, &quot;source&quot;: &quot;landsat&quot;}, &quot;type&quot;: &quot;Feature&quot;}, {&quot;bbox&quot;: [147.69960316085718, -32.24460560526437, 147.9096031608572, -32.03460560526437], &quot;geometry&quot;: {&quot;coordinates&quot;: [[[147.69960316085718, -32.24460560526437], [147.9096031608572, -32.24460560526437], [147.9096031608572, -32.03460560526437], [147.69960316085718, -32.03460560526437], [147.69960316085718, -32.24460560526437]]], &quot;type&quot;: &quot;Polygon&quot;}, &quot;id&quot;: &quot;21&quot;, &quot;properties&quot;: {&quot;aoi_code&quot;: &quot;AOI03&quot;, &quot;cloud_cover&quot;: 10.8, &quot;id&quot;: &quot;2021-08-22&quot;, &quot;percentage_valid_pixels&quot;: 0.0, &quot;source&quot;: &quot;landsat&quot;}, &quot;type&quot;: &quot;Feature&quot;}, {&quot;bbox&quot;: [147.69960316085718, -32.24460560526437, 147.9096031608572, -32.03460560526437], &quot;geometry&quot;: {&quot;coordinates&quot;: [[[147.69960316085718, -32.24460560526437], [147.9096031608572, -32.24460560526437], [147.9096031608572, -32.03460560526437], [147.69960316085718, -32.03460560526437], [147.69960316085718, -32.24460560526437]]], &quot;type&quot;: &quot;Polygon&quot;}, &quot;id&quot;: &quot;22&quot;, &quot;properties&quot;: {&quot;aoi_code&quot;: &quot;AOI03&quot;, &quot;cloud_cover&quot;: 2.36, &quot;id&quot;: &quot;2021-08-13&quot;, &quot;percentage_valid_pixels&quot;: 1.0, &quot;source&quot;: &quot;landsat&quot;}, &quot;type&quot;: &quot;Feature&quot;}, {&quot;bbox&quot;: [147.69960316085718, -32.24460560526437, 147.9096031608572, -32.03460560526437], &quot;geometry&quot;: {&quot;coordinates&quot;: [[[147.69960316085718, -32.24460560526437], [147.9096031608572, -32.24460560526437], [147.9096031608572, -32.03460560526437], [147.69960316085718, -32.03460560526437], [147.69960316085718, -32.24460560526437]]], &quot;type&quot;: &quot;Polygon&quot;}, &quot;id&quot;: &quot;23&quot;, &quot;properties&quot;: {&quot;aoi_code&quot;: &quot;AOI03&quot;, &quot;cloud_cover&quot;: 56.97, &quot;id&quot;: &quot;2021-08-29&quot;, &quot;percentage_valid_pixels&quot;: 1.0, &quot;source&quot;: &quot;landsat&quot;}, &quot;type&quot;: &quot;Feature&quot;}, {&quot;bbox&quot;: [147.89960316085717, -32.644605605264374, 148.10960316085718, -32.43460560526437], &quot;geometry&quot;: {&quot;coordinates&quot;: [[[147.89960316085717, -32.644605605264374], [148.10960316085718, -32.644605605264374], [148.10960316085718, -32.43460560526437], [147.89960316085717, -32.43460560526437], [147.89960316085717, -32.644605605264374]]], &quot;type&quot;: &quot;Polygon&quot;}, &quot;id&quot;: &quot;24&quot;, &quot;properties&quot;: {&quot;aoi_code&quot;: &quot;AOI03&quot;, &quot;cloud_cover&quot;: 54.69, &quot;id&quot;: &quot;2021-08-06&quot;, &quot;percentage_valid_pixels&quot;: 1.0, &quot;source&quot;: &quot;landsat&quot;}, &quot;type&quot;: &quot;Feature&quot;}, {&quot;bbox&quot;: [147.89960316085717, -32.644605605264374, 148.10960316085718, -32.43460560526437], &quot;geometry&quot;: {&quot;coordinates&quot;: [[[147.89960316085717, -32.644605605264374], [148.10960316085718, -32.644605605264374], [148.10960316085718, -32.43460560526437], [147.89960316085717, -32.43460560526437], [147.89960316085717, -32.644605605264374]]], &quot;type&quot;: &quot;Polygon&quot;}, &quot;id&quot;: &quot;25&quot;, &quot;properties&quot;: {&quot;aoi_code&quot;: &quot;AOI03&quot;, &quot;cloud_cover&quot;: 10.8, &quot;id&quot;: &quot;2021-08-22&quot;, &quot;percentage_valid_pixels&quot;: 1.0, &quot;source&quot;: &quot;landsat&quot;}, &quot;type&quot;: &quot;Feature&quot;}, {&quot;bbox&quot;: [147.89960316085717, -32.644605605264374, 148.10960316085718, -32.43460560526437], &quot;geometry&quot;: {&quot;coordinates&quot;: [[[147.89960316085717, -32.644605605264374], [148.10960316085718, -32.644605605264374], [148.10960316085718, -32.43460560526437], [147.89960316085717, -32.43460560526437], [147.89960316085717, -32.644605605264374]]], &quot;type&quot;: &quot;Polygon&quot;}, &quot;id&quot;: &quot;26&quot;, &quot;properties&quot;: {&quot;aoi_code&quot;: &quot;AOI03&quot;, &quot;cloud_cover&quot;: 2.36, &quot;id&quot;: &quot;2021-08-13&quot;, &quot;percentage_valid_pixels&quot;: 1.0, &quot;source&quot;: &quot;landsat&quot;}, &quot;type&quot;: &quot;Feature&quot;}, {&quot;bbox&quot;: [147.89960316085717, -32.644605605264374, 148.10960316085718, -32.43460560526437], &quot;geometry&quot;: {&quot;coordinates&quot;: [[[147.89960316085717, -32.644605605264374], [148.10960316085718, -32.644605605264374], [148.10960316085718, -32.43460560526437], [147.89960316085717, -32.43460560526437], [147.89960316085717, -32.644605605264374]]], &quot;type&quot;: &quot;Polygon&quot;}, &quot;id&quot;: &quot;27&quot;, &quot;properties&quot;: {&quot;aoi_code&quot;: &quot;AOI03&quot;, &quot;cloud_cover&quot;: 56.97, &quot;id&quot;: &quot;2021-08-29&quot;, &quot;percentage_valid_pixels&quot;: 1.0, &quot;source&quot;: &quot;landsat&quot;}, &quot;type&quot;: &quot;Feature&quot;}, {&quot;bbox&quot;: [147.89960316085717, -32.44460560526437, 148.10960316085718, -32.23460560526437], &quot;geometry&quot;: {&quot;coordinates&quot;: [[[147.89960316085717, -32.44460560526437], [148.10960316085718, -32.44460560526437], [148.10960316085718, -32.23460560526437], [147.89960316085717, -32.23460560526437], [147.89960316085717, -32.44460560526437]]], &quot;type&quot;: &quot;Polygon&quot;}, &quot;id&quot;: &quot;28&quot;, &quot;properties&quot;: {&quot;aoi_code&quot;: &quot;AOI0316&quot;, &quot;cloud_cover&quot;: 54.69, &quot;id&quot;: &quot;2021-08-06&quot;, &quot;percentage_valid_pixels&quot;: 0.9908227972219834, &quot;source&quot;: &quot;landsat&quot;}, &quot;type&quot;: &quot;Feature&quot;}, {&quot;bbox&quot;: [147.89960316085717, -32.44460560526437, 148.10960316085718, -32.23460560526437], &quot;geometry&quot;: {&quot;coordinates&quot;: [[[147.89960316085717, -32.44460560526437], [148.10960316085718, -32.44460560526437], [148.10960316085718, -32.23460560526437], [147.89960316085717, -32.23460560526437], [147.89960316085717, -32.44460560526437]]], &quot;type&quot;: &quot;Polygon&quot;}, &quot;id&quot;: &quot;29&quot;, &quot;properties&quot;: {&quot;aoi_code&quot;: &quot;AOI0316&quot;, &quot;cloud_cover&quot;: 10.8, &quot;id&quot;: &quot;2021-08-22&quot;, &quot;percentage_valid_pixels&quot;: 0.9895300070467699, &quot;source&quot;: &quot;landsat&quot;}, &quot;type&quot;: &quot;Feature&quot;}, {&quot;bbox&quot;: [147.89960316085717, -32.44460560526437, 148.10960316085718, -32.23460560526437], &quot;geometry&quot;: {&quot;coordinates&quot;: [[[147.89960316085717, -32.44460560526437], [148.10960316085718, -32.44460560526437], [148.10960316085718, -32.23460560526437], [147.89960316085717, -32.23460560526437], [147.89960316085717, -32.44460560526437]]], &quot;type&quot;: &quot;Polygon&quot;}, &quot;id&quot;: &quot;30&quot;, &quot;properties&quot;: {&quot;aoi_code&quot;: &quot;AOI0316&quot;, &quot;cloud_cover&quot;: 2.36, &quot;id&quot;: &quot;2021-08-13&quot;, &quot;percentage_valid_pixels&quot;: 1.0, &quot;source&quot;: &quot;landsat&quot;}, &quot;type&quot;: &quot;Feature&quot;}, {&quot;bbox&quot;: [147.89960316085717, -32.44460560526437, 148.10960316085718, -32.23460560526437], &quot;geometry&quot;: {&quot;coordinates&quot;: [[[147.89960316085717, -32.44460560526437], [148.10960316085718, -32.44460560526437], [148.10960316085718, -32.23460560526437], [147.89960316085717, -32.23460560526437], [147.89960316085717, -32.44460560526437]]], &quot;type&quot;: &quot;Polygon&quot;}, &quot;id&quot;: &quot;31&quot;, &quot;properties&quot;: {&quot;aoi_code&quot;: &quot;AOI0316&quot;, &quot;cloud_cover&quot;: 56.97, &quot;id&quot;: &quot;2021-08-29&quot;, &quot;percentage_valid_pixels&quot;: 1.0, &quot;source&quot;: &quot;landsat&quot;}, &quot;type&quot;: &quot;Feature&quot;}, {&quot;bbox&quot;: [147.89960316085717, -32.24460560526437, 148.10960316085718, -32.03460560526437], &quot;geometry&quot;: {&quot;coordinates&quot;: [[[147.89960316085717, -32.24460560526437], [148.10960316085718, -32.24460560526437], [148.10960316085718, -32.03460560526437], [147.89960316085717, -32.03460560526437], [147.89960316085717, -32.24460560526437]]], &quot;type&quot;: &quot;Polygon&quot;}, &quot;id&quot;: &quot;32&quot;, &quot;properties&quot;: {&quot;aoi_code&quot;: &quot;AOI0317&quot;, &quot;cloud_cover&quot;: 54.69, &quot;id&quot;: &quot;2021-08-06&quot;, &quot;percentage_valid_pixels&quot;: 0.7998113131808278, &quot;source&quot;: &quot;landsat&quot;}, &quot;type&quot;: &quot;Feature&quot;}, {&quot;bbox&quot;: [147.89960316085717, -32.24460560526437, 148.10960316085718, -32.03460560526437], &quot;geometry&quot;: {&quot;coordinates&quot;: [[[147.89960316085717, -32.24460560526437], [148.10960316085718, -32.24460560526437], [148.10960316085718, -32.03460560526437], [147.89960316085717, -32.03460560526437], [147.89960316085717, -32.24460560526437]]], &quot;type&quot;: &quot;Polygon&quot;}, &quot;id&quot;: &quot;33&quot;, &quot;properties&quot;: {&quot;aoi_code&quot;: &quot;AOI0317&quot;, &quot;cloud_cover&quot;: 10.8, &quot;id&quot;: &quot;2021-08-22&quot;, &quot;percentage_valid_pixels&quot;: 0.7949012707162757, &quot;source&quot;: &quot;landsat&quot;}, &quot;type&quot;: &quot;Feature&quot;}, {&quot;bbox&quot;: [147.89960316085717, -32.24460560526437, 148.10960316085718, -32.03460560526437], &quot;geometry&quot;: {&quot;coordinates&quot;: [[[147.89960316085717, -32.24460560526437], [148.10960316085718, -32.24460560526437], [148.10960316085718, -32.03460560526437], [147.89960316085717, -32.03460560526437], [147.89960316085717, -32.24460560526437]]], &quot;type&quot;: &quot;Polygon&quot;}, &quot;id&quot;: &quot;34&quot;, &quot;properties&quot;: {&quot;aoi_code&quot;: &quot;AOI0317&quot;, &quot;cloud_cover&quot;: 2.36, &quot;id&quot;: &quot;2021-08-13&quot;, &quot;percentage_valid_pixels&quot;: 1.0, &quot;source&quot;: &quot;landsat&quot;}, &quot;type&quot;: &quot;Feature&quot;}, {&quot;bbox&quot;: [147.89960316085717, -32.24460560526437, 148.10960316085718, -32.03460560526437], &quot;geometry&quot;: {&quot;coordinates&quot;: [[[147.89960316085717, -32.24460560526437], [148.10960316085718, -32.24460560526437], [148.10960316085718, -32.03460560526437], [147.89960316085717, -32.03460560526437], [147.89960316085717, -32.24460560526437]]], &quot;type&quot;: &quot;Polygon&quot;}, &quot;id&quot;: &quot;35&quot;, &quot;properties&quot;: {&quot;aoi_code&quot;: &quot;AOI0317&quot;, &quot;cloud_cover&quot;: 56.97, &quot;id&quot;: &quot;2021-08-29&quot;, &quot;percentage_valid_pixels&quot;: 1.0, &quot;source&quot;: &quot;landsat&quot;}, &quot;type&quot;: &quot;Feature&quot;}, {&quot;bbox&quot;: [148.09960316085716, -32.84460560526438, 148.30960316085716, -32.634605605264376], &quot;geometry&quot;: {&quot;coordinates&quot;: [[[148.09960316085716, -32.84460560526438], [148.30960316085716, -32.84460560526438], [148.30960316085716, -32.634605605264376], [148.09960316085716, -32.634605605264376], [148.09960316085716, -32.84460560526438]]], &quot;type&quot;: &quot;Polygon&quot;}, &quot;id&quot;: &quot;36&quot;, &quot;properties&quot;: {&quot;aoi_code&quot;: &quot;AOI0342&quot;, &quot;cloud_cover&quot;: 88.71, &quot;id&quot;: &quot;2021-08-06&quot;, &quot;percentage_valid_pixels&quot;: 1.0, &quot;source&quot;: &quot;landsat&quot;}, &quot;type&quot;: &quot;Feature&quot;}, {&quot;bbox&quot;: [148.09960316085716, -32.84460560526438, 148.30960316085716, -32.634605605264376], &quot;geometry&quot;: {&quot;coordinates&quot;: [[[148.09960316085716, -32.84460560526438], [148.30960316085716, -32.84460560526438], [148.30960316085716, -32.634605605264376], [148.09960316085716, -32.634605605264376], [148.09960316085716, -32.84460560526438]]], &quot;type&quot;: &quot;Polygon&quot;}, &quot;id&quot;: &quot;37&quot;, &quot;properties&quot;: {&quot;aoi_code&quot;: &quot;AOI0342&quot;, &quot;cloud_cover&quot;: 33.7, &quot;id&quot;: &quot;2021-08-22&quot;, &quot;percentage_valid_pixels&quot;: 1.0, &quot;source&quot;: &quot;landsat&quot;}, &quot;type&quot;: &quot;Feature&quot;}, {&quot;bbox&quot;: [148.09960316085716, -32.84460560526438, 148.30960316085716, -32.634605605264376], &quot;geometry&quot;: {&quot;coordinates&quot;: [[[148.09960316085716, -32.84460560526438], [148.30960316085716, -32.84460560526438], [148.30960316085716, -32.634605605264376], [148.09960316085716, -32.634605605264376], [148.09960316085716, -32.84460560526438]]], &quot;type&quot;: &quot;Polygon&quot;}, &quot;id&quot;: &quot;38&quot;, &quot;properties&quot;: {&quot;aoi_code&quot;: &quot;AOI0342&quot;, &quot;cloud_cover&quot;: 2.36, &quot;id&quot;: &quot;2021-08-13&quot;, &quot;percentage_valid_pixels&quot;: 0.9032720190729233, &quot;source&quot;: &quot;landsat&quot;}, &quot;type&quot;: &quot;Feature&quot;}, {&quot;bbox&quot;: [148.09960316085716, -32.84460560526438, 148.30960316085716, -32.634605605264376], &quot;geometry&quot;: {&quot;coordinates&quot;: [[[148.09960316085716, -32.84460560526438], [148.30960316085716, -32.84460560526438], [148.30960316085716, -32.634605605264376], [148.09960316085716, -32.634605605264376], [148.09960316085716, -32.84460560526438]]], &quot;type&quot;: &quot;Polygon&quot;}, &quot;id&quot;: &quot;39&quot;, &quot;properties&quot;: {&quot;aoi_code&quot;: &quot;AOI0342&quot;, &quot;cloud_cover&quot;: 56.97, &quot;id&quot;: &quot;2021-08-29&quot;, &quot;percentage_valid_pixels&quot;: 0.9112620531308201, &quot;source&quot;: &quot;landsat&quot;}, &quot;type&quot;: &quot;Feature&quot;}, {&quot;bbox&quot;: [148.09960316085716, -32.644605605264374, 148.30960316085716, -32.43460560526437], &quot;geometry&quot;: {&quot;coordinates&quot;: [[[148.09960316085716, -32.644605605264374], [148.30960316085716, -32.644605605264374], [148.30960316085716, -32.43460560526437], [148.09960316085716, -32.43460560526437], [148.09960316085716, -32.644605605264374]]], &quot;type&quot;: &quot;Polygon&quot;}, &quot;id&quot;: &quot;40&quot;, &quot;properties&quot;: {&quot;aoi_code&quot;: &quot;AOI0343&quot;, &quot;cloud_cover&quot;: 54.69, &quot;id&quot;: &quot;2021-08-06&quot;, &quot;percentage_valid_pixels&quot;: 1.0, &quot;source&quot;: &quot;landsat&quot;}, &quot;type&quot;: &quot;Feature&quot;}, {&quot;bbox&quot;: [148.09960316085716, -32.644605605264374, 148.30960316085716, -32.43460560526437], &quot;geometry&quot;: {&quot;coordinates&quot;: [[[148.09960316085716, -32.644605605264374], [148.30960316085716, -32.644605605264374], [148.30960316085716, -32.43460560526437], [148.09960316085716, -32.43460560526437], [148.09960316085716, -32.644605605264374]]], &quot;type&quot;: &quot;Polygon&quot;}, &quot;id&quot;: &quot;41&quot;, &quot;properties&quot;: {&quot;aoi_code&quot;: &quot;AOI0343&quot;, &quot;cloud_cover&quot;: 10.8, &quot;id&quot;: &quot;2021-08-22&quot;, &quot;percentage_valid_pixels&quot;: 1.0, &quot;source&quot;: &quot;landsat&quot;}, &quot;type&quot;: &quot;Feature&quot;}, {&quot;bbox&quot;: [148.09960316085716, -32.644605605264374, 148.30960316085716, -32.43460560526437], &quot;geometry&quot;: {&quot;coordinates&quot;: [[[148.09960316085716, -32.644605605264374], [148.30960316085716, -32.644605605264374], [148.30960316085716, -32.43460560526437], [148.09960316085716, -32.43460560526437], [148.09960316085716, -32.644605605264374]]], &quot;type&quot;: &quot;Polygon&quot;}, &quot;id&quot;: &quot;42&quot;, &quot;properties&quot;: {&quot;aoi_code&quot;: &quot;AOI0343&quot;, &quot;cloud_cover&quot;: 2.36, &quot;id&quot;: &quot;2021-08-13&quot;, &quot;percentage_valid_pixels&quot;: 1.0, &quot;source&quot;: &quot;landsat&quot;}, &quot;type&quot;: &quot;Feature&quot;}, {&quot;bbox&quot;: [148.09960316085716, -32.644605605264374, 148.30960316085716, -32.43460560526437], &quot;geometry&quot;: {&quot;coordinates&quot;: [[[148.09960316085716, -32.644605605264374], [148.30960316085716, -32.644605605264374], [148.30960316085716, -32.43460560526437], [148.09960316085716, -32.43460560526437], [148.09960316085716, -32.644605605264374]]], &quot;type&quot;: &quot;Polygon&quot;}, &quot;id&quot;: &quot;43&quot;, &quot;properties&quot;: {&quot;aoi_code&quot;: &quot;AOI0343&quot;, &quot;cloud_cover&quot;: 56.97, &quot;id&quot;: &quot;2021-08-29&quot;, &quot;percentage_valid_pixels&quot;: 1.0, &quot;source&quot;: &quot;landsat&quot;}, &quot;type&quot;: &quot;Feature&quot;}, {&quot;bbox&quot;: [148.09960316085716, -32.44460560526437, 148.30960316085716, -32.23460560526437], &quot;geometry&quot;: {&quot;coordinates&quot;: [[[148.09960316085716, -32.44460560526437], [148.30960316085716, -32.44460560526437], [148.30960316085716, -32.23460560526437], [148.09960316085716, -32.23460560526437], [148.09960316085716, -32.44460560526437]]], &quot;type&quot;: &quot;Polygon&quot;}, &quot;id&quot;: &quot;44&quot;, &quot;properties&quot;: {&quot;aoi_code&quot;: &quot;AOI0344&quot;, &quot;cloud_cover&quot;: 54.69, &quot;id&quot;: &quot;2021-08-06&quot;, &quot;percentage_valid_pixels&quot;: 1.0, &quot;source&quot;: &quot;landsat&quot;}, &quot;type&quot;: &quot;Feature&quot;}, {&quot;bbox&quot;: [148.09960316085716, -32.44460560526437, 148.30960316085716, -32.23460560526437], &quot;geometry&quot;: {&quot;coordinates&quot;: [[[148.09960316085716, -32.44460560526437], [148.30960316085716, -32.44460560526437], [148.30960316085716, -32.23460560526437], [148.09960316085716, -32.23460560526437], [148.09960316085716, -32.44460560526437]]], &quot;type&quot;: &quot;Polygon&quot;}, &quot;id&quot;: &quot;45&quot;, &quot;properties&quot;: {&quot;aoi_code&quot;: &quot;AOI0344&quot;, &quot;cloud_cover&quot;: 10.8, &quot;id&quot;: &quot;2021-08-22&quot;, &quot;percentage_valid_pixels&quot;: 1.0, &quot;source&quot;: &quot;landsat&quot;}, &quot;type&quot;: &quot;Feature&quot;}, {&quot;bbox&quot;: [148.09960316085716, -32.44460560526437, 148.30960316085716, -32.23460560526437], &quot;geometry&quot;: {&quot;coordinates&quot;: [[[148.09960316085716, -32.44460560526437], [148.30960316085716, -32.44460560526437], [148.30960316085716, -32.23460560526437], [148.09960316085716, -32.23460560526437], [148.09960316085716, -32.44460560526437]]], &quot;type&quot;: &quot;Polygon&quot;}, &quot;id&quot;: &quot;46&quot;, &quot;properties&quot;: {&quot;aoi_code&quot;: &quot;AOI0344&quot;, &quot;cloud_cover&quot;: 2.36, &quot;id&quot;: &quot;2021-08-13&quot;, &quot;percentage_valid_pixels&quot;: 1.0, &quot;source&quot;: &quot;landsat&quot;}, &quot;type&quot;: &quot;Feature&quot;}, {&quot;bbox&quot;: [148.09960316085716, -32.44460560526437, 148.30960316085716, -32.23460560526437], &quot;geometry&quot;: {&quot;coordinates&quot;: [[[148.09960316085716, -32.44460560526437], [148.30960316085716, -32.44460560526437], [148.30960316085716, -32.23460560526437], [148.09960316085716, -32.23460560526437], [148.09960316085716, -32.44460560526437]]], &quot;type&quot;: &quot;Polygon&quot;}, &quot;id&quot;: &quot;47&quot;, &quot;properties&quot;: {&quot;aoi_code&quot;: &quot;AOI0344&quot;, &quot;cloud_cover&quot;: 56.97, &quot;id&quot;: &quot;2021-08-29&quot;, &quot;percentage_valid_pixels&quot;: 1.0, &quot;source&quot;: &quot;landsat&quot;}, &quot;type&quot;: &quot;Feature&quot;}, {&quot;bbox&quot;: [148.09960316085716, -32.24460560526437, 148.30960316085716, -32.03460560526437], &quot;geometry&quot;: {&quot;coordinates&quot;: [[[148.09960316085716, -32.24460560526437], [148.30960316085716, -32.24460560526437], [148.30960316085716, -32.03460560526437], [148.09960316085716, -32.03460560526437], [148.09960316085716, -32.24460560526437]]], &quot;type&quot;: &quot;Polygon&quot;}, &quot;id&quot;: &quot;48&quot;, &quot;properties&quot;: {&quot;aoi_code&quot;: &quot;AOI0368&quot;, &quot;cloud_cover&quot;: 54.69, &quot;id&quot;: &quot;2021-08-06&quot;, &quot;percentage_valid_pixels&quot;: 1.0, &quot;source&quot;: &quot;landsat&quot;}, &quot;type&quot;: &quot;Feature&quot;}, {&quot;bbox&quot;: [148.09960316085716, -32.24460560526437, 148.30960316085716, -32.03460560526437], &quot;geometry&quot;: {&quot;coordinates&quot;: [[[148.09960316085716, -32.24460560526437], [148.30960316085716, -32.24460560526437], [148.30960316085716, -32.03460560526437], [148.09960316085716, -32.03460560526437], [148.09960316085716, -32.24460560526437]]], &quot;type&quot;: &quot;Polygon&quot;}, &quot;id&quot;: &quot;49&quot;, &quot;properties&quot;: {&quot;aoi_code&quot;: &quot;AOI0368&quot;, &quot;cloud_cover&quot;: 10.8, &quot;id&quot;: &quot;2021-08-22&quot;, &quot;percentage_valid_pixels&quot;: 1.0, &quot;source&quot;: &quot;landsat&quot;}, &quot;type&quot;: &quot;Feature&quot;}, {&quot;bbox&quot;: [148.09960316085716, -32.24460560526437, 148.30960316085716, -32.03460560526437], &quot;geometry&quot;: {&quot;coordinates&quot;: [[[148.09960316085716, -32.24460560526437], [148.30960316085716, -32.24460560526437], [148.30960316085716, -32.03460560526437], [148.09960316085716, -32.03460560526437], [148.09960316085716, -32.24460560526437]]], &quot;type&quot;: &quot;Polygon&quot;}, &quot;id&quot;: &quot;50&quot;, &quot;properties&quot;: {&quot;aoi_code&quot;: &quot;AOI0368&quot;, &quot;cloud_cover&quot;: 2.36, &quot;id&quot;: &quot;2021-08-13&quot;, &quot;percentage_valid_pixels&quot;: 1.0, &quot;source&quot;: &quot;landsat&quot;}, &quot;type&quot;: &quot;Feature&quot;}, {&quot;bbox&quot;: [148.09960316085716, -32.24460560526437, 148.30960316085716, -32.03460560526437], &quot;geometry&quot;: {&quot;coordinates&quot;: [[[148.09960316085716, -32.24460560526437], [148.30960316085716, -32.24460560526437], [148.30960316085716, -32.03460560526437], [148.09960316085716, -32.03460560526437], [148.09960316085716, -32.24460560526437]]], &quot;type&quot;: &quot;Polygon&quot;}, &quot;id&quot;: &quot;51&quot;, &quot;properties&quot;: {&quot;aoi_code&quot;: &quot;AOI0368&quot;, &quot;cloud_cover&quot;: 56.97, &quot;id&quot;: &quot;2021-08-29&quot;, &quot;percentage_valid_pixels&quot;: 1.0, &quot;source&quot;: &quot;landsat&quot;}, &quot;type&quot;: &quot;Feature&quot;}, {&quot;bbox&quot;: [148.09960316085716, -32.044605605264366, 148.30960316085716, -31.834605605264365], &quot;geometry&quot;: {&quot;coordinates&quot;: [[[148.09960316085716, -32.044605605264366], [148.30960316085716, -32.044605605264366], [148.30960316085716, -31.834605605264365], [148.09960316085716, -31.834605605264365], [148.09960316085716, -32.044605605264366]]], &quot;type&quot;: &quot;Polygon&quot;}, &quot;id&quot;: &quot;52&quot;, &quot;properties&quot;: {&quot;aoi_code&quot;: &quot;AOI0369&quot;, &quot;cloud_cover&quot;: 54.69, &quot;id&quot;: &quot;2021-08-06&quot;, &quot;percentage_valid_pixels&quot;: 1.0, &quot;source&quot;: &quot;landsat&quot;}, &quot;type&quot;: &quot;Feature&quot;}, {&quot;bbox&quot;: [148.09960316085716, -32.044605605264366, 148.30960316085716, -31.834605605264365], &quot;geometry&quot;: {&quot;coordinates&quot;: [[[148.09960316085716, -32.044605605264366], [148.30960316085716, -32.044605605264366], [148.30960316085716, -31.834605605264365], [148.09960316085716, -31.834605605264365], [148.09960316085716, -32.044605605264366]]], &quot;type&quot;: &quot;Polygon&quot;}, &quot;id&quot;: &quot;53&quot;, &quot;properties&quot;: {&quot;aoi_code&quot;: &quot;AOI0369&quot;, &quot;cloud_cover&quot;: 10.8, &quot;id&quot;: &quot;2021-08-22&quot;, &quot;percentage_valid_pixels&quot;: 1.0, &quot;source&quot;: &quot;landsat&quot;}, &quot;type&quot;: &quot;Feature&quot;}, {&quot;bbox&quot;: [148.09960316085716, -32.044605605264366, 148.30960316085716, -31.834605605264365], &quot;geometry&quot;: {&quot;coordinates&quot;: [[[148.09960316085716, -32.044605605264366], [148.30960316085716, -32.044605605264366], [148.30960316085716, -31.834605605264365], [148.09960316085716, -31.834605605264365], [148.09960316085716, -32.044605605264366]]], &quot;type&quot;: &quot;Polygon&quot;}, &quot;id&quot;: &quot;54&quot;, &quot;properties&quot;: {&quot;aoi_code&quot;: &quot;AOI0369&quot;, &quot;cloud_cover&quot;: 2.36, &quot;id&quot;: &quot;2021-08-13&quot;, &quot;percentage_valid_pixels&quot;: 1.0, &quot;source&quot;: &quot;landsat&quot;}, &quot;type&quot;: &quot;Feature&quot;}, {&quot;bbox&quot;: [148.09960316085716, -32.044605605264366, 148.30960316085716, -31.834605605264365], &quot;geometry&quot;: {&quot;coordinates&quot;: [[[148.09960316085716, -32.044605605264366], [148.30960316085716, -32.044605605264366], [148.30960316085716, -31.834605605264365], [148.09960316085716, -31.834605605264365], [148.09960316085716, -32.044605605264366]]], &quot;type&quot;: &quot;Polygon&quot;}, &quot;id&quot;: &quot;55&quot;, &quot;properties&quot;: {&quot;aoi_code&quot;: &quot;AOI0369&quot;, &quot;cloud_cover&quot;: 56.97, &quot;id&quot;: &quot;2021-08-29&quot;, &quot;percentage_valid_pixels&quot;: 1.0, &quot;source&quot;: &quot;landsat&quot;}, &quot;type&quot;: &quot;Feature&quot;}, {&quot;bbox&quot;: [148.29960316085715, -32.84460560526438, 148.50960316085715, -32.634605605264376], &quot;geometry&quot;: {&quot;coordinates&quot;: [[[148.29960316085715, -32.84460560526438], [148.50960316085715, -32.84460560526438], [148.50960316085715, -32.634605605264376], [148.29960316085715, -32.634605605264376], [148.29960316085715, -32.84460560526438]]], &quot;type&quot;: &quot;Polygon&quot;}, &quot;id&quot;: &quot;56&quot;, &quot;properties&quot;: {&quot;aoi_code&quot;: &quot;AOI0370&quot;, &quot;cloud_cover&quot;: 88.71, &quot;id&quot;: &quot;2021-08-06&quot;, &quot;percentage_valid_pixels&quot;: 1.0, &quot;source&quot;: &quot;landsat&quot;}, &quot;type&quot;: &quot;Feature&quot;}, {&quot;bbox&quot;: [148.29960316085715, -32.84460560526438, 148.50960316085715, -32.634605605264376], &quot;geometry&quot;: {&quot;coordinates&quot;: [[[148.29960316085715, -32.84460560526438], [148.50960316085715, -32.84460560526438], [148.50960316085715, -32.634605605264376], [148.29960316085715, -32.634605605264376], [148.29960316085715, -32.84460560526438]]], &quot;type&quot;: &quot;Polygon&quot;}, &quot;id&quot;: &quot;57&quot;, &quot;properties&quot;: {&quot;aoi_code&quot;: &quot;AOI0370&quot;, &quot;cloud_cover&quot;: 33.7, &quot;id&quot;: &quot;2021-08-22&quot;, &quot;percentage_valid_pixels&quot;: 1.0, &quot;source&quot;: &quot;landsat&quot;}, &quot;type&quot;: &quot;Feature&quot;}, {&quot;bbox&quot;: [148.29960316085715, -32.84460560526438, 148.50960316085715, -32.634605605264376], &quot;geometry&quot;: {&quot;coordinates&quot;: [[[148.29960316085715, -32.84460560526438], [148.50960316085715, -32.84460560526438], [148.50960316085715, -32.634605605264376], [148.29960316085715, -32.634605605264376], [148.29960316085715, -32.84460560526438]]], &quot;type&quot;: &quot;Polygon&quot;}, &quot;id&quot;: &quot;58&quot;, &quot;properties&quot;: {&quot;aoi_code&quot;: &quot;AOI0370&quot;, &quot;cloud_cover&quot;: 2.36, &quot;id&quot;: &quot;2021-08-13&quot;, &quot;percentage_valid_pixels&quot;: 0.013345028801244191, &quot;source&quot;: &quot;landsat&quot;}, &quot;type&quot;: &quot;Feature&quot;}, {&quot;bbox&quot;: [148.29960316085715, -32.84460560526438, 148.50960316085715, -32.634605605264376], &quot;geometry&quot;: {&quot;coordinates&quot;: [[[148.29960316085715, -32.84460560526438], [148.50960316085715, -32.84460560526438], [148.50960316085715, -32.634605605264376], [148.29960316085715, -32.634605605264376], [148.29960316085715, -32.84460560526438]]], &quot;type&quot;: &quot;Polygon&quot;}, &quot;id&quot;: &quot;59&quot;, &quot;properties&quot;: {&quot;aoi_code&quot;: &quot;AOI0370&quot;, &quot;cloud_cover&quot;: 56.97, &quot;id&quot;: &quot;2021-08-29&quot;, &quot;percentage_valid_pixels&quot;: 0.016579717252071212, &quot;source&quot;: &quot;landsat&quot;}, &quot;type&quot;: &quot;Feature&quot;}, {&quot;bbox&quot;: [148.29960316085715, -32.644605605264374, 148.50960316085715, -32.43460560526437], &quot;geometry&quot;: {&quot;coordinates&quot;: [[[148.29960316085715, -32.644605605264374], [148.50960316085715, -32.644605605264374], [148.50960316085715, -32.43460560526437], [148.29960316085715, -32.43460560526437], [148.29960316085715, -32.644605605264374]]], &quot;type&quot;: &quot;Polygon&quot;}, &quot;id&quot;: &quot;60&quot;, &quot;properties&quot;: {&quot;aoi_code&quot;: &quot;AOI0371&quot;, &quot;cloud_cover&quot;: 54.69, &quot;id&quot;: &quot;2021-08-06&quot;, &quot;percentage_valid_pixels&quot;: 1.0, &quot;source&quot;: &quot;landsat&quot;}, &quot;type&quot;: &quot;Feature&quot;}, {&quot;bbox&quot;: [148.29960316085715, -32.644605605264374, 148.50960316085715, -32.43460560526437], &quot;geometry&quot;: {&quot;coordinates&quot;: [[[148.29960316085715, -32.644605605264374], [148.50960316085715, -32.644605605264374], [148.50960316085715, -32.43460560526437], [148.29960316085715, -32.43460560526437], [148.29960316085715, -32.644605605264374]]], &quot;type&quot;: &quot;Polygon&quot;}, &quot;id&quot;: &quot;61&quot;, &quot;properties&quot;: {&quot;aoi_code&quot;: &quot;AOI0371&quot;, &quot;cloud_cover&quot;: 10.8, &quot;id&quot;: &quot;2021-08-22&quot;, &quot;percentage_valid_pixels&quot;: 1.0, &quot;source&quot;: &quot;landsat&quot;}, &quot;type&quot;: &quot;Feature&quot;}, {&quot;bbox&quot;: [148.29960316085715, -32.644605605264374, 148.50960316085715, -32.43460560526437], &quot;geometry&quot;: {&quot;coordinates&quot;: [[[148.29960316085715, -32.644605605264374], [148.50960316085715, -32.644605605264374], [148.50960316085715, -32.43460560526437], [148.29960316085715, -32.43460560526437], [148.29960316085715, -32.644605605264374]]], &quot;type&quot;: &quot;Polygon&quot;}, &quot;id&quot;: &quot;62&quot;, &quot;properties&quot;: {&quot;aoi_code&quot;: &quot;AOI0371&quot;, &quot;cloud_cover&quot;: 2.36, &quot;id&quot;: &quot;2021-08-13&quot;, &quot;percentage_valid_pixels&quot;: 0.20123265678058055, &quot;source&quot;: &quot;landsat&quot;}, &quot;type&quot;: &quot;Feature&quot;}, {&quot;bbox&quot;: [148.29960316085715, -32.644605605264374, 148.50960316085715, -32.43460560526437], &quot;geometry&quot;: {&quot;coordinates&quot;: [[[148.29960316085715, -32.644605605264374], [148.50960316085715, -32.644605605264374], [148.50960316085715, -32.43460560526437], [148.29960316085715, -32.43460560526437], [148.29960316085715, -32.644605605264374]]], &quot;type&quot;: &quot;Polygon&quot;}, &quot;id&quot;: &quot;63&quot;, &quot;properties&quot;: {&quot;aoi_code&quot;: &quot;AOI0371&quot;, &quot;cloud_cover&quot;: 56.97, &quot;id&quot;: &quot;2021-08-29&quot;, &quot;percentage_valid_pixels&quot;: 0.21067583580930083, &quot;source&quot;: &quot;landsat&quot;}, &quot;type&quot;: &quot;Feature&quot;}, {&quot;bbox&quot;: [148.29960316085715, -32.44460560526437, 148.50960316085715, -32.23460560526437], &quot;geometry&quot;: {&quot;coordinates&quot;: [[[148.29960316085715, -32.44460560526437], [148.50960316085715, -32.44460560526437], [148.50960316085715, -32.23460560526437], [148.29960316085715, -32.23460560526437], [148.29960316085715, -32.44460560526437]]], &quot;type&quot;: &quot;Polygon&quot;}, &quot;id&quot;: &quot;64&quot;, &quot;properties&quot;: {&quot;aoi_code&quot;: &quot;AOI0372&quot;, &quot;cloud_cover&quot;: 54.69, &quot;id&quot;: &quot;2021-08-06&quot;, &quot;percentage_valid_pixels&quot;: 1.0, &quot;source&quot;: &quot;landsat&quot;}, &quot;type&quot;: &quot;Feature&quot;}, {&quot;bbox&quot;: [148.29960316085715, -32.44460560526437, 148.50960316085715, -32.23460560526437], &quot;geometry&quot;: {&quot;coordinates&quot;: [[[148.29960316085715, -32.44460560526437], [148.50960316085715, -32.44460560526437], [148.50960316085715, -32.23460560526437], [148.29960316085715, -32.23460560526437], [148.29960316085715, -32.44460560526437]]], &quot;type&quot;: &quot;Polygon&quot;}, &quot;id&quot;: &quot;65&quot;, &quot;properties&quot;: {&quot;aoi_code&quot;: &quot;AOI0372&quot;, &quot;cloud_cover&quot;: 10.8, &quot;id&quot;: &quot;2021-08-22&quot;, &quot;percentage_valid_pixels&quot;: 1.0, &quot;source&quot;: &quot;landsat&quot;}, &quot;type&quot;: &quot;Feature&quot;}, {&quot;bbox&quot;: [148.29960316085715, -32.44460560526437, 148.50960316085715, -32.23460560526437], &quot;geometry&quot;: {&quot;coordinates&quot;: [[[148.29960316085715, -32.44460560526437], [148.50960316085715, -32.44460560526437], [148.50960316085715, -32.23460560526437], [148.29960316085715, -32.23460560526437], [148.29960316085715, -32.44460560526437]]], &quot;type&quot;: &quot;Polygon&quot;}, &quot;id&quot;: &quot;66&quot;, &quot;properties&quot;: {&quot;aoi_code&quot;: &quot;AOI0372&quot;, &quot;cloud_cover&quot;: 2.36, &quot;id&quot;: &quot;2021-08-13&quot;, &quot;percentage_valid_pixels&quot;: 0.4489618492838821, &quot;source&quot;: &quot;landsat&quot;}, &quot;type&quot;: &quot;Feature&quot;}, {&quot;bbox&quot;: [148.29960316085715, -32.44460560526437, 148.50960316085715, -32.23460560526437], &quot;geometry&quot;: {&quot;coordinates&quot;: [[[148.29960316085715, -32.44460560526437], [148.50960316085715, -32.44460560526437], [148.50960316085715, -32.23460560526437], [148.29960316085715, -32.23460560526437], [148.29960316085715, -32.44460560526437]]], &quot;type&quot;: &quot;Polygon&quot;}, &quot;id&quot;: &quot;67&quot;, &quot;properties&quot;: {&quot;aoi_code&quot;: &quot;AOI0372&quot;, &quot;cloud_cover&quot;: 56.97, &quot;id&quot;: &quot;2021-08-29&quot;, &quot;percentage_valid_pixels&quot;: 0.45830793921510465, &quot;source&quot;: &quot;landsat&quot;}, &quot;type&quot;: &quot;Feature&quot;}, {&quot;bbox&quot;: [148.29960316085715, -32.24460560526437, 148.50960316085715, -32.03460560526437], &quot;geometry&quot;: {&quot;coordinates&quot;: [[[148.29960316085715, -32.24460560526437], [148.50960316085715, -32.24460560526437], [148.50960316085715, -32.03460560526437], [148.29960316085715, -32.03460560526437], [148.29960316085715, -32.24460560526437]]], &quot;type&quot;: &quot;Polygon&quot;}, &quot;id&quot;: &quot;68&quot;, &quot;properties&quot;: {&quot;aoi_code&quot;: &quot;AOI0395&quot;, &quot;cloud_cover&quot;: 54.69, &quot;id&quot;: &quot;2021-08-06&quot;, &quot;percentage_valid_pixels&quot;: 1.0, &quot;source&quot;: &quot;landsat&quot;}, &quot;type&quot;: &quot;Feature&quot;}, {&quot;bbox&quot;: [148.29960316085715, -32.24460560526437, 148.50960316085715, -32.03460560526437], &quot;geometry&quot;: {&quot;coordinates&quot;: [[[148.29960316085715, -32.24460560526437], [148.50960316085715, -32.24460560526437], [148.50960316085715, -32.03460560526437], [148.29960316085715, -32.03460560526437], [148.29960316085715, -32.24460560526437]]], &quot;type&quot;: &quot;Polygon&quot;}, &quot;id&quot;: &quot;69&quot;, &quot;properties&quot;: {&quot;aoi_code&quot;: &quot;AOI0395&quot;, &quot;cloud_cover&quot;: 10.8, &quot;id&quot;: &quot;2021-08-22&quot;, &quot;percentage_valid_pixels&quot;: 1.0, &quot;source&quot;: &quot;landsat&quot;}, &quot;type&quot;: &quot;Feature&quot;}, {&quot;bbox&quot;: [148.29960316085715, -32.24460560526437, 148.50960316085715, -32.03460560526437], &quot;geometry&quot;: {&quot;coordinates&quot;: [[[148.29960316085715, -32.24460560526437], [148.50960316085715, -32.24460560526437], [148.50960316085715, -32.03460560526437], [148.29960316085715, -32.03460560526437], [148.29960316085715, -32.24460560526437]]], &quot;type&quot;: &quot;Polygon&quot;}, &quot;id&quot;: &quot;70&quot;, &quot;properties&quot;: {&quot;aoi_code&quot;: &quot;AOI0395&quot;, &quot;cloud_cover&quot;: 2.36, &quot;id&quot;: &quot;2021-08-13&quot;, &quot;percentage_valid_pixels&quot;: 0.6964310038283247, &quot;source&quot;: &quot;landsat&quot;}, &quot;type&quot;: &quot;Feature&quot;}, {&quot;bbox&quot;: [148.29960316085715, -32.24460560526437, 148.50960316085715, -32.03460560526437], &quot;geometry&quot;: {&quot;coordinates&quot;: [[[148.29960316085715, -32.24460560526437], [148.50960316085715, -32.24460560526437], [148.50960316085715, -32.03460560526437], [148.29960316085715, -32.03460560526437], [148.29960316085715, -32.24460560526437]]], &quot;type&quot;: &quot;Polygon&quot;}, &quot;id&quot;: &quot;71&quot;, &quot;properties&quot;: {&quot;aoi_code&quot;: &quot;AOI0395&quot;, &quot;cloud_cover&quot;: 56.97, &quot;id&quot;: &quot;2021-08-29&quot;, &quot;percentage_valid_pixels&quot;: 0.7057773809839122, &quot;source&quot;: &quot;landsat&quot;}, &quot;type&quot;: &quot;Feature&quot;}, {&quot;bbox&quot;: [148.29960316085715, -32.044605605264366, 148.50960316085715, -31.834605605264365], &quot;geometry&quot;: {&quot;coordinates&quot;: [[[148.29960316085715, -32.044605605264366], [148.50960316085715, -32.044605605264366], [148.50960316085715, -31.834605605264365], [148.29960316085715, -31.834605605264365], [148.29960316085715, -32.044605605264366]]], &quot;type&quot;: &quot;Polygon&quot;}, &quot;id&quot;: &quot;72&quot;, &quot;properties&quot;: {&quot;aoi_code&quot;: &quot;AOI0396&quot;, &quot;cloud_cover&quot;: 54.69, &quot;id&quot;: &quot;2021-08-06&quot;, &quot;percentage_valid_pixels&quot;: 1.0, &quot;source&quot;: &quot;landsat&quot;}, &quot;type&quot;: &quot;Feature&quot;}, {&quot;bbox&quot;: [148.29960316085715, -32.044605605264366, 148.50960316085715, -31.834605605264365], &quot;geometry&quot;: {&quot;coordinates&quot;: [[[148.29960316085715, -32.044605605264366], [148.50960316085715, -32.044605605264366], [148.50960316085715, -31.834605605264365], [148.29960316085715, -31.834605605264365], [148.29960316085715, -32.044605605264366]]], &quot;type&quot;: &quot;Polygon&quot;}, &quot;id&quot;: &quot;73&quot;, &quot;properties&quot;: {&quot;aoi_code&quot;: &quot;AOI0396&quot;, &quot;cloud_cover&quot;: 10.8, &quot;id&quot;: &quot;2021-08-22&quot;, &quot;percentage_valid_pixels&quot;: 1.0, &quot;source&quot;: &quot;landsat&quot;}, &quot;type&quot;: &quot;Feature&quot;}, {&quot;bbox&quot;: [148.29960316085715, -32.044605605264366, 148.50960316085715, -31.834605605264365], &quot;geometry&quot;: {&quot;coordinates&quot;: [[[148.29960316085715, -32.044605605264366], [148.50960316085715, -32.044605605264366], [148.50960316085715, -31.834605605264365], [148.29960316085715, -31.834605605264365], [148.29960316085715, -32.044605605264366]]], &quot;type&quot;: &quot;Polygon&quot;}, &quot;id&quot;: &quot;74&quot;, &quot;properties&quot;: {&quot;aoi_code&quot;: &quot;AOI0396&quot;, &quot;cloud_cover&quot;: 2.36, &quot;id&quot;: &quot;2021-08-13&quot;, &quot;percentage_valid_pixels&quot;: 0.9322958197122412, &quot;source&quot;: &quot;landsat&quot;}, &quot;type&quot;: &quot;Feature&quot;}, {&quot;bbox&quot;: [148.29960316085715, -32.044605605264366, 148.50960316085715, -31.834605605264365], &quot;geometry&quot;: {&quot;coordinates&quot;: [[[148.29960316085715, -32.044605605264366], [148.50960316085715, -32.044605605264366], [148.50960316085715, -31.834605605264365], [148.29960316085715, -31.834605605264365], [148.29960316085715, -32.044605605264366]]], &quot;type&quot;: &quot;Polygon&quot;}, &quot;id&quot;: &quot;75&quot;, &quot;properties&quot;: {&quot;aoi_code&quot;: &quot;AOI0396&quot;, &quot;cloud_cover&quot;: 56.97, &quot;id&quot;: &quot;2021-08-29&quot;, &quot;percentage_valid_pixels&quot;: 0.9389630579858181, &quot;source&quot;: &quot;landsat&quot;}, &quot;type&quot;: &quot;Feature&quot;}, {&quot;bbox&quot;: [147.09959654580408, -31.244618412374592, 147.30959654580408, -31.03461841237459], &quot;geometry&quot;: {&quot;coordinates&quot;: [[[147.09959654580408, -31.244618412374592], [147.30959654580408, -31.244618412374592], [147.30959654580408, -31.03461841237459], [147.09959654580408, -31.03461841237459], [147.09959654580408, -31.244618412374592]]], &quot;type&quot;: &quot;Polygon&quot;}, &quot;id&quot;: &quot;76&quot;, &quot;properties&quot;: {&quot;aoi_code&quot;: &quot;AOI01&quot;, &quot;cloud_cover&quot;: 3.0108, &quot;id&quot;: &quot;2021-08-03&quot;, &quot;percentage_valid_pixels&quot;: 1.0, &quot;source&quot;: &quot;s2&quot;}, &quot;type&quot;: &quot;Feature&quot;}, {&quot;bbox&quot;: [147.09959654580408, -31.244618412374592, 147.30959654580408, -31.03461841237459], &quot;geometry&quot;: {&quot;coordinates&quot;: [[[147.09959654580408, -31.244618412374592], [147.30959654580408, -31.244618412374592], [147.30959654580408, -31.03461841237459], [147.09959654580408, -31.03461841237459], [147.09959654580408, -31.244618412374592]]], &quot;type&quot;: &quot;Polygon&quot;}, &quot;id&quot;: &quot;77&quot;, &quot;properties&quot;: {&quot;aoi_code&quot;: &quot;AOI01&quot;, &quot;cloud_cover&quot;: 40.112, &quot;id&quot;: &quot;2021-08-05&quot;, &quot;percentage_valid_pixels&quot;: 1.0, &quot;source&quot;: &quot;s2&quot;}, &quot;type&quot;: &quot;Feature&quot;}, {&quot;bbox&quot;: [147.09959654580408, -31.244618412374592, 147.30959654580408, -31.03461841237459], &quot;geometry&quot;: {&quot;coordinates&quot;: [[[147.09959654580408, -31.244618412374592], [147.30959654580408, -31.244618412374592], [147.30959654580408, -31.03461841237459], [147.09959654580408, -31.03461841237459], [147.09959654580408, -31.244618412374592]]], &quot;type&quot;: &quot;Polygon&quot;}, &quot;id&quot;: &quot;78&quot;, &quot;properties&quot;: {&quot;aoi_code&quot;: &quot;AOI01&quot;, &quot;cloud_cover&quot;: 2.0378, &quot;id&quot;: &quot;2021-08-08&quot;, &quot;percentage_valid_pixels&quot;: 1.0, &quot;source&quot;: &quot;s2&quot;}, &quot;type&quot;: &quot;Feature&quot;}, {&quot;bbox&quot;: [147.09959654580408, -31.244618412374592, 147.30959654580408, -31.03461841237459], &quot;geometry&quot;: {&quot;coordinates&quot;: [[[147.09959654580408, -31.244618412374592], [147.30959654580408, -31.244618412374592], [147.30959654580408, -31.03461841237459], [147.09959654580408, -31.03461841237459], [147.09959654580408, -31.244618412374592]]], &quot;type&quot;: &quot;Polygon&quot;}, &quot;id&quot;: &quot;79&quot;, &quot;properties&quot;: {&quot;aoi_code&quot;: &quot;AOI01&quot;, &quot;cloud_cover&quot;: 0.0, &quot;id&quot;: &quot;2021-08-10&quot;, &quot;percentage_valid_pixels&quot;: 1.0, &quot;source&quot;: &quot;s2&quot;}, &quot;type&quot;: &quot;Feature&quot;}, {&quot;bbox&quot;: [147.09959654580408, -31.244618412374592, 147.30959654580408, -31.03461841237459], &quot;geometry&quot;: {&quot;coordinates&quot;: [[[147.09959654580408, -31.244618412374592], [147.30959654580408, -31.244618412374592], [147.30959654580408, -31.03461841237459], [147.09959654580408, -31.03461841237459], [147.09959654580408, -31.244618412374592]]], &quot;type&quot;: &quot;Polygon&quot;}, &quot;id&quot;: &quot;80&quot;, &quot;properties&quot;: {&quot;aoi_code&quot;: &quot;AOI01&quot;, &quot;cloud_cover&quot;: 0.0281, &quot;id&quot;: &quot;2021-08-13&quot;, &quot;percentage_valid_pixels&quot;: 1.0, &quot;source&quot;: &quot;s2&quot;}, &quot;type&quot;: &quot;Feature&quot;}, {&quot;bbox&quot;: [147.09959654580408, -31.244618412374592, 147.30959654580408, -31.03461841237459], &quot;geometry&quot;: {&quot;coordinates&quot;: [[[147.09959654580408, -31.244618412374592], [147.30959654580408, -31.244618412374592], [147.30959654580408, -31.03461841237459], [147.09959654580408, -31.03461841237459], [147.09959654580408, -31.244618412374592]]], &quot;type&quot;: &quot;Polygon&quot;}, &quot;id&quot;: &quot;81&quot;, &quot;properties&quot;: {&quot;aoi_code&quot;: &quot;AOI01&quot;, &quot;cloud_cover&quot;: 5.4465, &quot;id&quot;: &quot;2021-08-15&quot;, &quot;percentage_valid_pixels&quot;: 1.0, &quot;source&quot;: &quot;s2&quot;}, &quot;type&quot;: &quot;Feature&quot;}, {&quot;bbox&quot;: [147.09959654580408, -31.244618412374592, 147.30959654580408, -31.03461841237459], &quot;geometry&quot;: {&quot;coordinates&quot;: [[[147.09959654580408, -31.244618412374592], [147.30959654580408, -31.244618412374592], [147.30959654580408, -31.03461841237459], [147.09959654580408, -31.03461841237459], [147.09959654580408, -31.244618412374592]]], &quot;type&quot;: &quot;Polygon&quot;}, &quot;id&quot;: &quot;82&quot;, &quot;properties&quot;: {&quot;aoi_code&quot;: &quot;AOI01&quot;, &quot;cloud_cover&quot;: 0.2876, &quot;id&quot;: &quot;2021-08-18&quot;, &quot;percentage_valid_pixels&quot;: 1.0, &quot;source&quot;: &quot;s2&quot;}, &quot;type&quot;: &quot;Feature&quot;}, {&quot;bbox&quot;: [147.09959654580408, -31.244618412374592, 147.30959654580408, -31.03461841237459], &quot;geometry&quot;: {&quot;coordinates&quot;: [[[147.09959654580408, -31.244618412374592], [147.30959654580408, -31.244618412374592], [147.30959654580408, -31.03461841237459], [147.09959654580408, -31.03461841237459], [147.09959654580408, -31.244618412374592]]], &quot;type&quot;: &quot;Polygon&quot;}, &quot;id&quot;: &quot;83&quot;, &quot;properties&quot;: {&quot;aoi_code&quot;: &quot;AOI01&quot;, &quot;cloud_cover&quot;: 0.6071, &quot;id&quot;: &quot;2021-08-20&quot;, &quot;percentage_valid_pixels&quot;: 1.0, &quot;source&quot;: &quot;s2&quot;}, &quot;type&quot;: &quot;Feature&quot;}, {&quot;bbox&quot;: [147.09959654580408, -31.244618412374592, 147.30959654580408, -31.03461841237459], &quot;geometry&quot;: {&quot;coordinates&quot;: [[[147.09959654580408, -31.244618412374592], [147.30959654580408, -31.244618412374592], [147.30959654580408, -31.03461841237459], [147.09959654580408, -31.03461841237459], [147.09959654580408, -31.244618412374592]]], &quot;type&quot;: &quot;Polygon&quot;}, &quot;id&quot;: &quot;84&quot;, &quot;properties&quot;: {&quot;aoi_code&quot;: &quot;AOI01&quot;, &quot;cloud_cover&quot;: 33.5172, &quot;id&quot;: &quot;2021-08-23&quot;, &quot;percentage_valid_pixels&quot;: 1.0, &quot;source&quot;: &quot;s2&quot;}, &quot;type&quot;: &quot;Feature&quot;}, {&quot;bbox&quot;: [147.09959654580408, -31.244618412374592, 147.30959654580408, -31.03461841237459], &quot;geometry&quot;: {&quot;coordinates&quot;: [[[147.09959654580408, -31.244618412374592], [147.30959654580408, -31.244618412374592], [147.30959654580408, -31.03461841237459], [147.09959654580408, -31.03461841237459], [147.09959654580408, -31.244618412374592]]], &quot;type&quot;: &quot;Polygon&quot;}, &quot;id&quot;: &quot;85&quot;, &quot;properties&quot;: {&quot;aoi_code&quot;: &quot;AOI01&quot;, &quot;cloud_cover&quot;: 0.1036, &quot;id&quot;: &quot;2021-08-25&quot;, &quot;percentage_valid_pixels&quot;: 1.0, &quot;source&quot;: &quot;s2&quot;}, &quot;type&quot;: &quot;Feature&quot;}, {&quot;bbox&quot;: [147.09959654580408, -31.244618412374592, 147.30959654580408, -31.03461841237459], &quot;geometry&quot;: {&quot;coordinates&quot;: [[[147.09959654580408, -31.244618412374592], [147.30959654580408, -31.244618412374592], [147.30959654580408, -31.03461841237459], [147.09959654580408, -31.03461841237459], [147.09959654580408, -31.244618412374592]]], &quot;type&quot;: &quot;Polygon&quot;}, &quot;id&quot;: &quot;86&quot;, &quot;properties&quot;: {&quot;aoi_code&quot;: &quot;AOI01&quot;, &quot;cloud_cover&quot;: 0.0, &quot;id&quot;: &quot;2021-08-28&quot;, &quot;percentage_valid_pixels&quot;: 1.0, &quot;source&quot;: &quot;s2&quot;}, &quot;type&quot;: &quot;Feature&quot;}, {&quot;bbox&quot;: [147.09959654580408, -31.244618412374592, 147.30959654580408, -31.03461841237459], &quot;geometry&quot;: {&quot;coordinates&quot;: [[[147.09959654580408, -31.244618412374592], [147.30959654580408, -31.244618412374592], [147.30959654580408, -31.03461841237459], [147.09959654580408, -31.03461841237459], [147.09959654580408, -31.244618412374592]]], &quot;type&quot;: &quot;Polygon&quot;}, &quot;id&quot;: &quot;87&quot;, &quot;properties&quot;: {&quot;aoi_code&quot;: &quot;AOI01&quot;, &quot;cloud_cover&quot;: 97.7998, &quot;id&quot;: &quot;2021-08-30&quot;, &quot;percentage_valid_pixels&quot;: 1.0, &quot;source&quot;: &quot;s2&quot;}, &quot;type&quot;: &quot;Feature&quot;}, {&quot;bbox&quot;: [147.09959654580408, -31.244618412374592, 147.30959654580408, -31.03461841237459], &quot;geometry&quot;: {&quot;coordinates&quot;: [[[147.09959654580408, -31.244618412374592], [147.30959654580408, -31.244618412374592], [147.30959654580408, -31.03461841237459], [147.09959654580408, -31.03461841237459], [147.09959654580408, -31.244618412374592]]], &quot;type&quot;: &quot;Polygon&quot;}, &quot;id&quot;: &quot;88&quot;, &quot;properties&quot;: {&quot;aoi_code&quot;: &quot;AOI01&quot;, &quot;cloud_cover&quot;: 0.0, &quot;id&quot;: &quot;2021-09-02&quot;, &quot;percentage_valid_pixels&quot;: 1.0, &quot;source&quot;: &quot;s2&quot;}, &quot;type&quot;: &quot;Feature&quot;}, {&quot;bbox&quot;: [147.09959654580408, -31.04461841237459, 147.30959654580408, -30.83461841237459], &quot;geometry&quot;: {&quot;coordinates&quot;: [[[147.09959654580408, -31.04461841237459], [147.30959654580408, -31.04461841237459], [147.30959654580408, -30.83461841237459], [147.09959654580408, -30.83461841237459], [147.09959654580408, -31.04461841237459]]], &quot;type&quot;: &quot;Polygon&quot;}, &quot;id&quot;: &quot;89&quot;, &quot;properties&quot;: {&quot;aoi_code&quot;: &quot;AOI01&quot;, &quot;cloud_cover&quot;: 3.0108, &quot;id&quot;: &quot;2021-08-03&quot;, &quot;percentage_valid_pixels&quot;: 1.0, &quot;source&quot;: &quot;s2&quot;}, &quot;type&quot;: &quot;Feature&quot;}, {&quot;bbox&quot;: [147.09959654580408, -31.04461841237459, 147.30959654580408, -30.83461841237459], &quot;geometry&quot;: {&quot;coordinates&quot;: [[[147.09959654580408, -31.04461841237459], [147.30959654580408, -31.04461841237459], [147.30959654580408, -30.83461841237459], [147.09959654580408, -30.83461841237459], [147.09959654580408, -31.04461841237459]]], &quot;type&quot;: &quot;Polygon&quot;}, &quot;id&quot;: &quot;90&quot;, &quot;properties&quot;: {&quot;aoi_code&quot;: &quot;AOI01&quot;, &quot;cloud_cover&quot;: 40.112, &quot;id&quot;: &quot;2021-08-05&quot;, &quot;percentage_valid_pixels&quot;: 1.0, &quot;source&quot;: &quot;s2&quot;}, &quot;type&quot;: &quot;Feature&quot;}, {&quot;bbox&quot;: [147.09959654580408, -31.04461841237459, 147.30959654580408, -30.83461841237459], &quot;geometry&quot;: {&quot;coordinates&quot;: [[[147.09959654580408, -31.04461841237459], [147.30959654580408, -31.04461841237459], [147.30959654580408, -30.83461841237459], [147.09959654580408, -30.83461841237459], [147.09959654580408, -31.04461841237459]]], &quot;type&quot;: &quot;Polygon&quot;}, &quot;id&quot;: &quot;91&quot;, &quot;properties&quot;: {&quot;aoi_code&quot;: &quot;AOI01&quot;, &quot;cloud_cover&quot;: 2.0378, &quot;id&quot;: &quot;2021-08-08&quot;, &quot;percentage_valid_pixels&quot;: 1.0, &quot;source&quot;: &quot;s2&quot;}, &quot;type&quot;: &quot;Feature&quot;}, {&quot;bbox&quot;: [147.09959654580408, -31.04461841237459, 147.30959654580408, -30.83461841237459], &quot;geometry&quot;: {&quot;coordinates&quot;: [[[147.09959654580408, -31.04461841237459], [147.30959654580408, -31.04461841237459], [147.30959654580408, -30.83461841237459], [147.09959654580408, -30.83461841237459], [147.09959654580408, -31.04461841237459]]], &quot;type&quot;: &quot;Polygon&quot;}, &quot;id&quot;: &quot;92&quot;, &quot;properties&quot;: {&quot;aoi_code&quot;: &quot;AOI01&quot;, &quot;cloud_cover&quot;: 0.0, &quot;id&quot;: &quot;2021-08-10&quot;, &quot;percentage_valid_pixels&quot;: 1.0, &quot;source&quot;: &quot;s2&quot;}, &quot;type&quot;: &quot;Feature&quot;}, {&quot;bbox&quot;: [147.09959654580408, -31.04461841237459, 147.30959654580408, -30.83461841237459], &quot;geometry&quot;: {&quot;coordinates&quot;: [[[147.09959654580408, -31.04461841237459], [147.30959654580408, -31.04461841237459], [147.30959654580408, -30.83461841237459], [147.09959654580408, -30.83461841237459], [147.09959654580408, -31.04461841237459]]], &quot;type&quot;: &quot;Polygon&quot;}, &quot;id&quot;: &quot;93&quot;, &quot;properties&quot;: {&quot;aoi_code&quot;: &quot;AOI01&quot;, &quot;cloud_cover&quot;: 0.0281, &quot;id&quot;: &quot;2021-08-13&quot;, &quot;percentage_valid_pixels&quot;: 1.0, &quot;source&quot;: &quot;s2&quot;}, &quot;type&quot;: &quot;Feature&quot;}, {&quot;bbox&quot;: [147.09959654580408, -31.04461841237459, 147.30959654580408, -30.83461841237459], &quot;geometry&quot;: {&quot;coordinates&quot;: [[[147.09959654580408, -31.04461841237459], [147.30959654580408, -31.04461841237459], [147.30959654580408, -30.83461841237459], [147.09959654580408, -30.83461841237459], [147.09959654580408, -31.04461841237459]]], &quot;type&quot;: &quot;Polygon&quot;}, &quot;id&quot;: &quot;94&quot;, &quot;properties&quot;: {&quot;aoi_code&quot;: &quot;AOI01&quot;, &quot;cloud_cover&quot;: 5.4465, &quot;id&quot;: &quot;2021-08-15&quot;, &quot;percentage_valid_pixels&quot;: 1.0, &quot;source&quot;: &quot;s2&quot;}, &quot;type&quot;: &quot;Feature&quot;}, {&quot;bbox&quot;: [147.09959654580408, -31.04461841237459, 147.30959654580408, -30.83461841237459], &quot;geometry&quot;: {&quot;coordinates&quot;: [[[147.09959654580408, -31.04461841237459], [147.30959654580408, -31.04461841237459], [147.30959654580408, -30.83461841237459], [147.09959654580408, -30.83461841237459], [147.09959654580408, -31.04461841237459]]], &quot;type&quot;: &quot;Polygon&quot;}, &quot;id&quot;: &quot;95&quot;, &quot;properties&quot;: {&quot;aoi_code&quot;: &quot;AOI01&quot;, &quot;cloud_cover&quot;: 0.2876, &quot;id&quot;: &quot;2021-08-18&quot;, &quot;percentage_valid_pixels&quot;: 1.0, &quot;source&quot;: &quot;s2&quot;}, &quot;type&quot;: &quot;Feature&quot;}, {&quot;bbox&quot;: [147.09959654580408, -31.04461841237459, 147.30959654580408, -30.83461841237459], &quot;geometry&quot;: {&quot;coordinates&quot;: [[[147.09959654580408, -31.04461841237459], [147.30959654580408, -31.04461841237459], [147.30959654580408, -30.83461841237459], [147.09959654580408, -30.83461841237459], [147.09959654580408, -31.04461841237459]]], &quot;type&quot;: &quot;Polygon&quot;}, &quot;id&quot;: &quot;96&quot;, &quot;properties&quot;: {&quot;aoi_code&quot;: &quot;AOI01&quot;, &quot;cloud_cover&quot;: 0.6071, &quot;id&quot;: &quot;2021-08-20&quot;, &quot;percentage_valid_pixels&quot;: 1.0, &quot;source&quot;: &quot;s2&quot;}, &quot;type&quot;: &quot;Feature&quot;}, {&quot;bbox&quot;: [147.09959654580408, -31.04461841237459, 147.30959654580408, -30.83461841237459], &quot;geometry&quot;: {&quot;coordinates&quot;: [[[147.09959654580408, -31.04461841237459], [147.30959654580408, -31.04461841237459], [147.30959654580408, -30.83461841237459], [147.09959654580408, -30.83461841237459], [147.09959654580408, -31.04461841237459]]], &quot;type&quot;: &quot;Polygon&quot;}, &quot;id&quot;: &quot;97&quot;, &quot;properties&quot;: {&quot;aoi_code&quot;: &quot;AOI01&quot;, &quot;cloud_cover&quot;: 33.5172, &quot;id&quot;: &quot;2021-08-23&quot;, &quot;percentage_valid_pixels&quot;: 1.0, &quot;source&quot;: &quot;s2&quot;}, &quot;type&quot;: &quot;Feature&quot;}, {&quot;bbox&quot;: [147.09959654580408, -31.04461841237459, 147.30959654580408, -30.83461841237459], &quot;geometry&quot;: {&quot;coordinates&quot;: [[[147.09959654580408, -31.04461841237459], [147.30959654580408, -31.04461841237459], [147.30959654580408, -30.83461841237459], [147.09959654580408, -30.83461841237459], [147.09959654580408, -31.04461841237459]]], &quot;type&quot;: &quot;Polygon&quot;}, &quot;id&quot;: &quot;98&quot;, &quot;properties&quot;: {&quot;aoi_code&quot;: &quot;AOI01&quot;, &quot;cloud_cover&quot;: 0.1036, &quot;id&quot;: &quot;2021-08-25&quot;, &quot;percentage_valid_pixels&quot;: 1.0, &quot;source&quot;: &quot;s2&quot;}, &quot;type&quot;: &quot;Feature&quot;}, {&quot;bbox&quot;: [147.09959654580408, -31.04461841237459, 147.30959654580408, -30.83461841237459], &quot;geometry&quot;: {&quot;coordinates&quot;: [[[147.09959654580408, -31.04461841237459], [147.30959654580408, -31.04461841237459], [147.30959654580408, -30.83461841237459], [147.09959654580408, -30.83461841237459], [147.09959654580408, -31.04461841237459]]], &quot;type&quot;: &quot;Polygon&quot;}, &quot;id&quot;: &quot;99&quot;, &quot;properties&quot;: {&quot;aoi_code&quot;: &quot;AOI01&quot;, &quot;cloud_cover&quot;: 0.0, &quot;id&quot;: &quot;2021-08-28&quot;, &quot;percentage_valid_pixels&quot;: 1.0, &quot;source&quot;: &quot;s2&quot;}, &quot;type&quot;: &quot;Feature&quot;}, {&quot;bbox&quot;: [147.09959654580408, -31.04461841237459, 147.30959654580408, -30.83461841237459], &quot;geometry&quot;: {&quot;coordinates&quot;: [[[147.09959654580408, -31.04461841237459], [147.30959654580408, -31.04461841237459], [147.30959654580408, -30.83461841237459], [147.09959654580408, -30.83461841237459], [147.09959654580408, -31.04461841237459]]], &quot;type&quot;: &quot;Polygon&quot;}, &quot;id&quot;: &quot;100&quot;, &quot;properties&quot;: {&quot;aoi_code&quot;: &quot;AOI01&quot;, &quot;cloud_cover&quot;: 97.7998, &quot;id&quot;: &quot;2021-08-30&quot;, &quot;percentage_valid_pixels&quot;: 1.0, &quot;source&quot;: &quot;s2&quot;}, &quot;type&quot;: &quot;Feature&quot;}, {&quot;bbox&quot;: [147.09959654580408, -31.04461841237459, 147.30959654580408, -30.83461841237459], &quot;geometry&quot;: {&quot;coordinates&quot;: [[[147.09959654580408, -31.04461841237459], [147.30959654580408, -31.04461841237459], [147.30959654580408, -30.83461841237459], [147.09959654580408, -30.83461841237459], [147.09959654580408, -31.04461841237459]]], &quot;type&quot;: &quot;Polygon&quot;}, &quot;id&quot;: &quot;101&quot;, &quot;properties&quot;: {&quot;aoi_code&quot;: &quot;AOI01&quot;, &quot;cloud_cover&quot;: 0.0, &quot;id&quot;: &quot;2021-09-02&quot;, &quot;percentage_valid_pixels&quot;: 1.0, &quot;source&quot;: &quot;s2&quot;}, &quot;type&quot;: &quot;Feature&quot;}, {&quot;bbox&quot;: [147.4996031608572, -32.44460560526437, 147.7096031608572, -32.23460560526437], &quot;geometry&quot;: {&quot;coordinates&quot;: [[[147.4996031608572, -32.44460560526437], [147.7096031608572, -32.44460560526437], [147.7096031608572, -32.23460560526437], [147.4996031608572, -32.23460560526437], [147.4996031608572, -32.44460560526437]]], &quot;type&quot;: &quot;Polygon&quot;}, &quot;id&quot;: &quot;102&quot;, &quot;properties&quot;: {&quot;aoi_code&quot;: &quot;AOI02&quot;, &quot;cloud_cover&quot;: 43.652, &quot;id&quot;: &quot;2021-08-05&quot;, &quot;percentage_valid_pixels&quot;: 1.0, &quot;source&quot;: &quot;s2&quot;}, &quot;type&quot;: &quot;Feature&quot;}, {&quot;bbox&quot;: [147.4996031608572, -32.44460560526437, 147.7096031608572, -32.23460560526437], &quot;geometry&quot;: {&quot;coordinates&quot;: [[[147.4996031608572, -32.44460560526437], [147.7096031608572, -32.44460560526437], [147.7096031608572, -32.23460560526437], [147.4996031608572, -32.23460560526437], [147.4996031608572, -32.44460560526437]]], &quot;type&quot;: &quot;Polygon&quot;}, &quot;id&quot;: &quot;103&quot;, &quot;properties&quot;: {&quot;aoi_code&quot;: &quot;AOI02&quot;, &quot;cloud_cover&quot;: 0.0, &quot;id&quot;: &quot;2021-08-10&quot;, &quot;percentage_valid_pixels&quot;: 1.0, &quot;source&quot;: &quot;s2&quot;}, &quot;type&quot;: &quot;Feature&quot;}, {&quot;bbox&quot;: [147.4996031608572, -32.44460560526437, 147.7096031608572, -32.23460560526437], &quot;geometry&quot;: {&quot;coordinates&quot;: [[[147.4996031608572, -32.44460560526437], [147.7096031608572, -32.44460560526437], [147.7096031608572, -32.23460560526437], [147.4996031608572, -32.23460560526437], [147.4996031608572, -32.44460560526437]]], &quot;type&quot;: &quot;Polygon&quot;}, &quot;id&quot;: &quot;104&quot;, &quot;properties&quot;: {&quot;aoi_code&quot;: &quot;AOI02&quot;, &quot;cloud_cover&quot;: 0.0, &quot;id&quot;: &quot;2021-08-15&quot;, &quot;percentage_valid_pixels&quot;: 1.0, &quot;source&quot;: &quot;s2&quot;}, &quot;type&quot;: &quot;Feature&quot;}, {&quot;bbox&quot;: [147.4996031608572, -32.44460560526437, 147.7096031608572, -32.23460560526437], &quot;geometry&quot;: {&quot;coordinates&quot;: [[[147.4996031608572, -32.44460560526437], [147.7096031608572, -32.44460560526437], [147.7096031608572, -32.23460560526437], [147.4996031608572, -32.23460560526437], [147.4996031608572, -32.44460560526437]]], &quot;type&quot;: &quot;Polygon&quot;}, &quot;id&quot;: &quot;105&quot;, &quot;properties&quot;: {&quot;aoi_code&quot;: &quot;AOI02&quot;, &quot;cloud_cover&quot;: 0.0, &quot;id&quot;: &quot;2021-08-20&quot;, &quot;percentage_valid_pixels&quot;: 1.0, &quot;source&quot;: &quot;s2&quot;}, &quot;type&quot;: &quot;Feature&quot;}, {&quot;bbox&quot;: [147.4996031608572, -32.44460560526437, 147.7096031608572, -32.23460560526437], &quot;geometry&quot;: {&quot;coordinates&quot;: [[[147.4996031608572, -32.44460560526437], [147.7096031608572, -32.44460560526437], [147.7096031608572, -32.23460560526437], [147.4996031608572, -32.23460560526437], [147.4996031608572, -32.44460560526437]]], &quot;type&quot;: &quot;Polygon&quot;}, &quot;id&quot;: &quot;106&quot;, &quot;properties&quot;: {&quot;aoi_code&quot;: &quot;AOI02&quot;, &quot;cloud_cover&quot;: 0.1242, &quot;id&quot;: &quot;2021-08-25&quot;, &quot;percentage_valid_pixels&quot;: 1.0, &quot;source&quot;: &quot;s2&quot;}, &quot;type&quot;: &quot;Feature&quot;}, {&quot;bbox&quot;: [147.4996031608572, -32.44460560526437, 147.7096031608572, -32.23460560526437], &quot;geometry&quot;: {&quot;coordinates&quot;: [[[147.4996031608572, -32.44460560526437], [147.7096031608572, -32.44460560526437], [147.7096031608572, -32.23460560526437], [147.4996031608572, -32.23460560526437], [147.4996031608572, -32.44460560526437]]], &quot;type&quot;: &quot;Polygon&quot;}, &quot;id&quot;: &quot;107&quot;, &quot;properties&quot;: {&quot;aoi_code&quot;: &quot;AOI02&quot;, &quot;cloud_cover&quot;: 99.8591, &quot;id&quot;: &quot;2021-08-30&quot;, &quot;percentage_valid_pixels&quot;: 1.0, &quot;source&quot;: &quot;s2&quot;}, &quot;type&quot;: &quot;Feature&quot;}, {&quot;bbox&quot;: [147.4996031608572, -30.444605605264343, 147.7096031608572, -30.234605605264342], &quot;geometry&quot;: {&quot;coordinates&quot;: [[[147.4996031608572, -30.444605605264343], [147.7096031608572, -30.444605605264343], [147.7096031608572, -30.234605605264342], [147.4996031608572, -30.234605605264342], [147.4996031608572, -30.444605605264343]]], &quot;type&quot;: &quot;Polygon&quot;}, &quot;id&quot;: &quot;108&quot;, &quot;properties&quot;: {&quot;aoi_code&quot;: &quot;AOI02&quot;, &quot;cloud_cover&quot;: 0.0103, &quot;id&quot;: &quot;2021-08-03&quot;, &quot;percentage_valid_pixels&quot;: 1.0, &quot;source&quot;: &quot;s2&quot;}, &quot;type&quot;: &quot;Feature&quot;}, {&quot;bbox&quot;: [147.4996031608572, -30.444605605264343, 147.7096031608572, -30.234605605264342], &quot;geometry&quot;: {&quot;coordinates&quot;: [[[147.4996031608572, -30.444605605264343], [147.7096031608572, -30.444605605264343], [147.7096031608572, -30.234605605264342], [147.4996031608572, -30.234605605264342], [147.4996031608572, -30.444605605264343]]], &quot;type&quot;: &quot;Polygon&quot;}, &quot;id&quot;: &quot;109&quot;, &quot;properties&quot;: {&quot;aoi_code&quot;: &quot;AOI02&quot;, &quot;cloud_cover&quot;: 0.681, &quot;id&quot;: &quot;2021-08-05&quot;, &quot;percentage_valid_pixels&quot;: 1.0, &quot;source&quot;: &quot;s2&quot;}, &quot;type&quot;: &quot;Feature&quot;}, {&quot;bbox&quot;: [147.4996031608572, -30.444605605264343, 147.7096031608572, -30.234605605264342], &quot;geometry&quot;: {&quot;coordinates&quot;: [[[147.4996031608572, -30.444605605264343], [147.7096031608572, -30.444605605264343], [147.7096031608572, -30.234605605264342], [147.4996031608572, -30.234605605264342], [147.4996031608572, -30.444605605264343]]], &quot;type&quot;: &quot;Polygon&quot;}, &quot;id&quot;: &quot;110&quot;, &quot;properties&quot;: {&quot;aoi_code&quot;: &quot;AOI02&quot;, &quot;cloud_cover&quot;: 0.0384, &quot;id&quot;: &quot;2021-08-08&quot;, &quot;percentage_valid_pixels&quot;: 1.0, &quot;source&quot;: &quot;s2&quot;}, &quot;type&quot;: &quot;Feature&quot;}, {&quot;bbox&quot;: [147.4996031608572, -30.444605605264343, 147.7096031608572, -30.234605605264342], &quot;geometry&quot;: {&quot;coordinates&quot;: [[[147.4996031608572, -30.444605605264343], [147.7096031608572, -30.444605605264343], [147.7096031608572, -30.234605605264342], [147.4996031608572, -30.234605605264342], [147.4996031608572, -30.444605605264343]]], &quot;type&quot;: &quot;Polygon&quot;}, &quot;id&quot;: &quot;111&quot;, &quot;properties&quot;: {&quot;aoi_code&quot;: &quot;AOI02&quot;, &quot;cloud_cover&quot;: 3.6523, &quot;id&quot;: &quot;2021-08-10&quot;, &quot;percentage_valid_pixels&quot;: 1.0, &quot;source&quot;: &quot;s2&quot;}, &quot;type&quot;: &quot;Feature&quot;}, {&quot;bbox&quot;: [147.4996031608572, -30.444605605264343, 147.7096031608572, -30.234605605264342], &quot;geometry&quot;: {&quot;coordinates&quot;: [[[147.4996031608572, -30.444605605264343], [147.7096031608572, -30.444605605264343], [147.7096031608572, -30.234605605264342], [147.4996031608572, -30.234605605264342], [147.4996031608572, -30.444605605264343]]], &quot;type&quot;: &quot;Polygon&quot;}, &quot;id&quot;: &quot;112&quot;, &quot;properties&quot;: {&quot;aoi_code&quot;: &quot;AOI02&quot;, &quot;cloud_cover&quot;: 0.0, &quot;id&quot;: &quot;2021-08-13&quot;, &quot;percentage_valid_pixels&quot;: 1.0, &quot;source&quot;: &quot;s2&quot;}, &quot;type&quot;: &quot;Feature&quot;}, {&quot;bbox&quot;: [147.4996031608572, -30.444605605264343, 147.7096031608572, -30.234605605264342], &quot;geometry&quot;: {&quot;coordinates&quot;: [[[147.4996031608572, -30.444605605264343], [147.7096031608572, -30.444605605264343], [147.7096031608572, -30.234605605264342], [147.4996031608572, -30.234605605264342], [147.4996031608572, -30.444605605264343]]], &quot;type&quot;: &quot;Polygon&quot;}, &quot;id&quot;: &quot;113&quot;, &quot;properties&quot;: {&quot;aoi_code&quot;: &quot;AOI02&quot;, &quot;cloud_cover&quot;: 5.092, &quot;id&quot;: &quot;2021-08-15&quot;, &quot;percentage_valid_pixels&quot;: 1.0, &quot;source&quot;: &quot;s2&quot;}, &quot;type&quot;: &quot;Feature&quot;}, {&quot;bbox&quot;: [147.4996031608572, -30.444605605264343, 147.7096031608572, -30.234605605264342], &quot;geometry&quot;: {&quot;coordinates&quot;: [[[147.4996031608572, -30.444605605264343], [147.7096031608572, -30.444605605264343], [147.7096031608572, -30.234605605264342], [147.4996031608572, -30.234605605264342], [147.4996031608572, -30.444605605264343]]], &quot;type&quot;: &quot;Polygon&quot;}, &quot;id&quot;: &quot;114&quot;, &quot;properties&quot;: {&quot;aoi_code&quot;: &quot;AOI02&quot;, &quot;cloud_cover&quot;: 0.0, &quot;id&quot;: &quot;2021-08-18&quot;, &quot;percentage_valid_pixels&quot;: 1.0, &quot;source&quot;: &quot;s2&quot;}, &quot;type&quot;: &quot;Feature&quot;}, {&quot;bbox&quot;: [147.4996031608572, -30.444605605264343, 147.7096031608572, -30.234605605264342], &quot;geometry&quot;: {&quot;coordinates&quot;: [[[147.4996031608572, -30.444605605264343], [147.7096031608572, -30.444605605264343], [147.7096031608572, -30.234605605264342], [147.4996031608572, -30.234605605264342], [147.4996031608572, -30.444605605264343]]], &quot;type&quot;: &quot;Polygon&quot;}, &quot;id&quot;: &quot;115&quot;, &quot;properties&quot;: {&quot;aoi_code&quot;: &quot;AOI02&quot;, &quot;cloud_cover&quot;: 0.2147, &quot;id&quot;: &quot;2021-08-20&quot;, &quot;percentage_valid_pixels&quot;: 1.0, &quot;source&quot;: &quot;s2&quot;}, &quot;type&quot;: &quot;Feature&quot;}, {&quot;bbox&quot;: [147.4996031608572, -30.444605605264343, 147.7096031608572, -30.234605605264342], &quot;geometry&quot;: {&quot;coordinates&quot;: [[[147.4996031608572, -30.444605605264343], [147.7096031608572, -30.444605605264343], [147.7096031608572, -30.234605605264342], [147.4996031608572, -30.234605605264342], [147.4996031608572, -30.444605605264343]]], &quot;type&quot;: &quot;Polygon&quot;}, &quot;id&quot;: &quot;116&quot;, &quot;properties&quot;: {&quot;aoi_code&quot;: &quot;AOI02&quot;, &quot;cloud_cover&quot;: 46.9633, &quot;id&quot;: &quot;2021-08-23&quot;, &quot;percentage_valid_pixels&quot;: 1.0, &quot;source&quot;: &quot;s2&quot;}, &quot;type&quot;: &quot;Feature&quot;}, {&quot;bbox&quot;: [147.4996031608572, -30.444605605264343, 147.7096031608572, -30.234605605264342], &quot;geometry&quot;: {&quot;coordinates&quot;: [[[147.4996031608572, -30.444605605264343], [147.7096031608572, -30.444605605264343], [147.7096031608572, -30.234605605264342], [147.4996031608572, -30.234605605264342], [147.4996031608572, -30.444605605264343]]], &quot;type&quot;: &quot;Polygon&quot;}, &quot;id&quot;: &quot;117&quot;, &quot;properties&quot;: {&quot;aoi_code&quot;: &quot;AOI02&quot;, &quot;cloud_cover&quot;: 0.0, &quot;id&quot;: &quot;2021-08-25&quot;, &quot;percentage_valid_pixels&quot;: 1.0, &quot;source&quot;: &quot;s2&quot;}, &quot;type&quot;: &quot;Feature&quot;}, {&quot;bbox&quot;: [147.4996031608572, -30.444605605264343, 147.7096031608572, -30.234605605264342], &quot;geometry&quot;: {&quot;coordinates&quot;: [[[147.4996031608572, -30.444605605264343], [147.7096031608572, -30.444605605264343], [147.7096031608572, -30.234605605264342], [147.4996031608572, -30.234605605264342], [147.4996031608572, -30.444605605264343]]], &quot;type&quot;: &quot;Polygon&quot;}, &quot;id&quot;: &quot;118&quot;, &quot;properties&quot;: {&quot;aoi_code&quot;: &quot;AOI02&quot;, &quot;cloud_cover&quot;: 0.0, &quot;id&quot;: &quot;2021-08-28&quot;, &quot;percentage_valid_pixels&quot;: 1.0, &quot;source&quot;: &quot;s2&quot;}, &quot;type&quot;: &quot;Feature&quot;}, {&quot;bbox&quot;: [147.4996031608572, -30.444605605264343, 147.7096031608572, -30.234605605264342], &quot;geometry&quot;: {&quot;coordinates&quot;: [[[147.4996031608572, -30.444605605264343], [147.7096031608572, -30.444605605264343], [147.7096031608572, -30.234605605264342], [147.4996031608572, -30.234605605264342], [147.4996031608572, -30.444605605264343]]], &quot;type&quot;: &quot;Polygon&quot;}, &quot;id&quot;: &quot;119&quot;, &quot;properties&quot;: {&quot;aoi_code&quot;: &quot;AOI02&quot;, &quot;cloud_cover&quot;: 33.2153, &quot;id&quot;: &quot;2021-08-30&quot;, &quot;percentage_valid_pixels&quot;: 1.0, &quot;source&quot;: &quot;s2&quot;}, &quot;type&quot;: &quot;Feature&quot;}, {&quot;bbox&quot;: [147.4996031608572, -30.444605605264343, 147.7096031608572, -30.234605605264342], &quot;geometry&quot;: {&quot;coordinates&quot;: [[[147.4996031608572, -30.444605605264343], [147.7096031608572, -30.444605605264343], [147.7096031608572, -30.234605605264342], [147.4996031608572, -30.234605605264342], [147.4996031608572, -30.444605605264343]]], &quot;type&quot;: &quot;Polygon&quot;}, &quot;id&quot;: &quot;120&quot;, &quot;properties&quot;: {&quot;aoi_code&quot;: &quot;AOI02&quot;, &quot;cloud_cover&quot;: 0.0, &quot;id&quot;: &quot;2021-09-02&quot;, &quot;percentage_valid_pixels&quot;: 1.0, &quot;source&quot;: &quot;s2&quot;}, &quot;type&quot;: &quot;Feature&quot;}, {&quot;bbox&quot;: [147.09959654580408, -30.844618412374587, 147.30959654580408, -30.634618412374586], &quot;geometry&quot;: {&quot;coordinates&quot;: [[[147.09959654580408, -30.844618412374587], [147.30959654580408, -30.844618412374587], [147.30959654580408, -30.634618412374586], [147.09959654580408, -30.634618412374586], [147.09959654580408, -30.844618412374587]]], &quot;type&quot;: &quot;Polygon&quot;}, &quot;id&quot;: &quot;121&quot;, &quot;properties&quot;: {&quot;aoi_code&quot;: &quot;AOI0289&quot;, &quot;cloud_cover&quot;: 3.0108, &quot;id&quot;: &quot;2021-08-03&quot;, &quot;percentage_valid_pixels&quot;: 1.0, &quot;source&quot;: &quot;s2&quot;}, &quot;type&quot;: &quot;Feature&quot;}, {&quot;bbox&quot;: [147.09959654580408, -30.844618412374587, 147.30959654580408, -30.634618412374586], &quot;geometry&quot;: {&quot;coordinates&quot;: [[[147.09959654580408, -30.844618412374587], [147.30959654580408, -30.844618412374587], [147.30959654580408, -30.634618412374586], [147.09959654580408, -30.634618412374586], [147.09959654580408, -30.844618412374587]]], &quot;type&quot;: &quot;Polygon&quot;}, &quot;id&quot;: &quot;122&quot;, &quot;properties&quot;: {&quot;aoi_code&quot;: &quot;AOI0289&quot;, &quot;cloud_cover&quot;: 40.112, &quot;id&quot;: &quot;2021-08-05&quot;, &quot;percentage_valid_pixels&quot;: 1.0, &quot;source&quot;: &quot;s2&quot;}, &quot;type&quot;: &quot;Feature&quot;}, {&quot;bbox&quot;: [147.09959654580408, -30.844618412374587, 147.30959654580408, -30.634618412374586], &quot;geometry&quot;: {&quot;coordinates&quot;: [[[147.09959654580408, -30.844618412374587], [147.30959654580408, -30.844618412374587], [147.30959654580408, -30.634618412374586], [147.09959654580408, -30.634618412374586], [147.09959654580408, -30.844618412374587]]], &quot;type&quot;: &quot;Polygon&quot;}, &quot;id&quot;: &quot;123&quot;, &quot;properties&quot;: {&quot;aoi_code&quot;: &quot;AOI0289&quot;, &quot;cloud_cover&quot;: 2.0378, &quot;id&quot;: &quot;2021-08-08&quot;, &quot;percentage_valid_pixels&quot;: 1.0, &quot;source&quot;: &quot;s2&quot;}, &quot;type&quot;: &quot;Feature&quot;}, {&quot;bbox&quot;: [147.09959654580408, -30.844618412374587, 147.30959654580408, -30.634618412374586], &quot;geometry&quot;: {&quot;coordinates&quot;: [[[147.09959654580408, -30.844618412374587], [147.30959654580408, -30.844618412374587], [147.30959654580408, -30.634618412374586], [147.09959654580408, -30.634618412374586], [147.09959654580408, -30.844618412374587]]], &quot;type&quot;: &quot;Polygon&quot;}, &quot;id&quot;: &quot;124&quot;, &quot;properties&quot;: {&quot;aoi_code&quot;: &quot;AOI0289&quot;, &quot;cloud_cover&quot;: 0.0, &quot;id&quot;: &quot;2021-08-10&quot;, &quot;percentage_valid_pixels&quot;: 1.0, &quot;source&quot;: &quot;s2&quot;}, &quot;type&quot;: &quot;Feature&quot;}, {&quot;bbox&quot;: [147.09959654580408, -30.844618412374587, 147.30959654580408, -30.634618412374586], &quot;geometry&quot;: {&quot;coordinates&quot;: [[[147.09959654580408, -30.844618412374587], [147.30959654580408, -30.844618412374587], [147.30959654580408, -30.634618412374586], [147.09959654580408, -30.634618412374586], [147.09959654580408, -30.844618412374587]]], &quot;type&quot;: &quot;Polygon&quot;}, &quot;id&quot;: &quot;125&quot;, &quot;properties&quot;: {&quot;aoi_code&quot;: &quot;AOI0289&quot;, &quot;cloud_cover&quot;: 0.0281, &quot;id&quot;: &quot;2021-08-13&quot;, &quot;percentage_valid_pixels&quot;: 1.0, &quot;source&quot;: &quot;s2&quot;}, &quot;type&quot;: &quot;Feature&quot;}, {&quot;bbox&quot;: [147.09959654580408, -30.844618412374587, 147.30959654580408, -30.634618412374586], &quot;geometry&quot;: {&quot;coordinates&quot;: [[[147.09959654580408, -30.844618412374587], [147.30959654580408, -30.844618412374587], [147.30959654580408, -30.634618412374586], [147.09959654580408, -30.634618412374586], [147.09959654580408, -30.844618412374587]]], &quot;type&quot;: &quot;Polygon&quot;}, &quot;id&quot;: &quot;126&quot;, &quot;properties&quot;: {&quot;aoi_code&quot;: &quot;AOI0289&quot;, &quot;cloud_cover&quot;: 5.4465, &quot;id&quot;: &quot;2021-08-15&quot;, &quot;percentage_valid_pixels&quot;: 1.0, &quot;source&quot;: &quot;s2&quot;}, &quot;type&quot;: &quot;Feature&quot;}, {&quot;bbox&quot;: [147.09959654580408, -30.844618412374587, 147.30959654580408, -30.634618412374586], &quot;geometry&quot;: {&quot;coordinates&quot;: [[[147.09959654580408, -30.844618412374587], [147.30959654580408, -30.844618412374587], [147.30959654580408, -30.634618412374586], [147.09959654580408, -30.634618412374586], [147.09959654580408, -30.844618412374587]]], &quot;type&quot;: &quot;Polygon&quot;}, &quot;id&quot;: &quot;127&quot;, &quot;properties&quot;: {&quot;aoi_code&quot;: &quot;AOI0289&quot;, &quot;cloud_cover&quot;: 0.2876, &quot;id&quot;: &quot;2021-08-18&quot;, &quot;percentage_valid_pixels&quot;: 1.0, &quot;source&quot;: &quot;s2&quot;}, &quot;type&quot;: &quot;Feature&quot;}, {&quot;bbox&quot;: [147.09959654580408, -30.844618412374587, 147.30959654580408, -30.634618412374586], &quot;geometry&quot;: {&quot;coordinates&quot;: [[[147.09959654580408, -30.844618412374587], [147.30959654580408, -30.844618412374587], [147.30959654580408, -30.634618412374586], [147.09959654580408, -30.634618412374586], [147.09959654580408, -30.844618412374587]]], &quot;type&quot;: &quot;Polygon&quot;}, &quot;id&quot;: &quot;128&quot;, &quot;properties&quot;: {&quot;aoi_code&quot;: &quot;AOI0289&quot;, &quot;cloud_cover&quot;: 0.6071, &quot;id&quot;: &quot;2021-08-20&quot;, &quot;percentage_valid_pixels&quot;: 1.0, &quot;source&quot;: &quot;s2&quot;}, &quot;type&quot;: &quot;Feature&quot;}, {&quot;bbox&quot;: [147.09959654580408, -30.844618412374587, 147.30959654580408, -30.634618412374586], &quot;geometry&quot;: {&quot;coordinates&quot;: [[[147.09959654580408, -30.844618412374587], [147.30959654580408, -30.844618412374587], [147.30959654580408, -30.634618412374586], [147.09959654580408, -30.634618412374586], [147.09959654580408, -30.844618412374587]]], &quot;type&quot;: &quot;Polygon&quot;}, &quot;id&quot;: &quot;129&quot;, &quot;properties&quot;: {&quot;aoi_code&quot;: &quot;AOI0289&quot;, &quot;cloud_cover&quot;: 33.5172, &quot;id&quot;: &quot;2021-08-23&quot;, &quot;percentage_valid_pixels&quot;: 1.0, &quot;source&quot;: &quot;s2&quot;}, &quot;type&quot;: &quot;Feature&quot;}, {&quot;bbox&quot;: [147.09959654580408, -30.844618412374587, 147.30959654580408, -30.634618412374586], &quot;geometry&quot;: {&quot;coordinates&quot;: [[[147.09959654580408, -30.844618412374587], [147.30959654580408, -30.844618412374587], [147.30959654580408, -30.634618412374586], [147.09959654580408, -30.634618412374586], [147.09959654580408, -30.844618412374587]]], &quot;type&quot;: &quot;Polygon&quot;}, &quot;id&quot;: &quot;130&quot;, &quot;properties&quot;: {&quot;aoi_code&quot;: &quot;AOI0289&quot;, &quot;cloud_cover&quot;: 0.1036, &quot;id&quot;: &quot;2021-08-25&quot;, &quot;percentage_valid_pixels&quot;: 1.0, &quot;source&quot;: &quot;s2&quot;}, &quot;type&quot;: &quot;Feature&quot;}, {&quot;bbox&quot;: [147.09959654580408, -30.844618412374587, 147.30959654580408, -30.634618412374586], &quot;geometry&quot;: {&quot;coordinates&quot;: [[[147.09959654580408, -30.844618412374587], [147.30959654580408, -30.844618412374587], [147.30959654580408, -30.634618412374586], [147.09959654580408, -30.634618412374586], [147.09959654580408, -30.844618412374587]]], &quot;type&quot;: &quot;Polygon&quot;}, &quot;id&quot;: &quot;131&quot;, &quot;properties&quot;: {&quot;aoi_code&quot;: &quot;AOI0289&quot;, &quot;cloud_cover&quot;: 0.0, &quot;id&quot;: &quot;2021-08-28&quot;, &quot;percentage_valid_pixels&quot;: 1.0, &quot;source&quot;: &quot;s2&quot;}, &quot;type&quot;: &quot;Feature&quot;}, {&quot;bbox&quot;: [147.09959654580408, -30.844618412374587, 147.30959654580408, -30.634618412374586], &quot;geometry&quot;: {&quot;coordinates&quot;: [[[147.09959654580408, -30.844618412374587], [147.30959654580408, -30.844618412374587], [147.30959654580408, -30.634618412374586], [147.09959654580408, -30.634618412374586], [147.09959654580408, -30.844618412374587]]], &quot;type&quot;: &quot;Polygon&quot;}, &quot;id&quot;: &quot;132&quot;, &quot;properties&quot;: {&quot;aoi_code&quot;: &quot;AOI0289&quot;, &quot;cloud_cover&quot;: 97.7998, &quot;id&quot;: &quot;2021-08-30&quot;, &quot;percentage_valid_pixels&quot;: 1.0, &quot;source&quot;: &quot;s2&quot;}, &quot;type&quot;: &quot;Feature&quot;}, {&quot;bbox&quot;: [147.09959654580408, -30.844618412374587, 147.30959654580408, -30.634618412374586], &quot;geometry&quot;: {&quot;coordinates&quot;: [[[147.09959654580408, -30.844618412374587], [147.30959654580408, -30.844618412374587], [147.30959654580408, -30.634618412374586], [147.09959654580408, -30.634618412374586], [147.09959654580408, -30.844618412374587]]], &quot;type&quot;: &quot;Polygon&quot;}, &quot;id&quot;: &quot;133&quot;, &quot;properties&quot;: {&quot;aoi_code&quot;: &quot;AOI0289&quot;, &quot;cloud_cover&quot;: 0.0, &quot;id&quot;: &quot;2021-09-02&quot;, &quot;percentage_valid_pixels&quot;: 1.0, &quot;source&quot;: &quot;s2&quot;}, &quot;type&quot;: &quot;Feature&quot;}, {&quot;bbox&quot;: [147.69960316085718, -32.44460560526437, 147.9096031608572, -32.23460560526437], &quot;geometry&quot;: {&quot;coordinates&quot;: [[[147.69960316085718, -32.44460560526437], [147.9096031608572, -32.44460560526437], [147.9096031608572, -32.23460560526437], [147.69960316085718, -32.23460560526437], [147.69960316085718, -32.44460560526437]]], &quot;type&quot;: &quot;Polygon&quot;}, &quot;id&quot;: &quot;134&quot;, &quot;properties&quot;: {&quot;aoi_code&quot;: &quot;AOI0299&quot;, &quot;cloud_cover&quot;: 43.652, &quot;id&quot;: &quot;2021-08-05&quot;, &quot;percentage_valid_pixels&quot;: 1.0, &quot;source&quot;: &quot;s2&quot;}, &quot;type&quot;: &quot;Feature&quot;}, {&quot;bbox&quot;: [147.69960316085718, -32.44460560526437, 147.9096031608572, -32.23460560526437], &quot;geometry&quot;: {&quot;coordinates&quot;: [[[147.69960316085718, -32.44460560526437], [147.9096031608572, -32.44460560526437], [147.9096031608572, -32.23460560526437], [147.69960316085718, -32.23460560526437], [147.69960316085718, -32.44460560526437]]], &quot;type&quot;: &quot;Polygon&quot;}, &quot;id&quot;: &quot;135&quot;, &quot;properties&quot;: {&quot;aoi_code&quot;: &quot;AOI0299&quot;, &quot;cloud_cover&quot;: 0.0, &quot;id&quot;: &quot;2021-08-10&quot;, &quot;percentage_valid_pixels&quot;: 1.0, &quot;source&quot;: &quot;s2&quot;}, &quot;type&quot;: &quot;Feature&quot;}, {&quot;bbox&quot;: [147.69960316085718, -32.44460560526437, 147.9096031608572, -32.23460560526437], &quot;geometry&quot;: {&quot;coordinates&quot;: [[[147.69960316085718, -32.44460560526437], [147.9096031608572, -32.44460560526437], [147.9096031608572, -32.23460560526437], [147.69960316085718, -32.23460560526437], [147.69960316085718, -32.44460560526437]]], &quot;type&quot;: &quot;Polygon&quot;}, &quot;id&quot;: &quot;136&quot;, &quot;properties&quot;: {&quot;aoi_code&quot;: &quot;AOI0299&quot;, &quot;cloud_cover&quot;: 0.0, &quot;id&quot;: &quot;2021-08-15&quot;, &quot;percentage_valid_pixels&quot;: 1.0, &quot;source&quot;: &quot;s2&quot;}, &quot;type&quot;: &quot;Feature&quot;}, {&quot;bbox&quot;: [147.69960316085718, -32.44460560526437, 147.9096031608572, -32.23460560526437], &quot;geometry&quot;: {&quot;coordinates&quot;: [[[147.69960316085718, -32.44460560526437], [147.9096031608572, -32.44460560526437], [147.9096031608572, -32.23460560526437], [147.69960316085718, -32.23460560526437], [147.69960316085718, -32.44460560526437]]], &quot;type&quot;: &quot;Polygon&quot;}, &quot;id&quot;: &quot;137&quot;, &quot;properties&quot;: {&quot;aoi_code&quot;: &quot;AOI0299&quot;, &quot;cloud_cover&quot;: 0.0, &quot;id&quot;: &quot;2021-08-20&quot;, &quot;percentage_valid_pixels&quot;: 1.0, &quot;source&quot;: &quot;s2&quot;}, &quot;type&quot;: &quot;Feature&quot;}, {&quot;bbox&quot;: [147.69960316085718, -32.44460560526437, 147.9096031608572, -32.23460560526437], &quot;geometry&quot;: {&quot;coordinates&quot;: [[[147.69960316085718, -32.44460560526437], [147.9096031608572, -32.44460560526437], [147.9096031608572, -32.23460560526437], [147.69960316085718, -32.23460560526437], [147.69960316085718, -32.44460560526437]]], &quot;type&quot;: &quot;Polygon&quot;}, &quot;id&quot;: &quot;138&quot;, &quot;properties&quot;: {&quot;aoi_code&quot;: &quot;AOI0299&quot;, &quot;cloud_cover&quot;: 0.1242, &quot;id&quot;: &quot;2021-08-25&quot;, &quot;percentage_valid_pixels&quot;: 1.0, &quot;source&quot;: &quot;s2&quot;}, &quot;type&quot;: &quot;Feature&quot;}, {&quot;bbox&quot;: [147.69960316085718, -32.44460560526437, 147.9096031608572, -32.23460560526437], &quot;geometry&quot;: {&quot;coordinates&quot;: [[[147.69960316085718, -32.44460560526437], [147.9096031608572, -32.44460560526437], [147.9096031608572, -32.23460560526437], [147.69960316085718, -32.23460560526437], [147.69960316085718, -32.44460560526437]]], &quot;type&quot;: &quot;Polygon&quot;}, &quot;id&quot;: &quot;139&quot;, &quot;properties&quot;: {&quot;aoi_code&quot;: &quot;AOI0299&quot;, &quot;cloud_cover&quot;: 99.8591, &quot;id&quot;: &quot;2021-08-30&quot;, &quot;percentage_valid_pixels&quot;: 1.0, &quot;source&quot;: &quot;s2&quot;}, &quot;type&quot;: &quot;Feature&quot;}, {&quot;bbox&quot;: [147.69960316085718, -32.24460560526437, 147.9096031608572, -32.03460560526437], &quot;geometry&quot;: {&quot;coordinates&quot;: [[[147.69960316085718, -32.24460560526437], [147.9096031608572, -32.24460560526437], [147.9096031608572, -32.03460560526437], [147.69960316085718, -32.03460560526437], [147.69960316085718, -32.24460560526437]]], &quot;type&quot;: &quot;Polygon&quot;}, &quot;id&quot;: &quot;140&quot;, &quot;properties&quot;: {&quot;aoi_code&quot;: &quot;AOI03&quot;, &quot;cloud_cover&quot;: 43.652, &quot;id&quot;: &quot;2021-08-05&quot;, &quot;percentage_valid_pixels&quot;: 1.0, &quot;source&quot;: &quot;s2&quot;}, &quot;type&quot;: &quot;Feature&quot;}, {&quot;bbox&quot;: [147.69960316085718, -32.24460560526437, 147.9096031608572, -32.03460560526437], &quot;geometry&quot;: {&quot;coordinates&quot;: [[[147.69960316085718, -32.24460560526437], [147.9096031608572, -32.24460560526437], [147.9096031608572, -32.03460560526437], [147.69960316085718, -32.03460560526437], [147.69960316085718, -32.24460560526437]]], &quot;type&quot;: &quot;Polygon&quot;}, &quot;id&quot;: &quot;141&quot;, &quot;properties&quot;: {&quot;aoi_code&quot;: &quot;AOI03&quot;, &quot;cloud_cover&quot;: 0.0, &quot;id&quot;: &quot;2021-08-10&quot;, &quot;percentage_valid_pixels&quot;: 1.0, &quot;source&quot;: &quot;s2&quot;}, &quot;type&quot;: &quot;Feature&quot;}, {&quot;bbox&quot;: [147.69960316085718, -32.24460560526437, 147.9096031608572, -32.03460560526437], &quot;geometry&quot;: {&quot;coordinates&quot;: [[[147.69960316085718, -32.24460560526437], [147.9096031608572, -32.24460560526437], [147.9096031608572, -32.03460560526437], [147.69960316085718, -32.03460560526437], [147.69960316085718, -32.24460560526437]]], &quot;type&quot;: &quot;Polygon&quot;}, &quot;id&quot;: &quot;142&quot;, &quot;properties&quot;: {&quot;aoi_code&quot;: &quot;AOI03&quot;, &quot;cloud_cover&quot;: 0.0, &quot;id&quot;: &quot;2021-08-15&quot;, &quot;percentage_valid_pixels&quot;: 1.0, &quot;source&quot;: &quot;s2&quot;}, &quot;type&quot;: &quot;Feature&quot;}, {&quot;bbox&quot;: [147.69960316085718, -32.24460560526437, 147.9096031608572, -32.03460560526437], &quot;geometry&quot;: {&quot;coordinates&quot;: [[[147.69960316085718, -32.24460560526437], [147.9096031608572, -32.24460560526437], [147.9096031608572, -32.03460560526437], [147.69960316085718, -32.03460560526437], [147.69960316085718, -32.24460560526437]]], &quot;type&quot;: &quot;Polygon&quot;}, &quot;id&quot;: &quot;143&quot;, &quot;properties&quot;: {&quot;aoi_code&quot;: &quot;AOI03&quot;, &quot;cloud_cover&quot;: 0.0, &quot;id&quot;: &quot;2021-08-20&quot;, &quot;percentage_valid_pixels&quot;: 1.0, &quot;source&quot;: &quot;s2&quot;}, &quot;type&quot;: &quot;Feature&quot;}, {&quot;bbox&quot;: [147.69960316085718, -32.24460560526437, 147.9096031608572, -32.03460560526437], &quot;geometry&quot;: {&quot;coordinates&quot;: [[[147.69960316085718, -32.24460560526437], [147.9096031608572, -32.24460560526437], [147.9096031608572, -32.03460560526437], [147.69960316085718, -32.03460560526437], [147.69960316085718, -32.24460560526437]]], &quot;type&quot;: &quot;Polygon&quot;}, &quot;id&quot;: &quot;144&quot;, &quot;properties&quot;: {&quot;aoi_code&quot;: &quot;AOI03&quot;, &quot;cloud_cover&quot;: 0.1242, &quot;id&quot;: &quot;2021-08-25&quot;, &quot;percentage_valid_pixels&quot;: 1.0, &quot;source&quot;: &quot;s2&quot;}, &quot;type&quot;: &quot;Feature&quot;}, {&quot;bbox&quot;: [147.69960316085718, -32.24460560526437, 147.9096031608572, -32.03460560526437], &quot;geometry&quot;: {&quot;coordinates&quot;: [[[147.69960316085718, -32.24460560526437], [147.9096031608572, -32.24460560526437], [147.9096031608572, -32.03460560526437], [147.69960316085718, -32.03460560526437], [147.69960316085718, -32.24460560526437]]], &quot;type&quot;: &quot;Polygon&quot;}, &quot;id&quot;: &quot;145&quot;, &quot;properties&quot;: {&quot;aoi_code&quot;: &quot;AOI03&quot;, &quot;cloud_cover&quot;: 99.8591, &quot;id&quot;: &quot;2021-08-30&quot;, &quot;percentage_valid_pixels&quot;: 1.0, &quot;source&quot;: &quot;s2&quot;}, &quot;type&quot;: &quot;Feature&quot;}, {&quot;bbox&quot;: [147.89960316085717, -32.644605605264374, 148.10960316085718, -32.43460560526437], &quot;geometry&quot;: {&quot;coordinates&quot;: [[[147.89960316085717, -32.644605605264374], [148.10960316085718, -32.644605605264374], [148.10960316085718, -32.43460560526437], [147.89960316085717, -32.43460560526437], [147.89960316085717, -32.644605605264374]]], &quot;type&quot;: &quot;Polygon&quot;}, &quot;id&quot;: &quot;146&quot;, &quot;properties&quot;: {&quot;aoi_code&quot;: &quot;AOI03&quot;, &quot;cloud_cover&quot;: 57.2791, &quot;id&quot;: &quot;2021-08-05&quot;, &quot;percentage_valid_pixels&quot;: 1.0, &quot;source&quot;: &quot;s2&quot;}, &quot;type&quot;: &quot;Feature&quot;}, {&quot;bbox&quot;: [147.89960316085717, -32.644605605264374, 148.10960316085718, -32.43460560526437], &quot;geometry&quot;: {&quot;coordinates&quot;: [[[147.89960316085717, -32.644605605264374], [148.10960316085718, -32.644605605264374], [148.10960316085718, -32.43460560526437], [147.89960316085717, -32.43460560526437], [147.89960316085717, -32.644605605264374]]], &quot;type&quot;: &quot;Polygon&quot;}, &quot;id&quot;: &quot;147&quot;, &quot;properties&quot;: {&quot;aoi_code&quot;: &quot;AOI03&quot;, &quot;cloud_cover&quot;: 1.937, &quot;id&quot;: &quot;2021-08-10&quot;, &quot;percentage_valid_pixels&quot;: 1.0, &quot;source&quot;: &quot;s2&quot;}, &quot;type&quot;: &quot;Feature&quot;}, {&quot;bbox&quot;: [147.89960316085717, -32.644605605264374, 148.10960316085718, -32.43460560526437], &quot;geometry&quot;: {&quot;coordinates&quot;: [[[147.89960316085717, -32.644605605264374], [148.10960316085718, -32.644605605264374], [148.10960316085718, -32.43460560526437], [147.89960316085717, -32.43460560526437], [147.89960316085717, -32.644605605264374]]], &quot;type&quot;: &quot;Polygon&quot;}, &quot;id&quot;: &quot;148&quot;, &quot;properties&quot;: {&quot;aoi_code&quot;: &quot;AOI03&quot;, &quot;cloud_cover&quot;: 0.0, &quot;id&quot;: &quot;2021-08-15&quot;, &quot;percentage_valid_pixels&quot;: 1.0, &quot;source&quot;: &quot;s2&quot;}, &quot;type&quot;: &quot;Feature&quot;}, {&quot;bbox&quot;: [147.89960316085717, -32.644605605264374, 148.10960316085718, -32.43460560526437], &quot;geometry&quot;: {&quot;coordinates&quot;: [[[147.89960316085717, -32.644605605264374], [148.10960316085718, -32.644605605264374], [148.10960316085718, -32.43460560526437], [147.89960316085717, -32.43460560526437], [147.89960316085717, -32.644605605264374]]], &quot;type&quot;: &quot;Polygon&quot;}, &quot;id&quot;: &quot;149&quot;, &quot;properties&quot;: {&quot;aoi_code&quot;: &quot;AOI03&quot;, &quot;cloud_cover&quot;: 0.0, &quot;id&quot;: &quot;2021-08-20&quot;, &quot;percentage_valid_pixels&quot;: 1.0, &quot;source&quot;: &quot;s2&quot;}, &quot;type&quot;: &quot;Feature&quot;}, {&quot;bbox&quot;: [147.89960316085717, -32.644605605264374, 148.10960316085718, -32.43460560526437], &quot;geometry&quot;: {&quot;coordinates&quot;: [[[147.89960316085717, -32.644605605264374], [148.10960316085718, -32.644605605264374], [148.10960316085718, -32.43460560526437], [147.89960316085717, -32.43460560526437], [147.89960316085717, -32.644605605264374]]], &quot;type&quot;: &quot;Polygon&quot;}, &quot;id&quot;: &quot;150&quot;, &quot;properties&quot;: {&quot;aoi_code&quot;: &quot;AOI03&quot;, &quot;cloud_cover&quot;: 0.0, &quot;id&quot;: &quot;2021-08-25&quot;, &quot;percentage_valid_pixels&quot;: 1.0, &quot;source&quot;: &quot;s2&quot;}, &quot;type&quot;: &quot;Feature&quot;}, {&quot;bbox&quot;: [147.89960316085717, -32.644605605264374, 148.10960316085718, -32.43460560526437], &quot;geometry&quot;: {&quot;coordinates&quot;: [[[147.89960316085717, -32.644605605264374], [148.10960316085718, -32.644605605264374], [148.10960316085718, -32.43460560526437], [147.89960316085717, -32.43460560526437], [147.89960316085717, -32.644605605264374]]], &quot;type&quot;: &quot;Polygon&quot;}, &quot;id&quot;: &quot;151&quot;, &quot;properties&quot;: {&quot;aoi_code&quot;: &quot;AOI03&quot;, &quot;cloud_cover&quot;: 99.9962, &quot;id&quot;: &quot;2021-08-30&quot;, &quot;percentage_valid_pixels&quot;: 1.0, &quot;source&quot;: &quot;s2&quot;}, &quot;type&quot;: &quot;Feature&quot;}, {&quot;bbox&quot;: [147.89960316085717, -32.44460560526437, 148.10960316085718, -32.23460560526437], &quot;geometry&quot;: {&quot;coordinates&quot;: [[[147.89960316085717, -32.44460560526437], [148.10960316085718, -32.44460560526437], [148.10960316085718, -32.23460560526437], [147.89960316085717, -32.23460560526437], [147.89960316085717, -32.44460560526437]]], &quot;type&quot;: &quot;Polygon&quot;}, &quot;id&quot;: &quot;152&quot;, &quot;properties&quot;: {&quot;aoi_code&quot;: &quot;AOI0316&quot;, &quot;cloud_cover&quot;: 43.652, &quot;id&quot;: &quot;2021-08-05&quot;, &quot;percentage_valid_pixels&quot;: 1.0, &quot;source&quot;: &quot;s2&quot;}, &quot;type&quot;: &quot;Feature&quot;}, {&quot;bbox&quot;: [147.89960316085717, -32.44460560526437, 148.10960316085718, -32.23460560526437], &quot;geometry&quot;: {&quot;coordinates&quot;: [[[147.89960316085717, -32.44460560526437], [148.10960316085718, -32.44460560526437], [148.10960316085718, -32.23460560526437], [147.89960316085717, -32.23460560526437], [147.89960316085717, -32.44460560526437]]], &quot;type&quot;: &quot;Polygon&quot;}, &quot;id&quot;: &quot;153&quot;, &quot;properties&quot;: {&quot;aoi_code&quot;: &quot;AOI0316&quot;, &quot;cloud_cover&quot;: 0.0, &quot;id&quot;: &quot;2021-08-10&quot;, &quot;percentage_valid_pixels&quot;: 1.0, &quot;source&quot;: &quot;s2&quot;}, &quot;type&quot;: &quot;Feature&quot;}, {&quot;bbox&quot;: [147.89960316085717, -32.44460560526437, 148.10960316085718, -32.23460560526437], &quot;geometry&quot;: {&quot;coordinates&quot;: [[[147.89960316085717, -32.44460560526437], [148.10960316085718, -32.44460560526437], [148.10960316085718, -32.23460560526437], [147.89960316085717, -32.23460560526437], [147.89960316085717, -32.44460560526437]]], &quot;type&quot;: &quot;Polygon&quot;}, &quot;id&quot;: &quot;154&quot;, &quot;properties&quot;: {&quot;aoi_code&quot;: &quot;AOI0316&quot;, &quot;cloud_cover&quot;: 0.0, &quot;id&quot;: &quot;2021-08-15&quot;, &quot;percentage_valid_pixels&quot;: 1.0, &quot;source&quot;: &quot;s2&quot;}, &quot;type&quot;: &quot;Feature&quot;}, {&quot;bbox&quot;: [147.89960316085717, -32.44460560526437, 148.10960316085718, -32.23460560526437], &quot;geometry&quot;: {&quot;coordinates&quot;: [[[147.89960316085717, -32.44460560526437], [148.10960316085718, -32.44460560526437], [148.10960316085718, -32.23460560526437], [147.89960316085717, -32.23460560526437], [147.89960316085717, -32.44460560526437]]], &quot;type&quot;: &quot;Polygon&quot;}, &quot;id&quot;: &quot;155&quot;, &quot;properties&quot;: {&quot;aoi_code&quot;: &quot;AOI0316&quot;, &quot;cloud_cover&quot;: 0.0, &quot;id&quot;: &quot;2021-08-20&quot;, &quot;percentage_valid_pixels&quot;: 1.0, &quot;source&quot;: &quot;s2&quot;}, &quot;type&quot;: &quot;Feature&quot;}, {&quot;bbox&quot;: [147.89960316085717, -32.44460560526437, 148.10960316085718, -32.23460560526437], &quot;geometry&quot;: {&quot;coordinates&quot;: [[[147.89960316085717, -32.44460560526437], [148.10960316085718, -32.44460560526437], [148.10960316085718, -32.23460560526437], [147.89960316085717, -32.23460560526437], [147.89960316085717, -32.44460560526437]]], &quot;type&quot;: &quot;Polygon&quot;}, &quot;id&quot;: &quot;156&quot;, &quot;properties&quot;: {&quot;aoi_code&quot;: &quot;AOI0316&quot;, &quot;cloud_cover&quot;: 0.1242, &quot;id&quot;: &quot;2021-08-25&quot;, &quot;percentage_valid_pixels&quot;: 1.0, &quot;source&quot;: &quot;s2&quot;}, &quot;type&quot;: &quot;Feature&quot;}, {&quot;bbox&quot;: [147.89960316085717, -32.44460560526437, 148.10960316085718, -32.23460560526437], &quot;geometry&quot;: {&quot;coordinates&quot;: [[[147.89960316085717, -32.44460560526437], [148.10960316085718, -32.44460560526437], [148.10960316085718, -32.23460560526437], [147.89960316085717, -32.23460560526437], [147.89960316085717, -32.44460560526437]]], &quot;type&quot;: &quot;Polygon&quot;}, &quot;id&quot;: &quot;157&quot;, &quot;properties&quot;: {&quot;aoi_code&quot;: &quot;AOI0316&quot;, &quot;cloud_cover&quot;: 99.8591, &quot;id&quot;: &quot;2021-08-30&quot;, &quot;percentage_valid_pixels&quot;: 1.0, &quot;source&quot;: &quot;s2&quot;}, &quot;type&quot;: &quot;Feature&quot;}, {&quot;bbox&quot;: [147.89960316085717, -32.24460560526437, 148.10960316085718, -32.03460560526437], &quot;geometry&quot;: {&quot;coordinates&quot;: [[[147.89960316085717, -32.24460560526437], [148.10960316085718, -32.24460560526437], [148.10960316085718, -32.03460560526437], [147.89960316085717, -32.03460560526437], [147.89960316085717, -32.24460560526437]]], &quot;type&quot;: &quot;Polygon&quot;}, &quot;id&quot;: &quot;158&quot;, &quot;properties&quot;: {&quot;aoi_code&quot;: &quot;AOI0317&quot;, &quot;cloud_cover&quot;: 43.652, &quot;id&quot;: &quot;2021-08-05&quot;, &quot;percentage_valid_pixels&quot;: 1.0, &quot;source&quot;: &quot;s2&quot;}, &quot;type&quot;: &quot;Feature&quot;}, {&quot;bbox&quot;: [147.89960316085717, -32.24460560526437, 148.10960316085718, -32.03460560526437], &quot;geometry&quot;: {&quot;coordinates&quot;: [[[147.89960316085717, -32.24460560526437], [148.10960316085718, -32.24460560526437], [148.10960316085718, -32.03460560526437], [147.89960316085717, -32.03460560526437], [147.89960316085717, -32.24460560526437]]], &quot;type&quot;: &quot;Polygon&quot;}, &quot;id&quot;: &quot;159&quot;, &quot;properties&quot;: {&quot;aoi_code&quot;: &quot;AOI0317&quot;, &quot;cloud_cover&quot;: 0.0, &quot;id&quot;: &quot;2021-08-10&quot;, &quot;percentage_valid_pixels&quot;: 1.0, &quot;source&quot;: &quot;s2&quot;}, &quot;type&quot;: &quot;Feature&quot;}, {&quot;bbox&quot;: [147.89960316085717, -32.24460560526437, 148.10960316085718, -32.03460560526437], &quot;geometry&quot;: {&quot;coordinates&quot;: [[[147.89960316085717, -32.24460560526437], [148.10960316085718, -32.24460560526437], [148.10960316085718, -32.03460560526437], [147.89960316085717, -32.03460560526437], [147.89960316085717, -32.24460560526437]]], &quot;type&quot;: &quot;Polygon&quot;}, &quot;id&quot;: &quot;160&quot;, &quot;properties&quot;: {&quot;aoi_code&quot;: &quot;AOI0317&quot;, &quot;cloud_cover&quot;: 0.0, &quot;id&quot;: &quot;2021-08-15&quot;, &quot;percentage_valid_pixels&quot;: 1.0, &quot;source&quot;: &quot;s2&quot;}, &quot;type&quot;: &quot;Feature&quot;}, {&quot;bbox&quot;: [147.89960316085717, -32.24460560526437, 148.10960316085718, -32.03460560526437], &quot;geometry&quot;: {&quot;coordinates&quot;: [[[147.89960316085717, -32.24460560526437], [148.10960316085718, -32.24460560526437], [148.10960316085718, -32.03460560526437], [147.89960316085717, -32.03460560526437], [147.89960316085717, -32.24460560526437]]], &quot;type&quot;: &quot;Polygon&quot;}, &quot;id&quot;: &quot;161&quot;, &quot;properties&quot;: {&quot;aoi_code&quot;: &quot;AOI0317&quot;, &quot;cloud_cover&quot;: 0.0, &quot;id&quot;: &quot;2021-08-20&quot;, &quot;percentage_valid_pixels&quot;: 1.0, &quot;source&quot;: &quot;s2&quot;}, &quot;type&quot;: &quot;Feature&quot;}, {&quot;bbox&quot;: [147.89960316085717, -32.24460560526437, 148.10960316085718, -32.03460560526437], &quot;geometry&quot;: {&quot;coordinates&quot;: [[[147.89960316085717, -32.24460560526437], [148.10960316085718, -32.24460560526437], [148.10960316085718, -32.03460560526437], [147.89960316085717, -32.03460560526437], [147.89960316085717, -32.24460560526437]]], &quot;type&quot;: &quot;Polygon&quot;}, &quot;id&quot;: &quot;162&quot;, &quot;properties&quot;: {&quot;aoi_code&quot;: &quot;AOI0317&quot;, &quot;cloud_cover&quot;: 0.1242, &quot;id&quot;: &quot;2021-08-25&quot;, &quot;percentage_valid_pixels&quot;: 1.0, &quot;source&quot;: &quot;s2&quot;}, &quot;type&quot;: &quot;Feature&quot;}, {&quot;bbox&quot;: [147.89960316085717, -32.24460560526437, 148.10960316085718, -32.03460560526437], &quot;geometry&quot;: {&quot;coordinates&quot;: [[[147.89960316085717, -32.24460560526437], [148.10960316085718, -32.24460560526437], [148.10960316085718, -32.03460560526437], [147.89960316085717, -32.03460560526437], [147.89960316085717, -32.24460560526437]]], &quot;type&quot;: &quot;Polygon&quot;}, &quot;id&quot;: &quot;163&quot;, &quot;properties&quot;: {&quot;aoi_code&quot;: &quot;AOI0317&quot;, &quot;cloud_cover&quot;: 99.8591, &quot;id&quot;: &quot;2021-08-30&quot;, &quot;percentage_valid_pixels&quot;: 1.0, &quot;source&quot;: &quot;s2&quot;}, &quot;type&quot;: &quot;Feature&quot;}, {&quot;bbox&quot;: [148.09960316085716, -32.84460560526438, 148.30960316085716, -32.634605605264376], &quot;geometry&quot;: {&quot;coordinates&quot;: [[[148.09960316085716, -32.84460560526438], [148.30960316085716, -32.84460560526438], [148.30960316085716, -32.634605605264376], [148.09960316085716, -32.634605605264376], [148.09960316085716, -32.84460560526438]]], &quot;type&quot;: &quot;Polygon&quot;}, &quot;id&quot;: &quot;164&quot;, &quot;properties&quot;: {&quot;aoi_code&quot;: &quot;AOI0342&quot;, &quot;cloud_cover&quot;: 57.2791, &quot;id&quot;: &quot;2021-08-05&quot;, &quot;percentage_valid_pixels&quot;: 1.0, &quot;source&quot;: &quot;s2&quot;}, &quot;type&quot;: &quot;Feature&quot;}, {&quot;bbox&quot;: [148.09960316085716, -32.84460560526438, 148.30960316085716, -32.634605605264376], &quot;geometry&quot;: {&quot;coordinates&quot;: [[[148.09960316085716, -32.84460560526438], [148.30960316085716, -32.84460560526438], [148.30960316085716, -32.634605605264376], [148.09960316085716, -32.634605605264376], [148.09960316085716, -32.84460560526438]]], &quot;type&quot;: &quot;Polygon&quot;}, &quot;id&quot;: &quot;165&quot;, &quot;properties&quot;: {&quot;aoi_code&quot;: &quot;AOI0342&quot;, &quot;cloud_cover&quot;: 1.937, &quot;id&quot;: &quot;2021-08-10&quot;, &quot;percentage_valid_pixels&quot;: 1.0, &quot;source&quot;: &quot;s2&quot;}, &quot;type&quot;: &quot;Feature&quot;}, {&quot;bbox&quot;: [148.09960316085716, -32.84460560526438, 148.30960316085716, -32.634605605264376], &quot;geometry&quot;: {&quot;coordinates&quot;: [[[148.09960316085716, -32.84460560526438], [148.30960316085716, -32.84460560526438], [148.30960316085716, -32.634605605264376], [148.09960316085716, -32.634605605264376], [148.09960316085716, -32.84460560526438]]], &quot;type&quot;: &quot;Polygon&quot;}, &quot;id&quot;: &quot;166&quot;, &quot;properties&quot;: {&quot;aoi_code&quot;: &quot;AOI0342&quot;, &quot;cloud_cover&quot;: 0.0, &quot;id&quot;: &quot;2021-08-15&quot;, &quot;percentage_valid_pixels&quot;: 1.0, &quot;source&quot;: &quot;s2&quot;}, &quot;type&quot;: &quot;Feature&quot;}, {&quot;bbox&quot;: [148.09960316085716, -32.84460560526438, 148.30960316085716, -32.634605605264376], &quot;geometry&quot;: {&quot;coordinates&quot;: [[[148.09960316085716, -32.84460560526438], [148.30960316085716, -32.84460560526438], [148.30960316085716, -32.634605605264376], [148.09960316085716, -32.634605605264376], [148.09960316085716, -32.84460560526438]]], &quot;type&quot;: &quot;Polygon&quot;}, &quot;id&quot;: &quot;167&quot;, &quot;properties&quot;: {&quot;aoi_code&quot;: &quot;AOI0342&quot;, &quot;cloud_cover&quot;: 0.0, &quot;id&quot;: &quot;2021-08-20&quot;, &quot;percentage_valid_pixels&quot;: 1.0, &quot;source&quot;: &quot;s2&quot;}, &quot;type&quot;: &quot;Feature&quot;}, {&quot;bbox&quot;: [148.09960316085716, -32.84460560526438, 148.30960316085716, -32.634605605264376], &quot;geometry&quot;: {&quot;coordinates&quot;: [[[148.09960316085716, -32.84460560526438], [148.30960316085716, -32.84460560526438], [148.30960316085716, -32.634605605264376], [148.09960316085716, -32.634605605264376], [148.09960316085716, -32.84460560526438]]], &quot;type&quot;: &quot;Polygon&quot;}, &quot;id&quot;: &quot;168&quot;, &quot;properties&quot;: {&quot;aoi_code&quot;: &quot;AOI0342&quot;, &quot;cloud_cover&quot;: 0.0, &quot;id&quot;: &quot;2021-08-25&quot;, &quot;percentage_valid_pixels&quot;: 1.0, &quot;source&quot;: &quot;s2&quot;}, &quot;type&quot;: &quot;Feature&quot;}, {&quot;bbox&quot;: [148.09960316085716, -32.84460560526438, 148.30960316085716, -32.634605605264376], &quot;geometry&quot;: {&quot;coordinates&quot;: [[[148.09960316085716, -32.84460560526438], [148.30960316085716, -32.84460560526438], [148.30960316085716, -32.634605605264376], [148.09960316085716, -32.634605605264376], [148.09960316085716, -32.84460560526438]]], &quot;type&quot;: &quot;Polygon&quot;}, &quot;id&quot;: &quot;169&quot;, &quot;properties&quot;: {&quot;aoi_code&quot;: &quot;AOI0342&quot;, &quot;cloud_cover&quot;: 99.9962, &quot;id&quot;: &quot;2021-08-30&quot;, &quot;percentage_valid_pixels&quot;: 1.0, &quot;source&quot;: &quot;s2&quot;}, &quot;type&quot;: &quot;Feature&quot;}, {&quot;bbox&quot;: [148.09960316085716, -32.644605605264374, 148.30960316085716, -32.43460560526437], &quot;geometry&quot;: {&quot;coordinates&quot;: [[[148.09960316085716, -32.644605605264374], [148.30960316085716, -32.644605605264374], [148.30960316085716, -32.43460560526437], [148.09960316085716, -32.43460560526437], [148.09960316085716, -32.644605605264374]]], &quot;type&quot;: &quot;Polygon&quot;}, &quot;id&quot;: &quot;170&quot;, &quot;properties&quot;: {&quot;aoi_code&quot;: &quot;AOI0343&quot;, &quot;cloud_cover&quot;: 57.2791, &quot;id&quot;: &quot;2021-08-05&quot;, &quot;percentage_valid_pixels&quot;: 1.0, &quot;source&quot;: &quot;s2&quot;}, &quot;type&quot;: &quot;Feature&quot;}, {&quot;bbox&quot;: [148.09960316085716, -32.644605605264374, 148.30960316085716, -32.43460560526437], &quot;geometry&quot;: {&quot;coordinates&quot;: [[[148.09960316085716, -32.644605605264374], [148.30960316085716, -32.644605605264374], [148.30960316085716, -32.43460560526437], [148.09960316085716, -32.43460560526437], [148.09960316085716, -32.644605605264374]]], &quot;type&quot;: &quot;Polygon&quot;}, &quot;id&quot;: &quot;171&quot;, &quot;properties&quot;: {&quot;aoi_code&quot;: &quot;AOI0343&quot;, &quot;cloud_cover&quot;: 1.937, &quot;id&quot;: &quot;2021-08-10&quot;, &quot;percentage_valid_pixels&quot;: 1.0, &quot;source&quot;: &quot;s2&quot;}, &quot;type&quot;: &quot;Feature&quot;}, {&quot;bbox&quot;: [148.09960316085716, -32.644605605264374, 148.30960316085716, -32.43460560526437], &quot;geometry&quot;: {&quot;coordinates&quot;: [[[148.09960316085716, -32.644605605264374], [148.30960316085716, -32.644605605264374], [148.30960316085716, -32.43460560526437], [148.09960316085716, -32.43460560526437], [148.09960316085716, -32.644605605264374]]], &quot;type&quot;: &quot;Polygon&quot;}, &quot;id&quot;: &quot;172&quot;, &quot;properties&quot;: {&quot;aoi_code&quot;: &quot;AOI0343&quot;, &quot;cloud_cover&quot;: 0.0, &quot;id&quot;: &quot;2021-08-15&quot;, &quot;percentage_valid_pixels&quot;: 1.0, &quot;source&quot;: &quot;s2&quot;}, &quot;type&quot;: &quot;Feature&quot;}, {&quot;bbox&quot;: [148.09960316085716, -32.644605605264374, 148.30960316085716, -32.43460560526437], &quot;geometry&quot;: {&quot;coordinates&quot;: [[[148.09960316085716, -32.644605605264374], [148.30960316085716, -32.644605605264374], [148.30960316085716, -32.43460560526437], [148.09960316085716, -32.43460560526437], [148.09960316085716, -32.644605605264374]]], &quot;type&quot;: &quot;Polygon&quot;}, &quot;id&quot;: &quot;173&quot;, &quot;properties&quot;: {&quot;aoi_code&quot;: &quot;AOI0343&quot;, &quot;cloud_cover&quot;: 0.0, &quot;id&quot;: &quot;2021-08-20&quot;, &quot;percentage_valid_pixels&quot;: 1.0, &quot;source&quot;: &quot;s2&quot;}, &quot;type&quot;: &quot;Feature&quot;}, {&quot;bbox&quot;: [148.09960316085716, -32.644605605264374, 148.30960316085716, -32.43460560526437], &quot;geometry&quot;: {&quot;coordinates&quot;: [[[148.09960316085716, -32.644605605264374], [148.30960316085716, -32.644605605264374], [148.30960316085716, -32.43460560526437], [148.09960316085716, -32.43460560526437], [148.09960316085716, -32.644605605264374]]], &quot;type&quot;: &quot;Polygon&quot;}, &quot;id&quot;: &quot;174&quot;, &quot;properties&quot;: {&quot;aoi_code&quot;: &quot;AOI0343&quot;, &quot;cloud_cover&quot;: 0.0, &quot;id&quot;: &quot;2021-08-25&quot;, &quot;percentage_valid_pixels&quot;: 1.0, &quot;source&quot;: &quot;s2&quot;}, &quot;type&quot;: &quot;Feature&quot;}, {&quot;bbox&quot;: [148.09960316085716, -32.644605605264374, 148.30960316085716, -32.43460560526437], &quot;geometry&quot;: {&quot;coordinates&quot;: [[[148.09960316085716, -32.644605605264374], [148.30960316085716, -32.644605605264374], [148.30960316085716, -32.43460560526437], [148.09960316085716, -32.43460560526437], [148.09960316085716, -32.644605605264374]]], &quot;type&quot;: &quot;Polygon&quot;}, &quot;id&quot;: &quot;175&quot;, &quot;properties&quot;: {&quot;aoi_code&quot;: &quot;AOI0343&quot;, &quot;cloud_cover&quot;: 99.9962, &quot;id&quot;: &quot;2021-08-30&quot;, &quot;percentage_valid_pixels&quot;: 1.0, &quot;source&quot;: &quot;s2&quot;}, &quot;type&quot;: &quot;Feature&quot;}, {&quot;bbox&quot;: [148.09960316085716, -32.44460560526437, 148.30960316085716, -32.23460560526437], &quot;geometry&quot;: {&quot;coordinates&quot;: [[[148.09960316085716, -32.44460560526437], [148.30960316085716, -32.44460560526437], [148.30960316085716, -32.23460560526437], [148.09960316085716, -32.23460560526437], [148.09960316085716, -32.44460560526437]]], &quot;type&quot;: &quot;Polygon&quot;}, &quot;id&quot;: &quot;176&quot;, &quot;properties&quot;: {&quot;aoi_code&quot;: &quot;AOI0344&quot;, &quot;cloud_cover&quot;: 43.652, &quot;id&quot;: &quot;2021-08-05&quot;, &quot;percentage_valid_pixels&quot;: 1.0, &quot;source&quot;: &quot;s2&quot;}, &quot;type&quot;: &quot;Feature&quot;}, {&quot;bbox&quot;: [148.09960316085716, -32.44460560526437, 148.30960316085716, -32.23460560526437], &quot;geometry&quot;: {&quot;coordinates&quot;: [[[148.09960316085716, -32.44460560526437], [148.30960316085716, -32.44460560526437], [148.30960316085716, -32.23460560526437], [148.09960316085716, -32.23460560526437], [148.09960316085716, -32.44460560526437]]], &quot;type&quot;: &quot;Polygon&quot;}, &quot;id&quot;: &quot;177&quot;, &quot;properties&quot;: {&quot;aoi_code&quot;: &quot;AOI0344&quot;, &quot;cloud_cover&quot;: 0.0, &quot;id&quot;: &quot;2021-08-10&quot;, &quot;percentage_valid_pixels&quot;: 1.0, &quot;source&quot;: &quot;s2&quot;}, &quot;type&quot;: &quot;Feature&quot;}, {&quot;bbox&quot;: [148.09960316085716, -32.44460560526437, 148.30960316085716, -32.23460560526437], &quot;geometry&quot;: {&quot;coordinates&quot;: [[[148.09960316085716, -32.44460560526437], [148.30960316085716, -32.44460560526437], [148.30960316085716, -32.23460560526437], [148.09960316085716, -32.23460560526437], [148.09960316085716, -32.44460560526437]]], &quot;type&quot;: &quot;Polygon&quot;}, &quot;id&quot;: &quot;178&quot;, &quot;properties&quot;: {&quot;aoi_code&quot;: &quot;AOI0344&quot;, &quot;cloud_cover&quot;: 0.0, &quot;id&quot;: &quot;2021-08-15&quot;, &quot;percentage_valid_pixels&quot;: 1.0, &quot;source&quot;: &quot;s2&quot;}, &quot;type&quot;: &quot;Feature&quot;}, {&quot;bbox&quot;: [148.09960316085716, -32.44460560526437, 148.30960316085716, -32.23460560526437], &quot;geometry&quot;: {&quot;coordinates&quot;: [[[148.09960316085716, -32.44460560526437], [148.30960316085716, -32.44460560526437], [148.30960316085716, -32.23460560526437], [148.09960316085716, -32.23460560526437], [148.09960316085716, -32.44460560526437]]], &quot;type&quot;: &quot;Polygon&quot;}, &quot;id&quot;: &quot;179&quot;, &quot;properties&quot;: {&quot;aoi_code&quot;: &quot;AOI0344&quot;, &quot;cloud_cover&quot;: 0.0, &quot;id&quot;: &quot;2021-08-20&quot;, &quot;percentage_valid_pixels&quot;: 1.0, &quot;source&quot;: &quot;s2&quot;}, &quot;type&quot;: &quot;Feature&quot;}, {&quot;bbox&quot;: [148.09960316085716, -32.44460560526437, 148.30960316085716, -32.23460560526437], &quot;geometry&quot;: {&quot;coordinates&quot;: [[[148.09960316085716, -32.44460560526437], [148.30960316085716, -32.44460560526437], [148.30960316085716, -32.23460560526437], [148.09960316085716, -32.23460560526437], [148.09960316085716, -32.44460560526437]]], &quot;type&quot;: &quot;Polygon&quot;}, &quot;id&quot;: &quot;180&quot;, &quot;properties&quot;: {&quot;aoi_code&quot;: &quot;AOI0344&quot;, &quot;cloud_cover&quot;: 0.1242, &quot;id&quot;: &quot;2021-08-25&quot;, &quot;percentage_valid_pixels&quot;: 1.0, &quot;source&quot;: &quot;s2&quot;}, &quot;type&quot;: &quot;Feature&quot;}, {&quot;bbox&quot;: [148.09960316085716, -32.44460560526437, 148.30960316085716, -32.23460560526437], &quot;geometry&quot;: {&quot;coordinates&quot;: [[[148.09960316085716, -32.44460560526437], [148.30960316085716, -32.44460560526437], [148.30960316085716, -32.23460560526437], [148.09960316085716, -32.23460560526437], [148.09960316085716, -32.44460560526437]]], &quot;type&quot;: &quot;Polygon&quot;}, &quot;id&quot;: &quot;181&quot;, &quot;properties&quot;: {&quot;aoi_code&quot;: &quot;AOI0344&quot;, &quot;cloud_cover&quot;: 99.8591, &quot;id&quot;: &quot;2021-08-30&quot;, &quot;percentage_valid_pixels&quot;: 1.0, &quot;source&quot;: &quot;s2&quot;}, &quot;type&quot;: &quot;Feature&quot;}, {&quot;bbox&quot;: [148.09960316085716, -32.24460560526437, 148.30960316085716, -32.03460560526437], &quot;geometry&quot;: {&quot;coordinates&quot;: [[[148.09960316085716, -32.24460560526437], [148.30960316085716, -32.24460560526437], [148.30960316085716, -32.03460560526437], [148.09960316085716, -32.03460560526437], [148.09960316085716, -32.24460560526437]]], &quot;type&quot;: &quot;Polygon&quot;}, &quot;id&quot;: &quot;182&quot;, &quot;properties&quot;: {&quot;aoi_code&quot;: &quot;AOI0368&quot;, &quot;cloud_cover&quot;: 43.652, &quot;id&quot;: &quot;2021-08-05&quot;, &quot;percentage_valid_pixels&quot;: 1.0, &quot;source&quot;: &quot;s2&quot;}, &quot;type&quot;: &quot;Feature&quot;}, {&quot;bbox&quot;: [148.09960316085716, -32.24460560526437, 148.30960316085716, -32.03460560526437], &quot;geometry&quot;: {&quot;coordinates&quot;: [[[148.09960316085716, -32.24460560526437], [148.30960316085716, -32.24460560526437], [148.30960316085716, -32.03460560526437], [148.09960316085716, -32.03460560526437], [148.09960316085716, -32.24460560526437]]], &quot;type&quot;: &quot;Polygon&quot;}, &quot;id&quot;: &quot;183&quot;, &quot;properties&quot;: {&quot;aoi_code&quot;: &quot;AOI0368&quot;, &quot;cloud_cover&quot;: 0.0, &quot;id&quot;: &quot;2021-08-10&quot;, &quot;percentage_valid_pixels&quot;: 1.0, &quot;source&quot;: &quot;s2&quot;}, &quot;type&quot;: &quot;Feature&quot;}, {&quot;bbox&quot;: [148.09960316085716, -32.24460560526437, 148.30960316085716, -32.03460560526437], &quot;geometry&quot;: {&quot;coordinates&quot;: [[[148.09960316085716, -32.24460560526437], [148.30960316085716, -32.24460560526437], [148.30960316085716, -32.03460560526437], [148.09960316085716, -32.03460560526437], [148.09960316085716, -32.24460560526437]]], &quot;type&quot;: &quot;Polygon&quot;}, &quot;id&quot;: &quot;184&quot;, &quot;properties&quot;: {&quot;aoi_code&quot;: &quot;AOI0368&quot;, &quot;cloud_cover&quot;: 0.0, &quot;id&quot;: &quot;2021-08-15&quot;, &quot;percentage_valid_pixels&quot;: 0.9999989020774369, &quot;source&quot;: &quot;s2&quot;}, &quot;type&quot;: &quot;Feature&quot;}, {&quot;bbox&quot;: [148.09960316085716, -32.24460560526437, 148.30960316085716, -32.03460560526437], &quot;geometry&quot;: {&quot;coordinates&quot;: [[[148.09960316085716, -32.24460560526437], [148.30960316085716, -32.24460560526437], [148.30960316085716, -32.03460560526437], [148.09960316085716, -32.03460560526437], [148.09960316085716, -32.24460560526437]]], &quot;type&quot;: &quot;Polygon&quot;}, &quot;id&quot;: &quot;185&quot;, &quot;properties&quot;: {&quot;aoi_code&quot;: &quot;AOI0368&quot;, &quot;cloud_cover&quot;: 0.0, &quot;id&quot;: &quot;2021-08-20&quot;, &quot;percentage_valid_pixels&quot;: 1.0, &quot;source&quot;: &quot;s2&quot;}, &quot;type&quot;: &quot;Feature&quot;}, {&quot;bbox&quot;: [148.09960316085716, -32.24460560526437, 148.30960316085716, -32.03460560526437], &quot;geometry&quot;: {&quot;coordinates&quot;: [[[148.09960316085716, -32.24460560526437], [148.30960316085716, -32.24460560526437], [148.30960316085716, -32.03460560526437], [148.09960316085716, -32.03460560526437], [148.09960316085716, -32.24460560526437]]], &quot;type&quot;: &quot;Polygon&quot;}, &quot;id&quot;: &quot;186&quot;, &quot;properties&quot;: {&quot;aoi_code&quot;: &quot;AOI0368&quot;, &quot;cloud_cover&quot;: 0.1242, &quot;id&quot;: &quot;2021-08-25&quot;, &quot;percentage_valid_pixels&quot;: 0.9999989020774369, &quot;source&quot;: &quot;s2&quot;}, &quot;type&quot;: &quot;Feature&quot;}, {&quot;bbox&quot;: [148.09960316085716, -32.24460560526437, 148.30960316085716, -32.03460560526437], &quot;geometry&quot;: {&quot;coordinates&quot;: [[[148.09960316085716, -32.24460560526437], [148.30960316085716, -32.24460560526437], [148.30960316085716, -32.03460560526437], [148.09960316085716, -32.03460560526437], [148.09960316085716, -32.24460560526437]]], &quot;type&quot;: &quot;Polygon&quot;}, &quot;id&quot;: &quot;187&quot;, &quot;properties&quot;: {&quot;aoi_code&quot;: &quot;AOI0368&quot;, &quot;cloud_cover&quot;: 99.8591, &quot;id&quot;: &quot;2021-08-30&quot;, &quot;percentage_valid_pixels&quot;: 1.0, &quot;source&quot;: &quot;s2&quot;}, &quot;type&quot;: &quot;Feature&quot;}, {&quot;bbox&quot;: [148.09960316085716, -32.044605605264366, 148.30960316085716, -31.834605605264365], &quot;geometry&quot;: {&quot;coordinates&quot;: [[[148.09960316085716, -32.044605605264366], [148.30960316085716, -32.044605605264366], [148.30960316085716, -31.834605605264365], [148.09960316085716, -31.834605605264365], [148.09960316085716, -32.044605605264366]]], &quot;type&quot;: &quot;Polygon&quot;}, &quot;id&quot;: &quot;188&quot;, &quot;properties&quot;: {&quot;aoi_code&quot;: &quot;AOI0369&quot;, &quot;cloud_cover&quot;: 43.652, &quot;id&quot;: &quot;2021-08-05&quot;, &quot;percentage_valid_pixels&quot;: 1.0, &quot;source&quot;: &quot;s2&quot;}, &quot;type&quot;: &quot;Feature&quot;}, {&quot;bbox&quot;: [148.09960316085716, -32.044605605264366, 148.30960316085716, -31.834605605264365], &quot;geometry&quot;: {&quot;coordinates&quot;: [[[148.09960316085716, -32.044605605264366], [148.30960316085716, -32.044605605264366], [148.30960316085716, -31.834605605264365], [148.09960316085716, -31.834605605264365], [148.09960316085716, -32.044605605264366]]], &quot;type&quot;: &quot;Polygon&quot;}, &quot;id&quot;: &quot;189&quot;, &quot;properties&quot;: {&quot;aoi_code&quot;: &quot;AOI0369&quot;, &quot;cloud_cover&quot;: 0.0, &quot;id&quot;: &quot;2021-08-10&quot;, &quot;percentage_valid_pixels&quot;: 1.0, &quot;source&quot;: &quot;s2&quot;}, &quot;type&quot;: &quot;Feature&quot;}, {&quot;bbox&quot;: [148.09960316085716, -32.044605605264366, 148.30960316085716, -31.834605605264365], &quot;geometry&quot;: {&quot;coordinates&quot;: [[[148.09960316085716, -32.044605605264366], [148.30960316085716, -32.044605605264366], [148.30960316085716, -31.834605605264365], [148.09960316085716, -31.834605605264365], [148.09960316085716, -32.044605605264366]]], &quot;type&quot;: &quot;Polygon&quot;}, &quot;id&quot;: &quot;190&quot;, &quot;properties&quot;: {&quot;aoi_code&quot;: &quot;AOI0369&quot;, &quot;cloud_cover&quot;: 0.0, &quot;id&quot;: &quot;2021-08-15&quot;, &quot;percentage_valid_pixels&quot;: 0.9999989019722934, &quot;source&quot;: &quot;s2&quot;}, &quot;type&quot;: &quot;Feature&quot;}, {&quot;bbox&quot;: [148.09960316085716, -32.044605605264366, 148.30960316085716, -31.834605605264365], &quot;geometry&quot;: {&quot;coordinates&quot;: [[[148.09960316085716, -32.044605605264366], [148.30960316085716, -32.044605605264366], [148.30960316085716, -31.834605605264365], [148.09960316085716, -31.834605605264365], [148.09960316085716, -32.044605605264366]]], &quot;type&quot;: &quot;Polygon&quot;}, &quot;id&quot;: &quot;191&quot;, &quot;properties&quot;: {&quot;aoi_code&quot;: &quot;AOI0369&quot;, &quot;cloud_cover&quot;: 0.0, &quot;id&quot;: &quot;2021-08-20&quot;, &quot;percentage_valid_pixels&quot;: 1.0, &quot;source&quot;: &quot;s2&quot;}, &quot;type&quot;: &quot;Feature&quot;}, {&quot;bbox&quot;: [148.09960316085716, -32.044605605264366, 148.30960316085716, -31.834605605264365], &quot;geometry&quot;: {&quot;coordinates&quot;: [[[148.09960316085716, -32.044605605264366], [148.30960316085716, -32.044605605264366], [148.30960316085716, -31.834605605264365], [148.09960316085716, -31.834605605264365], [148.09960316085716, -32.044605605264366]]], &quot;type&quot;: &quot;Polygon&quot;}, &quot;id&quot;: &quot;192&quot;, &quot;properties&quot;: {&quot;aoi_code&quot;: &quot;AOI0369&quot;, &quot;cloud_cover&quot;: 0.1242, &quot;id&quot;: &quot;2021-08-25&quot;, &quot;percentage_valid_pixels&quot;: 1.0, &quot;source&quot;: &quot;s2&quot;}, &quot;type&quot;: &quot;Feature&quot;}, {&quot;bbox&quot;: [148.09960316085716, -32.044605605264366, 148.30960316085716, -31.834605605264365], &quot;geometry&quot;: {&quot;coordinates&quot;: [[[148.09960316085716, -32.044605605264366], [148.30960316085716, -32.044605605264366], [148.30960316085716, -31.834605605264365], [148.09960316085716, -31.834605605264365], [148.09960316085716, -32.044605605264366]]], &quot;type&quot;: &quot;Polygon&quot;}, &quot;id&quot;: &quot;193&quot;, &quot;properties&quot;: {&quot;aoi_code&quot;: &quot;AOI0369&quot;, &quot;cloud_cover&quot;: 99.8591, &quot;id&quot;: &quot;2021-08-30&quot;, &quot;percentage_valid_pixels&quot;: 1.0, &quot;source&quot;: &quot;s2&quot;}, &quot;type&quot;: &quot;Feature&quot;}, {&quot;bbox&quot;: [148.29960316085715, -32.84460560526438, 148.50960316085715, -32.634605605264376], &quot;geometry&quot;: {&quot;coordinates&quot;: [[[148.29960316085715, -32.84460560526438], [148.50960316085715, -32.84460560526438], [148.50960316085715, -32.634605605264376], [148.29960316085715, -32.634605605264376], [148.29960316085715, -32.84460560526438]]], &quot;type&quot;: &quot;Polygon&quot;}, &quot;id&quot;: &quot;194&quot;, &quot;properties&quot;: {&quot;aoi_code&quot;: &quot;AOI0370&quot;, &quot;cloud_cover&quot;: 62.0954, &quot;id&quot;: &quot;2021-08-05&quot;, &quot;percentage_valid_pixels&quot;: 1.0, &quot;source&quot;: &quot;s2&quot;}, &quot;type&quot;: &quot;Feature&quot;}, {&quot;bbox&quot;: [148.29960316085715, -32.84460560526438, 148.50960316085715, -32.634605605264376], &quot;geometry&quot;: {&quot;coordinates&quot;: [[[148.29960316085715, -32.84460560526438], [148.50960316085715, -32.84460560526438], [148.50960316085715, -32.634605605264376], [148.29960316085715, -32.634605605264376], [148.29960316085715, -32.84460560526438]]], &quot;type&quot;: &quot;Polygon&quot;}, &quot;id&quot;: &quot;195&quot;, &quot;properties&quot;: {&quot;aoi_code&quot;: &quot;AOI0370&quot;, &quot;cloud_cover&quot;: 18.504, &quot;id&quot;: &quot;2021-08-10&quot;, &quot;percentage_valid_pixels&quot;: 1.0, &quot;source&quot;: &quot;s2&quot;}, &quot;type&quot;: &quot;Feature&quot;}, {&quot;bbox&quot;: [148.29960316085715, -32.84460560526438, 148.50960316085715, -32.634605605264376], &quot;geometry&quot;: {&quot;coordinates&quot;: [[[148.29960316085715, -32.84460560526438], [148.50960316085715, -32.84460560526438], [148.50960316085715, -32.634605605264376], [148.29960316085715, -32.634605605264376], [148.29960316085715, -32.84460560526438]]], &quot;type&quot;: &quot;Polygon&quot;}, &quot;id&quot;: &quot;196&quot;, &quot;properties&quot;: {&quot;aoi_code&quot;: &quot;AOI0370&quot;, &quot;cloud_cover&quot;: 3.6993, &quot;id&quot;: &quot;2021-08-15&quot;, &quot;percentage_valid_pixels&quot;: 1.0, &quot;source&quot;: &quot;s2&quot;}, &quot;type&quot;: &quot;Feature&quot;}, {&quot;bbox&quot;: [148.29960316085715, -32.84460560526438, 148.50960316085715, -32.634605605264376], &quot;geometry&quot;: {&quot;coordinates&quot;: [[[148.29960316085715, -32.84460560526438], [148.50960316085715, -32.84460560526438], [148.50960316085715, -32.634605605264376], [148.29960316085715, -32.634605605264376], [148.29960316085715, -32.84460560526438]]], &quot;type&quot;: &quot;Polygon&quot;}, &quot;id&quot;: &quot;197&quot;, &quot;properties&quot;: {&quot;aoi_code&quot;: &quot;AOI0370&quot;, &quot;cloud_cover&quot;: 0.0, &quot;id&quot;: &quot;2021-08-20&quot;, &quot;percentage_valid_pixels&quot;: 1.0, &quot;source&quot;: &quot;s2&quot;}, &quot;type&quot;: &quot;Feature&quot;}, {&quot;bbox&quot;: [148.29960316085715, -32.84460560526438, 148.50960316085715, -32.634605605264376], &quot;geometry&quot;: {&quot;coordinates&quot;: [[[148.29960316085715, -32.84460560526438], [148.50960316085715, -32.84460560526438], [148.50960316085715, -32.634605605264376], [148.29960316085715, -32.634605605264376], [148.29960316085715, -32.84460560526438]]], &quot;type&quot;: &quot;Polygon&quot;}, &quot;id&quot;: &quot;198&quot;, &quot;properties&quot;: {&quot;aoi_code&quot;: &quot;AOI0370&quot;, &quot;cloud_cover&quot;: 0.0382, &quot;id&quot;: &quot;2021-08-25&quot;, &quot;percentage_valid_pixels&quot;: 1.0, &quot;source&quot;: &quot;s2&quot;}, &quot;type&quot;: &quot;Feature&quot;}, {&quot;bbox&quot;: [148.29960316085715, -32.84460560526438, 148.50960316085715, -32.634605605264376], &quot;geometry&quot;: {&quot;coordinates&quot;: [[[148.29960316085715, -32.84460560526438], [148.50960316085715, -32.84460560526438], [148.50960316085715, -32.634605605264376], [148.29960316085715, -32.634605605264376], [148.29960316085715, -32.84460560526438]]], &quot;type&quot;: &quot;Polygon&quot;}, &quot;id&quot;: &quot;199&quot;, &quot;properties&quot;: {&quot;aoi_code&quot;: &quot;AOI0370&quot;, &quot;cloud_cover&quot;: 99.8153, &quot;id&quot;: &quot;2021-08-30&quot;, &quot;percentage_valid_pixels&quot;: 1.0, &quot;source&quot;: &quot;s2&quot;}, &quot;type&quot;: &quot;Feature&quot;}, {&quot;bbox&quot;: [148.29960316085715, -32.644605605264374, 148.50960316085715, -32.43460560526437], &quot;geometry&quot;: {&quot;coordinates&quot;: [[[148.29960316085715, -32.644605605264374], [148.50960316085715, -32.644605605264374], [148.50960316085715, -32.43460560526437], [148.29960316085715, -32.43460560526437], [148.29960316085715, -32.644605605264374]]], &quot;type&quot;: &quot;Polygon&quot;}, &quot;id&quot;: &quot;200&quot;, &quot;properties&quot;: {&quot;aoi_code&quot;: &quot;AOI0371&quot;, &quot;cloud_cover&quot;: 62.0954, &quot;id&quot;: &quot;2021-08-05&quot;, &quot;percentage_valid_pixels&quot;: 1.0, &quot;source&quot;: &quot;s2&quot;}, &quot;type&quot;: &quot;Feature&quot;}, {&quot;bbox&quot;: [148.29960316085715, -32.644605605264374, 148.50960316085715, -32.43460560526437], &quot;geometry&quot;: {&quot;coordinates&quot;: [[[148.29960316085715, -32.644605605264374], [148.50960316085715, -32.644605605264374], [148.50960316085715, -32.43460560526437], [148.29960316085715, -32.43460560526437], [148.29960316085715, -32.644605605264374]]], &quot;type&quot;: &quot;Polygon&quot;}, &quot;id&quot;: &quot;201&quot;, &quot;properties&quot;: {&quot;aoi_code&quot;: &quot;AOI0371&quot;, &quot;cloud_cover&quot;: 18.504, &quot;id&quot;: &quot;2021-08-10&quot;, &quot;percentage_valid_pixels&quot;: 1.0, &quot;source&quot;: &quot;s2&quot;}, &quot;type&quot;: &quot;Feature&quot;}, {&quot;bbox&quot;: [148.29960316085715, -32.644605605264374, 148.50960316085715, -32.43460560526437], &quot;geometry&quot;: {&quot;coordinates&quot;: [[[148.29960316085715, -32.644605605264374], [148.50960316085715, -32.644605605264374], [148.50960316085715, -32.43460560526437], [148.29960316085715, -32.43460560526437], [148.29960316085715, -32.644605605264374]]], &quot;type&quot;: &quot;Polygon&quot;}, &quot;id&quot;: &quot;202&quot;, &quot;properties&quot;: {&quot;aoi_code&quot;: &quot;AOI0371&quot;, &quot;cloud_cover&quot;: 3.6993, &quot;id&quot;: &quot;2021-08-15&quot;, &quot;percentage_valid_pixels&quot;: 1.0, &quot;source&quot;: &quot;s2&quot;}, &quot;type&quot;: &quot;Feature&quot;}, {&quot;bbox&quot;: [148.29960316085715, -32.644605605264374, 148.50960316085715, -32.43460560526437], &quot;geometry&quot;: {&quot;coordinates&quot;: [[[148.29960316085715, -32.644605605264374], [148.50960316085715, -32.644605605264374], [148.50960316085715, -32.43460560526437], [148.29960316085715, -32.43460560526437], [148.29960316085715, -32.644605605264374]]], &quot;type&quot;: &quot;Polygon&quot;}, &quot;id&quot;: &quot;203&quot;, &quot;properties&quot;: {&quot;aoi_code&quot;: &quot;AOI0371&quot;, &quot;cloud_cover&quot;: 0.0, &quot;id&quot;: &quot;2021-08-20&quot;, &quot;percentage_valid_pixels&quot;: 1.0, &quot;source&quot;: &quot;s2&quot;}, &quot;type&quot;: &quot;Feature&quot;}, {&quot;bbox&quot;: [148.29960316085715, -32.644605605264374, 148.50960316085715, -32.43460560526437], &quot;geometry&quot;: {&quot;coordinates&quot;: [[[148.29960316085715, -32.644605605264374], [148.50960316085715, -32.644605605264374], [148.50960316085715, -32.43460560526437], [148.29960316085715, -32.43460560526437], [148.29960316085715, -32.644605605264374]]], &quot;type&quot;: &quot;Polygon&quot;}, &quot;id&quot;: &quot;204&quot;, &quot;properties&quot;: {&quot;aoi_code&quot;: &quot;AOI0371&quot;, &quot;cloud_cover&quot;: 0.0382, &quot;id&quot;: &quot;2021-08-25&quot;, &quot;percentage_valid_pixels&quot;: 1.0, &quot;source&quot;: &quot;s2&quot;}, &quot;type&quot;: &quot;Feature&quot;}, {&quot;bbox&quot;: [148.29960316085715, -32.644605605264374, 148.50960316085715, -32.43460560526437], &quot;geometry&quot;: {&quot;coordinates&quot;: [[[148.29960316085715, -32.644605605264374], [148.50960316085715, -32.644605605264374], [148.50960316085715, -32.43460560526437], [148.29960316085715, -32.43460560526437], [148.29960316085715, -32.644605605264374]]], &quot;type&quot;: &quot;Polygon&quot;}, &quot;id&quot;: &quot;205&quot;, &quot;properties&quot;: {&quot;aoi_code&quot;: &quot;AOI0371&quot;, &quot;cloud_cover&quot;: 99.8153, &quot;id&quot;: &quot;2021-08-30&quot;, &quot;percentage_valid_pixels&quot;: 1.0, &quot;source&quot;: &quot;s2&quot;}, &quot;type&quot;: &quot;Feature&quot;}, {&quot;bbox&quot;: [148.29960316085715, -32.44460560526437, 148.50960316085715, -32.23460560526437], &quot;geometry&quot;: {&quot;coordinates&quot;: [[[148.29960316085715, -32.44460560526437], [148.50960316085715, -32.44460560526437], [148.50960316085715, -32.23460560526437], [148.29960316085715, -32.23460560526437], [148.29960316085715, -32.44460560526437]]], &quot;type&quot;: &quot;Polygon&quot;}, &quot;id&quot;: &quot;206&quot;, &quot;properties&quot;: {&quot;aoi_code&quot;: &quot;AOI0372&quot;, &quot;cloud_cover&quot;: 61.6913, &quot;id&quot;: &quot;2021-08-05&quot;, &quot;percentage_valid_pixels&quot;: 1.0, &quot;source&quot;: &quot;s2&quot;}, &quot;type&quot;: &quot;Feature&quot;}, {&quot;bbox&quot;: [148.29960316085715, -32.44460560526437, 148.50960316085715, -32.23460560526437], &quot;geometry&quot;: {&quot;coordinates&quot;: [[[148.29960316085715, -32.44460560526437], [148.50960316085715, -32.44460560526437], [148.50960316085715, -32.23460560526437], [148.29960316085715, -32.23460560526437], [148.29960316085715, -32.44460560526437]]], &quot;type&quot;: &quot;Polygon&quot;}, &quot;id&quot;: &quot;207&quot;, &quot;properties&quot;: {&quot;aoi_code&quot;: &quot;AOI0372&quot;, &quot;cloud_cover&quot;: 0.1973, &quot;id&quot;: &quot;2021-08-10&quot;, &quot;percentage_valid_pixels&quot;: 1.0, &quot;source&quot;: &quot;s2&quot;}, &quot;type&quot;: &quot;Feature&quot;}, {&quot;bbox&quot;: [148.29960316085715, -32.44460560526437, 148.50960316085715, -32.23460560526437], &quot;geometry&quot;: {&quot;coordinates&quot;: [[[148.29960316085715, -32.44460560526437], [148.50960316085715, -32.44460560526437], [148.50960316085715, -32.23460560526437], [148.29960316085715, -32.23460560526437], [148.29960316085715, -32.44460560526437]]], &quot;type&quot;: &quot;Polygon&quot;}, &quot;id&quot;: &quot;208&quot;, &quot;properties&quot;: {&quot;aoi_code&quot;: &quot;AOI0372&quot;, &quot;cloud_cover&quot;: 0.0231, &quot;id&quot;: &quot;2021-08-15&quot;, &quot;percentage_valid_pixels&quot;: 1.0, &quot;source&quot;: &quot;s2&quot;}, &quot;type&quot;: &quot;Feature&quot;}, {&quot;bbox&quot;: [148.29960316085715, -32.44460560526437, 148.50960316085715, -32.23460560526437], &quot;geometry&quot;: {&quot;coordinates&quot;: [[[148.29960316085715, -32.44460560526437], [148.50960316085715, -32.44460560526437], [148.50960316085715, -32.23460560526437], [148.29960316085715, -32.23460560526437], [148.29960316085715, -32.44460560526437]]], &quot;type&quot;: &quot;Polygon&quot;}, &quot;id&quot;: &quot;209&quot;, &quot;properties&quot;: {&quot;aoi_code&quot;: &quot;AOI0372&quot;, &quot;cloud_cover&quot;: 0.0, &quot;id&quot;: &quot;2021-08-20&quot;, &quot;percentage_valid_pixels&quot;: 1.0, &quot;source&quot;: &quot;s2&quot;}, &quot;type&quot;: &quot;Feature&quot;}, {&quot;bbox&quot;: [148.29960316085715, -32.44460560526437, 148.50960316085715, -32.23460560526437], &quot;geometry&quot;: {&quot;coordinates&quot;: [[[148.29960316085715, -32.44460560526437], [148.50960316085715, -32.44460560526437], [148.50960316085715, -32.23460560526437], [148.29960316085715, -32.23460560526437], [148.29960316085715, -32.44460560526437]]], &quot;type&quot;: &quot;Polygon&quot;}, &quot;id&quot;: &quot;210&quot;, &quot;properties&quot;: {&quot;aoi_code&quot;: &quot;AOI0372&quot;, &quot;cloud_cover&quot;: 0.0179, &quot;id&quot;: &quot;2021-08-25&quot;, &quot;percentage_valid_pixels&quot;: 1.0, &quot;source&quot;: &quot;s2&quot;}, &quot;type&quot;: &quot;Feature&quot;}, {&quot;bbox&quot;: [148.29960316085715, -32.44460560526437, 148.50960316085715, -32.23460560526437], &quot;geometry&quot;: {&quot;coordinates&quot;: [[[148.29960316085715, -32.44460560526437], [148.50960316085715, -32.44460560526437], [148.50960316085715, -32.23460560526437], [148.29960316085715, -32.23460560526437], [148.29960316085715, -32.44460560526437]]], &quot;type&quot;: &quot;Polygon&quot;}, &quot;id&quot;: &quot;211&quot;, &quot;properties&quot;: {&quot;aoi_code&quot;: &quot;AOI0372&quot;, &quot;cloud_cover&quot;: 99.9943, &quot;id&quot;: &quot;2021-08-30&quot;, &quot;percentage_valid_pixels&quot;: 1.0, &quot;source&quot;: &quot;s2&quot;}, &quot;type&quot;: &quot;Feature&quot;}, {&quot;bbox&quot;: [148.29960316085715, -32.24460560526437, 148.50960316085715, -32.03460560526437], &quot;geometry&quot;: {&quot;coordinates&quot;: [[[148.29960316085715, -32.24460560526437], [148.50960316085715, -32.24460560526437], [148.50960316085715, -32.03460560526437], [148.29960316085715, -32.03460560526437], [148.29960316085715, -32.24460560526437]]], &quot;type&quot;: &quot;Polygon&quot;}, &quot;id&quot;: &quot;212&quot;, &quot;properties&quot;: {&quot;aoi_code&quot;: &quot;AOI0395&quot;, &quot;cloud_cover&quot;: 61.6913, &quot;id&quot;: &quot;2021-08-05&quot;, &quot;percentage_valid_pixels&quot;: 1.0, &quot;source&quot;: &quot;s2&quot;}, &quot;type&quot;: &quot;Feature&quot;}, {&quot;bbox&quot;: [148.29960316085715, -32.24460560526437, 148.50960316085715, -32.03460560526437], &quot;geometry&quot;: {&quot;coordinates&quot;: [[[148.29960316085715, -32.24460560526437], [148.50960316085715, -32.24460560526437], [148.50960316085715, -32.03460560526437], [148.29960316085715, -32.03460560526437], [148.29960316085715, -32.24460560526437]]], &quot;type&quot;: &quot;Polygon&quot;}, &quot;id&quot;: &quot;213&quot;, &quot;properties&quot;: {&quot;aoi_code&quot;: &quot;AOI0395&quot;, &quot;cloud_cover&quot;: 0.1973, &quot;id&quot;: &quot;2021-08-10&quot;, &quot;percentage_valid_pixels&quot;: 1.0, &quot;source&quot;: &quot;s2&quot;}, &quot;type&quot;: &quot;Feature&quot;}, {&quot;bbox&quot;: [148.29960316085715, -32.24460560526437, 148.50960316085715, -32.03460560526437], &quot;geometry&quot;: {&quot;coordinates&quot;: [[[148.29960316085715, -32.24460560526437], [148.50960316085715, -32.24460560526437], [148.50960316085715, -32.03460560526437], [148.29960316085715, -32.03460560526437], [148.29960316085715, -32.24460560526437]]], &quot;type&quot;: &quot;Polygon&quot;}, &quot;id&quot;: &quot;214&quot;, &quot;properties&quot;: {&quot;aoi_code&quot;: &quot;AOI0395&quot;, &quot;cloud_cover&quot;: 0.0231, &quot;id&quot;: &quot;2021-08-15&quot;, &quot;percentage_valid_pixels&quot;: 1.0, &quot;source&quot;: &quot;s2&quot;}, &quot;type&quot;: &quot;Feature&quot;}, {&quot;bbox&quot;: [148.29960316085715, -32.24460560526437, 148.50960316085715, -32.03460560526437], &quot;geometry&quot;: {&quot;coordinates&quot;: [[[148.29960316085715, -32.24460560526437], [148.50960316085715, -32.24460560526437], [148.50960316085715, -32.03460560526437], [148.29960316085715, -32.03460560526437], [148.29960316085715, -32.24460560526437]]], &quot;type&quot;: &quot;Polygon&quot;}, &quot;id&quot;: &quot;215&quot;, &quot;properties&quot;: {&quot;aoi_code&quot;: &quot;AOI0395&quot;, &quot;cloud_cover&quot;: 0.0, &quot;id&quot;: &quot;2021-08-20&quot;, &quot;percentage_valid_pixels&quot;: 1.0, &quot;source&quot;: &quot;s2&quot;}, &quot;type&quot;: &quot;Feature&quot;}, {&quot;bbox&quot;: [148.29960316085715, -32.24460560526437, 148.50960316085715, -32.03460560526437], &quot;geometry&quot;: {&quot;coordinates&quot;: [[[148.29960316085715, -32.24460560526437], [148.50960316085715, -32.24460560526437], [148.50960316085715, -32.03460560526437], [148.29960316085715, -32.03460560526437], [148.29960316085715, -32.24460560526437]]], &quot;type&quot;: &quot;Polygon&quot;}, &quot;id&quot;: &quot;216&quot;, &quot;properties&quot;: {&quot;aoi_code&quot;: &quot;AOI0395&quot;, &quot;cloud_cover&quot;: 0.0179, &quot;id&quot;: &quot;2021-08-25&quot;, &quot;percentage_valid_pixels&quot;: 1.0, &quot;source&quot;: &quot;s2&quot;}, &quot;type&quot;: &quot;Feature&quot;}, {&quot;bbox&quot;: [148.29960316085715, -32.24460560526437, 148.50960316085715, -32.03460560526437], &quot;geometry&quot;: {&quot;coordinates&quot;: [[[148.29960316085715, -32.24460560526437], [148.50960316085715, -32.24460560526437], [148.50960316085715, -32.03460560526437], [148.29960316085715, -32.03460560526437], [148.29960316085715, -32.24460560526437]]], &quot;type&quot;: &quot;Polygon&quot;}, &quot;id&quot;: &quot;217&quot;, &quot;properties&quot;: {&quot;aoi_code&quot;: &quot;AOI0395&quot;, &quot;cloud_cover&quot;: 99.9943, &quot;id&quot;: &quot;2021-08-30&quot;, &quot;percentage_valid_pixels&quot;: 1.0, &quot;source&quot;: &quot;s2&quot;}, &quot;type&quot;: &quot;Feature&quot;}, {&quot;bbox&quot;: [148.29960316085715, -32.044605605264366, 148.50960316085715, -31.834605605264365], &quot;geometry&quot;: {&quot;coordinates&quot;: [[[148.29960316085715, -32.044605605264366], [148.50960316085715, -32.044605605264366], [148.50960316085715, -31.834605605264365], [148.29960316085715, -31.834605605264365], [148.29960316085715, -32.044605605264366]]], &quot;type&quot;: &quot;Polygon&quot;}, &quot;id&quot;: &quot;218&quot;, &quot;properties&quot;: {&quot;aoi_code&quot;: &quot;AOI0396&quot;, &quot;cloud_cover&quot;: 61.6913, &quot;id&quot;: &quot;2021-08-05&quot;, &quot;percentage_valid_pixels&quot;: 1.0, &quot;source&quot;: &quot;s2&quot;}, &quot;type&quot;: &quot;Feature&quot;}, {&quot;bbox&quot;: [148.29960316085715, -32.044605605264366, 148.50960316085715, -31.834605605264365], &quot;geometry&quot;: {&quot;coordinates&quot;: [[[148.29960316085715, -32.044605605264366], [148.50960316085715, -32.044605605264366], [148.50960316085715, -31.834605605264365], [148.29960316085715, -31.834605605264365], [148.29960316085715, -32.044605605264366]]], &quot;type&quot;: &quot;Polygon&quot;}, &quot;id&quot;: &quot;219&quot;, &quot;properties&quot;: {&quot;aoi_code&quot;: &quot;AOI0396&quot;, &quot;cloud_cover&quot;: 0.1973, &quot;id&quot;: &quot;2021-08-10&quot;, &quot;percentage_valid_pixels&quot;: 1.0, &quot;source&quot;: &quot;s2&quot;}, &quot;type&quot;: &quot;Feature&quot;}, {&quot;bbox&quot;: [148.29960316085715, -32.044605605264366, 148.50960316085715, -31.834605605264365], &quot;geometry&quot;: {&quot;coordinates&quot;: [[[148.29960316085715, -32.044605605264366], [148.50960316085715, -32.044605605264366], [148.50960316085715, -31.834605605264365], [148.29960316085715, -31.834605605264365], [148.29960316085715, -32.044605605264366]]], &quot;type&quot;: &quot;Polygon&quot;}, &quot;id&quot;: &quot;220&quot;, &quot;properties&quot;: {&quot;aoi_code&quot;: &quot;AOI0396&quot;, &quot;cloud_cover&quot;: 0.0231, &quot;id&quot;: &quot;2021-08-15&quot;, &quot;percentage_valid_pixels&quot;: 1.0, &quot;source&quot;: &quot;s2&quot;}, &quot;type&quot;: &quot;Feature&quot;}, {&quot;bbox&quot;: [148.29960316085715, -32.044605605264366, 148.50960316085715, -31.834605605264365], &quot;geometry&quot;: {&quot;coordinates&quot;: [[[148.29960316085715, -32.044605605264366], [148.50960316085715, -32.044605605264366], [148.50960316085715, -31.834605605264365], [148.29960316085715, -31.834605605264365], [148.29960316085715, -32.044605605264366]]], &quot;type&quot;: &quot;Polygon&quot;}, &quot;id&quot;: &quot;221&quot;, &quot;properties&quot;: {&quot;aoi_code&quot;: &quot;AOI0396&quot;, &quot;cloud_cover&quot;: 0.0, &quot;id&quot;: &quot;2021-08-20&quot;, &quot;percentage_valid_pixels&quot;: 1.0, &quot;source&quot;: &quot;s2&quot;}, &quot;type&quot;: &quot;Feature&quot;}, {&quot;bbox&quot;: [148.29960316085715, -32.044605605264366, 148.50960316085715, -31.834605605264365], &quot;geometry&quot;: {&quot;coordinates&quot;: [[[148.29960316085715, -32.044605605264366], [148.50960316085715, -32.044605605264366], [148.50960316085715, -31.834605605264365], [148.29960316085715, -31.834605605264365], [148.29960316085715, -32.044605605264366]]], &quot;type&quot;: &quot;Polygon&quot;}, &quot;id&quot;: &quot;222&quot;, &quot;properties&quot;: {&quot;aoi_code&quot;: &quot;AOI0396&quot;, &quot;cloud_cover&quot;: 0.0179, &quot;id&quot;: &quot;2021-08-25&quot;, &quot;percentage_valid_pixels&quot;: 1.0, &quot;source&quot;: &quot;s2&quot;}, &quot;type&quot;: &quot;Feature&quot;}, {&quot;bbox&quot;: [148.29960316085715, -32.044605605264366, 148.50960316085715, -31.834605605264365], &quot;geometry&quot;: {&quot;coordinates&quot;: [[[148.29960316085715, -32.044605605264366], [148.50960316085715, -32.044605605264366], [148.50960316085715, -31.834605605264365], [148.29960316085715, -31.834605605264365], [148.29960316085715, -32.044605605264366]]], &quot;type&quot;: &quot;Polygon&quot;}, &quot;id&quot;: &quot;223&quot;, &quot;properties&quot;: {&quot;aoi_code&quot;: &quot;AOI0396&quot;, &quot;cloud_cover&quot;: 99.9943, &quot;id&quot;: &quot;2021-08-30&quot;, &quot;percentage_valid_pixels&quot;: 1.0, &quot;source&quot;: &quot;s2&quot;}, &quot;type&quot;: &quot;Feature&quot;}], &quot;type&quot;: &quot;FeatureCollection&quot;});\n",
       "\n",
       "        \n",
       "    \n",
       "    geo_json_39a0109e39c3a76cfbbc87c680151af3.bindTooltip(\n",
       "    function(layer){\n",
       "    let div = L.DomUtil.create(&#x27;div&#x27;);\n",
       "    \n",
       "    let handleObject = feature=&gt;typeof(feature)==&#x27;object&#x27; ? JSON.stringify(feature) : feature;\n",
       "    let fields = [&quot;id&quot;, &quot;cloud_cover&quot;, &quot;source&quot;, &quot;aoi_code&quot;, &quot;percentage_valid_pixels&quot;];\n",
       "    let aliases = [&quot;id&quot;, &quot;cloud_cover&quot;, &quot;source&quot;, &quot;aoi_code&quot;, &quot;percentage_valid_pixels&quot;];\n",
       "    let table = &#x27;&lt;table&gt;&#x27; +\n",
       "        String(\n",
       "        fields.map(\n",
       "        (v,i)=&gt;\n",
       "        `&lt;tr&gt;\n",
       "            &lt;th&gt;${aliases[i]}&lt;/th&gt;\n",
       "            \n",
       "            &lt;td&gt;${handleObject(layer.feature.properties[v])}&lt;/td&gt;\n",
       "        &lt;/tr&gt;`).join(&#x27;&#x27;))\n",
       "    +&#x27;&lt;/table&gt;&#x27;;\n",
       "    div.innerHTML=table;\n",
       "    \n",
       "    return div\n",
       "    }\n",
       "    ,{&quot;className&quot;: &quot;foliumtooltip&quot;, &quot;sticky&quot;: true});\n",
       "                     \n",
       "&lt;/script&gt;\" style=\"position:absolute;width:100%;height:100%;left:0;top:0;border:none !important;\" allowfullscreen webkitallowfullscreen mozallowfullscreen></iframe></div></div>"
      ],
      "text/plain": [
       "<folium.folium.Map at 0x7ff2a4e56b10>"
      ]
     },
     "execution_count": 17,
     "metadata": {},
     "output_type": "execute_result"
    }
   ],
   "source": [
    "sydney20_df.explore()"
   ]
  },
  {
   "cell_type": "markdown",
   "id": "3d65b7c6-8ea8-4b89-bf42-c0eecd2f37e3",
   "metadata": {
    "tags": []
   },
   "source": [
    "# Visualisations"
   ]
  },
  {
   "cell_type": "markdown",
   "id": "2d03c2ee-7fab-4a9a-a7b3-c94f99e6c93c",
   "metadata": {},
   "source": [
    "The following has been made as a raw cell as it is continued in another notebook. Better to export our example 20 size df than re running this notebook and having to wait a long time"
   ]
  },
  {
   "cell_type": "raw",
   "id": "ee76a864-7ee5-42f7-88ac-63a4194402b3",
   "metadata": {},
   "source": [
    "Number of images per date (head)"
   ]
  },
  {
   "cell_type": "raw",
   "id": "b7f8215c-1246-413c-8dde-94dc96b4b30f",
   "metadata": {},
   "source": [
    "sydney20_df.groupby(['id']).count().head()"
   ]
  },
  {
   "cell_type": "raw",
   "id": "f7b5d509-8c4e-467e-bd26-c3ae2474e4c5",
   "metadata": {},
   "source": [
    "Number of images for each source per date"
   ]
  },
  {
   "cell_type": "raw",
   "id": "93573114-492a-4462-98cc-ba7f9b122443",
   "metadata": {},
   "source": [
    "sydney20_df.groupby(['id','source']).count()"
   ]
  },
  {
   "cell_type": "raw",
   "id": "6d0d7ac5-9166-425b-a7e1-ea6670e4b016",
   "metadata": {},
   "source": [
    "The above shows some dates have only one particular source and other dates have both sources. "
   ]
  },
  {
   "cell_type": "raw",
   "id": "a18bfdd7-1d28-4b05-b7bb-21d36c3fd444",
   "metadata": {
    "tags": []
   },
   "source": [
    "## Specific AOI cloud cover"
   ]
  },
  {
   "cell_type": "raw",
   "id": "c3b59819-be63-4695-a703-2b1876b5e703",
   "metadata": {},
   "source": [
    "Plotting a single AOI cloud cover over the timeperiod the AOI has images for. Needed to use `drop_duplicates()` as there are duplicate dates with the same `cloud_cover` but different `valid_pixels`"
   ]
  },
  {
   "cell_type": "raw",
   "id": "01bda84a-11ea-4eaf-825b-9a64b9384e90",
   "metadata": {},
   "source": [
    "ax = sydney20_df[(sydney20_df['source'] == 's2') & (sydney20_df['aoi_code'] == 'AOI01')].drop_duplicates(subset = 'id').plot(kind= 'scatter', x = 'id', y= 'cloud_cover', figsize = (15,10), color = 'orange')\n",
    "sydney20_df[(sydney20_df['source'] == 's2') & (sydney20_df['aoi_code'] == 'AOI01')].drop_duplicates(subset = 'id').plot(kind= 'line', x = 'id', y= 'cloud_cover', figsize = (15,10), color = 'orange', label = 's2', ax = ax)\n",
    "\n",
    "plt.xticks(rotation=90)\n",
    "plt.show()\n",
    "\n",
    "ax2= sydney20_df[(sydney20_df['source'] == 'landsat') & (sydney20_df['aoi_code'] == 'AOI01')].drop_duplicates(subset = 'id').plot(kind= 'scatter', x = 'id', y= 'cloud_cover', figsize = (15,10), legend = 'source')\n",
    "sydney20_df[(sydney20_df['source'] == 'landsat') & (sydney20_df['aoi_code'] == 'AOI01')].drop_duplicates(subset = 'id').plot(kind= 'line', x = 'id', y= 'cloud_cover', figsize = (15,10), legend = 'source', label = 'landsat', ax= ax2)\n",
    "\n",
    "\n",
    "plt.xticks(rotation=90)\n",
    "plt.show()"
   ]
  },
  {
   "cell_type": "raw",
   "id": "9c3d77d8-3306-4cbe-8e8b-0137331c49ba",
   "metadata": {},
   "source": [
    "Making a plotting function"
   ]
  },
  {
   "cell_type": "raw",
   "id": "4a38455b-a307-4a5b-af6f-70e1097fb78a",
   "metadata": {},
   "source": [
    "def cloudCover_period(aoiStr : str):\n",
    "    ax = sydney20_df[(sydney20_df['source'] == 's2') & (sydney20_df['aoi_code'] == aoiStr)].drop_duplicates(subset = 'id').plot(kind= 'scatter', x = 'id', y= 'cloud_cover', figsize = (15,10), color = 'orange')\n",
    "    sydney20_df[(sydney20_df['source'] == 's2') & (sydney20_df['aoi_code'] == aoiStr)].drop_duplicates(subset = 'id').plot(kind= 'line', x = 'id', y= 'cloud_cover', figsize = (15,10), color = 'orange', ax = ax)\n",
    "\n",
    "    plt.xticks(rotation=90)\n",
    "    plt.title(f'S2 cloud cover for {aoiStr}')\n",
    "    plt.show()\n",
    "\n",
    "\n",
    "    ax2= sydney20_df[(sydney20_df['source'] == 'landsat') & (sydney20_df['aoi_code'] == aoiStr)].drop_duplicates(subset = 'id').plot(kind= 'scatter', x = 'id', y= 'cloud_cover', figsize = (15,10), legend = 'source')\n",
    "    sydney20_df[(sydney20_df['source'] == 'landsat') & (sydney20_df['aoi_code'] == aoiStr)].drop_duplicates(subset = 'id').plot(kind= 'line', x = 'id', y= 'cloud_cover', figsize = (15,10), legend = 'source', ax= ax2)\n",
    "\n",
    "\n",
    "    plt.xticks(rotation=90)\n",
    "    plt.title(f'Landsat cloud cover for {aoiStr}')\n",
    "    plt.show()"
   ]
  },
  {
   "cell_type": "raw",
   "id": "6ae2b81c-a294-483b-bfdf-936a40672064",
   "metadata": {},
   "source": [
    "Testing the function for a new aoi."
   ]
  },
  {
   "cell_type": "raw",
   "id": "6f0fb087-fd42-4cd1-bebf-e8bb36ee7570",
   "metadata": {},
   "source": [
    "cloudCover_period('AOI02')"
   ]
  },
  {
   "cell_type": "raw",
   "id": "9bc114f9-d424-4e10-a615-045415dddf91",
   "metadata": {
    "tags": []
   },
   "source": [
    "## Interactive map to check AOIs for desired source"
   ]
  },
  {
   "cell_type": "raw",
   "id": "d182b5d8-0d93-4154-8d0f-0de14c563806",
   "metadata": {},
   "source": [
    "sydney20_df.explore(tooltip = 'aoi_code', column= 'aoi_code', popup= True, style_kwds= dict(color= 'black'), cmap = 'Set1')"
   ]
  },
  {
   "cell_type": "raw",
   "id": "38e1c595-b1e0-499a-827a-9ce8e4d1ef2b",
   "metadata": {},
   "source": [
    "sydney20_df[sydney20_df['source'] == 'landsat'].sort_values(by = 'id')"
   ]
  },
  {
   "cell_type": "raw",
   "id": "479452d8-f83f-4f8a-b08d-44e87ffdcbed",
   "metadata": {},
   "source": [
    "sydney20_df[(sydney20_df['source'] == 'landsat') & (sydney20_df['id'] == '2021-08-13')].drop_duplicates(subset = 'aoi_code')"
   ]
  },
  {
   "cell_type": "raw",
   "id": "06f05cd2-3588-4574-a8d3-07bc9ee0cb91",
   "metadata": {},
   "source": [
    "sydney20_df[(sydney20_df['source'] == 'landsat') & (sydney20_df['id'] == '2021-08-13')].drop_duplicates(subset = 'aoi_code').explore(tooltip = 'aoi_code', column= 'aoi_code', popup= True, style_kwds= dict(color= 'black'))"
   ]
  },
  {
   "cell_type": "raw",
   "id": "5173042f-0ba2-4c8b-b7f2-20281671f50d",
   "metadata": {},
   "source": [
    "def aoiExplore(sourceStr: str, dateStr: str):\n",
    "    # sydney20_df[(sydney20_df['id'] == dateStr) & (sydney20_df['source'] == sourceStr)].explore(tooltip = 'aoi_code', column= 'aoi_code', popup= True, style_kwds= dict(color= 'black'))\n",
    "    return(sydney20_df[(sydney20_df['id'] == dateStr) & (sydney20_df['source'] == sourceStr)].drop_duplicates(subset = 'aoi_code').explore(tooltip = 'aoi_code', column= 'aoi_code', popup= True, style_kwds= dict(color= 'black')))"
   ]
  },
  {
   "cell_type": "raw",
   "id": "918a4ea1-71e7-43e8-add6-ffd8dbd66e66",
   "metadata": {},
   "source": [
    "aoiExplore('landsat', '2021-08-13')"
   ]
  }
 ],
 "metadata": {
  "environment": {
   "kernel": "python3",
   "name": "common-cpu.m95",
   "type": "gcloud",
   "uri": "gcr.io/deeplearning-platform-release/base-cpu:m95"
  },
  "kernelspec": {
   "display_name": "Python 3",
   "language": "python",
   "name": "python3"
  },
  "language_info": {
   "codemirror_mode": {
    "name": "ipython",
    "version": 3
   },
   "file_extension": ".py",
   "mimetype": "text/x-python",
   "name": "python",
   "nbconvert_exporter": "python",
   "pygments_lexer": "ipython3",
   "version": "3.7.12"
  }
 },
 "nbformat": 4,
 "nbformat_minor": 5
}
