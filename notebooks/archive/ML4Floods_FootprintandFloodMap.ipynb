{
 "cells": [
  {
   "cell_type": "markdown",
   "metadata": {},
   "source": [
    "This is the old intersection notebook. Nothing really useful here, just used the `overlay` function to get the intersection and nothing else. "
   ]
  },
  {
   "cell_type": "code",
   "execution_count": null,
   "metadata": {
    "colab": {
     "background_save": true,
     "base_uri": "https://localhost:8080/"
    },
    "id": "QwxSI74bu5uC",
    "outputId": "8b58ea8d-846e-4d52-936e-c09e10546386"
   },
   "outputs": [
    {
     "name": "stdout",
     "output_type": "stream",
     "text": [
      "Looking in indexes: https://pypi.org/simple, https://us-python.pkg.dev/colab-wheels/public/simple/\n",
      "Collecting ml4floods\n",
      "  Cloning https://github.com/spaceml-org/ml4floods to /tmp/pip-install-ldb1m489/ml4floods_00cce41b67de4ca28563450b0df9addf\n",
      "  Running command git clone -q https://github.com/spaceml-org/ml4floods /tmp/pip-install-ldb1m489/ml4floods_00cce41b67de4ca28563450b0df9addf\n",
      "Requirement already satisfied: torch in /usr/local/lib/python3.7/dist-packages (from ml4floods) (1.12.1+cu113)\n",
      "Requirement already satisfied: torchvision in /usr/local/lib/python3.7/dist-packages (from ml4floods) (0.13.1+cu113)\n",
      "Requirement already satisfied: pytorch-lightning in /usr/local/lib/python3.7/dist-packages (from ml4floods) (1.7.2)\n",
      "Requirement already satisfied: numpy in /usr/local/lib/python3.7/dist-packages (from ml4floods) (1.21.6)\n",
      "Requirement already satisfied: matplotlib in /usr/local/lib/python3.7/dist-packages (from ml4floods) (3.2.2)\n",
      "Requirement already satisfied: seaborn in /usr/local/lib/python3.7/dist-packages (from ml4floods) (0.11.2)\n",
      "Requirement already satisfied: scipy in /usr/local/lib/python3.7/dist-packages (from ml4floods) (1.7.3)\n",
      "Requirement already satisfied: pandas in /usr/local/lib/python3.7/dist-packages (from ml4floods) (1.3.5)\n",
      "Requirement already satisfied: rasterio in /usr/local/lib/python3.7/dist-packages (from ml4floods) (1.2.10)\n",
      "Requirement already satisfied: geopandas in /usr/local/lib/python3.7/dist-packages (from ml4floods) (0.10.2)\n",
      "Requirement already satisfied: tqdm in /usr/local/lib/python3.7/dist-packages (from ml4floods) (4.64.0)\n",
      "Requirement already satisfied: opencv-python in /usr/local/lib/python3.7/dist-packages (from ml4floods) (4.6.0.66)\n",
      "Requirement already satisfied: albumentations in /usr/local/lib/python3.7/dist-packages (from ml4floods) (1.2.1)\n",
      "Requirement already satisfied: google-cloud-storage in /usr/local/lib/python3.7/dist-packages (from ml4floods) (1.18.1)\n",
      "Requirement already satisfied: fsspec in /usr/local/lib/python3.7/dist-packages (from ml4floods) (2022.7.1)\n",
      "Requirement already satisfied: gcsfs in /usr/local/lib/python3.7/dist-packages (from ml4floods) (2022.7.1)\n",
      "Requirement already satisfied: requests_html in /usr/local/lib/python3.7/dist-packages (from ml4floods) (0.10.0)\n",
      "Requirement already satisfied: earthengine-api in /usr/local/lib/python3.7/dist-packages (from ml4floods) (0.1.320)\n",
      "Requirement already satisfied: mercantile in /usr/local/lib/python3.7/dist-packages (from ml4floods) (1.2.1)\n",
      "Requirement already satisfied: PyYAML in /usr/local/lib/python3.7/dist-packages (from albumentations->ml4floods) (6.0)\n",
      "Requirement already satisfied: opencv-python-headless>=4.1.1 in /usr/local/lib/python3.7/dist-packages (from albumentations->ml4floods) (4.6.0.66)\n",
      "Requirement already satisfied: scikit-image>=0.16.1 in /usr/local/lib/python3.7/dist-packages (from albumentations->ml4floods) (0.18.3)\n",
      "Requirement already satisfied: qudida>=0.0.4 in /usr/local/lib/python3.7/dist-packages (from albumentations->ml4floods) (0.0.4)\n",
      "Requirement already satisfied: typing-extensions in /usr/local/lib/python3.7/dist-packages (from qudida>=0.0.4->albumentations->ml4floods) (4.1.1)\n",
      "Requirement already satisfied: scikit-learn>=0.19.1 in /usr/local/lib/python3.7/dist-packages (from qudida>=0.0.4->albumentations->ml4floods) (1.0.2)\n",
      "Requirement already satisfied: networkx>=2.0 in /usr/local/lib/python3.7/dist-packages (from scikit-image>=0.16.1->albumentations->ml4floods) (2.6.3)\n",
      "Requirement already satisfied: tifffile>=2019.7.26 in /usr/local/lib/python3.7/dist-packages (from scikit-image>=0.16.1->albumentations->ml4floods) (2021.11.2)\n",
      "Requirement already satisfied: pillow!=7.1.0,!=7.1.1,>=4.3.0 in /usr/local/lib/python3.7/dist-packages (from scikit-image>=0.16.1->albumentations->ml4floods) (7.1.2)\n",
      "Requirement already satisfied: PyWavelets>=1.1.1 in /usr/local/lib/python3.7/dist-packages (from scikit-image>=0.16.1->albumentations->ml4floods) (1.3.0)\n",
      "Requirement already satisfied: imageio>=2.3.0 in /usr/local/lib/python3.7/dist-packages (from scikit-image>=0.16.1->albumentations->ml4floods) (2.9.0)\n",
      "Requirement already satisfied: python-dateutil>=2.1 in /usr/local/lib/python3.7/dist-packages (from matplotlib->ml4floods) (2.8.2)\n",
      "Requirement already satisfied: kiwisolver>=1.0.1 in /usr/local/lib/python3.7/dist-packages (from matplotlib->ml4floods) (1.4.4)\n",
      "Requirement already satisfied: cycler>=0.10 in /usr/local/lib/python3.7/dist-packages (from matplotlib->ml4floods) (0.11.0)\n",
      "Requirement already satisfied: pyparsing!=2.0.4,!=2.1.2,!=2.1.6,>=2.0.1 in /usr/local/lib/python3.7/dist-packages (from matplotlib->ml4floods) (3.0.9)\n",
      "Requirement already satisfied: six>=1.5 in /usr/local/lib/python3.7/dist-packages (from python-dateutil>=2.1->matplotlib->ml4floods) (1.15.0)\n",
      "Requirement already satisfied: threadpoolctl>=2.0.0 in /usr/local/lib/python3.7/dist-packages (from scikit-learn>=0.19.1->qudida>=0.0.4->albumentations->ml4floods) (3.1.0)\n",
      "Requirement already satisfied: joblib>=0.11 in /usr/local/lib/python3.7/dist-packages (from scikit-learn>=0.19.1->qudida>=0.0.4->albumentations->ml4floods) (1.1.0)\n",
      "Requirement already satisfied: google-api-python-client<2,>=1.12.1 in /usr/local/lib/python3.7/dist-packages (from earthengine-api->ml4floods) (1.12.11)\n",
      "Requirement already satisfied: google-auth-httplib2>=0.0.3 in /usr/local/lib/python3.7/dist-packages (from earthengine-api->ml4floods) (0.0.4)\n",
      "Requirement already satisfied: google-auth>=1.4.1 in /usr/local/lib/python3.7/dist-packages (from earthengine-api->ml4floods) (1.35.0)\n",
      "Requirement already satisfied: httplib2shim in /usr/local/lib/python3.7/dist-packages (from earthengine-api->ml4floods) (0.0.3)\n",
      "Requirement already satisfied: httplib2<1dev,>=0.9.2 in /usr/local/lib/python3.7/dist-packages (from earthengine-api->ml4floods) (0.17.4)\n",
      "Requirement already satisfied: future in /usr/local/lib/python3.7/dist-packages (from earthengine-api->ml4floods) (0.16.0)\n",
      "Requirement already satisfied: google-api-core<3dev,>=1.21.0 in /usr/local/lib/python3.7/dist-packages (from google-api-python-client<2,>=1.12.1->earthengine-api->ml4floods) (1.31.6)\n",
      "Requirement already satisfied: uritemplate<4dev,>=3.0.0 in /usr/local/lib/python3.7/dist-packages (from google-api-python-client<2,>=1.12.1->earthengine-api->ml4floods) (3.0.1)\n",
      "Requirement already satisfied: googleapis-common-protos<2.0dev,>=1.6.0 in /usr/local/lib/python3.7/dist-packages (from google-api-core<3dev,>=1.21.0->google-api-python-client<2,>=1.12.1->earthengine-api->ml4floods) (1.56.4)\n",
      "Requirement already satisfied: packaging>=14.3 in /usr/local/lib/python3.7/dist-packages (from google-api-core<3dev,>=1.21.0->google-api-python-client<2,>=1.12.1->earthengine-api->ml4floods) (21.3)\n",
      "Requirement already satisfied: requests<3.0.0dev,>=2.18.0 in /usr/local/lib/python3.7/dist-packages (from google-api-core<3dev,>=1.21.0->google-api-python-client<2,>=1.12.1->earthengine-api->ml4floods) (2.23.0)\n",
      "Requirement already satisfied: setuptools>=40.3.0 in /usr/local/lib/python3.7/dist-packages (from google-api-core<3dev,>=1.21.0->google-api-python-client<2,>=1.12.1->earthengine-api->ml4floods) (57.4.0)\n",
      "Requirement already satisfied: protobuf<4.0.0dev,>=3.12.0 in /usr/local/lib/python3.7/dist-packages (from google-api-core<3dev,>=1.21.0->google-api-python-client<2,>=1.12.1->earthengine-api->ml4floods) (3.17.3)\n",
      "Requirement already satisfied: pytz in /usr/local/lib/python3.7/dist-packages (from google-api-core<3dev,>=1.21.0->google-api-python-client<2,>=1.12.1->earthengine-api->ml4floods) (2022.2.1)\n",
      "Requirement already satisfied: pyasn1-modules>=0.2.1 in /usr/local/lib/python3.7/dist-packages (from google-auth>=1.4.1->earthengine-api->ml4floods) (0.2.8)\n",
      "Requirement already satisfied: cachetools<5.0,>=2.0.0 in /usr/local/lib/python3.7/dist-packages (from google-auth>=1.4.1->earthengine-api->ml4floods) (4.2.4)\n",
      "Requirement already satisfied: rsa<5,>=3.1.4 in /usr/local/lib/python3.7/dist-packages (from google-auth>=1.4.1->earthengine-api->ml4floods) (4.9)\n",
      "Requirement already satisfied: pyasn1<0.5.0,>=0.4.6 in /usr/local/lib/python3.7/dist-packages (from pyasn1-modules>=0.2.1->google-auth>=1.4.1->earthengine-api->ml4floods) (0.4.8)\n",
      "Requirement already satisfied: urllib3!=1.25.0,!=1.25.1,<1.26,>=1.21.1 in /usr/local/lib/python3.7/dist-packages (from requests<3.0.0dev,>=2.18.0->google-api-core<3dev,>=1.21.0->google-api-python-client<2,>=1.12.1->earthengine-api->ml4floods) (1.25.11)\n",
      "Requirement already satisfied: chardet<4,>=3.0.2 in /usr/local/lib/python3.7/dist-packages (from requests<3.0.0dev,>=2.18.0->google-api-core<3dev,>=1.21.0->google-api-python-client<2,>=1.12.1->earthengine-api->ml4floods) (3.0.4)\n",
      "Requirement already satisfied: certifi>=2017.4.17 in /usr/local/lib/python3.7/dist-packages (from requests<3.0.0dev,>=2.18.0->google-api-core<3dev,>=1.21.0->google-api-python-client<2,>=1.12.1->earthengine-api->ml4floods) (2022.6.15)\n",
      "Requirement already satisfied: idna<3,>=2.5 in /usr/local/lib/python3.7/dist-packages (from requests<3.0.0dev,>=2.18.0->google-api-core<3dev,>=1.21.0->google-api-python-client<2,>=1.12.1->earthengine-api->ml4floods) (2.10)\n",
      "Requirement already satisfied: aiohttp in /usr/local/lib/python3.7/dist-packages (from gcsfs->ml4floods) (3.8.1)\n",
      "Requirement already satisfied: decorator>4.1.2 in /usr/local/lib/python3.7/dist-packages (from gcsfs->ml4floods) (4.4.2)\n",
      "Requirement already satisfied: google-auth-oauthlib in /usr/local/lib/python3.7/dist-packages (from gcsfs->ml4floods) (0.4.6)\n",
      "Requirement already satisfied: frozenlist>=1.1.1 in /usr/local/lib/python3.7/dist-packages (from aiohttp->gcsfs->ml4floods) (1.3.1)\n",
      "Requirement already satisfied: charset-normalizer<3.0,>=2.0 in /usr/local/lib/python3.7/dist-packages (from aiohttp->gcsfs->ml4floods) (2.1.0)\n",
      "Requirement already satisfied: asynctest==0.13.0 in /usr/local/lib/python3.7/dist-packages (from aiohttp->gcsfs->ml4floods) (0.13.0)\n",
      "Requirement already satisfied: multidict<7.0,>=4.5 in /usr/local/lib/python3.7/dist-packages (from aiohttp->gcsfs->ml4floods) (6.0.2)\n",
      "Requirement already satisfied: yarl<2.0,>=1.0 in /usr/local/lib/python3.7/dist-packages (from aiohttp->gcsfs->ml4floods) (1.8.1)\n",
      "Requirement already satisfied: attrs>=17.3.0 in /usr/local/lib/python3.7/dist-packages (from aiohttp->gcsfs->ml4floods) (22.1.0)\n",
      "Requirement already satisfied: async-timeout<5.0,>=4.0.0a3 in /usr/local/lib/python3.7/dist-packages (from aiohttp->gcsfs->ml4floods) (4.0.2)\n",
      "Requirement already satisfied: aiosignal>=1.1.2 in /usr/local/lib/python3.7/dist-packages (from aiohttp->gcsfs->ml4floods) (1.2.0)\n",
      "Requirement already satisfied: fiona>=1.8 in /usr/local/lib/python3.7/dist-packages (from geopandas->ml4floods) (1.8.21)\n",
      "Requirement already satisfied: pyproj>=2.2.0 in /usr/local/lib/python3.7/dist-packages (from geopandas->ml4floods) (3.2.1)\n",
      "Requirement already satisfied: shapely>=1.6 in /usr/local/lib/python3.7/dist-packages (from geopandas->ml4floods) (1.8.4)\n",
      "Requirement already satisfied: munch in /usr/local/lib/python3.7/dist-packages (from fiona>=1.8->geopandas->ml4floods) (2.5.0)\n",
      "Requirement already satisfied: cligj>=0.5 in /usr/local/lib/python3.7/dist-packages (from fiona>=1.8->geopandas->ml4floods) (0.7.2)\n",
      "Requirement already satisfied: click>=4.0 in /usr/local/lib/python3.7/dist-packages (from fiona>=1.8->geopandas->ml4floods) (7.1.2)\n",
      "Requirement already satisfied: click-plugins>=1.0 in /usr/local/lib/python3.7/dist-packages (from fiona>=1.8->geopandas->ml4floods) (1.1.1)\n",
      "Requirement already satisfied: requests-oauthlib>=0.7.0 in /usr/local/lib/python3.7/dist-packages (from google-auth-oauthlib->gcsfs->ml4floods) (1.3.1)\n",
      "Requirement already satisfied: oauthlib>=3.0.0 in /usr/local/lib/python3.7/dist-packages (from requests-oauthlib>=0.7.0->google-auth-oauthlib->gcsfs->ml4floods) (3.2.0)\n",
      "Requirement already satisfied: google-cloud-core<2.0dev,>=1.0.0 in /usr/local/lib/python3.7/dist-packages (from google-cloud-storage->ml4floods) (1.0.3)\n",
      "Requirement already satisfied: google-resumable-media<0.5.0dev,>=0.3.1 in /usr/local/lib/python3.7/dist-packages (from google-cloud-storage->ml4floods) (0.4.1)\n",
      "Requirement already satisfied: torchmetrics>=0.7.0 in /usr/local/lib/python3.7/dist-packages (from pytorch-lightning->ml4floods) (0.9.3)\n",
      "Requirement already satisfied: pyDeprecate>=0.3.1 in /usr/local/lib/python3.7/dist-packages (from pytorch-lightning->ml4floods) (0.3.2)\n",
      "Requirement already satisfied: tensorboard>=2.9.1 in /usr/local/lib/python3.7/dist-packages (from pytorch-lightning->ml4floods) (2.10.0)\n",
      "Requirement already satisfied: tensorboard-plugin-wit>=1.6.0 in /usr/local/lib/python3.7/dist-packages (from tensorboard>=2.9.1->pytorch-lightning->ml4floods) (1.8.1)\n",
      "Requirement already satisfied: werkzeug>=1.0.1 in /usr/local/lib/python3.7/dist-packages (from tensorboard>=2.9.1->pytorch-lightning->ml4floods) (1.0.1)\n",
      "Requirement already satisfied: markdown>=2.6.8 in /usr/local/lib/python3.7/dist-packages (from tensorboard>=2.9.1->pytorch-lightning->ml4floods) (3.4.1)\n",
      "Requirement already satisfied: grpcio>=1.24.3 in /usr/local/lib/python3.7/dist-packages (from tensorboard>=2.9.1->pytorch-lightning->ml4floods) (1.47.0)\n",
      "Requirement already satisfied: wheel>=0.26 in /usr/local/lib/python3.7/dist-packages (from tensorboard>=2.9.1->pytorch-lightning->ml4floods) (0.37.1)\n",
      "Requirement already satisfied: absl-py>=0.4 in /usr/local/lib/python3.7/dist-packages (from tensorboard>=2.9.1->pytorch-lightning->ml4floods) (1.2.0)\n",
      "Requirement already satisfied: tensorboard-data-server<0.7.0,>=0.6.0 in /usr/local/lib/python3.7/dist-packages (from tensorboard>=2.9.1->pytorch-lightning->ml4floods) (0.6.1)\n",
      "Requirement already satisfied: importlib-metadata>=4.4 in /usr/local/lib/python3.7/dist-packages (from markdown>=2.6.8->tensorboard>=2.9.1->pytorch-lightning->ml4floods) (4.12.0)\n",
      "Requirement already satisfied: zipp>=0.5 in /usr/local/lib/python3.7/dist-packages (from importlib-metadata>=4.4->markdown>=2.6.8->tensorboard>=2.9.1->pytorch-lightning->ml4floods) (3.8.1)\n",
      "Requirement already satisfied: affine in /usr/local/lib/python3.7/dist-packages (from rasterio->ml4floods) (2.3.1)\n",
      "Requirement already satisfied: snuggs>=1.4.1 in /usr/local/lib/python3.7/dist-packages (from rasterio->ml4floods) (1.4.7)\n",
      "Requirement already satisfied: bs4 in /usr/local/lib/python3.7/dist-packages (from requests_html->ml4floods) (0.0.1)\n",
      "Requirement already satisfied: w3lib in /usr/local/lib/python3.7/dist-packages (from requests_html->ml4floods) (2.0.1)\n",
      "Requirement already satisfied: pyquery in /usr/local/lib/python3.7/dist-packages (from requests_html->ml4floods) (1.4.3)\n",
      "Requirement already satisfied: parse in /usr/local/lib/python3.7/dist-packages (from requests_html->ml4floods) (1.19.0)\n",
      "Requirement already satisfied: pyppeteer>=0.0.14 in /usr/local/lib/python3.7/dist-packages (from requests_html->ml4floods) (1.0.2)\n",
      "Requirement already satisfied: fake-useragent in /usr/local/lib/python3.7/dist-packages (from requests_html->ml4floods) (0.1.11)\n",
      "Requirement already satisfied: websockets<11.0,>=10.0 in /usr/local/lib/python3.7/dist-packages (from pyppeteer>=0.0.14->requests_html->ml4floods) (10.3)\n",
      "Requirement already satisfied: pyee<9.0.0,>=8.1.0 in /usr/local/lib/python3.7/dist-packages (from pyppeteer>=0.0.14->requests_html->ml4floods) (8.2.2)\n",
      "Requirement already satisfied: appdirs<2.0.0,>=1.4.3 in /usr/local/lib/python3.7/dist-packages (from pyppeteer>=0.0.14->requests_html->ml4floods) (1.4.4)\n",
      "Requirement already satisfied: beautifulsoup4 in /usr/local/lib/python3.7/dist-packages (from bs4->requests_html->ml4floods) (4.6.3)\n",
      "Requirement already satisfied: lxml>=2.1 in /usr/local/lib/python3.7/dist-packages (from pyquery->requests_html->ml4floods) (4.9.1)\n",
      "Requirement already satisfied: cssselect>0.7.9 in /usr/local/lib/python3.7/dist-packages (from pyquery->requests_html->ml4floods) (1.1.0)\n",
      "Looking in indexes: https://pypi.org/simple, https://us-python.pkg.dev/colab-wheels/public/simple/\n",
      "Requirement already satisfied: pygeos in /usr/local/lib/python3.7/dist-packages (0.12.0)\n",
      "Requirement already satisfied: numpy>=1.13 in /usr/local/lib/python3.7/dist-packages (from pygeos) (1.21.6)\n"
     ]
    }
   ],
   "source": [
    "!pip install git+https://github.com/spaceml-org/ml4floods#egg=ml4floods\n",
    "!pip install pygeos"
   ]
  },
  {
   "cell_type": "code",
   "execution_count": null,
   "metadata": {
    "id": "QR8Vyi6UsFeK"
   },
   "outputs": [],
   "source": [
    "from google.colab import drive\n",
    "drive.mount('/content/drive')"
   ]
  },
  {
   "cell_type": "code",
   "execution_count": null,
   "metadata": {
    "id": "BC3woSzAr8ps"
   },
   "outputs": [],
   "source": [
    "import pandas as pd\n",
    "import geopandas as gpd\n",
    "import numpy as np\n",
    "import os\n",
    "import pygeos\n",
    "gpd.options.use_pygeos = True"
   ]
  },
  {
   "cell_type": "markdown",
   "metadata": {
    "id": "qoRKwNxt6rYC"
   },
   "source": [
    "Checking if `geopandas` and `pygeos` are up to date. Changelog update listed [here](https://geopandas.org/en/stable/docs/changelog.html) and [here](https://pygeos.readthedocs.io/en/latest/changelog.html). Have to check the packages are up to date as there have been issues in the passed when they are not. "
   ]
  },
  {
   "cell_type": "code",
   "execution_count": null,
   "metadata": {
    "id": "wLMyJZG6zI3S"
   },
   "outputs": [],
   "source": [
    "gpd.__version__"
   ]
  },
  {
   "cell_type": "code",
   "execution_count": null,
   "metadata": {
    "id": "99s3gyqmza8X"
   },
   "outputs": [],
   "source": [
    "pygeos.__version__"
   ]
  },
  {
   "cell_type": "code",
   "execution_count": null,
   "metadata": {
    "id": "P3rtqI_UvlNM"
   },
   "outputs": [],
   "source": [
    "syd_footprint_file = '/content/drive/MyDrive/PACE_ML4Floods/Team Workspace/data/syd_footprint.geojson'"
   ]
  },
  {
   "cell_type": "code",
   "execution_count": null,
   "metadata": {
    "colab": {
     "background_save": true
    },
    "id": "EB-Xk1sCvt2O"
   },
   "outputs": [],
   "source": [
    "syd_footprint = gpd.read_file(syd_footprint_file)"
   ]
  },
  {
   "cell_type": "code",
   "execution_count": null,
   "metadata": {
    "colab": {
     "background_save": true
    },
    "id": "w1RL1dbIv5WF"
   },
   "outputs": [],
   "source": [
    "syd_map_file = '/content/drive/MyDrive/PACE_ML4Floods/Team Workspace/data_noSharing/0_DEV_1_Staging_operational_EMSR586_prepostflood_2022-06-26_2022-06-27_2022-07-17.geojson'"
   ]
  },
  {
   "cell_type": "code",
   "execution_count": null,
   "metadata": {
    "colab": {
     "background_save": true
    },
    "id": "YYfL4FrIwCFJ"
   },
   "outputs": [],
   "source": [
    "syd_map = gpd.read_file(syd_map_file)"
   ]
  },
  {
   "cell_type": "code",
   "execution_count": null,
   "metadata": {
    "colab": {
     "background_save": true
    },
    "id": "YiTBjhsc0Net",
    "outputId": "4dd16e01-4551-48b9-c0ff-286a81b1adf8"
   },
   "outputs": [
    {
     "data": {
      "text/plain": [
       "0          POLYGON ((147.10134 -35.30394, 147.10140 -35.3...\n",
       "1          POLYGON ((147.11216 -34.19285, 147.11209 -34.1...\n",
       "2          POLYGON ((147.11363 -32.84845, 147.11368 -32.8...\n",
       "3          POLYGON ((147.11665 -35.07881, 147.11641 -35.0...\n",
       "4          POLYGON ((147.12416 -33.05343, 147.12424 -33.0...\n",
       "                                 ...                        \n",
       "2659251    POLYGON ((152.69374 -31.43592, 152.69372 -31.4...\n",
       "2659252    POLYGON ((152.70009 -30.86670, 152.70016 -30.8...\n",
       "2659253    POLYGON ((152.70255 -31.63902, 152.70260 -31.6...\n",
       "2659254    POLYGON ((152.70282 -31.62949, 152.70282 -31.6...\n",
       "2659255    POLYGON ((152.70635 -30.89607, 152.70647 -30.8...\n",
       "Name: geometry, Length: 2659256, dtype: geometry"
      ]
     },
     "execution_count": 11,
     "metadata": {},
     "output_type": "execute_result"
    }
   ],
   "source": [
    "syd_footprint.geometry"
   ]
  },
  {
   "cell_type": "code",
   "execution_count": null,
   "metadata": {
    "colab": {
     "background_save": true
    },
    "id": "ckE-eGCm7Xtd",
    "outputId": "6de64343-4050-4807-ab53-05badb5e16ba"
   },
   "outputs": [
    {
     "data": {
      "text/plain": [
       "2659256"
      ]
     },
     "execution_count": 12,
     "metadata": {},
     "output_type": "execute_result"
    }
   ],
   "source": [
    "len(syd_footprint.geometry)"
   ]
  },
  {
   "cell_type": "code",
   "execution_count": null,
   "metadata": {
    "colab": {
     "background_save": true
    },
    "id": "vvz3FSQa25Gt",
    "outputId": "4da0109d-f7d5-472d-bf48-008d185c6324"
   },
   "outputs": [
    {
     "data": {
      "text/plain": [
       "0        POLYGON ((149.30449 -35.04436, 149.29995 -35.0...\n",
       "1        POLYGON ((147.39662 -31.63683, 147.39641 -31.6...\n",
       "2        POLYGON ((148.09970 -31.83623, 148.09991 -31.8...\n",
       "3        POLYGON ((152.49992 -32.24480, 152.49970 -32.2...\n",
       "4        POLYGON ((152.68708 -30.64361, 152.68701 -30.6...\n",
       "                               ...                        \n",
       "91120    POLYGON ((152.66383 -30.43810, 152.66383 -30.4...\n",
       "91121    POLYGON ((152.68799 -30.43545, 152.68841 -30.4...\n",
       "91122    POLYGON ((152.66217 -30.43593, 152.66217 -30.4...\n",
       "91123    POLYGON ((152.69862 -30.43512, 152.69883 -30.4...\n",
       "91124    POLYGON ((152.59635 -30.43556, 152.59614 -30.4...\n",
       "Name: geometry, Length: 91125, dtype: geometry"
      ]
     },
     "execution_count": 13,
     "metadata": {},
     "output_type": "execute_result"
    }
   ],
   "source": [
    "syd_map.geometry"
   ]
  },
  {
   "cell_type": "code",
   "execution_count": null,
   "metadata": {
    "colab": {
     "background_save": true
    },
    "id": "eB9K7biN7ZUP",
    "outputId": "a027bb47-b27e-42d8-f9c8-f6538d4e6df2"
   },
   "outputs": [
    {
     "data": {
      "text/plain": [
       "91125"
      ]
     },
     "execution_count": 14,
     "metadata": {},
     "output_type": "execute_result"
    }
   ],
   "source": [
    "len(syd_map.geometry)"
   ]
  },
  {
   "cell_type": "code",
   "execution_count": null,
   "metadata": {
    "colab": {
     "background_save": true
    },
    "id": "L626XB5H7UdZ"
   },
   "outputs": [],
   "source": [
    "map_intersection = syd_footprint.overlay(syd_map, how='intersection')"
   ]
  }
 ],
 "metadata": {
  "colab": {
   "include_colab_link": true,
   "name": "ML4Floods_FootprintandFloodMap.ipynb",
   "provenance": []
  },
  "environment": {
   "kernel": "python3",
   "name": "common-cpu.m95",
   "type": "gcloud",
   "uri": "gcr.io/deeplearning-platform-release/base-cpu:m95"
  },
  "kernelspec": {
   "display_name": "Python 3",
   "language": "python",
   "name": "python3"
  },
  "language_info": {
   "codemirror_mode": {
    "name": "ipython",
    "version": 3
   },
   "file_extension": ".py",
   "mimetype": "text/x-python",
   "name": "python",
   "nbconvert_exporter": "python",
   "pygments_lexer": "ipython3",
   "version": "3.7.12"
  }
 },
 "nbformat": 4,
 "nbformat_minor": 4
}
