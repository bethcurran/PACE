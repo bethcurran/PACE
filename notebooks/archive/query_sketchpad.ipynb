{
 "cells": [
  {
   "cell_type": "markdown",
   "id": "cdc8a366-ecf2-434f-9ce8-c5c24ee01fd3",
   "metadata": {},
   "source": [
    "# THIS SKETCHPAD HAS BEEN CLEANED INTO 'SKETCHPAD2' "
   ]
  },
  {
   "cell_type": "code",
   "execution_count": 1,
   "id": "3b0090df-a344-4607-b57e-ae0cb35e9758",
   "metadata": {},
   "outputs": [
    {
     "name": "stdout",
     "output_type": "stream",
     "text": [
      "/home/jupyter/PACE\n"
     ]
    }
   ],
   "source": [
    "cd /home/jupyter/PACE"
   ]
  },
  {
   "cell_type": "code",
   "execution_count": 2,
   "id": "84c92bb4-849a-430f-b666-aae217c7b18f",
   "metadata": {},
   "outputs": [
    {
     "name": "stdout",
     "output_type": "stream",
     "text": [
      "Declarations_19722_Merge.cpg  Declarations_19722_Merge.shp.xml\n",
      "Declarations_19722_Merge.dbf  Declarations_19722_Merge.shx\n",
      "Declarations_19722_Merge.prj  aoi_flood_footprint.geojson\n",
      "Declarations_19722_Merge.sbn  \u001b[0m\u001b[01;34mdata\u001b[0m/\n",
      "Declarations_19722_Merge.sbx  \u001b[01;34mnotebooks\u001b[0m/\n",
      "Declarations_19722_Merge.shp\n"
     ]
    }
   ],
   "source": [
    "ls"
   ]
  },
  {
   "cell_type": "code",
   "execution_count": 3,
   "id": "e12ba808-2bb8-482f-bbb9-3a0c6cc1eb72",
   "metadata": {},
   "outputs": [],
   "source": [
    "import traceback\n",
    "import warnings\n",
    "\n",
    "from io import StringIO\n",
    "import ee\n",
    "import time\n",
    "import os\n",
    "from glob import glob\n",
    "from typing import Optional, Callable, List, Tuple\n",
    "from shapely.geometry import mapping, Polygon\n",
    "import numpy as np\n",
    "import geopandas as gpd\n",
    "import pandas as pd\n",
    "import fsspec\n",
    "from datetime import datetime, timezone\n",
    "import math\n",
    "import json\n",
    "\n",
    "from ml4floods.data import ee_download, utils\n"
   ]
  },
  {
   "cell_type": "markdown",
   "id": "ce88aece-bf46-40b6-925b-e37dcc675916",
   "metadata": {
    "tags": []
   },
   "source": [
    "# Calling some functions"
   ]
  },
  {
   "cell_type": "markdown",
   "id": "c6701e75-feba-46dd-8475-4085e1018705",
   "metadata": {},
   "source": [
    "Removed the full function call and used the following instead."
   ]
  },
  {
   "cell_type": "code",
   "execution_count": 4,
   "id": "24e9339e-70c7-41b7-a632-fbe6e905915e",
   "metadata": {},
   "outputs": [],
   "source": [
    "get_count_function = ee_download.get_count_function"
   ]
  },
  {
   "cell_type": "code",
   "execution_count": 5,
   "id": "7a213126-043f-4197-b721-01767dc9f1d5",
   "metadata": {},
   "outputs": [],
   "source": [
    "get_landsat_collection = ee_download.get_landsat_collection"
   ]
  },
  {
   "cell_type": "code",
   "execution_count": 6,
   "id": "dd70ae3b-2ccb-4594-aba1-da5738d34a37",
   "metadata": {},
   "outputs": [],
   "source": [
    "collection_mosaic_day = ee_download.collection_mosaic_day"
   ]
  },
  {
   "cell_type": "code",
   "execution_count": 7,
   "id": "2daa429f-526b-4935-9223-dab055c5746f",
   "metadata": {},
   "outputs": [],
   "source": [
    "BANDS_NAMES = ee_download.BANDS_NAMES"
   ]
  },
  {
   "cell_type": "markdown",
   "id": "dc53f8a3-81ab-48be-a3fc-29fd7c24e71f",
   "metadata": {},
   "source": [
    "Calling the aoi file"
   ]
  },
  {
   "cell_type": "markdown",
   "id": "c2c6ed3d-7e2e-4d81-a524-a23536f5c160",
   "metadata": {
    "jp-MarkdownHeadingCollapsed": true,
    "tags": []
   },
   "source": [
    "# Reading the geojson file"
   ]
  },
  {
   "cell_type": "code",
   "execution_count": 8,
   "id": "b406c4df-6e68-44c5-bae7-d793eb9f5045",
   "metadata": {},
   "outputs": [],
   "source": [
    "sydney_aoi= gpd.read_file('data/2022-07-21_aois.geojson')"
   ]
  },
  {
   "cell_type": "code",
   "execution_count": 9,
   "id": "35b53f77-29f8-4e51-91d5-44bd66601351",
   "metadata": {},
   "outputs": [
    {
     "data": {
      "text/html": [
       "<div>\n",
       "<style scoped>\n",
       "    .dataframe tbody tr th:only-of-type {\n",
       "        vertical-align: middle;\n",
       "    }\n",
       "\n",
       "    .dataframe tbody tr th {\n",
       "        vertical-align: top;\n",
       "    }\n",
       "\n",
       "    .dataframe thead th {\n",
       "        text-align: right;\n",
       "    }\n",
       "</style>\n",
       "<table border=\"1\" class=\"dataframe\">\n",
       "  <thead>\n",
       "    <tr style=\"text-align: right;\">\n",
       "      <th></th>\n",
       "      <th>aoi_code</th>\n",
       "      <th>geometry</th>\n",
       "    </tr>\n",
       "  </thead>\n",
       "  <tbody>\n",
       "    <tr>\n",
       "      <th>0</th>\n",
       "      <td>AOI01</td>\n",
       "      <td>POLYGON ((147.09960 -31.24462, 147.30960 -31.2...</td>\n",
       "    </tr>\n",
       "    <tr>\n",
       "      <th>1</th>\n",
       "      <td>AOI01</td>\n",
       "      <td>POLYGON ((147.09960 -31.24462, 147.30960 -31.2...</td>\n",
       "    </tr>\n",
       "    <tr>\n",
       "      <th>2</th>\n",
       "      <td>AOI02</td>\n",
       "      <td>POLYGON ((147.09960 -31.04462, 147.30960 -31.0...</td>\n",
       "    </tr>\n",
       "    <tr>\n",
       "      <th>3</th>\n",
       "      <td>AOI02</td>\n",
       "      <td>POLYGON ((147.09960 -31.04462, 147.30960 -31.0...</td>\n",
       "    </tr>\n",
       "    <tr>\n",
       "      <th>4</th>\n",
       "      <td>AOI0289</td>\n",
       "      <td>POLYGON ((147.49960 -32.44461, 147.70960 -32.4...</td>\n",
       "    </tr>\n",
       "    <tr>\n",
       "      <th>...</th>\n",
       "      <td>...</td>\n",
       "      <td>...</td>\n",
       "    </tr>\n",
       "    <tr>\n",
       "      <th>476</th>\n",
       "      <td>AOI97</td>\n",
       "      <td>POLYGON ((150.29960 -34.24462, 150.50960 -34.2...</td>\n",
       "    </tr>\n",
       "    <tr>\n",
       "      <th>477</th>\n",
       "      <td>AOI98</td>\n",
       "      <td>POLYGON ((150.29960 -34.04462, 150.50960 -34.0...</td>\n",
       "    </tr>\n",
       "    <tr>\n",
       "      <th>478</th>\n",
       "      <td>AOI98</td>\n",
       "      <td>POLYGON ((150.29960 -34.04462, 150.50960 -34.0...</td>\n",
       "    </tr>\n",
       "    <tr>\n",
       "      <th>479</th>\n",
       "      <td>AOI99</td>\n",
       "      <td>POLYGON ((150.29960 -33.84462, 150.50960 -33.8...</td>\n",
       "    </tr>\n",
       "    <tr>\n",
       "      <th>480</th>\n",
       "      <td>AOI99</td>\n",
       "      <td>POLYGON ((150.29960 -33.84462, 150.50960 -33.8...</td>\n",
       "    </tr>\n",
       "  </tbody>\n",
       "</table>\n",
       "<p>481 rows × 2 columns</p>\n",
       "</div>"
      ],
      "text/plain": [
       "    aoi_code                                           geometry\n",
       "0      AOI01  POLYGON ((147.09960 -31.24462, 147.30960 -31.2...\n",
       "1      AOI01  POLYGON ((147.09960 -31.24462, 147.30960 -31.2...\n",
       "2      AOI02  POLYGON ((147.09960 -31.04462, 147.30960 -31.0...\n",
       "3      AOI02  POLYGON ((147.09960 -31.04462, 147.30960 -31.0...\n",
       "4    AOI0289  POLYGON ((147.49960 -32.44461, 147.70960 -32.4...\n",
       "..       ...                                                ...\n",
       "476    AOI97  POLYGON ((150.29960 -34.24462, 150.50960 -34.2...\n",
       "477    AOI98  POLYGON ((150.29960 -34.04462, 150.50960 -34.0...\n",
       "478    AOI98  POLYGON ((150.29960 -34.04462, 150.50960 -34.0...\n",
       "479    AOI99  POLYGON ((150.29960 -33.84462, 150.50960 -33.8...\n",
       "480    AOI99  POLYGON ((150.29960 -33.84462, 150.50960 -33.8...\n",
       "\n",
       "[481 rows x 2 columns]"
      ]
     },
     "execution_count": 9,
     "metadata": {},
     "output_type": "execute_result"
    }
   ],
   "source": [
    "sydney_aoi"
   ]
  },
  {
   "cell_type": "code",
   "execution_count": 10,
   "id": "1180aeff-1f20-4e17-a026-e35a1eadd446",
   "metadata": {},
   "outputs": [
    {
     "data": {
      "text/plain": [
       "0      POLYGON ((147.09960 -31.24462, 147.30960 -31.2...\n",
       "1      POLYGON ((147.09960 -31.24462, 147.30960 -31.2...\n",
       "2      POLYGON ((147.09960 -31.04462, 147.30960 -31.0...\n",
       "3      POLYGON ((147.09960 -31.04462, 147.30960 -31.0...\n",
       "4      POLYGON ((147.49960 -32.44461, 147.70960 -32.4...\n",
       "                             ...                        \n",
       "476    POLYGON ((150.29960 -34.24462, 150.50960 -34.2...\n",
       "477    POLYGON ((150.29960 -34.04462, 150.50960 -34.0...\n",
       "478    POLYGON ((150.29960 -34.04462, 150.50960 -34.0...\n",
       "479    POLYGON ((150.29960 -33.84462, 150.50960 -33.8...\n",
       "480    POLYGON ((150.29960 -33.84462, 150.50960 -33.8...\n",
       "Name: geometry, Length: 481, dtype: geometry"
      ]
     },
     "execution_count": 10,
     "metadata": {},
     "output_type": "execute_result"
    }
   ],
   "source": [
    "sydney_aoi.geometry"
   ]
  },
  {
   "cell_type": "markdown",
   "id": "c9275ee0-c20a-4df3-bc45-2ea20bea7861",
   "metadata": {},
   "source": [
    "Getting the bounds from a single polygon"
   ]
  },
  {
   "cell_type": "code",
   "execution_count": 11,
   "id": "e3f356a8-52d4-4b34-a265-be043694531b",
   "metadata": {},
   "outputs": [
    {
     "data": {
      "text/plain": [
       "(147.09959654580408,\n",
       " -31.244618412374592,\n",
       " 147.30959654580408,\n",
       " -31.03461841237459)"
      ]
     },
     "execution_count": 11,
     "metadata": {},
     "output_type": "execute_result"
    }
   ],
   "source": [
    "test_bounds= sydney_aoi.geometry[0].bounds\n",
    "test_bounds"
   ]
  },
  {
   "cell_type": "markdown",
   "id": "9cc06267-ad65-45f5-b779-45f216642d34",
   "metadata": {
    "jp-MarkdownHeadingCollapsed": true,
    "tags": []
   },
   "source": [
    "# Sorting the dates"
   ]
  },
  {
   "cell_type": "markdown",
   "id": "cf2a267a-ed5f-46ef-b1e0-9d238a22a450",
   "metadata": {},
   "source": [
    "Converting standard date format into a datetime objectget_landsat_collection(date_start= , date_end= , bounds= test_bounds)"
   ]
  },
  {
   "cell_type": "code",
   "execution_count": 12,
   "id": "bf298f15-dd31-4243-9587-d00cd0050435",
   "metadata": {},
   "outputs": [
    {
     "data": {
      "text/plain": [
       "datetime.datetime(2021, 8, 2, 0, 0)"
      ]
     },
     "execution_count": 12,
     "metadata": {},
     "output_type": "execute_result"
    }
   ],
   "source": [
    "date_string_start = '02/08/21'\n",
    "date_string_end = '03/09/21'\n",
    "datetime_start= datetime.strptime(date_string_start, '%d/%m/%y')\n",
    "datetime_end= datetime.strptime(date_string_end, '%d/%m/%y')\n",
    "datetime_start"
   ]
  },
  {
   "cell_type": "code",
   "execution_count": 13,
   "id": "176faae1-cde4-43f7-b702-7cc78702bd07",
   "metadata": {},
   "outputs": [],
   "source": [
    "date_range = ('02/08/21', '03/09/21')"
   ]
  },
  {
   "cell_type": "code",
   "execution_count": 14,
   "id": "7a388331-e114-447a-89af-b4c363c41901",
   "metadata": {},
   "outputs": [
    {
     "data": {
      "text/plain": [
       "tuple"
      ]
     },
     "execution_count": 14,
     "metadata": {},
     "output_type": "execute_result"
    }
   ],
   "source": [
    "type(date_range)"
   ]
  },
  {
   "cell_type": "code",
   "execution_count": 15,
   "id": "d6bb41af-e8cb-41f9-9d2e-77a3c52d0931",
   "metadata": {},
   "outputs": [
    {
     "name": "stdout",
     "output_type": "stream",
     "text": [
      "(datetime.datetime(2021, 8, 2, 0, 0), datetime.datetime(2021, 9, 3, 0, 0), 2021, 2021)\n"
     ]
    }
   ],
   "source": [
    "#Test of datetime function from query notebook\n",
    "\n",
    "#e.g. date_range = ('dd/mm/yy', 'dd/mm/yy')\n",
    "\n",
    "def get_datetime(date_range):\n",
    "    datetime_start= datetime.strptime(date_range[0], '%d/%m/%y')\n",
    "    datetime_end= datetime.strptime(date_range[1], '%d/%m/%y')\n",
    "    \n",
    "    start_year = datetime_start.year\n",
    "    end_year = datetime_end.year\n",
    "    \n",
    "    return datetime_start, datetime_end, start_year, end_year\n",
    "\n",
    "dates = get_datetime(date_range)\n",
    "\n",
    "print(dates)"
   ]
  },
  {
   "cell_type": "code",
   "execution_count": 16,
   "id": "78128df3-51cc-4969-8c95-a7680efae34b",
   "metadata": {},
   "outputs": [
    {
     "data": {
      "text/plain": [
       "datetime.datetime"
      ]
     },
     "execution_count": 16,
     "metadata": {},
     "output_type": "execute_result"
    }
   ],
   "source": [
    "type(dates[0])"
   ]
  },
  {
   "cell_type": "code",
   "execution_count": 17,
   "id": "8862c4a7-d261-4d3c-a2b4-e6e2e58d9a70",
   "metadata": {},
   "outputs": [
    {
     "name": "stdout",
     "output_type": "stream",
     "text": [
      "Start datetime: 2021-08-02 00:00:00, end datetime: 2021-09-03 00:00:00\n"
     ]
    }
   ],
   "source": [
    "print(f'Start datetime: {dates[0]}, end datetime: {dates[1]}')"
   ]
  },
  {
   "cell_type": "markdown",
   "id": "de6e8e62-e869-4e23-8961-ed0b80e03b36",
   "metadata": {
    "jp-MarkdownHeadingCollapsed": true,
    "tags": []
   },
   "source": [
    "# Authenticating `ee`"
   ]
  },
  {
   "cell_type": "markdown",
   "id": "388819cf-c56c-4a43-87b9-e7236183f38f",
   "metadata": {},
   "source": [
    "First will have to run `earthengine authenticate` in the VM command line / terminal. \n",
    "\n",
    "**Issue:** Doesn't allow us to authenticate. We get an 'access blocked' message. We checked the GCP API information under APIs and Servicse > Enabled APIs & Services and there are no API credentials (client ID and key). We had a look into what the issue might be and found that we may need to enable 'Google Earth Engine API', but this did nothing. \n",
    "\n",
    "- Do we need client ID and key for the API to get access?\n",
    "- Do we need to open the authentication link  in a VM browser? \n",
    "- Any other reasons why the authentication link doesn't work\n",
    "\n",
    "\n",
    "**SOLVED** Cormac suggested to run the following"
   ]
  },
  {
   "cell_type": "code",
   "execution_count": 18,
   "id": "dde0ebc6-58f9-4898-bf1e-556df4784946",
   "metadata": {},
   "outputs": [
    {
     "data": {
      "text/html": [
       "<p>To authorize access needed by Earth Engine, open the following\n",
       "        URL in a web browser and follow the instructions:</p>\n",
       "        <p><a href=https://code.earthengine.google.com/client-auth?scopes=https%3A//www.googleapis.com/auth/earthengine%20https%3A//www.googleapis.com/auth/devstorage.full_control&request_id=bOJLP0S4Bu0ghDY7VGadsA91lMTPuk0KJCwClgleH9E&tc=8UnNzQmqvd5BlJHlP6U0emIEJuscg0uiNmlcEPYdp2I&cc=faOGK4UUoGf2g9DnQSzniXZwPDDEnIo5-z9LuLb0YCM>https://code.earthengine.google.com/client-auth?scopes=https%3A//www.googleapis.com/auth/earthengine%20https%3A//www.googleapis.com/auth/devstorage.full_control&request_id=bOJLP0S4Bu0ghDY7VGadsA91lMTPuk0KJCwClgleH9E&tc=8UnNzQmqvd5BlJHlP6U0emIEJuscg0uiNmlcEPYdp2I&cc=faOGK4UUoGf2g9DnQSzniXZwPDDEnIo5-z9LuLb0YCM</a></p>\n",
       "        <p>The authorization workflow will generate a code, which you should paste in the box below.</p>\n",
       "        "
      ],
      "text/plain": [
       "<IPython.core.display.HTML object>"
      ]
     },
     "metadata": {},
     "output_type": "display_data"
    },
    {
     "name": "stdin",
     "output_type": "stream",
     "text": [
      "Enter verification code:  4/1ARtbsJrcfxy5g9NhnSzloYgWvcXhd46799pmS6l2tXFPkkZkvoUlMcHZTyo\n"
     ]
    },
    {
     "name": "stdout",
     "output_type": "stream",
     "text": [
      "\n",
      "Successfully saved authorization token.\n"
     ]
    }
   ],
   "source": [
    "ee.Authenticate()"
   ]
  },
  {
   "cell_type": "markdown",
   "id": "ce9ae0b6-042b-42c2-82ef-547b382105d7",
   "metadata": {},
   "source": [
    "Initialise earth engine (ee)"
   ]
  },
  {
   "cell_type": "code",
   "execution_count": 19,
   "id": "433c8770-280e-4a7e-a762-174fa3c5e9bb",
   "metadata": {},
   "outputs": [],
   "source": [
    "ee.Initialize()"
   ]
  },
  {
   "cell_type": "markdown",
   "id": "d0b445ef-d6c1-460c-9801-3682dee15a13",
   "metadata": {
    "jp-MarkdownHeadingCollapsed": true,
    "tags": []
   },
   "source": [
    "# Getting the bounds and getting the images"
   ]
  },
  {
   "cell_type": "code",
   "execution_count": 20,
   "id": "f6759fdc-6928-48cc-bc32-6c37b15a0df8",
   "metadata": {},
   "outputs": [
    {
     "data": {
      "text/plain": [
       "tuple"
      ]
     },
     "execution_count": 20,
     "metadata": {},
     "output_type": "execute_result"
    }
   ],
   "source": [
    "type(sydney_aoi.geometry[0].bounds)"
   ]
  },
  {
   "cell_type": "code",
   "execution_count": 21,
   "id": "634a6340-8a11-4bae-a988-394654ddaac3",
   "metadata": {},
   "outputs": [
    {
     "data": {
      "text/plain": [
       "ee.geometry.Geometry"
      ]
     },
     "execution_count": 21,
     "metadata": {},
     "output_type": "execute_result"
    }
   ],
   "source": [
    "\n",
    "js = json.loads(sydney_aoi.to_json()) # Converting the aoi to a json and loading the json information, inludes coordinates,\n",
    "                                        # id for each polygon. Within the dictionary we have a 'featureCollection'\n",
    "    \n",
    "bounds = ee.Geometry(ee.FeatureCollection(js).geometry()) # Getting the bounds of the polygons \n",
    "\n",
    "type(bounds)"
   ]
  },
  {
   "cell_type": "raw",
   "id": "d391eda5-13dd-4ce7-8618-661bacd062ce",
   "metadata": {},
   "source": [
    "type(js)"
   ]
  },
  {
   "cell_type": "raw",
   "id": "2017adcf-3991-4523-aba5-38557d133049",
   "metadata": {},
   "source": [
    "js"
   ]
  },
  {
   "cell_type": "raw",
   "id": "f39c8a5c-5478-4863-b44f-2e7a0efed83b",
   "metadata": {},
   "source": [
    "js['features'][0]['geometry']['coordinates']"
   ]
  },
  {
   "cell_type": "raw",
   "id": "e093061f-4dd4-4b41-a04b-5d3b68a3998e",
   "metadata": {},
   "source": [
    "sydney_aoi.geometry"
   ]
  },
  {
   "cell_type": "raw",
   "id": "1dcb0f66-8957-4b8b-9011-bb09729c06b0",
   "metadata": {},
   "source": [
    "bounds"
   ]
  },
  {
   "cell_type": "code",
   "execution_count": 22,
   "id": "39af5260-924a-4b30-8ff8-f2fdb7048397",
   "metadata": {},
   "outputs": [],
   "source": [
    "landsat_imgs = get_landsat_collection(date_start=dates[0], date_end=dates[1] , bounds=bounds)"
   ]
  },
  {
   "cell_type": "code",
   "execution_count": 23,
   "id": "ec7cd4c9-c2d4-47a4-a1b9-04cb86a3ba8e",
   "metadata": {},
   "outputs": [
    {
     "data": {
      "text/plain": [
       "ee.imagecollection.ImageCollection"
      ]
     },
     "execution_count": 23,
     "metadata": {},
     "output_type": "execute_result"
    }
   ],
   "source": [
    "type(landsat_imgs)"
   ]
  },
  {
   "cell_type": "markdown",
   "id": "2cfeb853-de93-4a82-9225-6a26afb9cc63",
   "metadata": {
    "jp-MarkdownHeadingCollapsed": true,
    "tags": []
   },
   "source": [
    "# Checking the properties of the imageCollection"
   ]
  },
  {
   "cell_type": "markdown",
   "id": "6a517806-5dae-4b78-8c17-8fe6ba328a22",
   "metadata": {},
   "source": [
    "Checking the size of the image collection"
   ]
  },
  {
   "cell_type": "markdown",
   "id": "7517d027-9175-4c30-9048-b8dfaa79a892",
   "metadata": {},
   "source": [
    "NOTE: Find date range limits that won't time out"
   ]
  },
  {
   "cell_type": "markdown",
   "id": "dac1d546-55e3-414d-baa6-e7faddfd207a",
   "metadata": {},
   "source": [
    "**Example** from https://developers.google.com/earth-engine/apidocs/ee-imagecollection-size"
   ]
  },
  {
   "cell_type": "code",
   "execution_count": 24,
   "id": "b2c28948-32fa-43c7-a115-7662dfbd3dab",
   "metadata": {},
   "outputs": [],
   "source": [
    "col = ee.ImageCollection('LANDSAT/LC08/C02/T1_TOA').filterBounds(ee.Geometry.Point(-90.70, 34.71)).filterDate('2020-01-01', '2021-01-01');"
   ]
  },
  {
   "cell_type": "code",
   "execution_count": 25,
   "id": "75d5ae39-b9cb-4e96-ab04-ec59ad3cbe14",
   "metadata": {},
   "outputs": [
    {
     "data": {
      "text/plain": [
       "ee.imagecollection.ImageCollection"
      ]
     },
     "execution_count": 25,
     "metadata": {},
     "output_type": "execute_result"
    }
   ],
   "source": [
    "type(col)"
   ]
  },
  {
   "cell_type": "markdown",
   "id": "c2e23189-63ac-4544-b2ca-63ca8e9c22da",
   "metadata": {},
   "source": [
    "[running the below code in this link gives the number of images](https://code.earthengine.google.com/820fcb75a86f86352d4ae1d62c4650fe)"
   ]
  },
  {
   "cell_type": "raw",
   "id": "df2b1c0f-2ed4-49ed-b008-30930b8b9243",
   "metadata": {},
   "source": [
    "// Note: ee.ImageCollection.size may take a lot of time and memory to run,\n",
    "// since it must generate all of the results in order to count them. Large\n",
    "// collections and/or complex computations can produce memory limitation\n",
    "// errors.\n",
    "\n",
    "// A Landsat 8 TOA image collection (1 year of images at a specific point).\n",
    "var col = ee.ImageCollection('LANDSAT/LC08/C02/T1_TOA')\n",
    "  .filterBounds(ee.Geometry.Point(-90.70, 34.71))\n",
    "  .filterDate('2020-01-01', '2021-01-01');\n",
    "\n",
    "// Get the number of images in the collection.\n",
    "print('Number of images', col.size());"
   ]
  },
  {
   "cell_type": "markdown",
   "id": "dc7f946a-1f07-4cdc-8b0e-262a8347d8e4",
   "metadata": {},
   "source": [
    "**End Example**"
   ]
  },
  {
   "cell_type": "markdown",
   "id": "e48f4dde-cc18-4fcb-869a-9b9c17bf137b",
   "metadata": {},
   "source": [
    "After checking the function `_get_collection()` in the script, I noticed the variable `n_images` which seemed like 'number of images'. Using the same code from the script gives us: "
   ]
  },
  {
   "cell_type": "code",
   "execution_count": 26,
   "id": "27be2f34-b254-4b19-afd7-39be3b22b9fb",
   "metadata": {},
   "outputs": [
    {
     "data": {
      "text/plain": [
       "12"
      ]
     },
     "execution_count": 26,
     "metadata": {},
     "output_type": "execute_result"
    }
   ],
   "source": [
    "landsat_imgs.size().getInfo()"
   ]
  },
  {
   "cell_type": "markdown",
   "id": "6fcecfe7-6c13-4ef5-8abf-cd1e8184ccfb",
   "metadata": {},
   "source": [
    "We can see the `CLOUD_SCORE` is contained in \n",
    "\n",
    "features: [] -> id: 'date', properties: {} -> CLOUD_SCORE"
   ]
  },
  {
   "cell_type": "code",
   "execution_count": 27,
   "id": "67986065-4fa8-4c76-889f-15683522d9fb",
   "metadata": {},
   "outputs": [],
   "source": [
    "myDict = landsat_imgs.getInfo()"
   ]
  },
  {
   "cell_type": "code",
   "execution_count": 28,
   "id": "ad4ff5f6-770a-4029-91b4-1e7c360fcabb",
   "metadata": {},
   "outputs": [
    {
     "data": {
      "text/plain": [
       "12"
      ]
     },
     "execution_count": 28,
     "metadata": {},
     "output_type": "execute_result"
    }
   ],
   "source": [
    "len(myDict['features'])"
   ]
  },
  {
   "cell_type": "code",
   "execution_count": 29,
   "id": "cc68c06c-8628-4cff-98a8-0bdd8f346914",
   "metadata": {},
   "outputs": [
    {
     "data": {
      "text/plain": [
       "'2021-08-17'"
      ]
     },
     "execution_count": 29,
     "metadata": {},
     "output_type": "execute_result"
    }
   ],
   "source": [
    "myDict['features'][0].get('id')"
   ]
  },
  {
   "cell_type": "code",
   "execution_count": 30,
   "id": "305e9c21-222d-4a2f-91ea-3956087ae5df",
   "metadata": {},
   "outputs": [],
   "source": [
    "myDict = landsat_imgs.getInfo()"
   ]
  },
  {
   "cell_type": "code",
   "execution_count": 31,
   "id": "af2f9122-f384-41d8-ac06-285afa6fa66e",
   "metadata": {},
   "outputs": [
    {
     "data": {
      "text/plain": [
       "3.48"
      ]
     },
     "execution_count": 31,
     "metadata": {},
     "output_type": "execute_result"
    }
   ],
   "source": [
    "myDict['features'][0].get('properties')['CLOUD_COVER']"
   ]
  },
  {
   "cell_type": "code",
   "execution_count": 32,
   "id": "07565737-3227-471c-8e61-cd1b609f2e6b",
   "metadata": {},
   "outputs": [
    {
     "name": "stdout",
     "output_type": "stream",
     "text": [
      "0 3.48\n",
      "1 10.97\n",
      "2 40.43\n",
      "3 76.51\n",
      "4 0.32\n",
      "5 0.05\n",
      "6 54.69\n",
      "7 10.8\n",
      "8 0.02\n",
      "9 14.17\n",
      "10 1.96\n",
      "11 0.01\n",
      "Mean cloud score is 17.784166666666668\n"
     ]
    }
   ],
   "source": [
    "cloudScore_landsat = np.array([])\n",
    "\n",
    "for i in range(len(myDict['features'])):\n",
    "    val = myDict['features'][i].get('properties')['CLOUD_COVER']\n",
    "    cloudScore_landsat = np.append(cloudScore_landsat, val)\n",
    "    print(i, val) \n",
    "\n",
    "\n",
    "print(f'Mean cloud score is {cloudScore_landsat.mean()}')"
   ]
  },
  {
   "cell_type": "markdown",
   "id": "5acd330a-04ca-4b8a-a54d-6a621969f2d6",
   "metadata": {},
   "source": [
    "Now we need to know what a cloud score looks like and if there are any other properties we want to consider from the imageCollection."
   ]
  },
  {
   "cell_type": "markdown",
   "id": "717d3173-7636-40be-8b58-2c1344c73108",
   "metadata": {},
   "source": [
    "plot out on a spatial grid. \n",
    "\n",
    "Each patch may have multiple images with each of the cloud scores. \n",
    "\n",
    "geopandas table with whichever coordinates used. coords and cloud cover.\n",
    "sleep statement after each point to see how the plot is being built. \n",
    "\n",
    "---\n",
    "\n",
    "geoscape query and intersects. \n",
    "\n",
    "---\n",
    "\n",
    "linking the keys for both satellites."
   ]
  },
  {
   "cell_type": "raw",
   "id": "ade30a69-78bd-4100-83ea-bfa524b2ce39",
   "metadata": {},
   "source": [
    "myDict['features'][0].get('properties')"
   ]
  },
  {
   "cell_type": "markdown",
   "id": "349ff884-1f4c-458e-a8b9-97a7630a8e8e",
   "metadata": {},
   "source": [
    "To access the information, the procses looks like this: `landsat_imgs.getInfo()['features'][my_index].get('properties')['my_feature']`. \n",
    "\n",
    "getInfo() is a dictionary, so we access the dictionary by calling one of the words in the dictionary being 'features'. This now becomes a list of the different images, so we can index into the image we want. We then use the get() function which again returns a dictionary we can access with one of the words in the dictionary to access the information. "
   ]
  },
  {
   "cell_type": "markdown",
   "id": "b2f52bd3-27dd-4d1f-8da4-448710fc0b36",
   "metadata": {},
   "source": [
    "**Now getting the images for s2. Note, s2 has different properties to landsat**"
   ]
  },
  {
   "cell_type": "code",
   "execution_count": 33,
   "id": "3ad9723d-8cbd-438e-8f93-be829cd8174b",
   "metadata": {},
   "outputs": [],
   "source": [
    "get_s2_collection = ee_download.get_s2_collection"
   ]
  },
  {
   "cell_type": "code",
   "execution_count": 34,
   "id": "50d60b82-6ca3-4dcc-b90a-c8c621743d66",
   "metadata": {},
   "outputs": [],
   "source": [
    "s2_imgs = get_s2_collection(date_start=dates[0], date_end=dates[1] , bounds=bounds)"
   ]
  },
  {
   "cell_type": "code",
   "execution_count": 35,
   "id": "31027bda-4833-4b15-8c24-e2a3ae572800",
   "metadata": {},
   "outputs": [
    {
     "data": {
      "text/plain": [
       "10.1582"
      ]
     },
     "execution_count": 35,
     "metadata": {},
     "output_type": "execute_result"
    }
   ],
   "source": [
    "s2_imgs.getInfo()['features'][0].get('properties')['CLOUD_COVERAGE_ASSESSMENT']"
   ]
  },
  {
   "cell_type": "markdown",
   "id": "0353cb6d-f14f-4d80-9f19-8c3cb7126c52",
   "metadata": {},
   "source": [
    "Number of images"
   ]
  },
  {
   "cell_type": "code",
   "execution_count": 36,
   "id": "34423455-a3a9-4011-98af-206e468b0422",
   "metadata": {},
   "outputs": [
    {
     "data": {
      "text/plain": [
       "26"
      ]
     },
     "execution_count": 36,
     "metadata": {},
     "output_type": "execute_result"
    }
   ],
   "source": [
    "s2_imgs.size().getInfo()"
   ]
  },
  {
   "cell_type": "code",
   "execution_count": 37,
   "id": "d2d2a532-8c3a-4dac-baab-246946178efa",
   "metadata": {},
   "outputs": [],
   "source": [
    "myDict2 = s2_imgs.getInfo()"
   ]
  },
  {
   "cell_type": "code",
   "execution_count": 38,
   "id": "56693eb5-9ff0-4273-9d6e-925aae94f373",
   "metadata": {},
   "outputs": [
    {
     "name": "stdout",
     "output_type": "stream",
     "text": [
      "0 10.1582\n",
      "1 18.4946\n",
      "2 19.9737\n",
      "3 57.2791\n",
      "4 69.7648\n",
      "5 0\n",
      "6 1.937\n",
      "7 6.9454\n",
      "8 16.4855\n",
      "9 0\n",
      "10 0\n",
      "11 29.3754\n",
      "12 0\n",
      "13 98.0081\n",
      "14 0\n",
      "15 0\n",
      "16 90.0543\n",
      "17 99.9021\n",
      "18 0\n",
      "19 51.3534\n",
      "20 0\n",
      "21 99.9965\n",
      "22 99.9962\n",
      "23 0.2658\n",
      "24 0\n",
      "25 0\n",
      "Mean cloud score is 29.615003846153847\n"
     ]
    }
   ],
   "source": [
    "cloudScore_s2 = np.array([])\n",
    "\n",
    "for i in range(s2_imgs.size().getInfo()):\n",
    "    val = myDict2['features'][i].get('properties')['CLOUD_COVERAGE_ASSESSMENT']\n",
    "    cloudScore_s2 = np.append(cloudScore_s2, val)\n",
    "    print(i, val)\n",
    "    \n",
    "print(f'Mean cloud score is {cloudScore_s2.mean()}')"
   ]
  },
  {
   "cell_type": "raw",
   "id": "dae41da2-ecce-473d-bdc0-87f3c5e69609",
   "metadata": {},
   "source": [
    "s2_imgs.getInfo()"
   ]
  },
  {
   "cell_type": "raw",
   "id": "0585e480-afac-4e2d-b3a7-ee043e19d314",
   "metadata": {},
   "source": [
    "myDict['features']"
   ]
  },
  {
   "cell_type": "markdown",
   "id": "e2e48ebc-5018-4dd4-873a-cfdf4cbd4317",
   "metadata": {
    "tags": []
   },
   "source": [
    "# Checking the shapefile data type "
   ]
  },
  {
   "cell_type": "code",
   "execution_count": 39,
   "id": "37397ba6-fc78-4672-a275-de866f9b7f25",
   "metadata": {},
   "outputs": [],
   "source": [
    "import shutil"
   ]
  },
  {
   "cell_type": "code",
   "execution_count": 40,
   "id": "dc05382e-5dc0-4711-96b0-4bea1ccbbe60",
   "metadata": {},
   "outputs": [],
   "source": [
    "extract= shutil.unpack_archive('../data/Declarations_19722_Merge.zip')"
   ]
  },
  {
   "cell_type": "code",
   "execution_count": 41,
   "id": "6bef6053-49df-4678-81b1-cf7058334689",
   "metadata": {},
   "outputs": [],
   "source": [
    "test= gpd.read_file('../data/Declarations_unzip/Declarations_19722_Merge.shp')"
   ]
  },
  {
   "cell_type": "code",
   "execution_count": 42,
   "id": "afaf3e01-a535-4516-b94c-24f6366b4472",
   "metadata": {},
   "outputs": [
    {
     "data": {
      "text/plain": [
       "geopandas.geodataframe.GeoDataFrame"
      ]
     },
     "execution_count": 42,
     "metadata": {},
     "output_type": "execute_result"
    }
   ],
   "source": [
    "type(test)"
   ]
  },
  {
   "cell_type": "code",
   "execution_count": 43,
   "id": "554bbd23-9699-4684-a8a3-0aa0f0135f5d",
   "metadata": {},
   "outputs": [
    {
     "data": {
      "text/plain": [
       "geopandas.geoseries.GeoSeries"
      ]
     },
     "execution_count": 43,
     "metadata": {},
     "output_type": "execute_result"
    }
   ],
   "source": [
    "type(test['geometry'])"
   ]
  },
  {
   "cell_type": "code",
   "execution_count": 44,
   "id": "f027f9ab-7c05-461d-bbe0-bcc4426718ce",
   "metadata": {},
   "outputs": [
    {
     "data": {
      "text/plain": [
       "shapely.geometry.multipolygon.MultiPolygon"
      ]
     },
     "execution_count": 44,
     "metadata": {},
     "output_type": "execute_result"
    }
   ],
   "source": [
    "type(test['geometry'][37])"
   ]
  },
  {
   "cell_type": "markdown",
   "id": "daf64de2-db19-43fd-afca-3597380d791c",
   "metadata": {
    "tags": []
   },
   "source": [
    "# Putting useful information into a dataframe"
   ]
  },
  {
   "cell_type": "markdown",
   "id": "d2fb10a1-b5eb-4d94-9586-bad79d79806f",
   "metadata": {},
   "source": [
    "* CLOUD_COVER\n",
    "* polygon\n",
    "* satellite image ID associated with the polygon\n",
    "* date associated with the specific satellite image\n",
    "\n",
    "\n",
    "We need to find out what other useful information is in the properties of the imageCollection "
   ]
  },
  {
   "cell_type": "markdown",
   "id": "81ab46f6-0e93-4725-a9e0-3c708f0b4d78",
   "metadata": {},
   "source": [
    "Checking the number of polygons in `js` which comes from `sydney_aoi`"
   ]
  },
  {
   "cell_type": "code",
   "execution_count": 45,
   "id": "23f66f94-25e0-4585-8498-cf80de88cce1",
   "metadata": {},
   "outputs": [
    {
     "data": {
      "text/plain": [
       "481"
      ]
     },
     "execution_count": 45,
     "metadata": {},
     "output_type": "execute_result"
    }
   ],
   "source": [
    "len(js['features'])"
   ]
  },
  {
   "cell_type": "markdown",
   "id": "8ba860e0-6009-48b1-8254-ad493faa6afc",
   "metadata": {},
   "source": [
    "Can also be done with "
   ]
  },
  {
   "cell_type": "code",
   "execution_count": 46,
   "id": "92fb3c5a-57dc-4fd6-ba76-25f9b44fba3f",
   "metadata": {},
   "outputs": [
    {
     "data": {
      "text/plain": [
       "481"
      ]
     },
     "execution_count": 46,
     "metadata": {},
     "output_type": "execute_result"
    }
   ],
   "source": [
    "len(sydney_aoi)"
   ]
  },
  {
   "cell_type": "markdown",
   "id": "229f12f9-29de-430d-9ea2-7a752d57b6f9",
   "metadata": {},
   "source": [
    "Checking the `myDict['features'][0].get('properties')` dictionary, some interesting properties to explore are: \n",
    "* CLOUD_COVER\n",
    "* cloud_probability\n",
    "* DATE_ACQUIRED\n",
    "* 'system:index' \n",
    "\n",
    "this is another date, one day after DATE_ACQUIRED.\n",
    "* CLOUD_COVER_LAND\n",
    "* COLLECTION_NUMBER\n",
    "\n",
    "Checking the `myDict['features'][0].get('id')` dictionary has a date that is one day after DATE_acquired.\n"
   ]
  },
  {
   "cell_type": "code",
   "execution_count": 47,
   "id": "ae0e118b-a942-456b-b0e5-29aeca4362e1",
   "metadata": {},
   "outputs": [
    {
     "data": {
      "text/plain": [
       "array([3.480e+00, 1.097e+01, 4.043e+01, 7.651e+01, 3.200e-01, 5.000e-02,\n",
       "       5.469e+01, 1.080e+01, 2.000e-02, 1.417e+01, 1.960e+00, 1.000e-02])"
      ]
     },
     "execution_count": 47,
     "metadata": {},
     "output_type": "execute_result"
    }
   ],
   "source": [
    "cloudScore_landsat"
   ]
  },
  {
   "cell_type": "raw",
   "id": "43a38a31-8453-4262-bc1b-73e6d948c7ec",
   "metadata": {},
   "source": [
    "myDict['features']"
   ]
  },
  {
   "cell_type": "raw",
   "id": "c19d024a-b988-4025-beab-0f9b4bb3e22d",
   "metadata": {},
   "source": [
    "myDict['features'][0].get('properties')"
   ]
  },
  {
   "cell_type": "markdown",
   "id": "f7a88d63-ff41-4eb4-9cf6-e36171c9fa18",
   "metadata": {
    "tags": []
   },
   "source": [
    "# Extracting properties for individual polygons from original AOI"
   ]
  },
  {
   "cell_type": "code",
   "execution_count": 48,
   "id": "1613f0a6-b966-4ed4-9553-77f476203e2d",
   "metadata": {},
   "outputs": [],
   "source": [
    "def get_imageCollections(bounds: ee.geometry.Geometry, dates: tuple): # returns imageCollection\n",
    "\n",
    "    get_landsat_collection = ee_download.get_landsat_collection\n",
    "    landsat_imgs = get_landsat_collection(date_start=dates[0], date_end=dates[1] , bounds= bounds)\n",
    "\n",
    "    get_s2_collection = ee_download.get_s2_collection\n",
    "    s2_imgs = get_s2_collection(date_start=dates[0], date_end=dates[1] , bounds= bounds)\n",
    "    \n",
    "    return landsat_imgs, s2_imgs"
   ]
  },
  {
   "cell_type": "code",
   "execution_count": 49,
   "id": "5f128efa-50f1-48c2-b391-1b3e1f287e9d",
   "metadata": {},
   "outputs": [],
   "source": [
    "def get_datetime(date_range: tuple): # function returns a tuple containing datetime\n",
    "    datetime_start= datetime.strptime(date_range[0], '%d/%m/%y')\n",
    "    datetime_end= datetime.strptime(date_range[1], '%d/%m/%y')\n",
    "    \n",
    "    start_year = datetime_start.year\n",
    "    end_year = datetime_end.year\n",
    "    \n",
    "    return datetime_start, datetime_end, start_year, end_year "
   ]
  },
  {
   "cell_type": "code",
   "execution_count": 50,
   "id": "be58832e-7bea-403d-8e3a-b0fba15ec566",
   "metadata": {},
   "outputs": [],
   "source": [
    "def read_aoi(my_gpd_aoi:str):\n",
    "    my_aoi = gpd.read_file(my_gpd_aoi)\n",
    "    \n",
    "    aoi_codes = my_aoi['aoi_code']\n",
    "    js = json.loads(my_aoi.to_json()) # convertin gthe aoi to a json and getting the \n",
    "    bounds = ee.Geometry(ee.FeatureCollection(js).geometry())\n",
    "    \n",
    "    return bounds, aoi_codes"
   ]
  },
  {
   "cell_type": "code",
   "execution_count": 51,
   "id": "85a03bf8-a4b6-46c1-9c24-bbe4016a59c5",
   "metadata": {},
   "outputs": [],
   "source": [
    "def extract_properties(landsat_imgs, s2_imgs, init_bounds, aoi_code):\n",
    "    \n",
    "    coordinates = init_bounds['coordinates']\n",
    "    \n",
    "    landsat_dict = landsat_imgs.getInfo()\n",
    "    s2_dict = s2_imgs.getInfo()\n",
    "    \n",
    "    n_landsat = len(landsat_dict['features'])\n",
    "    print('Landsat images:', n_landsat)\n",
    "    n_s2 = len(s2_dict['features'])\n",
    "    print('s2 images:', n_s2)\n",
    "    \n",
    "    n_total = n_landsat + n_s2 \n",
    "    \n",
    "    properties_df = pd.DataFrame(index=np.arange(0, n_total), columns=['id', 'source', 'cloud_cover', 'percentage_valid_pixels', 'coordinates', 'aoi_code']) \n",
    "    \n",
    "    \n",
    "    for i in range(n_landsat):\n",
    "        properties_df['id'][i] = landsat_dict['features'][i].get('id')\n",
    "        properties_df['source'][i] = 'landsat'\n",
    "        properties_df['cloud_cover'][i] = landsat_dict['features'][i].get('properties')['CLOUD_COVER']\n",
    "        properties_df['percentage_valid_pixels'][i] = landsat_dict['features'][i].get('properties')['valids'] \n",
    "        properties_df['coordinates'][i] = coordinates\n",
    "        properties_df['aoi_code'][i] = aoi_code\n",
    "        #find area/co-ordinates associated with each image\n",
    "        \n",
    "    for i in range(n_s2):\n",
    "        j = i + n_landsat\n",
    "        \n",
    "        properties_df['id'][j] = s2_dict['features'][i].get('id')\n",
    "        properties_df['source'][j] = 's2'\n",
    "        properties_df['cloud_cover'][j] = s2_dict['features'][i].get('properties')['CLOUD_COVERAGE_ASSESSMENT']\n",
    "        properties_df['percentage_valid_pixels'][j] = s2_dict['features'][i].get('properties')['valids'] \n",
    "        properties_df['coordinates'][j] = coordinates\n",
    "        properties_df['aoi_code'][j] = aoi_code\n",
    "        #find area/co-ordinates associated with each image\n",
    "    \n",
    "    return properties_df"
   ]
  },
  {
   "cell_type": "code",
   "execution_count": 52,
   "id": "d1065420-4217-461b-af1c-0c1df95396e6",
   "metadata": {},
   "outputs": [],
   "source": [
    "test_dates = ('02/08/21', '03/09/21')\n",
    "\n",
    "test_datetime = get_datetime(test_dates)"
   ]
  },
  {
   "cell_type": "code",
   "execution_count": 53,
   "id": "0e5db082-fdcb-4e0d-8a52-3d00174109cb",
   "metadata": {},
   "outputs": [
    {
     "data": {
      "text/plain": [
       "0        AOI01\n",
       "1        AOI01\n",
       "2        AOI02\n",
       "3        AOI02\n",
       "4      AOI0289\n",
       "        ...   \n",
       "476      AOI97\n",
       "477      AOI98\n",
       "478      AOI98\n",
       "479      AOI99\n",
       "480      AOI99\n",
       "Name: aoi_code, Length: 481, dtype: object"
      ]
     },
     "execution_count": 53,
     "metadata": {},
     "output_type": "execute_result"
    }
   ],
   "source": [
    "sydney_aoi, sydney_aoi_codes = read_aoi('data/2022-07-21_aois.geojson')\n",
    "\n",
    "sydney_aoi_codes"
   ]
  },
  {
   "cell_type": "code",
   "execution_count": 54,
   "id": "02f100a7-5455-4f13-b0ff-b7e612d134d8",
   "metadata": {},
   "outputs": [
    {
     "data": {
      "text/plain": [
       "[[[147.09959654580408, -31.244618412374592],\n",
       "  [147.30959654580408, -31.244618412374592],\n",
       "  [147.30959654580408, -31.03461841237459],\n",
       "  [147.09959654580408, -31.03461841237459],\n",
       "  [147.09959654580408, -31.244618412374592]]]"
      ]
     },
     "execution_count": 54,
     "metadata": {},
     "output_type": "execute_result"
    }
   ],
   "source": [
    "sydney_aoi_all = sydney_aoi.getInfo()['coordinates']\n",
    "\n",
    "sydney_aoi_all[0]"
   ]
  },
  {
   "cell_type": "code",
   "execution_count": 55,
   "id": "bf6cac95-5162-4bdf-a3a3-36e43594908f",
   "metadata": {},
   "outputs": [
    {
     "data": {
      "text/plain": [
       "263"
      ]
     },
     "execution_count": 55,
     "metadata": {},
     "output_type": "execute_result"
    }
   ],
   "source": [
    "len(sydney_aoi_all)"
   ]
  },
  {
   "cell_type": "code",
   "execution_count": 56,
   "id": "9ee300fa-a1ea-4296-a37d-443d3db7372f",
   "metadata": {},
   "outputs": [
    {
     "data": {
      "text/plain": [
       "ee.geometry.Geometry"
      ]
     },
     "execution_count": 56,
     "metadata": {},
     "output_type": "execute_result"
    }
   ],
   "source": [
    "sydney_aoi_poly = ee.Geometry.Polygon(sydney_aoi_all[0])\n",
    "\n",
    "type(sydney_aoi_poly)"
   ]
  },
  {
   "cell_type": "code",
   "execution_count": 57,
   "id": "22434ea4-951d-4c50-b643-5c7b70115c5e",
   "metadata": {},
   "outputs": [
    {
     "data": {
      "text/plain": [
       "263"
      ]
     },
     "execution_count": 57,
     "metadata": {},
     "output_type": "execute_result"
    }
   ],
   "source": [
    "len(sydney_aoi_all)"
   ]
  },
  {
   "cell_type": "code",
   "execution_count": 58,
   "id": "2552b74a-fc7c-41cc-921e-26485cdb9306",
   "metadata": {},
   "outputs": [],
   "source": [
    "poly_landsat, poly_s2 = get_imageCollections(sydney_aoi_poly, test_datetime)"
   ]
  },
  {
   "cell_type": "code",
   "execution_count": 59,
   "id": "cbf401af-008e-4615-931f-35c67a9aaf36",
   "metadata": {},
   "outputs": [
    {
     "name": "stdout",
     "output_type": "stream",
     "text": [
      "Landsat images: 4\n",
      "s2 images: 13\n"
     ]
    }
   ],
   "source": [
    "test_poly_df = extract_properties(poly_landsat, poly_s2, sydney_aoi_poly, sydney_aoi_codes[0])"
   ]
  },
  {
   "cell_type": "code",
   "execution_count": 60,
   "id": "0f104575-3794-4b4b-abbc-8c8ad55dc966",
   "metadata": {},
   "outputs": [
    {
     "data": {
      "text/html": [
       "<div>\n",
       "<style scoped>\n",
       "    .dataframe tbody tr th:only-of-type {\n",
       "        vertical-align: middle;\n",
       "    }\n",
       "\n",
       "    .dataframe tbody tr th {\n",
       "        vertical-align: top;\n",
       "    }\n",
       "\n",
       "    .dataframe thead th {\n",
       "        text-align: right;\n",
       "    }\n",
       "</style>\n",
       "<table border=\"1\" class=\"dataframe\">\n",
       "  <thead>\n",
       "    <tr style=\"text-align: right;\">\n",
       "      <th></th>\n",
       "      <th>id</th>\n",
       "      <th>source</th>\n",
       "      <th>cloud_cover</th>\n",
       "      <th>percentage_valid_pixels</th>\n",
       "      <th>coordinates</th>\n",
       "      <th>aoi_code</th>\n",
       "    </tr>\n",
       "  </thead>\n",
       "  <tbody>\n",
       "    <tr>\n",
       "      <th>0</th>\n",
       "      <td>2021-08-13</td>\n",
       "      <td>landsat</td>\n",
       "      <td>0.02</td>\n",
       "      <td>1</td>\n",
       "      <td>[[[147.09959654580408, -31.244618412374592], [...</td>\n",
       "      <td>AOI01</td>\n",
       "    </tr>\n",
       "    <tr>\n",
       "      <th>1</th>\n",
       "      <td>2021-08-29</td>\n",
       "      <td>landsat</td>\n",
       "      <td>14.17</td>\n",
       "      <td>1</td>\n",
       "      <td>[[[147.09959654580408, -31.244618412374592], [...</td>\n",
       "      <td>AOI01</td>\n",
       "    </tr>\n",
       "    <tr>\n",
       "      <th>2</th>\n",
       "      <td>2021-08-04</td>\n",
       "      <td>landsat</td>\n",
       "      <td>1.96</td>\n",
       "      <td>0.279306</td>\n",
       "      <td>[[[147.09959654580408, -31.244618412374592], [...</td>\n",
       "      <td>AOI01</td>\n",
       "    </tr>\n",
       "    <tr>\n",
       "      <th>3</th>\n",
       "      <td>2021-08-20</td>\n",
       "      <td>landsat</td>\n",
       "      <td>0.01</td>\n",
       "      <td>0.276128</td>\n",
       "      <td>[[[147.09959654580408, -31.244618412374592], [...</td>\n",
       "      <td>AOI01</td>\n",
       "    </tr>\n",
       "    <tr>\n",
       "      <th>4</th>\n",
       "      <td>2021-08-03</td>\n",
       "      <td>s2</td>\n",
       "      <td>3.0108</td>\n",
       "      <td>1</td>\n",
       "      <td>[[[147.09959654580408, -31.244618412374592], [...</td>\n",
       "      <td>AOI01</td>\n",
       "    </tr>\n",
       "    <tr>\n",
       "      <th>5</th>\n",
       "      <td>2021-08-05</td>\n",
       "      <td>s2</td>\n",
       "      <td>40.112</td>\n",
       "      <td>1</td>\n",
       "      <td>[[[147.09959654580408, -31.244618412374592], [...</td>\n",
       "      <td>AOI01</td>\n",
       "    </tr>\n",
       "    <tr>\n",
       "      <th>6</th>\n",
       "      <td>2021-08-08</td>\n",
       "      <td>s2</td>\n",
       "      <td>2.0378</td>\n",
       "      <td>1</td>\n",
       "      <td>[[[147.09959654580408, -31.244618412374592], [...</td>\n",
       "      <td>AOI01</td>\n",
       "    </tr>\n",
       "    <tr>\n",
       "      <th>7</th>\n",
       "      <td>2021-08-10</td>\n",
       "      <td>s2</td>\n",
       "      <td>0</td>\n",
       "      <td>1</td>\n",
       "      <td>[[[147.09959654580408, -31.244618412374592], [...</td>\n",
       "      <td>AOI01</td>\n",
       "    </tr>\n",
       "    <tr>\n",
       "      <th>8</th>\n",
       "      <td>2021-08-13</td>\n",
       "      <td>s2</td>\n",
       "      <td>0.0281</td>\n",
       "      <td>1</td>\n",
       "      <td>[[[147.09959654580408, -31.244618412374592], [...</td>\n",
       "      <td>AOI01</td>\n",
       "    </tr>\n",
       "    <tr>\n",
       "      <th>9</th>\n",
       "      <td>2021-08-15</td>\n",
       "      <td>s2</td>\n",
       "      <td>5.4465</td>\n",
       "      <td>1</td>\n",
       "      <td>[[[147.09959654580408, -31.244618412374592], [...</td>\n",
       "      <td>AOI01</td>\n",
       "    </tr>\n",
       "    <tr>\n",
       "      <th>10</th>\n",
       "      <td>2021-08-18</td>\n",
       "      <td>s2</td>\n",
       "      <td>0.2876</td>\n",
       "      <td>1</td>\n",
       "      <td>[[[147.09959654580408, -31.244618412374592], [...</td>\n",
       "      <td>AOI01</td>\n",
       "    </tr>\n",
       "    <tr>\n",
       "      <th>11</th>\n",
       "      <td>2021-08-20</td>\n",
       "      <td>s2</td>\n",
       "      <td>0.6071</td>\n",
       "      <td>1</td>\n",
       "      <td>[[[147.09959654580408, -31.244618412374592], [...</td>\n",
       "      <td>AOI01</td>\n",
       "    </tr>\n",
       "    <tr>\n",
       "      <th>12</th>\n",
       "      <td>2021-08-23</td>\n",
       "      <td>s2</td>\n",
       "      <td>33.5172</td>\n",
       "      <td>1</td>\n",
       "      <td>[[[147.09959654580408, -31.244618412374592], [...</td>\n",
       "      <td>AOI01</td>\n",
       "    </tr>\n",
       "    <tr>\n",
       "      <th>13</th>\n",
       "      <td>2021-08-25</td>\n",
       "      <td>s2</td>\n",
       "      <td>0.1036</td>\n",
       "      <td>1</td>\n",
       "      <td>[[[147.09959654580408, -31.244618412374592], [...</td>\n",
       "      <td>AOI01</td>\n",
       "    </tr>\n",
       "    <tr>\n",
       "      <th>14</th>\n",
       "      <td>2021-08-28</td>\n",
       "      <td>s2</td>\n",
       "      <td>0</td>\n",
       "      <td>1</td>\n",
       "      <td>[[[147.09959654580408, -31.244618412374592], [...</td>\n",
       "      <td>AOI01</td>\n",
       "    </tr>\n",
       "    <tr>\n",
       "      <th>15</th>\n",
       "      <td>2021-08-30</td>\n",
       "      <td>s2</td>\n",
       "      <td>97.7998</td>\n",
       "      <td>1</td>\n",
       "      <td>[[[147.09959654580408, -31.244618412374592], [...</td>\n",
       "      <td>AOI01</td>\n",
       "    </tr>\n",
       "    <tr>\n",
       "      <th>16</th>\n",
       "      <td>2021-09-02</td>\n",
       "      <td>s2</td>\n",
       "      <td>0</td>\n",
       "      <td>1</td>\n",
       "      <td>[[[147.09959654580408, -31.244618412374592], [...</td>\n",
       "      <td>AOI01</td>\n",
       "    </tr>\n",
       "  </tbody>\n",
       "</table>\n",
       "</div>"
      ],
      "text/plain": [
       "            id   source cloud_cover percentage_valid_pixels  \\\n",
       "0   2021-08-13  landsat        0.02                       1   \n",
       "1   2021-08-29  landsat       14.17                       1   \n",
       "2   2021-08-04  landsat        1.96                0.279306   \n",
       "3   2021-08-20  landsat        0.01                0.276128   \n",
       "4   2021-08-03       s2      3.0108                       1   \n",
       "5   2021-08-05       s2      40.112                       1   \n",
       "6   2021-08-08       s2      2.0378                       1   \n",
       "7   2021-08-10       s2           0                       1   \n",
       "8   2021-08-13       s2      0.0281                       1   \n",
       "9   2021-08-15       s2      5.4465                       1   \n",
       "10  2021-08-18       s2      0.2876                       1   \n",
       "11  2021-08-20       s2      0.6071                       1   \n",
       "12  2021-08-23       s2     33.5172                       1   \n",
       "13  2021-08-25       s2      0.1036                       1   \n",
       "14  2021-08-28       s2           0                       1   \n",
       "15  2021-08-30       s2     97.7998                       1   \n",
       "16  2021-09-02       s2           0                       1   \n",
       "\n",
       "                                          coordinates aoi_code  \n",
       "0   [[[147.09959654580408, -31.244618412374592], [...    AOI01  \n",
       "1   [[[147.09959654580408, -31.244618412374592], [...    AOI01  \n",
       "2   [[[147.09959654580408, -31.244618412374592], [...    AOI01  \n",
       "3   [[[147.09959654580408, -31.244618412374592], [...    AOI01  \n",
       "4   [[[147.09959654580408, -31.244618412374592], [...    AOI01  \n",
       "5   [[[147.09959654580408, -31.244618412374592], [...    AOI01  \n",
       "6   [[[147.09959654580408, -31.244618412374592], [...    AOI01  \n",
       "7   [[[147.09959654580408, -31.244618412374592], [...    AOI01  \n",
       "8   [[[147.09959654580408, -31.244618412374592], [...    AOI01  \n",
       "9   [[[147.09959654580408, -31.244618412374592], [...    AOI01  \n",
       "10  [[[147.09959654580408, -31.244618412374592], [...    AOI01  \n",
       "11  [[[147.09959654580408, -31.244618412374592], [...    AOI01  \n",
       "12  [[[147.09959654580408, -31.244618412374592], [...    AOI01  \n",
       "13  [[[147.09959654580408, -31.244618412374592], [...    AOI01  \n",
       "14  [[[147.09959654580408, -31.244618412374592], [...    AOI01  \n",
       "15  [[[147.09959654580408, -31.244618412374592], [...    AOI01  \n",
       "16  [[[147.09959654580408, -31.244618412374592], [...    AOI01  "
      ]
     },
     "execution_count": 60,
     "metadata": {},
     "output_type": "execute_result"
    }
   ],
   "source": [
    "test_poly_df"
   ]
  },
  {
   "cell_type": "code",
   "execution_count": 61,
   "id": "eb358cc1-c9d4-4fab-bc68-32b9aaf7a846",
   "metadata": {},
   "outputs": [
    {
     "data": {
      "text/plain": [
       "[[[147.09959654580408, -31.244618412374592],\n",
       "  [147.30959654580408, -31.244618412374592],\n",
       "  [147.30959654580408, -31.03461841237459],\n",
       "  [147.09959654580408, -31.03461841237459],\n",
       "  [147.09959654580408, -31.244618412374592]]]"
      ]
     },
     "execution_count": 61,
     "metadata": {},
     "output_type": "execute_result"
    }
   ],
   "source": [
    "test_poly_df['coordinates'][0]"
   ]
  },
  {
   "cell_type": "code",
   "execution_count": 62,
   "id": "cb7e0a4a-8ea7-4c93-b65d-3096b5304f30",
   "metadata": {},
   "outputs": [
    {
     "data": {
      "text/plain": [
       "(17, 6)"
      ]
     },
     "execution_count": 62,
     "metadata": {},
     "output_type": "execute_result"
    }
   ],
   "source": [
    "test_poly_df.shape"
   ]
  },
  {
   "cell_type": "markdown",
   "id": "4ae1571e-c45a-497b-87f3-8b9d1d7ec210",
   "metadata": {},
   "source": [
    "**QUESTION** Previously we had 12 images for landsat and 26 images for s2, is the decrease we see above due to only selecting a single AOI from `sydney_aoi_codes`? "
   ]
  },
  {
   "cell_type": "markdown",
   "id": "5af8bfaf-2282-4c3c-88fc-c711441d44db",
   "metadata": {},
   "source": [
    "`test_poly_df` Now has the properties from the iamges for a single polygon of an AOI, being from `sydney_aoi_all[0]`. We want to link all the AOI codes to each polygon. \n",
    "\n",
    "It seems like for each polygon we need to check each image and associate the AOI to that polygon."
   ]
  },
  {
   "cell_type": "markdown",
   "id": "59e4aad6-9936-4dad-b9bb-5b5c4da52e70",
   "metadata": {
    "jp-MarkdownHeadingCollapsed": true,
    "tags": []
   },
   "source": [
    "# Getting the images for multiple polygons for Landsat"
   ]
  },
  {
   "cell_type": "code",
   "execution_count": 63,
   "id": "0341f530-4da8-428c-9010-c0dcfcd23f1d",
   "metadata": {},
   "outputs": [
    {
     "data": {
      "text/plain": [
       "ee.geometry.Geometry"
      ]
     },
     "execution_count": 63,
     "metadata": {},
     "output_type": "execute_result"
    }
   ],
   "source": [
    "type(sydney_aoi_poly)"
   ]
  },
  {
   "cell_type": "markdown",
   "id": "13427465-a41a-4c59-b44f-f77e1fd07816",
   "metadata": {},
   "source": [
    "Getting the first 20 polygons instead of all 263 (long processing times when getting the imageCollection. If you run on all 263 polygons, takes about 10 minutes."
   ]
  },
  {
   "cell_type": "code",
   "execution_count": 64,
   "id": "a9e21b15-5585-4f30-8888-72713f7e857e",
   "metadata": {},
   "outputs": [],
   "source": [
    "sydney_aoi, sydney_aoi_codes = read_aoi('data/2022-07-21_aois.geojson')\n",
    "\n",
    "# sydney_aoi_codes"
   ]
  },
  {
   "cell_type": "code",
   "execution_count": 65,
   "id": "9b01080d-35ab-49f4-a26b-6c9e0a237fb7",
   "metadata": {},
   "outputs": [],
   "source": [
    "sydney_aoi_all = sydney_aoi.getInfo()['coordinates']\n",
    "\n",
    "# sydney_aoi_all"
   ]
  },
  {
   "cell_type": "code",
   "execution_count": 66,
   "id": "cf49de89-6c07-4f05-b645-3878e5603633",
   "metadata": {},
   "outputs": [
    {
     "data": {
      "text/plain": [
       "numpy.ndarray"
      ]
     },
     "execution_count": 66,
     "metadata": {},
     "output_type": "execute_result"
    }
   ],
   "source": [
    "sydney_aoi_poly = []\n",
    "for i in range(len(sydney_aoi_all[0:20])):\n",
    "    sydney_aoi_poly = np.append(sydney_aoi_poly, ee.Geometry.Polygon(sydney_aoi_all[i]))\n",
    "    \n",
    "type(sydney_aoi_poly)"
   ]
  },
  {
   "cell_type": "code",
   "execution_count": 67,
   "id": "c44673c0-6080-466a-bb82-3bf552d209c6",
   "metadata": {},
   "outputs": [
    {
     "data": {
      "text/plain": [
       "[[[147.09959654580408, -31.244618412374592],\n",
       "  [147.30959654580408, -31.244618412374592],\n",
       "  [147.30959654580408, -31.03461841237459],\n",
       "  [147.09959654580408, -31.03461841237459],\n",
       "  [147.09959654580408, -31.244618412374592]]]"
      ]
     },
     "execution_count": 67,
     "metadata": {},
     "output_type": "execute_result"
    }
   ],
   "source": [
    "sydney_aoi_poly[0]['coordinates']"
   ]
  },
  {
   "cell_type": "markdown",
   "id": "dd78c727-07da-47d3-b62b-b6a1376e7ddb",
   "metadata": {},
   "source": [
    "Getting the first 20 codes to match the first 20 polygons"
   ]
  },
  {
   "cell_type": "code",
   "execution_count": 68,
   "id": "1e148d06-e21f-4a15-bdcc-1d7de7867f95",
   "metadata": {},
   "outputs": [],
   "source": [
    "sydney_aoi_codes = sydney_aoi_codes[0:20]"
   ]
  },
  {
   "cell_type": "code",
   "execution_count": 69,
   "id": "12f95ce3-2335-4334-a6c3-f129b5e0085f",
   "metadata": {},
   "outputs": [
    {
     "data": {
      "text/plain": [
       "20"
      ]
     },
     "execution_count": 69,
     "metadata": {},
     "output_type": "execute_result"
    }
   ],
   "source": [
    "len(sydney_aoi_poly)"
   ]
  },
  {
   "cell_type": "code",
   "execution_count": 70,
   "id": "adb8172c-f4f2-46c6-b6dd-dbe40891fc93",
   "metadata": {},
   "outputs": [],
   "source": [
    "def get_imageCollections(bounds: np.ndarray, dates: tuple): # returns imageCollection\n",
    "\n",
    "    get_landsat_collection = ee_download.get_landsat_collection\n",
    "    get_s2_collection = ee_download.get_s2_collection\n",
    "    \n",
    "    landsat_imgs = []\n",
    "    s2_imgs = []\n",
    "    \n",
    "    for i in range(len(sydney_aoi_poly)):\n",
    "        landsat_imgs = np.append(landsat_imgs, get_landsat_collection(date_start=dates[0], date_end=dates[1] , bounds= bounds[i]))\n",
    "        s2_imgs = np.append(s2_imgs, get_s2_collection(date_start=dates[0], date_end=dates[1] , bounds= bounds[i]))\n",
    "\n",
    "    return landsat_imgs, s2_imgs"
   ]
  },
  {
   "cell_type": "code",
   "execution_count": 71,
   "id": "d37bbe11-4fe0-4a5e-b3b9-703d54b0eae5",
   "metadata": {},
   "outputs": [],
   "source": [
    "poly_landsat, poly_s2 = get_imageCollections(sydney_aoi_poly, test_datetime)"
   ]
  },
  {
   "cell_type": "code",
   "execution_count": 72,
   "id": "96f145ff-3672-46fb-b346-6bb341c63ec9",
   "metadata": {},
   "outputs": [
    {
     "data": {
      "text/plain": [
       "4"
      ]
     },
     "execution_count": 72,
     "metadata": {},
     "output_type": "execute_result"
    }
   ],
   "source": [
    "len(poly_landsat[0].getInfo()['features'])"
   ]
  },
  {
   "cell_type": "markdown",
   "id": "b675acc3-6a62-48df-affb-49ef11bdc37d",
   "metadata": {},
   "source": [
    "Checking how many images are in each of the firs 20 polygons"
   ]
  },
  {
   "cell_type": "code",
   "execution_count": 73,
   "id": "8c53f449-3cbb-463e-b55a-5fa627ff5a9c",
   "metadata": {},
   "outputs": [
    {
     "name": "stdout",
     "output_type": "stream",
     "text": [
      "4\n",
      "4\n",
      "2\n",
      "2\n",
      "4\n",
      "4\n",
      "4\n",
      "4\n",
      "4\n",
      "4\n",
      "4\n",
      "4\n",
      "4\n",
      "4\n",
      "4\n",
      "4\n",
      "4\n",
      "4\n",
      "4\n",
      "4\n"
     ]
    }
   ],
   "source": [
    "for i in range(len(poly_landsat)):\n",
    "    print(len(poly_landsat[i].getInfo()['features']))    "
   ]
  },
  {
   "cell_type": "code",
   "execution_count": 74,
   "id": "e7f3e0dc-6fd2-48ee-9e0f-457862df62e5",
   "metadata": {},
   "outputs": [
    {
     "data": {
      "text/plain": [
       "20"
      ]
     },
     "execution_count": 74,
     "metadata": {},
     "output_type": "execute_result"
    }
   ],
   "source": [
    "len(sydney_aoi_poly)"
   ]
  },
  {
   "cell_type": "code",
   "execution_count": 75,
   "id": "1c32d9f7-c70a-42e1-9225-913769c4318b",
   "metadata": {},
   "outputs": [
    {
     "data": {
      "text/plain": [
       "[[[147.09959654580408, -31.244618412374592],\n",
       "  [147.30959654580408, -31.244618412374592],\n",
       "  [147.30959654580408, -31.03461841237459],\n",
       "  [147.09959654580408, -31.03461841237459],\n",
       "  [147.09959654580408, -31.244618412374592]]]"
      ]
     },
     "execution_count": 75,
     "metadata": {},
     "output_type": "execute_result"
    }
   ],
   "source": [
    "sydney_aoi_poly[0]['coordinates']"
   ]
  },
  {
   "cell_type": "code",
   "execution_count": 76,
   "id": "1d0e45bc-461d-4c3b-bb0a-e895a9ab7f82",
   "metadata": {},
   "outputs": [],
   "source": [
    "landsat_coordinates = [[] for _ in range(len(poly_landsat))] # creating number of lists to match the number of polygons so that each polygon will have it's coordinates\n",
    "n_landsat = []\n",
    "\n",
    "for i in range(len(poly_landsat)):\n",
    "    landsat_coordinates[i] = sydney_aoi_poly[i]['coordinates']\n",
    "\n",
    "    n_landsat = np.append(n_landsat, len(poly_landsat[i].getInfo()['features'])) # Of the 20 indices, there will be the number of images in each. \n"
   ]
  },
  {
   "cell_type": "markdown",
   "id": "25429326-b450-436a-8a0f-0a0e801670ac",
   "metadata": {},
   "source": [
    "Trying to make a DF that isn't nested. Creating the DF comes later, first let's try to make lists that will be used to populate the DF. "
   ]
  },
  {
   "cell_type": "code",
   "execution_count": 77,
   "id": "0df97dcd-bf17-4e92-97e6-f66032e30eb6",
   "metadata": {},
   "outputs": [],
   "source": [
    "id_list = []\n",
    "cloudCover_list = []\n",
    "validPixels_list = []\n",
    "# coordinates_list = []\n",
    "# aoi_list = []\n",
    "source_list = ['landsat']*np.int(n_landsat.sum()) # creating a list the size of the total number of images of all the polygons\n",
    "\n",
    "for i in range(len(poly_landsat)): # Iterating through all the polygons\n",
    "    \n",
    "    for k in range(np.int(n_landsat[i])): # Iterating through all the images of each polygon\n",
    "        \n",
    "        id_list = np.append(id_list, poly_landsat[i].getInfo()['features'][k].get('id'))\n",
    "        cloudCover_list = np.append(cloudCover_list, poly_landsat[i].getInfo()['features'][k].get('properties')['CLOUD_COVER'])\n",
    "        validPixels_list = np.append(validPixels_list, poly_landsat[i].getInfo()['features'][k].get('properties')['valids'])\n",
    "        # coordinates_list = landsat_coordinates[i]\n",
    "        # aoi_list = sydney_aoi_codes[i]\n"
   ]
  },
  {
   "cell_type": "markdown",
   "id": "e266bcfb-049e-4912-b884-5c0cbd1e36fd",
   "metadata": {},
   "source": [
    "Having issues with coordinates and aoi, commented them out and will work on them in a separate cell. "
   ]
  },
  {
   "cell_type": "code",
   "execution_count": 78,
   "id": "c4a2cf40-4007-44bf-9d59-73b29fb14024",
   "metadata": {},
   "outputs": [
    {
     "data": {
      "text/plain": [
       "20"
      ]
     },
     "execution_count": 78,
     "metadata": {},
     "output_type": "execute_result"
    }
   ],
   "source": [
    "len(landsat_coordinates)"
   ]
  },
  {
   "cell_type": "code",
   "execution_count": 79,
   "id": "18b08d91-b72a-4100-8605-dc523588d1b8",
   "metadata": {},
   "outputs": [
    {
     "data": {
      "text/plain": [
       "[[[147.09959654580408, -31.244618412374592],\n",
       "  [147.30959654580408, -31.244618412374592],\n",
       "  [147.30959654580408, -31.03461841237459],\n",
       "  [147.09959654580408, -31.03461841237459],\n",
       "  [147.09959654580408, -31.244618412374592]]]"
      ]
     },
     "execution_count": 79,
     "metadata": {},
     "output_type": "execute_result"
    }
   ],
   "source": [
    "landsat_coordinates[0]"
   ]
  },
  {
   "cell_type": "code",
   "execution_count": 80,
   "id": "01d743af-9983-46e0-afe3-7410f2ac27d5",
   "metadata": {},
   "outputs": [],
   "source": [
    "coordinates_list = [] # creating number of lists to match the number of polygons so that each polygon will have it's coordinates\n",
    "\n",
    "aoi_list = []\n",
    "\n",
    "for i in range(len(poly_landsat)): # Iterating through all the polygons\n",
    "    \n",
    "    for k in range(len(poly_landsat[i].getInfo()['features'])): # Iterating through all the images of each polygon\n",
    "        \n",
    "        # print(k)\n",
    "        \n",
    "        aoi_list = np.append(aoi_list, sydney_aoi_codes[i])\n",
    "        \n",
    "        index_coord = landsat_coordinates[i]\n",
    "        \n",
    "        # print(index_coord)\n",
    "\n",
    "        coordinates_list.extend(index_coord)"
   ]
  },
  {
   "cell_type": "code",
   "execution_count": 81,
   "id": "7c9d59bb-c071-466b-9a0a-b2e921f8cbbb",
   "metadata": {},
   "outputs": [
    {
     "data": {
      "text/plain": [
       "76"
      ]
     },
     "execution_count": 81,
     "metadata": {},
     "output_type": "execute_result"
    }
   ],
   "source": [
    "len(coordinates_list)"
   ]
  },
  {
   "cell_type": "code",
   "execution_count": 82,
   "id": "4765f61f-a4fc-44e2-b48a-066c780f94d5",
   "metadata": {},
   "outputs": [
    {
     "data": {
      "text/plain": [
       "list"
      ]
     },
     "execution_count": 82,
     "metadata": {},
     "output_type": "execute_result"
    }
   ],
   "source": [
    "type(coordinates_list[0])"
   ]
  },
  {
   "cell_type": "markdown",
   "id": "e4a6ec61-f2a7-44a9-9b49-26937ce1614d",
   "metadata": {},
   "source": [
    "Managed to get the aoi list, but the coordinates list is having issues. For every polygon, the array of coordinates needs to be duplicated to the number of images that are in the polygon. "
   ]
  },
  {
   "cell_type": "code",
   "execution_count": 83,
   "id": "30eddbf3-9c33-4016-9720-5a7d9319db81",
   "metadata": {},
   "outputs": [
    {
     "data": {
      "text/html": [
       "<div>\n",
       "<style scoped>\n",
       "    .dataframe tbody tr th:only-of-type {\n",
       "        vertical-align: middle;\n",
       "    }\n",
       "\n",
       "    .dataframe tbody tr th {\n",
       "        vertical-align: top;\n",
       "    }\n",
       "\n",
       "    .dataframe thead th {\n",
       "        text-align: right;\n",
       "    }\n",
       "</style>\n",
       "<table border=\"1\" class=\"dataframe\">\n",
       "  <thead>\n",
       "    <tr style=\"text-align: right;\">\n",
       "      <th></th>\n",
       "      <th>id</th>\n",
       "      <th>cloud_cover</th>\n",
       "      <th>source</th>\n",
       "      <th>aoi_code</th>\n",
       "      <th>percentage_valid_pixels</th>\n",
       "      <th>geometry</th>\n",
       "    </tr>\n",
       "  </thead>\n",
       "  <tbody>\n",
       "    <tr>\n",
       "      <th>0</th>\n",
       "      <td>2021-08-13</td>\n",
       "      <td>0.02</td>\n",
       "      <td>landsat</td>\n",
       "      <td>AOI01</td>\n",
       "      <td>1.000000</td>\n",
       "      <td>[[147.09959654580408, -31.244618412374592], [1...</td>\n",
       "    </tr>\n",
       "    <tr>\n",
       "      <th>1</th>\n",
       "      <td>2021-08-29</td>\n",
       "      <td>14.17</td>\n",
       "      <td>landsat</td>\n",
       "      <td>AOI01</td>\n",
       "      <td>1.000000</td>\n",
       "      <td>[[147.09959654580408, -31.244618412374592], [1...</td>\n",
       "    </tr>\n",
       "    <tr>\n",
       "      <th>2</th>\n",
       "      <td>2021-08-04</td>\n",
       "      <td>1.96</td>\n",
       "      <td>landsat</td>\n",
       "      <td>AOI01</td>\n",
       "      <td>0.279306</td>\n",
       "      <td>[[147.09959654580408, -31.244618412374592], [1...</td>\n",
       "    </tr>\n",
       "    <tr>\n",
       "      <th>3</th>\n",
       "      <td>2021-08-20</td>\n",
       "      <td>0.01</td>\n",
       "      <td>landsat</td>\n",
       "      <td>AOI01</td>\n",
       "      <td>0.276128</td>\n",
       "      <td>[[147.09959654580408, -31.244618412374592], [1...</td>\n",
       "    </tr>\n",
       "    <tr>\n",
       "      <th>4</th>\n",
       "      <td>2021-08-13</td>\n",
       "      <td>0.02</td>\n",
       "      <td>landsat</td>\n",
       "      <td>AOI01</td>\n",
       "      <td>1.000000</td>\n",
       "      <td>[[147.09959654580408, -31.04461841237459], [14...</td>\n",
       "    </tr>\n",
       "    <tr>\n",
       "      <th>5</th>\n",
       "      <td>2021-08-29</td>\n",
       "      <td>14.17</td>\n",
       "      <td>landsat</td>\n",
       "      <td>AOI01</td>\n",
       "      <td>1.000000</td>\n",
       "      <td>[[147.09959654580408, -31.04461841237459], [14...</td>\n",
       "    </tr>\n",
       "    <tr>\n",
       "      <th>6</th>\n",
       "      <td>2021-08-04</td>\n",
       "      <td>1.96</td>\n",
       "      <td>landsat</td>\n",
       "      <td>AOI01</td>\n",
       "      <td>0.521599</td>\n",
       "      <td>[[147.09959654580408, -31.04461841237459], [14...</td>\n",
       "    </tr>\n",
       "    <tr>\n",
       "      <th>7</th>\n",
       "      <td>2021-08-20</td>\n",
       "      <td>0.01</td>\n",
       "      <td>landsat</td>\n",
       "      <td>AOI01</td>\n",
       "      <td>0.518510</td>\n",
       "      <td>[[147.09959654580408, -31.04461841237459], [14...</td>\n",
       "    </tr>\n",
       "    <tr>\n",
       "      <th>8</th>\n",
       "      <td>2021-08-13</td>\n",
       "      <td>2.36</td>\n",
       "      <td>landsat</td>\n",
       "      <td>AOI02</td>\n",
       "      <td>1.000000</td>\n",
       "      <td>[[147.4996031608572, -32.44460560526437], [147...</td>\n",
       "    </tr>\n",
       "    <tr>\n",
       "      <th>9</th>\n",
       "      <td>2021-08-29</td>\n",
       "      <td>56.97</td>\n",
       "      <td>landsat</td>\n",
       "      <td>AOI02</td>\n",
       "      <td>1.000000</td>\n",
       "      <td>[[147.4996031608572, -32.44460560526437], [147...</td>\n",
       "    </tr>\n",
       "  </tbody>\n",
       "</table>\n",
       "</div>"
      ],
      "text/plain": [
       "           id  cloud_cover   source aoi_code  percentage_valid_pixels  \\\n",
       "0  2021-08-13         0.02  landsat    AOI01                 1.000000   \n",
       "1  2021-08-29        14.17  landsat    AOI01                 1.000000   \n",
       "2  2021-08-04         1.96  landsat    AOI01                 0.279306   \n",
       "3  2021-08-20         0.01  landsat    AOI01                 0.276128   \n",
       "4  2021-08-13         0.02  landsat    AOI01                 1.000000   \n",
       "5  2021-08-29        14.17  landsat    AOI01                 1.000000   \n",
       "6  2021-08-04         1.96  landsat    AOI01                 0.521599   \n",
       "7  2021-08-20         0.01  landsat    AOI01                 0.518510   \n",
       "8  2021-08-13         2.36  landsat    AOI02                 1.000000   \n",
       "9  2021-08-29        56.97  landsat    AOI02                 1.000000   \n",
       "\n",
       "                                            geometry  \n",
       "0  [[147.09959654580408, -31.244618412374592], [1...  \n",
       "1  [[147.09959654580408, -31.244618412374592], [1...  \n",
       "2  [[147.09959654580408, -31.244618412374592], [1...  \n",
       "3  [[147.09959654580408, -31.244618412374592], [1...  \n",
       "4  [[147.09959654580408, -31.04461841237459], [14...  \n",
       "5  [[147.09959654580408, -31.04461841237459], [14...  \n",
       "6  [[147.09959654580408, -31.04461841237459], [14...  \n",
       "7  [[147.09959654580408, -31.04461841237459], [14...  \n",
       "8  [[147.4996031608572, -32.44460560526437], [147...  \n",
       "9  [[147.4996031608572, -32.44460560526437], [147...  "
      ]
     },
     "execution_count": 83,
     "metadata": {},
     "output_type": "execute_result"
    }
   ],
   "source": [
    "landsat_df = gpd.GeoDataFrame({'id':id_list, 'cloud_cover':cloudCover_list, 'source': source_list, 'aoi_code': aoi_list, 'percentage_valid_pixels': validPixels_list, 'geometry':coordinates_list})\n",
    "landsat_df.head(10)"
   ]
  },
  {
   "cell_type": "markdown",
   "id": "b56a448b-8975-4bb3-a1b2-252490851790",
   "metadata": {
    "jp-MarkdownHeadingCollapsed": true,
    "tags": []
   },
   "source": [
    "#  Visualisation for Landsat"
   ]
  },
  {
   "cell_type": "code",
   "execution_count": 84,
   "id": "7fbd8ae0-606c-48cb-9538-aff416c4de01",
   "metadata": {},
   "outputs": [],
   "source": [
    "from shapely.geometry import Polygon\n",
    "\n",
    "landsat_df['geometry'] = landsat_df['geometry'].apply(Polygon)"
   ]
  },
  {
   "cell_type": "code",
   "execution_count": 85,
   "id": "479f6191-c5a2-4c47-8a64-fbc093a3cf7b",
   "metadata": {},
   "outputs": [
    {
     "data": {
      "text/html": [
       "<div>\n",
       "<style scoped>\n",
       "    .dataframe tbody tr th:only-of-type {\n",
       "        vertical-align: middle;\n",
       "    }\n",
       "\n",
       "    .dataframe tbody tr th {\n",
       "        vertical-align: top;\n",
       "    }\n",
       "\n",
       "    .dataframe thead th {\n",
       "        text-align: right;\n",
       "    }\n",
       "</style>\n",
       "<table border=\"1\" class=\"dataframe\">\n",
       "  <thead>\n",
       "    <tr style=\"text-align: right;\">\n",
       "      <th></th>\n",
       "      <th>id</th>\n",
       "      <th>cloud_cover</th>\n",
       "      <th>source</th>\n",
       "      <th>aoi_code</th>\n",
       "      <th>percentage_valid_pixels</th>\n",
       "      <th>geometry</th>\n",
       "    </tr>\n",
       "  </thead>\n",
       "  <tbody>\n",
       "    <tr>\n",
       "      <th>0</th>\n",
       "      <td>2021-08-13</td>\n",
       "      <td>0.02</td>\n",
       "      <td>landsat</td>\n",
       "      <td>AOI01</td>\n",
       "      <td>1.000000</td>\n",
       "      <td>POLYGON ((147.09960 -31.24462, 147.30960 -31.2...</td>\n",
       "    </tr>\n",
       "    <tr>\n",
       "      <th>1</th>\n",
       "      <td>2021-08-29</td>\n",
       "      <td>14.17</td>\n",
       "      <td>landsat</td>\n",
       "      <td>AOI01</td>\n",
       "      <td>1.000000</td>\n",
       "      <td>POLYGON ((147.09960 -31.24462, 147.30960 -31.2...</td>\n",
       "    </tr>\n",
       "    <tr>\n",
       "      <th>2</th>\n",
       "      <td>2021-08-04</td>\n",
       "      <td>1.96</td>\n",
       "      <td>landsat</td>\n",
       "      <td>AOI01</td>\n",
       "      <td>0.279306</td>\n",
       "      <td>POLYGON ((147.09960 -31.24462, 147.30960 -31.2...</td>\n",
       "    </tr>\n",
       "    <tr>\n",
       "      <th>3</th>\n",
       "      <td>2021-08-20</td>\n",
       "      <td>0.01</td>\n",
       "      <td>landsat</td>\n",
       "      <td>AOI01</td>\n",
       "      <td>0.276128</td>\n",
       "      <td>POLYGON ((147.09960 -31.24462, 147.30960 -31.2...</td>\n",
       "    </tr>\n",
       "    <tr>\n",
       "      <th>4</th>\n",
       "      <td>2021-08-13</td>\n",
       "      <td>0.02</td>\n",
       "      <td>landsat</td>\n",
       "      <td>AOI01</td>\n",
       "      <td>1.000000</td>\n",
       "      <td>POLYGON ((147.09960 -31.04462, 147.30960 -31.0...</td>\n",
       "    </tr>\n",
       "    <tr>\n",
       "      <th>...</th>\n",
       "      <td>...</td>\n",
       "      <td>...</td>\n",
       "      <td>...</td>\n",
       "      <td>...</td>\n",
       "      <td>...</td>\n",
       "      <td>...</td>\n",
       "    </tr>\n",
       "    <tr>\n",
       "      <th>71</th>\n",
       "      <td>2021-08-29</td>\n",
       "      <td>56.97</td>\n",
       "      <td>landsat</td>\n",
       "      <td>AOI0395</td>\n",
       "      <td>0.705777</td>\n",
       "      <td>POLYGON ((148.29960 -32.24461, 148.50960 -32.2...</td>\n",
       "    </tr>\n",
       "    <tr>\n",
       "      <th>72</th>\n",
       "      <td>2021-08-06</td>\n",
       "      <td>54.69</td>\n",
       "      <td>landsat</td>\n",
       "      <td>AOI0396</td>\n",
       "      <td>1.000000</td>\n",
       "      <td>POLYGON ((148.29960 -32.04461, 148.50960 -32.0...</td>\n",
       "    </tr>\n",
       "    <tr>\n",
       "      <th>73</th>\n",
       "      <td>2021-08-22</td>\n",
       "      <td>10.80</td>\n",
       "      <td>landsat</td>\n",
       "      <td>AOI0396</td>\n",
       "      <td>1.000000</td>\n",
       "      <td>POLYGON ((148.29960 -32.04461, 148.50960 -32.0...</td>\n",
       "    </tr>\n",
       "    <tr>\n",
       "      <th>74</th>\n",
       "      <td>2021-08-13</td>\n",
       "      <td>2.36</td>\n",
       "      <td>landsat</td>\n",
       "      <td>AOI0396</td>\n",
       "      <td>0.932296</td>\n",
       "      <td>POLYGON ((148.29960 -32.04461, 148.50960 -32.0...</td>\n",
       "    </tr>\n",
       "    <tr>\n",
       "      <th>75</th>\n",
       "      <td>2021-08-29</td>\n",
       "      <td>56.97</td>\n",
       "      <td>landsat</td>\n",
       "      <td>AOI0396</td>\n",
       "      <td>0.938963</td>\n",
       "      <td>POLYGON ((148.29960 -32.04461, 148.50960 -32.0...</td>\n",
       "    </tr>\n",
       "  </tbody>\n",
       "</table>\n",
       "<p>76 rows × 6 columns</p>\n",
       "</div>"
      ],
      "text/plain": [
       "            id  cloud_cover   source aoi_code  percentage_valid_pixels  \\\n",
       "0   2021-08-13         0.02  landsat    AOI01                 1.000000   \n",
       "1   2021-08-29        14.17  landsat    AOI01                 1.000000   \n",
       "2   2021-08-04         1.96  landsat    AOI01                 0.279306   \n",
       "3   2021-08-20         0.01  landsat    AOI01                 0.276128   \n",
       "4   2021-08-13         0.02  landsat    AOI01                 1.000000   \n",
       "..         ...          ...      ...      ...                      ...   \n",
       "71  2021-08-29        56.97  landsat  AOI0395                 0.705777   \n",
       "72  2021-08-06        54.69  landsat  AOI0396                 1.000000   \n",
       "73  2021-08-22        10.80  landsat  AOI0396                 1.000000   \n",
       "74  2021-08-13         2.36  landsat  AOI0396                 0.932296   \n",
       "75  2021-08-29        56.97  landsat  AOI0396                 0.938963   \n",
       "\n",
       "                                             geometry  \n",
       "0   POLYGON ((147.09960 -31.24462, 147.30960 -31.2...  \n",
       "1   POLYGON ((147.09960 -31.24462, 147.30960 -31.2...  \n",
       "2   POLYGON ((147.09960 -31.24462, 147.30960 -31.2...  \n",
       "3   POLYGON ((147.09960 -31.24462, 147.30960 -31.2...  \n",
       "4   POLYGON ((147.09960 -31.04462, 147.30960 -31.0...  \n",
       "..                                                ...  \n",
       "71  POLYGON ((148.29960 -32.24461, 148.50960 -32.2...  \n",
       "72  POLYGON ((148.29960 -32.04461, 148.50960 -32.0...  \n",
       "73  POLYGON ((148.29960 -32.04461, 148.50960 -32.0...  \n",
       "74  POLYGON ((148.29960 -32.04461, 148.50960 -32.0...  \n",
       "75  POLYGON ((148.29960 -32.04461, 148.50960 -32.0...  \n",
       "\n",
       "[76 rows x 6 columns]"
      ]
     },
     "execution_count": 85,
     "metadata": {},
     "output_type": "execute_result"
    }
   ],
   "source": [
    "landsat_df"
   ]
  },
  {
   "cell_type": "code",
   "execution_count": 86,
   "id": "29eca646-3b17-4234-a3b3-4d59c3a506f9",
   "metadata": {},
   "outputs": [
    {
     "data": {
      "text/plain": [
       "<Geographic 2D CRS: EPSG:4326>\n",
       "Name: WGS 84\n",
       "Axis Info [ellipsoidal]:\n",
       "- Lat[north]: Geodetic latitude (degree)\n",
       "- Lon[east]: Geodetic longitude (degree)\n",
       "Area of Use:\n",
       "- name: World.\n",
       "- bounds: (-180.0, -90.0, 180.0, 90.0)\n",
       "Datum: World Geodetic System 1984 ensemble\n",
       "- Ellipsoid: WGS 84\n",
       "- Prime Meridian: Greenwich"
      ]
     },
     "execution_count": 86,
     "metadata": {},
     "output_type": "execute_result"
    }
   ],
   "source": [
    "landsat_df = landsat_df.set_crs('EPSG:4326')\n",
    "\n",
    "landsat_df.crs"
   ]
  },
  {
   "cell_type": "code",
   "execution_count": 87,
   "id": "8eff2b2d-fe39-4260-869f-3b44ad9d99da",
   "metadata": {},
   "outputs": [
    {
     "name": "stdout",
     "output_type": "stream",
     "text": [
      "Requirement already satisfied: folium in /opt/conda/lib/python3.7/site-packages (0.12.1.post1)\n",
      "Requirement already satisfied: matplotlib in /opt/conda/lib/python3.7/site-packages (3.5.2)\n",
      "Requirement already satisfied: mapclassify in /opt/conda/lib/python3.7/site-packages (2.4.3)\n",
      "Requirement already satisfied: branca>=0.3.0 in /opt/conda/lib/python3.7/site-packages (from folium) (0.5.0)\n",
      "Requirement already satisfied: jinja2>=2.9 in /opt/conda/lib/python3.7/site-packages (from folium) (3.1.2)\n",
      "Requirement already satisfied: requests in /opt/conda/lib/python3.7/site-packages (from folium) (2.28.1)\n",
      "Requirement already satisfied: numpy in /opt/conda/lib/python3.7/site-packages (from folium) (1.19.5)\n",
      "Requirement already satisfied: cycler>=0.10 in /opt/conda/lib/python3.7/site-packages (from matplotlib) (0.11.0)\n",
      "Requirement already satisfied: pillow>=6.2.0 in /opt/conda/lib/python3.7/site-packages (from matplotlib) (9.2.0)\n",
      "Requirement already satisfied: packaging>=20.0 in /opt/conda/lib/python3.7/site-packages (from matplotlib) (21.3)\n",
      "Requirement already satisfied: fonttools>=4.22.0 in /opt/conda/lib/python3.7/site-packages (from matplotlib) (4.34.4)\n",
      "Requirement already satisfied: pyparsing>=2.2.1 in /opt/conda/lib/python3.7/site-packages (from matplotlib) (3.0.9)\n",
      "Requirement already satisfied: python-dateutil>=2.7 in /opt/conda/lib/python3.7/site-packages (from matplotlib) (2.8.2)\n",
      "Requirement already satisfied: kiwisolver>=1.0.1 in /opt/conda/lib/python3.7/site-packages (from matplotlib) (1.4.4)\n",
      "Requirement already satisfied: pandas>=1.0 in /opt/conda/lib/python3.7/site-packages (from mapclassify) (1.3.5)\n",
      "Requirement already satisfied: scikit-learn in /opt/conda/lib/python3.7/site-packages (from mapclassify) (1.0.2)\n",
      "Requirement already satisfied: networkx in /opt/conda/lib/python3.7/site-packages (from mapclassify) (2.7.1)\n",
      "Requirement already satisfied: scipy>=1.0 in /opt/conda/lib/python3.7/site-packages (from mapclassify) (1.7.3)\n",
      "Requirement already satisfied: MarkupSafe>=2.0 in /opt/conda/lib/python3.7/site-packages (from jinja2>=2.9->folium) (2.1.1)\n",
      "Requirement already satisfied: typing-extensions in /opt/conda/lib/python3.7/site-packages (from kiwisolver>=1.0.1->matplotlib) (4.3.0)\n",
      "Requirement already satisfied: pytz>=2017.3 in /opt/conda/lib/python3.7/site-packages (from pandas>=1.0->mapclassify) (2022.1)\n",
      "Requirement already satisfied: six>=1.5 in /opt/conda/lib/python3.7/site-packages (from python-dateutil>=2.7->matplotlib) (1.16.0)\n",
      "Requirement already satisfied: idna<4,>=2.5 in /opt/conda/lib/python3.7/site-packages (from requests->folium) (3.3)\n",
      "Requirement already satisfied: charset-normalizer<3,>=2 in /opt/conda/lib/python3.7/site-packages (from requests->folium) (2.1.0)\n",
      "Requirement already satisfied: certifi>=2017.4.17 in /opt/conda/lib/python3.7/site-packages (from requests->folium) (2022.6.15)\n",
      "Requirement already satisfied: urllib3<1.27,>=1.21.1 in /opt/conda/lib/python3.7/site-packages (from requests->folium) (1.26.11)\n",
      "Requirement already satisfied: threadpoolctl>=2.0.0 in /opt/conda/lib/python3.7/site-packages (from scikit-learn->mapclassify) (3.1.0)\n",
      "Requirement already satisfied: joblib>=0.11 in /opt/conda/lib/python3.7/site-packages (from scikit-learn->mapclassify) (1.1.0)\n"
     ]
    }
   ],
   "source": [
    "!pip install folium matplotlib mapclassify"
   ]
  },
  {
   "cell_type": "code",
   "execution_count": 88,
   "id": "b16c3008-d31a-48ab-950b-6af190e2691c",
   "metadata": {},
   "outputs": [
    {
     "data": {
      "text/html": [
       "<div style=\"width:100%;\"><div style=\"position:relative;width:100%;height:0;padding-bottom:60%;\"><span style=\"color:#565656\">Make this Notebook Trusted to load map: File -> Trust Notebook</span><iframe srcdoc=\"&lt;!DOCTYPE html&gt;\n",
       "&lt;head&gt;    \n",
       "    &lt;meta http-equiv=&quot;content-type&quot; content=&quot;text/html; charset=UTF-8&quot; /&gt;\n",
       "    \n",
       "        &lt;script&gt;\n",
       "            L_NO_TOUCH = false;\n",
       "            L_DISABLE_3D = false;\n",
       "        &lt;/script&gt;\n",
       "    \n",
       "    &lt;style&gt;html, body {width: 100%;height: 100%;margin: 0;padding: 0;}&lt;/style&gt;\n",
       "    &lt;style&gt;#map {position:absolute;top:0;bottom:0;right:0;left:0;}&lt;/style&gt;\n",
       "    &lt;script src=&quot;https://cdn.jsdelivr.net/npm/leaflet@1.6.0/dist/leaflet.js&quot;&gt;&lt;/script&gt;\n",
       "    &lt;script src=&quot;https://code.jquery.com/jquery-1.12.4.min.js&quot;&gt;&lt;/script&gt;\n",
       "    &lt;script src=&quot;https://maxcdn.bootstrapcdn.com/bootstrap/3.2.0/js/bootstrap.min.js&quot;&gt;&lt;/script&gt;\n",
       "    &lt;script src=&quot;https://cdnjs.cloudflare.com/ajax/libs/Leaflet.awesome-markers/2.0.2/leaflet.awesome-markers.js&quot;&gt;&lt;/script&gt;\n",
       "    &lt;link rel=&quot;stylesheet&quot; href=&quot;https://cdn.jsdelivr.net/npm/leaflet@1.6.0/dist/leaflet.css&quot;/&gt;\n",
       "    &lt;link rel=&quot;stylesheet&quot; href=&quot;https://maxcdn.bootstrapcdn.com/bootstrap/3.2.0/css/bootstrap.min.css&quot;/&gt;\n",
       "    &lt;link rel=&quot;stylesheet&quot; href=&quot;https://maxcdn.bootstrapcdn.com/bootstrap/3.2.0/css/bootstrap-theme.min.css&quot;/&gt;\n",
       "    &lt;link rel=&quot;stylesheet&quot; href=&quot;https://maxcdn.bootstrapcdn.com/font-awesome/4.6.3/css/font-awesome.min.css&quot;/&gt;\n",
       "    &lt;link rel=&quot;stylesheet&quot; href=&quot;https://cdnjs.cloudflare.com/ajax/libs/Leaflet.awesome-markers/2.0.2/leaflet.awesome-markers.css&quot;/&gt;\n",
       "    &lt;link rel=&quot;stylesheet&quot; href=&quot;https://cdn.jsdelivr.net/gh/python-visualization/folium/folium/templates/leaflet.awesome.rotate.min.css&quot;/&gt;\n",
       "    \n",
       "            &lt;meta name=&quot;viewport&quot; content=&quot;width=device-width,\n",
       "                initial-scale=1.0, maximum-scale=1.0, user-scalable=no&quot; /&gt;\n",
       "            &lt;style&gt;\n",
       "                #map_9ff2d787221e2922e8afb75916c5fc3f {\n",
       "                    position: relative;\n",
       "                    width: 100.0%;\n",
       "                    height: 100.0%;\n",
       "                    left: 0.0%;\n",
       "                    top: 0.0%;\n",
       "                }\n",
       "            &lt;/style&gt;\n",
       "        \n",
       "    \n",
       "                    &lt;style&gt;\n",
       "                        .foliumtooltip {\n",
       "                            \n",
       "                        }\n",
       "                       .foliumtooltip table{\n",
       "                            margin: auto;\n",
       "                        }\n",
       "                        .foliumtooltip tr{\n",
       "                            text-align: left;\n",
       "                        }\n",
       "                        .foliumtooltip th{\n",
       "                            padding: 2px; padding-right: 8px;\n",
       "                        }\n",
       "                    &lt;/style&gt;\n",
       "            \n",
       "&lt;/head&gt;\n",
       "&lt;body&gt;    \n",
       "    \n",
       "            &lt;div class=&quot;folium-map&quot; id=&quot;map_9ff2d787221e2922e8afb75916c5fc3f&quot; &gt;&lt;/div&gt;\n",
       "        \n",
       "&lt;/body&gt;\n",
       "&lt;script&gt;    \n",
       "    \n",
       "            var map_9ff2d787221e2922e8afb75916c5fc3f = L.map(\n",
       "                &quot;map_9ff2d787221e2922e8afb75916c5fc3f&quot;,\n",
       "                {\n",
       "                    center: [-31.53960560526436, 147.80459985333061],\n",
       "                    crs: L.CRS.EPSG3857,\n",
       "                    zoom: 10,\n",
       "                    zoomControl: true,\n",
       "                    preferCanvas: false,\n",
       "                }\n",
       "            );\n",
       "            L.control.scale().addTo(map_9ff2d787221e2922e8afb75916c5fc3f);\n",
       "\n",
       "            \n",
       "\n",
       "        \n",
       "    \n",
       "            var tile_layer_4d9c9139e5f277e91ff1d6ea8f04d659 = L.tileLayer(\n",
       "                &quot;https://{s}.tile.openstreetmap.org/{z}/{x}/{y}.png&quot;,\n",
       "                {&quot;attribution&quot;: &quot;Data by \\u0026copy; \\u003ca href=\\&quot;http://openstreetmap.org\\&quot;\\u003eOpenStreetMap\\u003c/a\\u003e, under \\u003ca href=\\&quot;http://www.openstreetmap.org/copyright\\&quot;\\u003eODbL\\u003c/a\\u003e.&quot;, &quot;detectRetina&quot;: false, &quot;maxNativeZoom&quot;: 18, &quot;maxZoom&quot;: 18, &quot;minZoom&quot;: 0, &quot;noWrap&quot;: false, &quot;opacity&quot;: 1, &quot;subdomains&quot;: &quot;abc&quot;, &quot;tms&quot;: false}\n",
       "            ).addTo(map_9ff2d787221e2922e8afb75916c5fc3f);\n",
       "        \n",
       "    \n",
       "            map_9ff2d787221e2922e8afb75916c5fc3f.fitBounds(\n",
       "                [[-32.84460560526438, 147.09959654580408], [-30.234605605264342, 148.50960316085715]],\n",
       "                {}\n",
       "            );\n",
       "        \n",
       "    \n",
       "        function geo_json_16c2432a221c650cf7b747f6093ba279_styler(feature) {\n",
       "            switch(feature.id) {\n",
       "                default:\n",
       "                    return {&quot;fillOpacity&quot;: 0.5, &quot;weight&quot;: 2};\n",
       "            }\n",
       "        }\n",
       "        function geo_json_16c2432a221c650cf7b747f6093ba279_highlighter(feature) {\n",
       "            switch(feature.id) {\n",
       "                default:\n",
       "                    return {&quot;fillOpacity&quot;: 0.75};\n",
       "            }\n",
       "        }\n",
       "        function geo_json_16c2432a221c650cf7b747f6093ba279_pointToLayer(feature, latlng) {\n",
       "            var opts = {&quot;bubblingMouseEvents&quot;: true, &quot;color&quot;: &quot;#3388ff&quot;, &quot;dashArray&quot;: null, &quot;dashOffset&quot;: null, &quot;fill&quot;: true, &quot;fillColor&quot;: &quot;#3388ff&quot;, &quot;fillOpacity&quot;: 0.2, &quot;fillRule&quot;: &quot;evenodd&quot;, &quot;lineCap&quot;: &quot;round&quot;, &quot;lineJoin&quot;: &quot;round&quot;, &quot;opacity&quot;: 1.0, &quot;radius&quot;: 2, &quot;stroke&quot;: true, &quot;weight&quot;: 3};\n",
       "            \n",
       "            let style = geo_json_16c2432a221c650cf7b747f6093ba279_styler(feature)\n",
       "            Object.assign(opts, style)\n",
       "            \n",
       "            return new L.CircleMarker(latlng, opts)\n",
       "        }\n",
       "\n",
       "        function geo_json_16c2432a221c650cf7b747f6093ba279_onEachFeature(feature, layer) {\n",
       "            layer.on({\n",
       "                mouseout: function(e) {\n",
       "                    if(typeof e.target.setStyle === &quot;function&quot;){\n",
       "                        geo_json_16c2432a221c650cf7b747f6093ba279.resetStyle(e.target);\n",
       "                    }\n",
       "                },\n",
       "                mouseover: function(e) {\n",
       "                    if(typeof e.target.setStyle === &quot;function&quot;){\n",
       "                        const highlightStyle = geo_json_16c2432a221c650cf7b747f6093ba279_highlighter(e.target.feature)\n",
       "                        e.target.setStyle(highlightStyle);\n",
       "                    }\n",
       "                },\n",
       "            });\n",
       "        };\n",
       "        var geo_json_16c2432a221c650cf7b747f6093ba279 = L.geoJson(null, {\n",
       "                onEachFeature: geo_json_16c2432a221c650cf7b747f6093ba279_onEachFeature,\n",
       "            \n",
       "                style: geo_json_16c2432a221c650cf7b747f6093ba279_styler,\n",
       "                pointToLayer: geo_json_16c2432a221c650cf7b747f6093ba279_pointToLayer\n",
       "        });\n",
       "\n",
       "        function geo_json_16c2432a221c650cf7b747f6093ba279_add (data) {\n",
       "            geo_json_16c2432a221c650cf7b747f6093ba279\n",
       "                .addData(data)\n",
       "                .addTo(map_9ff2d787221e2922e8afb75916c5fc3f);\n",
       "        }\n",
       "            geo_json_16c2432a221c650cf7b747f6093ba279_add({&quot;bbox&quot;: [147.09959654580408, -32.84460560526438, 148.50960316085715, -30.234605605264342], &quot;features&quot;: [{&quot;bbox&quot;: [147.09959654580408, -31.244618412374592, 147.30959654580408, -31.03461841237459], &quot;geometry&quot;: {&quot;coordinates&quot;: [[[147.09959654580408, -31.244618412374592], [147.30959654580408, -31.244618412374592], [147.30959654580408, -31.03461841237459], [147.09959654580408, -31.03461841237459], [147.09959654580408, -31.244618412374592]]], &quot;type&quot;: &quot;Polygon&quot;}, &quot;id&quot;: &quot;0&quot;, &quot;properties&quot;: {&quot;aoi_code&quot;: &quot;AOI01&quot;, &quot;cloud_cover&quot;: 0.02, &quot;id&quot;: &quot;2021-08-13&quot;, &quot;percentage_valid_pixels&quot;: 1.0, &quot;source&quot;: &quot;landsat&quot;}, &quot;type&quot;: &quot;Feature&quot;}, {&quot;bbox&quot;: [147.09959654580408, -31.244618412374592, 147.30959654580408, -31.03461841237459], &quot;geometry&quot;: {&quot;coordinates&quot;: [[[147.09959654580408, -31.244618412374592], [147.30959654580408, -31.244618412374592], [147.30959654580408, -31.03461841237459], [147.09959654580408, -31.03461841237459], [147.09959654580408, -31.244618412374592]]], &quot;type&quot;: &quot;Polygon&quot;}, &quot;id&quot;: &quot;1&quot;, &quot;properties&quot;: {&quot;aoi_code&quot;: &quot;AOI01&quot;, &quot;cloud_cover&quot;: 14.17, &quot;id&quot;: &quot;2021-08-29&quot;, &quot;percentage_valid_pixels&quot;: 1.0, &quot;source&quot;: &quot;landsat&quot;}, &quot;type&quot;: &quot;Feature&quot;}, {&quot;bbox&quot;: [147.09959654580408, -31.244618412374592, 147.30959654580408, -31.03461841237459], &quot;geometry&quot;: {&quot;coordinates&quot;: [[[147.09959654580408, -31.244618412374592], [147.30959654580408, -31.244618412374592], [147.30959654580408, -31.03461841237459], [147.09959654580408, -31.03461841237459], [147.09959654580408, -31.244618412374592]]], &quot;type&quot;: &quot;Polygon&quot;}, &quot;id&quot;: &quot;2&quot;, &quot;properties&quot;: {&quot;aoi_code&quot;: &quot;AOI01&quot;, &quot;cloud_cover&quot;: 1.96, &quot;id&quot;: &quot;2021-08-04&quot;, &quot;percentage_valid_pixels&quot;: 0.2793058483698508, &quot;source&quot;: &quot;landsat&quot;}, &quot;type&quot;: &quot;Feature&quot;}, {&quot;bbox&quot;: [147.09959654580408, -31.244618412374592, 147.30959654580408, -31.03461841237459], &quot;geometry&quot;: {&quot;coordinates&quot;: [[[147.09959654580408, -31.244618412374592], [147.30959654580408, -31.244618412374592], [147.30959654580408, -31.03461841237459], [147.09959654580408, -31.03461841237459], [147.09959654580408, -31.244618412374592]]], &quot;type&quot;: &quot;Polygon&quot;}, &quot;id&quot;: &quot;3&quot;, &quot;properties&quot;: {&quot;aoi_code&quot;: &quot;AOI01&quot;, &quot;cloud_cover&quot;: 0.01, &quot;id&quot;: &quot;2021-08-20&quot;, &quot;percentage_valid_pixels&quot;: 0.2761283403702215, &quot;source&quot;: &quot;landsat&quot;}, &quot;type&quot;: &quot;Feature&quot;}, {&quot;bbox&quot;: [147.09959654580408, -31.04461841237459, 147.30959654580408, -30.83461841237459], &quot;geometry&quot;: {&quot;coordinates&quot;: [[[147.09959654580408, -31.04461841237459], [147.30959654580408, -31.04461841237459], [147.30959654580408, -30.83461841237459], [147.09959654580408, -30.83461841237459], [147.09959654580408, -31.04461841237459]]], &quot;type&quot;: &quot;Polygon&quot;}, &quot;id&quot;: &quot;4&quot;, &quot;properties&quot;: {&quot;aoi_code&quot;: &quot;AOI01&quot;, &quot;cloud_cover&quot;: 0.02, &quot;id&quot;: &quot;2021-08-13&quot;, &quot;percentage_valid_pixels&quot;: 1.0, &quot;source&quot;: &quot;landsat&quot;}, &quot;type&quot;: &quot;Feature&quot;}, {&quot;bbox&quot;: [147.09959654580408, -31.04461841237459, 147.30959654580408, -30.83461841237459], &quot;geometry&quot;: {&quot;coordinates&quot;: [[[147.09959654580408, -31.04461841237459], [147.30959654580408, -31.04461841237459], [147.30959654580408, -30.83461841237459], [147.09959654580408, -30.83461841237459], [147.09959654580408, -31.04461841237459]]], &quot;type&quot;: &quot;Polygon&quot;}, &quot;id&quot;: &quot;5&quot;, &quot;properties&quot;: {&quot;aoi_code&quot;: &quot;AOI01&quot;, &quot;cloud_cover&quot;: 14.17, &quot;id&quot;: &quot;2021-08-29&quot;, &quot;percentage_valid_pixels&quot;: 1.0, &quot;source&quot;: &quot;landsat&quot;}, &quot;type&quot;: &quot;Feature&quot;}, {&quot;bbox&quot;: [147.09959654580408, -31.04461841237459, 147.30959654580408, -30.83461841237459], &quot;geometry&quot;: {&quot;coordinates&quot;: [[[147.09959654580408, -31.04461841237459], [147.30959654580408, -31.04461841237459], [147.30959654580408, -30.83461841237459], [147.09959654580408, -30.83461841237459], [147.09959654580408, -31.04461841237459]]], &quot;type&quot;: &quot;Polygon&quot;}, &quot;id&quot;: &quot;6&quot;, &quot;properties&quot;: {&quot;aoi_code&quot;: &quot;AOI01&quot;, &quot;cloud_cover&quot;: 1.96, &quot;id&quot;: &quot;2021-08-04&quot;, &quot;percentage_valid_pixels&quot;: 0.5215987902079016, &quot;source&quot;: &quot;landsat&quot;}, &quot;type&quot;: &quot;Feature&quot;}, {&quot;bbox&quot;: [147.09959654580408, -31.04461841237459, 147.30959654580408, -30.83461841237459], &quot;geometry&quot;: {&quot;coordinates&quot;: [[[147.09959654580408, -31.04461841237459], [147.30959654580408, -31.04461841237459], [147.30959654580408, -30.83461841237459], [147.09959654580408, -30.83461841237459], [147.09959654580408, -31.04461841237459]]], &quot;type&quot;: &quot;Polygon&quot;}, &quot;id&quot;: &quot;7&quot;, &quot;properties&quot;: {&quot;aoi_code&quot;: &quot;AOI01&quot;, &quot;cloud_cover&quot;: 0.01, &quot;id&quot;: &quot;2021-08-20&quot;, &quot;percentage_valid_pixels&quot;: 0.518509723511732, &quot;source&quot;: &quot;landsat&quot;}, &quot;type&quot;: &quot;Feature&quot;}, {&quot;bbox&quot;: [147.4996031608572, -32.44460560526437, 147.7096031608572, -32.23460560526437], &quot;geometry&quot;: {&quot;coordinates&quot;: [[[147.4996031608572, -32.44460560526437], [147.7096031608572, -32.44460560526437], [147.7096031608572, -32.23460560526437], [147.4996031608572, -32.23460560526437], [147.4996031608572, -32.44460560526437]]], &quot;type&quot;: &quot;Polygon&quot;}, &quot;id&quot;: &quot;8&quot;, &quot;properties&quot;: {&quot;aoi_code&quot;: &quot;AOI02&quot;, &quot;cloud_cover&quot;: 2.36, &quot;id&quot;: &quot;2021-08-13&quot;, &quot;percentage_valid_pixels&quot;: 1.0, &quot;source&quot;: &quot;landsat&quot;}, &quot;type&quot;: &quot;Feature&quot;}, {&quot;bbox&quot;: [147.4996031608572, -32.44460560526437, 147.7096031608572, -32.23460560526437], &quot;geometry&quot;: {&quot;coordinates&quot;: [[[147.4996031608572, -32.44460560526437], [147.7096031608572, -32.44460560526437], [147.7096031608572, -32.23460560526437], [147.4996031608572, -32.23460560526437], [147.4996031608572, -32.44460560526437]]], &quot;type&quot;: &quot;Polygon&quot;}, &quot;id&quot;: &quot;9&quot;, &quot;properties&quot;: {&quot;aoi_code&quot;: &quot;AOI02&quot;, &quot;cloud_cover&quot;: 56.97, &quot;id&quot;: &quot;2021-08-29&quot;, &quot;percentage_valid_pixels&quot;: 1.0, &quot;source&quot;: &quot;landsat&quot;}, &quot;type&quot;: &quot;Feature&quot;}, {&quot;bbox&quot;: [147.4996031608572, -30.444605605264343, 147.7096031608572, -30.234605605264342], &quot;geometry&quot;: {&quot;coordinates&quot;: [[[147.4996031608572, -30.444605605264343], [147.7096031608572, -30.444605605264343], [147.7096031608572, -30.234605605264342], [147.4996031608572, -30.234605605264342], [147.4996031608572, -30.444605605264343]]], &quot;type&quot;: &quot;Polygon&quot;}, &quot;id&quot;: &quot;10&quot;, &quot;properties&quot;: {&quot;aoi_code&quot;: &quot;AOI02&quot;, &quot;cloud_cover&quot;: 0.02, &quot;id&quot;: &quot;2021-08-13&quot;, &quot;percentage_valid_pixels&quot;: 1.0, &quot;source&quot;: &quot;landsat&quot;}, &quot;type&quot;: &quot;Feature&quot;}, {&quot;bbox&quot;: [147.4996031608572, -30.444605605264343, 147.7096031608572, -30.234605605264342], &quot;geometry&quot;: {&quot;coordinates&quot;: [[[147.4996031608572, -30.444605605264343], [147.7096031608572, -30.444605605264343], [147.7096031608572, -30.234605605264342], [147.4996031608572, -30.234605605264342], [147.4996031608572, -30.444605605264343]]], &quot;type&quot;: &quot;Polygon&quot;}, &quot;id&quot;: &quot;11&quot;, &quot;properties&quot;: {&quot;aoi_code&quot;: &quot;AOI02&quot;, &quot;cloud_cover&quot;: 14.17, &quot;id&quot;: &quot;2021-08-29&quot;, &quot;percentage_valid_pixels&quot;: 1.0, &quot;source&quot;: &quot;landsat&quot;}, &quot;type&quot;: &quot;Feature&quot;}, {&quot;bbox&quot;: [147.09959654580408, -30.844618412374587, 147.30959654580408, -30.634618412374586], &quot;geometry&quot;: {&quot;coordinates&quot;: [[[147.09959654580408, -30.844618412374587], [147.30959654580408, -30.844618412374587], [147.30959654580408, -30.634618412374586], [147.09959654580408, -30.634618412374586], [147.09959654580408, -30.844618412374587]]], &quot;type&quot;: &quot;Polygon&quot;}, &quot;id&quot;: &quot;12&quot;, &quot;properties&quot;: {&quot;aoi_code&quot;: &quot;AOI0289&quot;, &quot;cloud_cover&quot;: 0.02, &quot;id&quot;: &quot;2021-08-13&quot;, &quot;percentage_valid_pixels&quot;: 1.0, &quot;source&quot;: &quot;landsat&quot;}, &quot;type&quot;: &quot;Feature&quot;}, {&quot;bbox&quot;: [147.09959654580408, -30.844618412374587, 147.30959654580408, -30.634618412374586], &quot;geometry&quot;: {&quot;coordinates&quot;: [[[147.09959654580408, -30.844618412374587], [147.30959654580408, -30.844618412374587], [147.30959654580408, -30.634618412374586], [147.09959654580408, -30.634618412374586], [147.09959654580408, -30.844618412374587]]], &quot;type&quot;: &quot;Polygon&quot;}, &quot;id&quot;: &quot;13&quot;, &quot;properties&quot;: {&quot;aoi_code&quot;: &quot;AOI0289&quot;, &quot;cloud_cover&quot;: 14.17, &quot;id&quot;: &quot;2021-08-29&quot;, &quot;percentage_valid_pixels&quot;: 1.0, &quot;source&quot;: &quot;landsat&quot;}, &quot;type&quot;: &quot;Feature&quot;}, {&quot;bbox&quot;: [147.09959654580408, -30.844618412374587, 147.30959654580408, -30.634618412374586], &quot;geometry&quot;: {&quot;coordinates&quot;: [[[147.09959654580408, -30.844618412374587], [147.30959654580408, -30.844618412374587], [147.30959654580408, -30.634618412374586], [147.09959654580408, -30.634618412374586], [147.09959654580408, -30.844618412374587]]], &quot;type&quot;: &quot;Polygon&quot;}, &quot;id&quot;: &quot;14&quot;, &quot;properties&quot;: {&quot;aoi_code&quot;: &quot;AOI0289&quot;, &quot;cloud_cover&quot;: 1.96, &quot;id&quot;: &quot;2021-08-04&quot;, &quot;percentage_valid_pixels&quot;: 0.763331287697974, &quot;source&quot;: &quot;landsat&quot;}, &quot;type&quot;: &quot;Feature&quot;}, {&quot;bbox&quot;: [147.09959654580408, -30.844618412374587, 147.30959654580408, -30.634618412374586], &quot;geometry&quot;: {&quot;coordinates&quot;: [[[147.09959654580408, -30.844618412374587], [147.30959654580408, -30.844618412374587], [147.30959654580408, -30.634618412374586], [147.09959654580408, -30.634618412374586], [147.09959654580408, -30.844618412374587]]], &quot;type&quot;: &quot;Polygon&quot;}, &quot;id&quot;: &quot;15&quot;, &quot;properties&quot;: {&quot;aoi_code&quot;: &quot;AOI0289&quot;, &quot;cloud_cover&quot;: 0.01, &quot;id&quot;: &quot;2021-08-20&quot;, &quot;percentage_valid_pixels&quot;: 0.760160884429572, &quot;source&quot;: &quot;landsat&quot;}, &quot;type&quot;: &quot;Feature&quot;}, {&quot;bbox&quot;: [147.69960316085718, -32.44460560526437, 147.9096031608572, -32.23460560526437], &quot;geometry&quot;: {&quot;coordinates&quot;: [[[147.69960316085718, -32.44460560526437], [147.9096031608572, -32.44460560526437], [147.9096031608572, -32.23460560526437], [147.69960316085718, -32.23460560526437], [147.69960316085718, -32.44460560526437]]], &quot;type&quot;: &quot;Polygon&quot;}, &quot;id&quot;: &quot;16&quot;, &quot;properties&quot;: {&quot;aoi_code&quot;: &quot;AOI0299&quot;, &quot;cloud_cover&quot;: 54.69, &quot;id&quot;: &quot;2021-08-06&quot;, &quot;percentage_valid_pixels&quot;: 0.11851375613738727, &quot;source&quot;: &quot;landsat&quot;}, &quot;type&quot;: &quot;Feature&quot;}, {&quot;bbox&quot;: [147.69960316085718, -32.44460560526437, 147.9096031608572, -32.23460560526437], &quot;geometry&quot;: {&quot;coordinates&quot;: [[[147.69960316085718, -32.44460560526437], [147.9096031608572, -32.44460560526437], [147.9096031608572, -32.23460560526437], [147.69960316085718, -32.23460560526437], [147.69960316085718, -32.44460560526437]]], &quot;type&quot;: &quot;Polygon&quot;}, &quot;id&quot;: &quot;17&quot;, &quot;properties&quot;: {&quot;aoi_code&quot;: &quot;AOI0299&quot;, &quot;cloud_cover&quot;: 10.8, &quot;id&quot;: &quot;2021-08-22&quot;, &quot;percentage_valid_pixels&quot;: 0.11387220154803157, &quot;source&quot;: &quot;landsat&quot;}, &quot;type&quot;: &quot;Feature&quot;}, {&quot;bbox&quot;: [147.69960316085718, -32.44460560526437, 147.9096031608572, -32.23460560526437], &quot;geometry&quot;: {&quot;coordinates&quot;: [[[147.69960316085718, -32.44460560526437], [147.9096031608572, -32.44460560526437], [147.9096031608572, -32.23460560526437], [147.69960316085718, -32.23460560526437], [147.69960316085718, -32.44460560526437]]], &quot;type&quot;: &quot;Polygon&quot;}, &quot;id&quot;: &quot;18&quot;, &quot;properties&quot;: {&quot;aoi_code&quot;: &quot;AOI0299&quot;, &quot;cloud_cover&quot;: 2.36, &quot;id&quot;: &quot;2021-08-13&quot;, &quot;percentage_valid_pixels&quot;: 1.0, &quot;source&quot;: &quot;landsat&quot;}, &quot;type&quot;: &quot;Feature&quot;}, {&quot;bbox&quot;: [147.69960316085718, -32.44460560526437, 147.9096031608572, -32.23460560526437], &quot;geometry&quot;: {&quot;coordinates&quot;: [[[147.69960316085718, -32.44460560526437], [147.9096031608572, -32.44460560526437], [147.9096031608572, -32.23460560526437], [147.69960316085718, -32.23460560526437], [147.69960316085718, -32.44460560526437]]], &quot;type&quot;: &quot;Polygon&quot;}, &quot;id&quot;: &quot;19&quot;, &quot;properties&quot;: {&quot;aoi_code&quot;: &quot;AOI0299&quot;, &quot;cloud_cover&quot;: 56.97, &quot;id&quot;: &quot;2021-08-29&quot;, &quot;percentage_valid_pixels&quot;: 1.0, &quot;source&quot;: &quot;landsat&quot;}, &quot;type&quot;: &quot;Feature&quot;}, {&quot;bbox&quot;: [147.69960316085718, -32.24460560526437, 147.9096031608572, -32.03460560526437], &quot;geometry&quot;: {&quot;coordinates&quot;: [[[147.69960316085718, -32.24460560526437], [147.9096031608572, -32.24460560526437], [147.9096031608572, -32.03460560526437], [147.69960316085718, -32.03460560526437], [147.69960316085718, -32.24460560526437]]], &quot;type&quot;: &quot;Polygon&quot;}, &quot;id&quot;: &quot;20&quot;, &quot;properties&quot;: {&quot;aoi_code&quot;: &quot;AOI03&quot;, &quot;cloud_cover&quot;: 54.69, &quot;id&quot;: &quot;2021-08-06&quot;, &quot;percentage_valid_pixels&quot;: 0.0, &quot;source&quot;: &quot;landsat&quot;}, &quot;type&quot;: &quot;Feature&quot;}, {&quot;bbox&quot;: [147.69960316085718, -32.24460560526437, 147.9096031608572, -32.03460560526437], &quot;geometry&quot;: {&quot;coordinates&quot;: [[[147.69960316085718, -32.24460560526437], [147.9096031608572, -32.24460560526437], [147.9096031608572, -32.03460560526437], [147.69960316085718, -32.03460560526437], [147.69960316085718, -32.24460560526437]]], &quot;type&quot;: &quot;Polygon&quot;}, &quot;id&quot;: &quot;21&quot;, &quot;properties&quot;: {&quot;aoi_code&quot;: &quot;AOI03&quot;, &quot;cloud_cover&quot;: 10.8, &quot;id&quot;: &quot;2021-08-22&quot;, &quot;percentage_valid_pixels&quot;: 0.0, &quot;source&quot;: &quot;landsat&quot;}, &quot;type&quot;: &quot;Feature&quot;}, {&quot;bbox&quot;: [147.69960316085718, -32.24460560526437, 147.9096031608572, -32.03460560526437], &quot;geometry&quot;: {&quot;coordinates&quot;: [[[147.69960316085718, -32.24460560526437], [147.9096031608572, -32.24460560526437], [147.9096031608572, -32.03460560526437], [147.69960316085718, -32.03460560526437], [147.69960316085718, -32.24460560526437]]], &quot;type&quot;: &quot;Polygon&quot;}, &quot;id&quot;: &quot;22&quot;, &quot;properties&quot;: {&quot;aoi_code&quot;: &quot;AOI03&quot;, &quot;cloud_cover&quot;: 2.36, &quot;id&quot;: &quot;2021-08-13&quot;, &quot;percentage_valid_pixels&quot;: 1.0, &quot;source&quot;: &quot;landsat&quot;}, &quot;type&quot;: &quot;Feature&quot;}, {&quot;bbox&quot;: [147.69960316085718, -32.24460560526437, 147.9096031608572, -32.03460560526437], &quot;geometry&quot;: {&quot;coordinates&quot;: [[[147.69960316085718, -32.24460560526437], [147.9096031608572, -32.24460560526437], [147.9096031608572, -32.03460560526437], [147.69960316085718, -32.03460560526437], [147.69960316085718, -32.24460560526437]]], &quot;type&quot;: &quot;Polygon&quot;}, &quot;id&quot;: &quot;23&quot;, &quot;properties&quot;: {&quot;aoi_code&quot;: &quot;AOI03&quot;, &quot;cloud_cover&quot;: 56.97, &quot;id&quot;: &quot;2021-08-29&quot;, &quot;percentage_valid_pixels&quot;: 1.0, &quot;source&quot;: &quot;landsat&quot;}, &quot;type&quot;: &quot;Feature&quot;}, {&quot;bbox&quot;: [147.89960316085717, -32.644605605264374, 148.10960316085718, -32.43460560526437], &quot;geometry&quot;: {&quot;coordinates&quot;: [[[147.89960316085717, -32.644605605264374], [148.10960316085718, -32.644605605264374], [148.10960316085718, -32.43460560526437], [147.89960316085717, -32.43460560526437], [147.89960316085717, -32.644605605264374]]], &quot;type&quot;: &quot;Polygon&quot;}, &quot;id&quot;: &quot;24&quot;, &quot;properties&quot;: {&quot;aoi_code&quot;: &quot;AOI03&quot;, &quot;cloud_cover&quot;: 54.69, &quot;id&quot;: &quot;2021-08-06&quot;, &quot;percentage_valid_pixels&quot;: 1.0, &quot;source&quot;: &quot;landsat&quot;}, &quot;type&quot;: &quot;Feature&quot;}, {&quot;bbox&quot;: [147.89960316085717, -32.644605605264374, 148.10960316085718, -32.43460560526437], &quot;geometry&quot;: {&quot;coordinates&quot;: [[[147.89960316085717, -32.644605605264374], [148.10960316085718, -32.644605605264374], [148.10960316085718, -32.43460560526437], [147.89960316085717, -32.43460560526437], [147.89960316085717, -32.644605605264374]]], &quot;type&quot;: &quot;Polygon&quot;}, &quot;id&quot;: &quot;25&quot;, &quot;properties&quot;: {&quot;aoi_code&quot;: &quot;AOI03&quot;, &quot;cloud_cover&quot;: 10.8, &quot;id&quot;: &quot;2021-08-22&quot;, &quot;percentage_valid_pixels&quot;: 1.0, &quot;source&quot;: &quot;landsat&quot;}, &quot;type&quot;: &quot;Feature&quot;}, {&quot;bbox&quot;: [147.89960316085717, -32.644605605264374, 148.10960316085718, -32.43460560526437], &quot;geometry&quot;: {&quot;coordinates&quot;: [[[147.89960316085717, -32.644605605264374], [148.10960316085718, -32.644605605264374], [148.10960316085718, -32.43460560526437], [147.89960316085717, -32.43460560526437], [147.89960316085717, -32.644605605264374]]], &quot;type&quot;: &quot;Polygon&quot;}, &quot;id&quot;: &quot;26&quot;, &quot;properties&quot;: {&quot;aoi_code&quot;: &quot;AOI03&quot;, &quot;cloud_cover&quot;: 2.36, &quot;id&quot;: &quot;2021-08-13&quot;, &quot;percentage_valid_pixels&quot;: 1.0, &quot;source&quot;: &quot;landsat&quot;}, &quot;type&quot;: &quot;Feature&quot;}, {&quot;bbox&quot;: [147.89960316085717, -32.644605605264374, 148.10960316085718, -32.43460560526437], &quot;geometry&quot;: {&quot;coordinates&quot;: [[[147.89960316085717, -32.644605605264374], [148.10960316085718, -32.644605605264374], [148.10960316085718, -32.43460560526437], [147.89960316085717, -32.43460560526437], [147.89960316085717, -32.644605605264374]]], &quot;type&quot;: &quot;Polygon&quot;}, &quot;id&quot;: &quot;27&quot;, &quot;properties&quot;: {&quot;aoi_code&quot;: &quot;AOI03&quot;, &quot;cloud_cover&quot;: 56.97, &quot;id&quot;: &quot;2021-08-29&quot;, &quot;percentage_valid_pixels&quot;: 1.0, &quot;source&quot;: &quot;landsat&quot;}, &quot;type&quot;: &quot;Feature&quot;}, {&quot;bbox&quot;: [147.89960316085717, -32.44460560526437, 148.10960316085718, -32.23460560526437], &quot;geometry&quot;: {&quot;coordinates&quot;: [[[147.89960316085717, -32.44460560526437], [148.10960316085718, -32.44460560526437], [148.10960316085718, -32.23460560526437], [147.89960316085717, -32.23460560526437], [147.89960316085717, -32.44460560526437]]], &quot;type&quot;: &quot;Polygon&quot;}, &quot;id&quot;: &quot;28&quot;, &quot;properties&quot;: {&quot;aoi_code&quot;: &quot;AOI0316&quot;, &quot;cloud_cover&quot;: 54.69, &quot;id&quot;: &quot;2021-08-06&quot;, &quot;percentage_valid_pixels&quot;: 0.9908227972219834, &quot;source&quot;: &quot;landsat&quot;}, &quot;type&quot;: &quot;Feature&quot;}, {&quot;bbox&quot;: [147.89960316085717, -32.44460560526437, 148.10960316085718, -32.23460560526437], &quot;geometry&quot;: {&quot;coordinates&quot;: [[[147.89960316085717, -32.44460560526437], [148.10960316085718, -32.44460560526437], [148.10960316085718, -32.23460560526437], [147.89960316085717, -32.23460560526437], [147.89960316085717, -32.44460560526437]]], &quot;type&quot;: &quot;Polygon&quot;}, &quot;id&quot;: &quot;29&quot;, &quot;properties&quot;: {&quot;aoi_code&quot;: &quot;AOI0316&quot;, &quot;cloud_cover&quot;: 10.8, &quot;id&quot;: &quot;2021-08-22&quot;, &quot;percentage_valid_pixels&quot;: 0.9895300070467699, &quot;source&quot;: &quot;landsat&quot;}, &quot;type&quot;: &quot;Feature&quot;}, {&quot;bbox&quot;: [147.89960316085717, -32.44460560526437, 148.10960316085718, -32.23460560526437], &quot;geometry&quot;: {&quot;coordinates&quot;: [[[147.89960316085717, -32.44460560526437], [148.10960316085718, -32.44460560526437], [148.10960316085718, -32.23460560526437], [147.89960316085717, -32.23460560526437], [147.89960316085717, -32.44460560526437]]], &quot;type&quot;: &quot;Polygon&quot;}, &quot;id&quot;: &quot;30&quot;, &quot;properties&quot;: {&quot;aoi_code&quot;: &quot;AOI0316&quot;, &quot;cloud_cover&quot;: 2.36, &quot;id&quot;: &quot;2021-08-13&quot;, &quot;percentage_valid_pixels&quot;: 1.0, &quot;source&quot;: &quot;landsat&quot;}, &quot;type&quot;: &quot;Feature&quot;}, {&quot;bbox&quot;: [147.89960316085717, -32.44460560526437, 148.10960316085718, -32.23460560526437], &quot;geometry&quot;: {&quot;coordinates&quot;: [[[147.89960316085717, -32.44460560526437], [148.10960316085718, -32.44460560526437], [148.10960316085718, -32.23460560526437], [147.89960316085717, -32.23460560526437], [147.89960316085717, -32.44460560526437]]], &quot;type&quot;: &quot;Polygon&quot;}, &quot;id&quot;: &quot;31&quot;, &quot;properties&quot;: {&quot;aoi_code&quot;: &quot;AOI0316&quot;, &quot;cloud_cover&quot;: 56.97, &quot;id&quot;: &quot;2021-08-29&quot;, &quot;percentage_valid_pixels&quot;: 1.0, &quot;source&quot;: &quot;landsat&quot;}, &quot;type&quot;: &quot;Feature&quot;}, {&quot;bbox&quot;: [147.89960316085717, -32.24460560526437, 148.10960316085718, -32.03460560526437], &quot;geometry&quot;: {&quot;coordinates&quot;: [[[147.89960316085717, -32.24460560526437], [148.10960316085718, -32.24460560526437], [148.10960316085718, -32.03460560526437], [147.89960316085717, -32.03460560526437], [147.89960316085717, -32.24460560526437]]], &quot;type&quot;: &quot;Polygon&quot;}, &quot;id&quot;: &quot;32&quot;, &quot;properties&quot;: {&quot;aoi_code&quot;: &quot;AOI0317&quot;, &quot;cloud_cover&quot;: 54.69, &quot;id&quot;: &quot;2021-08-06&quot;, &quot;percentage_valid_pixels&quot;: 0.7998113131808278, &quot;source&quot;: &quot;landsat&quot;}, &quot;type&quot;: &quot;Feature&quot;}, {&quot;bbox&quot;: [147.89960316085717, -32.24460560526437, 148.10960316085718, -32.03460560526437], &quot;geometry&quot;: {&quot;coordinates&quot;: [[[147.89960316085717, -32.24460560526437], [148.10960316085718, -32.24460560526437], [148.10960316085718, -32.03460560526437], [147.89960316085717, -32.03460560526437], [147.89960316085717, -32.24460560526437]]], &quot;type&quot;: &quot;Polygon&quot;}, &quot;id&quot;: &quot;33&quot;, &quot;properties&quot;: {&quot;aoi_code&quot;: &quot;AOI0317&quot;, &quot;cloud_cover&quot;: 10.8, &quot;id&quot;: &quot;2021-08-22&quot;, &quot;percentage_valid_pixels&quot;: 0.7949012707162757, &quot;source&quot;: &quot;landsat&quot;}, &quot;type&quot;: &quot;Feature&quot;}, {&quot;bbox&quot;: [147.89960316085717, -32.24460560526437, 148.10960316085718, -32.03460560526437], &quot;geometry&quot;: {&quot;coordinates&quot;: [[[147.89960316085717, -32.24460560526437], [148.10960316085718, -32.24460560526437], [148.10960316085718, -32.03460560526437], [147.89960316085717, -32.03460560526437], [147.89960316085717, -32.24460560526437]]], &quot;type&quot;: &quot;Polygon&quot;}, &quot;id&quot;: &quot;34&quot;, &quot;properties&quot;: {&quot;aoi_code&quot;: &quot;AOI0317&quot;, &quot;cloud_cover&quot;: 2.36, &quot;id&quot;: &quot;2021-08-13&quot;, &quot;percentage_valid_pixels&quot;: 1.0, &quot;source&quot;: &quot;landsat&quot;}, &quot;type&quot;: &quot;Feature&quot;}, {&quot;bbox&quot;: [147.89960316085717, -32.24460560526437, 148.10960316085718, -32.03460560526437], &quot;geometry&quot;: {&quot;coordinates&quot;: [[[147.89960316085717, -32.24460560526437], [148.10960316085718, -32.24460560526437], [148.10960316085718, -32.03460560526437], [147.89960316085717, -32.03460560526437], [147.89960316085717, -32.24460560526437]]], &quot;type&quot;: &quot;Polygon&quot;}, &quot;id&quot;: &quot;35&quot;, &quot;properties&quot;: {&quot;aoi_code&quot;: &quot;AOI0317&quot;, &quot;cloud_cover&quot;: 56.97, &quot;id&quot;: &quot;2021-08-29&quot;, &quot;percentage_valid_pixels&quot;: 1.0, &quot;source&quot;: &quot;landsat&quot;}, &quot;type&quot;: &quot;Feature&quot;}, {&quot;bbox&quot;: [148.09960316085716, -32.84460560526438, 148.30960316085716, -32.634605605264376], &quot;geometry&quot;: {&quot;coordinates&quot;: [[[148.09960316085716, -32.84460560526438], [148.30960316085716, -32.84460560526438], [148.30960316085716, -32.634605605264376], [148.09960316085716, -32.634605605264376], [148.09960316085716, -32.84460560526438]]], &quot;type&quot;: &quot;Polygon&quot;}, &quot;id&quot;: &quot;36&quot;, &quot;properties&quot;: {&quot;aoi_code&quot;: &quot;AOI0342&quot;, &quot;cloud_cover&quot;: 88.71, &quot;id&quot;: &quot;2021-08-06&quot;, &quot;percentage_valid_pixels&quot;: 1.0, &quot;source&quot;: &quot;landsat&quot;}, &quot;type&quot;: &quot;Feature&quot;}, {&quot;bbox&quot;: [148.09960316085716, -32.84460560526438, 148.30960316085716, -32.634605605264376], &quot;geometry&quot;: {&quot;coordinates&quot;: [[[148.09960316085716, -32.84460560526438], [148.30960316085716, -32.84460560526438], [148.30960316085716, -32.634605605264376], [148.09960316085716, -32.634605605264376], [148.09960316085716, -32.84460560526438]]], &quot;type&quot;: &quot;Polygon&quot;}, &quot;id&quot;: &quot;37&quot;, &quot;properties&quot;: {&quot;aoi_code&quot;: &quot;AOI0342&quot;, &quot;cloud_cover&quot;: 33.7, &quot;id&quot;: &quot;2021-08-22&quot;, &quot;percentage_valid_pixels&quot;: 1.0, &quot;source&quot;: &quot;landsat&quot;}, &quot;type&quot;: &quot;Feature&quot;}, {&quot;bbox&quot;: [148.09960316085716, -32.84460560526438, 148.30960316085716, -32.634605605264376], &quot;geometry&quot;: {&quot;coordinates&quot;: [[[148.09960316085716, -32.84460560526438], [148.30960316085716, -32.84460560526438], [148.30960316085716, -32.634605605264376], [148.09960316085716, -32.634605605264376], [148.09960316085716, -32.84460560526438]]], &quot;type&quot;: &quot;Polygon&quot;}, &quot;id&quot;: &quot;38&quot;, &quot;properties&quot;: {&quot;aoi_code&quot;: &quot;AOI0342&quot;, &quot;cloud_cover&quot;: 2.36, &quot;id&quot;: &quot;2021-08-13&quot;, &quot;percentage_valid_pixels&quot;: 0.9032720190729233, &quot;source&quot;: &quot;landsat&quot;}, &quot;type&quot;: &quot;Feature&quot;}, {&quot;bbox&quot;: [148.09960316085716, -32.84460560526438, 148.30960316085716, -32.634605605264376], &quot;geometry&quot;: {&quot;coordinates&quot;: [[[148.09960316085716, -32.84460560526438], [148.30960316085716, -32.84460560526438], [148.30960316085716, -32.634605605264376], [148.09960316085716, -32.634605605264376], [148.09960316085716, -32.84460560526438]]], &quot;type&quot;: &quot;Polygon&quot;}, &quot;id&quot;: &quot;39&quot;, &quot;properties&quot;: {&quot;aoi_code&quot;: &quot;AOI0342&quot;, &quot;cloud_cover&quot;: 56.97, &quot;id&quot;: &quot;2021-08-29&quot;, &quot;percentage_valid_pixels&quot;: 0.9112620531308199, &quot;source&quot;: &quot;landsat&quot;}, &quot;type&quot;: &quot;Feature&quot;}, {&quot;bbox&quot;: [148.09960316085716, -32.644605605264374, 148.30960316085716, -32.43460560526437], &quot;geometry&quot;: {&quot;coordinates&quot;: [[[148.09960316085716, -32.644605605264374], [148.30960316085716, -32.644605605264374], [148.30960316085716, -32.43460560526437], [148.09960316085716, -32.43460560526437], [148.09960316085716, -32.644605605264374]]], &quot;type&quot;: &quot;Polygon&quot;}, &quot;id&quot;: &quot;40&quot;, &quot;properties&quot;: {&quot;aoi_code&quot;: &quot;AOI0343&quot;, &quot;cloud_cover&quot;: 54.69, &quot;id&quot;: &quot;2021-08-06&quot;, &quot;percentage_valid_pixels&quot;: 1.0, &quot;source&quot;: &quot;landsat&quot;}, &quot;type&quot;: &quot;Feature&quot;}, {&quot;bbox&quot;: [148.09960316085716, -32.644605605264374, 148.30960316085716, -32.43460560526437], &quot;geometry&quot;: {&quot;coordinates&quot;: [[[148.09960316085716, -32.644605605264374], [148.30960316085716, -32.644605605264374], [148.30960316085716, -32.43460560526437], [148.09960316085716, -32.43460560526437], [148.09960316085716, -32.644605605264374]]], &quot;type&quot;: &quot;Polygon&quot;}, &quot;id&quot;: &quot;41&quot;, &quot;properties&quot;: {&quot;aoi_code&quot;: &quot;AOI0343&quot;, &quot;cloud_cover&quot;: 10.8, &quot;id&quot;: &quot;2021-08-22&quot;, &quot;percentage_valid_pixels&quot;: 1.0, &quot;source&quot;: &quot;landsat&quot;}, &quot;type&quot;: &quot;Feature&quot;}, {&quot;bbox&quot;: [148.09960316085716, -32.644605605264374, 148.30960316085716, -32.43460560526437], &quot;geometry&quot;: {&quot;coordinates&quot;: [[[148.09960316085716, -32.644605605264374], [148.30960316085716, -32.644605605264374], [148.30960316085716, -32.43460560526437], [148.09960316085716, -32.43460560526437], [148.09960316085716, -32.644605605264374]]], &quot;type&quot;: &quot;Polygon&quot;}, &quot;id&quot;: &quot;42&quot;, &quot;properties&quot;: {&quot;aoi_code&quot;: &quot;AOI0343&quot;, &quot;cloud_cover&quot;: 2.36, &quot;id&quot;: &quot;2021-08-13&quot;, &quot;percentage_valid_pixels&quot;: 1.0, &quot;source&quot;: &quot;landsat&quot;}, &quot;type&quot;: &quot;Feature&quot;}, {&quot;bbox&quot;: [148.09960316085716, -32.644605605264374, 148.30960316085716, -32.43460560526437], &quot;geometry&quot;: {&quot;coordinates&quot;: [[[148.09960316085716, -32.644605605264374], [148.30960316085716, -32.644605605264374], [148.30960316085716, -32.43460560526437], [148.09960316085716, -32.43460560526437], [148.09960316085716, -32.644605605264374]]], &quot;type&quot;: &quot;Polygon&quot;}, &quot;id&quot;: &quot;43&quot;, &quot;properties&quot;: {&quot;aoi_code&quot;: &quot;AOI0343&quot;, &quot;cloud_cover&quot;: 56.97, &quot;id&quot;: &quot;2021-08-29&quot;, &quot;percentage_valid_pixels&quot;: 1.0, &quot;source&quot;: &quot;landsat&quot;}, &quot;type&quot;: &quot;Feature&quot;}, {&quot;bbox&quot;: [148.09960316085716, -32.44460560526437, 148.30960316085716, -32.23460560526437], &quot;geometry&quot;: {&quot;coordinates&quot;: [[[148.09960316085716, -32.44460560526437], [148.30960316085716, -32.44460560526437], [148.30960316085716, -32.23460560526437], [148.09960316085716, -32.23460560526437], [148.09960316085716, -32.44460560526437]]], &quot;type&quot;: &quot;Polygon&quot;}, &quot;id&quot;: &quot;44&quot;, &quot;properties&quot;: {&quot;aoi_code&quot;: &quot;AOI0344&quot;, &quot;cloud_cover&quot;: 54.69, &quot;id&quot;: &quot;2021-08-06&quot;, &quot;percentage_valid_pixels&quot;: 1.0, &quot;source&quot;: &quot;landsat&quot;}, &quot;type&quot;: &quot;Feature&quot;}, {&quot;bbox&quot;: [148.09960316085716, -32.44460560526437, 148.30960316085716, -32.23460560526437], &quot;geometry&quot;: {&quot;coordinates&quot;: [[[148.09960316085716, -32.44460560526437], [148.30960316085716, -32.44460560526437], [148.30960316085716, -32.23460560526437], [148.09960316085716, -32.23460560526437], [148.09960316085716, -32.44460560526437]]], &quot;type&quot;: &quot;Polygon&quot;}, &quot;id&quot;: &quot;45&quot;, &quot;properties&quot;: {&quot;aoi_code&quot;: &quot;AOI0344&quot;, &quot;cloud_cover&quot;: 10.8, &quot;id&quot;: &quot;2021-08-22&quot;, &quot;percentage_valid_pixels&quot;: 1.0, &quot;source&quot;: &quot;landsat&quot;}, &quot;type&quot;: &quot;Feature&quot;}, {&quot;bbox&quot;: [148.09960316085716, -32.44460560526437, 148.30960316085716, -32.23460560526437], &quot;geometry&quot;: {&quot;coordinates&quot;: [[[148.09960316085716, -32.44460560526437], [148.30960316085716, -32.44460560526437], [148.30960316085716, -32.23460560526437], [148.09960316085716, -32.23460560526437], [148.09960316085716, -32.44460560526437]]], &quot;type&quot;: &quot;Polygon&quot;}, &quot;id&quot;: &quot;46&quot;, &quot;properties&quot;: {&quot;aoi_code&quot;: &quot;AOI0344&quot;, &quot;cloud_cover&quot;: 2.36, &quot;id&quot;: &quot;2021-08-13&quot;, &quot;percentage_valid_pixels&quot;: 1.0, &quot;source&quot;: &quot;landsat&quot;}, &quot;type&quot;: &quot;Feature&quot;}, {&quot;bbox&quot;: [148.09960316085716, -32.44460560526437, 148.30960316085716, -32.23460560526437], &quot;geometry&quot;: {&quot;coordinates&quot;: [[[148.09960316085716, -32.44460560526437], [148.30960316085716, -32.44460560526437], [148.30960316085716, -32.23460560526437], [148.09960316085716, -32.23460560526437], [148.09960316085716, -32.44460560526437]]], &quot;type&quot;: &quot;Polygon&quot;}, &quot;id&quot;: &quot;47&quot;, &quot;properties&quot;: {&quot;aoi_code&quot;: &quot;AOI0344&quot;, &quot;cloud_cover&quot;: 56.97, &quot;id&quot;: &quot;2021-08-29&quot;, &quot;percentage_valid_pixels&quot;: 1.0, &quot;source&quot;: &quot;landsat&quot;}, &quot;type&quot;: &quot;Feature&quot;}, {&quot;bbox&quot;: [148.09960316085716, -32.24460560526437, 148.30960316085716, -32.03460560526437], &quot;geometry&quot;: {&quot;coordinates&quot;: [[[148.09960316085716, -32.24460560526437], [148.30960316085716, -32.24460560526437], [148.30960316085716, -32.03460560526437], [148.09960316085716, -32.03460560526437], [148.09960316085716, -32.24460560526437]]], &quot;type&quot;: &quot;Polygon&quot;}, &quot;id&quot;: &quot;48&quot;, &quot;properties&quot;: {&quot;aoi_code&quot;: &quot;AOI0368&quot;, &quot;cloud_cover&quot;: 54.69, &quot;id&quot;: &quot;2021-08-06&quot;, &quot;percentage_valid_pixels&quot;: 1.0, &quot;source&quot;: &quot;landsat&quot;}, &quot;type&quot;: &quot;Feature&quot;}, {&quot;bbox&quot;: [148.09960316085716, -32.24460560526437, 148.30960316085716, -32.03460560526437], &quot;geometry&quot;: {&quot;coordinates&quot;: [[[148.09960316085716, -32.24460560526437], [148.30960316085716, -32.24460560526437], [148.30960316085716, -32.03460560526437], [148.09960316085716, -32.03460560526437], [148.09960316085716, -32.24460560526437]]], &quot;type&quot;: &quot;Polygon&quot;}, &quot;id&quot;: &quot;49&quot;, &quot;properties&quot;: {&quot;aoi_code&quot;: &quot;AOI0368&quot;, &quot;cloud_cover&quot;: 10.8, &quot;id&quot;: &quot;2021-08-22&quot;, &quot;percentage_valid_pixels&quot;: 1.0, &quot;source&quot;: &quot;landsat&quot;}, &quot;type&quot;: &quot;Feature&quot;}, {&quot;bbox&quot;: [148.09960316085716, -32.24460560526437, 148.30960316085716, -32.03460560526437], &quot;geometry&quot;: {&quot;coordinates&quot;: [[[148.09960316085716, -32.24460560526437], [148.30960316085716, -32.24460560526437], [148.30960316085716, -32.03460560526437], [148.09960316085716, -32.03460560526437], [148.09960316085716, -32.24460560526437]]], &quot;type&quot;: &quot;Polygon&quot;}, &quot;id&quot;: &quot;50&quot;, &quot;properties&quot;: {&quot;aoi_code&quot;: &quot;AOI0368&quot;, &quot;cloud_cover&quot;: 2.36, &quot;id&quot;: &quot;2021-08-13&quot;, &quot;percentage_valid_pixels&quot;: 1.0, &quot;source&quot;: &quot;landsat&quot;}, &quot;type&quot;: &quot;Feature&quot;}, {&quot;bbox&quot;: [148.09960316085716, -32.24460560526437, 148.30960316085716, -32.03460560526437], &quot;geometry&quot;: {&quot;coordinates&quot;: [[[148.09960316085716, -32.24460560526437], [148.30960316085716, -32.24460560526437], [148.30960316085716, -32.03460560526437], [148.09960316085716, -32.03460560526437], [148.09960316085716, -32.24460560526437]]], &quot;type&quot;: &quot;Polygon&quot;}, &quot;id&quot;: &quot;51&quot;, &quot;properties&quot;: {&quot;aoi_code&quot;: &quot;AOI0368&quot;, &quot;cloud_cover&quot;: 56.97, &quot;id&quot;: &quot;2021-08-29&quot;, &quot;percentage_valid_pixels&quot;: 1.0, &quot;source&quot;: &quot;landsat&quot;}, &quot;type&quot;: &quot;Feature&quot;}, {&quot;bbox&quot;: [148.09960316085716, -32.044605605264366, 148.30960316085716, -31.834605605264365], &quot;geometry&quot;: {&quot;coordinates&quot;: [[[148.09960316085716, -32.044605605264366], [148.30960316085716, -32.044605605264366], [148.30960316085716, -31.834605605264365], [148.09960316085716, -31.834605605264365], [148.09960316085716, -32.044605605264366]]], &quot;type&quot;: &quot;Polygon&quot;}, &quot;id&quot;: &quot;52&quot;, &quot;properties&quot;: {&quot;aoi_code&quot;: &quot;AOI0369&quot;, &quot;cloud_cover&quot;: 54.69, &quot;id&quot;: &quot;2021-08-06&quot;, &quot;percentage_valid_pixels&quot;: 1.0, &quot;source&quot;: &quot;landsat&quot;}, &quot;type&quot;: &quot;Feature&quot;}, {&quot;bbox&quot;: [148.09960316085716, -32.044605605264366, 148.30960316085716, -31.834605605264365], &quot;geometry&quot;: {&quot;coordinates&quot;: [[[148.09960316085716, -32.044605605264366], [148.30960316085716, -32.044605605264366], [148.30960316085716, -31.834605605264365], [148.09960316085716, -31.834605605264365], [148.09960316085716, -32.044605605264366]]], &quot;type&quot;: &quot;Polygon&quot;}, &quot;id&quot;: &quot;53&quot;, &quot;properties&quot;: {&quot;aoi_code&quot;: &quot;AOI0369&quot;, &quot;cloud_cover&quot;: 10.8, &quot;id&quot;: &quot;2021-08-22&quot;, &quot;percentage_valid_pixels&quot;: 1.0, &quot;source&quot;: &quot;landsat&quot;}, &quot;type&quot;: &quot;Feature&quot;}, {&quot;bbox&quot;: [148.09960316085716, -32.044605605264366, 148.30960316085716, -31.834605605264365], &quot;geometry&quot;: {&quot;coordinates&quot;: [[[148.09960316085716, -32.044605605264366], [148.30960316085716, -32.044605605264366], [148.30960316085716, -31.834605605264365], [148.09960316085716, -31.834605605264365], [148.09960316085716, -32.044605605264366]]], &quot;type&quot;: &quot;Polygon&quot;}, &quot;id&quot;: &quot;54&quot;, &quot;properties&quot;: {&quot;aoi_code&quot;: &quot;AOI0369&quot;, &quot;cloud_cover&quot;: 2.36, &quot;id&quot;: &quot;2021-08-13&quot;, &quot;percentage_valid_pixels&quot;: 1.0, &quot;source&quot;: &quot;landsat&quot;}, &quot;type&quot;: &quot;Feature&quot;}, {&quot;bbox&quot;: [148.09960316085716, -32.044605605264366, 148.30960316085716, -31.834605605264365], &quot;geometry&quot;: {&quot;coordinates&quot;: [[[148.09960316085716, -32.044605605264366], [148.30960316085716, -32.044605605264366], [148.30960316085716, -31.834605605264365], [148.09960316085716, -31.834605605264365], [148.09960316085716, -32.044605605264366]]], &quot;type&quot;: &quot;Polygon&quot;}, &quot;id&quot;: &quot;55&quot;, &quot;properties&quot;: {&quot;aoi_code&quot;: &quot;AOI0369&quot;, &quot;cloud_cover&quot;: 56.97, &quot;id&quot;: &quot;2021-08-29&quot;, &quot;percentage_valid_pixels&quot;: 1.0, &quot;source&quot;: &quot;landsat&quot;}, &quot;type&quot;: &quot;Feature&quot;}, {&quot;bbox&quot;: [148.29960316085715, -32.84460560526438, 148.50960316085715, -32.634605605264376], &quot;geometry&quot;: {&quot;coordinates&quot;: [[[148.29960316085715, -32.84460560526438], [148.50960316085715, -32.84460560526438], [148.50960316085715, -32.634605605264376], [148.29960316085715, -32.634605605264376], [148.29960316085715, -32.84460560526438]]], &quot;type&quot;: &quot;Polygon&quot;}, &quot;id&quot;: &quot;56&quot;, &quot;properties&quot;: {&quot;aoi_code&quot;: &quot;AOI0370&quot;, &quot;cloud_cover&quot;: 88.71, &quot;id&quot;: &quot;2021-08-06&quot;, &quot;percentage_valid_pixels&quot;: 1.0, &quot;source&quot;: &quot;landsat&quot;}, &quot;type&quot;: &quot;Feature&quot;}, {&quot;bbox&quot;: [148.29960316085715, -32.84460560526438, 148.50960316085715, -32.634605605264376], &quot;geometry&quot;: {&quot;coordinates&quot;: [[[148.29960316085715, -32.84460560526438], [148.50960316085715, -32.84460560526438], [148.50960316085715, -32.634605605264376], [148.29960316085715, -32.634605605264376], [148.29960316085715, -32.84460560526438]]], &quot;type&quot;: &quot;Polygon&quot;}, &quot;id&quot;: &quot;57&quot;, &quot;properties&quot;: {&quot;aoi_code&quot;: &quot;AOI0370&quot;, &quot;cloud_cover&quot;: 33.7, &quot;id&quot;: &quot;2021-08-22&quot;, &quot;percentage_valid_pixels&quot;: 1.0, &quot;source&quot;: &quot;landsat&quot;}, &quot;type&quot;: &quot;Feature&quot;}, {&quot;bbox&quot;: [148.29960316085715, -32.84460560526438, 148.50960316085715, -32.634605605264376], &quot;geometry&quot;: {&quot;coordinates&quot;: [[[148.29960316085715, -32.84460560526438], [148.50960316085715, -32.84460560526438], [148.50960316085715, -32.634605605264376], [148.29960316085715, -32.634605605264376], [148.29960316085715, -32.84460560526438]]], &quot;type&quot;: &quot;Polygon&quot;}, &quot;id&quot;: &quot;58&quot;, &quot;properties&quot;: {&quot;aoi_code&quot;: &quot;AOI0370&quot;, &quot;cloud_cover&quot;: 2.36, &quot;id&quot;: &quot;2021-08-13&quot;, &quot;percentage_valid_pixels&quot;: 0.013345028801244191, &quot;source&quot;: &quot;landsat&quot;}, &quot;type&quot;: &quot;Feature&quot;}, {&quot;bbox&quot;: [148.29960316085715, -32.84460560526438, 148.50960316085715, -32.634605605264376], &quot;geometry&quot;: {&quot;coordinates&quot;: [[[148.29960316085715, -32.84460560526438], [148.50960316085715, -32.84460560526438], [148.50960316085715, -32.634605605264376], [148.29960316085715, -32.634605605264376], [148.29960316085715, -32.84460560526438]]], &quot;type&quot;: &quot;Polygon&quot;}, &quot;id&quot;: &quot;59&quot;, &quot;properties&quot;: {&quot;aoi_code&quot;: &quot;AOI0370&quot;, &quot;cloud_cover&quot;: 56.97, &quot;id&quot;: &quot;2021-08-29&quot;, &quot;percentage_valid_pixels&quot;: 0.016579717252071212, &quot;source&quot;: &quot;landsat&quot;}, &quot;type&quot;: &quot;Feature&quot;}, {&quot;bbox&quot;: [148.29960316085715, -32.644605605264374, 148.50960316085715, -32.43460560526437], &quot;geometry&quot;: {&quot;coordinates&quot;: [[[148.29960316085715, -32.644605605264374], [148.50960316085715, -32.644605605264374], [148.50960316085715, -32.43460560526437], [148.29960316085715, -32.43460560526437], [148.29960316085715, -32.644605605264374]]], &quot;type&quot;: &quot;Polygon&quot;}, &quot;id&quot;: &quot;60&quot;, &quot;properties&quot;: {&quot;aoi_code&quot;: &quot;AOI0371&quot;, &quot;cloud_cover&quot;: 54.69, &quot;id&quot;: &quot;2021-08-06&quot;, &quot;percentage_valid_pixels&quot;: 1.0, &quot;source&quot;: &quot;landsat&quot;}, &quot;type&quot;: &quot;Feature&quot;}, {&quot;bbox&quot;: [148.29960316085715, -32.644605605264374, 148.50960316085715, -32.43460560526437], &quot;geometry&quot;: {&quot;coordinates&quot;: [[[148.29960316085715, -32.644605605264374], [148.50960316085715, -32.644605605264374], [148.50960316085715, -32.43460560526437], [148.29960316085715, -32.43460560526437], [148.29960316085715, -32.644605605264374]]], &quot;type&quot;: &quot;Polygon&quot;}, &quot;id&quot;: &quot;61&quot;, &quot;properties&quot;: {&quot;aoi_code&quot;: &quot;AOI0371&quot;, &quot;cloud_cover&quot;: 10.8, &quot;id&quot;: &quot;2021-08-22&quot;, &quot;percentage_valid_pixels&quot;: 1.0, &quot;source&quot;: &quot;landsat&quot;}, &quot;type&quot;: &quot;Feature&quot;}, {&quot;bbox&quot;: [148.29960316085715, -32.644605605264374, 148.50960316085715, -32.43460560526437], &quot;geometry&quot;: {&quot;coordinates&quot;: [[[148.29960316085715, -32.644605605264374], [148.50960316085715, -32.644605605264374], [148.50960316085715, -32.43460560526437], [148.29960316085715, -32.43460560526437], [148.29960316085715, -32.644605605264374]]], &quot;type&quot;: &quot;Polygon&quot;}, &quot;id&quot;: &quot;62&quot;, &quot;properties&quot;: {&quot;aoi_code&quot;: &quot;AOI0371&quot;, &quot;cloud_cover&quot;: 2.36, &quot;id&quot;: &quot;2021-08-13&quot;, &quot;percentage_valid_pixels&quot;: 0.20123265678058055, &quot;source&quot;: &quot;landsat&quot;}, &quot;type&quot;: &quot;Feature&quot;}, {&quot;bbox&quot;: [148.29960316085715, -32.644605605264374, 148.50960316085715, -32.43460560526437], &quot;geometry&quot;: {&quot;coordinates&quot;: [[[148.29960316085715, -32.644605605264374], [148.50960316085715, -32.644605605264374], [148.50960316085715, -32.43460560526437], [148.29960316085715, -32.43460560526437], [148.29960316085715, -32.644605605264374]]], &quot;type&quot;: &quot;Polygon&quot;}, &quot;id&quot;: &quot;63&quot;, &quot;properties&quot;: {&quot;aoi_code&quot;: &quot;AOI0371&quot;, &quot;cloud_cover&quot;: 56.97, &quot;id&quot;: &quot;2021-08-29&quot;, &quot;percentage_valid_pixels&quot;: 0.21067583580930083, &quot;source&quot;: &quot;landsat&quot;}, &quot;type&quot;: &quot;Feature&quot;}, {&quot;bbox&quot;: [148.29960316085715, -32.44460560526437, 148.50960316085715, -32.23460560526437], &quot;geometry&quot;: {&quot;coordinates&quot;: [[[148.29960316085715, -32.44460560526437], [148.50960316085715, -32.44460560526437], [148.50960316085715, -32.23460560526437], [148.29960316085715, -32.23460560526437], [148.29960316085715, -32.44460560526437]]], &quot;type&quot;: &quot;Polygon&quot;}, &quot;id&quot;: &quot;64&quot;, &quot;properties&quot;: {&quot;aoi_code&quot;: &quot;AOI0372&quot;, &quot;cloud_cover&quot;: 54.69, &quot;id&quot;: &quot;2021-08-06&quot;, &quot;percentage_valid_pixels&quot;: 1.0, &quot;source&quot;: &quot;landsat&quot;}, &quot;type&quot;: &quot;Feature&quot;}, {&quot;bbox&quot;: [148.29960316085715, -32.44460560526437, 148.50960316085715, -32.23460560526437], &quot;geometry&quot;: {&quot;coordinates&quot;: [[[148.29960316085715, -32.44460560526437], [148.50960316085715, -32.44460560526437], [148.50960316085715, -32.23460560526437], [148.29960316085715, -32.23460560526437], [148.29960316085715, -32.44460560526437]]], &quot;type&quot;: &quot;Polygon&quot;}, &quot;id&quot;: &quot;65&quot;, &quot;properties&quot;: {&quot;aoi_code&quot;: &quot;AOI0372&quot;, &quot;cloud_cover&quot;: 10.8, &quot;id&quot;: &quot;2021-08-22&quot;, &quot;percentage_valid_pixels&quot;: 1.0, &quot;source&quot;: &quot;landsat&quot;}, &quot;type&quot;: &quot;Feature&quot;}, {&quot;bbox&quot;: [148.29960316085715, -32.44460560526437, 148.50960316085715, -32.23460560526437], &quot;geometry&quot;: {&quot;coordinates&quot;: [[[148.29960316085715, -32.44460560526437], [148.50960316085715, -32.44460560526437], [148.50960316085715, -32.23460560526437], [148.29960316085715, -32.23460560526437], [148.29960316085715, -32.44460560526437]]], &quot;type&quot;: &quot;Polygon&quot;}, &quot;id&quot;: &quot;66&quot;, &quot;properties&quot;: {&quot;aoi_code&quot;: &quot;AOI0372&quot;, &quot;cloud_cover&quot;: 2.36, &quot;id&quot;: &quot;2021-08-13&quot;, &quot;percentage_valid_pixels&quot;: 0.4489618492838821, &quot;source&quot;: &quot;landsat&quot;}, &quot;type&quot;: &quot;Feature&quot;}, {&quot;bbox&quot;: [148.29960316085715, -32.44460560526437, 148.50960316085715, -32.23460560526437], &quot;geometry&quot;: {&quot;coordinates&quot;: [[[148.29960316085715, -32.44460560526437], [148.50960316085715, -32.44460560526437], [148.50960316085715, -32.23460560526437], [148.29960316085715, -32.23460560526437], [148.29960316085715, -32.44460560526437]]], &quot;type&quot;: &quot;Polygon&quot;}, &quot;id&quot;: &quot;67&quot;, &quot;properties&quot;: {&quot;aoi_code&quot;: &quot;AOI0372&quot;, &quot;cloud_cover&quot;: 56.97, &quot;id&quot;: &quot;2021-08-29&quot;, &quot;percentage_valid_pixels&quot;: 0.45830793921510465, &quot;source&quot;: &quot;landsat&quot;}, &quot;type&quot;: &quot;Feature&quot;}, {&quot;bbox&quot;: [148.29960316085715, -32.24460560526437, 148.50960316085715, -32.03460560526437], &quot;geometry&quot;: {&quot;coordinates&quot;: [[[148.29960316085715, -32.24460560526437], [148.50960316085715, -32.24460560526437], [148.50960316085715, -32.03460560526437], [148.29960316085715, -32.03460560526437], [148.29960316085715, -32.24460560526437]]], &quot;type&quot;: &quot;Polygon&quot;}, &quot;id&quot;: &quot;68&quot;, &quot;properties&quot;: {&quot;aoi_code&quot;: &quot;AOI0395&quot;, &quot;cloud_cover&quot;: 54.69, &quot;id&quot;: &quot;2021-08-06&quot;, &quot;percentage_valid_pixels&quot;: 1.0, &quot;source&quot;: &quot;landsat&quot;}, &quot;type&quot;: &quot;Feature&quot;}, {&quot;bbox&quot;: [148.29960316085715, -32.24460560526437, 148.50960316085715, -32.03460560526437], &quot;geometry&quot;: {&quot;coordinates&quot;: [[[148.29960316085715, -32.24460560526437], [148.50960316085715, -32.24460560526437], [148.50960316085715, -32.03460560526437], [148.29960316085715, -32.03460560526437], [148.29960316085715, -32.24460560526437]]], &quot;type&quot;: &quot;Polygon&quot;}, &quot;id&quot;: &quot;69&quot;, &quot;properties&quot;: {&quot;aoi_code&quot;: &quot;AOI0395&quot;, &quot;cloud_cover&quot;: 10.8, &quot;id&quot;: &quot;2021-08-22&quot;, &quot;percentage_valid_pixels&quot;: 1.0, &quot;source&quot;: &quot;landsat&quot;}, &quot;type&quot;: &quot;Feature&quot;}, {&quot;bbox&quot;: [148.29960316085715, -32.24460560526437, 148.50960316085715, -32.03460560526437], &quot;geometry&quot;: {&quot;coordinates&quot;: [[[148.29960316085715, -32.24460560526437], [148.50960316085715, -32.24460560526437], [148.50960316085715, -32.03460560526437], [148.29960316085715, -32.03460560526437], [148.29960316085715, -32.24460560526437]]], &quot;type&quot;: &quot;Polygon&quot;}, &quot;id&quot;: &quot;70&quot;, &quot;properties&quot;: {&quot;aoi_code&quot;: &quot;AOI0395&quot;, &quot;cloud_cover&quot;: 2.36, &quot;id&quot;: &quot;2021-08-13&quot;, &quot;percentage_valid_pixels&quot;: 0.6964310038283247, &quot;source&quot;: &quot;landsat&quot;}, &quot;type&quot;: &quot;Feature&quot;}, {&quot;bbox&quot;: [148.29960316085715, -32.24460560526437, 148.50960316085715, -32.03460560526437], &quot;geometry&quot;: {&quot;coordinates&quot;: [[[148.29960316085715, -32.24460560526437], [148.50960316085715, -32.24460560526437], [148.50960316085715, -32.03460560526437], [148.29960316085715, -32.03460560526437], [148.29960316085715, -32.24460560526437]]], &quot;type&quot;: &quot;Polygon&quot;}, &quot;id&quot;: &quot;71&quot;, &quot;properties&quot;: {&quot;aoi_code&quot;: &quot;AOI0395&quot;, &quot;cloud_cover&quot;: 56.97, &quot;id&quot;: &quot;2021-08-29&quot;, &quot;percentage_valid_pixels&quot;: 0.7057773809839123, &quot;source&quot;: &quot;landsat&quot;}, &quot;type&quot;: &quot;Feature&quot;}, {&quot;bbox&quot;: [148.29960316085715, -32.044605605264366, 148.50960316085715, -31.834605605264365], &quot;geometry&quot;: {&quot;coordinates&quot;: [[[148.29960316085715, -32.044605605264366], [148.50960316085715, -32.044605605264366], [148.50960316085715, -31.834605605264365], [148.29960316085715, -31.834605605264365], [148.29960316085715, -32.044605605264366]]], &quot;type&quot;: &quot;Polygon&quot;}, &quot;id&quot;: &quot;72&quot;, &quot;properties&quot;: {&quot;aoi_code&quot;: &quot;AOI0396&quot;, &quot;cloud_cover&quot;: 54.69, &quot;id&quot;: &quot;2021-08-06&quot;, &quot;percentage_valid_pixels&quot;: 1.0, &quot;source&quot;: &quot;landsat&quot;}, &quot;type&quot;: &quot;Feature&quot;}, {&quot;bbox&quot;: [148.29960316085715, -32.044605605264366, 148.50960316085715, -31.834605605264365], &quot;geometry&quot;: {&quot;coordinates&quot;: [[[148.29960316085715, -32.044605605264366], [148.50960316085715, -32.044605605264366], [148.50960316085715, -31.834605605264365], [148.29960316085715, -31.834605605264365], [148.29960316085715, -32.044605605264366]]], &quot;type&quot;: &quot;Polygon&quot;}, &quot;id&quot;: &quot;73&quot;, &quot;properties&quot;: {&quot;aoi_code&quot;: &quot;AOI0396&quot;, &quot;cloud_cover&quot;: 10.8, &quot;id&quot;: &quot;2021-08-22&quot;, &quot;percentage_valid_pixels&quot;: 1.0, &quot;source&quot;: &quot;landsat&quot;}, &quot;type&quot;: &quot;Feature&quot;}, {&quot;bbox&quot;: [148.29960316085715, -32.044605605264366, 148.50960316085715, -31.834605605264365], &quot;geometry&quot;: {&quot;coordinates&quot;: [[[148.29960316085715, -32.044605605264366], [148.50960316085715, -32.044605605264366], [148.50960316085715, -31.834605605264365], [148.29960316085715, -31.834605605264365], [148.29960316085715, -32.044605605264366]]], &quot;type&quot;: &quot;Polygon&quot;}, &quot;id&quot;: &quot;74&quot;, &quot;properties&quot;: {&quot;aoi_code&quot;: &quot;AOI0396&quot;, &quot;cloud_cover&quot;: 2.36, &quot;id&quot;: &quot;2021-08-13&quot;, &quot;percentage_valid_pixels&quot;: 0.9322958197122413, &quot;source&quot;: &quot;landsat&quot;}, &quot;type&quot;: &quot;Feature&quot;}, {&quot;bbox&quot;: [148.29960316085715, -32.044605605264366, 148.50960316085715, -31.834605605264365], &quot;geometry&quot;: {&quot;coordinates&quot;: [[[148.29960316085715, -32.044605605264366], [148.50960316085715, -32.044605605264366], [148.50960316085715, -31.834605605264365], [148.29960316085715, -31.834605605264365], [148.29960316085715, -32.044605605264366]]], &quot;type&quot;: &quot;Polygon&quot;}, &quot;id&quot;: &quot;75&quot;, &quot;properties&quot;: {&quot;aoi_code&quot;: &quot;AOI0396&quot;, &quot;cloud_cover&quot;: 56.97, &quot;id&quot;: &quot;2021-08-29&quot;, &quot;percentage_valid_pixels&quot;: 0.9389630579858181, &quot;source&quot;: &quot;landsat&quot;}, &quot;type&quot;: &quot;Feature&quot;}], &quot;type&quot;: &quot;FeatureCollection&quot;});\n",
       "\n",
       "        \n",
       "    \n",
       "    geo_json_16c2432a221c650cf7b747f6093ba279.bindTooltip(\n",
       "    function(layer){\n",
       "    let div = L.DomUtil.create(&#x27;div&#x27;);\n",
       "    \n",
       "    let handleObject = feature=&gt;typeof(feature)==&#x27;object&#x27; ? JSON.stringify(feature) : feature;\n",
       "    let fields = [&quot;id&quot;, &quot;cloud_cover&quot;, &quot;source&quot;, &quot;aoi_code&quot;, &quot;percentage_valid_pixels&quot;];\n",
       "    let aliases = [&quot;id&quot;, &quot;cloud_cover&quot;, &quot;source&quot;, &quot;aoi_code&quot;, &quot;percentage_valid_pixels&quot;];\n",
       "    let table = &#x27;&lt;table&gt;&#x27; +\n",
       "        String(\n",
       "        fields.map(\n",
       "        (v,i)=&gt;\n",
       "        `&lt;tr&gt;\n",
       "            &lt;th&gt;${aliases[i]}&lt;/th&gt;\n",
       "            \n",
       "            &lt;td&gt;${handleObject(layer.feature.properties[v])}&lt;/td&gt;\n",
       "        &lt;/tr&gt;`).join(&#x27;&#x27;))\n",
       "    +&#x27;&lt;/table&gt;&#x27;;\n",
       "    div.innerHTML=table;\n",
       "    \n",
       "    return div\n",
       "    }\n",
       "    ,{&quot;className&quot;: &quot;foliumtooltip&quot;, &quot;sticky&quot;: true});\n",
       "                     \n",
       "&lt;/script&gt;\" style=\"position:absolute;width:100%;height:100%;left:0;top:0;border:none !important;\" allowfullscreen webkitallowfullscreen mozallowfullscreen></iframe></div></div>"
      ],
      "text/plain": [
       "<folium.folium.Map at 0x7f2a8fcbfa90>"
      ]
     },
     "execution_count": 88,
     "metadata": {},
     "output_type": "execute_result"
    }
   ],
   "source": [
    "landsat_df.explore()"
   ]
  },
  {
   "cell_type": "markdown",
   "id": "ded437aa-bc29-457d-8b32-05be33017bbb",
   "metadata": {
    "jp-MarkdownHeadingCollapsed": true,
    "tags": []
   },
   "source": [
    "# Getting the images for multiple polygons for S2"
   ]
  },
  {
   "cell_type": "markdown",
   "id": "429e82eb-0a4c-42ca-bc0c-908feebb3f50",
   "metadata": {},
   "source": [
    "Following section has been made raw cells as they will be used in the next section"
   ]
  },
  {
   "cell_type": "raw",
   "id": "4c8e3cf2-d249-4405-8ae0-c19fba5ca4f4",
   "metadata": {},
   "source": [
    "poly_s2"
   ]
  },
  {
   "cell_type": "raw",
   "id": "01559467-42f6-439e-ac55-355ccaf438c1",
   "metadata": {},
   "source": [
    "len(poly_s2[0].getInfo()['features'])"
   ]
  },
  {
   "cell_type": "raw",
   "id": "7b947a06-dda2-43f8-a5e7-3c6cfd13650f",
   "metadata": {},
   "source": [
    "for i in range(len(poly_s2)):\n",
    "    print(len(poly_s2[i].getInfo()['features']))"
   ]
  },
  {
   "cell_type": "raw",
   "id": "30084f8b-7768-45de-9417-3bc95fe36555",
   "metadata": {},
   "source": [
    "s2_coordinates = [[] for _ in range(len(poly_s2))] # creating number of lists to match the number of polygons so that each polygon will have it's coordinates\n",
    "n_s2 = []\n",
    "\n",
    "for i in range(len(poly_s2)):\n",
    "    s2_coordinates[i] = sydney_aoi_poly[i]['coordinates']\n",
    "\n",
    "    n_s2 = np.append(n_s2, len(poly_s2[i].getInfo()['features'])) # Of the 20 indices, there will be the number of images in each. \n"
   ]
  },
  {
   "cell_type": "markdown",
   "id": "790c6643-ec6e-448f-bd47-00f93f040936",
   "metadata": {},
   "source": [
    "This should match the loop above"
   ]
  },
  {
   "cell_type": "raw",
   "id": "1658970c-ead5-488e-b647-e29846bf8b0e",
   "metadata": {},
   "source": [
    "n_s2"
   ]
  },
  {
   "cell_type": "markdown",
   "id": "ea9e5ed8-308a-48c3-9243-1b8d68d66800",
   "metadata": {},
   "source": [
    "Checking the s2 image properties"
   ]
  },
  {
   "cell_type": "raw",
   "id": "034f96d9-cadb-493b-80c7-80612d7afa2d",
   "metadata": {},
   "source": [
    "poly_s2[0].getInfo()['features'][0].get('properties')"
   ]
  },
  {
   "cell_type": "raw",
   "id": "2d6aa9ca-9c74-4aa3-8e28-0776c11cd6ad",
   "metadata": {},
   "source": [
    "poly_s2[0].getInfo()['features'][0].get('id')"
   ]
  },
  {
   "cell_type": "markdown",
   "id": "8537a687-94f8-40b2-b36f-a668b27d908f",
   "metadata": {},
   "source": [
    "Choosing s2 image properties from [here](https://developers.google.com/earth-engine/datasets/catalog/COPERNICUS_S2_SR#image-properties) and from above: \n",
    "\n",
    "* CLOUDY_PIXEL_PERCENTAGE (link)\n",
    "* valids (above)\n",
    "* id (not a property)\n"
   ]
  },
  {
   "cell_type": "raw",
   "id": "f059b329-aaf2-4ce1-8e27-75baaaf7546e",
   "metadata": {},
   "source": [
    "id_list = []\n",
    "cloudCover_list = []\n",
    "validPixels_list = []\n",
    "source_list = ['s2']*np.int(n_s2.sum()) # creating a list the size of the total number of images of all the polygons\n",
    "\n",
    "for i in range(len(poly_s2)): # Iterating through all the polygons\n",
    "    \n",
    "    for k in range(np.int(n_s2[i])): # Iterating through all the images of each polygon\n",
    "        \n",
    "        id_list = np.append(id_list, poly_s2[i].getInfo()['features'][k].get('id'))\n",
    "        cloudCover_list = np.append(cloudCover_list, poly_s2[i].getInfo()['features'][k].get('properties')['CLOUDY_PIXEL_PERCENTAGE'])\n",
    "        validPixels_list = np.append(validPixels_list, poly_s2[i].getInfo()['features'][k].get('properties')['valids'])\n",
    "\n"
   ]
  },
  {
   "cell_type": "raw",
   "id": "a455fdff-b2c2-4ea0-bb57-4c162e88ecd0",
   "metadata": {},
   "source": [
    "np.int(n_s2[i])"
   ]
  },
  {
   "cell_type": "raw",
   "id": "ba763302-5ba2-4d18-bf45-909052ac0331",
   "metadata": {},
   "source": [
    "coordinates_list = [] # creating number of lists to match the number of polygons so that each polygon will have it's coordinates\n",
    "\n",
    "aoi_list = []\n",
    "\n",
    "for i in range(len(poly_s2)): # Iterating through all the polygons\n",
    "    \n",
    "    for k in range(np.int(n_s2[i])): # Iterating through all the images of each polygon\n",
    "        \n",
    "        # print(k)\n",
    "        \n",
    "        aoi_list = np.append(aoi_list, sydney_aoi_codes[i])\n",
    "        \n",
    "        index_coord = s2_coordinates[i]\n",
    "        \n",
    "        # print(index_coord)\n",
    "\n",
    "        coordinates_list.extend(index_coord)"
   ]
  },
  {
   "cell_type": "raw",
   "id": "686d73f2-b603-46a7-ae28-378fd3d25cf7",
   "metadata": {},
   "source": [
    "s2_df = gpd.GeoDataFrame({'id':id_list, 'CLOUDY_PIXEL_PERCENTAGE':cloudCover_list, 'source': source_list, 'aoi_code': aoi_list, 'percentage_valid_pixels': validPixels_list, 'geometry':coordinates_list})\n",
    "s2_df.head(10)"
   ]
  },
  {
   "cell_type": "markdown",
   "id": "6bd40c0a-a3ed-4127-abe7-80913e01a479",
   "metadata": {
    "jp-MarkdownHeadingCollapsed": true,
    "tags": []
   },
   "source": [
    "# Putting the loops together for both satellites"
   ]
  },
  {
   "cell_type": "markdown",
   "id": "0cd4ad04-8c28-4b77-be60-6854a98acc69",
   "metadata": {},
   "source": [
    "Cells have been converted to raw cell as they have been merged in the next section. "
   ]
  },
  {
   "cell_type": "markdown",
   "id": "b94e0856-b192-41c1-8d1d-49dfc269fafd",
   "metadata": {},
   "source": [
    "Takes about 8 minutes to run "
   ]
  },
  {
   "cell_type": "raw",
   "id": "20b8523b-c247-4e5f-87f3-6f7185157dfe",
   "metadata": {},
   "source": [
    "landsat_coordinates = [[] for _ in range(len(poly_landsat))] # creating number of lists to match the number of polygons so that each polygon will have it's coordinates\n",
    "n_landsat = []\n",
    "\n",
    "for i in range(len(poly_landsat)):\n",
    "    landsat_coordinates[i] = sydney_aoi_poly[i]['coordinates']\n",
    "\n",
    "    n_landsat = np.append(n_landsat, len(poly_landsat[i].getInfo()['features'])) # Of the 20 indices, there will be the number of images in each. \n",
    "\n",
    "\n",
    "id_list = []\n",
    "cloudCover_list = []\n",
    "validPixels_list = []\n",
    "source_list = ['landsat']*np.int(n_landsat.sum()) # creating a list the size of the total number of images of all the polygons\n",
    "coordinates_list = [] # creating number of lists to match the number of polygons so that each polygon will have it's coordinates\n",
    "aoi_list = []\n",
    "\n",
    "    \n",
    "for i in range(len(poly_landsat)): # Iterating through all the polygons\n",
    "    \n",
    "    for k in range(np.int(n_landsat[i])): # Iterating through all the images of each polygon\n",
    "        \n",
    "        id_list = np.append(id_list, poly_landsat[i].getInfo()['features'][k].get('id'))\n",
    "        cloudCover_list = np.append(cloudCover_list, poly_landsat[i].getInfo()['features'][k].get('properties')['CLOUD_COVER'])\n",
    "        validPixels_list = np.append(validPixels_list, poly_landsat[i].getInfo()['features'][k].get('properties')['valids'])\n",
    "        \n",
    "        # print(k)\n",
    "\n",
    "        aoi_list = np.append(aoi_list, sydney_aoi_codes[i])\n",
    "\n",
    "        index_coord = landsat_coordinates[i]\n",
    "\n",
    "        # print(index_coord)\n",
    "\n",
    "        coordinates_list.extend(index_coord)      \n",
    "\n",
    "        \n",
    "landsat_df = gpd.GeoDataFrame({'id':id_list, 'CLOUD_COVER':cloudCover_list, 'source': source_list, 'aoi_code': aoi_list, 'percentage_valid_pixels': validPixels_list, 'geometry':coordinates_list})\n",
    "landsat_df.head(10)"
   ]
  },
  {
   "cell_type": "markdown",
   "id": "6fe1a78a-5a80-477b-94af-dbcac05bcab9",
   "metadata": {},
   "source": [
    "takes about 12 minutes to run "
   ]
  },
  {
   "cell_type": "raw",
   "id": "5d233a85-8d0f-489f-b8fa-d91917d1060e",
   "metadata": {},
   "source": [
    "s2_coordinates = [[] for _ in range(len(poly_s2))] # creating number of lists to match the number of polygons so that each polygon will have it's coordinates\n",
    "n_s2 = []\n",
    "\n",
    "for i in range(len(poly_s2)): # Iterating through all the polygons\n",
    "    \n",
    "    s2_coordinates[i] = sydney_aoi_poly[i]['coordinates']\n",
    "\n",
    "    n_s2 = np.append(n_s2, len(poly_s2[i].getInfo()['features'])) # Of the 20 indices, there will be the number of images in each. \n",
    "    \n",
    "\n",
    "id_list = []\n",
    "cloudCover_list = []\n",
    "validPixels_list = []\n",
    "source_list = ['s2']*np.int(n_s2.sum()) # creating a list the size of the total number of images of all the polygons\n",
    "coordinates_list = [] # creating number of lists to match the number of polygons so that each polygon will have it's coordinates\n",
    "aoi_list = []\n",
    "\n",
    "for i in range(len(poly_s2)): # Iterating through all the polygons\n",
    "        \n",
    "    for k in range(np.int(n_s2[i])): # Iterating through all the images of each polygon\n",
    "        \n",
    "        id_list = np.append(id_list, poly_s2[i].getInfo()['features'][k].get('id'))\n",
    "        cloudCover_list = np.append(cloudCover_list, poly_s2[i].getInfo()['features'][k].get('properties')['CLOUDY_PIXEL_PERCENTAGE'])\n",
    "        validPixels_list = np.append(validPixels_list, poly_s2[i].getInfo()['features'][k].get('properties')['valids'])\n",
    "        \n",
    "        # print(k)\n",
    "\n",
    "        aoi_list = np.append(aoi_list, sydney_aoi_codes[i])\n",
    "\n",
    "        index_coord = s2_coordinates[i]\n",
    "\n",
    "        # print(index_coord)\n",
    "\n",
    "        coordinates_list.extend(index_coord)      \n",
    "\n",
    "        \n",
    "s2_df = gpd.GeoDataFrame({'id':id_list, 'cloud_cover':cloudCover_list, 'source': source_list, 'aoi_code': aoi_list, 'percentage_valid_pixels': validPixels_list, 'geometry':coordinates_list})\n",
    "s2_df.head(10)"
   ]
  },
  {
   "cell_type": "markdown",
   "id": "c1641594-f3d1-44a5-8a9b-6593cd372a52",
   "metadata": {
    "tags": []
   },
   "source": [
    "# Putting the two loops together"
   ]
  },
  {
   "cell_type": "markdown",
   "id": "9d9a64b5-0350-4026-aad8-9112dd20c4d4",
   "metadata": {},
   "source": [
    "Can't put them in the same loops due to variable names becoming mixed up and loop lengths being different. "
   ]
  },
  {
   "cell_type": "code",
   "execution_count": 89,
   "id": "02f99019-59b0-4e8d-b93c-b1a5c65280be",
   "metadata": {},
   "outputs": [],
   "source": [
    "def read_aoi(my_gpd_aoi:str):\n",
    "    my_aoi = gpd.read_file(my_gpd_aoi)\n",
    "    \n",
    "    aoi_codes = my_aoi['aoi_code']\n",
    "    js = json.loads(my_aoi.to_json()) # convertin gthe aoi to a json and getting the \n",
    "    \n",
    "    total_bounds = ee.Geometry(ee.FeatureCollection(js).geometry())\n",
    "    total_bounds_coordinates = total_bounds.getInfo()['coordinates']\n",
    "    \n",
    "    n_polygons = len(total_bounds_coordinates)\n",
    "    \n",
    "    print('Number of polygons in AOI:', n_polygons)\n",
    "    \n",
    "    return total_bounds, aoi_codes, n_polygons\n"
   ]
  },
  {
   "cell_type": "code",
   "execution_count": 90,
   "id": "5d4ccddb-c1ff-4c73-8df2-f35aa23ff1b6",
   "metadata": {},
   "outputs": [
    {
     "name": "stdout",
     "output_type": "stream",
     "text": [
      "Number of polygons in AOI: 263\n"
     ]
    }
   ],
   "source": [
    "# Read all the AOI.\n",
    "sydney_aoi, sydney_aoi_codes, sydney_polygons = read_aoi('data/2022-07-21_aois.geojson')\n"
   ]
  },
  {
   "cell_type": "code",
   "execution_count": 91,
   "id": "5c4ffc52-ae07-43f9-b2eb-94184e0597f2",
   "metadata": {},
   "outputs": [],
   "source": [
    "# Get the coordinates for each AOI.\n",
    "sydney_aoi_all = sydney_aoi.getInfo()['coordinates']\n",
    "\n",
    "# Reducing the number of AOIs to 20. \n",
    "sydney_aoi_codes = sydney_aoi_codes[0:20]\n",
    "\n",
    "# Updating a list with the first 20 coordinates due to processing times. \n",
    "sydney_aoi_poly = []\n",
    "for i in range(len(sydney_aoi_all[0:20])):\n",
    "    \n",
    "    sydney_aoi_poly = np.append(sydney_aoi_poly, ee.Geometry.Polygon(sydney_aoi_all[i]))"
   ]
  },
  {
   "cell_type": "markdown",
   "id": "065beec3-277e-4741-8d20-d3b04b58267a",
   "metadata": {},
   "source": [
    "Putting the above process into a function that returns a list of the bounds of the polygons, in which you can specify how many polygons you want to include"
   ]
  },
  {
   "cell_type": "code",
   "execution_count": 92,
   "id": "79982c86-a0ee-4463-9303-1ef720c15aa9",
   "metadata": {},
   "outputs": [],
   "source": [
    "def get_polygon_bounds(total_bounds, aoi_codes, n_polygons):\n",
    "    # Get the coordinates for each AOI.\n",
    "    all_polygon_bounds = total_bounds.getInfo()['coordinates']\n",
    "\n",
    "    # Reducing the number of AOIs to n_polygons \n",
    "    polygon_aoi_codes = aoi_codes[0:n_polygons]\n",
    "\n",
    "    # Updating a list with the first 20 coordinates due to processing times. \n",
    "    polygon_bounds = []\n",
    "    for i in range(len(all_polygon_bounds[0:n_polygons])):\n",
    "      \n",
    "       polygon_bounds = np.append(polygon_bounds, ee.Geometry.Polygon(all_polygon_bounds[i]))\n",
    "                       \n",
    "    return polygon_bounds, polygon_aoi_codes"
   ]
  },
  {
   "cell_type": "code",
   "execution_count": 93,
   "id": "948c189c-2814-40ad-97c6-c74c6a761dc9",
   "metadata": {},
   "outputs": [],
   "source": [
    "sydney_20_polys, sydney_20_aois = get_polygon_bounds(sydney_aoi, sydney_aoi_codes, 20)"
   ]
  },
  {
   "cell_type": "code",
   "execution_count": 94,
   "id": "cbebd87b-a621-4aee-9a53-4f568c3da5f1",
   "metadata": {},
   "outputs": [],
   "source": [
    "def get_imageCollections(polygon_bounds: np.ndarray, dates: tuple): #bounds_list refers to a list of geometries/polygons extracted above from the aoi\n",
    "\n",
    "    get_landsat_collection = ee_download.get_landsat_collection\n",
    "    get_s2_collection = ee_download.get_s2_collection\n",
    "    \n",
    "    landsat_imgs = []\n",
    "    s2_imgs = []\n",
    "    \n",
    "    for i in range(len(polygon_bounds)):\n",
    "        landsat_imgs = np.append(landsat_imgs, get_landsat_collection(date_start=dates[0], date_end=dates[1] , bounds= polygon_bounds[i]))\n",
    "        s2_imgs = np.append(s2_imgs, get_s2_collection(date_start=dates[0], date_end=dates[1] , bounds= polygon_bounds[i]))\n",
    "\n",
    "    return landsat_imgs, s2_imgs"
   ]
  },
  {
   "cell_type": "code",
   "execution_count": 95,
   "id": "d9e6ec12-caf8-4780-85ad-1728b28a7104",
   "metadata": {},
   "outputs": [],
   "source": [
    "dates = ('02/08/21', '03/09/21')\n",
    "\n",
    "dateTime = get_datetime(dates)"
   ]
  },
  {
   "cell_type": "code",
   "execution_count": 96,
   "id": "dfa56d08-cb48-483a-b422-6cb4983cf078",
   "metadata": {},
   "outputs": [],
   "source": [
    "poly_landsat, poly_s2 = get_imageCollections(sydney_20_polys, dateTime)"
   ]
  },
  {
   "cell_type": "code",
   "execution_count": 97,
   "id": "b9e47c90-194c-4ca5-bd2e-17865b93a77e",
   "metadata": {},
   "outputs": [
    {
     "name": "stdout",
     "output_type": "stream",
     "text": [
      "Number of landsat images: 76\n",
      "Number of s2 images: 148\n"
     ]
    }
   ],
   "source": [
    "# --------- Landsat ---------\n",
    "landsat_coordinates = [[] for _ in range(len(poly_landsat))] # creating number of lists to match the number of polygons so that each polygon will have it's coordinates\n",
    "n_landsat = []\n",
    "\n",
    "# Loop 1: Getting the number of images for each AOI, returns an array where each index is an \n",
    "# AOI and each value in the index is the number of images of that AOI. \n",
    "for i in range(len(poly_landsat)):\n",
    "    \n",
    "    # Get the coordinates for each AOI\n",
    "    landsat_coordinates[i] = sydney_20_polys[i]['coordinates']\n",
    "    \n",
    "    # Of the 20 indices, there will be the number of images in each. \n",
    "    n_landsat = np.append(n_landsat, len(poly_landsat[i].getInfo()['features']))\n",
    "\n",
    "# End loop 1\n",
    "\n",
    "id_list = []\n",
    "cloudCover_list = []\n",
    "validPixels_list = []\n",
    "source_list = ['landsat']*np.int(n_landsat.sum()) # creating a list the size of the total number of images of all the polygons\n",
    "coordinates_list = [] # creating number of lists to match the number of polygons so that each polygon will have it's coordinates\n",
    "aoi_list = []\n",
    "\n",
    "# Loop 2: Updating property lists that will be used to populate a dataframe.\n",
    "for i in range(len(poly_landsat)): # Iterating through all the polygons\n",
    "    \n",
    "    for k in range(len(poly_landsat[i].getInfo()['features'])): # Iterating through all the images of each polygon\n",
    "        \n",
    "        id_list = np.append(id_list, poly_landsat[i].getInfo()['features'][k].get('id'))\n",
    "        cloudCover_list = np.append(cloudCover_list, poly_landsat[i].getInfo()['features'][k].get('properties')['CLOUD_COVER'])\n",
    "        validPixels_list = np.append(validPixels_list, poly_landsat[i].getInfo()['features'][k].get('properties')['valids'])\n",
    "        aoi_list = np.append(aoi_list, sydney_aoi_codes[i])\n",
    "        index_coord = landsat_coordinates[i]\n",
    "        coordinates_list.extend(index_coord)      \n",
    "# End loop 2\n",
    "\n",
    "# Populate the dataframe\n",
    "landsat_df = gpd.GeoDataFrame({'id':id_list, 'cloud_cover':cloudCover_list, 'source': source_list, 'aoi_code': aoi_list, 'percentage_valid_pixels': validPixels_list, 'geometry':coordinates_list})\n",
    "landsat_df.head(10)\n",
    "print('Number of landsat images:', len(landsat_df))\n",
    "\n",
    "# --------- S2 ---------\n",
    "s2_coordinates = [[] for _ in range(len(poly_s2))] # creating number of lists to match the number of polygons so that each polygon will have it's coordinates\n",
    "n_s2 = []\n",
    "# Loop 1\n",
    "for i in range(len(poly_s2)): # Iterating through all the polygons\n",
    "    \n",
    "    s2_coordinates[i] = sydney_20_polys[i]['coordinates']\n",
    "\n",
    "    n_s2 = np.append(n_s2, len(poly_s2[i].getInfo()['features'])) # Of the 20 indices, there will be the number of images in each. \n",
    "# End loop 1\n",
    "\n",
    "id_list = []\n",
    "cloudCover_list = []\n",
    "validPixels_list = []\n",
    "source_list = ['s2']*np.int(n_s2.sum()) # creating a list the size of the total number of images of all the polygons\n",
    "coordinates_list = [] # creating number of lists to match the number of polygons so that each polygon will have it's coordinates\n",
    "aoi_list = []\n",
    "\n",
    "# Loop 2\n",
    "for i in range(len(poly_s2)): # Iterating through all the polygons\n",
    "        \n",
    "    for k in range(np.int(n_s2[i])): # Iterating through all the images of each polygon\n",
    "        \n",
    "        id_list = np.append(id_list, poly_s2[i].getInfo()['features'][k].get('id'))\n",
    "        cloudCover_list = np.append(cloudCover_list, poly_s2[i].getInfo()['features'][k].get('properties')['CLOUDY_PIXEL_PERCENTAGE'])\n",
    "        validPixels_list = np.append(validPixels_list, poly_s2[i].getInfo()['features'][k].get('properties')['valids'])\n",
    "        aoi_list = np.append(aoi_list, sydney_aoi_codes[i])\n",
    "        index_coord = s2_coordinates[i]\n",
    "        coordinates_list.extend(index_coord)      \n",
    "# End loop 2\n",
    "\n",
    "# Populate the dataframe\n",
    "s2_df = gpd.GeoDataFrame({'id':id_list, 'cloud_cover':cloudCover_list, 'source': source_list, 'aoi_code': aoi_list, 'percentage_valid_pixels': validPixels_list, 'geometry':coordinates_list})\n",
    "s2_df.head(10)\n",
    "print('Number of s2 images:', len(s2_df))"
   ]
  },
  {
   "cell_type": "code",
   "execution_count": 98,
   "id": "537e3d8e-1e72-44d1-b396-b851f1e11acf",
   "metadata": {},
   "outputs": [
    {
     "data": {
      "text/html": [
       "<div>\n",
       "<style scoped>\n",
       "    .dataframe tbody tr th:only-of-type {\n",
       "        vertical-align: middle;\n",
       "    }\n",
       "\n",
       "    .dataframe tbody tr th {\n",
       "        vertical-align: top;\n",
       "    }\n",
       "\n",
       "    .dataframe thead th {\n",
       "        text-align: right;\n",
       "    }\n",
       "</style>\n",
       "<table border=\"1\" class=\"dataframe\">\n",
       "  <thead>\n",
       "    <tr style=\"text-align: right;\">\n",
       "      <th></th>\n",
       "      <th>id</th>\n",
       "      <th>cloud_cover</th>\n",
       "      <th>source</th>\n",
       "      <th>aoi_code</th>\n",
       "      <th>percentage_valid_pixels</th>\n",
       "      <th>geometry</th>\n",
       "    </tr>\n",
       "  </thead>\n",
       "  <tbody>\n",
       "    <tr>\n",
       "      <th>0</th>\n",
       "      <td>2021-08-13</td>\n",
       "      <td>0.02</td>\n",
       "      <td>landsat</td>\n",
       "      <td>AOI01</td>\n",
       "      <td>1.000000</td>\n",
       "      <td>[[147.09959654580408, -31.244618412374592], [1...</td>\n",
       "    </tr>\n",
       "    <tr>\n",
       "      <th>1</th>\n",
       "      <td>2021-08-29</td>\n",
       "      <td>14.17</td>\n",
       "      <td>landsat</td>\n",
       "      <td>AOI01</td>\n",
       "      <td>1.000000</td>\n",
       "      <td>[[147.09959654580408, -31.244618412374592], [1...</td>\n",
       "    </tr>\n",
       "    <tr>\n",
       "      <th>2</th>\n",
       "      <td>2021-08-04</td>\n",
       "      <td>1.96</td>\n",
       "      <td>landsat</td>\n",
       "      <td>AOI01</td>\n",
       "      <td>0.279306</td>\n",
       "      <td>[[147.09959654580408, -31.244618412374592], [1...</td>\n",
       "    </tr>\n",
       "    <tr>\n",
       "      <th>3</th>\n",
       "      <td>2021-08-20</td>\n",
       "      <td>0.01</td>\n",
       "      <td>landsat</td>\n",
       "      <td>AOI01</td>\n",
       "      <td>0.276128</td>\n",
       "      <td>[[147.09959654580408, -31.244618412374592], [1...</td>\n",
       "    </tr>\n",
       "    <tr>\n",
       "      <th>4</th>\n",
       "      <td>2021-08-13</td>\n",
       "      <td>0.02</td>\n",
       "      <td>landsat</td>\n",
       "      <td>AOI01</td>\n",
       "      <td>1.000000</td>\n",
       "      <td>[[147.09959654580408, -31.04461841237459], [14...</td>\n",
       "    </tr>\n",
       "    <tr>\n",
       "      <th>5</th>\n",
       "      <td>2021-08-29</td>\n",
       "      <td>14.17</td>\n",
       "      <td>landsat</td>\n",
       "      <td>AOI01</td>\n",
       "      <td>1.000000</td>\n",
       "      <td>[[147.09959654580408, -31.04461841237459], [14...</td>\n",
       "    </tr>\n",
       "    <tr>\n",
       "      <th>6</th>\n",
       "      <td>2021-08-04</td>\n",
       "      <td>1.96</td>\n",
       "      <td>landsat</td>\n",
       "      <td>AOI01</td>\n",
       "      <td>0.521599</td>\n",
       "      <td>[[147.09959654580408, -31.04461841237459], [14...</td>\n",
       "    </tr>\n",
       "    <tr>\n",
       "      <th>7</th>\n",
       "      <td>2021-08-20</td>\n",
       "      <td>0.01</td>\n",
       "      <td>landsat</td>\n",
       "      <td>AOI01</td>\n",
       "      <td>0.518510</td>\n",
       "      <td>[[147.09959654580408, -31.04461841237459], [14...</td>\n",
       "    </tr>\n",
       "    <tr>\n",
       "      <th>8</th>\n",
       "      <td>2021-08-13</td>\n",
       "      <td>2.36</td>\n",
       "      <td>landsat</td>\n",
       "      <td>AOI02</td>\n",
       "      <td>1.000000</td>\n",
       "      <td>[[147.4996031608572, -32.44460560526437], [147...</td>\n",
       "    </tr>\n",
       "    <tr>\n",
       "      <th>9</th>\n",
       "      <td>2021-08-29</td>\n",
       "      <td>56.97</td>\n",
       "      <td>landsat</td>\n",
       "      <td>AOI02</td>\n",
       "      <td>1.000000</td>\n",
       "      <td>[[147.4996031608572, -32.44460560526437], [147...</td>\n",
       "    </tr>\n",
       "  </tbody>\n",
       "</table>\n",
       "</div>"
      ],
      "text/plain": [
       "           id  cloud_cover   source aoi_code  percentage_valid_pixels  \\\n",
       "0  2021-08-13         0.02  landsat    AOI01                 1.000000   \n",
       "1  2021-08-29        14.17  landsat    AOI01                 1.000000   \n",
       "2  2021-08-04         1.96  landsat    AOI01                 0.279306   \n",
       "3  2021-08-20         0.01  landsat    AOI01                 0.276128   \n",
       "4  2021-08-13         0.02  landsat    AOI01                 1.000000   \n",
       "5  2021-08-29        14.17  landsat    AOI01                 1.000000   \n",
       "6  2021-08-04         1.96  landsat    AOI01                 0.521599   \n",
       "7  2021-08-20         0.01  landsat    AOI01                 0.518510   \n",
       "8  2021-08-13         2.36  landsat    AOI02                 1.000000   \n",
       "9  2021-08-29        56.97  landsat    AOI02                 1.000000   \n",
       "\n",
       "                                            geometry  \n",
       "0  [[147.09959654580408, -31.244618412374592], [1...  \n",
       "1  [[147.09959654580408, -31.244618412374592], [1...  \n",
       "2  [[147.09959654580408, -31.244618412374592], [1...  \n",
       "3  [[147.09959654580408, -31.244618412374592], [1...  \n",
       "4  [[147.09959654580408, -31.04461841237459], [14...  \n",
       "5  [[147.09959654580408, -31.04461841237459], [14...  \n",
       "6  [[147.09959654580408, -31.04461841237459], [14...  \n",
       "7  [[147.09959654580408, -31.04461841237459], [14...  \n",
       "8  [[147.4996031608572, -32.44460560526437], [147...  \n",
       "9  [[147.4996031608572, -32.44460560526437], [147...  "
      ]
     },
     "execution_count": 98,
     "metadata": {},
     "output_type": "execute_result"
    }
   ],
   "source": [
    "landsat_df.head(10)"
   ]
  },
  {
   "cell_type": "code",
   "execution_count": 99,
   "id": "4c590dae-b00b-4c96-b904-352a0e3c8546",
   "metadata": {},
   "outputs": [
    {
     "data": {
      "text/html": [
       "<div>\n",
       "<style scoped>\n",
       "    .dataframe tbody tr th:only-of-type {\n",
       "        vertical-align: middle;\n",
       "    }\n",
       "\n",
       "    .dataframe tbody tr th {\n",
       "        vertical-align: top;\n",
       "    }\n",
       "\n",
       "    .dataframe thead th {\n",
       "        text-align: right;\n",
       "    }\n",
       "</style>\n",
       "<table border=\"1\" class=\"dataframe\">\n",
       "  <thead>\n",
       "    <tr style=\"text-align: right;\">\n",
       "      <th></th>\n",
       "      <th>id</th>\n",
       "      <th>cloud_cover</th>\n",
       "      <th>source</th>\n",
       "      <th>aoi_code</th>\n",
       "      <th>percentage_valid_pixels</th>\n",
       "      <th>geometry</th>\n",
       "    </tr>\n",
       "  </thead>\n",
       "  <tbody>\n",
       "    <tr>\n",
       "      <th>0</th>\n",
       "      <td>2021-08-13</td>\n",
       "      <td>0.0200</td>\n",
       "      <td>landsat</td>\n",
       "      <td>AOI01</td>\n",
       "      <td>1.000000</td>\n",
       "      <td>[[147.09959654580408, -31.244618412374592], [1...</td>\n",
       "    </tr>\n",
       "    <tr>\n",
       "      <th>1</th>\n",
       "      <td>2021-08-29</td>\n",
       "      <td>14.1700</td>\n",
       "      <td>landsat</td>\n",
       "      <td>AOI01</td>\n",
       "      <td>1.000000</td>\n",
       "      <td>[[147.09959654580408, -31.244618412374592], [1...</td>\n",
       "    </tr>\n",
       "    <tr>\n",
       "      <th>2</th>\n",
       "      <td>2021-08-04</td>\n",
       "      <td>1.9600</td>\n",
       "      <td>landsat</td>\n",
       "      <td>AOI01</td>\n",
       "      <td>0.279306</td>\n",
       "      <td>[[147.09959654580408, -31.244618412374592], [1...</td>\n",
       "    </tr>\n",
       "    <tr>\n",
       "      <th>3</th>\n",
       "      <td>2021-08-20</td>\n",
       "      <td>0.0100</td>\n",
       "      <td>landsat</td>\n",
       "      <td>AOI01</td>\n",
       "      <td>0.276128</td>\n",
       "      <td>[[147.09959654580408, -31.244618412374592], [1...</td>\n",
       "    </tr>\n",
       "    <tr>\n",
       "      <th>4</th>\n",
       "      <td>2021-08-13</td>\n",
       "      <td>0.0200</td>\n",
       "      <td>landsat</td>\n",
       "      <td>AOI01</td>\n",
       "      <td>1.000000</td>\n",
       "      <td>[[147.09959654580408, -31.04461841237459], [14...</td>\n",
       "    </tr>\n",
       "    <tr>\n",
       "      <th>...</th>\n",
       "      <td>...</td>\n",
       "      <td>...</td>\n",
       "      <td>...</td>\n",
       "      <td>...</td>\n",
       "      <td>...</td>\n",
       "      <td>...</td>\n",
       "    </tr>\n",
       "    <tr>\n",
       "      <th>143</th>\n",
       "      <td>2021-08-10</td>\n",
       "      <td>0.1973</td>\n",
       "      <td>s2</td>\n",
       "      <td>AOI0396</td>\n",
       "      <td>1.000000</td>\n",
       "      <td>[[148.29960316085715, -32.044605605264366], [1...</td>\n",
       "    </tr>\n",
       "    <tr>\n",
       "      <th>144</th>\n",
       "      <td>2021-08-15</td>\n",
       "      <td>0.0231</td>\n",
       "      <td>s2</td>\n",
       "      <td>AOI0396</td>\n",
       "      <td>1.000000</td>\n",
       "      <td>[[148.29960316085715, -32.044605605264366], [1...</td>\n",
       "    </tr>\n",
       "    <tr>\n",
       "      <th>145</th>\n",
       "      <td>2021-08-20</td>\n",
       "      <td>0.0000</td>\n",
       "      <td>s2</td>\n",
       "      <td>AOI0396</td>\n",
       "      <td>1.000000</td>\n",
       "      <td>[[148.29960316085715, -32.044605605264366], [1...</td>\n",
       "    </tr>\n",
       "    <tr>\n",
       "      <th>146</th>\n",
       "      <td>2021-08-25</td>\n",
       "      <td>0.0179</td>\n",
       "      <td>s2</td>\n",
       "      <td>AOI0396</td>\n",
       "      <td>1.000000</td>\n",
       "      <td>[[148.29960316085715, -32.044605605264366], [1...</td>\n",
       "    </tr>\n",
       "    <tr>\n",
       "      <th>147</th>\n",
       "      <td>2021-08-30</td>\n",
       "      <td>99.9943</td>\n",
       "      <td>s2</td>\n",
       "      <td>AOI0396</td>\n",
       "      <td>1.000000</td>\n",
       "      <td>[[148.29960316085715, -32.044605605264366], [1...</td>\n",
       "    </tr>\n",
       "  </tbody>\n",
       "</table>\n",
       "<p>224 rows × 6 columns</p>\n",
       "</div>"
      ],
      "text/plain": [
       "             id  cloud_cover   source aoi_code  percentage_valid_pixels  \\\n",
       "0    2021-08-13       0.0200  landsat    AOI01                 1.000000   \n",
       "1    2021-08-29      14.1700  landsat    AOI01                 1.000000   \n",
       "2    2021-08-04       1.9600  landsat    AOI01                 0.279306   \n",
       "3    2021-08-20       0.0100  landsat    AOI01                 0.276128   \n",
       "4    2021-08-13       0.0200  landsat    AOI01                 1.000000   \n",
       "..          ...          ...      ...      ...                      ...   \n",
       "143  2021-08-10       0.1973       s2  AOI0396                 1.000000   \n",
       "144  2021-08-15       0.0231       s2  AOI0396                 1.000000   \n",
       "145  2021-08-20       0.0000       s2  AOI0396                 1.000000   \n",
       "146  2021-08-25       0.0179       s2  AOI0396                 1.000000   \n",
       "147  2021-08-30      99.9943       s2  AOI0396                 1.000000   \n",
       "\n",
       "                                              geometry  \n",
       "0    [[147.09959654580408, -31.244618412374592], [1...  \n",
       "1    [[147.09959654580408, -31.244618412374592], [1...  \n",
       "2    [[147.09959654580408, -31.244618412374592], [1...  \n",
       "3    [[147.09959654580408, -31.244618412374592], [1...  \n",
       "4    [[147.09959654580408, -31.04461841237459], [14...  \n",
       "..                                                 ...  \n",
       "143  [[148.29960316085715, -32.044605605264366], [1...  \n",
       "144  [[148.29960316085715, -32.044605605264366], [1...  \n",
       "145  [[148.29960316085715, -32.044605605264366], [1...  \n",
       "146  [[148.29960316085715, -32.044605605264366], [1...  \n",
       "147  [[148.29960316085715, -32.044605605264366], [1...  \n",
       "\n",
       "[224 rows x 6 columns]"
      ]
     },
     "execution_count": 99,
     "metadata": {},
     "output_type": "execute_result"
    }
   ],
   "source": [
    "all_df = pd.concat([landsat_df, s2_df])\n",
    "all_df"
   ]
  },
  {
   "cell_type": "code",
   "execution_count": 100,
   "id": "b3b53cb4-7959-401d-8b4d-670eabc6505d",
   "metadata": {},
   "outputs": [],
   "source": [
    "all_df['geometry'] = all_df['geometry'].apply(Polygon)"
   ]
  },
  {
   "cell_type": "code",
   "execution_count": 101,
   "id": "d1a581f4-55ab-44a8-8692-ff87c50a5d7b",
   "metadata": {},
   "outputs": [],
   "source": [
    "all_df.crs = 'EPSG:4326'"
   ]
  },
  {
   "cell_type": "code",
   "execution_count": 102,
   "id": "44223327-e47c-4ddd-ba4c-653e42822945",
   "metadata": {},
   "outputs": [
    {
     "data": {
      "text/html": [
       "<div>\n",
       "<style scoped>\n",
       "    .dataframe tbody tr th:only-of-type {\n",
       "        vertical-align: middle;\n",
       "    }\n",
       "\n",
       "    .dataframe tbody tr th {\n",
       "        vertical-align: top;\n",
       "    }\n",
       "\n",
       "    .dataframe thead th {\n",
       "        text-align: right;\n",
       "    }\n",
       "</style>\n",
       "<table border=\"1\" class=\"dataframe\">\n",
       "  <thead>\n",
       "    <tr style=\"text-align: right;\">\n",
       "      <th></th>\n",
       "      <th>index</th>\n",
       "      <th>id</th>\n",
       "      <th>cloud_cover</th>\n",
       "      <th>source</th>\n",
       "      <th>aoi_code</th>\n",
       "      <th>percentage_valid_pixels</th>\n",
       "      <th>geometry</th>\n",
       "    </tr>\n",
       "  </thead>\n",
       "  <tbody>\n",
       "    <tr>\n",
       "      <th>0</th>\n",
       "      <td>0</td>\n",
       "      <td>2021-08-03</td>\n",
       "      <td>3.0108</td>\n",
       "      <td>s2</td>\n",
       "      <td>AOI01</td>\n",
       "      <td>1.000000</td>\n",
       "      <td>POLYGON ((147.09960 -31.24462, 147.30960 -31.2...</td>\n",
       "    </tr>\n",
       "    <tr>\n",
       "      <th>1</th>\n",
       "      <td>13</td>\n",
       "      <td>2021-08-03</td>\n",
       "      <td>3.0108</td>\n",
       "      <td>s2</td>\n",
       "      <td>AOI01</td>\n",
       "      <td>1.000000</td>\n",
       "      <td>POLYGON ((147.09960 -31.04462, 147.30960 -31.0...</td>\n",
       "    </tr>\n",
       "    <tr>\n",
       "      <th>2</th>\n",
       "      <td>2</td>\n",
       "      <td>2021-08-04</td>\n",
       "      <td>1.9600</td>\n",
       "      <td>landsat</td>\n",
       "      <td>AOI01</td>\n",
       "      <td>0.279306</td>\n",
       "      <td>POLYGON ((147.09960 -31.24462, 147.30960 -31.2...</td>\n",
       "    </tr>\n",
       "    <tr>\n",
       "      <th>3</th>\n",
       "      <td>6</td>\n",
       "      <td>2021-08-04</td>\n",
       "      <td>1.9600</td>\n",
       "      <td>landsat</td>\n",
       "      <td>AOI01</td>\n",
       "      <td>0.521599</td>\n",
       "      <td>POLYGON ((147.09960 -31.04462, 147.30960 -31.0...</td>\n",
       "    </tr>\n",
       "    <tr>\n",
       "      <th>4</th>\n",
       "      <td>1</td>\n",
       "      <td>2021-08-05</td>\n",
       "      <td>40.1120</td>\n",
       "      <td>s2</td>\n",
       "      <td>AOI01</td>\n",
       "      <td>1.000000</td>\n",
       "      <td>POLYGON ((147.09960 -31.24462, 147.30960 -31.2...</td>\n",
       "    </tr>\n",
       "    <tr>\n",
       "      <th>...</th>\n",
       "      <td>...</td>\n",
       "      <td>...</td>\n",
       "      <td>...</td>\n",
       "      <td>...</td>\n",
       "      <td>...</td>\n",
       "      <td>...</td>\n",
       "      <td>...</td>\n",
       "    </tr>\n",
       "    <tr>\n",
       "      <th>219</th>\n",
       "      <td>145</td>\n",
       "      <td>2021-08-20</td>\n",
       "      <td>0.0000</td>\n",
       "      <td>s2</td>\n",
       "      <td>AOI0396</td>\n",
       "      <td>1.000000</td>\n",
       "      <td>POLYGON ((148.29960 -32.04461, 148.50960 -32.0...</td>\n",
       "    </tr>\n",
       "    <tr>\n",
       "      <th>220</th>\n",
       "      <td>73</td>\n",
       "      <td>2021-08-22</td>\n",
       "      <td>10.8000</td>\n",
       "      <td>landsat</td>\n",
       "      <td>AOI0396</td>\n",
       "      <td>1.000000</td>\n",
       "      <td>POLYGON ((148.29960 -32.04461, 148.50960 -32.0...</td>\n",
       "    </tr>\n",
       "    <tr>\n",
       "      <th>221</th>\n",
       "      <td>146</td>\n",
       "      <td>2021-08-25</td>\n",
       "      <td>0.0179</td>\n",
       "      <td>s2</td>\n",
       "      <td>AOI0396</td>\n",
       "      <td>1.000000</td>\n",
       "      <td>POLYGON ((148.29960 -32.04461, 148.50960 -32.0...</td>\n",
       "    </tr>\n",
       "    <tr>\n",
       "      <th>222</th>\n",
       "      <td>75</td>\n",
       "      <td>2021-08-29</td>\n",
       "      <td>56.9700</td>\n",
       "      <td>landsat</td>\n",
       "      <td>AOI0396</td>\n",
       "      <td>0.938963</td>\n",
       "      <td>POLYGON ((148.29960 -32.04461, 148.50960 -32.0...</td>\n",
       "    </tr>\n",
       "    <tr>\n",
       "      <th>223</th>\n",
       "      <td>147</td>\n",
       "      <td>2021-08-30</td>\n",
       "      <td>99.9943</td>\n",
       "      <td>s2</td>\n",
       "      <td>AOI0396</td>\n",
       "      <td>1.000000</td>\n",
       "      <td>POLYGON ((148.29960 -32.04461, 148.50960 -32.0...</td>\n",
       "    </tr>\n",
       "  </tbody>\n",
       "</table>\n",
       "<p>224 rows × 7 columns</p>\n",
       "</div>"
      ],
      "text/plain": [
       "     index          id  cloud_cover   source aoi_code  \\\n",
       "0        0  2021-08-03       3.0108       s2    AOI01   \n",
       "1       13  2021-08-03       3.0108       s2    AOI01   \n",
       "2        2  2021-08-04       1.9600  landsat    AOI01   \n",
       "3        6  2021-08-04       1.9600  landsat    AOI01   \n",
       "4        1  2021-08-05      40.1120       s2    AOI01   \n",
       "..     ...         ...          ...      ...      ...   \n",
       "219    145  2021-08-20       0.0000       s2  AOI0396   \n",
       "220     73  2021-08-22      10.8000  landsat  AOI0396   \n",
       "221    146  2021-08-25       0.0179       s2  AOI0396   \n",
       "222     75  2021-08-29      56.9700  landsat  AOI0396   \n",
       "223    147  2021-08-30      99.9943       s2  AOI0396   \n",
       "\n",
       "     percentage_valid_pixels  \\\n",
       "0                   1.000000   \n",
       "1                   1.000000   \n",
       "2                   0.279306   \n",
       "3                   0.521599   \n",
       "4                   1.000000   \n",
       "..                       ...   \n",
       "219                 1.000000   \n",
       "220                 1.000000   \n",
       "221                 1.000000   \n",
       "222                 0.938963   \n",
       "223                 1.000000   \n",
       "\n",
       "                                              geometry  \n",
       "0    POLYGON ((147.09960 -31.24462, 147.30960 -31.2...  \n",
       "1    POLYGON ((147.09960 -31.04462, 147.30960 -31.0...  \n",
       "2    POLYGON ((147.09960 -31.24462, 147.30960 -31.2...  \n",
       "3    POLYGON ((147.09960 -31.04462, 147.30960 -31.0...  \n",
       "4    POLYGON ((147.09960 -31.24462, 147.30960 -31.2...  \n",
       "..                                                 ...  \n",
       "219  POLYGON ((148.29960 -32.04461, 148.50960 -32.0...  \n",
       "220  POLYGON ((148.29960 -32.04461, 148.50960 -32.0...  \n",
       "221  POLYGON ((148.29960 -32.04461, 148.50960 -32.0...  \n",
       "222  POLYGON ((148.29960 -32.04461, 148.50960 -32.0...  \n",
       "223  POLYGON ((148.29960 -32.04461, 148.50960 -32.0...  \n",
       "\n",
       "[224 rows x 7 columns]"
      ]
     },
     "execution_count": 102,
     "metadata": {},
     "output_type": "execute_result"
    }
   ],
   "source": [
    "all_df_sorted = all_df.sort_values(by = ['aoi_code', 'id'])\n",
    "\n",
    "all_df_sorted = all_df_sorted.reset_index()\n",
    "\n",
    "all_df_sorted"
   ]
  },
  {
   "cell_type": "markdown",
   "id": "32288982-a1fb-4819-a65e-2a24aa6cd2db",
   "metadata": {},
   "source": [
    "Is it worth doing this sorting within the main function or would it be better to produce the dataframe as is? "
   ]
  },
  {
   "cell_type": "code",
   "execution_count": 103,
   "id": "8c2dd571-d0ad-4e8e-9be9-3bbbf7121642",
   "metadata": {},
   "outputs": [
    {
     "data": {
      "text/plain": [
       "<Geographic 2D CRS: EPSG:4326>\n",
       "Name: WGS 84\n",
       "Axis Info [ellipsoidal]:\n",
       "- Lat[north]: Geodetic latitude (degree)\n",
       "- Lon[east]: Geodetic longitude (degree)\n",
       "Area of Use:\n",
       "- name: World.\n",
       "- bounds: (-180.0, -90.0, 180.0, 90.0)\n",
       "Datum: World Geodetic System 1984 ensemble\n",
       "- Ellipsoid: WGS 84\n",
       "- Prime Meridian: Greenwich"
      ]
     },
     "execution_count": 103,
     "metadata": {},
     "output_type": "execute_result"
    }
   ],
   "source": [
    "all_df_sorted.crs"
   ]
  },
  {
   "cell_type": "markdown",
   "id": "6eb6d0cb-870b-41a9-9098-c6b1adb462cf",
   "metadata": {},
   "source": [
    "Looking a the the visualisation it seems thathe .explore() automatically plots the images on top of each other and then only displays the stats for the top/last one in the hover menu. "
   ]
  },
  {
   "cell_type": "code",
   "execution_count": 104,
   "id": "2a0b6205-a86f-45a7-8f43-a5ceef56aecc",
   "metadata": {},
   "outputs": [
    {
     "data": {
      "text/html": [
       "<div style=\"width:100%;\"><div style=\"position:relative;width:100%;height:0;padding-bottom:60%;\"><span style=\"color:#565656\">Make this Notebook Trusted to load map: File -> Trust Notebook</span><iframe srcdoc=\"&lt;!DOCTYPE html&gt;\n",
       "&lt;head&gt;    \n",
       "    &lt;meta http-equiv=&quot;content-type&quot; content=&quot;text/html; charset=UTF-8&quot; /&gt;\n",
       "    \n",
       "        &lt;script&gt;\n",
       "            L_NO_TOUCH = false;\n",
       "            L_DISABLE_3D = false;\n",
       "        &lt;/script&gt;\n",
       "    \n",
       "    &lt;style&gt;html, body {width: 100%;height: 100%;margin: 0;padding: 0;}&lt;/style&gt;\n",
       "    &lt;style&gt;#map {position:absolute;top:0;bottom:0;right:0;left:0;}&lt;/style&gt;\n",
       "    &lt;script src=&quot;https://cdn.jsdelivr.net/npm/leaflet@1.6.0/dist/leaflet.js&quot;&gt;&lt;/script&gt;\n",
       "    &lt;script src=&quot;https://code.jquery.com/jquery-1.12.4.min.js&quot;&gt;&lt;/script&gt;\n",
       "    &lt;script src=&quot;https://maxcdn.bootstrapcdn.com/bootstrap/3.2.0/js/bootstrap.min.js&quot;&gt;&lt;/script&gt;\n",
       "    &lt;script src=&quot;https://cdnjs.cloudflare.com/ajax/libs/Leaflet.awesome-markers/2.0.2/leaflet.awesome-markers.js&quot;&gt;&lt;/script&gt;\n",
       "    &lt;link rel=&quot;stylesheet&quot; href=&quot;https://cdn.jsdelivr.net/npm/leaflet@1.6.0/dist/leaflet.css&quot;/&gt;\n",
       "    &lt;link rel=&quot;stylesheet&quot; href=&quot;https://maxcdn.bootstrapcdn.com/bootstrap/3.2.0/css/bootstrap.min.css&quot;/&gt;\n",
       "    &lt;link rel=&quot;stylesheet&quot; href=&quot;https://maxcdn.bootstrapcdn.com/bootstrap/3.2.0/css/bootstrap-theme.min.css&quot;/&gt;\n",
       "    &lt;link rel=&quot;stylesheet&quot; href=&quot;https://maxcdn.bootstrapcdn.com/font-awesome/4.6.3/css/font-awesome.min.css&quot;/&gt;\n",
       "    &lt;link rel=&quot;stylesheet&quot; href=&quot;https://cdnjs.cloudflare.com/ajax/libs/Leaflet.awesome-markers/2.0.2/leaflet.awesome-markers.css&quot;/&gt;\n",
       "    &lt;link rel=&quot;stylesheet&quot; href=&quot;https://cdn.jsdelivr.net/gh/python-visualization/folium/folium/templates/leaflet.awesome.rotate.min.css&quot;/&gt;\n",
       "    \n",
       "            &lt;meta name=&quot;viewport&quot; content=&quot;width=device-width,\n",
       "                initial-scale=1.0, maximum-scale=1.0, user-scalable=no&quot; /&gt;\n",
       "            &lt;style&gt;\n",
       "                #map_00aa3fdd3692c32f8da60caaff0b2ff1 {\n",
       "                    position: relative;\n",
       "                    width: 100.0%;\n",
       "                    height: 100.0%;\n",
       "                    left: 0.0%;\n",
       "                    top: 0.0%;\n",
       "                }\n",
       "            &lt;/style&gt;\n",
       "        \n",
       "    \n",
       "                    &lt;style&gt;\n",
       "                        .foliumtooltip {\n",
       "                            \n",
       "                        }\n",
       "                       .foliumtooltip table{\n",
       "                            margin: auto;\n",
       "                        }\n",
       "                        .foliumtooltip tr{\n",
       "                            text-align: left;\n",
       "                        }\n",
       "                        .foliumtooltip th{\n",
       "                            padding: 2px; padding-right: 8px;\n",
       "                        }\n",
       "                    &lt;/style&gt;\n",
       "            \n",
       "&lt;/head&gt;\n",
       "&lt;body&gt;    \n",
       "    \n",
       "            &lt;div class=&quot;folium-map&quot; id=&quot;map_00aa3fdd3692c32f8da60caaff0b2ff1&quot; &gt;&lt;/div&gt;\n",
       "        \n",
       "&lt;/body&gt;\n",
       "&lt;script&gt;    \n",
       "    \n",
       "            var map_00aa3fdd3692c32f8da60caaff0b2ff1 = L.map(\n",
       "                &quot;map_00aa3fdd3692c32f8da60caaff0b2ff1&quot;,\n",
       "                {\n",
       "                    center: [-31.53960560526436, 147.80459985333061],\n",
       "                    crs: L.CRS.EPSG3857,\n",
       "                    zoom: 10,\n",
       "                    zoomControl: true,\n",
       "                    preferCanvas: false,\n",
       "                }\n",
       "            );\n",
       "            L.control.scale().addTo(map_00aa3fdd3692c32f8da60caaff0b2ff1);\n",
       "\n",
       "            \n",
       "\n",
       "        \n",
       "    \n",
       "            var tile_layer_cb645511c2a7df109d334bd0108063fa = L.tileLayer(\n",
       "                &quot;https://{s}.tile.openstreetmap.org/{z}/{x}/{y}.png&quot;,\n",
       "                {&quot;attribution&quot;: &quot;Data by \\u0026copy; \\u003ca href=\\&quot;http://openstreetmap.org\\&quot;\\u003eOpenStreetMap\\u003c/a\\u003e, under \\u003ca href=\\&quot;http://www.openstreetmap.org/copyright\\&quot;\\u003eODbL\\u003c/a\\u003e.&quot;, &quot;detectRetina&quot;: false, &quot;maxNativeZoom&quot;: 18, &quot;maxZoom&quot;: 18, &quot;minZoom&quot;: 0, &quot;noWrap&quot;: false, &quot;opacity&quot;: 1, &quot;subdomains&quot;: &quot;abc&quot;, &quot;tms&quot;: false}\n",
       "            ).addTo(map_00aa3fdd3692c32f8da60caaff0b2ff1);\n",
       "        \n",
       "    \n",
       "            map_00aa3fdd3692c32f8da60caaff0b2ff1.fitBounds(\n",
       "                [[-32.84460560526438, 147.09959654580408], [-30.234605605264342, 148.50960316085715]],\n",
       "                {}\n",
       "            );\n",
       "        \n",
       "    \n",
       "        function geo_json_9ae7280bc260005a8d57af81ef816b1a_styler(feature) {\n",
       "            switch(feature.id) {\n",
       "                default:\n",
       "                    return {&quot;fillOpacity&quot;: 0.5, &quot;weight&quot;: 2};\n",
       "            }\n",
       "        }\n",
       "        function geo_json_9ae7280bc260005a8d57af81ef816b1a_highlighter(feature) {\n",
       "            switch(feature.id) {\n",
       "                default:\n",
       "                    return {&quot;fillOpacity&quot;: 0.75};\n",
       "            }\n",
       "        }\n",
       "        function geo_json_9ae7280bc260005a8d57af81ef816b1a_pointToLayer(feature, latlng) {\n",
       "            var opts = {&quot;bubblingMouseEvents&quot;: true, &quot;color&quot;: &quot;#3388ff&quot;, &quot;dashArray&quot;: null, &quot;dashOffset&quot;: null, &quot;fill&quot;: true, &quot;fillColor&quot;: &quot;#3388ff&quot;, &quot;fillOpacity&quot;: 0.2, &quot;fillRule&quot;: &quot;evenodd&quot;, &quot;lineCap&quot;: &quot;round&quot;, &quot;lineJoin&quot;: &quot;round&quot;, &quot;opacity&quot;: 1.0, &quot;radius&quot;: 2, &quot;stroke&quot;: true, &quot;weight&quot;: 3};\n",
       "            \n",
       "            let style = geo_json_9ae7280bc260005a8d57af81ef816b1a_styler(feature)\n",
       "            Object.assign(opts, style)\n",
       "            \n",
       "            return new L.CircleMarker(latlng, opts)\n",
       "        }\n",
       "\n",
       "        function geo_json_9ae7280bc260005a8d57af81ef816b1a_onEachFeature(feature, layer) {\n",
       "            layer.on({\n",
       "                mouseout: function(e) {\n",
       "                    if(typeof e.target.setStyle === &quot;function&quot;){\n",
       "                        geo_json_9ae7280bc260005a8d57af81ef816b1a.resetStyle(e.target);\n",
       "                    }\n",
       "                },\n",
       "                mouseover: function(e) {\n",
       "                    if(typeof e.target.setStyle === &quot;function&quot;){\n",
       "                        const highlightStyle = geo_json_9ae7280bc260005a8d57af81ef816b1a_highlighter(e.target.feature)\n",
       "                        e.target.setStyle(highlightStyle);\n",
       "                    }\n",
       "                },\n",
       "            });\n",
       "        };\n",
       "        var geo_json_9ae7280bc260005a8d57af81ef816b1a = L.geoJson(null, {\n",
       "                onEachFeature: geo_json_9ae7280bc260005a8d57af81ef816b1a_onEachFeature,\n",
       "            \n",
       "                style: geo_json_9ae7280bc260005a8d57af81ef816b1a_styler,\n",
       "                pointToLayer: geo_json_9ae7280bc260005a8d57af81ef816b1a_pointToLayer\n",
       "        });\n",
       "\n",
       "        function geo_json_9ae7280bc260005a8d57af81ef816b1a_add (data) {\n",
       "            geo_json_9ae7280bc260005a8d57af81ef816b1a\n",
       "                .addData(data)\n",
       "                .addTo(map_00aa3fdd3692c32f8da60caaff0b2ff1);\n",
       "        }\n",
       "            geo_json_9ae7280bc260005a8d57af81ef816b1a_add({&quot;bbox&quot;: [147.09959654580408, -32.84460560526438, 148.50960316085715, -30.234605605264342], &quot;features&quot;: [{&quot;bbox&quot;: [147.09959654580408, -31.244618412374592, 147.30959654580408, -31.03461841237459], &quot;geometry&quot;: {&quot;coordinates&quot;: [[[147.09959654580408, -31.244618412374592], [147.30959654580408, -31.244618412374592], [147.30959654580408, -31.03461841237459], [147.09959654580408, -31.03461841237459], [147.09959654580408, -31.244618412374592]]], &quot;type&quot;: &quot;Polygon&quot;}, &quot;id&quot;: &quot;0&quot;, &quot;properties&quot;: {&quot;aoi_code&quot;: &quot;AOI01&quot;, &quot;cloud_cover&quot;: 3.0108, &quot;id&quot;: &quot;2021-08-03&quot;, &quot;index&quot;: 0, &quot;percentage_valid_pixels&quot;: 1.0, &quot;source&quot;: &quot;s2&quot;}, &quot;type&quot;: &quot;Feature&quot;}, {&quot;bbox&quot;: [147.09959654580408, -31.04461841237459, 147.30959654580408, -30.83461841237459], &quot;geometry&quot;: {&quot;coordinates&quot;: [[[147.09959654580408, -31.04461841237459], [147.30959654580408, -31.04461841237459], [147.30959654580408, -30.83461841237459], [147.09959654580408, -30.83461841237459], [147.09959654580408, -31.04461841237459]]], &quot;type&quot;: &quot;Polygon&quot;}, &quot;id&quot;: &quot;1&quot;, &quot;properties&quot;: {&quot;aoi_code&quot;: &quot;AOI01&quot;, &quot;cloud_cover&quot;: 3.0108, &quot;id&quot;: &quot;2021-08-03&quot;, &quot;index&quot;: 13, &quot;percentage_valid_pixels&quot;: 1.0, &quot;source&quot;: &quot;s2&quot;}, &quot;type&quot;: &quot;Feature&quot;}, {&quot;bbox&quot;: [147.09959654580408, -31.244618412374592, 147.30959654580408, -31.03461841237459], &quot;geometry&quot;: {&quot;coordinates&quot;: [[[147.09959654580408, -31.244618412374592], [147.30959654580408, -31.244618412374592], [147.30959654580408, -31.03461841237459], [147.09959654580408, -31.03461841237459], [147.09959654580408, -31.244618412374592]]], &quot;type&quot;: &quot;Polygon&quot;}, &quot;id&quot;: &quot;2&quot;, &quot;properties&quot;: {&quot;aoi_code&quot;: &quot;AOI01&quot;, &quot;cloud_cover&quot;: 1.96, &quot;id&quot;: &quot;2021-08-04&quot;, &quot;index&quot;: 2, &quot;percentage_valid_pixels&quot;: 0.2793058483698508, &quot;source&quot;: &quot;landsat&quot;}, &quot;type&quot;: &quot;Feature&quot;}, {&quot;bbox&quot;: [147.09959654580408, -31.04461841237459, 147.30959654580408, -30.83461841237459], &quot;geometry&quot;: {&quot;coordinates&quot;: [[[147.09959654580408, -31.04461841237459], [147.30959654580408, -31.04461841237459], [147.30959654580408, -30.83461841237459], [147.09959654580408, -30.83461841237459], [147.09959654580408, -31.04461841237459]]], &quot;type&quot;: &quot;Polygon&quot;}, &quot;id&quot;: &quot;3&quot;, &quot;properties&quot;: {&quot;aoi_code&quot;: &quot;AOI01&quot;, &quot;cloud_cover&quot;: 1.96, &quot;id&quot;: &quot;2021-08-04&quot;, &quot;index&quot;: 6, &quot;percentage_valid_pixels&quot;: 0.5215987902079016, &quot;source&quot;: &quot;landsat&quot;}, &quot;type&quot;: &quot;Feature&quot;}, {&quot;bbox&quot;: [147.09959654580408, -31.244618412374592, 147.30959654580408, -31.03461841237459], &quot;geometry&quot;: {&quot;coordinates&quot;: [[[147.09959654580408, -31.244618412374592], [147.30959654580408, -31.244618412374592], [147.30959654580408, -31.03461841237459], [147.09959654580408, -31.03461841237459], [147.09959654580408, -31.244618412374592]]], &quot;type&quot;: &quot;Polygon&quot;}, &quot;id&quot;: &quot;4&quot;, &quot;properties&quot;: {&quot;aoi_code&quot;: &quot;AOI01&quot;, &quot;cloud_cover&quot;: 40.112, &quot;id&quot;: &quot;2021-08-05&quot;, &quot;index&quot;: 1, &quot;percentage_valid_pixels&quot;: 1.0, &quot;source&quot;: &quot;s2&quot;}, &quot;type&quot;: &quot;Feature&quot;}, {&quot;bbox&quot;: [147.09959654580408, -31.04461841237459, 147.30959654580408, -30.83461841237459], &quot;geometry&quot;: {&quot;coordinates&quot;: [[[147.09959654580408, -31.04461841237459], [147.30959654580408, -31.04461841237459], [147.30959654580408, -30.83461841237459], [147.09959654580408, -30.83461841237459], [147.09959654580408, -31.04461841237459]]], &quot;type&quot;: &quot;Polygon&quot;}, &quot;id&quot;: &quot;5&quot;, &quot;properties&quot;: {&quot;aoi_code&quot;: &quot;AOI01&quot;, &quot;cloud_cover&quot;: 40.112, &quot;id&quot;: &quot;2021-08-05&quot;, &quot;index&quot;: 14, &quot;percentage_valid_pixels&quot;: 1.0, &quot;source&quot;: &quot;s2&quot;}, &quot;type&quot;: &quot;Feature&quot;}, {&quot;bbox&quot;: [147.09959654580408, -31.244618412374592, 147.30959654580408, -31.03461841237459], &quot;geometry&quot;: {&quot;coordinates&quot;: [[[147.09959654580408, -31.244618412374592], [147.30959654580408, -31.244618412374592], [147.30959654580408, -31.03461841237459], [147.09959654580408, -31.03461841237459], [147.09959654580408, -31.244618412374592]]], &quot;type&quot;: &quot;Polygon&quot;}, &quot;id&quot;: &quot;6&quot;, &quot;properties&quot;: {&quot;aoi_code&quot;: &quot;AOI01&quot;, &quot;cloud_cover&quot;: 2.0378, &quot;id&quot;: &quot;2021-08-08&quot;, &quot;index&quot;: 2, &quot;percentage_valid_pixels&quot;: 1.0, &quot;source&quot;: &quot;s2&quot;}, &quot;type&quot;: &quot;Feature&quot;}, {&quot;bbox&quot;: [147.09959654580408, -31.04461841237459, 147.30959654580408, -30.83461841237459], &quot;geometry&quot;: {&quot;coordinates&quot;: [[[147.09959654580408, -31.04461841237459], [147.30959654580408, -31.04461841237459], [147.30959654580408, -30.83461841237459], [147.09959654580408, -30.83461841237459], [147.09959654580408, -31.04461841237459]]], &quot;type&quot;: &quot;Polygon&quot;}, &quot;id&quot;: &quot;7&quot;, &quot;properties&quot;: {&quot;aoi_code&quot;: &quot;AOI01&quot;, &quot;cloud_cover&quot;: 2.0378, &quot;id&quot;: &quot;2021-08-08&quot;, &quot;index&quot;: 15, &quot;percentage_valid_pixels&quot;: 1.0, &quot;source&quot;: &quot;s2&quot;}, &quot;type&quot;: &quot;Feature&quot;}, {&quot;bbox&quot;: [147.09959654580408, -31.244618412374592, 147.30959654580408, -31.03461841237459], &quot;geometry&quot;: {&quot;coordinates&quot;: [[[147.09959654580408, -31.244618412374592], [147.30959654580408, -31.244618412374592], [147.30959654580408, -31.03461841237459], [147.09959654580408, -31.03461841237459], [147.09959654580408, -31.244618412374592]]], &quot;type&quot;: &quot;Polygon&quot;}, &quot;id&quot;: &quot;8&quot;, &quot;properties&quot;: {&quot;aoi_code&quot;: &quot;AOI01&quot;, &quot;cloud_cover&quot;: 0.0, &quot;id&quot;: &quot;2021-08-10&quot;, &quot;index&quot;: 3, &quot;percentage_valid_pixels&quot;: 1.0, &quot;source&quot;: &quot;s2&quot;}, &quot;type&quot;: &quot;Feature&quot;}, {&quot;bbox&quot;: [147.09959654580408, -31.04461841237459, 147.30959654580408, -30.83461841237459], &quot;geometry&quot;: {&quot;coordinates&quot;: [[[147.09959654580408, -31.04461841237459], [147.30959654580408, -31.04461841237459], [147.30959654580408, -30.83461841237459], [147.09959654580408, -30.83461841237459], [147.09959654580408, -31.04461841237459]]], &quot;type&quot;: &quot;Polygon&quot;}, &quot;id&quot;: &quot;9&quot;, &quot;properties&quot;: {&quot;aoi_code&quot;: &quot;AOI01&quot;, &quot;cloud_cover&quot;: 0.0, &quot;id&quot;: &quot;2021-08-10&quot;, &quot;index&quot;: 16, &quot;percentage_valid_pixels&quot;: 1.0, &quot;source&quot;: &quot;s2&quot;}, &quot;type&quot;: &quot;Feature&quot;}, {&quot;bbox&quot;: [147.09959654580408, -31.244618412374592, 147.30959654580408, -31.03461841237459], &quot;geometry&quot;: {&quot;coordinates&quot;: [[[147.09959654580408, -31.244618412374592], [147.30959654580408, -31.244618412374592], [147.30959654580408, -31.03461841237459], [147.09959654580408, -31.03461841237459], [147.09959654580408, -31.244618412374592]]], &quot;type&quot;: &quot;Polygon&quot;}, &quot;id&quot;: &quot;10&quot;, &quot;properties&quot;: {&quot;aoi_code&quot;: &quot;AOI01&quot;, &quot;cloud_cover&quot;: 0.02, &quot;id&quot;: &quot;2021-08-13&quot;, &quot;index&quot;: 0, &quot;percentage_valid_pixels&quot;: 1.0, &quot;source&quot;: &quot;landsat&quot;}, &quot;type&quot;: &quot;Feature&quot;}, {&quot;bbox&quot;: [147.09959654580408, -31.04461841237459, 147.30959654580408, -30.83461841237459], &quot;geometry&quot;: {&quot;coordinates&quot;: [[[147.09959654580408, -31.04461841237459], [147.30959654580408, -31.04461841237459], [147.30959654580408, -30.83461841237459], [147.09959654580408, -30.83461841237459], [147.09959654580408, -31.04461841237459]]], &quot;type&quot;: &quot;Polygon&quot;}, &quot;id&quot;: &quot;11&quot;, &quot;properties&quot;: {&quot;aoi_code&quot;: &quot;AOI01&quot;, &quot;cloud_cover&quot;: 0.02, &quot;id&quot;: &quot;2021-08-13&quot;, &quot;index&quot;: 4, &quot;percentage_valid_pixels&quot;: 1.0, &quot;source&quot;: &quot;landsat&quot;}, &quot;type&quot;: &quot;Feature&quot;}, {&quot;bbox&quot;: [147.09959654580408, -31.244618412374592, 147.30959654580408, -31.03461841237459], &quot;geometry&quot;: {&quot;coordinates&quot;: [[[147.09959654580408, -31.244618412374592], [147.30959654580408, -31.244618412374592], [147.30959654580408, -31.03461841237459], [147.09959654580408, -31.03461841237459], [147.09959654580408, -31.244618412374592]]], &quot;type&quot;: &quot;Polygon&quot;}, &quot;id&quot;: &quot;12&quot;, &quot;properties&quot;: {&quot;aoi_code&quot;: &quot;AOI01&quot;, &quot;cloud_cover&quot;: 0.0281, &quot;id&quot;: &quot;2021-08-13&quot;, &quot;index&quot;: 4, &quot;percentage_valid_pixels&quot;: 1.0, &quot;source&quot;: &quot;s2&quot;}, &quot;type&quot;: &quot;Feature&quot;}, {&quot;bbox&quot;: [147.09959654580408, -31.04461841237459, 147.30959654580408, -30.83461841237459], &quot;geometry&quot;: {&quot;coordinates&quot;: [[[147.09959654580408, -31.04461841237459], [147.30959654580408, -31.04461841237459], [147.30959654580408, -30.83461841237459], [147.09959654580408, -30.83461841237459], [147.09959654580408, -31.04461841237459]]], &quot;type&quot;: &quot;Polygon&quot;}, &quot;id&quot;: &quot;13&quot;, &quot;properties&quot;: {&quot;aoi_code&quot;: &quot;AOI01&quot;, &quot;cloud_cover&quot;: 0.0281, &quot;id&quot;: &quot;2021-08-13&quot;, &quot;index&quot;: 17, &quot;percentage_valid_pixels&quot;: 1.0, &quot;source&quot;: &quot;s2&quot;}, &quot;type&quot;: &quot;Feature&quot;}, {&quot;bbox&quot;: [147.09959654580408, -31.244618412374592, 147.30959654580408, -31.03461841237459], &quot;geometry&quot;: {&quot;coordinates&quot;: [[[147.09959654580408, -31.244618412374592], [147.30959654580408, -31.244618412374592], [147.30959654580408, -31.03461841237459], [147.09959654580408, -31.03461841237459], [147.09959654580408, -31.244618412374592]]], &quot;type&quot;: &quot;Polygon&quot;}, &quot;id&quot;: &quot;14&quot;, &quot;properties&quot;: {&quot;aoi_code&quot;: &quot;AOI01&quot;, &quot;cloud_cover&quot;: 5.4465, &quot;id&quot;: &quot;2021-08-15&quot;, &quot;index&quot;: 5, &quot;percentage_valid_pixels&quot;: 1.0, &quot;source&quot;: &quot;s2&quot;}, &quot;type&quot;: &quot;Feature&quot;}, {&quot;bbox&quot;: [147.09959654580408, -31.04461841237459, 147.30959654580408, -30.83461841237459], &quot;geometry&quot;: {&quot;coordinates&quot;: [[[147.09959654580408, -31.04461841237459], [147.30959654580408, -31.04461841237459], [147.30959654580408, -30.83461841237459], [147.09959654580408, -30.83461841237459], [147.09959654580408, -31.04461841237459]]], &quot;type&quot;: &quot;Polygon&quot;}, &quot;id&quot;: &quot;15&quot;, &quot;properties&quot;: {&quot;aoi_code&quot;: &quot;AOI01&quot;, &quot;cloud_cover&quot;: 5.4465, &quot;id&quot;: &quot;2021-08-15&quot;, &quot;index&quot;: 18, &quot;percentage_valid_pixels&quot;: 1.0, &quot;source&quot;: &quot;s2&quot;}, &quot;type&quot;: &quot;Feature&quot;}, {&quot;bbox&quot;: [147.09959654580408, -31.244618412374592, 147.30959654580408, -31.03461841237459], &quot;geometry&quot;: {&quot;coordinates&quot;: [[[147.09959654580408, -31.244618412374592], [147.30959654580408, -31.244618412374592], [147.30959654580408, -31.03461841237459], [147.09959654580408, -31.03461841237459], [147.09959654580408, -31.244618412374592]]], &quot;type&quot;: &quot;Polygon&quot;}, &quot;id&quot;: &quot;16&quot;, &quot;properties&quot;: {&quot;aoi_code&quot;: &quot;AOI01&quot;, &quot;cloud_cover&quot;: 0.2876, &quot;id&quot;: &quot;2021-08-18&quot;, &quot;index&quot;: 6, &quot;percentage_valid_pixels&quot;: 1.0, &quot;source&quot;: &quot;s2&quot;}, &quot;type&quot;: &quot;Feature&quot;}, {&quot;bbox&quot;: [147.09959654580408, -31.04461841237459, 147.30959654580408, -30.83461841237459], &quot;geometry&quot;: {&quot;coordinates&quot;: [[[147.09959654580408, -31.04461841237459], [147.30959654580408, -31.04461841237459], [147.30959654580408, -30.83461841237459], [147.09959654580408, -30.83461841237459], [147.09959654580408, -31.04461841237459]]], &quot;type&quot;: &quot;Polygon&quot;}, &quot;id&quot;: &quot;17&quot;, &quot;properties&quot;: {&quot;aoi_code&quot;: &quot;AOI01&quot;, &quot;cloud_cover&quot;: 0.2876, &quot;id&quot;: &quot;2021-08-18&quot;, &quot;index&quot;: 19, &quot;percentage_valid_pixels&quot;: 1.0, &quot;source&quot;: &quot;s2&quot;}, &quot;type&quot;: &quot;Feature&quot;}, {&quot;bbox&quot;: [147.09959654580408, -31.244618412374592, 147.30959654580408, -31.03461841237459], &quot;geometry&quot;: {&quot;coordinates&quot;: [[[147.09959654580408, -31.244618412374592], [147.30959654580408, -31.244618412374592], [147.30959654580408, -31.03461841237459], [147.09959654580408, -31.03461841237459], [147.09959654580408, -31.244618412374592]]], &quot;type&quot;: &quot;Polygon&quot;}, &quot;id&quot;: &quot;18&quot;, &quot;properties&quot;: {&quot;aoi_code&quot;: &quot;AOI01&quot;, &quot;cloud_cover&quot;: 0.01, &quot;id&quot;: &quot;2021-08-20&quot;, &quot;index&quot;: 3, &quot;percentage_valid_pixels&quot;: 0.2761283403702215, &quot;source&quot;: &quot;landsat&quot;}, &quot;type&quot;: &quot;Feature&quot;}, {&quot;bbox&quot;: [147.09959654580408, -31.04461841237459, 147.30959654580408, -30.83461841237459], &quot;geometry&quot;: {&quot;coordinates&quot;: [[[147.09959654580408, -31.04461841237459], [147.30959654580408, -31.04461841237459], [147.30959654580408, -30.83461841237459], [147.09959654580408, -30.83461841237459], [147.09959654580408, -31.04461841237459]]], &quot;type&quot;: &quot;Polygon&quot;}, &quot;id&quot;: &quot;19&quot;, &quot;properties&quot;: {&quot;aoi_code&quot;: &quot;AOI01&quot;, &quot;cloud_cover&quot;: 0.01, &quot;id&quot;: &quot;2021-08-20&quot;, &quot;index&quot;: 7, &quot;percentage_valid_pixels&quot;: 0.518509723511732, &quot;source&quot;: &quot;landsat&quot;}, &quot;type&quot;: &quot;Feature&quot;}, {&quot;bbox&quot;: [147.09959654580408, -31.244618412374592, 147.30959654580408, -31.03461841237459], &quot;geometry&quot;: {&quot;coordinates&quot;: [[[147.09959654580408, -31.244618412374592], [147.30959654580408, -31.244618412374592], [147.30959654580408, -31.03461841237459], [147.09959654580408, -31.03461841237459], [147.09959654580408, -31.244618412374592]]], &quot;type&quot;: &quot;Polygon&quot;}, &quot;id&quot;: &quot;20&quot;, &quot;properties&quot;: {&quot;aoi_code&quot;: &quot;AOI01&quot;, &quot;cloud_cover&quot;: 0.6071, &quot;id&quot;: &quot;2021-08-20&quot;, &quot;index&quot;: 7, &quot;percentage_valid_pixels&quot;: 1.0, &quot;source&quot;: &quot;s2&quot;}, &quot;type&quot;: &quot;Feature&quot;}, {&quot;bbox&quot;: [147.09959654580408, -31.04461841237459, 147.30959654580408, -30.83461841237459], &quot;geometry&quot;: {&quot;coordinates&quot;: [[[147.09959654580408, -31.04461841237459], [147.30959654580408, -31.04461841237459], [147.30959654580408, -30.83461841237459], [147.09959654580408, -30.83461841237459], [147.09959654580408, -31.04461841237459]]], &quot;type&quot;: &quot;Polygon&quot;}, &quot;id&quot;: &quot;21&quot;, &quot;properties&quot;: {&quot;aoi_code&quot;: &quot;AOI01&quot;, &quot;cloud_cover&quot;: 0.6071, &quot;id&quot;: &quot;2021-08-20&quot;, &quot;index&quot;: 20, &quot;percentage_valid_pixels&quot;: 1.0, &quot;source&quot;: &quot;s2&quot;}, &quot;type&quot;: &quot;Feature&quot;}, {&quot;bbox&quot;: [147.09959654580408, -31.244618412374592, 147.30959654580408, -31.03461841237459], &quot;geometry&quot;: {&quot;coordinates&quot;: [[[147.09959654580408, -31.244618412374592], [147.30959654580408, -31.244618412374592], [147.30959654580408, -31.03461841237459], [147.09959654580408, -31.03461841237459], [147.09959654580408, -31.244618412374592]]], &quot;type&quot;: &quot;Polygon&quot;}, &quot;id&quot;: &quot;22&quot;, &quot;properties&quot;: {&quot;aoi_code&quot;: &quot;AOI01&quot;, &quot;cloud_cover&quot;: 33.5172, &quot;id&quot;: &quot;2021-08-23&quot;, &quot;index&quot;: 8, &quot;percentage_valid_pixels&quot;: 1.0, &quot;source&quot;: &quot;s2&quot;}, &quot;type&quot;: &quot;Feature&quot;}, {&quot;bbox&quot;: [147.09959654580408, -31.04461841237459, 147.30959654580408, -30.83461841237459], &quot;geometry&quot;: {&quot;coordinates&quot;: [[[147.09959654580408, -31.04461841237459], [147.30959654580408, -31.04461841237459], [147.30959654580408, -30.83461841237459], [147.09959654580408, -30.83461841237459], [147.09959654580408, -31.04461841237459]]], &quot;type&quot;: &quot;Polygon&quot;}, &quot;id&quot;: &quot;23&quot;, &quot;properties&quot;: {&quot;aoi_code&quot;: &quot;AOI01&quot;, &quot;cloud_cover&quot;: 33.5172, &quot;id&quot;: &quot;2021-08-23&quot;, &quot;index&quot;: 21, &quot;percentage_valid_pixels&quot;: 1.0, &quot;source&quot;: &quot;s2&quot;}, &quot;type&quot;: &quot;Feature&quot;}, {&quot;bbox&quot;: [147.09959654580408, -31.244618412374592, 147.30959654580408, -31.03461841237459], &quot;geometry&quot;: {&quot;coordinates&quot;: [[[147.09959654580408, -31.244618412374592], [147.30959654580408, -31.244618412374592], [147.30959654580408, -31.03461841237459], [147.09959654580408, -31.03461841237459], [147.09959654580408, -31.244618412374592]]], &quot;type&quot;: &quot;Polygon&quot;}, &quot;id&quot;: &quot;24&quot;, &quot;properties&quot;: {&quot;aoi_code&quot;: &quot;AOI01&quot;, &quot;cloud_cover&quot;: 0.1036, &quot;id&quot;: &quot;2021-08-25&quot;, &quot;index&quot;: 9, &quot;percentage_valid_pixels&quot;: 1.0, &quot;source&quot;: &quot;s2&quot;}, &quot;type&quot;: &quot;Feature&quot;}, {&quot;bbox&quot;: [147.09959654580408, -31.04461841237459, 147.30959654580408, -30.83461841237459], &quot;geometry&quot;: {&quot;coordinates&quot;: [[[147.09959654580408, -31.04461841237459], [147.30959654580408, -31.04461841237459], [147.30959654580408, -30.83461841237459], [147.09959654580408, -30.83461841237459], [147.09959654580408, -31.04461841237459]]], &quot;type&quot;: &quot;Polygon&quot;}, &quot;id&quot;: &quot;25&quot;, &quot;properties&quot;: {&quot;aoi_code&quot;: &quot;AOI01&quot;, &quot;cloud_cover&quot;: 0.1036, &quot;id&quot;: &quot;2021-08-25&quot;, &quot;index&quot;: 22, &quot;percentage_valid_pixels&quot;: 1.0, &quot;source&quot;: &quot;s2&quot;}, &quot;type&quot;: &quot;Feature&quot;}, {&quot;bbox&quot;: [147.09959654580408, -31.244618412374592, 147.30959654580408, -31.03461841237459], &quot;geometry&quot;: {&quot;coordinates&quot;: [[[147.09959654580408, -31.244618412374592], [147.30959654580408, -31.244618412374592], [147.30959654580408, -31.03461841237459], [147.09959654580408, -31.03461841237459], [147.09959654580408, -31.244618412374592]]], &quot;type&quot;: &quot;Polygon&quot;}, &quot;id&quot;: &quot;26&quot;, &quot;properties&quot;: {&quot;aoi_code&quot;: &quot;AOI01&quot;, &quot;cloud_cover&quot;: 0.0, &quot;id&quot;: &quot;2021-08-28&quot;, &quot;index&quot;: 10, &quot;percentage_valid_pixels&quot;: 1.0, &quot;source&quot;: &quot;s2&quot;}, &quot;type&quot;: &quot;Feature&quot;}, {&quot;bbox&quot;: [147.09959654580408, -31.04461841237459, 147.30959654580408, -30.83461841237459], &quot;geometry&quot;: {&quot;coordinates&quot;: [[[147.09959654580408, -31.04461841237459], [147.30959654580408, -31.04461841237459], [147.30959654580408, -30.83461841237459], [147.09959654580408, -30.83461841237459], [147.09959654580408, -31.04461841237459]]], &quot;type&quot;: &quot;Polygon&quot;}, &quot;id&quot;: &quot;27&quot;, &quot;properties&quot;: {&quot;aoi_code&quot;: &quot;AOI01&quot;, &quot;cloud_cover&quot;: 0.0, &quot;id&quot;: &quot;2021-08-28&quot;, &quot;index&quot;: 23, &quot;percentage_valid_pixels&quot;: 1.0, &quot;source&quot;: &quot;s2&quot;}, &quot;type&quot;: &quot;Feature&quot;}, {&quot;bbox&quot;: [147.09959654580408, -31.244618412374592, 147.30959654580408, -31.03461841237459], &quot;geometry&quot;: {&quot;coordinates&quot;: [[[147.09959654580408, -31.244618412374592], [147.30959654580408, -31.244618412374592], [147.30959654580408, -31.03461841237459], [147.09959654580408, -31.03461841237459], [147.09959654580408, -31.244618412374592]]], &quot;type&quot;: &quot;Polygon&quot;}, &quot;id&quot;: &quot;28&quot;, &quot;properties&quot;: {&quot;aoi_code&quot;: &quot;AOI01&quot;, &quot;cloud_cover&quot;: 14.17, &quot;id&quot;: &quot;2021-08-29&quot;, &quot;index&quot;: 1, &quot;percentage_valid_pixels&quot;: 1.0, &quot;source&quot;: &quot;landsat&quot;}, &quot;type&quot;: &quot;Feature&quot;}, {&quot;bbox&quot;: [147.09959654580408, -31.04461841237459, 147.30959654580408, -30.83461841237459], &quot;geometry&quot;: {&quot;coordinates&quot;: [[[147.09959654580408, -31.04461841237459], [147.30959654580408, -31.04461841237459], [147.30959654580408, -30.83461841237459], [147.09959654580408, -30.83461841237459], [147.09959654580408, -31.04461841237459]]], &quot;type&quot;: &quot;Polygon&quot;}, &quot;id&quot;: &quot;29&quot;, &quot;properties&quot;: {&quot;aoi_code&quot;: &quot;AOI01&quot;, &quot;cloud_cover&quot;: 14.17, &quot;id&quot;: &quot;2021-08-29&quot;, &quot;index&quot;: 5, &quot;percentage_valid_pixels&quot;: 1.0, &quot;source&quot;: &quot;landsat&quot;}, &quot;type&quot;: &quot;Feature&quot;}, {&quot;bbox&quot;: [147.09959654580408, -31.244618412374592, 147.30959654580408, -31.03461841237459], &quot;geometry&quot;: {&quot;coordinates&quot;: [[[147.09959654580408, -31.244618412374592], [147.30959654580408, -31.244618412374592], [147.30959654580408, -31.03461841237459], [147.09959654580408, -31.03461841237459], [147.09959654580408, -31.244618412374592]]], &quot;type&quot;: &quot;Polygon&quot;}, &quot;id&quot;: &quot;30&quot;, &quot;properties&quot;: {&quot;aoi_code&quot;: &quot;AOI01&quot;, &quot;cloud_cover&quot;: 97.7998, &quot;id&quot;: &quot;2021-08-30&quot;, &quot;index&quot;: 11, &quot;percentage_valid_pixels&quot;: 1.0, &quot;source&quot;: &quot;s2&quot;}, &quot;type&quot;: &quot;Feature&quot;}, {&quot;bbox&quot;: [147.09959654580408, -31.04461841237459, 147.30959654580408, -30.83461841237459], &quot;geometry&quot;: {&quot;coordinates&quot;: [[[147.09959654580408, -31.04461841237459], [147.30959654580408, -31.04461841237459], [147.30959654580408, -30.83461841237459], [147.09959654580408, -30.83461841237459], [147.09959654580408, -31.04461841237459]]], &quot;type&quot;: &quot;Polygon&quot;}, &quot;id&quot;: &quot;31&quot;, &quot;properties&quot;: {&quot;aoi_code&quot;: &quot;AOI01&quot;, &quot;cloud_cover&quot;: 97.7998, &quot;id&quot;: &quot;2021-08-30&quot;, &quot;index&quot;: 24, &quot;percentage_valid_pixels&quot;: 1.0, &quot;source&quot;: &quot;s2&quot;}, &quot;type&quot;: &quot;Feature&quot;}, {&quot;bbox&quot;: [147.09959654580408, -31.244618412374592, 147.30959654580408, -31.03461841237459], &quot;geometry&quot;: {&quot;coordinates&quot;: [[[147.09959654580408, -31.244618412374592], [147.30959654580408, -31.244618412374592], [147.30959654580408, -31.03461841237459], [147.09959654580408, -31.03461841237459], [147.09959654580408, -31.244618412374592]]], &quot;type&quot;: &quot;Polygon&quot;}, &quot;id&quot;: &quot;32&quot;, &quot;properties&quot;: {&quot;aoi_code&quot;: &quot;AOI01&quot;, &quot;cloud_cover&quot;: 0.0, &quot;id&quot;: &quot;2021-09-02&quot;, &quot;index&quot;: 12, &quot;percentage_valid_pixels&quot;: 1.0, &quot;source&quot;: &quot;s2&quot;}, &quot;type&quot;: &quot;Feature&quot;}, {&quot;bbox&quot;: [147.09959654580408, -31.04461841237459, 147.30959654580408, -30.83461841237459], &quot;geometry&quot;: {&quot;coordinates&quot;: [[[147.09959654580408, -31.04461841237459], [147.30959654580408, -31.04461841237459], [147.30959654580408, -30.83461841237459], [147.09959654580408, -30.83461841237459], [147.09959654580408, -31.04461841237459]]], &quot;type&quot;: &quot;Polygon&quot;}, &quot;id&quot;: &quot;33&quot;, &quot;properties&quot;: {&quot;aoi_code&quot;: &quot;AOI01&quot;, &quot;cloud_cover&quot;: 0.0, &quot;id&quot;: &quot;2021-09-02&quot;, &quot;index&quot;: 25, &quot;percentage_valid_pixels&quot;: 1.0, &quot;source&quot;: &quot;s2&quot;}, &quot;type&quot;: &quot;Feature&quot;}, {&quot;bbox&quot;: [147.4996031608572, -30.444605605264343, 147.7096031608572, -30.234605605264342], &quot;geometry&quot;: {&quot;coordinates&quot;: [[[147.4996031608572, -30.444605605264343], [147.7096031608572, -30.444605605264343], [147.7096031608572, -30.234605605264342], [147.4996031608572, -30.234605605264342], [147.4996031608572, -30.444605605264343]]], &quot;type&quot;: &quot;Polygon&quot;}, &quot;id&quot;: &quot;34&quot;, &quot;properties&quot;: {&quot;aoi_code&quot;: &quot;AOI02&quot;, &quot;cloud_cover&quot;: 0.0103, &quot;id&quot;: &quot;2021-08-03&quot;, &quot;index&quot;: 32, &quot;percentage_valid_pixels&quot;: 1.0, &quot;source&quot;: &quot;s2&quot;}, &quot;type&quot;: &quot;Feature&quot;}, {&quot;bbox&quot;: [147.4996031608572, -32.44460560526437, 147.7096031608572, -32.23460560526437], &quot;geometry&quot;: {&quot;coordinates&quot;: [[[147.4996031608572, -32.44460560526437], [147.7096031608572, -32.44460560526437], [147.7096031608572, -32.23460560526437], [147.4996031608572, -32.23460560526437], [147.4996031608572, -32.44460560526437]]], &quot;type&quot;: &quot;Polygon&quot;}, &quot;id&quot;: &quot;35&quot;, &quot;properties&quot;: {&quot;aoi_code&quot;: &quot;AOI02&quot;, &quot;cloud_cover&quot;: 43.652, &quot;id&quot;: &quot;2021-08-05&quot;, &quot;index&quot;: 26, &quot;percentage_valid_pixels&quot;: 1.0, &quot;source&quot;: &quot;s2&quot;}, &quot;type&quot;: &quot;Feature&quot;}, {&quot;bbox&quot;: [147.4996031608572, -30.444605605264343, 147.7096031608572, -30.234605605264342], &quot;geometry&quot;: {&quot;coordinates&quot;: [[[147.4996031608572, -30.444605605264343], [147.7096031608572, -30.444605605264343], [147.7096031608572, -30.234605605264342], [147.4996031608572, -30.234605605264342], [147.4996031608572, -30.444605605264343]]], &quot;type&quot;: &quot;Polygon&quot;}, &quot;id&quot;: &quot;36&quot;, &quot;properties&quot;: {&quot;aoi_code&quot;: &quot;AOI02&quot;, &quot;cloud_cover&quot;: 0.681, &quot;id&quot;: &quot;2021-08-05&quot;, &quot;index&quot;: 33, &quot;percentage_valid_pixels&quot;: 1.0, &quot;source&quot;: &quot;s2&quot;}, &quot;type&quot;: &quot;Feature&quot;}, {&quot;bbox&quot;: [147.4996031608572, -30.444605605264343, 147.7096031608572, -30.234605605264342], &quot;geometry&quot;: {&quot;coordinates&quot;: [[[147.4996031608572, -30.444605605264343], [147.7096031608572, -30.444605605264343], [147.7096031608572, -30.234605605264342], [147.4996031608572, -30.234605605264342], [147.4996031608572, -30.444605605264343]]], &quot;type&quot;: &quot;Polygon&quot;}, &quot;id&quot;: &quot;37&quot;, &quot;properties&quot;: {&quot;aoi_code&quot;: &quot;AOI02&quot;, &quot;cloud_cover&quot;: 0.0384, &quot;id&quot;: &quot;2021-08-08&quot;, &quot;index&quot;: 34, &quot;percentage_valid_pixels&quot;: 1.0, &quot;source&quot;: &quot;s2&quot;}, &quot;type&quot;: &quot;Feature&quot;}, {&quot;bbox&quot;: [147.4996031608572, -32.44460560526437, 147.7096031608572, -32.23460560526437], &quot;geometry&quot;: {&quot;coordinates&quot;: [[[147.4996031608572, -32.44460560526437], [147.7096031608572, -32.44460560526437], [147.7096031608572, -32.23460560526437], [147.4996031608572, -32.23460560526437], [147.4996031608572, -32.44460560526437]]], &quot;type&quot;: &quot;Polygon&quot;}, &quot;id&quot;: &quot;38&quot;, &quot;properties&quot;: {&quot;aoi_code&quot;: &quot;AOI02&quot;, &quot;cloud_cover&quot;: 0.0, &quot;id&quot;: &quot;2021-08-10&quot;, &quot;index&quot;: 27, &quot;percentage_valid_pixels&quot;: 1.0, &quot;source&quot;: &quot;s2&quot;}, &quot;type&quot;: &quot;Feature&quot;}, {&quot;bbox&quot;: [147.4996031608572, -30.444605605264343, 147.7096031608572, -30.234605605264342], &quot;geometry&quot;: {&quot;coordinates&quot;: [[[147.4996031608572, -30.444605605264343], [147.7096031608572, -30.444605605264343], [147.7096031608572, -30.234605605264342], [147.4996031608572, -30.234605605264342], [147.4996031608572, -30.444605605264343]]], &quot;type&quot;: &quot;Polygon&quot;}, &quot;id&quot;: &quot;39&quot;, &quot;properties&quot;: {&quot;aoi_code&quot;: &quot;AOI02&quot;, &quot;cloud_cover&quot;: 3.6523, &quot;id&quot;: &quot;2021-08-10&quot;, &quot;index&quot;: 35, &quot;percentage_valid_pixels&quot;: 1.0, &quot;source&quot;: &quot;s2&quot;}, &quot;type&quot;: &quot;Feature&quot;}, {&quot;bbox&quot;: [147.4996031608572, -32.44460560526437, 147.7096031608572, -32.23460560526437], &quot;geometry&quot;: {&quot;coordinates&quot;: [[[147.4996031608572, -32.44460560526437], [147.7096031608572, -32.44460560526437], [147.7096031608572, -32.23460560526437], [147.4996031608572, -32.23460560526437], [147.4996031608572, -32.44460560526437]]], &quot;type&quot;: &quot;Polygon&quot;}, &quot;id&quot;: &quot;40&quot;, &quot;properties&quot;: {&quot;aoi_code&quot;: &quot;AOI02&quot;, &quot;cloud_cover&quot;: 2.36, &quot;id&quot;: &quot;2021-08-13&quot;, &quot;index&quot;: 8, &quot;percentage_valid_pixels&quot;: 1.0, &quot;source&quot;: &quot;landsat&quot;}, &quot;type&quot;: &quot;Feature&quot;}, {&quot;bbox&quot;: [147.4996031608572, -30.444605605264343, 147.7096031608572, -30.234605605264342], &quot;geometry&quot;: {&quot;coordinates&quot;: [[[147.4996031608572, -30.444605605264343], [147.7096031608572, -30.444605605264343], [147.7096031608572, -30.234605605264342], [147.4996031608572, -30.234605605264342], [147.4996031608572, -30.444605605264343]]], &quot;type&quot;: &quot;Polygon&quot;}, &quot;id&quot;: &quot;41&quot;, &quot;properties&quot;: {&quot;aoi_code&quot;: &quot;AOI02&quot;, &quot;cloud_cover&quot;: 0.02, &quot;id&quot;: &quot;2021-08-13&quot;, &quot;index&quot;: 10, &quot;percentage_valid_pixels&quot;: 1.0, &quot;source&quot;: &quot;landsat&quot;}, &quot;type&quot;: &quot;Feature&quot;}, {&quot;bbox&quot;: [147.4996031608572, -30.444605605264343, 147.7096031608572, -30.234605605264342], &quot;geometry&quot;: {&quot;coordinates&quot;: [[[147.4996031608572, -30.444605605264343], [147.7096031608572, -30.444605605264343], [147.7096031608572, -30.234605605264342], [147.4996031608572, -30.234605605264342], [147.4996031608572, -30.444605605264343]]], &quot;type&quot;: &quot;Polygon&quot;}, &quot;id&quot;: &quot;42&quot;, &quot;properties&quot;: {&quot;aoi_code&quot;: &quot;AOI02&quot;, &quot;cloud_cover&quot;: 0.0, &quot;id&quot;: &quot;2021-08-13&quot;, &quot;index&quot;: 36, &quot;percentage_valid_pixels&quot;: 1.0, &quot;source&quot;: &quot;s2&quot;}, &quot;type&quot;: &quot;Feature&quot;}, {&quot;bbox&quot;: [147.4996031608572, -32.44460560526437, 147.7096031608572, -32.23460560526437], &quot;geometry&quot;: {&quot;coordinates&quot;: [[[147.4996031608572, -32.44460560526437], [147.7096031608572, -32.44460560526437], [147.7096031608572, -32.23460560526437], [147.4996031608572, -32.23460560526437], [147.4996031608572, -32.44460560526437]]], &quot;type&quot;: &quot;Polygon&quot;}, &quot;id&quot;: &quot;43&quot;, &quot;properties&quot;: {&quot;aoi_code&quot;: &quot;AOI02&quot;, &quot;cloud_cover&quot;: 0.0, &quot;id&quot;: &quot;2021-08-15&quot;, &quot;index&quot;: 28, &quot;percentage_valid_pixels&quot;: 1.0, &quot;source&quot;: &quot;s2&quot;}, &quot;type&quot;: &quot;Feature&quot;}, {&quot;bbox&quot;: [147.4996031608572, -30.444605605264343, 147.7096031608572, -30.234605605264342], &quot;geometry&quot;: {&quot;coordinates&quot;: [[[147.4996031608572, -30.444605605264343], [147.7096031608572, -30.444605605264343], [147.7096031608572, -30.234605605264342], [147.4996031608572, -30.234605605264342], [147.4996031608572, -30.444605605264343]]], &quot;type&quot;: &quot;Polygon&quot;}, &quot;id&quot;: &quot;44&quot;, &quot;properties&quot;: {&quot;aoi_code&quot;: &quot;AOI02&quot;, &quot;cloud_cover&quot;: 5.092, &quot;id&quot;: &quot;2021-08-15&quot;, &quot;index&quot;: 37, &quot;percentage_valid_pixels&quot;: 1.0, &quot;source&quot;: &quot;s2&quot;}, &quot;type&quot;: &quot;Feature&quot;}, {&quot;bbox&quot;: [147.4996031608572, -30.444605605264343, 147.7096031608572, -30.234605605264342], &quot;geometry&quot;: {&quot;coordinates&quot;: [[[147.4996031608572, -30.444605605264343], [147.7096031608572, -30.444605605264343], [147.7096031608572, -30.234605605264342], [147.4996031608572, -30.234605605264342], [147.4996031608572, -30.444605605264343]]], &quot;type&quot;: &quot;Polygon&quot;}, &quot;id&quot;: &quot;45&quot;, &quot;properties&quot;: {&quot;aoi_code&quot;: &quot;AOI02&quot;, &quot;cloud_cover&quot;: 0.0, &quot;id&quot;: &quot;2021-08-18&quot;, &quot;index&quot;: 38, &quot;percentage_valid_pixels&quot;: 1.0, &quot;source&quot;: &quot;s2&quot;}, &quot;type&quot;: &quot;Feature&quot;}, {&quot;bbox&quot;: [147.4996031608572, -32.44460560526437, 147.7096031608572, -32.23460560526437], &quot;geometry&quot;: {&quot;coordinates&quot;: [[[147.4996031608572, -32.44460560526437], [147.7096031608572, -32.44460560526437], [147.7096031608572, -32.23460560526437], [147.4996031608572, -32.23460560526437], [147.4996031608572, -32.44460560526437]]], &quot;type&quot;: &quot;Polygon&quot;}, &quot;id&quot;: &quot;46&quot;, &quot;properties&quot;: {&quot;aoi_code&quot;: &quot;AOI02&quot;, &quot;cloud_cover&quot;: 0.0, &quot;id&quot;: &quot;2021-08-20&quot;, &quot;index&quot;: 29, &quot;percentage_valid_pixels&quot;: 1.0, &quot;source&quot;: &quot;s2&quot;}, &quot;type&quot;: &quot;Feature&quot;}, {&quot;bbox&quot;: [147.4996031608572, -30.444605605264343, 147.7096031608572, -30.234605605264342], &quot;geometry&quot;: {&quot;coordinates&quot;: [[[147.4996031608572, -30.444605605264343], [147.7096031608572, -30.444605605264343], [147.7096031608572, -30.234605605264342], [147.4996031608572, -30.234605605264342], [147.4996031608572, -30.444605605264343]]], &quot;type&quot;: &quot;Polygon&quot;}, &quot;id&quot;: &quot;47&quot;, &quot;properties&quot;: {&quot;aoi_code&quot;: &quot;AOI02&quot;, &quot;cloud_cover&quot;: 0.2147, &quot;id&quot;: &quot;2021-08-20&quot;, &quot;index&quot;: 39, &quot;percentage_valid_pixels&quot;: 1.0, &quot;source&quot;: &quot;s2&quot;}, &quot;type&quot;: &quot;Feature&quot;}, {&quot;bbox&quot;: [147.4996031608572, -30.444605605264343, 147.7096031608572, -30.234605605264342], &quot;geometry&quot;: {&quot;coordinates&quot;: [[[147.4996031608572, -30.444605605264343], [147.7096031608572, -30.444605605264343], [147.7096031608572, -30.234605605264342], [147.4996031608572, -30.234605605264342], [147.4996031608572, -30.444605605264343]]], &quot;type&quot;: &quot;Polygon&quot;}, &quot;id&quot;: &quot;48&quot;, &quot;properties&quot;: {&quot;aoi_code&quot;: &quot;AOI02&quot;, &quot;cloud_cover&quot;: 46.9633, &quot;id&quot;: &quot;2021-08-23&quot;, &quot;index&quot;: 40, &quot;percentage_valid_pixels&quot;: 1.0, &quot;source&quot;: &quot;s2&quot;}, &quot;type&quot;: &quot;Feature&quot;}, {&quot;bbox&quot;: [147.4996031608572, -32.44460560526437, 147.7096031608572, -32.23460560526437], &quot;geometry&quot;: {&quot;coordinates&quot;: [[[147.4996031608572, -32.44460560526437], [147.7096031608572, -32.44460560526437], [147.7096031608572, -32.23460560526437], [147.4996031608572, -32.23460560526437], [147.4996031608572, -32.44460560526437]]], &quot;type&quot;: &quot;Polygon&quot;}, &quot;id&quot;: &quot;49&quot;, &quot;properties&quot;: {&quot;aoi_code&quot;: &quot;AOI02&quot;, &quot;cloud_cover&quot;: 0.1242, &quot;id&quot;: &quot;2021-08-25&quot;, &quot;index&quot;: 30, &quot;percentage_valid_pixels&quot;: 1.0, &quot;source&quot;: &quot;s2&quot;}, &quot;type&quot;: &quot;Feature&quot;}, {&quot;bbox&quot;: [147.4996031608572, -30.444605605264343, 147.7096031608572, -30.234605605264342], &quot;geometry&quot;: {&quot;coordinates&quot;: [[[147.4996031608572, -30.444605605264343], [147.7096031608572, -30.444605605264343], [147.7096031608572, -30.234605605264342], [147.4996031608572, -30.234605605264342], [147.4996031608572, -30.444605605264343]]], &quot;type&quot;: &quot;Polygon&quot;}, &quot;id&quot;: &quot;50&quot;, &quot;properties&quot;: {&quot;aoi_code&quot;: &quot;AOI02&quot;, &quot;cloud_cover&quot;: 0.0, &quot;id&quot;: &quot;2021-08-25&quot;, &quot;index&quot;: 41, &quot;percentage_valid_pixels&quot;: 1.0, &quot;source&quot;: &quot;s2&quot;}, &quot;type&quot;: &quot;Feature&quot;}, {&quot;bbox&quot;: [147.4996031608572, -30.444605605264343, 147.7096031608572, -30.234605605264342], &quot;geometry&quot;: {&quot;coordinates&quot;: [[[147.4996031608572, -30.444605605264343], [147.7096031608572, -30.444605605264343], [147.7096031608572, -30.234605605264342], [147.4996031608572, -30.234605605264342], [147.4996031608572, -30.444605605264343]]], &quot;type&quot;: &quot;Polygon&quot;}, &quot;id&quot;: &quot;51&quot;, &quot;properties&quot;: {&quot;aoi_code&quot;: &quot;AOI02&quot;, &quot;cloud_cover&quot;: 0.0, &quot;id&quot;: &quot;2021-08-28&quot;, &quot;index&quot;: 42, &quot;percentage_valid_pixels&quot;: 1.0, &quot;source&quot;: &quot;s2&quot;}, &quot;type&quot;: &quot;Feature&quot;}, {&quot;bbox&quot;: [147.4996031608572, -32.44460560526437, 147.7096031608572, -32.23460560526437], &quot;geometry&quot;: {&quot;coordinates&quot;: [[[147.4996031608572, -32.44460560526437], [147.7096031608572, -32.44460560526437], [147.7096031608572, -32.23460560526437], [147.4996031608572, -32.23460560526437], [147.4996031608572, -32.44460560526437]]], &quot;type&quot;: &quot;Polygon&quot;}, &quot;id&quot;: &quot;52&quot;, &quot;properties&quot;: {&quot;aoi_code&quot;: &quot;AOI02&quot;, &quot;cloud_cover&quot;: 56.97, &quot;id&quot;: &quot;2021-08-29&quot;, &quot;index&quot;: 9, &quot;percentage_valid_pixels&quot;: 1.0, &quot;source&quot;: &quot;landsat&quot;}, &quot;type&quot;: &quot;Feature&quot;}, {&quot;bbox&quot;: [147.4996031608572, -30.444605605264343, 147.7096031608572, -30.234605605264342], &quot;geometry&quot;: {&quot;coordinates&quot;: [[[147.4996031608572, -30.444605605264343], [147.7096031608572, -30.444605605264343], [147.7096031608572, -30.234605605264342], [147.4996031608572, -30.234605605264342], [147.4996031608572, -30.444605605264343]]], &quot;type&quot;: &quot;Polygon&quot;}, &quot;id&quot;: &quot;53&quot;, &quot;properties&quot;: {&quot;aoi_code&quot;: &quot;AOI02&quot;, &quot;cloud_cover&quot;: 14.17, &quot;id&quot;: &quot;2021-08-29&quot;, &quot;index&quot;: 11, &quot;percentage_valid_pixels&quot;: 1.0, &quot;source&quot;: &quot;landsat&quot;}, &quot;type&quot;: &quot;Feature&quot;}, {&quot;bbox&quot;: [147.4996031608572, -32.44460560526437, 147.7096031608572, -32.23460560526437], &quot;geometry&quot;: {&quot;coordinates&quot;: [[[147.4996031608572, -32.44460560526437], [147.7096031608572, -32.44460560526437], [147.7096031608572, -32.23460560526437], [147.4996031608572, -32.23460560526437], [147.4996031608572, -32.44460560526437]]], &quot;type&quot;: &quot;Polygon&quot;}, &quot;id&quot;: &quot;54&quot;, &quot;properties&quot;: {&quot;aoi_code&quot;: &quot;AOI02&quot;, &quot;cloud_cover&quot;: 99.8591, &quot;id&quot;: &quot;2021-08-30&quot;, &quot;index&quot;: 31, &quot;percentage_valid_pixels&quot;: 1.0, &quot;source&quot;: &quot;s2&quot;}, &quot;type&quot;: &quot;Feature&quot;}, {&quot;bbox&quot;: [147.4996031608572, -30.444605605264343, 147.7096031608572, -30.234605605264342], &quot;geometry&quot;: {&quot;coordinates&quot;: [[[147.4996031608572, -30.444605605264343], [147.7096031608572, -30.444605605264343], [147.7096031608572, -30.234605605264342], [147.4996031608572, -30.234605605264342], [147.4996031608572, -30.444605605264343]]], &quot;type&quot;: &quot;Polygon&quot;}, &quot;id&quot;: &quot;55&quot;, &quot;properties&quot;: {&quot;aoi_code&quot;: &quot;AOI02&quot;, &quot;cloud_cover&quot;: 33.2153, &quot;id&quot;: &quot;2021-08-30&quot;, &quot;index&quot;: 43, &quot;percentage_valid_pixels&quot;: 1.0, &quot;source&quot;: &quot;s2&quot;}, &quot;type&quot;: &quot;Feature&quot;}, {&quot;bbox&quot;: [147.4996031608572, -30.444605605264343, 147.7096031608572, -30.234605605264342], &quot;geometry&quot;: {&quot;coordinates&quot;: [[[147.4996031608572, -30.444605605264343], [147.7096031608572, -30.444605605264343], [147.7096031608572, -30.234605605264342], [147.4996031608572, -30.234605605264342], [147.4996031608572, -30.444605605264343]]], &quot;type&quot;: &quot;Polygon&quot;}, &quot;id&quot;: &quot;56&quot;, &quot;properties&quot;: {&quot;aoi_code&quot;: &quot;AOI02&quot;, &quot;cloud_cover&quot;: 0.0, &quot;id&quot;: &quot;2021-09-02&quot;, &quot;index&quot;: 44, &quot;percentage_valid_pixels&quot;: 1.0, &quot;source&quot;: &quot;s2&quot;}, &quot;type&quot;: &quot;Feature&quot;}, {&quot;bbox&quot;: [147.09959654580408, -30.844618412374587, 147.30959654580408, -30.634618412374586], &quot;geometry&quot;: {&quot;coordinates&quot;: [[[147.09959654580408, -30.844618412374587], [147.30959654580408, -30.844618412374587], [147.30959654580408, -30.634618412374586], [147.09959654580408, -30.634618412374586], [147.09959654580408, -30.844618412374587]]], &quot;type&quot;: &quot;Polygon&quot;}, &quot;id&quot;: &quot;57&quot;, &quot;properties&quot;: {&quot;aoi_code&quot;: &quot;AOI0289&quot;, &quot;cloud_cover&quot;: 3.0108, &quot;id&quot;: &quot;2021-08-03&quot;, &quot;index&quot;: 45, &quot;percentage_valid_pixels&quot;: 1.0, &quot;source&quot;: &quot;s2&quot;}, &quot;type&quot;: &quot;Feature&quot;}, {&quot;bbox&quot;: [147.09959654580408, -30.844618412374587, 147.30959654580408, -30.634618412374586], &quot;geometry&quot;: {&quot;coordinates&quot;: [[[147.09959654580408, -30.844618412374587], [147.30959654580408, -30.844618412374587], [147.30959654580408, -30.634618412374586], [147.09959654580408, -30.634618412374586], [147.09959654580408, -30.844618412374587]]], &quot;type&quot;: &quot;Polygon&quot;}, &quot;id&quot;: &quot;58&quot;, &quot;properties&quot;: {&quot;aoi_code&quot;: &quot;AOI0289&quot;, &quot;cloud_cover&quot;: 1.96, &quot;id&quot;: &quot;2021-08-04&quot;, &quot;index&quot;: 14, &quot;percentage_valid_pixels&quot;: 0.763331287697974, &quot;source&quot;: &quot;landsat&quot;}, &quot;type&quot;: &quot;Feature&quot;}, {&quot;bbox&quot;: [147.09959654580408, -30.844618412374587, 147.30959654580408, -30.634618412374586], &quot;geometry&quot;: {&quot;coordinates&quot;: [[[147.09959654580408, -30.844618412374587], [147.30959654580408, -30.844618412374587], [147.30959654580408, -30.634618412374586], [147.09959654580408, -30.634618412374586], [147.09959654580408, -30.844618412374587]]], &quot;type&quot;: &quot;Polygon&quot;}, &quot;id&quot;: &quot;59&quot;, &quot;properties&quot;: {&quot;aoi_code&quot;: &quot;AOI0289&quot;, &quot;cloud_cover&quot;: 40.112, &quot;id&quot;: &quot;2021-08-05&quot;, &quot;index&quot;: 46, &quot;percentage_valid_pixels&quot;: 1.0, &quot;source&quot;: &quot;s2&quot;}, &quot;type&quot;: &quot;Feature&quot;}, {&quot;bbox&quot;: [147.09959654580408, -30.844618412374587, 147.30959654580408, -30.634618412374586], &quot;geometry&quot;: {&quot;coordinates&quot;: [[[147.09959654580408, -30.844618412374587], [147.30959654580408, -30.844618412374587], [147.30959654580408, -30.634618412374586], [147.09959654580408, -30.634618412374586], [147.09959654580408, -30.844618412374587]]], &quot;type&quot;: &quot;Polygon&quot;}, &quot;id&quot;: &quot;60&quot;, &quot;properties&quot;: {&quot;aoi_code&quot;: &quot;AOI0289&quot;, &quot;cloud_cover&quot;: 2.0378, &quot;id&quot;: &quot;2021-08-08&quot;, &quot;index&quot;: 47, &quot;percentage_valid_pixels&quot;: 1.0, &quot;source&quot;: &quot;s2&quot;}, &quot;type&quot;: &quot;Feature&quot;}, {&quot;bbox&quot;: [147.09959654580408, -30.844618412374587, 147.30959654580408, -30.634618412374586], &quot;geometry&quot;: {&quot;coordinates&quot;: [[[147.09959654580408, -30.844618412374587], [147.30959654580408, -30.844618412374587], [147.30959654580408, -30.634618412374586], [147.09959654580408, -30.634618412374586], [147.09959654580408, -30.844618412374587]]], &quot;type&quot;: &quot;Polygon&quot;}, &quot;id&quot;: &quot;61&quot;, &quot;properties&quot;: {&quot;aoi_code&quot;: &quot;AOI0289&quot;, &quot;cloud_cover&quot;: 0.0, &quot;id&quot;: &quot;2021-08-10&quot;, &quot;index&quot;: 48, &quot;percentage_valid_pixels&quot;: 1.0, &quot;source&quot;: &quot;s2&quot;}, &quot;type&quot;: &quot;Feature&quot;}, {&quot;bbox&quot;: [147.09959654580408, -30.844618412374587, 147.30959654580408, -30.634618412374586], &quot;geometry&quot;: {&quot;coordinates&quot;: [[[147.09959654580408, -30.844618412374587], [147.30959654580408, -30.844618412374587], [147.30959654580408, -30.634618412374586], [147.09959654580408, -30.634618412374586], [147.09959654580408, -30.844618412374587]]], &quot;type&quot;: &quot;Polygon&quot;}, &quot;id&quot;: &quot;62&quot;, &quot;properties&quot;: {&quot;aoi_code&quot;: &quot;AOI0289&quot;, &quot;cloud_cover&quot;: 0.02, &quot;id&quot;: &quot;2021-08-13&quot;, &quot;index&quot;: 12, &quot;percentage_valid_pixels&quot;: 1.0, &quot;source&quot;: &quot;landsat&quot;}, &quot;type&quot;: &quot;Feature&quot;}, {&quot;bbox&quot;: [147.09959654580408, -30.844618412374587, 147.30959654580408, -30.634618412374586], &quot;geometry&quot;: {&quot;coordinates&quot;: [[[147.09959654580408, -30.844618412374587], [147.30959654580408, -30.844618412374587], [147.30959654580408, -30.634618412374586], [147.09959654580408, -30.634618412374586], [147.09959654580408, -30.844618412374587]]], &quot;type&quot;: &quot;Polygon&quot;}, &quot;id&quot;: &quot;63&quot;, &quot;properties&quot;: {&quot;aoi_code&quot;: &quot;AOI0289&quot;, &quot;cloud_cover&quot;: 0.0281, &quot;id&quot;: &quot;2021-08-13&quot;, &quot;index&quot;: 49, &quot;percentage_valid_pixels&quot;: 1.0, &quot;source&quot;: &quot;s2&quot;}, &quot;type&quot;: &quot;Feature&quot;}, {&quot;bbox&quot;: [147.09959654580408, -30.844618412374587, 147.30959654580408, -30.634618412374586], &quot;geometry&quot;: {&quot;coordinates&quot;: [[[147.09959654580408, -30.844618412374587], [147.30959654580408, -30.844618412374587], [147.30959654580408, -30.634618412374586], [147.09959654580408, -30.634618412374586], [147.09959654580408, -30.844618412374587]]], &quot;type&quot;: &quot;Polygon&quot;}, &quot;id&quot;: &quot;64&quot;, &quot;properties&quot;: {&quot;aoi_code&quot;: &quot;AOI0289&quot;, &quot;cloud_cover&quot;: 5.4465, &quot;id&quot;: &quot;2021-08-15&quot;, &quot;index&quot;: 50, &quot;percentage_valid_pixels&quot;: 1.0, &quot;source&quot;: &quot;s2&quot;}, &quot;type&quot;: &quot;Feature&quot;}, {&quot;bbox&quot;: [147.09959654580408, -30.844618412374587, 147.30959654580408, -30.634618412374586], &quot;geometry&quot;: {&quot;coordinates&quot;: [[[147.09959654580408, -30.844618412374587], [147.30959654580408, -30.844618412374587], [147.30959654580408, -30.634618412374586], [147.09959654580408, -30.634618412374586], [147.09959654580408, -30.844618412374587]]], &quot;type&quot;: &quot;Polygon&quot;}, &quot;id&quot;: &quot;65&quot;, &quot;properties&quot;: {&quot;aoi_code&quot;: &quot;AOI0289&quot;, &quot;cloud_cover&quot;: 0.2876, &quot;id&quot;: &quot;2021-08-18&quot;, &quot;index&quot;: 51, &quot;percentage_valid_pixels&quot;: 1.0, &quot;source&quot;: &quot;s2&quot;}, &quot;type&quot;: &quot;Feature&quot;}, {&quot;bbox&quot;: [147.09959654580408, -30.844618412374587, 147.30959654580408, -30.634618412374586], &quot;geometry&quot;: {&quot;coordinates&quot;: [[[147.09959654580408, -30.844618412374587], [147.30959654580408, -30.844618412374587], [147.30959654580408, -30.634618412374586], [147.09959654580408, -30.634618412374586], [147.09959654580408, -30.844618412374587]]], &quot;type&quot;: &quot;Polygon&quot;}, &quot;id&quot;: &quot;66&quot;, &quot;properties&quot;: {&quot;aoi_code&quot;: &quot;AOI0289&quot;, &quot;cloud_cover&quot;: 0.01, &quot;id&quot;: &quot;2021-08-20&quot;, &quot;index&quot;: 15, &quot;percentage_valid_pixels&quot;: 0.760160884429572, &quot;source&quot;: &quot;landsat&quot;}, &quot;type&quot;: &quot;Feature&quot;}, {&quot;bbox&quot;: [147.09959654580408, -30.844618412374587, 147.30959654580408, -30.634618412374586], &quot;geometry&quot;: {&quot;coordinates&quot;: [[[147.09959654580408, -30.844618412374587], [147.30959654580408, -30.844618412374587], [147.30959654580408, -30.634618412374586], [147.09959654580408, -30.634618412374586], [147.09959654580408, -30.844618412374587]]], &quot;type&quot;: &quot;Polygon&quot;}, &quot;id&quot;: &quot;67&quot;, &quot;properties&quot;: {&quot;aoi_code&quot;: &quot;AOI0289&quot;, &quot;cloud_cover&quot;: 0.6071, &quot;id&quot;: &quot;2021-08-20&quot;, &quot;index&quot;: 52, &quot;percentage_valid_pixels&quot;: 1.0, &quot;source&quot;: &quot;s2&quot;}, &quot;type&quot;: &quot;Feature&quot;}, {&quot;bbox&quot;: [147.09959654580408, -30.844618412374587, 147.30959654580408, -30.634618412374586], &quot;geometry&quot;: {&quot;coordinates&quot;: [[[147.09959654580408, -30.844618412374587], [147.30959654580408, -30.844618412374587], [147.30959654580408, -30.634618412374586], [147.09959654580408, -30.634618412374586], [147.09959654580408, -30.844618412374587]]], &quot;type&quot;: &quot;Polygon&quot;}, &quot;id&quot;: &quot;68&quot;, &quot;properties&quot;: {&quot;aoi_code&quot;: &quot;AOI0289&quot;, &quot;cloud_cover&quot;: 33.5172, &quot;id&quot;: &quot;2021-08-23&quot;, &quot;index&quot;: 53, &quot;percentage_valid_pixels&quot;: 1.0, &quot;source&quot;: &quot;s2&quot;}, &quot;type&quot;: &quot;Feature&quot;}, {&quot;bbox&quot;: [147.09959654580408, -30.844618412374587, 147.30959654580408, -30.634618412374586], &quot;geometry&quot;: {&quot;coordinates&quot;: [[[147.09959654580408, -30.844618412374587], [147.30959654580408, -30.844618412374587], [147.30959654580408, -30.634618412374586], [147.09959654580408, -30.634618412374586], [147.09959654580408, -30.844618412374587]]], &quot;type&quot;: &quot;Polygon&quot;}, &quot;id&quot;: &quot;69&quot;, &quot;properties&quot;: {&quot;aoi_code&quot;: &quot;AOI0289&quot;, &quot;cloud_cover&quot;: 0.1036, &quot;id&quot;: &quot;2021-08-25&quot;, &quot;index&quot;: 54, &quot;percentage_valid_pixels&quot;: 1.0, &quot;source&quot;: &quot;s2&quot;}, &quot;type&quot;: &quot;Feature&quot;}, {&quot;bbox&quot;: [147.09959654580408, -30.844618412374587, 147.30959654580408, -30.634618412374586], &quot;geometry&quot;: {&quot;coordinates&quot;: [[[147.09959654580408, -30.844618412374587], [147.30959654580408, -30.844618412374587], [147.30959654580408, -30.634618412374586], [147.09959654580408, -30.634618412374586], [147.09959654580408, -30.844618412374587]]], &quot;type&quot;: &quot;Polygon&quot;}, &quot;id&quot;: &quot;70&quot;, &quot;properties&quot;: {&quot;aoi_code&quot;: &quot;AOI0289&quot;, &quot;cloud_cover&quot;: 0.0, &quot;id&quot;: &quot;2021-08-28&quot;, &quot;index&quot;: 55, &quot;percentage_valid_pixels&quot;: 1.0, &quot;source&quot;: &quot;s2&quot;}, &quot;type&quot;: &quot;Feature&quot;}, {&quot;bbox&quot;: [147.09959654580408, -30.844618412374587, 147.30959654580408, -30.634618412374586], &quot;geometry&quot;: {&quot;coordinates&quot;: [[[147.09959654580408, -30.844618412374587], [147.30959654580408, -30.844618412374587], [147.30959654580408, -30.634618412374586], [147.09959654580408, -30.634618412374586], [147.09959654580408, -30.844618412374587]]], &quot;type&quot;: &quot;Polygon&quot;}, &quot;id&quot;: &quot;71&quot;, &quot;properties&quot;: {&quot;aoi_code&quot;: &quot;AOI0289&quot;, &quot;cloud_cover&quot;: 14.17, &quot;id&quot;: &quot;2021-08-29&quot;, &quot;index&quot;: 13, &quot;percentage_valid_pixels&quot;: 1.0, &quot;source&quot;: &quot;landsat&quot;}, &quot;type&quot;: &quot;Feature&quot;}, {&quot;bbox&quot;: [147.09959654580408, -30.844618412374587, 147.30959654580408, -30.634618412374586], &quot;geometry&quot;: {&quot;coordinates&quot;: [[[147.09959654580408, -30.844618412374587], [147.30959654580408, -30.844618412374587], [147.30959654580408, -30.634618412374586], [147.09959654580408, -30.634618412374586], [147.09959654580408, -30.844618412374587]]], &quot;type&quot;: &quot;Polygon&quot;}, &quot;id&quot;: &quot;72&quot;, &quot;properties&quot;: {&quot;aoi_code&quot;: &quot;AOI0289&quot;, &quot;cloud_cover&quot;: 97.7998, &quot;id&quot;: &quot;2021-08-30&quot;, &quot;index&quot;: 56, &quot;percentage_valid_pixels&quot;: 1.0, &quot;source&quot;: &quot;s2&quot;}, &quot;type&quot;: &quot;Feature&quot;}, {&quot;bbox&quot;: [147.09959654580408, -30.844618412374587, 147.30959654580408, -30.634618412374586], &quot;geometry&quot;: {&quot;coordinates&quot;: [[[147.09959654580408, -30.844618412374587], [147.30959654580408, -30.844618412374587], [147.30959654580408, -30.634618412374586], [147.09959654580408, -30.634618412374586], [147.09959654580408, -30.844618412374587]]], &quot;type&quot;: &quot;Polygon&quot;}, &quot;id&quot;: &quot;73&quot;, &quot;properties&quot;: {&quot;aoi_code&quot;: &quot;AOI0289&quot;, &quot;cloud_cover&quot;: 0.0, &quot;id&quot;: &quot;2021-09-02&quot;, &quot;index&quot;: 57, &quot;percentage_valid_pixels&quot;: 1.0, &quot;source&quot;: &quot;s2&quot;}, &quot;type&quot;: &quot;Feature&quot;}, {&quot;bbox&quot;: [147.69960316085718, -32.44460560526437, 147.9096031608572, -32.23460560526437], &quot;geometry&quot;: {&quot;coordinates&quot;: [[[147.69960316085718, -32.44460560526437], [147.9096031608572, -32.44460560526437], [147.9096031608572, -32.23460560526437], [147.69960316085718, -32.23460560526437], [147.69960316085718, -32.44460560526437]]], &quot;type&quot;: &quot;Polygon&quot;}, &quot;id&quot;: &quot;74&quot;, &quot;properties&quot;: {&quot;aoi_code&quot;: &quot;AOI0299&quot;, &quot;cloud_cover&quot;: 43.652, &quot;id&quot;: &quot;2021-08-05&quot;, &quot;index&quot;: 58, &quot;percentage_valid_pixels&quot;: 1.0, &quot;source&quot;: &quot;s2&quot;}, &quot;type&quot;: &quot;Feature&quot;}, {&quot;bbox&quot;: [147.69960316085718, -32.44460560526437, 147.9096031608572, -32.23460560526437], &quot;geometry&quot;: {&quot;coordinates&quot;: [[[147.69960316085718, -32.44460560526437], [147.9096031608572, -32.44460560526437], [147.9096031608572, -32.23460560526437], [147.69960316085718, -32.23460560526437], [147.69960316085718, -32.44460560526437]]], &quot;type&quot;: &quot;Polygon&quot;}, &quot;id&quot;: &quot;75&quot;, &quot;properties&quot;: {&quot;aoi_code&quot;: &quot;AOI0299&quot;, &quot;cloud_cover&quot;: 54.69, &quot;id&quot;: &quot;2021-08-06&quot;, &quot;index&quot;: 16, &quot;percentage_valid_pixels&quot;: 0.11851375613738727, &quot;source&quot;: &quot;landsat&quot;}, &quot;type&quot;: &quot;Feature&quot;}, {&quot;bbox&quot;: [147.69960316085718, -32.44460560526437, 147.9096031608572, -32.23460560526437], &quot;geometry&quot;: {&quot;coordinates&quot;: [[[147.69960316085718, -32.44460560526437], [147.9096031608572, -32.44460560526437], [147.9096031608572, -32.23460560526437], [147.69960316085718, -32.23460560526437], [147.69960316085718, -32.44460560526437]]], &quot;type&quot;: &quot;Polygon&quot;}, &quot;id&quot;: &quot;76&quot;, &quot;properties&quot;: {&quot;aoi_code&quot;: &quot;AOI0299&quot;, &quot;cloud_cover&quot;: 0.0, &quot;id&quot;: &quot;2021-08-10&quot;, &quot;index&quot;: 59, &quot;percentage_valid_pixels&quot;: 1.0, &quot;source&quot;: &quot;s2&quot;}, &quot;type&quot;: &quot;Feature&quot;}, {&quot;bbox&quot;: [147.69960316085718, -32.44460560526437, 147.9096031608572, -32.23460560526437], &quot;geometry&quot;: {&quot;coordinates&quot;: [[[147.69960316085718, -32.44460560526437], [147.9096031608572, -32.44460560526437], [147.9096031608572, -32.23460560526437], [147.69960316085718, -32.23460560526437], [147.69960316085718, -32.44460560526437]]], &quot;type&quot;: &quot;Polygon&quot;}, &quot;id&quot;: &quot;77&quot;, &quot;properties&quot;: {&quot;aoi_code&quot;: &quot;AOI0299&quot;, &quot;cloud_cover&quot;: 2.36, &quot;id&quot;: &quot;2021-08-13&quot;, &quot;index&quot;: 18, &quot;percentage_valid_pixels&quot;: 1.0, &quot;source&quot;: &quot;landsat&quot;}, &quot;type&quot;: &quot;Feature&quot;}, {&quot;bbox&quot;: [147.69960316085718, -32.44460560526437, 147.9096031608572, -32.23460560526437], &quot;geometry&quot;: {&quot;coordinates&quot;: [[[147.69960316085718, -32.44460560526437], [147.9096031608572, -32.44460560526437], [147.9096031608572, -32.23460560526437], [147.69960316085718, -32.23460560526437], [147.69960316085718, -32.44460560526437]]], &quot;type&quot;: &quot;Polygon&quot;}, &quot;id&quot;: &quot;78&quot;, &quot;properties&quot;: {&quot;aoi_code&quot;: &quot;AOI0299&quot;, &quot;cloud_cover&quot;: 0.0, &quot;id&quot;: &quot;2021-08-15&quot;, &quot;index&quot;: 60, &quot;percentage_valid_pixels&quot;: 1.0, &quot;source&quot;: &quot;s2&quot;}, &quot;type&quot;: &quot;Feature&quot;}, {&quot;bbox&quot;: [147.69960316085718, -32.44460560526437, 147.9096031608572, -32.23460560526437], &quot;geometry&quot;: {&quot;coordinates&quot;: [[[147.69960316085718, -32.44460560526437], [147.9096031608572, -32.44460560526437], [147.9096031608572, -32.23460560526437], [147.69960316085718, -32.23460560526437], [147.69960316085718, -32.44460560526437]]], &quot;type&quot;: &quot;Polygon&quot;}, &quot;id&quot;: &quot;79&quot;, &quot;properties&quot;: {&quot;aoi_code&quot;: &quot;AOI0299&quot;, &quot;cloud_cover&quot;: 0.0, &quot;id&quot;: &quot;2021-08-20&quot;, &quot;index&quot;: 61, &quot;percentage_valid_pixels&quot;: 1.0, &quot;source&quot;: &quot;s2&quot;}, &quot;type&quot;: &quot;Feature&quot;}, {&quot;bbox&quot;: [147.69960316085718, -32.44460560526437, 147.9096031608572, -32.23460560526437], &quot;geometry&quot;: {&quot;coordinates&quot;: [[[147.69960316085718, -32.44460560526437], [147.9096031608572, -32.44460560526437], [147.9096031608572, -32.23460560526437], [147.69960316085718, -32.23460560526437], [147.69960316085718, -32.44460560526437]]], &quot;type&quot;: &quot;Polygon&quot;}, &quot;id&quot;: &quot;80&quot;, &quot;properties&quot;: {&quot;aoi_code&quot;: &quot;AOI0299&quot;, &quot;cloud_cover&quot;: 10.8, &quot;id&quot;: &quot;2021-08-22&quot;, &quot;index&quot;: 17, &quot;percentage_valid_pixels&quot;: 0.11387220154803157, &quot;source&quot;: &quot;landsat&quot;}, &quot;type&quot;: &quot;Feature&quot;}, {&quot;bbox&quot;: [147.69960316085718, -32.44460560526437, 147.9096031608572, -32.23460560526437], &quot;geometry&quot;: {&quot;coordinates&quot;: [[[147.69960316085718, -32.44460560526437], [147.9096031608572, -32.44460560526437], [147.9096031608572, -32.23460560526437], [147.69960316085718, -32.23460560526437], [147.69960316085718, -32.44460560526437]]], &quot;type&quot;: &quot;Polygon&quot;}, &quot;id&quot;: &quot;81&quot;, &quot;properties&quot;: {&quot;aoi_code&quot;: &quot;AOI0299&quot;, &quot;cloud_cover&quot;: 0.1242, &quot;id&quot;: &quot;2021-08-25&quot;, &quot;index&quot;: 62, &quot;percentage_valid_pixels&quot;: 1.0, &quot;source&quot;: &quot;s2&quot;}, &quot;type&quot;: &quot;Feature&quot;}, {&quot;bbox&quot;: [147.69960316085718, -32.44460560526437, 147.9096031608572, -32.23460560526437], &quot;geometry&quot;: {&quot;coordinates&quot;: [[[147.69960316085718, -32.44460560526437], [147.9096031608572, -32.44460560526437], [147.9096031608572, -32.23460560526437], [147.69960316085718, -32.23460560526437], [147.69960316085718, -32.44460560526437]]], &quot;type&quot;: &quot;Polygon&quot;}, &quot;id&quot;: &quot;82&quot;, &quot;properties&quot;: {&quot;aoi_code&quot;: &quot;AOI0299&quot;, &quot;cloud_cover&quot;: 56.97, &quot;id&quot;: &quot;2021-08-29&quot;, &quot;index&quot;: 19, &quot;percentage_valid_pixels&quot;: 1.0, &quot;source&quot;: &quot;landsat&quot;}, &quot;type&quot;: &quot;Feature&quot;}, {&quot;bbox&quot;: [147.69960316085718, -32.44460560526437, 147.9096031608572, -32.23460560526437], &quot;geometry&quot;: {&quot;coordinates&quot;: [[[147.69960316085718, -32.44460560526437], [147.9096031608572, -32.44460560526437], [147.9096031608572, -32.23460560526437], [147.69960316085718, -32.23460560526437], [147.69960316085718, -32.44460560526437]]], &quot;type&quot;: &quot;Polygon&quot;}, &quot;id&quot;: &quot;83&quot;, &quot;properties&quot;: {&quot;aoi_code&quot;: &quot;AOI0299&quot;, &quot;cloud_cover&quot;: 99.8591, &quot;id&quot;: &quot;2021-08-30&quot;, &quot;index&quot;: 63, &quot;percentage_valid_pixels&quot;: 1.0, &quot;source&quot;: &quot;s2&quot;}, &quot;type&quot;: &quot;Feature&quot;}, {&quot;bbox&quot;: [147.69960316085718, -32.24460560526437, 147.9096031608572, -32.03460560526437], &quot;geometry&quot;: {&quot;coordinates&quot;: [[[147.69960316085718, -32.24460560526437], [147.9096031608572, -32.24460560526437], [147.9096031608572, -32.03460560526437], [147.69960316085718, -32.03460560526437], [147.69960316085718, -32.24460560526437]]], &quot;type&quot;: &quot;Polygon&quot;}, &quot;id&quot;: &quot;84&quot;, &quot;properties&quot;: {&quot;aoi_code&quot;: &quot;AOI03&quot;, &quot;cloud_cover&quot;: 43.652, &quot;id&quot;: &quot;2021-08-05&quot;, &quot;index&quot;: 64, &quot;percentage_valid_pixels&quot;: 1.0, &quot;source&quot;: &quot;s2&quot;}, &quot;type&quot;: &quot;Feature&quot;}, {&quot;bbox&quot;: [147.89960316085717, -32.644605605264374, 148.10960316085718, -32.43460560526437], &quot;geometry&quot;: {&quot;coordinates&quot;: [[[147.89960316085717, -32.644605605264374], [148.10960316085718, -32.644605605264374], [148.10960316085718, -32.43460560526437], [147.89960316085717, -32.43460560526437], [147.89960316085717, -32.644605605264374]]], &quot;type&quot;: &quot;Polygon&quot;}, &quot;id&quot;: &quot;85&quot;, &quot;properties&quot;: {&quot;aoi_code&quot;: &quot;AOI03&quot;, &quot;cloud_cover&quot;: 57.2791, &quot;id&quot;: &quot;2021-08-05&quot;, &quot;index&quot;: 70, &quot;percentage_valid_pixels&quot;: 1.0, &quot;source&quot;: &quot;s2&quot;}, &quot;type&quot;: &quot;Feature&quot;}, {&quot;bbox&quot;: [147.69960316085718, -32.24460560526437, 147.9096031608572, -32.03460560526437], &quot;geometry&quot;: {&quot;coordinates&quot;: [[[147.69960316085718, -32.24460560526437], [147.9096031608572, -32.24460560526437], [147.9096031608572, -32.03460560526437], [147.69960316085718, -32.03460560526437], [147.69960316085718, -32.24460560526437]]], &quot;type&quot;: &quot;Polygon&quot;}, &quot;id&quot;: &quot;86&quot;, &quot;properties&quot;: {&quot;aoi_code&quot;: &quot;AOI03&quot;, &quot;cloud_cover&quot;: 54.69, &quot;id&quot;: &quot;2021-08-06&quot;, &quot;index&quot;: 20, &quot;percentage_valid_pixels&quot;: 0.0, &quot;source&quot;: &quot;landsat&quot;}, &quot;type&quot;: &quot;Feature&quot;}, {&quot;bbox&quot;: [147.89960316085717, -32.644605605264374, 148.10960316085718, -32.43460560526437], &quot;geometry&quot;: {&quot;coordinates&quot;: [[[147.89960316085717, -32.644605605264374], [148.10960316085718, -32.644605605264374], [148.10960316085718, -32.43460560526437], [147.89960316085717, -32.43460560526437], [147.89960316085717, -32.644605605264374]]], &quot;type&quot;: &quot;Polygon&quot;}, &quot;id&quot;: &quot;87&quot;, &quot;properties&quot;: {&quot;aoi_code&quot;: &quot;AOI03&quot;, &quot;cloud_cover&quot;: 54.69, &quot;id&quot;: &quot;2021-08-06&quot;, &quot;index&quot;: 24, &quot;percentage_valid_pixels&quot;: 1.0, &quot;source&quot;: &quot;landsat&quot;}, &quot;type&quot;: &quot;Feature&quot;}, {&quot;bbox&quot;: [147.69960316085718, -32.24460560526437, 147.9096031608572, -32.03460560526437], &quot;geometry&quot;: {&quot;coordinates&quot;: [[[147.69960316085718, -32.24460560526437], [147.9096031608572, -32.24460560526437], [147.9096031608572, -32.03460560526437], [147.69960316085718, -32.03460560526437], [147.69960316085718, -32.24460560526437]]], &quot;type&quot;: &quot;Polygon&quot;}, &quot;id&quot;: &quot;88&quot;, &quot;properties&quot;: {&quot;aoi_code&quot;: &quot;AOI03&quot;, &quot;cloud_cover&quot;: 0.0, &quot;id&quot;: &quot;2021-08-10&quot;, &quot;index&quot;: 65, &quot;percentage_valid_pixels&quot;: 1.0, &quot;source&quot;: &quot;s2&quot;}, &quot;type&quot;: &quot;Feature&quot;}, {&quot;bbox&quot;: [147.89960316085717, -32.644605605264374, 148.10960316085718, -32.43460560526437], &quot;geometry&quot;: {&quot;coordinates&quot;: [[[147.89960316085717, -32.644605605264374], [148.10960316085718, -32.644605605264374], [148.10960316085718, -32.43460560526437], [147.89960316085717, -32.43460560526437], [147.89960316085717, -32.644605605264374]]], &quot;type&quot;: &quot;Polygon&quot;}, &quot;id&quot;: &quot;89&quot;, &quot;properties&quot;: {&quot;aoi_code&quot;: &quot;AOI03&quot;, &quot;cloud_cover&quot;: 1.937, &quot;id&quot;: &quot;2021-08-10&quot;, &quot;index&quot;: 71, &quot;percentage_valid_pixels&quot;: 1.0, &quot;source&quot;: &quot;s2&quot;}, &quot;type&quot;: &quot;Feature&quot;}, {&quot;bbox&quot;: [147.69960316085718, -32.24460560526437, 147.9096031608572, -32.03460560526437], &quot;geometry&quot;: {&quot;coordinates&quot;: [[[147.69960316085718, -32.24460560526437], [147.9096031608572, -32.24460560526437], [147.9096031608572, -32.03460560526437], [147.69960316085718, -32.03460560526437], [147.69960316085718, -32.24460560526437]]], &quot;type&quot;: &quot;Polygon&quot;}, &quot;id&quot;: &quot;90&quot;, &quot;properties&quot;: {&quot;aoi_code&quot;: &quot;AOI03&quot;, &quot;cloud_cover&quot;: 2.36, &quot;id&quot;: &quot;2021-08-13&quot;, &quot;index&quot;: 22, &quot;percentage_valid_pixels&quot;: 1.0, &quot;source&quot;: &quot;landsat&quot;}, &quot;type&quot;: &quot;Feature&quot;}, {&quot;bbox&quot;: [147.89960316085717, -32.644605605264374, 148.10960316085718, -32.43460560526437], &quot;geometry&quot;: {&quot;coordinates&quot;: [[[147.89960316085717, -32.644605605264374], [148.10960316085718, -32.644605605264374], [148.10960316085718, -32.43460560526437], [147.89960316085717, -32.43460560526437], [147.89960316085717, -32.644605605264374]]], &quot;type&quot;: &quot;Polygon&quot;}, &quot;id&quot;: &quot;91&quot;, &quot;properties&quot;: {&quot;aoi_code&quot;: &quot;AOI03&quot;, &quot;cloud_cover&quot;: 2.36, &quot;id&quot;: &quot;2021-08-13&quot;, &quot;index&quot;: 26, &quot;percentage_valid_pixels&quot;: 1.0, &quot;source&quot;: &quot;landsat&quot;}, &quot;type&quot;: &quot;Feature&quot;}, {&quot;bbox&quot;: [147.69960316085718, -32.24460560526437, 147.9096031608572, -32.03460560526437], &quot;geometry&quot;: {&quot;coordinates&quot;: [[[147.69960316085718, -32.24460560526437], [147.9096031608572, -32.24460560526437], [147.9096031608572, -32.03460560526437], [147.69960316085718, -32.03460560526437], [147.69960316085718, -32.24460560526437]]], &quot;type&quot;: &quot;Polygon&quot;}, &quot;id&quot;: &quot;92&quot;, &quot;properties&quot;: {&quot;aoi_code&quot;: &quot;AOI03&quot;, &quot;cloud_cover&quot;: 0.0, &quot;id&quot;: &quot;2021-08-15&quot;, &quot;index&quot;: 66, &quot;percentage_valid_pixels&quot;: 1.0, &quot;source&quot;: &quot;s2&quot;}, &quot;type&quot;: &quot;Feature&quot;}, {&quot;bbox&quot;: [147.89960316085717, -32.644605605264374, 148.10960316085718, -32.43460560526437], &quot;geometry&quot;: {&quot;coordinates&quot;: [[[147.89960316085717, -32.644605605264374], [148.10960316085718, -32.644605605264374], [148.10960316085718, -32.43460560526437], [147.89960316085717, -32.43460560526437], [147.89960316085717, -32.644605605264374]]], &quot;type&quot;: &quot;Polygon&quot;}, &quot;id&quot;: &quot;93&quot;, &quot;properties&quot;: {&quot;aoi_code&quot;: &quot;AOI03&quot;, &quot;cloud_cover&quot;: 0.0, &quot;id&quot;: &quot;2021-08-15&quot;, &quot;index&quot;: 72, &quot;percentage_valid_pixels&quot;: 1.0, &quot;source&quot;: &quot;s2&quot;}, &quot;type&quot;: &quot;Feature&quot;}, {&quot;bbox&quot;: [147.69960316085718, -32.24460560526437, 147.9096031608572, -32.03460560526437], &quot;geometry&quot;: {&quot;coordinates&quot;: [[[147.69960316085718, -32.24460560526437], [147.9096031608572, -32.24460560526437], [147.9096031608572, -32.03460560526437], [147.69960316085718, -32.03460560526437], [147.69960316085718, -32.24460560526437]]], &quot;type&quot;: &quot;Polygon&quot;}, &quot;id&quot;: &quot;94&quot;, &quot;properties&quot;: {&quot;aoi_code&quot;: &quot;AOI03&quot;, &quot;cloud_cover&quot;: 0.0, &quot;id&quot;: &quot;2021-08-20&quot;, &quot;index&quot;: 67, &quot;percentage_valid_pixels&quot;: 1.0, &quot;source&quot;: &quot;s2&quot;}, &quot;type&quot;: &quot;Feature&quot;}, {&quot;bbox&quot;: [147.89960316085717, -32.644605605264374, 148.10960316085718, -32.43460560526437], &quot;geometry&quot;: {&quot;coordinates&quot;: [[[147.89960316085717, -32.644605605264374], [148.10960316085718, -32.644605605264374], [148.10960316085718, -32.43460560526437], [147.89960316085717, -32.43460560526437], [147.89960316085717, -32.644605605264374]]], &quot;type&quot;: &quot;Polygon&quot;}, &quot;id&quot;: &quot;95&quot;, &quot;properties&quot;: {&quot;aoi_code&quot;: &quot;AOI03&quot;, &quot;cloud_cover&quot;: 0.0, &quot;id&quot;: &quot;2021-08-20&quot;, &quot;index&quot;: 73, &quot;percentage_valid_pixels&quot;: 1.0, &quot;source&quot;: &quot;s2&quot;}, &quot;type&quot;: &quot;Feature&quot;}, {&quot;bbox&quot;: [147.69960316085718, -32.24460560526437, 147.9096031608572, -32.03460560526437], &quot;geometry&quot;: {&quot;coordinates&quot;: [[[147.69960316085718, -32.24460560526437], [147.9096031608572, -32.24460560526437], [147.9096031608572, -32.03460560526437], [147.69960316085718, -32.03460560526437], [147.69960316085718, -32.24460560526437]]], &quot;type&quot;: &quot;Polygon&quot;}, &quot;id&quot;: &quot;96&quot;, &quot;properties&quot;: {&quot;aoi_code&quot;: &quot;AOI03&quot;, &quot;cloud_cover&quot;: 10.8, &quot;id&quot;: &quot;2021-08-22&quot;, &quot;index&quot;: 21, &quot;percentage_valid_pixels&quot;: 0.0, &quot;source&quot;: &quot;landsat&quot;}, &quot;type&quot;: &quot;Feature&quot;}, {&quot;bbox&quot;: [147.89960316085717, -32.644605605264374, 148.10960316085718, -32.43460560526437], &quot;geometry&quot;: {&quot;coordinates&quot;: [[[147.89960316085717, -32.644605605264374], [148.10960316085718, -32.644605605264374], [148.10960316085718, -32.43460560526437], [147.89960316085717, -32.43460560526437], [147.89960316085717, -32.644605605264374]]], &quot;type&quot;: &quot;Polygon&quot;}, &quot;id&quot;: &quot;97&quot;, &quot;properties&quot;: {&quot;aoi_code&quot;: &quot;AOI03&quot;, &quot;cloud_cover&quot;: 10.8, &quot;id&quot;: &quot;2021-08-22&quot;, &quot;index&quot;: 25, &quot;percentage_valid_pixels&quot;: 1.0, &quot;source&quot;: &quot;landsat&quot;}, &quot;type&quot;: &quot;Feature&quot;}, {&quot;bbox&quot;: [147.69960316085718, -32.24460560526437, 147.9096031608572, -32.03460560526437], &quot;geometry&quot;: {&quot;coordinates&quot;: [[[147.69960316085718, -32.24460560526437], [147.9096031608572, -32.24460560526437], [147.9096031608572, -32.03460560526437], [147.69960316085718, -32.03460560526437], [147.69960316085718, -32.24460560526437]]], &quot;type&quot;: &quot;Polygon&quot;}, &quot;id&quot;: &quot;98&quot;, &quot;properties&quot;: {&quot;aoi_code&quot;: &quot;AOI03&quot;, &quot;cloud_cover&quot;: 0.1242, &quot;id&quot;: &quot;2021-08-25&quot;, &quot;index&quot;: 68, &quot;percentage_valid_pixels&quot;: 1.0, &quot;source&quot;: &quot;s2&quot;}, &quot;type&quot;: &quot;Feature&quot;}, {&quot;bbox&quot;: [147.89960316085717, -32.644605605264374, 148.10960316085718, -32.43460560526437], &quot;geometry&quot;: {&quot;coordinates&quot;: [[[147.89960316085717, -32.644605605264374], [148.10960316085718, -32.644605605264374], [148.10960316085718, -32.43460560526437], [147.89960316085717, -32.43460560526437], [147.89960316085717, -32.644605605264374]]], &quot;type&quot;: &quot;Polygon&quot;}, &quot;id&quot;: &quot;99&quot;, &quot;properties&quot;: {&quot;aoi_code&quot;: &quot;AOI03&quot;, &quot;cloud_cover&quot;: 0.0, &quot;id&quot;: &quot;2021-08-25&quot;, &quot;index&quot;: 74, &quot;percentage_valid_pixels&quot;: 1.0, &quot;source&quot;: &quot;s2&quot;}, &quot;type&quot;: &quot;Feature&quot;}, {&quot;bbox&quot;: [147.69960316085718, -32.24460560526437, 147.9096031608572, -32.03460560526437], &quot;geometry&quot;: {&quot;coordinates&quot;: [[[147.69960316085718, -32.24460560526437], [147.9096031608572, -32.24460560526437], [147.9096031608572, -32.03460560526437], [147.69960316085718, -32.03460560526437], [147.69960316085718, -32.24460560526437]]], &quot;type&quot;: &quot;Polygon&quot;}, &quot;id&quot;: &quot;100&quot;, &quot;properties&quot;: {&quot;aoi_code&quot;: &quot;AOI03&quot;, &quot;cloud_cover&quot;: 56.97, &quot;id&quot;: &quot;2021-08-29&quot;, &quot;index&quot;: 23, &quot;percentage_valid_pixels&quot;: 1.0, &quot;source&quot;: &quot;landsat&quot;}, &quot;type&quot;: &quot;Feature&quot;}, {&quot;bbox&quot;: [147.89960316085717, -32.644605605264374, 148.10960316085718, -32.43460560526437], &quot;geometry&quot;: {&quot;coordinates&quot;: [[[147.89960316085717, -32.644605605264374], [148.10960316085718, -32.644605605264374], [148.10960316085718, -32.43460560526437], [147.89960316085717, -32.43460560526437], [147.89960316085717, -32.644605605264374]]], &quot;type&quot;: &quot;Polygon&quot;}, &quot;id&quot;: &quot;101&quot;, &quot;properties&quot;: {&quot;aoi_code&quot;: &quot;AOI03&quot;, &quot;cloud_cover&quot;: 56.97, &quot;id&quot;: &quot;2021-08-29&quot;, &quot;index&quot;: 27, &quot;percentage_valid_pixels&quot;: 1.0, &quot;source&quot;: &quot;landsat&quot;}, &quot;type&quot;: &quot;Feature&quot;}, {&quot;bbox&quot;: [147.69960316085718, -32.24460560526437, 147.9096031608572, -32.03460560526437], &quot;geometry&quot;: {&quot;coordinates&quot;: [[[147.69960316085718, -32.24460560526437], [147.9096031608572, -32.24460560526437], [147.9096031608572, -32.03460560526437], [147.69960316085718, -32.03460560526437], [147.69960316085718, -32.24460560526437]]], &quot;type&quot;: &quot;Polygon&quot;}, &quot;id&quot;: &quot;102&quot;, &quot;properties&quot;: {&quot;aoi_code&quot;: &quot;AOI03&quot;, &quot;cloud_cover&quot;: 99.8591, &quot;id&quot;: &quot;2021-08-30&quot;, &quot;index&quot;: 69, &quot;percentage_valid_pixels&quot;: 1.0, &quot;source&quot;: &quot;s2&quot;}, &quot;type&quot;: &quot;Feature&quot;}, {&quot;bbox&quot;: [147.89960316085717, -32.644605605264374, 148.10960316085718, -32.43460560526437], &quot;geometry&quot;: {&quot;coordinates&quot;: [[[147.89960316085717, -32.644605605264374], [148.10960316085718, -32.644605605264374], [148.10960316085718, -32.43460560526437], [147.89960316085717, -32.43460560526437], [147.89960316085717, -32.644605605264374]]], &quot;type&quot;: &quot;Polygon&quot;}, &quot;id&quot;: &quot;103&quot;, &quot;properties&quot;: {&quot;aoi_code&quot;: &quot;AOI03&quot;, &quot;cloud_cover&quot;: 99.9962, &quot;id&quot;: &quot;2021-08-30&quot;, &quot;index&quot;: 75, &quot;percentage_valid_pixels&quot;: 1.0, &quot;source&quot;: &quot;s2&quot;}, &quot;type&quot;: &quot;Feature&quot;}, {&quot;bbox&quot;: [147.89960316085717, -32.44460560526437, 148.10960316085718, -32.23460560526437], &quot;geometry&quot;: {&quot;coordinates&quot;: [[[147.89960316085717, -32.44460560526437], [148.10960316085718, -32.44460560526437], [148.10960316085718, -32.23460560526437], [147.89960316085717, -32.23460560526437], [147.89960316085717, -32.44460560526437]]], &quot;type&quot;: &quot;Polygon&quot;}, &quot;id&quot;: &quot;104&quot;, &quot;properties&quot;: {&quot;aoi_code&quot;: &quot;AOI0316&quot;, &quot;cloud_cover&quot;: 43.652, &quot;id&quot;: &quot;2021-08-05&quot;, &quot;index&quot;: 76, &quot;percentage_valid_pixels&quot;: 1.0, &quot;source&quot;: &quot;s2&quot;}, &quot;type&quot;: &quot;Feature&quot;}, {&quot;bbox&quot;: [147.89960316085717, -32.44460560526437, 148.10960316085718, -32.23460560526437], &quot;geometry&quot;: {&quot;coordinates&quot;: [[[147.89960316085717, -32.44460560526437], [148.10960316085718, -32.44460560526437], [148.10960316085718, -32.23460560526437], [147.89960316085717, -32.23460560526437], [147.89960316085717, -32.44460560526437]]], &quot;type&quot;: &quot;Polygon&quot;}, &quot;id&quot;: &quot;105&quot;, &quot;properties&quot;: {&quot;aoi_code&quot;: &quot;AOI0316&quot;, &quot;cloud_cover&quot;: 54.69, &quot;id&quot;: &quot;2021-08-06&quot;, &quot;index&quot;: 28, &quot;percentage_valid_pixels&quot;: 0.9908227972219834, &quot;source&quot;: &quot;landsat&quot;}, &quot;type&quot;: &quot;Feature&quot;}, {&quot;bbox&quot;: [147.89960316085717, -32.44460560526437, 148.10960316085718, -32.23460560526437], &quot;geometry&quot;: {&quot;coordinates&quot;: [[[147.89960316085717, -32.44460560526437], [148.10960316085718, -32.44460560526437], [148.10960316085718, -32.23460560526437], [147.89960316085717, -32.23460560526437], [147.89960316085717, -32.44460560526437]]], &quot;type&quot;: &quot;Polygon&quot;}, &quot;id&quot;: &quot;106&quot;, &quot;properties&quot;: {&quot;aoi_code&quot;: &quot;AOI0316&quot;, &quot;cloud_cover&quot;: 0.0, &quot;id&quot;: &quot;2021-08-10&quot;, &quot;index&quot;: 77, &quot;percentage_valid_pixels&quot;: 1.0, &quot;source&quot;: &quot;s2&quot;}, &quot;type&quot;: &quot;Feature&quot;}, {&quot;bbox&quot;: [147.89960316085717, -32.44460560526437, 148.10960316085718, -32.23460560526437], &quot;geometry&quot;: {&quot;coordinates&quot;: [[[147.89960316085717, -32.44460560526437], [148.10960316085718, -32.44460560526437], [148.10960316085718, -32.23460560526437], [147.89960316085717, -32.23460560526437], [147.89960316085717, -32.44460560526437]]], &quot;type&quot;: &quot;Polygon&quot;}, &quot;id&quot;: &quot;107&quot;, &quot;properties&quot;: {&quot;aoi_code&quot;: &quot;AOI0316&quot;, &quot;cloud_cover&quot;: 2.36, &quot;id&quot;: &quot;2021-08-13&quot;, &quot;index&quot;: 30, &quot;percentage_valid_pixels&quot;: 1.0, &quot;source&quot;: &quot;landsat&quot;}, &quot;type&quot;: &quot;Feature&quot;}, {&quot;bbox&quot;: [147.89960316085717, -32.44460560526437, 148.10960316085718, -32.23460560526437], &quot;geometry&quot;: {&quot;coordinates&quot;: [[[147.89960316085717, -32.44460560526437], [148.10960316085718, -32.44460560526437], [148.10960316085718, -32.23460560526437], [147.89960316085717, -32.23460560526437], [147.89960316085717, -32.44460560526437]]], &quot;type&quot;: &quot;Polygon&quot;}, &quot;id&quot;: &quot;108&quot;, &quot;properties&quot;: {&quot;aoi_code&quot;: &quot;AOI0316&quot;, &quot;cloud_cover&quot;: 0.0, &quot;id&quot;: &quot;2021-08-15&quot;, &quot;index&quot;: 78, &quot;percentage_valid_pixels&quot;: 1.0, &quot;source&quot;: &quot;s2&quot;}, &quot;type&quot;: &quot;Feature&quot;}, {&quot;bbox&quot;: [147.89960316085717, -32.44460560526437, 148.10960316085718, -32.23460560526437], &quot;geometry&quot;: {&quot;coordinates&quot;: [[[147.89960316085717, -32.44460560526437], [148.10960316085718, -32.44460560526437], [148.10960316085718, -32.23460560526437], [147.89960316085717, -32.23460560526437], [147.89960316085717, -32.44460560526437]]], &quot;type&quot;: &quot;Polygon&quot;}, &quot;id&quot;: &quot;109&quot;, &quot;properties&quot;: {&quot;aoi_code&quot;: &quot;AOI0316&quot;, &quot;cloud_cover&quot;: 0.0, &quot;id&quot;: &quot;2021-08-20&quot;, &quot;index&quot;: 79, &quot;percentage_valid_pixels&quot;: 1.0, &quot;source&quot;: &quot;s2&quot;}, &quot;type&quot;: &quot;Feature&quot;}, {&quot;bbox&quot;: [147.89960316085717, -32.44460560526437, 148.10960316085718, -32.23460560526437], &quot;geometry&quot;: {&quot;coordinates&quot;: [[[147.89960316085717, -32.44460560526437], [148.10960316085718, -32.44460560526437], [148.10960316085718, -32.23460560526437], [147.89960316085717, -32.23460560526437], [147.89960316085717, -32.44460560526437]]], &quot;type&quot;: &quot;Polygon&quot;}, &quot;id&quot;: &quot;110&quot;, &quot;properties&quot;: {&quot;aoi_code&quot;: &quot;AOI0316&quot;, &quot;cloud_cover&quot;: 10.8, &quot;id&quot;: &quot;2021-08-22&quot;, &quot;index&quot;: 29, &quot;percentage_valid_pixels&quot;: 0.9895300070467699, &quot;source&quot;: &quot;landsat&quot;}, &quot;type&quot;: &quot;Feature&quot;}, {&quot;bbox&quot;: [147.89960316085717, -32.44460560526437, 148.10960316085718, -32.23460560526437], &quot;geometry&quot;: {&quot;coordinates&quot;: [[[147.89960316085717, -32.44460560526437], [148.10960316085718, -32.44460560526437], [148.10960316085718, -32.23460560526437], [147.89960316085717, -32.23460560526437], [147.89960316085717, -32.44460560526437]]], &quot;type&quot;: &quot;Polygon&quot;}, &quot;id&quot;: &quot;111&quot;, &quot;properties&quot;: {&quot;aoi_code&quot;: &quot;AOI0316&quot;, &quot;cloud_cover&quot;: 0.1242, &quot;id&quot;: &quot;2021-08-25&quot;, &quot;index&quot;: 80, &quot;percentage_valid_pixels&quot;: 1.0, &quot;source&quot;: &quot;s2&quot;}, &quot;type&quot;: &quot;Feature&quot;}, {&quot;bbox&quot;: [147.89960316085717, -32.44460560526437, 148.10960316085718, -32.23460560526437], &quot;geometry&quot;: {&quot;coordinates&quot;: [[[147.89960316085717, -32.44460560526437], [148.10960316085718, -32.44460560526437], [148.10960316085718, -32.23460560526437], [147.89960316085717, -32.23460560526437], [147.89960316085717, -32.44460560526437]]], &quot;type&quot;: &quot;Polygon&quot;}, &quot;id&quot;: &quot;112&quot;, &quot;properties&quot;: {&quot;aoi_code&quot;: &quot;AOI0316&quot;, &quot;cloud_cover&quot;: 56.97, &quot;id&quot;: &quot;2021-08-29&quot;, &quot;index&quot;: 31, &quot;percentage_valid_pixels&quot;: 1.0, &quot;source&quot;: &quot;landsat&quot;}, &quot;type&quot;: &quot;Feature&quot;}, {&quot;bbox&quot;: [147.89960316085717, -32.44460560526437, 148.10960316085718, -32.23460560526437], &quot;geometry&quot;: {&quot;coordinates&quot;: [[[147.89960316085717, -32.44460560526437], [148.10960316085718, -32.44460560526437], [148.10960316085718, -32.23460560526437], [147.89960316085717, -32.23460560526437], [147.89960316085717, -32.44460560526437]]], &quot;type&quot;: &quot;Polygon&quot;}, &quot;id&quot;: &quot;113&quot;, &quot;properties&quot;: {&quot;aoi_code&quot;: &quot;AOI0316&quot;, &quot;cloud_cover&quot;: 99.8591, &quot;id&quot;: &quot;2021-08-30&quot;, &quot;index&quot;: 81, &quot;percentage_valid_pixels&quot;: 1.0, &quot;source&quot;: &quot;s2&quot;}, &quot;type&quot;: &quot;Feature&quot;}, {&quot;bbox&quot;: [147.89960316085717, -32.24460560526437, 148.10960316085718, -32.03460560526437], &quot;geometry&quot;: {&quot;coordinates&quot;: [[[147.89960316085717, -32.24460560526437], [148.10960316085718, -32.24460560526437], [148.10960316085718, -32.03460560526437], [147.89960316085717, -32.03460560526437], [147.89960316085717, -32.24460560526437]]], &quot;type&quot;: &quot;Polygon&quot;}, &quot;id&quot;: &quot;114&quot;, &quot;properties&quot;: {&quot;aoi_code&quot;: &quot;AOI0317&quot;, &quot;cloud_cover&quot;: 43.652, &quot;id&quot;: &quot;2021-08-05&quot;, &quot;index&quot;: 82, &quot;percentage_valid_pixels&quot;: 1.0, &quot;source&quot;: &quot;s2&quot;}, &quot;type&quot;: &quot;Feature&quot;}, {&quot;bbox&quot;: [147.89960316085717, -32.24460560526437, 148.10960316085718, -32.03460560526437], &quot;geometry&quot;: {&quot;coordinates&quot;: [[[147.89960316085717, -32.24460560526437], [148.10960316085718, -32.24460560526437], [148.10960316085718, -32.03460560526437], [147.89960316085717, -32.03460560526437], [147.89960316085717, -32.24460560526437]]], &quot;type&quot;: &quot;Polygon&quot;}, &quot;id&quot;: &quot;115&quot;, &quot;properties&quot;: {&quot;aoi_code&quot;: &quot;AOI0317&quot;, &quot;cloud_cover&quot;: 54.69, &quot;id&quot;: &quot;2021-08-06&quot;, &quot;index&quot;: 32, &quot;percentage_valid_pixels&quot;: 0.7998113131808278, &quot;source&quot;: &quot;landsat&quot;}, &quot;type&quot;: &quot;Feature&quot;}, {&quot;bbox&quot;: [147.89960316085717, -32.24460560526437, 148.10960316085718, -32.03460560526437], &quot;geometry&quot;: {&quot;coordinates&quot;: [[[147.89960316085717, -32.24460560526437], [148.10960316085718, -32.24460560526437], [148.10960316085718, -32.03460560526437], [147.89960316085717, -32.03460560526437], [147.89960316085717, -32.24460560526437]]], &quot;type&quot;: &quot;Polygon&quot;}, &quot;id&quot;: &quot;116&quot;, &quot;properties&quot;: {&quot;aoi_code&quot;: &quot;AOI0317&quot;, &quot;cloud_cover&quot;: 0.0, &quot;id&quot;: &quot;2021-08-10&quot;, &quot;index&quot;: 83, &quot;percentage_valid_pixels&quot;: 1.0, &quot;source&quot;: &quot;s2&quot;}, &quot;type&quot;: &quot;Feature&quot;}, {&quot;bbox&quot;: [147.89960316085717, -32.24460560526437, 148.10960316085718, -32.03460560526437], &quot;geometry&quot;: {&quot;coordinates&quot;: [[[147.89960316085717, -32.24460560526437], [148.10960316085718, -32.24460560526437], [148.10960316085718, -32.03460560526437], [147.89960316085717, -32.03460560526437], [147.89960316085717, -32.24460560526437]]], &quot;type&quot;: &quot;Polygon&quot;}, &quot;id&quot;: &quot;117&quot;, &quot;properties&quot;: {&quot;aoi_code&quot;: &quot;AOI0317&quot;, &quot;cloud_cover&quot;: 2.36, &quot;id&quot;: &quot;2021-08-13&quot;, &quot;index&quot;: 34, &quot;percentage_valid_pixels&quot;: 1.0, &quot;source&quot;: &quot;landsat&quot;}, &quot;type&quot;: &quot;Feature&quot;}, {&quot;bbox&quot;: [147.89960316085717, -32.24460560526437, 148.10960316085718, -32.03460560526437], &quot;geometry&quot;: {&quot;coordinates&quot;: [[[147.89960316085717, -32.24460560526437], [148.10960316085718, -32.24460560526437], [148.10960316085718, -32.03460560526437], [147.89960316085717, -32.03460560526437], [147.89960316085717, -32.24460560526437]]], &quot;type&quot;: &quot;Polygon&quot;}, &quot;id&quot;: &quot;118&quot;, &quot;properties&quot;: {&quot;aoi_code&quot;: &quot;AOI0317&quot;, &quot;cloud_cover&quot;: 0.0, &quot;id&quot;: &quot;2021-08-15&quot;, &quot;index&quot;: 84, &quot;percentage_valid_pixels&quot;: 1.0, &quot;source&quot;: &quot;s2&quot;}, &quot;type&quot;: &quot;Feature&quot;}, {&quot;bbox&quot;: [147.89960316085717, -32.24460560526437, 148.10960316085718, -32.03460560526437], &quot;geometry&quot;: {&quot;coordinates&quot;: [[[147.89960316085717, -32.24460560526437], [148.10960316085718, -32.24460560526437], [148.10960316085718, -32.03460560526437], [147.89960316085717, -32.03460560526437], [147.89960316085717, -32.24460560526437]]], &quot;type&quot;: &quot;Polygon&quot;}, &quot;id&quot;: &quot;119&quot;, &quot;properties&quot;: {&quot;aoi_code&quot;: &quot;AOI0317&quot;, &quot;cloud_cover&quot;: 0.0, &quot;id&quot;: &quot;2021-08-20&quot;, &quot;index&quot;: 85, &quot;percentage_valid_pixels&quot;: 1.0, &quot;source&quot;: &quot;s2&quot;}, &quot;type&quot;: &quot;Feature&quot;}, {&quot;bbox&quot;: [147.89960316085717, -32.24460560526437, 148.10960316085718, -32.03460560526437], &quot;geometry&quot;: {&quot;coordinates&quot;: [[[147.89960316085717, -32.24460560526437], [148.10960316085718, -32.24460560526437], [148.10960316085718, -32.03460560526437], [147.89960316085717, -32.03460560526437], [147.89960316085717, -32.24460560526437]]], &quot;type&quot;: &quot;Polygon&quot;}, &quot;id&quot;: &quot;120&quot;, &quot;properties&quot;: {&quot;aoi_code&quot;: &quot;AOI0317&quot;, &quot;cloud_cover&quot;: 10.8, &quot;id&quot;: &quot;2021-08-22&quot;, &quot;index&quot;: 33, &quot;percentage_valid_pixels&quot;: 0.7949012707162757, &quot;source&quot;: &quot;landsat&quot;}, &quot;type&quot;: &quot;Feature&quot;}, {&quot;bbox&quot;: [147.89960316085717, -32.24460560526437, 148.10960316085718, -32.03460560526437], &quot;geometry&quot;: {&quot;coordinates&quot;: [[[147.89960316085717, -32.24460560526437], [148.10960316085718, -32.24460560526437], [148.10960316085718, -32.03460560526437], [147.89960316085717, -32.03460560526437], [147.89960316085717, -32.24460560526437]]], &quot;type&quot;: &quot;Polygon&quot;}, &quot;id&quot;: &quot;121&quot;, &quot;properties&quot;: {&quot;aoi_code&quot;: &quot;AOI0317&quot;, &quot;cloud_cover&quot;: 0.1242, &quot;id&quot;: &quot;2021-08-25&quot;, &quot;index&quot;: 86, &quot;percentage_valid_pixels&quot;: 1.0, &quot;source&quot;: &quot;s2&quot;}, &quot;type&quot;: &quot;Feature&quot;}, {&quot;bbox&quot;: [147.89960316085717, -32.24460560526437, 148.10960316085718, -32.03460560526437], &quot;geometry&quot;: {&quot;coordinates&quot;: [[[147.89960316085717, -32.24460560526437], [148.10960316085718, -32.24460560526437], [148.10960316085718, -32.03460560526437], [147.89960316085717, -32.03460560526437], [147.89960316085717, -32.24460560526437]]], &quot;type&quot;: &quot;Polygon&quot;}, &quot;id&quot;: &quot;122&quot;, &quot;properties&quot;: {&quot;aoi_code&quot;: &quot;AOI0317&quot;, &quot;cloud_cover&quot;: 56.97, &quot;id&quot;: &quot;2021-08-29&quot;, &quot;index&quot;: 35, &quot;percentage_valid_pixels&quot;: 1.0, &quot;source&quot;: &quot;landsat&quot;}, &quot;type&quot;: &quot;Feature&quot;}, {&quot;bbox&quot;: [147.89960316085717, -32.24460560526437, 148.10960316085718, -32.03460560526437], &quot;geometry&quot;: {&quot;coordinates&quot;: [[[147.89960316085717, -32.24460560526437], [148.10960316085718, -32.24460560526437], [148.10960316085718, -32.03460560526437], [147.89960316085717, -32.03460560526437], [147.89960316085717, -32.24460560526437]]], &quot;type&quot;: &quot;Polygon&quot;}, &quot;id&quot;: &quot;123&quot;, &quot;properties&quot;: {&quot;aoi_code&quot;: &quot;AOI0317&quot;, &quot;cloud_cover&quot;: 99.8591, &quot;id&quot;: &quot;2021-08-30&quot;, &quot;index&quot;: 87, &quot;percentage_valid_pixels&quot;: 1.0, &quot;source&quot;: &quot;s2&quot;}, &quot;type&quot;: &quot;Feature&quot;}, {&quot;bbox&quot;: [148.09960316085716, -32.84460560526438, 148.30960316085716, -32.634605605264376], &quot;geometry&quot;: {&quot;coordinates&quot;: [[[148.09960316085716, -32.84460560526438], [148.30960316085716, -32.84460560526438], [148.30960316085716, -32.634605605264376], [148.09960316085716, -32.634605605264376], [148.09960316085716, -32.84460560526438]]], &quot;type&quot;: &quot;Polygon&quot;}, &quot;id&quot;: &quot;124&quot;, &quot;properties&quot;: {&quot;aoi_code&quot;: &quot;AOI0342&quot;, &quot;cloud_cover&quot;: 57.2791, &quot;id&quot;: &quot;2021-08-05&quot;, &quot;index&quot;: 88, &quot;percentage_valid_pixels&quot;: 1.0, &quot;source&quot;: &quot;s2&quot;}, &quot;type&quot;: &quot;Feature&quot;}, {&quot;bbox&quot;: [148.09960316085716, -32.84460560526438, 148.30960316085716, -32.634605605264376], &quot;geometry&quot;: {&quot;coordinates&quot;: [[[148.09960316085716, -32.84460560526438], [148.30960316085716, -32.84460560526438], [148.30960316085716, -32.634605605264376], [148.09960316085716, -32.634605605264376], [148.09960316085716, -32.84460560526438]]], &quot;type&quot;: &quot;Polygon&quot;}, &quot;id&quot;: &quot;125&quot;, &quot;properties&quot;: {&quot;aoi_code&quot;: &quot;AOI0342&quot;, &quot;cloud_cover&quot;: 88.71, &quot;id&quot;: &quot;2021-08-06&quot;, &quot;index&quot;: 36, &quot;percentage_valid_pixels&quot;: 1.0, &quot;source&quot;: &quot;landsat&quot;}, &quot;type&quot;: &quot;Feature&quot;}, {&quot;bbox&quot;: [148.09960316085716, -32.84460560526438, 148.30960316085716, -32.634605605264376], &quot;geometry&quot;: {&quot;coordinates&quot;: [[[148.09960316085716, -32.84460560526438], [148.30960316085716, -32.84460560526438], [148.30960316085716, -32.634605605264376], [148.09960316085716, -32.634605605264376], [148.09960316085716, -32.84460560526438]]], &quot;type&quot;: &quot;Polygon&quot;}, &quot;id&quot;: &quot;126&quot;, &quot;properties&quot;: {&quot;aoi_code&quot;: &quot;AOI0342&quot;, &quot;cloud_cover&quot;: 1.937, &quot;id&quot;: &quot;2021-08-10&quot;, &quot;index&quot;: 89, &quot;percentage_valid_pixels&quot;: 1.0, &quot;source&quot;: &quot;s2&quot;}, &quot;type&quot;: &quot;Feature&quot;}, {&quot;bbox&quot;: [148.09960316085716, -32.84460560526438, 148.30960316085716, -32.634605605264376], &quot;geometry&quot;: {&quot;coordinates&quot;: [[[148.09960316085716, -32.84460560526438], [148.30960316085716, -32.84460560526438], [148.30960316085716, -32.634605605264376], [148.09960316085716, -32.634605605264376], [148.09960316085716, -32.84460560526438]]], &quot;type&quot;: &quot;Polygon&quot;}, &quot;id&quot;: &quot;127&quot;, &quot;properties&quot;: {&quot;aoi_code&quot;: &quot;AOI0342&quot;, &quot;cloud_cover&quot;: 2.36, &quot;id&quot;: &quot;2021-08-13&quot;, &quot;index&quot;: 38, &quot;percentage_valid_pixels&quot;: 0.9032720190729233, &quot;source&quot;: &quot;landsat&quot;}, &quot;type&quot;: &quot;Feature&quot;}, {&quot;bbox&quot;: [148.09960316085716, -32.84460560526438, 148.30960316085716, -32.634605605264376], &quot;geometry&quot;: {&quot;coordinates&quot;: [[[148.09960316085716, -32.84460560526438], [148.30960316085716, -32.84460560526438], [148.30960316085716, -32.634605605264376], [148.09960316085716, -32.634605605264376], [148.09960316085716, -32.84460560526438]]], &quot;type&quot;: &quot;Polygon&quot;}, &quot;id&quot;: &quot;128&quot;, &quot;properties&quot;: {&quot;aoi_code&quot;: &quot;AOI0342&quot;, &quot;cloud_cover&quot;: 0.0, &quot;id&quot;: &quot;2021-08-15&quot;, &quot;index&quot;: 90, &quot;percentage_valid_pixels&quot;: 1.0, &quot;source&quot;: &quot;s2&quot;}, &quot;type&quot;: &quot;Feature&quot;}, {&quot;bbox&quot;: [148.09960316085716, -32.84460560526438, 148.30960316085716, -32.634605605264376], &quot;geometry&quot;: {&quot;coordinates&quot;: [[[148.09960316085716, -32.84460560526438], [148.30960316085716, -32.84460560526438], [148.30960316085716, -32.634605605264376], [148.09960316085716, -32.634605605264376], [148.09960316085716, -32.84460560526438]]], &quot;type&quot;: &quot;Polygon&quot;}, &quot;id&quot;: &quot;129&quot;, &quot;properties&quot;: {&quot;aoi_code&quot;: &quot;AOI0342&quot;, &quot;cloud_cover&quot;: 0.0, &quot;id&quot;: &quot;2021-08-20&quot;, &quot;index&quot;: 91, &quot;percentage_valid_pixels&quot;: 1.0, &quot;source&quot;: &quot;s2&quot;}, &quot;type&quot;: &quot;Feature&quot;}, {&quot;bbox&quot;: [148.09960316085716, -32.84460560526438, 148.30960316085716, -32.634605605264376], &quot;geometry&quot;: {&quot;coordinates&quot;: [[[148.09960316085716, -32.84460560526438], [148.30960316085716, -32.84460560526438], [148.30960316085716, -32.634605605264376], [148.09960316085716, -32.634605605264376], [148.09960316085716, -32.84460560526438]]], &quot;type&quot;: &quot;Polygon&quot;}, &quot;id&quot;: &quot;130&quot;, &quot;properties&quot;: {&quot;aoi_code&quot;: &quot;AOI0342&quot;, &quot;cloud_cover&quot;: 33.7, &quot;id&quot;: &quot;2021-08-22&quot;, &quot;index&quot;: 37, &quot;percentage_valid_pixels&quot;: 1.0, &quot;source&quot;: &quot;landsat&quot;}, &quot;type&quot;: &quot;Feature&quot;}, {&quot;bbox&quot;: [148.09960316085716, -32.84460560526438, 148.30960316085716, -32.634605605264376], &quot;geometry&quot;: {&quot;coordinates&quot;: [[[148.09960316085716, -32.84460560526438], [148.30960316085716, -32.84460560526438], [148.30960316085716, -32.634605605264376], [148.09960316085716, -32.634605605264376], [148.09960316085716, -32.84460560526438]]], &quot;type&quot;: &quot;Polygon&quot;}, &quot;id&quot;: &quot;131&quot;, &quot;properties&quot;: {&quot;aoi_code&quot;: &quot;AOI0342&quot;, &quot;cloud_cover&quot;: 0.0, &quot;id&quot;: &quot;2021-08-25&quot;, &quot;index&quot;: 92, &quot;percentage_valid_pixels&quot;: 1.0, &quot;source&quot;: &quot;s2&quot;}, &quot;type&quot;: &quot;Feature&quot;}, {&quot;bbox&quot;: [148.09960316085716, -32.84460560526438, 148.30960316085716, -32.634605605264376], &quot;geometry&quot;: {&quot;coordinates&quot;: [[[148.09960316085716, -32.84460560526438], [148.30960316085716, -32.84460560526438], [148.30960316085716, -32.634605605264376], [148.09960316085716, -32.634605605264376], [148.09960316085716, -32.84460560526438]]], &quot;type&quot;: &quot;Polygon&quot;}, &quot;id&quot;: &quot;132&quot;, &quot;properties&quot;: {&quot;aoi_code&quot;: &quot;AOI0342&quot;, &quot;cloud_cover&quot;: 56.97, &quot;id&quot;: &quot;2021-08-29&quot;, &quot;index&quot;: 39, &quot;percentage_valid_pixels&quot;: 0.9112620531308199, &quot;source&quot;: &quot;landsat&quot;}, &quot;type&quot;: &quot;Feature&quot;}, {&quot;bbox&quot;: [148.09960316085716, -32.84460560526438, 148.30960316085716, -32.634605605264376], &quot;geometry&quot;: {&quot;coordinates&quot;: [[[148.09960316085716, -32.84460560526438], [148.30960316085716, -32.84460560526438], [148.30960316085716, -32.634605605264376], [148.09960316085716, -32.634605605264376], [148.09960316085716, -32.84460560526438]]], &quot;type&quot;: &quot;Polygon&quot;}, &quot;id&quot;: &quot;133&quot;, &quot;properties&quot;: {&quot;aoi_code&quot;: &quot;AOI0342&quot;, &quot;cloud_cover&quot;: 99.9962, &quot;id&quot;: &quot;2021-08-30&quot;, &quot;index&quot;: 93, &quot;percentage_valid_pixels&quot;: 1.0, &quot;source&quot;: &quot;s2&quot;}, &quot;type&quot;: &quot;Feature&quot;}, {&quot;bbox&quot;: [148.09960316085716, -32.644605605264374, 148.30960316085716, -32.43460560526437], &quot;geometry&quot;: {&quot;coordinates&quot;: [[[148.09960316085716, -32.644605605264374], [148.30960316085716, -32.644605605264374], [148.30960316085716, -32.43460560526437], [148.09960316085716, -32.43460560526437], [148.09960316085716, -32.644605605264374]]], &quot;type&quot;: &quot;Polygon&quot;}, &quot;id&quot;: &quot;134&quot;, &quot;properties&quot;: {&quot;aoi_code&quot;: &quot;AOI0343&quot;, &quot;cloud_cover&quot;: 57.2791, &quot;id&quot;: &quot;2021-08-05&quot;, &quot;index&quot;: 94, &quot;percentage_valid_pixels&quot;: 1.0, &quot;source&quot;: &quot;s2&quot;}, &quot;type&quot;: &quot;Feature&quot;}, {&quot;bbox&quot;: [148.09960316085716, -32.644605605264374, 148.30960316085716, -32.43460560526437], &quot;geometry&quot;: {&quot;coordinates&quot;: [[[148.09960316085716, -32.644605605264374], [148.30960316085716, -32.644605605264374], [148.30960316085716, -32.43460560526437], [148.09960316085716, -32.43460560526437], [148.09960316085716, -32.644605605264374]]], &quot;type&quot;: &quot;Polygon&quot;}, &quot;id&quot;: &quot;135&quot;, &quot;properties&quot;: {&quot;aoi_code&quot;: &quot;AOI0343&quot;, &quot;cloud_cover&quot;: 54.69, &quot;id&quot;: &quot;2021-08-06&quot;, &quot;index&quot;: 40, &quot;percentage_valid_pixels&quot;: 1.0, &quot;source&quot;: &quot;landsat&quot;}, &quot;type&quot;: &quot;Feature&quot;}, {&quot;bbox&quot;: [148.09960316085716, -32.644605605264374, 148.30960316085716, -32.43460560526437], &quot;geometry&quot;: {&quot;coordinates&quot;: [[[148.09960316085716, -32.644605605264374], [148.30960316085716, -32.644605605264374], [148.30960316085716, -32.43460560526437], [148.09960316085716, -32.43460560526437], [148.09960316085716, -32.644605605264374]]], &quot;type&quot;: &quot;Polygon&quot;}, &quot;id&quot;: &quot;136&quot;, &quot;properties&quot;: {&quot;aoi_code&quot;: &quot;AOI0343&quot;, &quot;cloud_cover&quot;: 1.937, &quot;id&quot;: &quot;2021-08-10&quot;, &quot;index&quot;: 95, &quot;percentage_valid_pixels&quot;: 1.0, &quot;source&quot;: &quot;s2&quot;}, &quot;type&quot;: &quot;Feature&quot;}, {&quot;bbox&quot;: [148.09960316085716, -32.644605605264374, 148.30960316085716, -32.43460560526437], &quot;geometry&quot;: {&quot;coordinates&quot;: [[[148.09960316085716, -32.644605605264374], [148.30960316085716, -32.644605605264374], [148.30960316085716, -32.43460560526437], [148.09960316085716, -32.43460560526437], [148.09960316085716, -32.644605605264374]]], &quot;type&quot;: &quot;Polygon&quot;}, &quot;id&quot;: &quot;137&quot;, &quot;properties&quot;: {&quot;aoi_code&quot;: &quot;AOI0343&quot;, &quot;cloud_cover&quot;: 2.36, &quot;id&quot;: &quot;2021-08-13&quot;, &quot;index&quot;: 42, &quot;percentage_valid_pixels&quot;: 1.0, &quot;source&quot;: &quot;landsat&quot;}, &quot;type&quot;: &quot;Feature&quot;}, {&quot;bbox&quot;: [148.09960316085716, -32.644605605264374, 148.30960316085716, -32.43460560526437], &quot;geometry&quot;: {&quot;coordinates&quot;: [[[148.09960316085716, -32.644605605264374], [148.30960316085716, -32.644605605264374], [148.30960316085716, -32.43460560526437], [148.09960316085716, -32.43460560526437], [148.09960316085716, -32.644605605264374]]], &quot;type&quot;: &quot;Polygon&quot;}, &quot;id&quot;: &quot;138&quot;, &quot;properties&quot;: {&quot;aoi_code&quot;: &quot;AOI0343&quot;, &quot;cloud_cover&quot;: 0.0, &quot;id&quot;: &quot;2021-08-15&quot;, &quot;index&quot;: 96, &quot;percentage_valid_pixels&quot;: 1.0, &quot;source&quot;: &quot;s2&quot;}, &quot;type&quot;: &quot;Feature&quot;}, {&quot;bbox&quot;: [148.09960316085716, -32.644605605264374, 148.30960316085716, -32.43460560526437], &quot;geometry&quot;: {&quot;coordinates&quot;: [[[148.09960316085716, -32.644605605264374], [148.30960316085716, -32.644605605264374], [148.30960316085716, -32.43460560526437], [148.09960316085716, -32.43460560526437], [148.09960316085716, -32.644605605264374]]], &quot;type&quot;: &quot;Polygon&quot;}, &quot;id&quot;: &quot;139&quot;, &quot;properties&quot;: {&quot;aoi_code&quot;: &quot;AOI0343&quot;, &quot;cloud_cover&quot;: 0.0, &quot;id&quot;: &quot;2021-08-20&quot;, &quot;index&quot;: 97, &quot;percentage_valid_pixels&quot;: 1.0, &quot;source&quot;: &quot;s2&quot;}, &quot;type&quot;: &quot;Feature&quot;}, {&quot;bbox&quot;: [148.09960316085716, -32.644605605264374, 148.30960316085716, -32.43460560526437], &quot;geometry&quot;: {&quot;coordinates&quot;: [[[148.09960316085716, -32.644605605264374], [148.30960316085716, -32.644605605264374], [148.30960316085716, -32.43460560526437], [148.09960316085716, -32.43460560526437], [148.09960316085716, -32.644605605264374]]], &quot;type&quot;: &quot;Polygon&quot;}, &quot;id&quot;: &quot;140&quot;, &quot;properties&quot;: {&quot;aoi_code&quot;: &quot;AOI0343&quot;, &quot;cloud_cover&quot;: 10.8, &quot;id&quot;: &quot;2021-08-22&quot;, &quot;index&quot;: 41, &quot;percentage_valid_pixels&quot;: 1.0, &quot;source&quot;: &quot;landsat&quot;}, &quot;type&quot;: &quot;Feature&quot;}, {&quot;bbox&quot;: [148.09960316085716, -32.644605605264374, 148.30960316085716, -32.43460560526437], &quot;geometry&quot;: {&quot;coordinates&quot;: [[[148.09960316085716, -32.644605605264374], [148.30960316085716, -32.644605605264374], [148.30960316085716, -32.43460560526437], [148.09960316085716, -32.43460560526437], [148.09960316085716, -32.644605605264374]]], &quot;type&quot;: &quot;Polygon&quot;}, &quot;id&quot;: &quot;141&quot;, &quot;properties&quot;: {&quot;aoi_code&quot;: &quot;AOI0343&quot;, &quot;cloud_cover&quot;: 0.0, &quot;id&quot;: &quot;2021-08-25&quot;, &quot;index&quot;: 98, &quot;percentage_valid_pixels&quot;: 1.0, &quot;source&quot;: &quot;s2&quot;}, &quot;type&quot;: &quot;Feature&quot;}, {&quot;bbox&quot;: [148.09960316085716, -32.644605605264374, 148.30960316085716, -32.43460560526437], &quot;geometry&quot;: {&quot;coordinates&quot;: [[[148.09960316085716, -32.644605605264374], [148.30960316085716, -32.644605605264374], [148.30960316085716, -32.43460560526437], [148.09960316085716, -32.43460560526437], [148.09960316085716, -32.644605605264374]]], &quot;type&quot;: &quot;Polygon&quot;}, &quot;id&quot;: &quot;142&quot;, &quot;properties&quot;: {&quot;aoi_code&quot;: &quot;AOI0343&quot;, &quot;cloud_cover&quot;: 56.97, &quot;id&quot;: &quot;2021-08-29&quot;, &quot;index&quot;: 43, &quot;percentage_valid_pixels&quot;: 1.0, &quot;source&quot;: &quot;landsat&quot;}, &quot;type&quot;: &quot;Feature&quot;}, {&quot;bbox&quot;: [148.09960316085716, -32.644605605264374, 148.30960316085716, -32.43460560526437], &quot;geometry&quot;: {&quot;coordinates&quot;: [[[148.09960316085716, -32.644605605264374], [148.30960316085716, -32.644605605264374], [148.30960316085716, -32.43460560526437], [148.09960316085716, -32.43460560526437], [148.09960316085716, -32.644605605264374]]], &quot;type&quot;: &quot;Polygon&quot;}, &quot;id&quot;: &quot;143&quot;, &quot;properties&quot;: {&quot;aoi_code&quot;: &quot;AOI0343&quot;, &quot;cloud_cover&quot;: 99.9962, &quot;id&quot;: &quot;2021-08-30&quot;, &quot;index&quot;: 99, &quot;percentage_valid_pixels&quot;: 1.0, &quot;source&quot;: &quot;s2&quot;}, &quot;type&quot;: &quot;Feature&quot;}, {&quot;bbox&quot;: [148.09960316085716, -32.44460560526437, 148.30960316085716, -32.23460560526437], &quot;geometry&quot;: {&quot;coordinates&quot;: [[[148.09960316085716, -32.44460560526437], [148.30960316085716, -32.44460560526437], [148.30960316085716, -32.23460560526437], [148.09960316085716, -32.23460560526437], [148.09960316085716, -32.44460560526437]]], &quot;type&quot;: &quot;Polygon&quot;}, &quot;id&quot;: &quot;144&quot;, &quot;properties&quot;: {&quot;aoi_code&quot;: &quot;AOI0344&quot;, &quot;cloud_cover&quot;: 43.652, &quot;id&quot;: &quot;2021-08-05&quot;, &quot;index&quot;: 100, &quot;percentage_valid_pixels&quot;: 1.0, &quot;source&quot;: &quot;s2&quot;}, &quot;type&quot;: &quot;Feature&quot;}, {&quot;bbox&quot;: [148.09960316085716, -32.44460560526437, 148.30960316085716, -32.23460560526437], &quot;geometry&quot;: {&quot;coordinates&quot;: [[[148.09960316085716, -32.44460560526437], [148.30960316085716, -32.44460560526437], [148.30960316085716, -32.23460560526437], [148.09960316085716, -32.23460560526437], [148.09960316085716, -32.44460560526437]]], &quot;type&quot;: &quot;Polygon&quot;}, &quot;id&quot;: &quot;145&quot;, &quot;properties&quot;: {&quot;aoi_code&quot;: &quot;AOI0344&quot;, &quot;cloud_cover&quot;: 54.69, &quot;id&quot;: &quot;2021-08-06&quot;, &quot;index&quot;: 44, &quot;percentage_valid_pixels&quot;: 1.0, &quot;source&quot;: &quot;landsat&quot;}, &quot;type&quot;: &quot;Feature&quot;}, {&quot;bbox&quot;: [148.09960316085716, -32.44460560526437, 148.30960316085716, -32.23460560526437], &quot;geometry&quot;: {&quot;coordinates&quot;: [[[148.09960316085716, -32.44460560526437], [148.30960316085716, -32.44460560526437], [148.30960316085716, -32.23460560526437], [148.09960316085716, -32.23460560526437], [148.09960316085716, -32.44460560526437]]], &quot;type&quot;: &quot;Polygon&quot;}, &quot;id&quot;: &quot;146&quot;, &quot;properties&quot;: {&quot;aoi_code&quot;: &quot;AOI0344&quot;, &quot;cloud_cover&quot;: 0.0, &quot;id&quot;: &quot;2021-08-10&quot;, &quot;index&quot;: 101, &quot;percentage_valid_pixels&quot;: 1.0, &quot;source&quot;: &quot;s2&quot;}, &quot;type&quot;: &quot;Feature&quot;}, {&quot;bbox&quot;: [148.09960316085716, -32.44460560526437, 148.30960316085716, -32.23460560526437], &quot;geometry&quot;: {&quot;coordinates&quot;: [[[148.09960316085716, -32.44460560526437], [148.30960316085716, -32.44460560526437], [148.30960316085716, -32.23460560526437], [148.09960316085716, -32.23460560526437], [148.09960316085716, -32.44460560526437]]], &quot;type&quot;: &quot;Polygon&quot;}, &quot;id&quot;: &quot;147&quot;, &quot;properties&quot;: {&quot;aoi_code&quot;: &quot;AOI0344&quot;, &quot;cloud_cover&quot;: 2.36, &quot;id&quot;: &quot;2021-08-13&quot;, &quot;index&quot;: 46, &quot;percentage_valid_pixels&quot;: 1.0, &quot;source&quot;: &quot;landsat&quot;}, &quot;type&quot;: &quot;Feature&quot;}, {&quot;bbox&quot;: [148.09960316085716, -32.44460560526437, 148.30960316085716, -32.23460560526437], &quot;geometry&quot;: {&quot;coordinates&quot;: [[[148.09960316085716, -32.44460560526437], [148.30960316085716, -32.44460560526437], [148.30960316085716, -32.23460560526437], [148.09960316085716, -32.23460560526437], [148.09960316085716, -32.44460560526437]]], &quot;type&quot;: &quot;Polygon&quot;}, &quot;id&quot;: &quot;148&quot;, &quot;properties&quot;: {&quot;aoi_code&quot;: &quot;AOI0344&quot;, &quot;cloud_cover&quot;: 0.0, &quot;id&quot;: &quot;2021-08-15&quot;, &quot;index&quot;: 102, &quot;percentage_valid_pixels&quot;: 1.0, &quot;source&quot;: &quot;s2&quot;}, &quot;type&quot;: &quot;Feature&quot;}, {&quot;bbox&quot;: [148.09960316085716, -32.44460560526437, 148.30960316085716, -32.23460560526437], &quot;geometry&quot;: {&quot;coordinates&quot;: [[[148.09960316085716, -32.44460560526437], [148.30960316085716, -32.44460560526437], [148.30960316085716, -32.23460560526437], [148.09960316085716, -32.23460560526437], [148.09960316085716, -32.44460560526437]]], &quot;type&quot;: &quot;Polygon&quot;}, &quot;id&quot;: &quot;149&quot;, &quot;properties&quot;: {&quot;aoi_code&quot;: &quot;AOI0344&quot;, &quot;cloud_cover&quot;: 0.0, &quot;id&quot;: &quot;2021-08-20&quot;, &quot;index&quot;: 103, &quot;percentage_valid_pixels&quot;: 1.0, &quot;source&quot;: &quot;s2&quot;}, &quot;type&quot;: &quot;Feature&quot;}, {&quot;bbox&quot;: [148.09960316085716, -32.44460560526437, 148.30960316085716, -32.23460560526437], &quot;geometry&quot;: {&quot;coordinates&quot;: [[[148.09960316085716, -32.44460560526437], [148.30960316085716, -32.44460560526437], [148.30960316085716, -32.23460560526437], [148.09960316085716, -32.23460560526437], [148.09960316085716, -32.44460560526437]]], &quot;type&quot;: &quot;Polygon&quot;}, &quot;id&quot;: &quot;150&quot;, &quot;properties&quot;: {&quot;aoi_code&quot;: &quot;AOI0344&quot;, &quot;cloud_cover&quot;: 10.8, &quot;id&quot;: &quot;2021-08-22&quot;, &quot;index&quot;: 45, &quot;percentage_valid_pixels&quot;: 1.0, &quot;source&quot;: &quot;landsat&quot;}, &quot;type&quot;: &quot;Feature&quot;}, {&quot;bbox&quot;: [148.09960316085716, -32.44460560526437, 148.30960316085716, -32.23460560526437], &quot;geometry&quot;: {&quot;coordinates&quot;: [[[148.09960316085716, -32.44460560526437], [148.30960316085716, -32.44460560526437], [148.30960316085716, -32.23460560526437], [148.09960316085716, -32.23460560526437], [148.09960316085716, -32.44460560526437]]], &quot;type&quot;: &quot;Polygon&quot;}, &quot;id&quot;: &quot;151&quot;, &quot;properties&quot;: {&quot;aoi_code&quot;: &quot;AOI0344&quot;, &quot;cloud_cover&quot;: 0.1242, &quot;id&quot;: &quot;2021-08-25&quot;, &quot;index&quot;: 104, &quot;percentage_valid_pixels&quot;: 1.0, &quot;source&quot;: &quot;s2&quot;}, &quot;type&quot;: &quot;Feature&quot;}, {&quot;bbox&quot;: [148.09960316085716, -32.44460560526437, 148.30960316085716, -32.23460560526437], &quot;geometry&quot;: {&quot;coordinates&quot;: [[[148.09960316085716, -32.44460560526437], [148.30960316085716, -32.44460560526437], [148.30960316085716, -32.23460560526437], [148.09960316085716, -32.23460560526437], [148.09960316085716, -32.44460560526437]]], &quot;type&quot;: &quot;Polygon&quot;}, &quot;id&quot;: &quot;152&quot;, &quot;properties&quot;: {&quot;aoi_code&quot;: &quot;AOI0344&quot;, &quot;cloud_cover&quot;: 56.97, &quot;id&quot;: &quot;2021-08-29&quot;, &quot;index&quot;: 47, &quot;percentage_valid_pixels&quot;: 1.0, &quot;source&quot;: &quot;landsat&quot;}, &quot;type&quot;: &quot;Feature&quot;}, {&quot;bbox&quot;: [148.09960316085716, -32.44460560526437, 148.30960316085716, -32.23460560526437], &quot;geometry&quot;: {&quot;coordinates&quot;: [[[148.09960316085716, -32.44460560526437], [148.30960316085716, -32.44460560526437], [148.30960316085716, -32.23460560526437], [148.09960316085716, -32.23460560526437], [148.09960316085716, -32.44460560526437]]], &quot;type&quot;: &quot;Polygon&quot;}, &quot;id&quot;: &quot;153&quot;, &quot;properties&quot;: {&quot;aoi_code&quot;: &quot;AOI0344&quot;, &quot;cloud_cover&quot;: 99.8591, &quot;id&quot;: &quot;2021-08-30&quot;, &quot;index&quot;: 105, &quot;percentage_valid_pixels&quot;: 1.0, &quot;source&quot;: &quot;s2&quot;}, &quot;type&quot;: &quot;Feature&quot;}, {&quot;bbox&quot;: [148.09960316085716, -32.24460560526437, 148.30960316085716, -32.03460560526437], &quot;geometry&quot;: {&quot;coordinates&quot;: [[[148.09960316085716, -32.24460560526437], [148.30960316085716, -32.24460560526437], [148.30960316085716, -32.03460560526437], [148.09960316085716, -32.03460560526437], [148.09960316085716, -32.24460560526437]]], &quot;type&quot;: &quot;Polygon&quot;}, &quot;id&quot;: &quot;154&quot;, &quot;properties&quot;: {&quot;aoi_code&quot;: &quot;AOI0368&quot;, &quot;cloud_cover&quot;: 43.652, &quot;id&quot;: &quot;2021-08-05&quot;, &quot;index&quot;: 106, &quot;percentage_valid_pixels&quot;: 1.0, &quot;source&quot;: &quot;s2&quot;}, &quot;type&quot;: &quot;Feature&quot;}, {&quot;bbox&quot;: [148.09960316085716, -32.24460560526437, 148.30960316085716, -32.03460560526437], &quot;geometry&quot;: {&quot;coordinates&quot;: [[[148.09960316085716, -32.24460560526437], [148.30960316085716, -32.24460560526437], [148.30960316085716, -32.03460560526437], [148.09960316085716, -32.03460560526437], [148.09960316085716, -32.24460560526437]]], &quot;type&quot;: &quot;Polygon&quot;}, &quot;id&quot;: &quot;155&quot;, &quot;properties&quot;: {&quot;aoi_code&quot;: &quot;AOI0368&quot;, &quot;cloud_cover&quot;: 54.69, &quot;id&quot;: &quot;2021-08-06&quot;, &quot;index&quot;: 48, &quot;percentage_valid_pixels&quot;: 1.0, &quot;source&quot;: &quot;landsat&quot;}, &quot;type&quot;: &quot;Feature&quot;}, {&quot;bbox&quot;: [148.09960316085716, -32.24460560526437, 148.30960316085716, -32.03460560526437], &quot;geometry&quot;: {&quot;coordinates&quot;: [[[148.09960316085716, -32.24460560526437], [148.30960316085716, -32.24460560526437], [148.30960316085716, -32.03460560526437], [148.09960316085716, -32.03460560526437], [148.09960316085716, -32.24460560526437]]], &quot;type&quot;: &quot;Polygon&quot;}, &quot;id&quot;: &quot;156&quot;, &quot;properties&quot;: {&quot;aoi_code&quot;: &quot;AOI0368&quot;, &quot;cloud_cover&quot;: 0.0, &quot;id&quot;: &quot;2021-08-10&quot;, &quot;index&quot;: 107, &quot;percentage_valid_pixels&quot;: 1.0, &quot;source&quot;: &quot;s2&quot;}, &quot;type&quot;: &quot;Feature&quot;}, {&quot;bbox&quot;: [148.09960316085716, -32.24460560526437, 148.30960316085716, -32.03460560526437], &quot;geometry&quot;: {&quot;coordinates&quot;: [[[148.09960316085716, -32.24460560526437], [148.30960316085716, -32.24460560526437], [148.30960316085716, -32.03460560526437], [148.09960316085716, -32.03460560526437], [148.09960316085716, -32.24460560526437]]], &quot;type&quot;: &quot;Polygon&quot;}, &quot;id&quot;: &quot;157&quot;, &quot;properties&quot;: {&quot;aoi_code&quot;: &quot;AOI0368&quot;, &quot;cloud_cover&quot;: 2.36, &quot;id&quot;: &quot;2021-08-13&quot;, &quot;index&quot;: 50, &quot;percentage_valid_pixels&quot;: 1.0, &quot;source&quot;: &quot;landsat&quot;}, &quot;type&quot;: &quot;Feature&quot;}, {&quot;bbox&quot;: [148.09960316085716, -32.24460560526437, 148.30960316085716, -32.03460560526437], &quot;geometry&quot;: {&quot;coordinates&quot;: [[[148.09960316085716, -32.24460560526437], [148.30960316085716, -32.24460560526437], [148.30960316085716, -32.03460560526437], [148.09960316085716, -32.03460560526437], [148.09960316085716, -32.24460560526437]]], &quot;type&quot;: &quot;Polygon&quot;}, &quot;id&quot;: &quot;158&quot;, &quot;properties&quot;: {&quot;aoi_code&quot;: &quot;AOI0368&quot;, &quot;cloud_cover&quot;: 0.0, &quot;id&quot;: &quot;2021-08-15&quot;, &quot;index&quot;: 108, &quot;percentage_valid_pixels&quot;: 0.9999989020774369, &quot;source&quot;: &quot;s2&quot;}, &quot;type&quot;: &quot;Feature&quot;}, {&quot;bbox&quot;: [148.09960316085716, -32.24460560526437, 148.30960316085716, -32.03460560526437], &quot;geometry&quot;: {&quot;coordinates&quot;: [[[148.09960316085716, -32.24460560526437], [148.30960316085716, -32.24460560526437], [148.30960316085716, -32.03460560526437], [148.09960316085716, -32.03460560526437], [148.09960316085716, -32.24460560526437]]], &quot;type&quot;: &quot;Polygon&quot;}, &quot;id&quot;: &quot;159&quot;, &quot;properties&quot;: {&quot;aoi_code&quot;: &quot;AOI0368&quot;, &quot;cloud_cover&quot;: 0.0, &quot;id&quot;: &quot;2021-08-20&quot;, &quot;index&quot;: 109, &quot;percentage_valid_pixels&quot;: 1.0, &quot;source&quot;: &quot;s2&quot;}, &quot;type&quot;: &quot;Feature&quot;}, {&quot;bbox&quot;: [148.09960316085716, -32.24460560526437, 148.30960316085716, -32.03460560526437], &quot;geometry&quot;: {&quot;coordinates&quot;: [[[148.09960316085716, -32.24460560526437], [148.30960316085716, -32.24460560526437], [148.30960316085716, -32.03460560526437], [148.09960316085716, -32.03460560526437], [148.09960316085716, -32.24460560526437]]], &quot;type&quot;: &quot;Polygon&quot;}, &quot;id&quot;: &quot;160&quot;, &quot;properties&quot;: {&quot;aoi_code&quot;: &quot;AOI0368&quot;, &quot;cloud_cover&quot;: 10.8, &quot;id&quot;: &quot;2021-08-22&quot;, &quot;index&quot;: 49, &quot;percentage_valid_pixels&quot;: 1.0, &quot;source&quot;: &quot;landsat&quot;}, &quot;type&quot;: &quot;Feature&quot;}, {&quot;bbox&quot;: [148.09960316085716, -32.24460560526437, 148.30960316085716, -32.03460560526437], &quot;geometry&quot;: {&quot;coordinates&quot;: [[[148.09960316085716, -32.24460560526437], [148.30960316085716, -32.24460560526437], [148.30960316085716, -32.03460560526437], [148.09960316085716, -32.03460560526437], [148.09960316085716, -32.24460560526437]]], &quot;type&quot;: &quot;Polygon&quot;}, &quot;id&quot;: &quot;161&quot;, &quot;properties&quot;: {&quot;aoi_code&quot;: &quot;AOI0368&quot;, &quot;cloud_cover&quot;: 0.1242, &quot;id&quot;: &quot;2021-08-25&quot;, &quot;index&quot;: 110, &quot;percentage_valid_pixels&quot;: 0.9999989020774369, &quot;source&quot;: &quot;s2&quot;}, &quot;type&quot;: &quot;Feature&quot;}, {&quot;bbox&quot;: [148.09960316085716, -32.24460560526437, 148.30960316085716, -32.03460560526437], &quot;geometry&quot;: {&quot;coordinates&quot;: [[[148.09960316085716, -32.24460560526437], [148.30960316085716, -32.24460560526437], [148.30960316085716, -32.03460560526437], [148.09960316085716, -32.03460560526437], [148.09960316085716, -32.24460560526437]]], &quot;type&quot;: &quot;Polygon&quot;}, &quot;id&quot;: &quot;162&quot;, &quot;properties&quot;: {&quot;aoi_code&quot;: &quot;AOI0368&quot;, &quot;cloud_cover&quot;: 56.97, &quot;id&quot;: &quot;2021-08-29&quot;, &quot;index&quot;: 51, &quot;percentage_valid_pixels&quot;: 1.0, &quot;source&quot;: &quot;landsat&quot;}, &quot;type&quot;: &quot;Feature&quot;}, {&quot;bbox&quot;: [148.09960316085716, -32.24460560526437, 148.30960316085716, -32.03460560526437], &quot;geometry&quot;: {&quot;coordinates&quot;: [[[148.09960316085716, -32.24460560526437], [148.30960316085716, -32.24460560526437], [148.30960316085716, -32.03460560526437], [148.09960316085716, -32.03460560526437], [148.09960316085716, -32.24460560526437]]], &quot;type&quot;: &quot;Polygon&quot;}, &quot;id&quot;: &quot;163&quot;, &quot;properties&quot;: {&quot;aoi_code&quot;: &quot;AOI0368&quot;, &quot;cloud_cover&quot;: 99.8591, &quot;id&quot;: &quot;2021-08-30&quot;, &quot;index&quot;: 111, &quot;percentage_valid_pixels&quot;: 1.0, &quot;source&quot;: &quot;s2&quot;}, &quot;type&quot;: &quot;Feature&quot;}, {&quot;bbox&quot;: [148.09960316085716, -32.044605605264366, 148.30960316085716, -31.834605605264365], &quot;geometry&quot;: {&quot;coordinates&quot;: [[[148.09960316085716, -32.044605605264366], [148.30960316085716, -32.044605605264366], [148.30960316085716, -31.834605605264365], [148.09960316085716, -31.834605605264365], [148.09960316085716, -32.044605605264366]]], &quot;type&quot;: &quot;Polygon&quot;}, &quot;id&quot;: &quot;164&quot;, &quot;properties&quot;: {&quot;aoi_code&quot;: &quot;AOI0369&quot;, &quot;cloud_cover&quot;: 43.652, &quot;id&quot;: &quot;2021-08-05&quot;, &quot;index&quot;: 112, &quot;percentage_valid_pixels&quot;: 1.0, &quot;source&quot;: &quot;s2&quot;}, &quot;type&quot;: &quot;Feature&quot;}, {&quot;bbox&quot;: [148.09960316085716, -32.044605605264366, 148.30960316085716, -31.834605605264365], &quot;geometry&quot;: {&quot;coordinates&quot;: [[[148.09960316085716, -32.044605605264366], [148.30960316085716, -32.044605605264366], [148.30960316085716, -31.834605605264365], [148.09960316085716, -31.834605605264365], [148.09960316085716, -32.044605605264366]]], &quot;type&quot;: &quot;Polygon&quot;}, &quot;id&quot;: &quot;165&quot;, &quot;properties&quot;: {&quot;aoi_code&quot;: &quot;AOI0369&quot;, &quot;cloud_cover&quot;: 54.69, &quot;id&quot;: &quot;2021-08-06&quot;, &quot;index&quot;: 52, &quot;percentage_valid_pixels&quot;: 1.0, &quot;source&quot;: &quot;landsat&quot;}, &quot;type&quot;: &quot;Feature&quot;}, {&quot;bbox&quot;: [148.09960316085716, -32.044605605264366, 148.30960316085716, -31.834605605264365], &quot;geometry&quot;: {&quot;coordinates&quot;: [[[148.09960316085716, -32.044605605264366], [148.30960316085716, -32.044605605264366], [148.30960316085716, -31.834605605264365], [148.09960316085716, -31.834605605264365], [148.09960316085716, -32.044605605264366]]], &quot;type&quot;: &quot;Polygon&quot;}, &quot;id&quot;: &quot;166&quot;, &quot;properties&quot;: {&quot;aoi_code&quot;: &quot;AOI0369&quot;, &quot;cloud_cover&quot;: 0.0, &quot;id&quot;: &quot;2021-08-10&quot;, &quot;index&quot;: 113, &quot;percentage_valid_pixels&quot;: 1.0, &quot;source&quot;: &quot;s2&quot;}, &quot;type&quot;: &quot;Feature&quot;}, {&quot;bbox&quot;: [148.09960316085716, -32.044605605264366, 148.30960316085716, -31.834605605264365], &quot;geometry&quot;: {&quot;coordinates&quot;: [[[148.09960316085716, -32.044605605264366], [148.30960316085716, -32.044605605264366], [148.30960316085716, -31.834605605264365], [148.09960316085716, -31.834605605264365], [148.09960316085716, -32.044605605264366]]], &quot;type&quot;: &quot;Polygon&quot;}, &quot;id&quot;: &quot;167&quot;, &quot;properties&quot;: {&quot;aoi_code&quot;: &quot;AOI0369&quot;, &quot;cloud_cover&quot;: 2.36, &quot;id&quot;: &quot;2021-08-13&quot;, &quot;index&quot;: 54, &quot;percentage_valid_pixels&quot;: 1.0, &quot;source&quot;: &quot;landsat&quot;}, &quot;type&quot;: &quot;Feature&quot;}, {&quot;bbox&quot;: [148.09960316085716, -32.044605605264366, 148.30960316085716, -31.834605605264365], &quot;geometry&quot;: {&quot;coordinates&quot;: [[[148.09960316085716, -32.044605605264366], [148.30960316085716, -32.044605605264366], [148.30960316085716, -31.834605605264365], [148.09960316085716, -31.834605605264365], [148.09960316085716, -32.044605605264366]]], &quot;type&quot;: &quot;Polygon&quot;}, &quot;id&quot;: &quot;168&quot;, &quot;properties&quot;: {&quot;aoi_code&quot;: &quot;AOI0369&quot;, &quot;cloud_cover&quot;: 0.0, &quot;id&quot;: &quot;2021-08-15&quot;, &quot;index&quot;: 114, &quot;percentage_valid_pixels&quot;: 0.9999989019722934, &quot;source&quot;: &quot;s2&quot;}, &quot;type&quot;: &quot;Feature&quot;}, {&quot;bbox&quot;: [148.09960316085716, -32.044605605264366, 148.30960316085716, -31.834605605264365], &quot;geometry&quot;: {&quot;coordinates&quot;: [[[148.09960316085716, -32.044605605264366], [148.30960316085716, -32.044605605264366], [148.30960316085716, -31.834605605264365], [148.09960316085716, -31.834605605264365], [148.09960316085716, -32.044605605264366]]], &quot;type&quot;: &quot;Polygon&quot;}, &quot;id&quot;: &quot;169&quot;, &quot;properties&quot;: {&quot;aoi_code&quot;: &quot;AOI0369&quot;, &quot;cloud_cover&quot;: 0.0, &quot;id&quot;: &quot;2021-08-20&quot;, &quot;index&quot;: 115, &quot;percentage_valid_pixels&quot;: 1.0, &quot;source&quot;: &quot;s2&quot;}, &quot;type&quot;: &quot;Feature&quot;}, {&quot;bbox&quot;: [148.09960316085716, -32.044605605264366, 148.30960316085716, -31.834605605264365], &quot;geometry&quot;: {&quot;coordinates&quot;: [[[148.09960316085716, -32.044605605264366], [148.30960316085716, -32.044605605264366], [148.30960316085716, -31.834605605264365], [148.09960316085716, -31.834605605264365], [148.09960316085716, -32.044605605264366]]], &quot;type&quot;: &quot;Polygon&quot;}, &quot;id&quot;: &quot;170&quot;, &quot;properties&quot;: {&quot;aoi_code&quot;: &quot;AOI0369&quot;, &quot;cloud_cover&quot;: 10.8, &quot;id&quot;: &quot;2021-08-22&quot;, &quot;index&quot;: 53, &quot;percentage_valid_pixels&quot;: 1.0, &quot;source&quot;: &quot;landsat&quot;}, &quot;type&quot;: &quot;Feature&quot;}, {&quot;bbox&quot;: [148.09960316085716, -32.044605605264366, 148.30960316085716, -31.834605605264365], &quot;geometry&quot;: {&quot;coordinates&quot;: [[[148.09960316085716, -32.044605605264366], [148.30960316085716, -32.044605605264366], [148.30960316085716, -31.834605605264365], [148.09960316085716, -31.834605605264365], [148.09960316085716, -32.044605605264366]]], &quot;type&quot;: &quot;Polygon&quot;}, &quot;id&quot;: &quot;171&quot;, &quot;properties&quot;: {&quot;aoi_code&quot;: &quot;AOI0369&quot;, &quot;cloud_cover&quot;: 0.1242, &quot;id&quot;: &quot;2021-08-25&quot;, &quot;index&quot;: 116, &quot;percentage_valid_pixels&quot;: 1.0, &quot;source&quot;: &quot;s2&quot;}, &quot;type&quot;: &quot;Feature&quot;}, {&quot;bbox&quot;: [148.09960316085716, -32.044605605264366, 148.30960316085716, -31.834605605264365], &quot;geometry&quot;: {&quot;coordinates&quot;: [[[148.09960316085716, -32.044605605264366], [148.30960316085716, -32.044605605264366], [148.30960316085716, -31.834605605264365], [148.09960316085716, -31.834605605264365], [148.09960316085716, -32.044605605264366]]], &quot;type&quot;: &quot;Polygon&quot;}, &quot;id&quot;: &quot;172&quot;, &quot;properties&quot;: {&quot;aoi_code&quot;: &quot;AOI0369&quot;, &quot;cloud_cover&quot;: 56.97, &quot;id&quot;: &quot;2021-08-29&quot;, &quot;index&quot;: 55, &quot;percentage_valid_pixels&quot;: 1.0, &quot;source&quot;: &quot;landsat&quot;}, &quot;type&quot;: &quot;Feature&quot;}, {&quot;bbox&quot;: [148.09960316085716, -32.044605605264366, 148.30960316085716, -31.834605605264365], &quot;geometry&quot;: {&quot;coordinates&quot;: [[[148.09960316085716, -32.044605605264366], [148.30960316085716, -32.044605605264366], [148.30960316085716, -31.834605605264365], [148.09960316085716, -31.834605605264365], [148.09960316085716, -32.044605605264366]]], &quot;type&quot;: &quot;Polygon&quot;}, &quot;id&quot;: &quot;173&quot;, &quot;properties&quot;: {&quot;aoi_code&quot;: &quot;AOI0369&quot;, &quot;cloud_cover&quot;: 99.8591, &quot;id&quot;: &quot;2021-08-30&quot;, &quot;index&quot;: 117, &quot;percentage_valid_pixels&quot;: 1.0, &quot;source&quot;: &quot;s2&quot;}, &quot;type&quot;: &quot;Feature&quot;}, {&quot;bbox&quot;: [148.29960316085715, -32.84460560526438, 148.50960316085715, -32.634605605264376], &quot;geometry&quot;: {&quot;coordinates&quot;: [[[148.29960316085715, -32.84460560526438], [148.50960316085715, -32.84460560526438], [148.50960316085715, -32.634605605264376], [148.29960316085715, -32.634605605264376], [148.29960316085715, -32.84460560526438]]], &quot;type&quot;: &quot;Polygon&quot;}, &quot;id&quot;: &quot;174&quot;, &quot;properties&quot;: {&quot;aoi_code&quot;: &quot;AOI0370&quot;, &quot;cloud_cover&quot;: 62.0954, &quot;id&quot;: &quot;2021-08-05&quot;, &quot;index&quot;: 118, &quot;percentage_valid_pixels&quot;: 1.0, &quot;source&quot;: &quot;s2&quot;}, &quot;type&quot;: &quot;Feature&quot;}, {&quot;bbox&quot;: [148.29960316085715, -32.84460560526438, 148.50960316085715, -32.634605605264376], &quot;geometry&quot;: {&quot;coordinates&quot;: [[[148.29960316085715, -32.84460560526438], [148.50960316085715, -32.84460560526438], [148.50960316085715, -32.634605605264376], [148.29960316085715, -32.634605605264376], [148.29960316085715, -32.84460560526438]]], &quot;type&quot;: &quot;Polygon&quot;}, &quot;id&quot;: &quot;175&quot;, &quot;properties&quot;: {&quot;aoi_code&quot;: &quot;AOI0370&quot;, &quot;cloud_cover&quot;: 88.71, &quot;id&quot;: &quot;2021-08-06&quot;, &quot;index&quot;: 56, &quot;percentage_valid_pixels&quot;: 1.0, &quot;source&quot;: &quot;landsat&quot;}, &quot;type&quot;: &quot;Feature&quot;}, {&quot;bbox&quot;: [148.29960316085715, -32.84460560526438, 148.50960316085715, -32.634605605264376], &quot;geometry&quot;: {&quot;coordinates&quot;: [[[148.29960316085715, -32.84460560526438], [148.50960316085715, -32.84460560526438], [148.50960316085715, -32.634605605264376], [148.29960316085715, -32.634605605264376], [148.29960316085715, -32.84460560526438]]], &quot;type&quot;: &quot;Polygon&quot;}, &quot;id&quot;: &quot;176&quot;, &quot;properties&quot;: {&quot;aoi_code&quot;: &quot;AOI0370&quot;, &quot;cloud_cover&quot;: 18.504, &quot;id&quot;: &quot;2021-08-10&quot;, &quot;index&quot;: 119, &quot;percentage_valid_pixels&quot;: 1.0, &quot;source&quot;: &quot;s2&quot;}, &quot;type&quot;: &quot;Feature&quot;}, {&quot;bbox&quot;: [148.29960316085715, -32.84460560526438, 148.50960316085715, -32.634605605264376], &quot;geometry&quot;: {&quot;coordinates&quot;: [[[148.29960316085715, -32.84460560526438], [148.50960316085715, -32.84460560526438], [148.50960316085715, -32.634605605264376], [148.29960316085715, -32.634605605264376], [148.29960316085715, -32.84460560526438]]], &quot;type&quot;: &quot;Polygon&quot;}, &quot;id&quot;: &quot;177&quot;, &quot;properties&quot;: {&quot;aoi_code&quot;: &quot;AOI0370&quot;, &quot;cloud_cover&quot;: 2.36, &quot;id&quot;: &quot;2021-08-13&quot;, &quot;index&quot;: 58, &quot;percentage_valid_pixels&quot;: 0.013345028801244191, &quot;source&quot;: &quot;landsat&quot;}, &quot;type&quot;: &quot;Feature&quot;}, {&quot;bbox&quot;: [148.29960316085715, -32.84460560526438, 148.50960316085715, -32.634605605264376], &quot;geometry&quot;: {&quot;coordinates&quot;: [[[148.29960316085715, -32.84460560526438], [148.50960316085715, -32.84460560526438], [148.50960316085715, -32.634605605264376], [148.29960316085715, -32.634605605264376], [148.29960316085715, -32.84460560526438]]], &quot;type&quot;: &quot;Polygon&quot;}, &quot;id&quot;: &quot;178&quot;, &quot;properties&quot;: {&quot;aoi_code&quot;: &quot;AOI0370&quot;, &quot;cloud_cover&quot;: 3.6993, &quot;id&quot;: &quot;2021-08-15&quot;, &quot;index&quot;: 120, &quot;percentage_valid_pixels&quot;: 1.0, &quot;source&quot;: &quot;s2&quot;}, &quot;type&quot;: &quot;Feature&quot;}, {&quot;bbox&quot;: [148.29960316085715, -32.84460560526438, 148.50960316085715, -32.634605605264376], &quot;geometry&quot;: {&quot;coordinates&quot;: [[[148.29960316085715, -32.84460560526438], [148.50960316085715, -32.84460560526438], [148.50960316085715, -32.634605605264376], [148.29960316085715, -32.634605605264376], [148.29960316085715, -32.84460560526438]]], &quot;type&quot;: &quot;Polygon&quot;}, &quot;id&quot;: &quot;179&quot;, &quot;properties&quot;: {&quot;aoi_code&quot;: &quot;AOI0370&quot;, &quot;cloud_cover&quot;: 0.0, &quot;id&quot;: &quot;2021-08-20&quot;, &quot;index&quot;: 121, &quot;percentage_valid_pixels&quot;: 1.0, &quot;source&quot;: &quot;s2&quot;}, &quot;type&quot;: &quot;Feature&quot;}, {&quot;bbox&quot;: [148.29960316085715, -32.84460560526438, 148.50960316085715, -32.634605605264376], &quot;geometry&quot;: {&quot;coordinates&quot;: [[[148.29960316085715, -32.84460560526438], [148.50960316085715, -32.84460560526438], [148.50960316085715, -32.634605605264376], [148.29960316085715, -32.634605605264376], [148.29960316085715, -32.84460560526438]]], &quot;type&quot;: &quot;Polygon&quot;}, &quot;id&quot;: &quot;180&quot;, &quot;properties&quot;: {&quot;aoi_code&quot;: &quot;AOI0370&quot;, &quot;cloud_cover&quot;: 33.7, &quot;id&quot;: &quot;2021-08-22&quot;, &quot;index&quot;: 57, &quot;percentage_valid_pixels&quot;: 1.0, &quot;source&quot;: &quot;landsat&quot;}, &quot;type&quot;: &quot;Feature&quot;}, {&quot;bbox&quot;: [148.29960316085715, -32.84460560526438, 148.50960316085715, -32.634605605264376], &quot;geometry&quot;: {&quot;coordinates&quot;: [[[148.29960316085715, -32.84460560526438], [148.50960316085715, -32.84460560526438], [148.50960316085715, -32.634605605264376], [148.29960316085715, -32.634605605264376], [148.29960316085715, -32.84460560526438]]], &quot;type&quot;: &quot;Polygon&quot;}, &quot;id&quot;: &quot;181&quot;, &quot;properties&quot;: {&quot;aoi_code&quot;: &quot;AOI0370&quot;, &quot;cloud_cover&quot;: 0.0382, &quot;id&quot;: &quot;2021-08-25&quot;, &quot;index&quot;: 122, &quot;percentage_valid_pixels&quot;: 1.0, &quot;source&quot;: &quot;s2&quot;}, &quot;type&quot;: &quot;Feature&quot;}, {&quot;bbox&quot;: [148.29960316085715, -32.84460560526438, 148.50960316085715, -32.634605605264376], &quot;geometry&quot;: {&quot;coordinates&quot;: [[[148.29960316085715, -32.84460560526438], [148.50960316085715, -32.84460560526438], [148.50960316085715, -32.634605605264376], [148.29960316085715, -32.634605605264376], [148.29960316085715, -32.84460560526438]]], &quot;type&quot;: &quot;Polygon&quot;}, &quot;id&quot;: &quot;182&quot;, &quot;properties&quot;: {&quot;aoi_code&quot;: &quot;AOI0370&quot;, &quot;cloud_cover&quot;: 56.97, &quot;id&quot;: &quot;2021-08-29&quot;, &quot;index&quot;: 59, &quot;percentage_valid_pixels&quot;: 0.016579717252071212, &quot;source&quot;: &quot;landsat&quot;}, &quot;type&quot;: &quot;Feature&quot;}, {&quot;bbox&quot;: [148.29960316085715, -32.84460560526438, 148.50960316085715, -32.634605605264376], &quot;geometry&quot;: {&quot;coordinates&quot;: [[[148.29960316085715, -32.84460560526438], [148.50960316085715, -32.84460560526438], [148.50960316085715, -32.634605605264376], [148.29960316085715, -32.634605605264376], [148.29960316085715, -32.84460560526438]]], &quot;type&quot;: &quot;Polygon&quot;}, &quot;id&quot;: &quot;183&quot;, &quot;properties&quot;: {&quot;aoi_code&quot;: &quot;AOI0370&quot;, &quot;cloud_cover&quot;: 99.8153, &quot;id&quot;: &quot;2021-08-30&quot;, &quot;index&quot;: 123, &quot;percentage_valid_pixels&quot;: 1.0, &quot;source&quot;: &quot;s2&quot;}, &quot;type&quot;: &quot;Feature&quot;}, {&quot;bbox&quot;: [148.29960316085715, -32.644605605264374, 148.50960316085715, -32.43460560526437], &quot;geometry&quot;: {&quot;coordinates&quot;: [[[148.29960316085715, -32.644605605264374], [148.50960316085715, -32.644605605264374], [148.50960316085715, -32.43460560526437], [148.29960316085715, -32.43460560526437], [148.29960316085715, -32.644605605264374]]], &quot;type&quot;: &quot;Polygon&quot;}, &quot;id&quot;: &quot;184&quot;, &quot;properties&quot;: {&quot;aoi_code&quot;: &quot;AOI0371&quot;, &quot;cloud_cover&quot;: 62.0954, &quot;id&quot;: &quot;2021-08-05&quot;, &quot;index&quot;: 124, &quot;percentage_valid_pixels&quot;: 1.0, &quot;source&quot;: &quot;s2&quot;}, &quot;type&quot;: &quot;Feature&quot;}, {&quot;bbox&quot;: [148.29960316085715, -32.644605605264374, 148.50960316085715, -32.43460560526437], &quot;geometry&quot;: {&quot;coordinates&quot;: [[[148.29960316085715, -32.644605605264374], [148.50960316085715, -32.644605605264374], [148.50960316085715, -32.43460560526437], [148.29960316085715, -32.43460560526437], [148.29960316085715, -32.644605605264374]]], &quot;type&quot;: &quot;Polygon&quot;}, &quot;id&quot;: &quot;185&quot;, &quot;properties&quot;: {&quot;aoi_code&quot;: &quot;AOI0371&quot;, &quot;cloud_cover&quot;: 54.69, &quot;id&quot;: &quot;2021-08-06&quot;, &quot;index&quot;: 60, &quot;percentage_valid_pixels&quot;: 1.0, &quot;source&quot;: &quot;landsat&quot;}, &quot;type&quot;: &quot;Feature&quot;}, {&quot;bbox&quot;: [148.29960316085715, -32.644605605264374, 148.50960316085715, -32.43460560526437], &quot;geometry&quot;: {&quot;coordinates&quot;: [[[148.29960316085715, -32.644605605264374], [148.50960316085715, -32.644605605264374], [148.50960316085715, -32.43460560526437], [148.29960316085715, -32.43460560526437], [148.29960316085715, -32.644605605264374]]], &quot;type&quot;: &quot;Polygon&quot;}, &quot;id&quot;: &quot;186&quot;, &quot;properties&quot;: {&quot;aoi_code&quot;: &quot;AOI0371&quot;, &quot;cloud_cover&quot;: 18.504, &quot;id&quot;: &quot;2021-08-10&quot;, &quot;index&quot;: 125, &quot;percentage_valid_pixels&quot;: 1.0, &quot;source&quot;: &quot;s2&quot;}, &quot;type&quot;: &quot;Feature&quot;}, {&quot;bbox&quot;: [148.29960316085715, -32.644605605264374, 148.50960316085715, -32.43460560526437], &quot;geometry&quot;: {&quot;coordinates&quot;: [[[148.29960316085715, -32.644605605264374], [148.50960316085715, -32.644605605264374], [148.50960316085715, -32.43460560526437], [148.29960316085715, -32.43460560526437], [148.29960316085715, -32.644605605264374]]], &quot;type&quot;: &quot;Polygon&quot;}, &quot;id&quot;: &quot;187&quot;, &quot;properties&quot;: {&quot;aoi_code&quot;: &quot;AOI0371&quot;, &quot;cloud_cover&quot;: 2.36, &quot;id&quot;: &quot;2021-08-13&quot;, &quot;index&quot;: 62, &quot;percentage_valid_pixels&quot;: 0.20123265678058055, &quot;source&quot;: &quot;landsat&quot;}, &quot;type&quot;: &quot;Feature&quot;}, {&quot;bbox&quot;: [148.29960316085715, -32.644605605264374, 148.50960316085715, -32.43460560526437], &quot;geometry&quot;: {&quot;coordinates&quot;: [[[148.29960316085715, -32.644605605264374], [148.50960316085715, -32.644605605264374], [148.50960316085715, -32.43460560526437], [148.29960316085715, -32.43460560526437], [148.29960316085715, -32.644605605264374]]], &quot;type&quot;: &quot;Polygon&quot;}, &quot;id&quot;: &quot;188&quot;, &quot;properties&quot;: {&quot;aoi_code&quot;: &quot;AOI0371&quot;, &quot;cloud_cover&quot;: 3.6993, &quot;id&quot;: &quot;2021-08-15&quot;, &quot;index&quot;: 126, &quot;percentage_valid_pixels&quot;: 1.0, &quot;source&quot;: &quot;s2&quot;}, &quot;type&quot;: &quot;Feature&quot;}, {&quot;bbox&quot;: [148.29960316085715, -32.644605605264374, 148.50960316085715, -32.43460560526437], &quot;geometry&quot;: {&quot;coordinates&quot;: [[[148.29960316085715, -32.644605605264374], [148.50960316085715, -32.644605605264374], [148.50960316085715, -32.43460560526437], [148.29960316085715, -32.43460560526437], [148.29960316085715, -32.644605605264374]]], &quot;type&quot;: &quot;Polygon&quot;}, &quot;id&quot;: &quot;189&quot;, &quot;properties&quot;: {&quot;aoi_code&quot;: &quot;AOI0371&quot;, &quot;cloud_cover&quot;: 0.0, &quot;id&quot;: &quot;2021-08-20&quot;, &quot;index&quot;: 127, &quot;percentage_valid_pixels&quot;: 1.0, &quot;source&quot;: &quot;s2&quot;}, &quot;type&quot;: &quot;Feature&quot;}, {&quot;bbox&quot;: [148.29960316085715, -32.644605605264374, 148.50960316085715, -32.43460560526437], &quot;geometry&quot;: {&quot;coordinates&quot;: [[[148.29960316085715, -32.644605605264374], [148.50960316085715, -32.644605605264374], [148.50960316085715, -32.43460560526437], [148.29960316085715, -32.43460560526437], [148.29960316085715, -32.644605605264374]]], &quot;type&quot;: &quot;Polygon&quot;}, &quot;id&quot;: &quot;190&quot;, &quot;properties&quot;: {&quot;aoi_code&quot;: &quot;AOI0371&quot;, &quot;cloud_cover&quot;: 10.8, &quot;id&quot;: &quot;2021-08-22&quot;, &quot;index&quot;: 61, &quot;percentage_valid_pixels&quot;: 1.0, &quot;source&quot;: &quot;landsat&quot;}, &quot;type&quot;: &quot;Feature&quot;}, {&quot;bbox&quot;: [148.29960316085715, -32.644605605264374, 148.50960316085715, -32.43460560526437], &quot;geometry&quot;: {&quot;coordinates&quot;: [[[148.29960316085715, -32.644605605264374], [148.50960316085715, -32.644605605264374], [148.50960316085715, -32.43460560526437], [148.29960316085715, -32.43460560526437], [148.29960316085715, -32.644605605264374]]], &quot;type&quot;: &quot;Polygon&quot;}, &quot;id&quot;: &quot;191&quot;, &quot;properties&quot;: {&quot;aoi_code&quot;: &quot;AOI0371&quot;, &quot;cloud_cover&quot;: 0.0382, &quot;id&quot;: &quot;2021-08-25&quot;, &quot;index&quot;: 128, &quot;percentage_valid_pixels&quot;: 1.0, &quot;source&quot;: &quot;s2&quot;}, &quot;type&quot;: &quot;Feature&quot;}, {&quot;bbox&quot;: [148.29960316085715, -32.644605605264374, 148.50960316085715, -32.43460560526437], &quot;geometry&quot;: {&quot;coordinates&quot;: [[[148.29960316085715, -32.644605605264374], [148.50960316085715, -32.644605605264374], [148.50960316085715, -32.43460560526437], [148.29960316085715, -32.43460560526437], [148.29960316085715, -32.644605605264374]]], &quot;type&quot;: &quot;Polygon&quot;}, &quot;id&quot;: &quot;192&quot;, &quot;properties&quot;: {&quot;aoi_code&quot;: &quot;AOI0371&quot;, &quot;cloud_cover&quot;: 56.97, &quot;id&quot;: &quot;2021-08-29&quot;, &quot;index&quot;: 63, &quot;percentage_valid_pixels&quot;: 0.21067583580930083, &quot;source&quot;: &quot;landsat&quot;}, &quot;type&quot;: &quot;Feature&quot;}, {&quot;bbox&quot;: [148.29960316085715, -32.644605605264374, 148.50960316085715, -32.43460560526437], &quot;geometry&quot;: {&quot;coordinates&quot;: [[[148.29960316085715, -32.644605605264374], [148.50960316085715, -32.644605605264374], [148.50960316085715, -32.43460560526437], [148.29960316085715, -32.43460560526437], [148.29960316085715, -32.644605605264374]]], &quot;type&quot;: &quot;Polygon&quot;}, &quot;id&quot;: &quot;193&quot;, &quot;properties&quot;: {&quot;aoi_code&quot;: &quot;AOI0371&quot;, &quot;cloud_cover&quot;: 99.8153, &quot;id&quot;: &quot;2021-08-30&quot;, &quot;index&quot;: 129, &quot;percentage_valid_pixels&quot;: 1.0, &quot;source&quot;: &quot;s2&quot;}, &quot;type&quot;: &quot;Feature&quot;}, {&quot;bbox&quot;: [148.29960316085715, -32.44460560526437, 148.50960316085715, -32.23460560526437], &quot;geometry&quot;: {&quot;coordinates&quot;: [[[148.29960316085715, -32.44460560526437], [148.50960316085715, -32.44460560526437], [148.50960316085715, -32.23460560526437], [148.29960316085715, -32.23460560526437], [148.29960316085715, -32.44460560526437]]], &quot;type&quot;: &quot;Polygon&quot;}, &quot;id&quot;: &quot;194&quot;, &quot;properties&quot;: {&quot;aoi_code&quot;: &quot;AOI0372&quot;, &quot;cloud_cover&quot;: 61.6913, &quot;id&quot;: &quot;2021-08-05&quot;, &quot;index&quot;: 130, &quot;percentage_valid_pixels&quot;: 1.0, &quot;source&quot;: &quot;s2&quot;}, &quot;type&quot;: &quot;Feature&quot;}, {&quot;bbox&quot;: [148.29960316085715, -32.44460560526437, 148.50960316085715, -32.23460560526437], &quot;geometry&quot;: {&quot;coordinates&quot;: [[[148.29960316085715, -32.44460560526437], [148.50960316085715, -32.44460560526437], [148.50960316085715, -32.23460560526437], [148.29960316085715, -32.23460560526437], [148.29960316085715, -32.44460560526437]]], &quot;type&quot;: &quot;Polygon&quot;}, &quot;id&quot;: &quot;195&quot;, &quot;properties&quot;: {&quot;aoi_code&quot;: &quot;AOI0372&quot;, &quot;cloud_cover&quot;: 54.69, &quot;id&quot;: &quot;2021-08-06&quot;, &quot;index&quot;: 64, &quot;percentage_valid_pixels&quot;: 1.0, &quot;source&quot;: &quot;landsat&quot;}, &quot;type&quot;: &quot;Feature&quot;}, {&quot;bbox&quot;: [148.29960316085715, -32.44460560526437, 148.50960316085715, -32.23460560526437], &quot;geometry&quot;: {&quot;coordinates&quot;: [[[148.29960316085715, -32.44460560526437], [148.50960316085715, -32.44460560526437], [148.50960316085715, -32.23460560526437], [148.29960316085715, -32.23460560526437], [148.29960316085715, -32.44460560526437]]], &quot;type&quot;: &quot;Polygon&quot;}, &quot;id&quot;: &quot;196&quot;, &quot;properties&quot;: {&quot;aoi_code&quot;: &quot;AOI0372&quot;, &quot;cloud_cover&quot;: 0.1973, &quot;id&quot;: &quot;2021-08-10&quot;, &quot;index&quot;: 131, &quot;percentage_valid_pixels&quot;: 1.0, &quot;source&quot;: &quot;s2&quot;}, &quot;type&quot;: &quot;Feature&quot;}, {&quot;bbox&quot;: [148.29960316085715, -32.44460560526437, 148.50960316085715, -32.23460560526437], &quot;geometry&quot;: {&quot;coordinates&quot;: [[[148.29960316085715, -32.44460560526437], [148.50960316085715, -32.44460560526437], [148.50960316085715, -32.23460560526437], [148.29960316085715, -32.23460560526437], [148.29960316085715, -32.44460560526437]]], &quot;type&quot;: &quot;Polygon&quot;}, &quot;id&quot;: &quot;197&quot;, &quot;properties&quot;: {&quot;aoi_code&quot;: &quot;AOI0372&quot;, &quot;cloud_cover&quot;: 2.36, &quot;id&quot;: &quot;2021-08-13&quot;, &quot;index&quot;: 66, &quot;percentage_valid_pixels&quot;: 0.4489618492838821, &quot;source&quot;: &quot;landsat&quot;}, &quot;type&quot;: &quot;Feature&quot;}, {&quot;bbox&quot;: [148.29960316085715, -32.44460560526437, 148.50960316085715, -32.23460560526437], &quot;geometry&quot;: {&quot;coordinates&quot;: [[[148.29960316085715, -32.44460560526437], [148.50960316085715, -32.44460560526437], [148.50960316085715, -32.23460560526437], [148.29960316085715, -32.23460560526437], [148.29960316085715, -32.44460560526437]]], &quot;type&quot;: &quot;Polygon&quot;}, &quot;id&quot;: &quot;198&quot;, &quot;properties&quot;: {&quot;aoi_code&quot;: &quot;AOI0372&quot;, &quot;cloud_cover&quot;: 0.0231, &quot;id&quot;: &quot;2021-08-15&quot;, &quot;index&quot;: 132, &quot;percentage_valid_pixels&quot;: 1.0, &quot;source&quot;: &quot;s2&quot;}, &quot;type&quot;: &quot;Feature&quot;}, {&quot;bbox&quot;: [148.29960316085715, -32.44460560526437, 148.50960316085715, -32.23460560526437], &quot;geometry&quot;: {&quot;coordinates&quot;: [[[148.29960316085715, -32.44460560526437], [148.50960316085715, -32.44460560526437], [148.50960316085715, -32.23460560526437], [148.29960316085715, -32.23460560526437], [148.29960316085715, -32.44460560526437]]], &quot;type&quot;: &quot;Polygon&quot;}, &quot;id&quot;: &quot;199&quot;, &quot;properties&quot;: {&quot;aoi_code&quot;: &quot;AOI0372&quot;, &quot;cloud_cover&quot;: 0.0, &quot;id&quot;: &quot;2021-08-20&quot;, &quot;index&quot;: 133, &quot;percentage_valid_pixels&quot;: 1.0, &quot;source&quot;: &quot;s2&quot;}, &quot;type&quot;: &quot;Feature&quot;}, {&quot;bbox&quot;: [148.29960316085715, -32.44460560526437, 148.50960316085715, -32.23460560526437], &quot;geometry&quot;: {&quot;coordinates&quot;: [[[148.29960316085715, -32.44460560526437], [148.50960316085715, -32.44460560526437], [148.50960316085715, -32.23460560526437], [148.29960316085715, -32.23460560526437], [148.29960316085715, -32.44460560526437]]], &quot;type&quot;: &quot;Polygon&quot;}, &quot;id&quot;: &quot;200&quot;, &quot;properties&quot;: {&quot;aoi_code&quot;: &quot;AOI0372&quot;, &quot;cloud_cover&quot;: 10.8, &quot;id&quot;: &quot;2021-08-22&quot;, &quot;index&quot;: 65, &quot;percentage_valid_pixels&quot;: 1.0, &quot;source&quot;: &quot;landsat&quot;}, &quot;type&quot;: &quot;Feature&quot;}, {&quot;bbox&quot;: [148.29960316085715, -32.44460560526437, 148.50960316085715, -32.23460560526437], &quot;geometry&quot;: {&quot;coordinates&quot;: [[[148.29960316085715, -32.44460560526437], [148.50960316085715, -32.44460560526437], [148.50960316085715, -32.23460560526437], [148.29960316085715, -32.23460560526437], [148.29960316085715, -32.44460560526437]]], &quot;type&quot;: &quot;Polygon&quot;}, &quot;id&quot;: &quot;201&quot;, &quot;properties&quot;: {&quot;aoi_code&quot;: &quot;AOI0372&quot;, &quot;cloud_cover&quot;: 0.0179, &quot;id&quot;: &quot;2021-08-25&quot;, &quot;index&quot;: 134, &quot;percentage_valid_pixels&quot;: 1.0, &quot;source&quot;: &quot;s2&quot;}, &quot;type&quot;: &quot;Feature&quot;}, {&quot;bbox&quot;: [148.29960316085715, -32.44460560526437, 148.50960316085715, -32.23460560526437], &quot;geometry&quot;: {&quot;coordinates&quot;: [[[148.29960316085715, -32.44460560526437], [148.50960316085715, -32.44460560526437], [148.50960316085715, -32.23460560526437], [148.29960316085715, -32.23460560526437], [148.29960316085715, -32.44460560526437]]], &quot;type&quot;: &quot;Polygon&quot;}, &quot;id&quot;: &quot;202&quot;, &quot;properties&quot;: {&quot;aoi_code&quot;: &quot;AOI0372&quot;, &quot;cloud_cover&quot;: 56.97, &quot;id&quot;: &quot;2021-08-29&quot;, &quot;index&quot;: 67, &quot;percentage_valid_pixels&quot;: 0.45830793921510465, &quot;source&quot;: &quot;landsat&quot;}, &quot;type&quot;: &quot;Feature&quot;}, {&quot;bbox&quot;: [148.29960316085715, -32.44460560526437, 148.50960316085715, -32.23460560526437], &quot;geometry&quot;: {&quot;coordinates&quot;: [[[148.29960316085715, -32.44460560526437], [148.50960316085715, -32.44460560526437], [148.50960316085715, -32.23460560526437], [148.29960316085715, -32.23460560526437], [148.29960316085715, -32.44460560526437]]], &quot;type&quot;: &quot;Polygon&quot;}, &quot;id&quot;: &quot;203&quot;, &quot;properties&quot;: {&quot;aoi_code&quot;: &quot;AOI0372&quot;, &quot;cloud_cover&quot;: 99.9943, &quot;id&quot;: &quot;2021-08-30&quot;, &quot;index&quot;: 135, &quot;percentage_valid_pixels&quot;: 1.0, &quot;source&quot;: &quot;s2&quot;}, &quot;type&quot;: &quot;Feature&quot;}, {&quot;bbox&quot;: [148.29960316085715, -32.24460560526437, 148.50960316085715, -32.03460560526437], &quot;geometry&quot;: {&quot;coordinates&quot;: [[[148.29960316085715, -32.24460560526437], [148.50960316085715, -32.24460560526437], [148.50960316085715, -32.03460560526437], [148.29960316085715, -32.03460560526437], [148.29960316085715, -32.24460560526437]]], &quot;type&quot;: &quot;Polygon&quot;}, &quot;id&quot;: &quot;204&quot;, &quot;properties&quot;: {&quot;aoi_code&quot;: &quot;AOI0395&quot;, &quot;cloud_cover&quot;: 61.6913, &quot;id&quot;: &quot;2021-08-05&quot;, &quot;index&quot;: 136, &quot;percentage_valid_pixels&quot;: 1.0, &quot;source&quot;: &quot;s2&quot;}, &quot;type&quot;: &quot;Feature&quot;}, {&quot;bbox&quot;: [148.29960316085715, -32.24460560526437, 148.50960316085715, -32.03460560526437], &quot;geometry&quot;: {&quot;coordinates&quot;: [[[148.29960316085715, -32.24460560526437], [148.50960316085715, -32.24460560526437], [148.50960316085715, -32.03460560526437], [148.29960316085715, -32.03460560526437], [148.29960316085715, -32.24460560526437]]], &quot;type&quot;: &quot;Polygon&quot;}, &quot;id&quot;: &quot;205&quot;, &quot;properties&quot;: {&quot;aoi_code&quot;: &quot;AOI0395&quot;, &quot;cloud_cover&quot;: 54.69, &quot;id&quot;: &quot;2021-08-06&quot;, &quot;index&quot;: 68, &quot;percentage_valid_pixels&quot;: 1.0, &quot;source&quot;: &quot;landsat&quot;}, &quot;type&quot;: &quot;Feature&quot;}, {&quot;bbox&quot;: [148.29960316085715, -32.24460560526437, 148.50960316085715, -32.03460560526437], &quot;geometry&quot;: {&quot;coordinates&quot;: [[[148.29960316085715, -32.24460560526437], [148.50960316085715, -32.24460560526437], [148.50960316085715, -32.03460560526437], [148.29960316085715, -32.03460560526437], [148.29960316085715, -32.24460560526437]]], &quot;type&quot;: &quot;Polygon&quot;}, &quot;id&quot;: &quot;206&quot;, &quot;properties&quot;: {&quot;aoi_code&quot;: &quot;AOI0395&quot;, &quot;cloud_cover&quot;: 0.1973, &quot;id&quot;: &quot;2021-08-10&quot;, &quot;index&quot;: 137, &quot;percentage_valid_pixels&quot;: 1.0, &quot;source&quot;: &quot;s2&quot;}, &quot;type&quot;: &quot;Feature&quot;}, {&quot;bbox&quot;: [148.29960316085715, -32.24460560526437, 148.50960316085715, -32.03460560526437], &quot;geometry&quot;: {&quot;coordinates&quot;: [[[148.29960316085715, -32.24460560526437], [148.50960316085715, -32.24460560526437], [148.50960316085715, -32.03460560526437], [148.29960316085715, -32.03460560526437], [148.29960316085715, -32.24460560526437]]], &quot;type&quot;: &quot;Polygon&quot;}, &quot;id&quot;: &quot;207&quot;, &quot;properties&quot;: {&quot;aoi_code&quot;: &quot;AOI0395&quot;, &quot;cloud_cover&quot;: 2.36, &quot;id&quot;: &quot;2021-08-13&quot;, &quot;index&quot;: 70, &quot;percentage_valid_pixels&quot;: 0.6964310038283247, &quot;source&quot;: &quot;landsat&quot;}, &quot;type&quot;: &quot;Feature&quot;}, {&quot;bbox&quot;: [148.29960316085715, -32.24460560526437, 148.50960316085715, -32.03460560526437], &quot;geometry&quot;: {&quot;coordinates&quot;: [[[148.29960316085715, -32.24460560526437], [148.50960316085715, -32.24460560526437], [148.50960316085715, -32.03460560526437], [148.29960316085715, -32.03460560526437], [148.29960316085715, -32.24460560526437]]], &quot;type&quot;: &quot;Polygon&quot;}, &quot;id&quot;: &quot;208&quot;, &quot;properties&quot;: {&quot;aoi_code&quot;: &quot;AOI0395&quot;, &quot;cloud_cover&quot;: 0.0231, &quot;id&quot;: &quot;2021-08-15&quot;, &quot;index&quot;: 138, &quot;percentage_valid_pixels&quot;: 1.0, &quot;source&quot;: &quot;s2&quot;}, &quot;type&quot;: &quot;Feature&quot;}, {&quot;bbox&quot;: [148.29960316085715, -32.24460560526437, 148.50960316085715, -32.03460560526437], &quot;geometry&quot;: {&quot;coordinates&quot;: [[[148.29960316085715, -32.24460560526437], [148.50960316085715, -32.24460560526437], [148.50960316085715, -32.03460560526437], [148.29960316085715, -32.03460560526437], [148.29960316085715, -32.24460560526437]]], &quot;type&quot;: &quot;Polygon&quot;}, &quot;id&quot;: &quot;209&quot;, &quot;properties&quot;: {&quot;aoi_code&quot;: &quot;AOI0395&quot;, &quot;cloud_cover&quot;: 0.0, &quot;id&quot;: &quot;2021-08-20&quot;, &quot;index&quot;: 139, &quot;percentage_valid_pixels&quot;: 1.0, &quot;source&quot;: &quot;s2&quot;}, &quot;type&quot;: &quot;Feature&quot;}, {&quot;bbox&quot;: [148.29960316085715, -32.24460560526437, 148.50960316085715, -32.03460560526437], &quot;geometry&quot;: {&quot;coordinates&quot;: [[[148.29960316085715, -32.24460560526437], [148.50960316085715, -32.24460560526437], [148.50960316085715, -32.03460560526437], [148.29960316085715, -32.03460560526437], [148.29960316085715, -32.24460560526437]]], &quot;type&quot;: &quot;Polygon&quot;}, &quot;id&quot;: &quot;210&quot;, &quot;properties&quot;: {&quot;aoi_code&quot;: &quot;AOI0395&quot;, &quot;cloud_cover&quot;: 10.8, &quot;id&quot;: &quot;2021-08-22&quot;, &quot;index&quot;: 69, &quot;percentage_valid_pixels&quot;: 1.0, &quot;source&quot;: &quot;landsat&quot;}, &quot;type&quot;: &quot;Feature&quot;}, {&quot;bbox&quot;: [148.29960316085715, -32.24460560526437, 148.50960316085715, -32.03460560526437], &quot;geometry&quot;: {&quot;coordinates&quot;: [[[148.29960316085715, -32.24460560526437], [148.50960316085715, -32.24460560526437], [148.50960316085715, -32.03460560526437], [148.29960316085715, -32.03460560526437], [148.29960316085715, -32.24460560526437]]], &quot;type&quot;: &quot;Polygon&quot;}, &quot;id&quot;: &quot;211&quot;, &quot;properties&quot;: {&quot;aoi_code&quot;: &quot;AOI0395&quot;, &quot;cloud_cover&quot;: 0.0179, &quot;id&quot;: &quot;2021-08-25&quot;, &quot;index&quot;: 140, &quot;percentage_valid_pixels&quot;: 1.0, &quot;source&quot;: &quot;s2&quot;}, &quot;type&quot;: &quot;Feature&quot;}, {&quot;bbox&quot;: [148.29960316085715, -32.24460560526437, 148.50960316085715, -32.03460560526437], &quot;geometry&quot;: {&quot;coordinates&quot;: [[[148.29960316085715, -32.24460560526437], [148.50960316085715, -32.24460560526437], [148.50960316085715, -32.03460560526437], [148.29960316085715, -32.03460560526437], [148.29960316085715, -32.24460560526437]]], &quot;type&quot;: &quot;Polygon&quot;}, &quot;id&quot;: &quot;212&quot;, &quot;properties&quot;: {&quot;aoi_code&quot;: &quot;AOI0395&quot;, &quot;cloud_cover&quot;: 56.97, &quot;id&quot;: &quot;2021-08-29&quot;, &quot;index&quot;: 71, &quot;percentage_valid_pixels&quot;: 0.7057773809839123, &quot;source&quot;: &quot;landsat&quot;}, &quot;type&quot;: &quot;Feature&quot;}, {&quot;bbox&quot;: [148.29960316085715, -32.24460560526437, 148.50960316085715, -32.03460560526437], &quot;geometry&quot;: {&quot;coordinates&quot;: [[[148.29960316085715, -32.24460560526437], [148.50960316085715, -32.24460560526437], [148.50960316085715, -32.03460560526437], [148.29960316085715, -32.03460560526437], [148.29960316085715, -32.24460560526437]]], &quot;type&quot;: &quot;Polygon&quot;}, &quot;id&quot;: &quot;213&quot;, &quot;properties&quot;: {&quot;aoi_code&quot;: &quot;AOI0395&quot;, &quot;cloud_cover&quot;: 99.9943, &quot;id&quot;: &quot;2021-08-30&quot;, &quot;index&quot;: 141, &quot;percentage_valid_pixels&quot;: 1.0, &quot;source&quot;: &quot;s2&quot;}, &quot;type&quot;: &quot;Feature&quot;}, {&quot;bbox&quot;: [148.29960316085715, -32.044605605264366, 148.50960316085715, -31.834605605264365], &quot;geometry&quot;: {&quot;coordinates&quot;: [[[148.29960316085715, -32.044605605264366], [148.50960316085715, -32.044605605264366], [148.50960316085715, -31.834605605264365], [148.29960316085715, -31.834605605264365], [148.29960316085715, -32.044605605264366]]], &quot;type&quot;: &quot;Polygon&quot;}, &quot;id&quot;: &quot;214&quot;, &quot;properties&quot;: {&quot;aoi_code&quot;: &quot;AOI0396&quot;, &quot;cloud_cover&quot;: 61.6913, &quot;id&quot;: &quot;2021-08-05&quot;, &quot;index&quot;: 142, &quot;percentage_valid_pixels&quot;: 1.0, &quot;source&quot;: &quot;s2&quot;}, &quot;type&quot;: &quot;Feature&quot;}, {&quot;bbox&quot;: [148.29960316085715, -32.044605605264366, 148.50960316085715, -31.834605605264365], &quot;geometry&quot;: {&quot;coordinates&quot;: [[[148.29960316085715, -32.044605605264366], [148.50960316085715, -32.044605605264366], [148.50960316085715, -31.834605605264365], [148.29960316085715, -31.834605605264365], [148.29960316085715, -32.044605605264366]]], &quot;type&quot;: &quot;Polygon&quot;}, &quot;id&quot;: &quot;215&quot;, &quot;properties&quot;: {&quot;aoi_code&quot;: &quot;AOI0396&quot;, &quot;cloud_cover&quot;: 54.69, &quot;id&quot;: &quot;2021-08-06&quot;, &quot;index&quot;: 72, &quot;percentage_valid_pixels&quot;: 1.0, &quot;source&quot;: &quot;landsat&quot;}, &quot;type&quot;: &quot;Feature&quot;}, {&quot;bbox&quot;: [148.29960316085715, -32.044605605264366, 148.50960316085715, -31.834605605264365], &quot;geometry&quot;: {&quot;coordinates&quot;: [[[148.29960316085715, -32.044605605264366], [148.50960316085715, -32.044605605264366], [148.50960316085715, -31.834605605264365], [148.29960316085715, -31.834605605264365], [148.29960316085715, -32.044605605264366]]], &quot;type&quot;: &quot;Polygon&quot;}, &quot;id&quot;: &quot;216&quot;, &quot;properties&quot;: {&quot;aoi_code&quot;: &quot;AOI0396&quot;, &quot;cloud_cover&quot;: 0.1973, &quot;id&quot;: &quot;2021-08-10&quot;, &quot;index&quot;: 143, &quot;percentage_valid_pixels&quot;: 1.0, &quot;source&quot;: &quot;s2&quot;}, &quot;type&quot;: &quot;Feature&quot;}, {&quot;bbox&quot;: [148.29960316085715, -32.044605605264366, 148.50960316085715, -31.834605605264365], &quot;geometry&quot;: {&quot;coordinates&quot;: [[[148.29960316085715, -32.044605605264366], [148.50960316085715, -32.044605605264366], [148.50960316085715, -31.834605605264365], [148.29960316085715, -31.834605605264365], [148.29960316085715, -32.044605605264366]]], &quot;type&quot;: &quot;Polygon&quot;}, &quot;id&quot;: &quot;217&quot;, &quot;properties&quot;: {&quot;aoi_code&quot;: &quot;AOI0396&quot;, &quot;cloud_cover&quot;: 2.36, &quot;id&quot;: &quot;2021-08-13&quot;, &quot;index&quot;: 74, &quot;percentage_valid_pixels&quot;: 0.9322958197122413, &quot;source&quot;: &quot;landsat&quot;}, &quot;type&quot;: &quot;Feature&quot;}, {&quot;bbox&quot;: [148.29960316085715, -32.044605605264366, 148.50960316085715, -31.834605605264365], &quot;geometry&quot;: {&quot;coordinates&quot;: [[[148.29960316085715, -32.044605605264366], [148.50960316085715, -32.044605605264366], [148.50960316085715, -31.834605605264365], [148.29960316085715, -31.834605605264365], [148.29960316085715, -32.044605605264366]]], &quot;type&quot;: &quot;Polygon&quot;}, &quot;id&quot;: &quot;218&quot;, &quot;properties&quot;: {&quot;aoi_code&quot;: &quot;AOI0396&quot;, &quot;cloud_cover&quot;: 0.0231, &quot;id&quot;: &quot;2021-08-15&quot;, &quot;index&quot;: 144, &quot;percentage_valid_pixels&quot;: 1.0, &quot;source&quot;: &quot;s2&quot;}, &quot;type&quot;: &quot;Feature&quot;}, {&quot;bbox&quot;: [148.29960316085715, -32.044605605264366, 148.50960316085715, -31.834605605264365], &quot;geometry&quot;: {&quot;coordinates&quot;: [[[148.29960316085715, -32.044605605264366], [148.50960316085715, -32.044605605264366], [148.50960316085715, -31.834605605264365], [148.29960316085715, -31.834605605264365], [148.29960316085715, -32.044605605264366]]], &quot;type&quot;: &quot;Polygon&quot;}, &quot;id&quot;: &quot;219&quot;, &quot;properties&quot;: {&quot;aoi_code&quot;: &quot;AOI0396&quot;, &quot;cloud_cover&quot;: 0.0, &quot;id&quot;: &quot;2021-08-20&quot;, &quot;index&quot;: 145, &quot;percentage_valid_pixels&quot;: 1.0, &quot;source&quot;: &quot;s2&quot;}, &quot;type&quot;: &quot;Feature&quot;}, {&quot;bbox&quot;: [148.29960316085715, -32.044605605264366, 148.50960316085715, -31.834605605264365], &quot;geometry&quot;: {&quot;coordinates&quot;: [[[148.29960316085715, -32.044605605264366], [148.50960316085715, -32.044605605264366], [148.50960316085715, -31.834605605264365], [148.29960316085715, -31.834605605264365], [148.29960316085715, -32.044605605264366]]], &quot;type&quot;: &quot;Polygon&quot;}, &quot;id&quot;: &quot;220&quot;, &quot;properties&quot;: {&quot;aoi_code&quot;: &quot;AOI0396&quot;, &quot;cloud_cover&quot;: 10.8, &quot;id&quot;: &quot;2021-08-22&quot;, &quot;index&quot;: 73, &quot;percentage_valid_pixels&quot;: 1.0, &quot;source&quot;: &quot;landsat&quot;}, &quot;type&quot;: &quot;Feature&quot;}, {&quot;bbox&quot;: [148.29960316085715, -32.044605605264366, 148.50960316085715, -31.834605605264365], &quot;geometry&quot;: {&quot;coordinates&quot;: [[[148.29960316085715, -32.044605605264366], [148.50960316085715, -32.044605605264366], [148.50960316085715, -31.834605605264365], [148.29960316085715, -31.834605605264365], [148.29960316085715, -32.044605605264366]]], &quot;type&quot;: &quot;Polygon&quot;}, &quot;id&quot;: &quot;221&quot;, &quot;properties&quot;: {&quot;aoi_code&quot;: &quot;AOI0396&quot;, &quot;cloud_cover&quot;: 0.0179, &quot;id&quot;: &quot;2021-08-25&quot;, &quot;index&quot;: 146, &quot;percentage_valid_pixels&quot;: 1.0, &quot;source&quot;: &quot;s2&quot;}, &quot;type&quot;: &quot;Feature&quot;}, {&quot;bbox&quot;: [148.29960316085715, -32.044605605264366, 148.50960316085715, -31.834605605264365], &quot;geometry&quot;: {&quot;coordinates&quot;: [[[148.29960316085715, -32.044605605264366], [148.50960316085715, -32.044605605264366], [148.50960316085715, -31.834605605264365], [148.29960316085715, -31.834605605264365], [148.29960316085715, -32.044605605264366]]], &quot;type&quot;: &quot;Polygon&quot;}, &quot;id&quot;: &quot;222&quot;, &quot;properties&quot;: {&quot;aoi_code&quot;: &quot;AOI0396&quot;, &quot;cloud_cover&quot;: 56.97, &quot;id&quot;: &quot;2021-08-29&quot;, &quot;index&quot;: 75, &quot;percentage_valid_pixels&quot;: 0.9389630579858181, &quot;source&quot;: &quot;landsat&quot;}, &quot;type&quot;: &quot;Feature&quot;}, {&quot;bbox&quot;: [148.29960316085715, -32.044605605264366, 148.50960316085715, -31.834605605264365], &quot;geometry&quot;: {&quot;coordinates&quot;: [[[148.29960316085715, -32.044605605264366], [148.50960316085715, -32.044605605264366], [148.50960316085715, -31.834605605264365], [148.29960316085715, -31.834605605264365], [148.29960316085715, -32.044605605264366]]], &quot;type&quot;: &quot;Polygon&quot;}, &quot;id&quot;: &quot;223&quot;, &quot;properties&quot;: {&quot;aoi_code&quot;: &quot;AOI0396&quot;, &quot;cloud_cover&quot;: 99.9943, &quot;id&quot;: &quot;2021-08-30&quot;, &quot;index&quot;: 147, &quot;percentage_valid_pixels&quot;: 1.0, &quot;source&quot;: &quot;s2&quot;}, &quot;type&quot;: &quot;Feature&quot;}], &quot;type&quot;: &quot;FeatureCollection&quot;});\n",
       "\n",
       "        \n",
       "    \n",
       "    geo_json_9ae7280bc260005a8d57af81ef816b1a.bindTooltip(\n",
       "    function(layer){\n",
       "    let div = L.DomUtil.create(&#x27;div&#x27;);\n",
       "    \n",
       "    let handleObject = feature=&gt;typeof(feature)==&#x27;object&#x27; ? JSON.stringify(feature) : feature;\n",
       "    let fields = [&quot;index&quot;, &quot;id&quot;, &quot;cloud_cover&quot;, &quot;source&quot;, &quot;aoi_code&quot;, &quot;percentage_valid_pixels&quot;];\n",
       "    let aliases = [&quot;index&quot;, &quot;id&quot;, &quot;cloud_cover&quot;, &quot;source&quot;, &quot;aoi_code&quot;, &quot;percentage_valid_pixels&quot;];\n",
       "    let table = &#x27;&lt;table&gt;&#x27; +\n",
       "        String(\n",
       "        fields.map(\n",
       "        (v,i)=&gt;\n",
       "        `&lt;tr&gt;\n",
       "            &lt;th&gt;${aliases[i]}&lt;/th&gt;\n",
       "            \n",
       "            &lt;td&gt;${handleObject(layer.feature.properties[v])}&lt;/td&gt;\n",
       "        &lt;/tr&gt;`).join(&#x27;&#x27;))\n",
       "    +&#x27;&lt;/table&gt;&#x27;;\n",
       "    div.innerHTML=table;\n",
       "    \n",
       "    return div\n",
       "    }\n",
       "    ,{&quot;className&quot;: &quot;foliumtooltip&quot;, &quot;sticky&quot;: true});\n",
       "                     \n",
       "&lt;/script&gt;\" style=\"position:absolute;width:100%;height:100%;left:0;top:0;border:none !important;\" allowfullscreen webkitallowfullscreen mozallowfullscreen></iframe></div></div>"
      ],
      "text/plain": [
       "<folium.folium.Map at 0x7f2a99717850>"
      ]
     },
     "execution_count": 104,
     "metadata": {},
     "output_type": "execute_result"
    }
   ],
   "source": [
    "all_df_sorted.explore()"
   ]
  },
  {
   "cell_type": "markdown",
   "id": "f7325ae9-e0aa-438f-963b-cd07d7e1d4ea",
   "metadata": {
    "tags": []
   },
   "source": [
    "# Dataframe Function Testing\n"
   ]
  },
  {
   "cell_type": "code",
   "execution_count": 105,
   "id": "8efd8274-4bcc-406c-b171-2b6e9ff08430",
   "metadata": {},
   "outputs": [],
   "source": [
    "def properties_dataframe(landsat_imgs: ee.ImageCollection, s2_imgs: ee.ImageCollection, polygon_bounds, polygon_aoi_codes):\n",
    "    # --------- Landsat ---------\n",
    "    landsat_coordinates = [[] for _ in range(len(landsat_imgs))] # creating number of lists to match the number of polygons so that each polygon will have it's coordinates\n",
    "    n_landsat = []\n",
    "\n",
    "    # Loop 1: Getting the number of images for each AOI, returns an array where each index is an \n",
    "    # AOI and each value in the index is the number of images of that AOI. \n",
    "    for i in range(len(landsat_imgs)):\n",
    "\n",
    "        # Get the coordinates for each AOI\n",
    "        landsat_coordinates[i] = polygon_bounds[i]['coordinates']\n",
    "\n",
    "        # Of the 20 indices, there will be the number of images in each. \n",
    "        n_landsat = np.append(n_landsat, len(landsat_imgs[i].getInfo()['features']))\n",
    "\n",
    "    # End loop 1\n",
    "\n",
    "    id_list = []\n",
    "    cloudCover_list = []\n",
    "    validPixels_list = []\n",
    "    source_list = ['landsat']*np.int(n_landsat.sum()) # creating a list the size of the total number of images of all the polygons\n",
    "    coordinates_list = [] # creating number of lists to match the number of polygons so that each polygon will have it's coordinates\n",
    "    aoi_list = []\n",
    "\n",
    "    # Loop 2: Updating property lists that will be used to populate a dataframe.\n",
    "    for i in range(len(landsat_imgs)): # Iterating through all the polygons\n",
    "\n",
    "        for k in range(np.int(n_landsat[i])): # Iterating through all the images of each polygon\n",
    "\n",
    "            id_list = np.append(id_list, landsat_imgs[i].getInfo()['features'][k].get('id'))\n",
    "            cloudCover_list = np.append(cloudCover_list, landsat_imgs[i].getInfo()['features'][k].get('properties')['CLOUD_COVER'])\n",
    "            validPixels_list = np.append(validPixels_list, landsat_imgs[i].getInfo()['features'][k].get('properties')['valids'])\n",
    "            aoi_list = np.append(aoi_list, polygon_aoi_codes[i])\n",
    "            index_coord = landsat_coordinates[i]\n",
    "            coordinates_list.extend(index_coord)      \n",
    "    # End loop 2\n",
    "\n",
    "    # Populate the dataframe\n",
    "    landsat_df = gpd.GeoDataFrame({'id':id_list, 'cloud_cover':cloudCover_list, 'source': source_list, 'aoi_code': aoi_list, 'percentage_valid_pixels': validPixels_list, 'geometry':coordinates_list})\n",
    "    landsat_df.head(10)\n",
    "    print('Number of landsat images:', len(landsat_df))\n",
    "\n",
    "    # --------- S2 ---------\n",
    "    s2_coordinates = [[] for _ in range(len(s2_imgs))] # creating number of lists to match the number of polygons so that each polygon will have it's coordinates\n",
    "    n_s2 = []\n",
    "    # Loop 1\n",
    "    for i in range(len(s2_imgs)): # Iterating through all the polygons\n",
    "\n",
    "        s2_coordinates[i] = polygon_bounds[i]['coordinates']\n",
    "\n",
    "        n_s2 = np.append(n_s2, len(s2_imgs[i].getInfo()['features'])) # Of the 20 indices, there will be the number of images in each. \n",
    "    # End loop 1\n",
    "\n",
    "    id_list = []\n",
    "    cloudCover_list = []\n",
    "    validPixels_list = []\n",
    "    source_list = ['s2']*np.int(n_s2.sum()) # creating a list the size of the total number of images of all the polygons\n",
    "    coordinates_list = [] # creating number of lists to match the number of polygons so that each polygon will have it's coordinates\n",
    "    aoi_list = []\n",
    "\n",
    "    # Loop 2\n",
    "    for i in range(len(s2_imgs)): # Iterating through all the polygons\n",
    "\n",
    "        for k in range(np.int(n_s2[i])): # Iterating through all the images of each polygon\n",
    "\n",
    "            id_list = np.append(id_list, s2_imgs[i].getInfo()['features'][k].get('id'))\n",
    "            cloudCover_list = np.append(cloudCover_list, s2_imgs[i].getInfo()['features'][k].get('properties')['CLOUDY_PIXEL_PERCENTAGE'])\n",
    "            validPixels_list = np.append(validPixels_list, s2_imgs[i].getInfo()['features'][k].get('properties')['valids'])\n",
    "            aoi_list = np.append(aoi_list, polygon_aoi_codes[i])\n",
    "            index_coord = s2_coordinates[i]\n",
    "            coordinates_list.extend(index_coord)      \n",
    "    # End loop 2\n",
    "\n",
    "    # Populate the dataframe\n",
    "    s2_df = gpd.GeoDataFrame({'id':id_list, 'cloud_cover':cloudCover_list, 'source': source_list, 'aoi_code': aoi_list, 'percentage_valid_pixels': validPixels_list, 'geometry':coordinates_list})\n",
    "    s2_df.head(10)\n",
    "    print('Number of s2 images:', len(s2_df))\n",
    "    \n",
    "    # Combining into one dataframe, assigning crs and formatting geometry column for plotting\n",
    "    \n",
    "    all_df = pd.concat([landsat_df, s2_df])\n",
    "    \n",
    "    all_df.crs = 'EPSG:4326'\n",
    "    \n",
    "    all_df['geometry'] = all_df['geometry'].apply(Polygon)\n",
    "    \n",
    "    print('Total number of images:', len(all_df))\n",
    "          \n",
    "    return all_df"
   ]
  },
  {
   "cell_type": "markdown",
   "id": "1606a134-4296-4203-9ceb-11e96ae8fb11",
   "metadata": {},
   "source": [
    "## 5 Polygon Test"
   ]
  },
  {
   "cell_type": "code",
   "execution_count": 106,
   "id": "fec1283c-4356-4239-b355-d43d05f7ef13",
   "metadata": {},
   "outputs": [],
   "source": [
    "sydney_5_poly, sydney_5_aois = get_polygon_bounds(sydney_aoi, sydney_aoi_codes, 5)\n"
   ]
  },
  {
   "cell_type": "raw",
   "id": "87684afe-bdcd-407e-8f59-248a96a634ac",
   "metadata": {},
   "source": [
    "sydney_5_poly"
   ]
  },
  {
   "cell_type": "code",
   "execution_count": 108,
   "id": "d0229544-850e-49dc-bd53-816c6b5bdb8c",
   "metadata": {},
   "outputs": [],
   "source": [
    "poly_5_landsat, poly_5_s2 = get_imageCollections(sydney_5_poly, dateTime)"
   ]
  },
  {
   "cell_type": "code",
   "execution_count": 109,
   "id": "34c17d7c-38e1-4aa2-9550-c6573aa31982",
   "metadata": {},
   "outputs": [
    {
     "data": {
      "text/plain": [
       "5"
      ]
     },
     "execution_count": 109,
     "metadata": {},
     "output_type": "execute_result"
    }
   ],
   "source": [
    "len(poly_5_landsat)"
   ]
  },
  {
   "cell_type": "code",
   "execution_count": 110,
   "id": "bcc5fe07-968d-4770-a1b0-e9ee5be815b3",
   "metadata": {},
   "outputs": [
    {
     "data": {
      "text/plain": [
       "5"
      ]
     },
     "execution_count": 110,
     "metadata": {},
     "output_type": "execute_result"
    }
   ],
   "source": [
    "len(sydney_5_aois)"
   ]
  },
  {
   "cell_type": "code",
   "execution_count": 111,
   "id": "d32ffabc-7308-4c62-8df7-72a263035b84",
   "metadata": {},
   "outputs": [
    {
     "name": "stdout",
     "output_type": "stream",
     "text": [
      "Number of landsat images: 16\n",
      "Number of s2 images: 58\n",
      "Total number of images: 74\n"
     ]
    }
   ],
   "source": [
    "all5_df = properties_dataframe(poly_5_landsat, poly_5_s2, sydney_5_poly, sydney_5_aois)"
   ]
  },
  {
   "cell_type": "markdown",
   "id": "f7473697-3999-4542-ad22-816f4c67781b",
   "metadata": {},
   "source": [
    "runtime of the above function over 5 polygons and 74 images: 12 minutes"
   ]
  },
  {
   "cell_type": "code",
   "execution_count": 112,
   "id": "b2e82d2c-ab14-41f7-ac24-f8b4caf99382",
   "metadata": {},
   "outputs": [
    {
     "data": {
      "text/html": [
       "<div style=\"width:100%;\"><div style=\"position:relative;width:100%;height:0;padding-bottom:60%;\"><span style=\"color:#565656\">Make this Notebook Trusted to load map: File -> Trust Notebook</span><iframe srcdoc=\"&lt;!DOCTYPE html&gt;\n",
       "&lt;head&gt;    \n",
       "    &lt;meta http-equiv=&quot;content-type&quot; content=&quot;text/html; charset=UTF-8&quot; /&gt;\n",
       "    \n",
       "        &lt;script&gt;\n",
       "            L_NO_TOUCH = false;\n",
       "            L_DISABLE_3D = false;\n",
       "        &lt;/script&gt;\n",
       "    \n",
       "    &lt;style&gt;html, body {width: 100%;height: 100%;margin: 0;padding: 0;}&lt;/style&gt;\n",
       "    &lt;style&gt;#map {position:absolute;top:0;bottom:0;right:0;left:0;}&lt;/style&gt;\n",
       "    &lt;script src=&quot;https://cdn.jsdelivr.net/npm/leaflet@1.6.0/dist/leaflet.js&quot;&gt;&lt;/script&gt;\n",
       "    &lt;script src=&quot;https://code.jquery.com/jquery-1.12.4.min.js&quot;&gt;&lt;/script&gt;\n",
       "    &lt;script src=&quot;https://maxcdn.bootstrapcdn.com/bootstrap/3.2.0/js/bootstrap.min.js&quot;&gt;&lt;/script&gt;\n",
       "    &lt;script src=&quot;https://cdnjs.cloudflare.com/ajax/libs/Leaflet.awesome-markers/2.0.2/leaflet.awesome-markers.js&quot;&gt;&lt;/script&gt;\n",
       "    &lt;link rel=&quot;stylesheet&quot; href=&quot;https://cdn.jsdelivr.net/npm/leaflet@1.6.0/dist/leaflet.css&quot;/&gt;\n",
       "    &lt;link rel=&quot;stylesheet&quot; href=&quot;https://maxcdn.bootstrapcdn.com/bootstrap/3.2.0/css/bootstrap.min.css&quot;/&gt;\n",
       "    &lt;link rel=&quot;stylesheet&quot; href=&quot;https://maxcdn.bootstrapcdn.com/bootstrap/3.2.0/css/bootstrap-theme.min.css&quot;/&gt;\n",
       "    &lt;link rel=&quot;stylesheet&quot; href=&quot;https://maxcdn.bootstrapcdn.com/font-awesome/4.6.3/css/font-awesome.min.css&quot;/&gt;\n",
       "    &lt;link rel=&quot;stylesheet&quot; href=&quot;https://cdnjs.cloudflare.com/ajax/libs/Leaflet.awesome-markers/2.0.2/leaflet.awesome-markers.css&quot;/&gt;\n",
       "    &lt;link rel=&quot;stylesheet&quot; href=&quot;https://cdn.jsdelivr.net/gh/python-visualization/folium/folium/templates/leaflet.awesome.rotate.min.css&quot;/&gt;\n",
       "    \n",
       "            &lt;meta name=&quot;viewport&quot; content=&quot;width=device-width,\n",
       "                initial-scale=1.0, maximum-scale=1.0, user-scalable=no&quot; /&gt;\n",
       "            &lt;style&gt;\n",
       "                #map_980816cb512b056999c90fab9a2aa5e5 {\n",
       "                    position: relative;\n",
       "                    width: 100.0%;\n",
       "                    height: 100.0%;\n",
       "                    left: 0.0%;\n",
       "                    top: 0.0%;\n",
       "                }\n",
       "            &lt;/style&gt;\n",
       "        \n",
       "    \n",
       "                    &lt;style&gt;\n",
       "                        .foliumtooltip {\n",
       "                            \n",
       "                        }\n",
       "                       .foliumtooltip table{\n",
       "                            margin: auto;\n",
       "                        }\n",
       "                        .foliumtooltip tr{\n",
       "                            text-align: left;\n",
       "                        }\n",
       "                        .foliumtooltip th{\n",
       "                            padding: 2px; padding-right: 8px;\n",
       "                        }\n",
       "                    &lt;/style&gt;\n",
       "            \n",
       "&lt;/head&gt;\n",
       "&lt;body&gt;    \n",
       "    \n",
       "            &lt;div class=&quot;folium-map&quot; id=&quot;map_980816cb512b056999c90fab9a2aa5e5&quot; &gt;&lt;/div&gt;\n",
       "        \n",
       "&lt;/body&gt;\n",
       "&lt;script&gt;    \n",
       "    \n",
       "            var map_980816cb512b056999c90fab9a2aa5e5 = L.map(\n",
       "                &quot;map_980816cb512b056999c90fab9a2aa5e5&quot;,\n",
       "                {\n",
       "                    center: [-31.339605605264357, 147.40459985333064],\n",
       "                    crs: L.CRS.EPSG3857,\n",
       "                    zoom: 10,\n",
       "                    zoomControl: true,\n",
       "                    preferCanvas: false,\n",
       "                }\n",
       "            );\n",
       "            L.control.scale().addTo(map_980816cb512b056999c90fab9a2aa5e5);\n",
       "\n",
       "            \n",
       "\n",
       "        \n",
       "    \n",
       "            var tile_layer_6d398aec123f87edcff15348f4c2feec = L.tileLayer(\n",
       "                &quot;https://{s}.tile.openstreetmap.org/{z}/{x}/{y}.png&quot;,\n",
       "                {&quot;attribution&quot;: &quot;Data by \\u0026copy; \\u003ca href=\\&quot;http://openstreetmap.org\\&quot;\\u003eOpenStreetMap\\u003c/a\\u003e, under \\u003ca href=\\&quot;http://www.openstreetmap.org/copyright\\&quot;\\u003eODbL\\u003c/a\\u003e.&quot;, &quot;detectRetina&quot;: false, &quot;maxNativeZoom&quot;: 18, &quot;maxZoom&quot;: 18, &quot;minZoom&quot;: 0, &quot;noWrap&quot;: false, &quot;opacity&quot;: 1, &quot;subdomains&quot;: &quot;abc&quot;, &quot;tms&quot;: false}\n",
       "            ).addTo(map_980816cb512b056999c90fab9a2aa5e5);\n",
       "        \n",
       "    \n",
       "            map_980816cb512b056999c90fab9a2aa5e5.fitBounds(\n",
       "                [[-32.44460560526437, 147.09959654580408], [-30.234605605264342, 147.7096031608572]],\n",
       "                {}\n",
       "            );\n",
       "        \n",
       "    \n",
       "        function geo_json_ca7d91fa458d928d8b2e33763b0e3e9f_styler(feature) {\n",
       "            switch(feature.id) {\n",
       "                default:\n",
       "                    return {&quot;fillOpacity&quot;: 0.5, &quot;weight&quot;: 2};\n",
       "            }\n",
       "        }\n",
       "        function geo_json_ca7d91fa458d928d8b2e33763b0e3e9f_highlighter(feature) {\n",
       "            switch(feature.id) {\n",
       "                default:\n",
       "                    return {&quot;fillOpacity&quot;: 0.75};\n",
       "            }\n",
       "        }\n",
       "        function geo_json_ca7d91fa458d928d8b2e33763b0e3e9f_pointToLayer(feature, latlng) {\n",
       "            var opts = {&quot;bubblingMouseEvents&quot;: true, &quot;color&quot;: &quot;#3388ff&quot;, &quot;dashArray&quot;: null, &quot;dashOffset&quot;: null, &quot;fill&quot;: true, &quot;fillColor&quot;: &quot;#3388ff&quot;, &quot;fillOpacity&quot;: 0.2, &quot;fillRule&quot;: &quot;evenodd&quot;, &quot;lineCap&quot;: &quot;round&quot;, &quot;lineJoin&quot;: &quot;round&quot;, &quot;opacity&quot;: 1.0, &quot;radius&quot;: 2, &quot;stroke&quot;: true, &quot;weight&quot;: 3};\n",
       "            \n",
       "            let style = geo_json_ca7d91fa458d928d8b2e33763b0e3e9f_styler(feature)\n",
       "            Object.assign(opts, style)\n",
       "            \n",
       "            return new L.CircleMarker(latlng, opts)\n",
       "        }\n",
       "\n",
       "        function geo_json_ca7d91fa458d928d8b2e33763b0e3e9f_onEachFeature(feature, layer) {\n",
       "            layer.on({\n",
       "                mouseout: function(e) {\n",
       "                    if(typeof e.target.setStyle === &quot;function&quot;){\n",
       "                        geo_json_ca7d91fa458d928d8b2e33763b0e3e9f.resetStyle(e.target);\n",
       "                    }\n",
       "                },\n",
       "                mouseover: function(e) {\n",
       "                    if(typeof e.target.setStyle === &quot;function&quot;){\n",
       "                        const highlightStyle = geo_json_ca7d91fa458d928d8b2e33763b0e3e9f_highlighter(e.target.feature)\n",
       "                        e.target.setStyle(highlightStyle);\n",
       "                    }\n",
       "                },\n",
       "            });\n",
       "        };\n",
       "        var geo_json_ca7d91fa458d928d8b2e33763b0e3e9f = L.geoJson(null, {\n",
       "                onEachFeature: geo_json_ca7d91fa458d928d8b2e33763b0e3e9f_onEachFeature,\n",
       "            \n",
       "                style: geo_json_ca7d91fa458d928d8b2e33763b0e3e9f_styler,\n",
       "                pointToLayer: geo_json_ca7d91fa458d928d8b2e33763b0e3e9f_pointToLayer\n",
       "        });\n",
       "\n",
       "        function geo_json_ca7d91fa458d928d8b2e33763b0e3e9f_add (data) {\n",
       "            geo_json_ca7d91fa458d928d8b2e33763b0e3e9f\n",
       "                .addData(data)\n",
       "                .addTo(map_980816cb512b056999c90fab9a2aa5e5);\n",
       "        }\n",
       "            geo_json_ca7d91fa458d928d8b2e33763b0e3e9f_add({&quot;bbox&quot;: [147.09959654580408, -32.44460560526437, 147.7096031608572, -30.234605605264342], &quot;features&quot;: [{&quot;bbox&quot;: [147.09959654580408, -31.244618412374592, 147.30959654580408, -31.03461841237459], &quot;geometry&quot;: {&quot;coordinates&quot;: [[[147.09959654580408, -31.244618412374592], [147.30959654580408, -31.244618412374592], [147.30959654580408, -31.03461841237459], [147.09959654580408, -31.03461841237459], [147.09959654580408, -31.244618412374592]]], &quot;type&quot;: &quot;Polygon&quot;}, &quot;id&quot;: &quot;0&quot;, &quot;properties&quot;: {&quot;aoi_code&quot;: &quot;AOI01&quot;, &quot;cloud_cover&quot;: 0.02, &quot;id&quot;: &quot;2021-08-13&quot;, &quot;percentage_valid_pixels&quot;: 1.0, &quot;source&quot;: &quot;landsat&quot;}, &quot;type&quot;: &quot;Feature&quot;}, {&quot;bbox&quot;: [147.09959654580408, -31.244618412374592, 147.30959654580408, -31.03461841237459], &quot;geometry&quot;: {&quot;coordinates&quot;: [[[147.09959654580408, -31.244618412374592], [147.30959654580408, -31.244618412374592], [147.30959654580408, -31.03461841237459], [147.09959654580408, -31.03461841237459], [147.09959654580408, -31.244618412374592]]], &quot;type&quot;: &quot;Polygon&quot;}, &quot;id&quot;: &quot;1&quot;, &quot;properties&quot;: {&quot;aoi_code&quot;: &quot;AOI01&quot;, &quot;cloud_cover&quot;: 14.17, &quot;id&quot;: &quot;2021-08-29&quot;, &quot;percentage_valid_pixels&quot;: 1.0, &quot;source&quot;: &quot;landsat&quot;}, &quot;type&quot;: &quot;Feature&quot;}, {&quot;bbox&quot;: [147.09959654580408, -31.244618412374592, 147.30959654580408, -31.03461841237459], &quot;geometry&quot;: {&quot;coordinates&quot;: [[[147.09959654580408, -31.244618412374592], [147.30959654580408, -31.244618412374592], [147.30959654580408, -31.03461841237459], [147.09959654580408, -31.03461841237459], [147.09959654580408, -31.244618412374592]]], &quot;type&quot;: &quot;Polygon&quot;}, &quot;id&quot;: &quot;2&quot;, &quot;properties&quot;: {&quot;aoi_code&quot;: &quot;AOI01&quot;, &quot;cloud_cover&quot;: 1.96, &quot;id&quot;: &quot;2021-08-04&quot;, &quot;percentage_valid_pixels&quot;: 0.2793058483698508, &quot;source&quot;: &quot;landsat&quot;}, &quot;type&quot;: &quot;Feature&quot;}, {&quot;bbox&quot;: [147.09959654580408, -31.244618412374592, 147.30959654580408, -31.03461841237459], &quot;geometry&quot;: {&quot;coordinates&quot;: [[[147.09959654580408, -31.244618412374592], [147.30959654580408, -31.244618412374592], [147.30959654580408, -31.03461841237459], [147.09959654580408, -31.03461841237459], [147.09959654580408, -31.244618412374592]]], &quot;type&quot;: &quot;Polygon&quot;}, &quot;id&quot;: &quot;3&quot;, &quot;properties&quot;: {&quot;aoi_code&quot;: &quot;AOI01&quot;, &quot;cloud_cover&quot;: 0.01, &quot;id&quot;: &quot;2021-08-20&quot;, &quot;percentage_valid_pixels&quot;: 0.2761283403702215, &quot;source&quot;: &quot;landsat&quot;}, &quot;type&quot;: &quot;Feature&quot;}, {&quot;bbox&quot;: [147.09959654580408, -31.04461841237459, 147.30959654580408, -30.83461841237459], &quot;geometry&quot;: {&quot;coordinates&quot;: [[[147.09959654580408, -31.04461841237459], [147.30959654580408, -31.04461841237459], [147.30959654580408, -30.83461841237459], [147.09959654580408, -30.83461841237459], [147.09959654580408, -31.04461841237459]]], &quot;type&quot;: &quot;Polygon&quot;}, &quot;id&quot;: &quot;4&quot;, &quot;properties&quot;: {&quot;aoi_code&quot;: &quot;AOI01&quot;, &quot;cloud_cover&quot;: 0.02, &quot;id&quot;: &quot;2021-08-13&quot;, &quot;percentage_valid_pixels&quot;: 1.0, &quot;source&quot;: &quot;landsat&quot;}, &quot;type&quot;: &quot;Feature&quot;}, {&quot;bbox&quot;: [147.09959654580408, -31.04461841237459, 147.30959654580408, -30.83461841237459], &quot;geometry&quot;: {&quot;coordinates&quot;: [[[147.09959654580408, -31.04461841237459], [147.30959654580408, -31.04461841237459], [147.30959654580408, -30.83461841237459], [147.09959654580408, -30.83461841237459], [147.09959654580408, -31.04461841237459]]], &quot;type&quot;: &quot;Polygon&quot;}, &quot;id&quot;: &quot;5&quot;, &quot;properties&quot;: {&quot;aoi_code&quot;: &quot;AOI01&quot;, &quot;cloud_cover&quot;: 14.17, &quot;id&quot;: &quot;2021-08-29&quot;, &quot;percentage_valid_pixels&quot;: 1.0, &quot;source&quot;: &quot;landsat&quot;}, &quot;type&quot;: &quot;Feature&quot;}, {&quot;bbox&quot;: [147.09959654580408, -31.04461841237459, 147.30959654580408, -30.83461841237459], &quot;geometry&quot;: {&quot;coordinates&quot;: [[[147.09959654580408, -31.04461841237459], [147.30959654580408, -31.04461841237459], [147.30959654580408, -30.83461841237459], [147.09959654580408, -30.83461841237459], [147.09959654580408, -31.04461841237459]]], &quot;type&quot;: &quot;Polygon&quot;}, &quot;id&quot;: &quot;6&quot;, &quot;properties&quot;: {&quot;aoi_code&quot;: &quot;AOI01&quot;, &quot;cloud_cover&quot;: 1.96, &quot;id&quot;: &quot;2021-08-04&quot;, &quot;percentage_valid_pixels&quot;: 0.5215987902079016, &quot;source&quot;: &quot;landsat&quot;}, &quot;type&quot;: &quot;Feature&quot;}, {&quot;bbox&quot;: [147.09959654580408, -31.04461841237459, 147.30959654580408, -30.83461841237459], &quot;geometry&quot;: {&quot;coordinates&quot;: [[[147.09959654580408, -31.04461841237459], [147.30959654580408, -31.04461841237459], [147.30959654580408, -30.83461841237459], [147.09959654580408, -30.83461841237459], [147.09959654580408, -31.04461841237459]]], &quot;type&quot;: &quot;Polygon&quot;}, &quot;id&quot;: &quot;7&quot;, &quot;properties&quot;: {&quot;aoi_code&quot;: &quot;AOI01&quot;, &quot;cloud_cover&quot;: 0.01, &quot;id&quot;: &quot;2021-08-20&quot;, &quot;percentage_valid_pixels&quot;: 0.518509723511732, &quot;source&quot;: &quot;landsat&quot;}, &quot;type&quot;: &quot;Feature&quot;}, {&quot;bbox&quot;: [147.4996031608572, -32.44460560526437, 147.7096031608572, -32.23460560526437], &quot;geometry&quot;: {&quot;coordinates&quot;: [[[147.4996031608572, -32.44460560526437], [147.7096031608572, -32.44460560526437], [147.7096031608572, -32.23460560526437], [147.4996031608572, -32.23460560526437], [147.4996031608572, -32.44460560526437]]], &quot;type&quot;: &quot;Polygon&quot;}, &quot;id&quot;: &quot;8&quot;, &quot;properties&quot;: {&quot;aoi_code&quot;: &quot;AOI02&quot;, &quot;cloud_cover&quot;: 2.36, &quot;id&quot;: &quot;2021-08-13&quot;, &quot;percentage_valid_pixels&quot;: 1.0, &quot;source&quot;: &quot;landsat&quot;}, &quot;type&quot;: &quot;Feature&quot;}, {&quot;bbox&quot;: [147.4996031608572, -32.44460560526437, 147.7096031608572, -32.23460560526437], &quot;geometry&quot;: {&quot;coordinates&quot;: [[[147.4996031608572, -32.44460560526437], [147.7096031608572, -32.44460560526437], [147.7096031608572, -32.23460560526437], [147.4996031608572, -32.23460560526437], [147.4996031608572, -32.44460560526437]]], &quot;type&quot;: &quot;Polygon&quot;}, &quot;id&quot;: &quot;9&quot;, &quot;properties&quot;: {&quot;aoi_code&quot;: &quot;AOI02&quot;, &quot;cloud_cover&quot;: 56.97, &quot;id&quot;: &quot;2021-08-29&quot;, &quot;percentage_valid_pixels&quot;: 1.0, &quot;source&quot;: &quot;landsat&quot;}, &quot;type&quot;: &quot;Feature&quot;}, {&quot;bbox&quot;: [147.4996031608572, -30.444605605264343, 147.7096031608572, -30.234605605264342], &quot;geometry&quot;: {&quot;coordinates&quot;: [[[147.4996031608572, -30.444605605264343], [147.7096031608572, -30.444605605264343], [147.7096031608572, -30.234605605264342], [147.4996031608572, -30.234605605264342], [147.4996031608572, -30.444605605264343]]], &quot;type&quot;: &quot;Polygon&quot;}, &quot;id&quot;: &quot;10&quot;, &quot;properties&quot;: {&quot;aoi_code&quot;: &quot;AOI02&quot;, &quot;cloud_cover&quot;: 0.02, &quot;id&quot;: &quot;2021-08-13&quot;, &quot;percentage_valid_pixels&quot;: 1.0, &quot;source&quot;: &quot;landsat&quot;}, &quot;type&quot;: &quot;Feature&quot;}, {&quot;bbox&quot;: [147.4996031608572, -30.444605605264343, 147.7096031608572, -30.234605605264342], &quot;geometry&quot;: {&quot;coordinates&quot;: [[[147.4996031608572, -30.444605605264343], [147.7096031608572, -30.444605605264343], [147.7096031608572, -30.234605605264342], [147.4996031608572, -30.234605605264342], [147.4996031608572, -30.444605605264343]]], &quot;type&quot;: &quot;Polygon&quot;}, &quot;id&quot;: &quot;11&quot;, &quot;properties&quot;: {&quot;aoi_code&quot;: &quot;AOI02&quot;, &quot;cloud_cover&quot;: 14.17, &quot;id&quot;: &quot;2021-08-29&quot;, &quot;percentage_valid_pixels&quot;: 1.0, &quot;source&quot;: &quot;landsat&quot;}, &quot;type&quot;: &quot;Feature&quot;}, {&quot;bbox&quot;: [147.09959654580408, -30.844618412374587, 147.30959654580408, -30.634618412374586], &quot;geometry&quot;: {&quot;coordinates&quot;: [[[147.09959654580408, -30.844618412374587], [147.30959654580408, -30.844618412374587], [147.30959654580408, -30.634618412374586], [147.09959654580408, -30.634618412374586], [147.09959654580408, -30.844618412374587]]], &quot;type&quot;: &quot;Polygon&quot;}, &quot;id&quot;: &quot;12&quot;, &quot;properties&quot;: {&quot;aoi_code&quot;: &quot;AOI0289&quot;, &quot;cloud_cover&quot;: 0.02, &quot;id&quot;: &quot;2021-08-13&quot;, &quot;percentage_valid_pixels&quot;: 1.0, &quot;source&quot;: &quot;landsat&quot;}, &quot;type&quot;: &quot;Feature&quot;}, {&quot;bbox&quot;: [147.09959654580408, -30.844618412374587, 147.30959654580408, -30.634618412374586], &quot;geometry&quot;: {&quot;coordinates&quot;: [[[147.09959654580408, -30.844618412374587], [147.30959654580408, -30.844618412374587], [147.30959654580408, -30.634618412374586], [147.09959654580408, -30.634618412374586], [147.09959654580408, -30.844618412374587]]], &quot;type&quot;: &quot;Polygon&quot;}, &quot;id&quot;: &quot;13&quot;, &quot;properties&quot;: {&quot;aoi_code&quot;: &quot;AOI0289&quot;, &quot;cloud_cover&quot;: 14.17, &quot;id&quot;: &quot;2021-08-29&quot;, &quot;percentage_valid_pixels&quot;: 1.0, &quot;source&quot;: &quot;landsat&quot;}, &quot;type&quot;: &quot;Feature&quot;}, {&quot;bbox&quot;: [147.09959654580408, -30.844618412374587, 147.30959654580408, -30.634618412374586], &quot;geometry&quot;: {&quot;coordinates&quot;: [[[147.09959654580408, -30.844618412374587], [147.30959654580408, -30.844618412374587], [147.30959654580408, -30.634618412374586], [147.09959654580408, -30.634618412374586], [147.09959654580408, -30.844618412374587]]], &quot;type&quot;: &quot;Polygon&quot;}, &quot;id&quot;: &quot;14&quot;, &quot;properties&quot;: {&quot;aoi_code&quot;: &quot;AOI0289&quot;, &quot;cloud_cover&quot;: 1.96, &quot;id&quot;: &quot;2021-08-04&quot;, &quot;percentage_valid_pixels&quot;: 0.763331287697974, &quot;source&quot;: &quot;landsat&quot;}, &quot;type&quot;: &quot;Feature&quot;}, {&quot;bbox&quot;: [147.09959654580408, -30.844618412374587, 147.30959654580408, -30.634618412374586], &quot;geometry&quot;: {&quot;coordinates&quot;: [[[147.09959654580408, -30.844618412374587], [147.30959654580408, -30.844618412374587], [147.30959654580408, -30.634618412374586], [147.09959654580408, -30.634618412374586], [147.09959654580408, -30.844618412374587]]], &quot;type&quot;: &quot;Polygon&quot;}, &quot;id&quot;: &quot;15&quot;, &quot;properties&quot;: {&quot;aoi_code&quot;: &quot;AOI0289&quot;, &quot;cloud_cover&quot;: 0.01, &quot;id&quot;: &quot;2021-08-20&quot;, &quot;percentage_valid_pixels&quot;: 0.760160884429572, &quot;source&quot;: &quot;landsat&quot;}, &quot;type&quot;: &quot;Feature&quot;}, {&quot;bbox&quot;: [147.09959654580408, -31.244618412374592, 147.30959654580408, -31.03461841237459], &quot;geometry&quot;: {&quot;coordinates&quot;: [[[147.09959654580408, -31.244618412374592], [147.30959654580408, -31.244618412374592], [147.30959654580408, -31.03461841237459], [147.09959654580408, -31.03461841237459], [147.09959654580408, -31.244618412374592]]], &quot;type&quot;: &quot;Polygon&quot;}, &quot;id&quot;: &quot;16&quot;, &quot;properties&quot;: {&quot;aoi_code&quot;: &quot;AOI01&quot;, &quot;cloud_cover&quot;: 3.0108, &quot;id&quot;: &quot;2021-08-03&quot;, &quot;percentage_valid_pixels&quot;: 1.0, &quot;source&quot;: &quot;s2&quot;}, &quot;type&quot;: &quot;Feature&quot;}, {&quot;bbox&quot;: [147.09959654580408, -31.244618412374592, 147.30959654580408, -31.03461841237459], &quot;geometry&quot;: {&quot;coordinates&quot;: [[[147.09959654580408, -31.244618412374592], [147.30959654580408, -31.244618412374592], [147.30959654580408, -31.03461841237459], [147.09959654580408, -31.03461841237459], [147.09959654580408, -31.244618412374592]]], &quot;type&quot;: &quot;Polygon&quot;}, &quot;id&quot;: &quot;17&quot;, &quot;properties&quot;: {&quot;aoi_code&quot;: &quot;AOI01&quot;, &quot;cloud_cover&quot;: 40.112, &quot;id&quot;: &quot;2021-08-05&quot;, &quot;percentage_valid_pixels&quot;: 1.0, &quot;source&quot;: &quot;s2&quot;}, &quot;type&quot;: &quot;Feature&quot;}, {&quot;bbox&quot;: [147.09959654580408, -31.244618412374592, 147.30959654580408, -31.03461841237459], &quot;geometry&quot;: {&quot;coordinates&quot;: [[[147.09959654580408, -31.244618412374592], [147.30959654580408, -31.244618412374592], [147.30959654580408, -31.03461841237459], [147.09959654580408, -31.03461841237459], [147.09959654580408, -31.244618412374592]]], &quot;type&quot;: &quot;Polygon&quot;}, &quot;id&quot;: &quot;18&quot;, &quot;properties&quot;: {&quot;aoi_code&quot;: &quot;AOI01&quot;, &quot;cloud_cover&quot;: 2.0378, &quot;id&quot;: &quot;2021-08-08&quot;, &quot;percentage_valid_pixels&quot;: 1.0, &quot;source&quot;: &quot;s2&quot;}, &quot;type&quot;: &quot;Feature&quot;}, {&quot;bbox&quot;: [147.09959654580408, -31.244618412374592, 147.30959654580408, -31.03461841237459], &quot;geometry&quot;: {&quot;coordinates&quot;: [[[147.09959654580408, -31.244618412374592], [147.30959654580408, -31.244618412374592], [147.30959654580408, -31.03461841237459], [147.09959654580408, -31.03461841237459], [147.09959654580408, -31.244618412374592]]], &quot;type&quot;: &quot;Polygon&quot;}, &quot;id&quot;: &quot;19&quot;, &quot;properties&quot;: {&quot;aoi_code&quot;: &quot;AOI01&quot;, &quot;cloud_cover&quot;: 0.0, &quot;id&quot;: &quot;2021-08-10&quot;, &quot;percentage_valid_pixels&quot;: 1.0, &quot;source&quot;: &quot;s2&quot;}, &quot;type&quot;: &quot;Feature&quot;}, {&quot;bbox&quot;: [147.09959654580408, -31.244618412374592, 147.30959654580408, -31.03461841237459], &quot;geometry&quot;: {&quot;coordinates&quot;: [[[147.09959654580408, -31.244618412374592], [147.30959654580408, -31.244618412374592], [147.30959654580408, -31.03461841237459], [147.09959654580408, -31.03461841237459], [147.09959654580408, -31.244618412374592]]], &quot;type&quot;: &quot;Polygon&quot;}, &quot;id&quot;: &quot;20&quot;, &quot;properties&quot;: {&quot;aoi_code&quot;: &quot;AOI01&quot;, &quot;cloud_cover&quot;: 0.0281, &quot;id&quot;: &quot;2021-08-13&quot;, &quot;percentage_valid_pixels&quot;: 1.0, &quot;source&quot;: &quot;s2&quot;}, &quot;type&quot;: &quot;Feature&quot;}, {&quot;bbox&quot;: [147.09959654580408, -31.244618412374592, 147.30959654580408, -31.03461841237459], &quot;geometry&quot;: {&quot;coordinates&quot;: [[[147.09959654580408, -31.244618412374592], [147.30959654580408, -31.244618412374592], [147.30959654580408, -31.03461841237459], [147.09959654580408, -31.03461841237459], [147.09959654580408, -31.244618412374592]]], &quot;type&quot;: &quot;Polygon&quot;}, &quot;id&quot;: &quot;21&quot;, &quot;properties&quot;: {&quot;aoi_code&quot;: &quot;AOI01&quot;, &quot;cloud_cover&quot;: 5.4465, &quot;id&quot;: &quot;2021-08-15&quot;, &quot;percentage_valid_pixels&quot;: 1.0, &quot;source&quot;: &quot;s2&quot;}, &quot;type&quot;: &quot;Feature&quot;}, {&quot;bbox&quot;: [147.09959654580408, -31.244618412374592, 147.30959654580408, -31.03461841237459], &quot;geometry&quot;: {&quot;coordinates&quot;: [[[147.09959654580408, -31.244618412374592], [147.30959654580408, -31.244618412374592], [147.30959654580408, -31.03461841237459], [147.09959654580408, -31.03461841237459], [147.09959654580408, -31.244618412374592]]], &quot;type&quot;: &quot;Polygon&quot;}, &quot;id&quot;: &quot;22&quot;, &quot;properties&quot;: {&quot;aoi_code&quot;: &quot;AOI01&quot;, &quot;cloud_cover&quot;: 0.2876, &quot;id&quot;: &quot;2021-08-18&quot;, &quot;percentage_valid_pixels&quot;: 1.0, &quot;source&quot;: &quot;s2&quot;}, &quot;type&quot;: &quot;Feature&quot;}, {&quot;bbox&quot;: [147.09959654580408, -31.244618412374592, 147.30959654580408, -31.03461841237459], &quot;geometry&quot;: {&quot;coordinates&quot;: [[[147.09959654580408, -31.244618412374592], [147.30959654580408, -31.244618412374592], [147.30959654580408, -31.03461841237459], [147.09959654580408, -31.03461841237459], [147.09959654580408, -31.244618412374592]]], &quot;type&quot;: &quot;Polygon&quot;}, &quot;id&quot;: &quot;23&quot;, &quot;properties&quot;: {&quot;aoi_code&quot;: &quot;AOI01&quot;, &quot;cloud_cover&quot;: 0.6071, &quot;id&quot;: &quot;2021-08-20&quot;, &quot;percentage_valid_pixels&quot;: 1.0, &quot;source&quot;: &quot;s2&quot;}, &quot;type&quot;: &quot;Feature&quot;}, {&quot;bbox&quot;: [147.09959654580408, -31.244618412374592, 147.30959654580408, -31.03461841237459], &quot;geometry&quot;: {&quot;coordinates&quot;: [[[147.09959654580408, -31.244618412374592], [147.30959654580408, -31.244618412374592], [147.30959654580408, -31.03461841237459], [147.09959654580408, -31.03461841237459], [147.09959654580408, -31.244618412374592]]], &quot;type&quot;: &quot;Polygon&quot;}, &quot;id&quot;: &quot;24&quot;, &quot;properties&quot;: {&quot;aoi_code&quot;: &quot;AOI01&quot;, &quot;cloud_cover&quot;: 33.5172, &quot;id&quot;: &quot;2021-08-23&quot;, &quot;percentage_valid_pixels&quot;: 1.0, &quot;source&quot;: &quot;s2&quot;}, &quot;type&quot;: &quot;Feature&quot;}, {&quot;bbox&quot;: [147.09959654580408, -31.244618412374592, 147.30959654580408, -31.03461841237459], &quot;geometry&quot;: {&quot;coordinates&quot;: [[[147.09959654580408, -31.244618412374592], [147.30959654580408, -31.244618412374592], [147.30959654580408, -31.03461841237459], [147.09959654580408, -31.03461841237459], [147.09959654580408, -31.244618412374592]]], &quot;type&quot;: &quot;Polygon&quot;}, &quot;id&quot;: &quot;25&quot;, &quot;properties&quot;: {&quot;aoi_code&quot;: &quot;AOI01&quot;, &quot;cloud_cover&quot;: 0.1036, &quot;id&quot;: &quot;2021-08-25&quot;, &quot;percentage_valid_pixels&quot;: 1.0, &quot;source&quot;: &quot;s2&quot;}, &quot;type&quot;: &quot;Feature&quot;}, {&quot;bbox&quot;: [147.09959654580408, -31.244618412374592, 147.30959654580408, -31.03461841237459], &quot;geometry&quot;: {&quot;coordinates&quot;: [[[147.09959654580408, -31.244618412374592], [147.30959654580408, -31.244618412374592], [147.30959654580408, -31.03461841237459], [147.09959654580408, -31.03461841237459], [147.09959654580408, -31.244618412374592]]], &quot;type&quot;: &quot;Polygon&quot;}, &quot;id&quot;: &quot;26&quot;, &quot;properties&quot;: {&quot;aoi_code&quot;: &quot;AOI01&quot;, &quot;cloud_cover&quot;: 0.0, &quot;id&quot;: &quot;2021-08-28&quot;, &quot;percentage_valid_pixels&quot;: 1.0, &quot;source&quot;: &quot;s2&quot;}, &quot;type&quot;: &quot;Feature&quot;}, {&quot;bbox&quot;: [147.09959654580408, -31.244618412374592, 147.30959654580408, -31.03461841237459], &quot;geometry&quot;: {&quot;coordinates&quot;: [[[147.09959654580408, -31.244618412374592], [147.30959654580408, -31.244618412374592], [147.30959654580408, -31.03461841237459], [147.09959654580408, -31.03461841237459], [147.09959654580408, -31.244618412374592]]], &quot;type&quot;: &quot;Polygon&quot;}, &quot;id&quot;: &quot;27&quot;, &quot;properties&quot;: {&quot;aoi_code&quot;: &quot;AOI01&quot;, &quot;cloud_cover&quot;: 97.7998, &quot;id&quot;: &quot;2021-08-30&quot;, &quot;percentage_valid_pixels&quot;: 1.0, &quot;source&quot;: &quot;s2&quot;}, &quot;type&quot;: &quot;Feature&quot;}, {&quot;bbox&quot;: [147.09959654580408, -31.244618412374592, 147.30959654580408, -31.03461841237459], &quot;geometry&quot;: {&quot;coordinates&quot;: [[[147.09959654580408, -31.244618412374592], [147.30959654580408, -31.244618412374592], [147.30959654580408, -31.03461841237459], [147.09959654580408, -31.03461841237459], [147.09959654580408, -31.244618412374592]]], &quot;type&quot;: &quot;Polygon&quot;}, &quot;id&quot;: &quot;28&quot;, &quot;properties&quot;: {&quot;aoi_code&quot;: &quot;AOI01&quot;, &quot;cloud_cover&quot;: 0.0, &quot;id&quot;: &quot;2021-09-02&quot;, &quot;percentage_valid_pixels&quot;: 1.0, &quot;source&quot;: &quot;s2&quot;}, &quot;type&quot;: &quot;Feature&quot;}, {&quot;bbox&quot;: [147.09959654580408, -31.04461841237459, 147.30959654580408, -30.83461841237459], &quot;geometry&quot;: {&quot;coordinates&quot;: [[[147.09959654580408, -31.04461841237459], [147.30959654580408, -31.04461841237459], [147.30959654580408, -30.83461841237459], [147.09959654580408, -30.83461841237459], [147.09959654580408, -31.04461841237459]]], &quot;type&quot;: &quot;Polygon&quot;}, &quot;id&quot;: &quot;29&quot;, &quot;properties&quot;: {&quot;aoi_code&quot;: &quot;AOI01&quot;, &quot;cloud_cover&quot;: 3.0108, &quot;id&quot;: &quot;2021-08-03&quot;, &quot;percentage_valid_pixels&quot;: 1.0, &quot;source&quot;: &quot;s2&quot;}, &quot;type&quot;: &quot;Feature&quot;}, {&quot;bbox&quot;: [147.09959654580408, -31.04461841237459, 147.30959654580408, -30.83461841237459], &quot;geometry&quot;: {&quot;coordinates&quot;: [[[147.09959654580408, -31.04461841237459], [147.30959654580408, -31.04461841237459], [147.30959654580408, -30.83461841237459], [147.09959654580408, -30.83461841237459], [147.09959654580408, -31.04461841237459]]], &quot;type&quot;: &quot;Polygon&quot;}, &quot;id&quot;: &quot;30&quot;, &quot;properties&quot;: {&quot;aoi_code&quot;: &quot;AOI01&quot;, &quot;cloud_cover&quot;: 40.112, &quot;id&quot;: &quot;2021-08-05&quot;, &quot;percentage_valid_pixels&quot;: 1.0, &quot;source&quot;: &quot;s2&quot;}, &quot;type&quot;: &quot;Feature&quot;}, {&quot;bbox&quot;: [147.09959654580408, -31.04461841237459, 147.30959654580408, -30.83461841237459], &quot;geometry&quot;: {&quot;coordinates&quot;: [[[147.09959654580408, -31.04461841237459], [147.30959654580408, -31.04461841237459], [147.30959654580408, -30.83461841237459], [147.09959654580408, -30.83461841237459], [147.09959654580408, -31.04461841237459]]], &quot;type&quot;: &quot;Polygon&quot;}, &quot;id&quot;: &quot;31&quot;, &quot;properties&quot;: {&quot;aoi_code&quot;: &quot;AOI01&quot;, &quot;cloud_cover&quot;: 2.0378, &quot;id&quot;: &quot;2021-08-08&quot;, &quot;percentage_valid_pixels&quot;: 1.0, &quot;source&quot;: &quot;s2&quot;}, &quot;type&quot;: &quot;Feature&quot;}, {&quot;bbox&quot;: [147.09959654580408, -31.04461841237459, 147.30959654580408, -30.83461841237459], &quot;geometry&quot;: {&quot;coordinates&quot;: [[[147.09959654580408, -31.04461841237459], [147.30959654580408, -31.04461841237459], [147.30959654580408, -30.83461841237459], [147.09959654580408, -30.83461841237459], [147.09959654580408, -31.04461841237459]]], &quot;type&quot;: &quot;Polygon&quot;}, &quot;id&quot;: &quot;32&quot;, &quot;properties&quot;: {&quot;aoi_code&quot;: &quot;AOI01&quot;, &quot;cloud_cover&quot;: 0.0, &quot;id&quot;: &quot;2021-08-10&quot;, &quot;percentage_valid_pixels&quot;: 1.0, &quot;source&quot;: &quot;s2&quot;}, &quot;type&quot;: &quot;Feature&quot;}, {&quot;bbox&quot;: [147.09959654580408, -31.04461841237459, 147.30959654580408, -30.83461841237459], &quot;geometry&quot;: {&quot;coordinates&quot;: [[[147.09959654580408, -31.04461841237459], [147.30959654580408, -31.04461841237459], [147.30959654580408, -30.83461841237459], [147.09959654580408, -30.83461841237459], [147.09959654580408, -31.04461841237459]]], &quot;type&quot;: &quot;Polygon&quot;}, &quot;id&quot;: &quot;33&quot;, &quot;properties&quot;: {&quot;aoi_code&quot;: &quot;AOI01&quot;, &quot;cloud_cover&quot;: 0.0281, &quot;id&quot;: &quot;2021-08-13&quot;, &quot;percentage_valid_pixels&quot;: 1.0, &quot;source&quot;: &quot;s2&quot;}, &quot;type&quot;: &quot;Feature&quot;}, {&quot;bbox&quot;: [147.09959654580408, -31.04461841237459, 147.30959654580408, -30.83461841237459], &quot;geometry&quot;: {&quot;coordinates&quot;: [[[147.09959654580408, -31.04461841237459], [147.30959654580408, -31.04461841237459], [147.30959654580408, -30.83461841237459], [147.09959654580408, -30.83461841237459], [147.09959654580408, -31.04461841237459]]], &quot;type&quot;: &quot;Polygon&quot;}, &quot;id&quot;: &quot;34&quot;, &quot;properties&quot;: {&quot;aoi_code&quot;: &quot;AOI01&quot;, &quot;cloud_cover&quot;: 5.4465, &quot;id&quot;: &quot;2021-08-15&quot;, &quot;percentage_valid_pixels&quot;: 1.0, &quot;source&quot;: &quot;s2&quot;}, &quot;type&quot;: &quot;Feature&quot;}, {&quot;bbox&quot;: [147.09959654580408, -31.04461841237459, 147.30959654580408, -30.83461841237459], &quot;geometry&quot;: {&quot;coordinates&quot;: [[[147.09959654580408, -31.04461841237459], [147.30959654580408, -31.04461841237459], [147.30959654580408, -30.83461841237459], [147.09959654580408, -30.83461841237459], [147.09959654580408, -31.04461841237459]]], &quot;type&quot;: &quot;Polygon&quot;}, &quot;id&quot;: &quot;35&quot;, &quot;properties&quot;: {&quot;aoi_code&quot;: &quot;AOI01&quot;, &quot;cloud_cover&quot;: 0.2876, &quot;id&quot;: &quot;2021-08-18&quot;, &quot;percentage_valid_pixels&quot;: 1.0, &quot;source&quot;: &quot;s2&quot;}, &quot;type&quot;: &quot;Feature&quot;}, {&quot;bbox&quot;: [147.09959654580408, -31.04461841237459, 147.30959654580408, -30.83461841237459], &quot;geometry&quot;: {&quot;coordinates&quot;: [[[147.09959654580408, -31.04461841237459], [147.30959654580408, -31.04461841237459], [147.30959654580408, -30.83461841237459], [147.09959654580408, -30.83461841237459], [147.09959654580408, -31.04461841237459]]], &quot;type&quot;: &quot;Polygon&quot;}, &quot;id&quot;: &quot;36&quot;, &quot;properties&quot;: {&quot;aoi_code&quot;: &quot;AOI01&quot;, &quot;cloud_cover&quot;: 0.6071, &quot;id&quot;: &quot;2021-08-20&quot;, &quot;percentage_valid_pixels&quot;: 1.0, &quot;source&quot;: &quot;s2&quot;}, &quot;type&quot;: &quot;Feature&quot;}, {&quot;bbox&quot;: [147.09959654580408, -31.04461841237459, 147.30959654580408, -30.83461841237459], &quot;geometry&quot;: {&quot;coordinates&quot;: [[[147.09959654580408, -31.04461841237459], [147.30959654580408, -31.04461841237459], [147.30959654580408, -30.83461841237459], [147.09959654580408, -30.83461841237459], [147.09959654580408, -31.04461841237459]]], &quot;type&quot;: &quot;Polygon&quot;}, &quot;id&quot;: &quot;37&quot;, &quot;properties&quot;: {&quot;aoi_code&quot;: &quot;AOI01&quot;, &quot;cloud_cover&quot;: 33.5172, &quot;id&quot;: &quot;2021-08-23&quot;, &quot;percentage_valid_pixels&quot;: 1.0, &quot;source&quot;: &quot;s2&quot;}, &quot;type&quot;: &quot;Feature&quot;}, {&quot;bbox&quot;: [147.09959654580408, -31.04461841237459, 147.30959654580408, -30.83461841237459], &quot;geometry&quot;: {&quot;coordinates&quot;: [[[147.09959654580408, -31.04461841237459], [147.30959654580408, -31.04461841237459], [147.30959654580408, -30.83461841237459], [147.09959654580408, -30.83461841237459], [147.09959654580408, -31.04461841237459]]], &quot;type&quot;: &quot;Polygon&quot;}, &quot;id&quot;: &quot;38&quot;, &quot;properties&quot;: {&quot;aoi_code&quot;: &quot;AOI01&quot;, &quot;cloud_cover&quot;: 0.1036, &quot;id&quot;: &quot;2021-08-25&quot;, &quot;percentage_valid_pixels&quot;: 1.0, &quot;source&quot;: &quot;s2&quot;}, &quot;type&quot;: &quot;Feature&quot;}, {&quot;bbox&quot;: [147.09959654580408, -31.04461841237459, 147.30959654580408, -30.83461841237459], &quot;geometry&quot;: {&quot;coordinates&quot;: [[[147.09959654580408, -31.04461841237459], [147.30959654580408, -31.04461841237459], [147.30959654580408, -30.83461841237459], [147.09959654580408, -30.83461841237459], [147.09959654580408, -31.04461841237459]]], &quot;type&quot;: &quot;Polygon&quot;}, &quot;id&quot;: &quot;39&quot;, &quot;properties&quot;: {&quot;aoi_code&quot;: &quot;AOI01&quot;, &quot;cloud_cover&quot;: 0.0, &quot;id&quot;: &quot;2021-08-28&quot;, &quot;percentage_valid_pixels&quot;: 1.0, &quot;source&quot;: &quot;s2&quot;}, &quot;type&quot;: &quot;Feature&quot;}, {&quot;bbox&quot;: [147.09959654580408, -31.04461841237459, 147.30959654580408, -30.83461841237459], &quot;geometry&quot;: {&quot;coordinates&quot;: [[[147.09959654580408, -31.04461841237459], [147.30959654580408, -31.04461841237459], [147.30959654580408, -30.83461841237459], [147.09959654580408, -30.83461841237459], [147.09959654580408, -31.04461841237459]]], &quot;type&quot;: &quot;Polygon&quot;}, &quot;id&quot;: &quot;40&quot;, &quot;properties&quot;: {&quot;aoi_code&quot;: &quot;AOI01&quot;, &quot;cloud_cover&quot;: 97.7998, &quot;id&quot;: &quot;2021-08-30&quot;, &quot;percentage_valid_pixels&quot;: 1.0, &quot;source&quot;: &quot;s2&quot;}, &quot;type&quot;: &quot;Feature&quot;}, {&quot;bbox&quot;: [147.09959654580408, -31.04461841237459, 147.30959654580408, -30.83461841237459], &quot;geometry&quot;: {&quot;coordinates&quot;: [[[147.09959654580408, -31.04461841237459], [147.30959654580408, -31.04461841237459], [147.30959654580408, -30.83461841237459], [147.09959654580408, -30.83461841237459], [147.09959654580408, -31.04461841237459]]], &quot;type&quot;: &quot;Polygon&quot;}, &quot;id&quot;: &quot;41&quot;, &quot;properties&quot;: {&quot;aoi_code&quot;: &quot;AOI01&quot;, &quot;cloud_cover&quot;: 0.0, &quot;id&quot;: &quot;2021-09-02&quot;, &quot;percentage_valid_pixels&quot;: 1.0, &quot;source&quot;: &quot;s2&quot;}, &quot;type&quot;: &quot;Feature&quot;}, {&quot;bbox&quot;: [147.4996031608572, -32.44460560526437, 147.7096031608572, -32.23460560526437], &quot;geometry&quot;: {&quot;coordinates&quot;: [[[147.4996031608572, -32.44460560526437], [147.7096031608572, -32.44460560526437], [147.7096031608572, -32.23460560526437], [147.4996031608572, -32.23460560526437], [147.4996031608572, -32.44460560526437]]], &quot;type&quot;: &quot;Polygon&quot;}, &quot;id&quot;: &quot;42&quot;, &quot;properties&quot;: {&quot;aoi_code&quot;: &quot;AOI02&quot;, &quot;cloud_cover&quot;: 43.652, &quot;id&quot;: &quot;2021-08-05&quot;, &quot;percentage_valid_pixels&quot;: 1.0, &quot;source&quot;: &quot;s2&quot;}, &quot;type&quot;: &quot;Feature&quot;}, {&quot;bbox&quot;: [147.4996031608572, -32.44460560526437, 147.7096031608572, -32.23460560526437], &quot;geometry&quot;: {&quot;coordinates&quot;: [[[147.4996031608572, -32.44460560526437], [147.7096031608572, -32.44460560526437], [147.7096031608572, -32.23460560526437], [147.4996031608572, -32.23460560526437], [147.4996031608572, -32.44460560526437]]], &quot;type&quot;: &quot;Polygon&quot;}, &quot;id&quot;: &quot;43&quot;, &quot;properties&quot;: {&quot;aoi_code&quot;: &quot;AOI02&quot;, &quot;cloud_cover&quot;: 0.0, &quot;id&quot;: &quot;2021-08-10&quot;, &quot;percentage_valid_pixels&quot;: 1.0, &quot;source&quot;: &quot;s2&quot;}, &quot;type&quot;: &quot;Feature&quot;}, {&quot;bbox&quot;: [147.4996031608572, -32.44460560526437, 147.7096031608572, -32.23460560526437], &quot;geometry&quot;: {&quot;coordinates&quot;: [[[147.4996031608572, -32.44460560526437], [147.7096031608572, -32.44460560526437], [147.7096031608572, -32.23460560526437], [147.4996031608572, -32.23460560526437], [147.4996031608572, -32.44460560526437]]], &quot;type&quot;: &quot;Polygon&quot;}, &quot;id&quot;: &quot;44&quot;, &quot;properties&quot;: {&quot;aoi_code&quot;: &quot;AOI02&quot;, &quot;cloud_cover&quot;: 0.0, &quot;id&quot;: &quot;2021-08-15&quot;, &quot;percentage_valid_pixels&quot;: 1.0, &quot;source&quot;: &quot;s2&quot;}, &quot;type&quot;: &quot;Feature&quot;}, {&quot;bbox&quot;: [147.4996031608572, -32.44460560526437, 147.7096031608572, -32.23460560526437], &quot;geometry&quot;: {&quot;coordinates&quot;: [[[147.4996031608572, -32.44460560526437], [147.7096031608572, -32.44460560526437], [147.7096031608572, -32.23460560526437], [147.4996031608572, -32.23460560526437], [147.4996031608572, -32.44460560526437]]], &quot;type&quot;: &quot;Polygon&quot;}, &quot;id&quot;: &quot;45&quot;, &quot;properties&quot;: {&quot;aoi_code&quot;: &quot;AOI02&quot;, &quot;cloud_cover&quot;: 0.0, &quot;id&quot;: &quot;2021-08-20&quot;, &quot;percentage_valid_pixels&quot;: 1.0, &quot;source&quot;: &quot;s2&quot;}, &quot;type&quot;: &quot;Feature&quot;}, {&quot;bbox&quot;: [147.4996031608572, -32.44460560526437, 147.7096031608572, -32.23460560526437], &quot;geometry&quot;: {&quot;coordinates&quot;: [[[147.4996031608572, -32.44460560526437], [147.7096031608572, -32.44460560526437], [147.7096031608572, -32.23460560526437], [147.4996031608572, -32.23460560526437], [147.4996031608572, -32.44460560526437]]], &quot;type&quot;: &quot;Polygon&quot;}, &quot;id&quot;: &quot;46&quot;, &quot;properties&quot;: {&quot;aoi_code&quot;: &quot;AOI02&quot;, &quot;cloud_cover&quot;: 0.1242, &quot;id&quot;: &quot;2021-08-25&quot;, &quot;percentage_valid_pixels&quot;: 1.0, &quot;source&quot;: &quot;s2&quot;}, &quot;type&quot;: &quot;Feature&quot;}, {&quot;bbox&quot;: [147.4996031608572, -32.44460560526437, 147.7096031608572, -32.23460560526437], &quot;geometry&quot;: {&quot;coordinates&quot;: [[[147.4996031608572, -32.44460560526437], [147.7096031608572, -32.44460560526437], [147.7096031608572, -32.23460560526437], [147.4996031608572, -32.23460560526437], [147.4996031608572, -32.44460560526437]]], &quot;type&quot;: &quot;Polygon&quot;}, &quot;id&quot;: &quot;47&quot;, &quot;properties&quot;: {&quot;aoi_code&quot;: &quot;AOI02&quot;, &quot;cloud_cover&quot;: 99.8591, &quot;id&quot;: &quot;2021-08-30&quot;, &quot;percentage_valid_pixels&quot;: 1.0, &quot;source&quot;: &quot;s2&quot;}, &quot;type&quot;: &quot;Feature&quot;}, {&quot;bbox&quot;: [147.4996031608572, -30.444605605264343, 147.7096031608572, -30.234605605264342], &quot;geometry&quot;: {&quot;coordinates&quot;: [[[147.4996031608572, -30.444605605264343], [147.7096031608572, -30.444605605264343], [147.7096031608572, -30.234605605264342], [147.4996031608572, -30.234605605264342], [147.4996031608572, -30.444605605264343]]], &quot;type&quot;: &quot;Polygon&quot;}, &quot;id&quot;: &quot;48&quot;, &quot;properties&quot;: {&quot;aoi_code&quot;: &quot;AOI02&quot;, &quot;cloud_cover&quot;: 0.0103, &quot;id&quot;: &quot;2021-08-03&quot;, &quot;percentage_valid_pixels&quot;: 1.0, &quot;source&quot;: &quot;s2&quot;}, &quot;type&quot;: &quot;Feature&quot;}, {&quot;bbox&quot;: [147.4996031608572, -30.444605605264343, 147.7096031608572, -30.234605605264342], &quot;geometry&quot;: {&quot;coordinates&quot;: [[[147.4996031608572, -30.444605605264343], [147.7096031608572, -30.444605605264343], [147.7096031608572, -30.234605605264342], [147.4996031608572, -30.234605605264342], [147.4996031608572, -30.444605605264343]]], &quot;type&quot;: &quot;Polygon&quot;}, &quot;id&quot;: &quot;49&quot;, &quot;properties&quot;: {&quot;aoi_code&quot;: &quot;AOI02&quot;, &quot;cloud_cover&quot;: 0.681, &quot;id&quot;: &quot;2021-08-05&quot;, &quot;percentage_valid_pixels&quot;: 1.0, &quot;source&quot;: &quot;s2&quot;}, &quot;type&quot;: &quot;Feature&quot;}, {&quot;bbox&quot;: [147.4996031608572, -30.444605605264343, 147.7096031608572, -30.234605605264342], &quot;geometry&quot;: {&quot;coordinates&quot;: [[[147.4996031608572, -30.444605605264343], [147.7096031608572, -30.444605605264343], [147.7096031608572, -30.234605605264342], [147.4996031608572, -30.234605605264342], [147.4996031608572, -30.444605605264343]]], &quot;type&quot;: &quot;Polygon&quot;}, &quot;id&quot;: &quot;50&quot;, &quot;properties&quot;: {&quot;aoi_code&quot;: &quot;AOI02&quot;, &quot;cloud_cover&quot;: 0.0384, &quot;id&quot;: &quot;2021-08-08&quot;, &quot;percentage_valid_pixels&quot;: 1.0, &quot;source&quot;: &quot;s2&quot;}, &quot;type&quot;: &quot;Feature&quot;}, {&quot;bbox&quot;: [147.4996031608572, -30.444605605264343, 147.7096031608572, -30.234605605264342], &quot;geometry&quot;: {&quot;coordinates&quot;: [[[147.4996031608572, -30.444605605264343], [147.7096031608572, -30.444605605264343], [147.7096031608572, -30.234605605264342], [147.4996031608572, -30.234605605264342], [147.4996031608572, -30.444605605264343]]], &quot;type&quot;: &quot;Polygon&quot;}, &quot;id&quot;: &quot;51&quot;, &quot;properties&quot;: {&quot;aoi_code&quot;: &quot;AOI02&quot;, &quot;cloud_cover&quot;: 3.6523, &quot;id&quot;: &quot;2021-08-10&quot;, &quot;percentage_valid_pixels&quot;: 1.0, &quot;source&quot;: &quot;s2&quot;}, &quot;type&quot;: &quot;Feature&quot;}, {&quot;bbox&quot;: [147.4996031608572, -30.444605605264343, 147.7096031608572, -30.234605605264342], &quot;geometry&quot;: {&quot;coordinates&quot;: [[[147.4996031608572, -30.444605605264343], [147.7096031608572, -30.444605605264343], [147.7096031608572, -30.234605605264342], [147.4996031608572, -30.234605605264342], [147.4996031608572, -30.444605605264343]]], &quot;type&quot;: &quot;Polygon&quot;}, &quot;id&quot;: &quot;52&quot;, &quot;properties&quot;: {&quot;aoi_code&quot;: &quot;AOI02&quot;, &quot;cloud_cover&quot;: 0.0, &quot;id&quot;: &quot;2021-08-13&quot;, &quot;percentage_valid_pixels&quot;: 1.0, &quot;source&quot;: &quot;s2&quot;}, &quot;type&quot;: &quot;Feature&quot;}, {&quot;bbox&quot;: [147.4996031608572, -30.444605605264343, 147.7096031608572, -30.234605605264342], &quot;geometry&quot;: {&quot;coordinates&quot;: [[[147.4996031608572, -30.444605605264343], [147.7096031608572, -30.444605605264343], [147.7096031608572, -30.234605605264342], [147.4996031608572, -30.234605605264342], [147.4996031608572, -30.444605605264343]]], &quot;type&quot;: &quot;Polygon&quot;}, &quot;id&quot;: &quot;53&quot;, &quot;properties&quot;: {&quot;aoi_code&quot;: &quot;AOI02&quot;, &quot;cloud_cover&quot;: 5.092, &quot;id&quot;: &quot;2021-08-15&quot;, &quot;percentage_valid_pixels&quot;: 1.0, &quot;source&quot;: &quot;s2&quot;}, &quot;type&quot;: &quot;Feature&quot;}, {&quot;bbox&quot;: [147.4996031608572, -30.444605605264343, 147.7096031608572, -30.234605605264342], &quot;geometry&quot;: {&quot;coordinates&quot;: [[[147.4996031608572, -30.444605605264343], [147.7096031608572, -30.444605605264343], [147.7096031608572, -30.234605605264342], [147.4996031608572, -30.234605605264342], [147.4996031608572, -30.444605605264343]]], &quot;type&quot;: &quot;Polygon&quot;}, &quot;id&quot;: &quot;54&quot;, &quot;properties&quot;: {&quot;aoi_code&quot;: &quot;AOI02&quot;, &quot;cloud_cover&quot;: 0.0, &quot;id&quot;: &quot;2021-08-18&quot;, &quot;percentage_valid_pixels&quot;: 1.0, &quot;source&quot;: &quot;s2&quot;}, &quot;type&quot;: &quot;Feature&quot;}, {&quot;bbox&quot;: [147.4996031608572, -30.444605605264343, 147.7096031608572, -30.234605605264342], &quot;geometry&quot;: {&quot;coordinates&quot;: [[[147.4996031608572, -30.444605605264343], [147.7096031608572, -30.444605605264343], [147.7096031608572, -30.234605605264342], [147.4996031608572, -30.234605605264342], [147.4996031608572, -30.444605605264343]]], &quot;type&quot;: &quot;Polygon&quot;}, &quot;id&quot;: &quot;55&quot;, &quot;properties&quot;: {&quot;aoi_code&quot;: &quot;AOI02&quot;, &quot;cloud_cover&quot;: 0.2147, &quot;id&quot;: &quot;2021-08-20&quot;, &quot;percentage_valid_pixels&quot;: 1.0, &quot;source&quot;: &quot;s2&quot;}, &quot;type&quot;: &quot;Feature&quot;}, {&quot;bbox&quot;: [147.4996031608572, -30.444605605264343, 147.7096031608572, -30.234605605264342], &quot;geometry&quot;: {&quot;coordinates&quot;: [[[147.4996031608572, -30.444605605264343], [147.7096031608572, -30.444605605264343], [147.7096031608572, -30.234605605264342], [147.4996031608572, -30.234605605264342], [147.4996031608572, -30.444605605264343]]], &quot;type&quot;: &quot;Polygon&quot;}, &quot;id&quot;: &quot;56&quot;, &quot;properties&quot;: {&quot;aoi_code&quot;: &quot;AOI02&quot;, &quot;cloud_cover&quot;: 46.9633, &quot;id&quot;: &quot;2021-08-23&quot;, &quot;percentage_valid_pixels&quot;: 1.0, &quot;source&quot;: &quot;s2&quot;}, &quot;type&quot;: &quot;Feature&quot;}, {&quot;bbox&quot;: [147.4996031608572, -30.444605605264343, 147.7096031608572, -30.234605605264342], &quot;geometry&quot;: {&quot;coordinates&quot;: [[[147.4996031608572, -30.444605605264343], [147.7096031608572, -30.444605605264343], [147.7096031608572, -30.234605605264342], [147.4996031608572, -30.234605605264342], [147.4996031608572, -30.444605605264343]]], &quot;type&quot;: &quot;Polygon&quot;}, &quot;id&quot;: &quot;57&quot;, &quot;properties&quot;: {&quot;aoi_code&quot;: &quot;AOI02&quot;, &quot;cloud_cover&quot;: 0.0, &quot;id&quot;: &quot;2021-08-25&quot;, &quot;percentage_valid_pixels&quot;: 1.0, &quot;source&quot;: &quot;s2&quot;}, &quot;type&quot;: &quot;Feature&quot;}, {&quot;bbox&quot;: [147.4996031608572, -30.444605605264343, 147.7096031608572, -30.234605605264342], &quot;geometry&quot;: {&quot;coordinates&quot;: [[[147.4996031608572, -30.444605605264343], [147.7096031608572, -30.444605605264343], [147.7096031608572, -30.234605605264342], [147.4996031608572, -30.234605605264342], [147.4996031608572, -30.444605605264343]]], &quot;type&quot;: &quot;Polygon&quot;}, &quot;id&quot;: &quot;58&quot;, &quot;properties&quot;: {&quot;aoi_code&quot;: &quot;AOI02&quot;, &quot;cloud_cover&quot;: 0.0, &quot;id&quot;: &quot;2021-08-28&quot;, &quot;percentage_valid_pixels&quot;: 1.0, &quot;source&quot;: &quot;s2&quot;}, &quot;type&quot;: &quot;Feature&quot;}, {&quot;bbox&quot;: [147.4996031608572, -30.444605605264343, 147.7096031608572, -30.234605605264342], &quot;geometry&quot;: {&quot;coordinates&quot;: [[[147.4996031608572, -30.444605605264343], [147.7096031608572, -30.444605605264343], [147.7096031608572, -30.234605605264342], [147.4996031608572, -30.234605605264342], [147.4996031608572, -30.444605605264343]]], &quot;type&quot;: &quot;Polygon&quot;}, &quot;id&quot;: &quot;59&quot;, &quot;properties&quot;: {&quot;aoi_code&quot;: &quot;AOI02&quot;, &quot;cloud_cover&quot;: 33.2153, &quot;id&quot;: &quot;2021-08-30&quot;, &quot;percentage_valid_pixels&quot;: 1.0, &quot;source&quot;: &quot;s2&quot;}, &quot;type&quot;: &quot;Feature&quot;}, {&quot;bbox&quot;: [147.4996031608572, -30.444605605264343, 147.7096031608572, -30.234605605264342], &quot;geometry&quot;: {&quot;coordinates&quot;: [[[147.4996031608572, -30.444605605264343], [147.7096031608572, -30.444605605264343], [147.7096031608572, -30.234605605264342], [147.4996031608572, -30.234605605264342], [147.4996031608572, -30.444605605264343]]], &quot;type&quot;: &quot;Polygon&quot;}, &quot;id&quot;: &quot;60&quot;, &quot;properties&quot;: {&quot;aoi_code&quot;: &quot;AOI02&quot;, &quot;cloud_cover&quot;: 0.0, &quot;id&quot;: &quot;2021-09-02&quot;, &quot;percentage_valid_pixels&quot;: 1.0, &quot;source&quot;: &quot;s2&quot;}, &quot;type&quot;: &quot;Feature&quot;}, {&quot;bbox&quot;: [147.09959654580408, -30.844618412374587, 147.30959654580408, -30.634618412374586], &quot;geometry&quot;: {&quot;coordinates&quot;: [[[147.09959654580408, -30.844618412374587], [147.30959654580408, -30.844618412374587], [147.30959654580408, -30.634618412374586], [147.09959654580408, -30.634618412374586], [147.09959654580408, -30.844618412374587]]], &quot;type&quot;: &quot;Polygon&quot;}, &quot;id&quot;: &quot;61&quot;, &quot;properties&quot;: {&quot;aoi_code&quot;: &quot;AOI0289&quot;, &quot;cloud_cover&quot;: 3.0108, &quot;id&quot;: &quot;2021-08-03&quot;, &quot;percentage_valid_pixels&quot;: 1.0, &quot;source&quot;: &quot;s2&quot;}, &quot;type&quot;: &quot;Feature&quot;}, {&quot;bbox&quot;: [147.09959654580408, -30.844618412374587, 147.30959654580408, -30.634618412374586], &quot;geometry&quot;: {&quot;coordinates&quot;: [[[147.09959654580408, -30.844618412374587], [147.30959654580408, -30.844618412374587], [147.30959654580408, -30.634618412374586], [147.09959654580408, -30.634618412374586], [147.09959654580408, -30.844618412374587]]], &quot;type&quot;: &quot;Polygon&quot;}, &quot;id&quot;: &quot;62&quot;, &quot;properties&quot;: {&quot;aoi_code&quot;: &quot;AOI0289&quot;, &quot;cloud_cover&quot;: 40.112, &quot;id&quot;: &quot;2021-08-05&quot;, &quot;percentage_valid_pixels&quot;: 1.0, &quot;source&quot;: &quot;s2&quot;}, &quot;type&quot;: &quot;Feature&quot;}, {&quot;bbox&quot;: [147.09959654580408, -30.844618412374587, 147.30959654580408, -30.634618412374586], &quot;geometry&quot;: {&quot;coordinates&quot;: [[[147.09959654580408, -30.844618412374587], [147.30959654580408, -30.844618412374587], [147.30959654580408, -30.634618412374586], [147.09959654580408, -30.634618412374586], [147.09959654580408, -30.844618412374587]]], &quot;type&quot;: &quot;Polygon&quot;}, &quot;id&quot;: &quot;63&quot;, &quot;properties&quot;: {&quot;aoi_code&quot;: &quot;AOI0289&quot;, &quot;cloud_cover&quot;: 2.0378, &quot;id&quot;: &quot;2021-08-08&quot;, &quot;percentage_valid_pixels&quot;: 1.0, &quot;source&quot;: &quot;s2&quot;}, &quot;type&quot;: &quot;Feature&quot;}, {&quot;bbox&quot;: [147.09959654580408, -30.844618412374587, 147.30959654580408, -30.634618412374586], &quot;geometry&quot;: {&quot;coordinates&quot;: [[[147.09959654580408, -30.844618412374587], [147.30959654580408, -30.844618412374587], [147.30959654580408, -30.634618412374586], [147.09959654580408, -30.634618412374586], [147.09959654580408, -30.844618412374587]]], &quot;type&quot;: &quot;Polygon&quot;}, &quot;id&quot;: &quot;64&quot;, &quot;properties&quot;: {&quot;aoi_code&quot;: &quot;AOI0289&quot;, &quot;cloud_cover&quot;: 0.0, &quot;id&quot;: &quot;2021-08-10&quot;, &quot;percentage_valid_pixels&quot;: 1.0, &quot;source&quot;: &quot;s2&quot;}, &quot;type&quot;: &quot;Feature&quot;}, {&quot;bbox&quot;: [147.09959654580408, -30.844618412374587, 147.30959654580408, -30.634618412374586], &quot;geometry&quot;: {&quot;coordinates&quot;: [[[147.09959654580408, -30.844618412374587], [147.30959654580408, -30.844618412374587], [147.30959654580408, -30.634618412374586], [147.09959654580408, -30.634618412374586], [147.09959654580408, -30.844618412374587]]], &quot;type&quot;: &quot;Polygon&quot;}, &quot;id&quot;: &quot;65&quot;, &quot;properties&quot;: {&quot;aoi_code&quot;: &quot;AOI0289&quot;, &quot;cloud_cover&quot;: 0.0281, &quot;id&quot;: &quot;2021-08-13&quot;, &quot;percentage_valid_pixels&quot;: 1.0, &quot;source&quot;: &quot;s2&quot;}, &quot;type&quot;: &quot;Feature&quot;}, {&quot;bbox&quot;: [147.09959654580408, -30.844618412374587, 147.30959654580408, -30.634618412374586], &quot;geometry&quot;: {&quot;coordinates&quot;: [[[147.09959654580408, -30.844618412374587], [147.30959654580408, -30.844618412374587], [147.30959654580408, -30.634618412374586], [147.09959654580408, -30.634618412374586], [147.09959654580408, -30.844618412374587]]], &quot;type&quot;: &quot;Polygon&quot;}, &quot;id&quot;: &quot;66&quot;, &quot;properties&quot;: {&quot;aoi_code&quot;: &quot;AOI0289&quot;, &quot;cloud_cover&quot;: 5.4465, &quot;id&quot;: &quot;2021-08-15&quot;, &quot;percentage_valid_pixels&quot;: 1.0, &quot;source&quot;: &quot;s2&quot;}, &quot;type&quot;: &quot;Feature&quot;}, {&quot;bbox&quot;: [147.09959654580408, -30.844618412374587, 147.30959654580408, -30.634618412374586], &quot;geometry&quot;: {&quot;coordinates&quot;: [[[147.09959654580408, -30.844618412374587], [147.30959654580408, -30.844618412374587], [147.30959654580408, -30.634618412374586], [147.09959654580408, -30.634618412374586], [147.09959654580408, -30.844618412374587]]], &quot;type&quot;: &quot;Polygon&quot;}, &quot;id&quot;: &quot;67&quot;, &quot;properties&quot;: {&quot;aoi_code&quot;: &quot;AOI0289&quot;, &quot;cloud_cover&quot;: 0.2876, &quot;id&quot;: &quot;2021-08-18&quot;, &quot;percentage_valid_pixels&quot;: 1.0, &quot;source&quot;: &quot;s2&quot;}, &quot;type&quot;: &quot;Feature&quot;}, {&quot;bbox&quot;: [147.09959654580408, -30.844618412374587, 147.30959654580408, -30.634618412374586], &quot;geometry&quot;: {&quot;coordinates&quot;: [[[147.09959654580408, -30.844618412374587], [147.30959654580408, -30.844618412374587], [147.30959654580408, -30.634618412374586], [147.09959654580408, -30.634618412374586], [147.09959654580408, -30.844618412374587]]], &quot;type&quot;: &quot;Polygon&quot;}, &quot;id&quot;: &quot;68&quot;, &quot;properties&quot;: {&quot;aoi_code&quot;: &quot;AOI0289&quot;, &quot;cloud_cover&quot;: 0.6071, &quot;id&quot;: &quot;2021-08-20&quot;, &quot;percentage_valid_pixels&quot;: 1.0, &quot;source&quot;: &quot;s2&quot;}, &quot;type&quot;: &quot;Feature&quot;}, {&quot;bbox&quot;: [147.09959654580408, -30.844618412374587, 147.30959654580408, -30.634618412374586], &quot;geometry&quot;: {&quot;coordinates&quot;: [[[147.09959654580408, -30.844618412374587], [147.30959654580408, -30.844618412374587], [147.30959654580408, -30.634618412374586], [147.09959654580408, -30.634618412374586], [147.09959654580408, -30.844618412374587]]], &quot;type&quot;: &quot;Polygon&quot;}, &quot;id&quot;: &quot;69&quot;, &quot;properties&quot;: {&quot;aoi_code&quot;: &quot;AOI0289&quot;, &quot;cloud_cover&quot;: 33.5172, &quot;id&quot;: &quot;2021-08-23&quot;, &quot;percentage_valid_pixels&quot;: 1.0, &quot;source&quot;: &quot;s2&quot;}, &quot;type&quot;: &quot;Feature&quot;}, {&quot;bbox&quot;: [147.09959654580408, -30.844618412374587, 147.30959654580408, -30.634618412374586], &quot;geometry&quot;: {&quot;coordinates&quot;: [[[147.09959654580408, -30.844618412374587], [147.30959654580408, -30.844618412374587], [147.30959654580408, -30.634618412374586], [147.09959654580408, -30.634618412374586], [147.09959654580408, -30.844618412374587]]], &quot;type&quot;: &quot;Polygon&quot;}, &quot;id&quot;: &quot;70&quot;, &quot;properties&quot;: {&quot;aoi_code&quot;: &quot;AOI0289&quot;, &quot;cloud_cover&quot;: 0.1036, &quot;id&quot;: &quot;2021-08-25&quot;, &quot;percentage_valid_pixels&quot;: 1.0, &quot;source&quot;: &quot;s2&quot;}, &quot;type&quot;: &quot;Feature&quot;}, {&quot;bbox&quot;: [147.09959654580408, -30.844618412374587, 147.30959654580408, -30.634618412374586], &quot;geometry&quot;: {&quot;coordinates&quot;: [[[147.09959654580408, -30.844618412374587], [147.30959654580408, -30.844618412374587], [147.30959654580408, -30.634618412374586], [147.09959654580408, -30.634618412374586], [147.09959654580408, -30.844618412374587]]], &quot;type&quot;: &quot;Polygon&quot;}, &quot;id&quot;: &quot;71&quot;, &quot;properties&quot;: {&quot;aoi_code&quot;: &quot;AOI0289&quot;, &quot;cloud_cover&quot;: 0.0, &quot;id&quot;: &quot;2021-08-28&quot;, &quot;percentage_valid_pixels&quot;: 1.0, &quot;source&quot;: &quot;s2&quot;}, &quot;type&quot;: &quot;Feature&quot;}, {&quot;bbox&quot;: [147.09959654580408, -30.844618412374587, 147.30959654580408, -30.634618412374586], &quot;geometry&quot;: {&quot;coordinates&quot;: [[[147.09959654580408, -30.844618412374587], [147.30959654580408, -30.844618412374587], [147.30959654580408, -30.634618412374586], [147.09959654580408, -30.634618412374586], [147.09959654580408, -30.844618412374587]]], &quot;type&quot;: &quot;Polygon&quot;}, &quot;id&quot;: &quot;72&quot;, &quot;properties&quot;: {&quot;aoi_code&quot;: &quot;AOI0289&quot;, &quot;cloud_cover&quot;: 97.7998, &quot;id&quot;: &quot;2021-08-30&quot;, &quot;percentage_valid_pixels&quot;: 1.0, &quot;source&quot;: &quot;s2&quot;}, &quot;type&quot;: &quot;Feature&quot;}, {&quot;bbox&quot;: [147.09959654580408, -30.844618412374587, 147.30959654580408, -30.634618412374586], &quot;geometry&quot;: {&quot;coordinates&quot;: [[[147.09959654580408, -30.844618412374587], [147.30959654580408, -30.844618412374587], [147.30959654580408, -30.634618412374586], [147.09959654580408, -30.634618412374586], [147.09959654580408, -30.844618412374587]]], &quot;type&quot;: &quot;Polygon&quot;}, &quot;id&quot;: &quot;73&quot;, &quot;properties&quot;: {&quot;aoi_code&quot;: &quot;AOI0289&quot;, &quot;cloud_cover&quot;: 0.0, &quot;id&quot;: &quot;2021-09-02&quot;, &quot;percentage_valid_pixels&quot;: 1.0, &quot;source&quot;: &quot;s2&quot;}, &quot;type&quot;: &quot;Feature&quot;}], &quot;type&quot;: &quot;FeatureCollection&quot;});\n",
       "\n",
       "        \n",
       "    \n",
       "    geo_json_ca7d91fa458d928d8b2e33763b0e3e9f.bindTooltip(\n",
       "    function(layer){\n",
       "    let div = L.DomUtil.create(&#x27;div&#x27;);\n",
       "    \n",
       "    let handleObject = feature=&gt;typeof(feature)==&#x27;object&#x27; ? JSON.stringify(feature) : feature;\n",
       "    let fields = [&quot;id&quot;, &quot;cloud_cover&quot;, &quot;source&quot;, &quot;aoi_code&quot;, &quot;percentage_valid_pixels&quot;];\n",
       "    let aliases = [&quot;id&quot;, &quot;cloud_cover&quot;, &quot;source&quot;, &quot;aoi_code&quot;, &quot;percentage_valid_pixels&quot;];\n",
       "    let table = &#x27;&lt;table&gt;&#x27; +\n",
       "        String(\n",
       "        fields.map(\n",
       "        (v,i)=&gt;\n",
       "        `&lt;tr&gt;\n",
       "            &lt;th&gt;${aliases[i]}&lt;/th&gt;\n",
       "            \n",
       "            &lt;td&gt;${handleObject(layer.feature.properties[v])}&lt;/td&gt;\n",
       "        &lt;/tr&gt;`).join(&#x27;&#x27;))\n",
       "    +&#x27;&lt;/table&gt;&#x27;;\n",
       "    div.innerHTML=table;\n",
       "    \n",
       "    return div\n",
       "    }\n",
       "    ,{&quot;className&quot;: &quot;foliumtooltip&quot;, &quot;sticky&quot;: true});\n",
       "                     \n",
       "&lt;/script&gt;\" style=\"position:absolute;width:100%;height:100%;left:0;top:0;border:none !important;\" allowfullscreen webkitallowfullscreen mozallowfullscreen></iframe></div></div>"
      ],
      "text/plain": [
       "<folium.folium.Map at 0x7f2a99b16510>"
      ]
     },
     "execution_count": 112,
     "metadata": {},
     "output_type": "execute_result"
    }
   ],
   "source": [
    "all5_df.explore()"
   ]
  },
  {
   "cell_type": "markdown",
   "id": "5d68e49d-d27a-4bb5-948c-b781d3b0df9a",
   "metadata": {
    "tags": []
   },
   "source": [
    "# To attempt:"
   ]
  },
  {
   "cell_type": "markdown",
   "id": "badb6469-e4cb-42e8-a89e-1cdf77047530",
   "metadata": {},
   "source": [
    "from meeting 13/09/22\n",
    "* summary information over the squares gives a timeseries plot (out of scope)\n",
    "* blue squares to be shaded to a property\n",
    "* explore function documentation to color each square by a certain property\n",
    "* explore plotting functions\n",
    "* check additional properties we can use. "
   ]
  }
 ],
 "metadata": {
  "environment": {
   "kernel": "python3",
   "name": "common-cpu.m95",
   "type": "gcloud",
   "uri": "gcr.io/deeplearning-platform-release/base-cpu:m95"
  },
  "kernelspec": {
   "display_name": "Python 3",
   "language": "python",
   "name": "python3"
  },
  "language_info": {
   "codemirror_mode": {
    "name": "ipython",
    "version": 3
   },
   "file_extension": ".py",
   "mimetype": "text/x-python",
   "name": "python",
   "nbconvert_exporter": "python",
   "pygments_lexer": "ipython3",
   "version": "3.7.12"
  },
  "toc-autonumbering": false
 },
 "nbformat": 4,
 "nbformat_minor": 5
}
