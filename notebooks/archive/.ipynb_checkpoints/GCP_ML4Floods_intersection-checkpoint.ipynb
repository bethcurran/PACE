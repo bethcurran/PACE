{
 "cells": [
  {
   "cell_type": "markdown",
   "metadata": {
    "id": "OsMJCOHD3mud"
   },
   "source": [
    "# Installing packages"
   ]
  },
  {
   "cell_type": "code",
   "execution_count": 1,
   "metadata": {
    "colab": {
     "base_uri": "https://localhost:8080/"
    },
    "executionInfo": {
     "elapsed": 49951,
     "status": "ok",
     "timestamp": 1663039475517,
     "user": {
      "displayName": "Christopher Rudolph",
      "userId": "02991766000591959747"
     },
     "user_tz": -600
    },
    "id": "QwxSI74bu5uC",
    "outputId": "83245702-8560-456a-9120-2ff4580553c8"
   },
   "outputs": [
    {
     "name": "stdout",
     "output_type": "stream",
     "text": [
      "Collecting ml4floods\n",
      "  Cloning https://github.com/spaceml-org/ml4floods to /tmp/pip-install-j2efmerd/ml4floods_6623583fe4d04ca3af481fdab8ab521f\n",
      "  Running command git clone --filter=blob:none --quiet https://github.com/spaceml-org/ml4floods /tmp/pip-install-j2efmerd/ml4floods_6623583fe4d04ca3af481fdab8ab521f\n",
      "  Resolved https://github.com/spaceml-org/ml4floods to commit 0f8fdc4b6b891ed249f52fda19ee23c50462e237\n",
      "  Preparing metadata (setup.py) ... \u001b[?25ldone\n",
      "\u001b[?25hRequirement already satisfied: torch in /opt/conda/lib/python3.7/site-packages (from ml4floods) (1.12.1)\n",
      "Requirement already satisfied: torchvision in /opt/conda/lib/python3.7/site-packages (from ml4floods) (0.13.1)\n",
      "Requirement already satisfied: pytorch-lightning in /opt/conda/lib/python3.7/site-packages (from ml4floods) (1.7.4)\n",
      "Requirement already satisfied: numpy in /opt/conda/lib/python3.7/site-packages (from ml4floods) (1.19.5)\n",
      "Requirement already satisfied: matplotlib in /opt/conda/lib/python3.7/site-packages (from ml4floods) (3.5.2)\n",
      "Requirement already satisfied: seaborn in /opt/conda/lib/python3.7/site-packages (from ml4floods) (0.11.2)\n",
      "Requirement already satisfied: scipy in /opt/conda/lib/python3.7/site-packages (from ml4floods) (1.7.3)\n",
      "Requirement already satisfied: pandas in /opt/conda/lib/python3.7/site-packages (from ml4floods) (1.3.5)\n",
      "Requirement already satisfied: rasterio in /opt/conda/lib/python3.7/site-packages (from ml4floods) (1.2.10)\n",
      "Requirement already satisfied: geopandas in /opt/conda/lib/python3.7/site-packages (from ml4floods) (0.10.2)\n",
      "Requirement already satisfied: tqdm in /opt/conda/lib/python3.7/site-packages (from ml4floods) (4.64.0)\n",
      "Requirement already satisfied: opencv-python in /opt/conda/lib/python3.7/site-packages (from ml4floods) (4.6.0.66)\n",
      "Requirement already satisfied: albumentations in /opt/conda/lib/python3.7/site-packages (from ml4floods) (1.2.1)\n",
      "Requirement already satisfied: google-cloud-storage in /opt/conda/lib/python3.7/site-packages (from ml4floods) (2.5.0)\n",
      "Requirement already satisfied: fsspec in /opt/conda/lib/python3.7/site-packages (from ml4floods) (2022.7.1)\n",
      "Requirement already satisfied: gcsfs in /opt/conda/lib/python3.7/site-packages (from ml4floods) (2022.7.1)\n",
      "Requirement already satisfied: requests_html in /opt/conda/lib/python3.7/site-packages (from ml4floods) (0.10.0)\n",
      "Requirement already satisfied: earthengine-api in /opt/conda/lib/python3.7/site-packages (from ml4floods) (0.1.322)\n",
      "Requirement already satisfied: mercantile in /opt/conda/lib/python3.7/site-packages (from ml4floods) (1.2.1)\n",
      "Requirement already satisfied: scikit-image>=0.16.1 in /opt/conda/lib/python3.7/site-packages (from albumentations->ml4floods) (0.19.3)\n",
      "Requirement already satisfied: opencv-python-headless>=4.1.1 in /opt/conda/lib/python3.7/site-packages (from albumentations->ml4floods) (4.6.0.66)\n",
      "Requirement already satisfied: qudida>=0.0.4 in /opt/conda/lib/python3.7/site-packages (from albumentations->ml4floods) (0.0.4)\n",
      "Requirement already satisfied: PyYAML in /opt/conda/lib/python3.7/site-packages (from albumentations->ml4floods) (6.0)\n",
      "Requirement already satisfied: google-api-python-client<2,>=1.12.1 in /opt/conda/lib/python3.7/site-packages (from earthengine-api->ml4floods) (1.12.11)\n",
      "Requirement already satisfied: httplib2shim in /opt/conda/lib/python3.7/site-packages (from earthengine-api->ml4floods) (0.0.3)\n",
      "Requirement already satisfied: httplib2<1dev,>=0.9.2 in /opt/conda/lib/python3.7/site-packages (from earthengine-api->ml4floods) (0.20.4)\n",
      "Requirement already satisfied: google-auth>=1.4.1 in /opt/conda/lib/python3.7/site-packages (from earthengine-api->ml4floods) (2.10.0)\n",
      "Requirement already satisfied: six in /opt/conda/lib/python3.7/site-packages (from earthengine-api->ml4floods) (1.16.0)\n",
      "Requirement already satisfied: future in /opt/conda/lib/python3.7/site-packages (from earthengine-api->ml4floods) (0.18.2)\n",
      "Requirement already satisfied: google-auth-httplib2>=0.0.3 in /opt/conda/lib/python3.7/site-packages (from earthengine-api->ml4floods) (0.1.0)\n",
      "Requirement already satisfied: google-auth-oauthlib in /opt/conda/lib/python3.7/site-packages (from gcsfs->ml4floods) (0.4.6)\n",
      "Requirement already satisfied: aiohttp in /opt/conda/lib/python3.7/site-packages (from gcsfs->ml4floods) (3.8.1)\n",
      "Requirement already satisfied: requests in /opt/conda/lib/python3.7/site-packages (from gcsfs->ml4floods) (2.28.1)\n",
      "Requirement already satisfied: decorator>4.1.2 in /opt/conda/lib/python3.7/site-packages (from gcsfs->ml4floods) (5.1.1)\n",
      "Requirement already satisfied: pyproj>=2.2.0 in /opt/conda/lib/python3.7/site-packages (from geopandas->ml4floods) (3.2.1)\n",
      "Requirement already satisfied: fiona>=1.8 in /opt/conda/lib/python3.7/site-packages (from geopandas->ml4floods) (1.8.21)\n",
      "Requirement already satisfied: shapely>=1.6 in /opt/conda/lib/python3.7/site-packages (from geopandas->ml4floods) (1.8.4)\n",
      "Requirement already satisfied: python-dateutil>=2.7.3 in /opt/conda/lib/python3.7/site-packages (from pandas->ml4floods) (2.8.2)\n",
      "Requirement already satisfied: pytz>=2017.3 in /opt/conda/lib/python3.7/site-packages (from pandas->ml4floods) (2022.1)\n",
      "Requirement already satisfied: google-resumable-media>=2.3.2 in /opt/conda/lib/python3.7/site-packages (from google-cloud-storage->ml4floods) (2.3.3)\n",
      "Requirement already satisfied: google-cloud-core<3.0dev,>=2.3.0 in /opt/conda/lib/python3.7/site-packages (from google-cloud-storage->ml4floods) (2.3.2)\n",
      "Requirement already satisfied: google-api-core!=2.0.*,!=2.1.*,!=2.2.*,!=2.3.0,<3.0.0dev,>=1.31.5 in /opt/conda/lib/python3.7/site-packages (from google-cloud-storage->ml4floods) (2.8.1)\n",
      "Requirement already satisfied: kiwisolver>=1.0.1 in /opt/conda/lib/python3.7/site-packages (from matplotlib->ml4floods) (1.4.4)\n",
      "Requirement already satisfied: pillow>=6.2.0 in /opt/conda/lib/python3.7/site-packages (from matplotlib->ml4floods) (9.2.0)\n",
      "Requirement already satisfied: pyparsing>=2.2.1 in /opt/conda/lib/python3.7/site-packages (from matplotlib->ml4floods) (3.0.9)\n",
      "Requirement already satisfied: fonttools>=4.22.0 in /opt/conda/lib/python3.7/site-packages (from matplotlib->ml4floods) (4.34.4)\n",
      "Requirement already satisfied: packaging>=20.0 in /opt/conda/lib/python3.7/site-packages (from matplotlib->ml4floods) (21.3)\n",
      "Requirement already satisfied: cycler>=0.10 in /opt/conda/lib/python3.7/site-packages (from matplotlib->ml4floods) (0.11.0)\n",
      "Requirement already satisfied: click>=3.0 in /opt/conda/lib/python3.7/site-packages (from mercantile->ml4floods) (8.1.3)\n",
      "Requirement already satisfied: typing-extensions>=4.0.0 in /opt/conda/lib/python3.7/site-packages (from pytorch-lightning->ml4floods) (4.3.0)\n",
      "Requirement already satisfied: tensorboard>=2.9.1 in /opt/conda/lib/python3.7/site-packages (from pytorch-lightning->ml4floods) (2.10.0)\n",
      "Requirement already satisfied: torchmetrics>=0.7.0 in /opt/conda/lib/python3.7/site-packages (from pytorch-lightning->ml4floods) (0.9.3)\n",
      "Requirement already satisfied: pyDeprecate>=0.3.1 in /opt/conda/lib/python3.7/site-packages (from pytorch-lightning->ml4floods) (0.3.2)\n",
      "Requirement already satisfied: attrs in /opt/conda/lib/python3.7/site-packages (from rasterio->ml4floods) (22.1.0)\n",
      "Requirement already satisfied: snuggs>=1.4.1 in /opt/conda/lib/python3.7/site-packages (from rasterio->ml4floods) (1.4.7)\n",
      "Requirement already satisfied: setuptools in /opt/conda/lib/python3.7/site-packages (from rasterio->ml4floods) (59.8.0)\n",
      "Requirement already satisfied: certifi in /opt/conda/lib/python3.7/site-packages (from rasterio->ml4floods) (2022.6.15)\n",
      "Requirement already satisfied: affine in /opt/conda/lib/python3.7/site-packages (from rasterio->ml4floods) (2.3.1)\n",
      "Requirement already satisfied: cligj>=0.5 in /opt/conda/lib/python3.7/site-packages (from rasterio->ml4floods) (0.7.2)\n",
      "Requirement already satisfied: click-plugins in /opt/conda/lib/python3.7/site-packages (from rasterio->ml4floods) (1.1.1)\n",
      "Requirement already satisfied: parse in /opt/conda/lib/python3.7/site-packages (from requests_html->ml4floods) (1.19.0)\n",
      "Requirement already satisfied: w3lib in /opt/conda/lib/python3.7/site-packages (from requests_html->ml4floods) (2.0.1)\n",
      "Requirement already satisfied: fake-useragent in /opt/conda/lib/python3.7/site-packages (from requests_html->ml4floods) (0.1.11)\n",
      "Requirement already satisfied: pyppeteer>=0.0.14 in /opt/conda/lib/python3.7/site-packages (from requests_html->ml4floods) (1.0.2)\n",
      "Requirement already satisfied: bs4 in /opt/conda/lib/python3.7/site-packages (from requests_html->ml4floods) (0.0.1)\n",
      "Requirement already satisfied: pyquery in /opt/conda/lib/python3.7/site-packages (from requests_html->ml4floods) (1.4.3)\n",
      "Requirement already satisfied: importlib-metadata in /opt/conda/lib/python3.7/site-packages (from click>=3.0->mercantile->ml4floods) (4.11.4)\n",
      "Requirement already satisfied: munch in /opt/conda/lib/python3.7/site-packages (from fiona>=1.8->geopandas->ml4floods) (2.5.0)\n",
      "Requirement already satisfied: googleapis-common-protos<2.0dev,>=1.56.2 in /opt/conda/lib/python3.7/site-packages (from google-api-core!=2.0.*,!=2.1.*,!=2.2.*,!=2.3.0,<3.0.0dev,>=1.31.5->google-cloud-storage->ml4floods) (1.56.4)\n",
      "Requirement already satisfied: protobuf<4.0.0dev,>=3.15.0 in /opt/conda/lib/python3.7/site-packages (from google-api-core!=2.0.*,!=2.1.*,!=2.2.*,!=2.3.0,<3.0.0dev,>=1.31.5->google-cloud-storage->ml4floods) (3.19.4)\n",
      "Requirement already satisfied: uritemplate<4dev,>=3.0.0 in /opt/conda/lib/python3.7/site-packages (from google-api-python-client<2,>=1.12.1->earthengine-api->ml4floods) (3.0.1)\n",
      "Requirement already satisfied: rsa<5,>=3.1.4 in /opt/conda/lib/python3.7/site-packages (from google-auth>=1.4.1->earthengine-api->ml4floods) (4.9)\n",
      "Requirement already satisfied: cachetools<6.0,>=2.0.0 in /opt/conda/lib/python3.7/site-packages (from google-auth>=1.4.1->earthengine-api->ml4floods) (5.0.0)\n",
      "Requirement already satisfied: pyasn1-modules>=0.2.1 in /opt/conda/lib/python3.7/site-packages (from google-auth>=1.4.1->earthengine-api->ml4floods) (0.2.7)\n",
      "Requirement already satisfied: google-crc32c<2.0dev,>=1.0 in /opt/conda/lib/python3.7/site-packages (from google-resumable-media>=2.3.2->google-cloud-storage->ml4floods) (1.1.2)\n",
      "Requirement already satisfied: urllib3<2.0.0,>=1.25.8 in /opt/conda/lib/python3.7/site-packages (from pyppeteer>=0.0.14->requests_html->ml4floods) (1.26.11)\n",
      "Requirement already satisfied: pyee<9.0.0,>=8.1.0 in /opt/conda/lib/python3.7/site-packages (from pyppeteer>=0.0.14->requests_html->ml4floods) (8.2.2)\n",
      "Requirement already satisfied: appdirs<2.0.0,>=1.4.3 in /opt/conda/lib/python3.7/site-packages (from pyppeteer>=0.0.14->requests_html->ml4floods) (1.4.4)\n",
      "Requirement already satisfied: websockets<11.0,>=10.0 in /opt/conda/lib/python3.7/site-packages (from pyppeteer>=0.0.14->requests_html->ml4floods) (10.3)\n",
      "Requirement already satisfied: scikit-learn>=0.19.1 in /opt/conda/lib/python3.7/site-packages (from qudida>=0.0.4->albumentations->ml4floods) (1.0.2)\n",
      "Requirement already satisfied: idna<4,>=2.5 in /opt/conda/lib/python3.7/site-packages (from requests->gcsfs->ml4floods) (3.3)\n",
      "Requirement already satisfied: charset-normalizer<3,>=2 in /opt/conda/lib/python3.7/site-packages (from requests->gcsfs->ml4floods) (2.1.0)\n",
      "Requirement already satisfied: tifffile>=2019.7.26 in /opt/conda/lib/python3.7/site-packages (from scikit-image>=0.16.1->albumentations->ml4floods) (2021.11.2)\n",
      "Requirement already satisfied: networkx>=2.2 in /opt/conda/lib/python3.7/site-packages (from scikit-image>=0.16.1->albumentations->ml4floods) (2.7.1)\n",
      "Requirement already satisfied: imageio>=2.4.1 in /opt/conda/lib/python3.7/site-packages (from scikit-image>=0.16.1->albumentations->ml4floods) (2.21.2)\n",
      "Requirement already satisfied: PyWavelets>=1.1.1 in /opt/conda/lib/python3.7/site-packages (from scikit-image>=0.16.1->albumentations->ml4floods) (1.3.0)\n",
      "Requirement already satisfied: absl-py>=0.4 in /opt/conda/lib/python3.7/site-packages (from tensorboard>=2.9.1->pytorch-lightning->ml4floods) (1.2.0)\n",
      "Requirement already satisfied: grpcio>=1.24.3 in /opt/conda/lib/python3.7/site-packages (from tensorboard>=2.9.1->pytorch-lightning->ml4floods) (1.48.0)\n",
      "Requirement already satisfied: markdown>=2.6.8 in /opt/conda/lib/python3.7/site-packages (from tensorboard>=2.9.1->pytorch-lightning->ml4floods) (3.4.1)\n",
      "Requirement already satisfied: tensorboard-data-server<0.7.0,>=0.6.0 in /opt/conda/lib/python3.7/site-packages (from tensorboard>=2.9.1->pytorch-lightning->ml4floods) (0.6.1)\n",
      "Requirement already satisfied: werkzeug>=1.0.1 in /opt/conda/lib/python3.7/site-packages (from tensorboard>=2.9.1->pytorch-lightning->ml4floods) (2.2.2)\n",
      "Requirement already satisfied: wheel>=0.26 in /opt/conda/lib/python3.7/site-packages (from tensorboard>=2.9.1->pytorch-lightning->ml4floods) (0.37.1)\n",
      "Requirement already satisfied: tensorboard-plugin-wit>=1.6.0 in /opt/conda/lib/python3.7/site-packages (from tensorboard>=2.9.1->pytorch-lightning->ml4floods) (1.8.1)\n",
      "Requirement already satisfied: requests-oauthlib>=0.7.0 in /opt/conda/lib/python3.7/site-packages (from google-auth-oauthlib->gcsfs->ml4floods) (1.3.1)\n",
      "Requirement already satisfied: asynctest==0.13.0 in /opt/conda/lib/python3.7/site-packages (from aiohttp->gcsfs->ml4floods) (0.13.0)\n",
      "Requirement already satisfied: async-timeout<5.0,>=4.0.0a3 in /opt/conda/lib/python3.7/site-packages (from aiohttp->gcsfs->ml4floods) (4.0.2)\n",
      "Requirement already satisfied: yarl<2.0,>=1.0 in /opt/conda/lib/python3.7/site-packages (from aiohttp->gcsfs->ml4floods) (1.7.2)\n",
      "Requirement already satisfied: multidict<7.0,>=4.5 in /opt/conda/lib/python3.7/site-packages (from aiohttp->gcsfs->ml4floods) (6.0.2)\n",
      "Requirement already satisfied: frozenlist>=1.1.1 in /opt/conda/lib/python3.7/site-packages (from aiohttp->gcsfs->ml4floods) (1.3.1)\n",
      "Requirement already satisfied: aiosignal>=1.1.2 in /opt/conda/lib/python3.7/site-packages (from aiohttp->gcsfs->ml4floods) (1.2.0)\n",
      "Requirement already satisfied: beautifulsoup4 in /opt/conda/lib/python3.7/site-packages (from bs4->requests_html->ml4floods) (4.11.1)\n",
      "Requirement already satisfied: cssselect>0.7.9 in /opt/conda/lib/python3.7/site-packages (from pyquery->requests_html->ml4floods) (1.1.0)\n",
      "Requirement already satisfied: lxml>=2.1 in /opt/conda/lib/python3.7/site-packages (from pyquery->requests_html->ml4floods) (4.9.1)\n",
      "Requirement already satisfied: cffi>=1.0.0 in /opt/conda/lib/python3.7/site-packages (from google-crc32c<2.0dev,>=1.0->google-resumable-media>=2.3.2->google-cloud-storage->ml4floods) (1.15.1)\n",
      "Requirement already satisfied: zipp>=0.5 in /opt/conda/lib/python3.7/site-packages (from importlib-metadata->click>=3.0->mercantile->ml4floods) (3.8.1)\n",
      "Requirement already satisfied: pyasn1<0.5.0,>=0.4.6 in /opt/conda/lib/python3.7/site-packages (from pyasn1-modules>=0.2.1->google-auth>=1.4.1->earthengine-api->ml4floods) (0.4.8)\n",
      "Requirement already satisfied: oauthlib>=3.0.0 in /opt/conda/lib/python3.7/site-packages (from requests-oauthlib>=0.7.0->google-auth-oauthlib->gcsfs->ml4floods) (3.2.0)\n",
      "Requirement already satisfied: joblib>=0.11 in /opt/conda/lib/python3.7/site-packages (from scikit-learn>=0.19.1->qudida>=0.0.4->albumentations->ml4floods) (1.1.0)\n",
      "Requirement already satisfied: threadpoolctl>=2.0.0 in /opt/conda/lib/python3.7/site-packages (from scikit-learn>=0.19.1->qudida>=0.0.4->albumentations->ml4floods) (3.1.0)\n",
      "Requirement already satisfied: MarkupSafe>=2.1.1 in /opt/conda/lib/python3.7/site-packages (from werkzeug>=1.0.1->tensorboard>=2.9.1->pytorch-lightning->ml4floods) (2.1.1)\n",
      "Requirement already satisfied: soupsieve>1.2 in /opt/conda/lib/python3.7/site-packages (from beautifulsoup4->bs4->requests_html->ml4floods) (2.3.2.post1)\n",
      "Requirement already satisfied: pycparser in /opt/conda/lib/python3.7/site-packages (from cffi>=1.0.0->google-crc32c<2.0dev,>=1.0->google-resumable-media>=2.3.2->google-cloud-storage->ml4floods) (2.21)\n",
      "Requirement already satisfied: pygeos in /opt/conda/lib/python3.7/site-packages (0.13)\n",
      "Requirement already satisfied: numpy>=1.13 in /opt/conda/lib/python3.7/site-packages (from pygeos) (1.19.5)\n"
     ]
    }
   ],
   "source": [
    "!pip install git+https://github.com/spaceml-org/ml4floods#egg=ml4floods\n",
    "!pip install pygeos"
   ]
  },
  {
   "cell_type": "raw",
   "metadata": {
    "colab": {
     "base_uri": "https://localhost:8080/"
    },
    "executionInfo": {
     "elapsed": 20666,
     "status": "ok",
     "timestamp": 1663039496175,
     "user": {
      "displayName": "Christopher Rudolph",
      "userId": "02991766000591959747"
     },
     "user_tz": -600
    },
    "id": "QR8Vyi6UsFeK",
    "outputId": "43033455-d747-4a6b-e02c-27a9e4cca62a"
   },
   "source": [
    "from google.colab import drive\n",
    "drive.mount('/content/drive')"
   ]
  },
  {
   "cell_type": "code",
   "execution_count": 2,
   "metadata": {
    "executionInfo": {
     "elapsed": 1007,
     "status": "ok",
     "timestamp": 1663039497179,
     "user": {
      "displayName": "Christopher Rudolph",
      "userId": "02991766000591959747"
     },
     "user_tz": -600
    },
    "id": "BC3woSzAr8ps"
   },
   "outputs": [],
   "source": [
    "import pandas as pd\n",
    "import geopandas as gpd\n",
    "import numpy as np\n",
    "import os\n",
    "import pygeos\n",
    "gpd.options.use_pygeos = True"
   ]
  },
  {
   "cell_type": "markdown",
   "metadata": {
    "id": "52NITsSu3s1d"
   },
   "source": [
    "# Reading in the files"
   ]
  },
  {
   "cell_type": "markdown",
   "metadata": {
    "id": "qoRKwNxt6rYC"
   },
   "source": [
    "Checking if `geopandas` and `pygeos` are up to date. Changelog update listed [here](https://geopandas.org/en/stable/docs/changelog.html) and [here](https://pygeos.readthedocs.io/en/latest/changelog.html). Have to check the packages are up to date as there have been issues in the passed when they are not. "
   ]
  },
  {
   "cell_type": "code",
   "execution_count": 3,
   "metadata": {
    "colab": {
     "base_uri": "https://localhost:8080/",
     "height": 36
    },
    "executionInfo": {
     "elapsed": 9,
     "status": "ok",
     "timestamp": 1663039497180,
     "user": {
      "displayName": "Christopher Rudolph",
      "userId": "02991766000591959747"
     },
     "user_tz": -600
    },
    "id": "wLMyJZG6zI3S",
    "outputId": "6bac5835-f61c-4a3e-8f35-7e5c85a6e82c"
   },
   "outputs": [
    {
     "data": {
      "text/plain": [
       "'0.10.2'"
      ]
     },
     "execution_count": 3,
     "metadata": {},
     "output_type": "execute_result"
    }
   ],
   "source": [
    "gpd.__version__"
   ]
  },
  {
   "cell_type": "code",
   "execution_count": 4,
   "metadata": {
    "colab": {
     "base_uri": "https://localhost:8080/",
     "height": 36
    },
    "executionInfo": {
     "elapsed": 6,
     "status": "ok",
     "timestamp": 1663039497180,
     "user": {
      "displayName": "Christopher Rudolph",
      "userId": "02991766000591959747"
     },
     "user_tz": -600
    },
    "id": "99s3gyqmza8X",
    "outputId": "2ef4d810-2935-45c3-fa30-a007833d564f"
   },
   "outputs": [
    {
     "data": {
      "text/plain": [
       "'0.13'"
      ]
     },
     "execution_count": 4,
     "metadata": {},
     "output_type": "execute_result"
    }
   ],
   "source": [
    "pygeos.__version__"
   ]
  },
  {
   "cell_type": "code",
   "execution_count": 5,
   "metadata": {
    "executionInfo": {
     "elapsed": 1,
     "status": "ok",
     "timestamp": 1663039771557,
     "user": {
      "displayName": "Christopher Rudolph",
      "userId": "02991766000591959747"
     },
     "user_tz": -600
    },
    "id": "P3rtqI_UvlNM"
   },
   "outputs": [],
   "source": [
    "syd_footprint_path = 'syd_footprint_extended.geojson'"
   ]
  },
  {
   "cell_type": "code",
   "execution_count": 6,
   "metadata": {
    "executionInfo": {
     "elapsed": 2109,
     "status": "ok",
     "timestamp": 1663039776419,
     "user": {
      "displayName": "Christopher Rudolph",
      "userId": "02991766000591959747"
     },
     "user_tz": -600
    },
    "id": "EB-Xk1sCvt2O"
   },
   "outputs": [],
   "source": [
    "syd_footprint = gpd.read_file(syd_footprint_path)"
   ]
  },
  {
   "cell_type": "code",
   "execution_count": 7,
   "metadata": {
    "executionInfo": {
     "elapsed": 2,
     "status": "ok",
     "timestamp": 1663039769540,
     "user": {
      "displayName": "Christopher Rudolph",
      "userId": "02991766000591959747"
     },
     "user_tz": -600
    },
    "id": "w1RL1dbIv5WF"
   },
   "outputs": [],
   "source": [
    "syd_flood_path = 'syd_flood_reduced.geojson'"
   ]
  },
  {
   "cell_type": "code",
   "execution_count": 8,
   "metadata": {
    "executionInfo": {
     "elapsed": 369,
     "status": "ok",
     "timestamp": 1663039776786,
     "user": {
      "displayName": "Christopher Rudolph",
      "userId": "02991766000591959747"
     },
     "user_tz": -600
    },
    "id": "YYfL4FrIwCFJ"
   },
   "outputs": [],
   "source": [
    "syd_flood = gpd.read_file(syd_flood_path)"
   ]
  },
  {
   "cell_type": "code",
   "execution_count": 9,
   "metadata": {
    "colab": {
     "base_uri": "https://localhost:8080/"
    },
    "executionInfo": {
     "elapsed": 15,
     "status": "ok",
     "timestamp": 1663039502241,
     "user": {
      "displayName": "Christopher Rudolph",
      "userId": "02991766000591959747"
     },
     "user_tz": -600
    },
    "id": "YiTBjhsc0Net",
    "outputId": "190e845f-ab8c-4e4b-f90b-5d05f28b9da6"
   },
   "outputs": [
    {
     "data": {
      "text/plain": [
       "0        POLYGON ((150.80033 -32.32067, 150.80037 -32.3...\n",
       "1        POLYGON ((150.81640 -32.30648, 150.81642 -32.3...\n",
       "2        POLYGON ((150.83105 -32.73790, 150.83114 -32.7...\n",
       "3        POLYGON ((150.84422 -32.44826, 150.84432 -32.4...\n",
       "4        POLYGON ((150.81490 -32.25455, 150.81503 -32.2...\n",
       "                               ...                        \n",
       "21045    POLYGON ((151.18303 -32.56620, 151.18304 -32.5...\n",
       "21046    POLYGON ((151.17889 -32.54310, 151.17892 -32.5...\n",
       "21047    POLYGON ((151.18157 -32.54495, 151.18167 -32.5...\n",
       "21048    POLYGON ((151.18859 -32.56647, 151.18866 -32.5...\n",
       "21049    POLYGON ((151.19544 -32.60997, 151.19548 -32.6...\n",
       "Name: geometry, Length: 21050, dtype: geometry"
      ]
     },
     "execution_count": 9,
     "metadata": {},
     "output_type": "execute_result"
    }
   ],
   "source": [
    "syd_footprint.geometry"
   ]
  },
  {
   "cell_type": "code",
   "execution_count": 10,
   "metadata": {
    "colab": {
     "base_uri": "https://localhost:8080/"
    },
    "executionInfo": {
     "elapsed": 14,
     "status": "ok",
     "timestamp": 1663039502241,
     "user": {
      "displayName": "Christopher Rudolph",
      "userId": "02991766000591959747"
     },
     "user_tz": -600
    },
    "id": "ckE-eGCm7Xtd",
    "outputId": "b3cfb9d6-1459-4512-9f75-7497ffe06576"
   },
   "outputs": [
    {
     "data": {
      "text/plain": [
       "21050"
      ]
     },
     "execution_count": 10,
     "metadata": {},
     "output_type": "execute_result"
    }
   ],
   "source": [
    "len(syd_footprint.geometry)"
   ]
  },
  {
   "cell_type": "code",
   "execution_count": 11,
   "metadata": {
    "colab": {
     "base_uri": "https://localhost:8080/"
    },
    "executionInfo": {
     "elapsed": 11,
     "status": "ok",
     "timestamp": 1663039502241,
     "user": {
      "displayName": "Christopher Rudolph",
      "userId": "02991766000591959747"
     },
     "user_tz": -600
    },
    "id": "vvz3FSQa25Gt",
    "outputId": "5e367af8-2556-407f-c544-ebebc69f2c84"
   },
   "outputs": [
    {
     "data": {
      "text/plain": [
       "0       POLYGON ((150.82963 -32.61656, 150.82962 -32.6...\n",
       "1       POLYGON ((150.83694 -32.48962, 150.83706 -32.4...\n",
       "2       POLYGON ((150.83135 -32.48745, 150.83167 -32.4...\n",
       "3       POLYGON ((150.82953 -32.48796, 150.82753 -32.4...\n",
       "4       POLYGON ((150.83638 -32.48646, 150.83680 -32.4...\n",
       "                              ...                        \n",
       "1889    POLYGON ((151.19993 -32.40857, 151.19972 -32.4...\n",
       "1890    POLYGON ((151.18702 -32.36843, 151.18733 -32.3...\n",
       "1891    POLYGON ((151.18673 -32.36690, 151.18725 -32.3...\n",
       "1892    POLYGON ((151.18791 -32.36114, 151.18790 -32.3...\n",
       "1893    POLYGON ((151.19274 -32.34227, 151.19263 -32.3...\n",
       "Name: geometry, Length: 1894, dtype: geometry"
      ]
     },
     "execution_count": 11,
     "metadata": {},
     "output_type": "execute_result"
    }
   ],
   "source": [
    "syd_flood.geometry"
   ]
  },
  {
   "cell_type": "code",
   "execution_count": 12,
   "metadata": {
    "colab": {
     "base_uri": "https://localhost:8080/"
    },
    "executionInfo": {
     "elapsed": 9,
     "status": "ok",
     "timestamp": 1663039502242,
     "user": {
      "displayName": "Christopher Rudolph",
      "userId": "02991766000591959747"
     },
     "user_tz": -600
    },
    "id": "eB9K7biN7ZUP",
    "outputId": "bc296cc1-e21a-4cf2-ad25-996d5504c408"
   },
   "outputs": [
    {
     "data": {
      "text/plain": [
       "1894"
      ]
     },
     "execution_count": 12,
     "metadata": {},
     "output_type": "execute_result"
    }
   ],
   "source": [
    "len(syd_flood.geometry)"
   ]
  },
  {
   "cell_type": "markdown",
   "metadata": {
    "id": "2SCD1dUd4dKb"
   },
   "source": [
    "# Intersecting"
   ]
  },
  {
   "cell_type": "markdown",
   "metadata": {
    "id": "D-xzw8fj-vD1"
   },
   "source": [
    "We want the footprint polygons that are within flood polygons. "
   ]
  },
  {
   "cell_type": "code",
   "execution_count": 24,
   "metadata": {},
   "outputs": [
    {
     "data": {
      "text/plain": [
       "0      POLYGON ((150.83834 -32.48883, 150.83835 -32.4...\n",
       "1      POLYGON ((150.82954 -32.48825, 150.82955 -32.4...\n",
       "2      POLYGON ((150.82686 -32.45467, 150.82692 -32.4...\n",
       "3      POLYGON ((150.87200 -32.46672, 150.87201 -32.4...\n",
       "4      POLYGON ((150.87438 -32.46818, 150.87426 -32.4...\n",
       "                             ...                        \n",
       "389    POLYGON ((151.18242 -32.54678, 151.18262 -32.5...\n",
       "390    POLYGON ((151.18173 -32.54645, 151.18195 -32.5...\n",
       "391    POLYGON ((151.18197 -32.54672, 151.18190 -32.5...\n",
       "392    POLYGON ((151.18262 -32.54686, 151.18270 -32.5...\n",
       "393    POLYGON ((151.18799 -32.54788, 151.18796 -32.5...\n",
       "Name: geometry, Length: 394, dtype: geometry"
      ]
     },
     "execution_count": 24,
     "metadata": {},
     "output_type": "execute_result"
    }
   ],
   "source": [
    "gpd.overlay(syd_flood, syd_footprint, how='intersection')['geometry']"
   ]
  },
  {
   "cell_type": "code",
   "execution_count": 25,
   "metadata": {},
   "outputs": [
    {
     "data": {
      "image/svg+xml": [
       "<svg xmlns=\"http://www.w3.org/2000/svg\" xmlns:xlink=\"http://www.w3.org/1999/xlink\" width=\"100.0\" height=\"100.0\" viewBox=\"150.83825507006748 -32.488870837306926 9.850221627516476e-05 8.835595024692111e-05\" preserveAspectRatio=\"xMinYMin meet\"><g transform=\"matrix(1,0,0,-1,0,-64.97765331866361)\"><path fill-rule=\"evenodd\" fill=\"#66cc99\" stroke=\"#555555\" stroke-width=\"1.970044325503295e-06\" opacity=\"0.6\" d=\"M 150.8383418204322,-32.48883430646653 L 150.83834992405352,-32.488852540216214 L 150.8383377193754,-32.48886718907669 L 150.8382587182977,-32.48882035935317 L 150.8382872367659,-32.48878612958691 L 150.8383418204322,-32.48883430646653 z\" /></g></svg>"
      ],
      "text/plain": [
       "<shapely.geometry.polygon.Polygon at 0x7f8fd89d5b50>"
      ]
     },
     "execution_count": 25,
     "metadata": {},
     "output_type": "execute_result"
    }
   ],
   "source": [
    "gpd.overlay(syd_flood, syd_footprint, how='intersection')['geometry'][0]"
   ]
  },
  {
   "cell_type": "code",
   "execution_count": 22,
   "metadata": {
    "colab": {
     "base_uri": "https://localhost:8080/",
     "height": 424
    },
    "executionInfo": {
     "elapsed": 930,
     "status": "ok",
     "timestamp": 1663044319418,
     "user": {
      "displayName": "Christopher Rudolph",
      "userId": "02991766000591959747"
     },
     "user_tz": -600
    },
    "id": "K815oJd6JSd7",
    "outputId": "e9792b5b-95b0-446a-9233-143bda42f041"
   },
   "outputs": [
    {
     "name": "stdout",
     "output_type": "stream",
     "text": [
      "POLYGON ((150.8383418204322 -32.48883430646653, 150.83834992405352 -32.488852540216214, 150.8383377193754 -32.48886718907669, 150.8382587182977 -32.48882035935317, 150.8382872367659 -32.48878612958691, 150.8383418204322 -32.48883430646653))\n"
     ]
    }
   ],
   "source": [
    "print(gpd.overlay(syd_flood, syd_footprint, how='intersection')['geometry'][0])"
   ]
  },
  {
   "cell_type": "code",
   "execution_count": 26,
   "metadata": {},
   "outputs": [],
   "source": [
    "syd_flood_footprint = gpd.overlay(syd_flood, syd_footprint, how='intersection')['geometry']"
   ]
  },
  {
   "cell_type": "code",
   "execution_count": 27,
   "metadata": {},
   "outputs": [],
   "source": [
    "syd_flood_footprint.to_file(\"syd_flood_footprint.geojson\", driver='GeoJSON')"
   ]
  }
 ],
 "metadata": {
  "colab": {
   "provenance": []
  },
  "environment": {
   "kernel": "python3",
   "name": "common-cpu.m95",
   "type": "gcloud",
   "uri": "gcr.io/deeplearning-platform-release/base-cpu:m95"
  },
  "kernelspec": {
   "display_name": "Python 3",
   "language": "python",
   "name": "python3"
  },
  "language_info": {
   "codemirror_mode": {
    "name": "ipython",
    "version": 3
   },
   "file_extension": ".py",
   "mimetype": "text/x-python",
   "name": "python",
   "nbconvert_exporter": "python",
   "pygments_lexer": "ipython3",
   "version": "3.7.12"
  }
 },
 "nbformat": 4,
 "nbformat_minor": 4
}
