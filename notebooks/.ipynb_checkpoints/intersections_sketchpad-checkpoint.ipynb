{
 "cells": [
  {
   "cell_type": "code",
   "execution_count": 2,
   "id": "5978f7a4-ebb6-4b96-a7f5-fcb76e009586",
   "metadata": {},
   "outputs": [
    {
     "name": "stdout",
     "output_type": "stream",
     "text": [
      "/home/jupyter/PACE\n"
     ]
    }
   ],
   "source": [
    "cd /home/jupyter/PACE"
   ]
  },
  {
   "cell_type": "code",
   "execution_count": 3,
   "id": "4af032eb-20a5-4297-afd1-6b5b75b86c9a",
   "metadata": {},
   "outputs": [
    {
     "name": "stdout",
     "output_type": "stream",
     "text": [
      "Declarations_19722_Merge.cpg  Declarations_19722_Merge.shp.xml\n",
      "Declarations_19722_Merge.dbf  Declarations_19722_Merge.shx\n",
      "Declarations_19722_Merge.prj  aoi_flood_footprint.geojson\n",
      "Declarations_19722_Merge.sbn  \u001b[0m\u001b[01;34mdata\u001b[0m/\n",
      "Declarations_19722_Merge.sbx  \u001b[01;34mnotebooks\u001b[0m/\n",
      "Declarations_19722_Merge.shp\n"
     ]
    }
   ],
   "source": [
    "ls"
   ]
  },
  {
   "cell_type": "markdown",
   "id": "339e6e80-fea7-4ebe-975c-9c3ef27652c4",
   "metadata": {
    "jp-MarkdownHeadingCollapsed": true,
    "tags": []
   },
   "source": [
    "# **Install & import packages**"
   ]
  },
  {
   "cell_type": "code",
   "execution_count": 4,
   "id": "643eaefa-d758-4b20-82dd-cae59cec6870",
   "metadata": {},
   "outputs": [
    {
     "name": "stdout",
     "output_type": "stream",
     "text": [
      "Collecting ml4floods\n",
      "  Cloning https://github.com/spaceml-org/ml4floods to /tmp/pip-install-uqe6gdse/ml4floods_d64c23f854154c9c9243594443405457\n",
      "  Running command git clone --filter=blob:none --quiet https://github.com/spaceml-org/ml4floods /tmp/pip-install-uqe6gdse/ml4floods_d64c23f854154c9c9243594443405457\n",
      "  Resolved https://github.com/spaceml-org/ml4floods to commit 0f8fdc4b6b891ed249f52fda19ee23c50462e237\n",
      "  Preparing metadata (setup.py) ... \u001b[?25ldone\n",
      "\u001b[?25hRequirement already satisfied: torch in /opt/conda/lib/python3.7/site-packages (from ml4floods) (1.12.1)\n",
      "Requirement already satisfied: torchvision in /opt/conda/lib/python3.7/site-packages (from ml4floods) (0.13.1)\n",
      "Requirement already satisfied: pytorch-lightning in /opt/conda/lib/python3.7/site-packages (from ml4floods) (1.7.4)\n",
      "Requirement already satisfied: numpy in /opt/conda/lib/python3.7/site-packages (from ml4floods) (1.19.5)\n",
      "Requirement already satisfied: matplotlib in /opt/conda/lib/python3.7/site-packages (from ml4floods) (3.5.2)\n",
      "Requirement already satisfied: seaborn in /opt/conda/lib/python3.7/site-packages (from ml4floods) (0.11.2)\n",
      "Requirement already satisfied: scipy in /opt/conda/lib/python3.7/site-packages (from ml4floods) (1.7.3)\n",
      "Requirement already satisfied: pandas in /opt/conda/lib/python3.7/site-packages (from ml4floods) (1.3.5)\n",
      "Requirement already satisfied: rasterio in /opt/conda/lib/python3.7/site-packages (from ml4floods) (1.2.10)\n",
      "Requirement already satisfied: geopandas in /opt/conda/lib/python3.7/site-packages (from ml4floods) (0.10.2)\n",
      "Requirement already satisfied: tqdm in /opt/conda/lib/python3.7/site-packages (from ml4floods) (4.64.0)\n",
      "Requirement already satisfied: opencv-python in /opt/conda/lib/python3.7/site-packages (from ml4floods) (4.6.0.66)\n",
      "Requirement already satisfied: albumentations in /opt/conda/lib/python3.7/site-packages (from ml4floods) (1.2.1)\n",
      "Requirement already satisfied: google-cloud-storage in /opt/conda/lib/python3.7/site-packages (from ml4floods) (2.5.0)\n",
      "Requirement already satisfied: fsspec in /opt/conda/lib/python3.7/site-packages (from ml4floods) (2022.7.1)\n",
      "Requirement already satisfied: gcsfs in /opt/conda/lib/python3.7/site-packages (from ml4floods) (2022.7.1)\n",
      "Requirement already satisfied: requests_html in /opt/conda/lib/python3.7/site-packages (from ml4floods) (0.10.0)\n",
      "Requirement already satisfied: earthengine-api in /opt/conda/lib/python3.7/site-packages (from ml4floods) (0.1.322)\n",
      "Requirement already satisfied: mercantile in /opt/conda/lib/python3.7/site-packages (from ml4floods) (1.2.1)\n",
      "Requirement already satisfied: PyYAML in /opt/conda/lib/python3.7/site-packages (from albumentations->ml4floods) (6.0)\n",
      "Requirement already satisfied: opencv-python-headless>=4.1.1 in /opt/conda/lib/python3.7/site-packages (from albumentations->ml4floods) (4.6.0.66)\n",
      "Requirement already satisfied: scikit-image>=0.16.1 in /opt/conda/lib/python3.7/site-packages (from albumentations->ml4floods) (0.19.3)\n",
      "Requirement already satisfied: qudida>=0.0.4 in /opt/conda/lib/python3.7/site-packages (from albumentations->ml4floods) (0.0.4)\n",
      "Requirement already satisfied: httplib2<1dev,>=0.9.2 in /opt/conda/lib/python3.7/site-packages (from earthengine-api->ml4floods) (0.20.4)\n",
      "Requirement already satisfied: google-auth-httplib2>=0.0.3 in /opt/conda/lib/python3.7/site-packages (from earthengine-api->ml4floods) (0.1.0)\n",
      "Requirement already satisfied: six in /opt/conda/lib/python3.7/site-packages (from earthengine-api->ml4floods) (1.16.0)\n",
      "Requirement already satisfied: future in /opt/conda/lib/python3.7/site-packages (from earthengine-api->ml4floods) (0.18.2)\n",
      "Requirement already satisfied: google-api-python-client<2,>=1.12.1 in /opt/conda/lib/python3.7/site-packages (from earthengine-api->ml4floods) (1.12.11)\n",
      "Requirement already satisfied: httplib2shim in /opt/conda/lib/python3.7/site-packages (from earthengine-api->ml4floods) (0.0.3)\n",
      "Requirement already satisfied: google-auth>=1.4.1 in /opt/conda/lib/python3.7/site-packages (from earthengine-api->ml4floods) (2.10.0)\n",
      "Requirement already satisfied: google-auth-oauthlib in /opt/conda/lib/python3.7/site-packages (from gcsfs->ml4floods) (0.4.6)\n",
      "Requirement already satisfied: requests in /opt/conda/lib/python3.7/site-packages (from gcsfs->ml4floods) (2.28.1)\n",
      "Requirement already satisfied: aiohttp in /opt/conda/lib/python3.7/site-packages (from gcsfs->ml4floods) (3.8.1)\n",
      "Requirement already satisfied: decorator>4.1.2 in /opt/conda/lib/python3.7/site-packages (from gcsfs->ml4floods) (5.1.1)\n",
      "Requirement already satisfied: fiona>=1.8 in /opt/conda/lib/python3.7/site-packages (from geopandas->ml4floods) (1.8.21)\n",
      "Requirement already satisfied: shapely>=1.6 in /opt/conda/lib/python3.7/site-packages (from geopandas->ml4floods) (1.8.4)\n",
      "Requirement already satisfied: pyproj>=2.2.0 in /opt/conda/lib/python3.7/site-packages (from geopandas->ml4floods) (3.2.1)\n",
      "Requirement already satisfied: python-dateutil>=2.7.3 in /opt/conda/lib/python3.7/site-packages (from pandas->ml4floods) (2.8.2)\n",
      "Requirement already satisfied: pytz>=2017.3 in /opt/conda/lib/python3.7/site-packages (from pandas->ml4floods) (2022.1)\n",
      "Requirement already satisfied: google-cloud-core<3.0dev,>=2.3.0 in /opt/conda/lib/python3.7/site-packages (from google-cloud-storage->ml4floods) (2.3.2)\n",
      "Requirement already satisfied: google-api-core!=2.0.*,!=2.1.*,!=2.2.*,!=2.3.0,<3.0.0dev,>=1.31.5 in /opt/conda/lib/python3.7/site-packages (from google-cloud-storage->ml4floods) (2.8.1)\n",
      "Requirement already satisfied: google-resumable-media>=2.3.2 in /opt/conda/lib/python3.7/site-packages (from google-cloud-storage->ml4floods) (2.3.3)\n",
      "Requirement already satisfied: packaging>=20.0 in /opt/conda/lib/python3.7/site-packages (from matplotlib->ml4floods) (21.3)\n",
      "Requirement already satisfied: pillow>=6.2.0 in /opt/conda/lib/python3.7/site-packages (from matplotlib->ml4floods) (9.2.0)\n",
      "Requirement already satisfied: kiwisolver>=1.0.1 in /opt/conda/lib/python3.7/site-packages (from matplotlib->ml4floods) (1.4.4)\n",
      "Requirement already satisfied: pyparsing>=2.2.1 in /opt/conda/lib/python3.7/site-packages (from matplotlib->ml4floods) (3.0.9)\n",
      "Requirement already satisfied: fonttools>=4.22.0 in /opt/conda/lib/python3.7/site-packages (from matplotlib->ml4floods) (4.34.4)\n",
      "Requirement already satisfied: cycler>=0.10 in /opt/conda/lib/python3.7/site-packages (from matplotlib->ml4floods) (0.11.0)\n",
      "Requirement already satisfied: click>=3.0 in /opt/conda/lib/python3.7/site-packages (from mercantile->ml4floods) (8.1.3)\n",
      "Requirement already satisfied: typing-extensions>=4.0.0 in /opt/conda/lib/python3.7/site-packages (from pytorch-lightning->ml4floods) (4.3.0)\n",
      "Requirement already satisfied: tensorboard>=2.9.1 in /opt/conda/lib/python3.7/site-packages (from pytorch-lightning->ml4floods) (2.10.0)\n",
      "Requirement already satisfied: pyDeprecate>=0.3.1 in /opt/conda/lib/python3.7/site-packages (from pytorch-lightning->ml4floods) (0.3.2)\n",
      "Requirement already satisfied: torchmetrics>=0.7.0 in /opt/conda/lib/python3.7/site-packages (from pytorch-lightning->ml4floods) (0.9.3)\n",
      "Requirement already satisfied: certifi in /opt/conda/lib/python3.7/site-packages (from rasterio->ml4floods) (2022.6.15)\n",
      "Requirement already satisfied: attrs in /opt/conda/lib/python3.7/site-packages (from rasterio->ml4floods) (22.1.0)\n",
      "Requirement already satisfied: affine in /opt/conda/lib/python3.7/site-packages (from rasterio->ml4floods) (2.3.1)\n",
      "Requirement already satisfied: snuggs>=1.4.1 in /opt/conda/lib/python3.7/site-packages (from rasterio->ml4floods) (1.4.7)\n",
      "Requirement already satisfied: setuptools in /opt/conda/lib/python3.7/site-packages (from rasterio->ml4floods) (59.8.0)\n",
      "Requirement already satisfied: cligj>=0.5 in /opt/conda/lib/python3.7/site-packages (from rasterio->ml4floods) (0.7.2)\n",
      "Requirement already satisfied: click-plugins in /opt/conda/lib/python3.7/site-packages (from rasterio->ml4floods) (1.1.1)\n",
      "Requirement already satisfied: bs4 in /opt/conda/lib/python3.7/site-packages (from requests_html->ml4floods) (0.0.1)\n",
      "Requirement already satisfied: w3lib in /opt/conda/lib/python3.7/site-packages (from requests_html->ml4floods) (2.0.1)\n",
      "Requirement already satisfied: pyppeteer>=0.0.14 in /opt/conda/lib/python3.7/site-packages (from requests_html->ml4floods) (1.0.2)\n",
      "Requirement already satisfied: fake-useragent in /opt/conda/lib/python3.7/site-packages (from requests_html->ml4floods) (0.1.11)\n",
      "Requirement already satisfied: pyquery in /opt/conda/lib/python3.7/site-packages (from requests_html->ml4floods) (1.4.3)\n",
      "Requirement already satisfied: parse in /opt/conda/lib/python3.7/site-packages (from requests_html->ml4floods) (1.19.0)\n",
      "Requirement already satisfied: importlib-metadata in /opt/conda/lib/python3.7/site-packages (from click>=3.0->mercantile->ml4floods) (4.11.4)\n",
      "Requirement already satisfied: munch in /opt/conda/lib/python3.7/site-packages (from fiona>=1.8->geopandas->ml4floods) (2.5.0)\n",
      "Requirement already satisfied: protobuf<4.0.0dev,>=3.15.0 in /opt/conda/lib/python3.7/site-packages (from google-api-core!=2.0.*,!=2.1.*,!=2.2.*,!=2.3.0,<3.0.0dev,>=1.31.5->google-cloud-storage->ml4floods) (3.19.4)\n",
      "Requirement already satisfied: googleapis-common-protos<2.0dev,>=1.56.2 in /opt/conda/lib/python3.7/site-packages (from google-api-core!=2.0.*,!=2.1.*,!=2.2.*,!=2.3.0,<3.0.0dev,>=1.31.5->google-cloud-storage->ml4floods) (1.56.4)\n",
      "Requirement already satisfied: uritemplate<4dev,>=3.0.0 in /opt/conda/lib/python3.7/site-packages (from google-api-python-client<2,>=1.12.1->earthengine-api->ml4floods) (3.0.1)\n",
      "Requirement already satisfied: cachetools<6.0,>=2.0.0 in /opt/conda/lib/python3.7/site-packages (from google-auth>=1.4.1->earthengine-api->ml4floods) (5.0.0)\n",
      "Requirement already satisfied: pyasn1-modules>=0.2.1 in /opt/conda/lib/python3.7/site-packages (from google-auth>=1.4.1->earthengine-api->ml4floods) (0.2.7)\n",
      "Requirement already satisfied: rsa<5,>=3.1.4 in /opt/conda/lib/python3.7/site-packages (from google-auth>=1.4.1->earthengine-api->ml4floods) (4.9)\n",
      "Requirement already satisfied: google-crc32c<2.0dev,>=1.0 in /opt/conda/lib/python3.7/site-packages (from google-resumable-media>=2.3.2->google-cloud-storage->ml4floods) (1.1.2)\n",
      "Requirement already satisfied: appdirs<2.0.0,>=1.4.3 in /opt/conda/lib/python3.7/site-packages (from pyppeteer>=0.0.14->requests_html->ml4floods) (1.4.4)\n",
      "Requirement already satisfied: pyee<9.0.0,>=8.1.0 in /opt/conda/lib/python3.7/site-packages (from pyppeteer>=0.0.14->requests_html->ml4floods) (8.2.2)\n",
      "Requirement already satisfied: urllib3<2.0.0,>=1.25.8 in /opt/conda/lib/python3.7/site-packages (from pyppeteer>=0.0.14->requests_html->ml4floods) (1.26.11)\n",
      "Requirement already satisfied: websockets<11.0,>=10.0 in /opt/conda/lib/python3.7/site-packages (from pyppeteer>=0.0.14->requests_html->ml4floods) (10.3)\n",
      "Requirement already satisfied: scikit-learn>=0.19.1 in /opt/conda/lib/python3.7/site-packages (from qudida>=0.0.4->albumentations->ml4floods) (1.0.2)\n",
      "Requirement already satisfied: charset-normalizer<3,>=2 in /opt/conda/lib/python3.7/site-packages (from requests->gcsfs->ml4floods) (2.1.0)\n",
      "Requirement already satisfied: idna<4,>=2.5 in /opt/conda/lib/python3.7/site-packages (from requests->gcsfs->ml4floods) (3.3)\n",
      "Requirement already satisfied: imageio>=2.4.1 in /opt/conda/lib/python3.7/site-packages (from scikit-image>=0.16.1->albumentations->ml4floods) (2.21.2)\n",
      "Requirement already satisfied: PyWavelets>=1.1.1 in /opt/conda/lib/python3.7/site-packages (from scikit-image>=0.16.1->albumentations->ml4floods) (1.3.0)\n",
      "Requirement already satisfied: networkx>=2.2 in /opt/conda/lib/python3.7/site-packages (from scikit-image>=0.16.1->albumentations->ml4floods) (2.7.1)\n",
      "Requirement already satisfied: tifffile>=2019.7.26 in /opt/conda/lib/python3.7/site-packages (from scikit-image>=0.16.1->albumentations->ml4floods) (2021.11.2)\n",
      "Requirement already satisfied: tensorboard-plugin-wit>=1.6.0 in /opt/conda/lib/python3.7/site-packages (from tensorboard>=2.9.1->pytorch-lightning->ml4floods) (1.8.1)\n",
      "Requirement already satisfied: markdown>=2.6.8 in /opt/conda/lib/python3.7/site-packages (from tensorboard>=2.9.1->pytorch-lightning->ml4floods) (3.4.1)\n",
      "Requirement already satisfied: werkzeug>=1.0.1 in /opt/conda/lib/python3.7/site-packages (from tensorboard>=2.9.1->pytorch-lightning->ml4floods) (2.2.2)\n",
      "Requirement already satisfied: wheel>=0.26 in /opt/conda/lib/python3.7/site-packages (from tensorboard>=2.9.1->pytorch-lightning->ml4floods) (0.37.1)\n",
      "Requirement already satisfied: absl-py>=0.4 in /opt/conda/lib/python3.7/site-packages (from tensorboard>=2.9.1->pytorch-lightning->ml4floods) (1.2.0)\n",
      "Requirement already satisfied: tensorboard-data-server<0.7.0,>=0.6.0 in /opt/conda/lib/python3.7/site-packages (from tensorboard>=2.9.1->pytorch-lightning->ml4floods) (0.6.1)\n",
      "Requirement already satisfied: grpcio>=1.24.3 in /opt/conda/lib/python3.7/site-packages (from tensorboard>=2.9.1->pytorch-lightning->ml4floods) (1.48.0)\n",
      "Requirement already satisfied: requests-oauthlib>=0.7.0 in /opt/conda/lib/python3.7/site-packages (from google-auth-oauthlib->gcsfs->ml4floods) (1.3.1)\n",
      "Requirement already satisfied: multidict<7.0,>=4.5 in /opt/conda/lib/python3.7/site-packages (from aiohttp->gcsfs->ml4floods) (6.0.2)\n",
      "Requirement already satisfied: frozenlist>=1.1.1 in /opt/conda/lib/python3.7/site-packages (from aiohttp->gcsfs->ml4floods) (1.3.1)\n",
      "Requirement already satisfied: async-timeout<5.0,>=4.0.0a3 in /opt/conda/lib/python3.7/site-packages (from aiohttp->gcsfs->ml4floods) (4.0.2)\n",
      "Requirement already satisfied: aiosignal>=1.1.2 in /opt/conda/lib/python3.7/site-packages (from aiohttp->gcsfs->ml4floods) (1.2.0)\n",
      "Requirement already satisfied: yarl<2.0,>=1.0 in /opt/conda/lib/python3.7/site-packages (from aiohttp->gcsfs->ml4floods) (1.7.2)\n",
      "Requirement already satisfied: asynctest==0.13.0 in /opt/conda/lib/python3.7/site-packages (from aiohttp->gcsfs->ml4floods) (0.13.0)\n",
      "Requirement already satisfied: beautifulsoup4 in /opt/conda/lib/python3.7/site-packages (from bs4->requests_html->ml4floods) (4.11.1)\n",
      "Requirement already satisfied: lxml>=2.1 in /opt/conda/lib/python3.7/site-packages (from pyquery->requests_html->ml4floods) (4.9.1)\n",
      "Requirement already satisfied: cssselect>0.7.9 in /opt/conda/lib/python3.7/site-packages (from pyquery->requests_html->ml4floods) (1.1.0)\n",
      "Requirement already satisfied: cffi>=1.0.0 in /opt/conda/lib/python3.7/site-packages (from google-crc32c<2.0dev,>=1.0->google-resumable-media>=2.3.2->google-cloud-storage->ml4floods) (1.15.1)\n",
      "Requirement already satisfied: zipp>=0.5 in /opt/conda/lib/python3.7/site-packages (from importlib-metadata->click>=3.0->mercantile->ml4floods) (3.8.1)\n",
      "Requirement already satisfied: pyasn1<0.5.0,>=0.4.6 in /opt/conda/lib/python3.7/site-packages (from pyasn1-modules>=0.2.1->google-auth>=1.4.1->earthengine-api->ml4floods) (0.4.8)\n",
      "Requirement already satisfied: oauthlib>=3.0.0 in /opt/conda/lib/python3.7/site-packages (from requests-oauthlib>=0.7.0->google-auth-oauthlib->gcsfs->ml4floods) (3.2.0)\n",
      "Requirement already satisfied: joblib>=0.11 in /opt/conda/lib/python3.7/site-packages (from scikit-learn>=0.19.1->qudida>=0.0.4->albumentations->ml4floods) (1.1.0)\n",
      "Requirement already satisfied: threadpoolctl>=2.0.0 in /opt/conda/lib/python3.7/site-packages (from scikit-learn>=0.19.1->qudida>=0.0.4->albumentations->ml4floods) (3.1.0)\n",
      "Requirement already satisfied: MarkupSafe>=2.1.1 in /opt/conda/lib/python3.7/site-packages (from werkzeug>=1.0.1->tensorboard>=2.9.1->pytorch-lightning->ml4floods) (2.1.1)\n",
      "Requirement already satisfied: soupsieve>1.2 in /opt/conda/lib/python3.7/site-packages (from beautifulsoup4->bs4->requests_html->ml4floods) (2.3.2.post1)\n",
      "Requirement already satisfied: pycparser in /opt/conda/lib/python3.7/site-packages (from cffi>=1.0.0->google-crc32c<2.0dev,>=1.0->google-resumable-media>=2.3.2->google-cloud-storage->ml4floods) (2.21)\n",
      "Requirement already satisfied: pygeos in /opt/conda/lib/python3.7/site-packages (0.13)\n",
      "Requirement already satisfied: numpy>=1.13 in /opt/conda/lib/python3.7/site-packages (from pygeos) (1.19.5)\n"
     ]
    }
   ],
   "source": [
    "!pip install git+https://github.com/spaceml-org/ml4floods#egg=ml4floods\n",
    "!pip install pygeos"
   ]
  },
  {
   "cell_type": "code",
   "execution_count": 5,
   "id": "7413f348-9082-464a-9021-10010188454c",
   "metadata": {},
   "outputs": [],
   "source": [
    "import pandas as pd\n",
    "import geopandas as gpd\n",
    "import numpy as np\n",
    "import os\n",
    "import pygeos\n",
    "gpd.options.use_pygeos = True"
   ]
  },
  {
   "cell_type": "markdown",
   "id": "b2965aff-612f-4d24-b01d-d0db12afab63",
   "metadata": {
    "tags": []
   },
   "source": [
    "# **Getting the buildings affected by the floods in the government supplied AOI.**"
   ]
  },
  {
   "cell_type": "markdown",
   "id": "9cc5ab14-8fd9-4e8b-a78a-68fb13051529",
   "metadata": {
    "tags": []
   },
   "source": [
    "## Getting the intersection DF"
   ]
  },
  {
   "cell_type": "code",
   "execution_count": 6,
   "id": "9eaa8e26-4b32-4112-8c18-f8117dd6e586",
   "metadata": {},
   "outputs": [],
   "source": [
    "# Returns a geodata with the buildings affected in the government supplied AOI.\n",
    "\n",
    "def get_intersection(aoi_footprintPath: str, aoi_mapPath: str ):\n",
    "    \n",
    "    # Reading the files in.\n",
    "    aoi_footprint = gpd.read_file(aoi_footprintPath)\n",
    "    aoi_map = gpd.read_file(aoi_mapPath)\n",
    "\n",
    "    # Finding the affected buildings in the government supplied AOI. \n",
    "    aoi_intersect = gpd.overlay(aoi_map, aoi_footprint, how='intersection')\n",
    "    \n",
    "    length = len(aoi_intersect.groupby('class').get_group('flood-trace'))\n",
    "    \n",
    "    # Number of affected buildings.\n",
    "    print(f'There are {length} buildings affected in this AOI')\n",
    "    \n",
    "    # Saving the file. \n",
    "    aoi_intersect.to_file(\"data/aoi_intersect.geojson\", driver='GeoJSON')\n",
    "    \n",
    "    return aoi_intersect"
   ]
  },
  {
   "cell_type": "code",
   "execution_count": 7,
   "id": "c93094ba-2b13-44f1-bd7e-cf5a47f19299",
   "metadata": {},
   "outputs": [],
   "source": [
    "aoi_footprint_path = 'data/syd_reduced_footprint.geojson'\n",
    "aoi_footprint = gpd.read_file(aoi_footprint_path)\n",
    "\n",
    "aoi_map_path = 'data/syd_reduced_map.geojson'\n",
    "aoi_map = gpd.read_file(aoi_map_path)"
   ]
  },
  {
   "cell_type": "code",
   "execution_count": 8,
   "id": "b7c6825c-33e1-43cd-bbfa-cb0528eb3413",
   "metadata": {},
   "outputs": [
    {
     "name": "stdout",
     "output_type": "stream",
     "text": [
      "There are 399 buildings affected in this AOI\n"
     ]
    }
   ],
   "source": [
    "test = get_intersection(aoi_footprint_path, aoi_map_path)"
   ]
  },
  {
   "cell_type": "markdown",
   "id": "3a90a091-80c8-4f99-a113-2da61f37bce0",
   "metadata": {},
   "source": [
    "`intersection()` with parameter `align = True` checks for the exact coordinates in both dataframes. Considering they won't match in coordinates, we won't find intersections. One dataframe has the coordinates for polygons of the floodmap and the other is coordinates for buildings. "
   ]
  },
  {
   "cell_type": "code",
   "execution_count": 9,
   "id": "244f6278-208d-4d28-ad09-d3af6cbde9bb",
   "metadata": {},
   "outputs": [
    {
     "name": "stderr",
     "output_type": "stream",
     "text": [
      "/opt/conda/lib/python3.7/site-packages/geopandas/base.py:31: UserWarning: The indices of the two GeoSeries are different.\n",
      "  warn(\"The indices of the two GeoSeries are different.\")\n",
      "/opt/conda/lib/python3.7/site-packages/pygeos/set_operations.py:129: RuntimeWarning: invalid value encountered in intersection\n",
      "  return lib.intersection(a, b, **kwargs)\n"
     ]
    }
   ],
   "source": [
    "intersection = aoi_footprint['geometry'].intersection(aoi_map['geometry'], align= True)"
   ]
  },
  {
   "cell_type": "markdown",
   "id": "021f79bb-0cbd-4c62-97e0-3a14b34b3d25",
   "metadata": {},
   "source": [
    "Displaying everything BUT the empty and none polygons"
   ]
  },
  {
   "cell_type": "code",
   "execution_count": 10,
   "id": "0f0082d8-48d8-4796-9643-7f49e2bfa3f2",
   "metadata": {},
   "outputs": [
    {
     "name": "stderr",
     "output_type": "stream",
     "text": [
      "/opt/conda/lib/python3.7/site-packages/ipykernel_launcher.py:1: UserWarning: GeoSeries.isna() previously returned True for both missing (None) and empty geometries. Now, it only returns True for missing values. Since the calling GeoSeries contains empty geometries, the result has changed compared to previous versions of GeoPandas.\n",
      "Given a GeoSeries 's', you can use 's.is_empty | s.isna()' to get back the old behaviour.\n",
      "\n",
      "To further ignore this warning, you can do: \n",
      "import warnings; warnings.filterwarnings('ignore', 'GeoSeries.isna', UserWarning)\n",
      "  \"\"\"Entry point for launching an IPython kernel.\n"
     ]
    },
    {
     "data": {
      "text/plain": [
       "0    POLYGON ((150.80019 -32.32059, 150.80024 -32.3...\n",
       "1    POLYGON ((150.81629 -32.30646, 150.81631 -32.3...\n",
       "dtype: geometry"
      ]
     },
     "execution_count": 10,
     "metadata": {},
     "output_type": "execute_result"
    }
   ],
   "source": [
    "intersection[(intersection.is_empty == False) & (intersection.isna() == False)]"
   ]
  },
  {
   "cell_type": "code",
   "execution_count": 11,
   "id": "20415e94-adcb-4dbc-a6da-a8141541fb91",
   "metadata": {},
   "outputs": [
    {
     "data": {
      "text/plain": [
       "0        POLYGON ((150.80033 -32.32067, 150.80037 -32.3...\n",
       "1        POLYGON ((150.81640 -32.30648, 150.81642 -32.3...\n",
       "2        POLYGON ((150.83105 -32.73790, 150.83114 -32.7...\n",
       "3        POLYGON ((150.84422 -32.44826, 150.84432 -32.4...\n",
       "4        POLYGON ((150.81490 -32.25455, 150.81503 -32.2...\n",
       "                               ...                        \n",
       "21045    POLYGON ((151.18303 -32.56620, 151.18304 -32.5...\n",
       "21046    POLYGON ((151.17889 -32.54310, 151.17892 -32.5...\n",
       "21047    POLYGON ((151.18157 -32.54495, 151.18167 -32.5...\n",
       "21048    POLYGON ((151.18859 -32.56647, 151.18866 -32.5...\n",
       "21049    POLYGON ((151.19544 -32.60997, 151.19548 -32.6...\n",
       "Name: geometry, Length: 21050, dtype: geometry"
      ]
     },
     "execution_count": 11,
     "metadata": {},
     "output_type": "execute_result"
    }
   ],
   "source": [
    "aoi_footprint['geometry']"
   ]
  },
  {
   "cell_type": "code",
   "execution_count": 12,
   "id": "57cdf02e-f87d-4124-903e-a55f9fee6a59",
   "metadata": {},
   "outputs": [
    {
     "data": {
      "text/plain": [
       "295      POLYGON ((150.88725 -32.25680, 150.88736 -32.2...\n",
       "436      POLYGON ((150.88356 -32.33784, 150.88359 -32.3...\n",
       "449      POLYGON ((150.87831 -32.32271, 150.87819 -32.3...\n",
       "1014     POLYGON ((150.99354 -32.54876, 150.99354 -32.5...\n",
       "1095     POLYGON ((150.97138 -32.57291, 150.97134 -32.5...\n",
       "                               ...                        \n",
       "42445    POLYGON ((151.18287 -32.55453, 151.18285 -32.5...\n",
       "42459    POLYGON ((151.11194 -32.68864, 151.11200 -32.6...\n",
       "42488    POLYGON ((151.19435 -32.59770, 151.19441 -32.5...\n",
       "42511    POLYGON ((151.16862 -32.43871, 151.16856 -32.4...\n",
       "42608    POLYGON ((151.13915 -32.56989, 151.13922 -32.5...\n",
       "Name: geometry, Length: 399, dtype: geometry"
      ]
     },
     "execution_count": 12,
     "metadata": {},
     "output_type": "execute_result"
    }
   ],
   "source": [
    "test.groupby('class').get_group('flood-trace')['geometry']"
   ]
  },
  {
   "cell_type": "markdown",
   "id": "42da44b2-f7e7-4cba-b005-018f72faa4ab",
   "metadata": {},
   "source": [
    "We want to retain the full footprint, so lets get the coordinates of the intersect and find what it looks like in the footprint DF. \n",
    "\n",
    "Could loop through each coordinate to see if the any of the vertices of the intersect match the footprint intersect then print the index location(s) of where they match in the footprint DF to get the full shape of the building. "
   ]
  },
  {
   "cell_type": "markdown",
   "id": "f9ca2b26-6078-448b-a8e5-a273e8c81d97",
   "metadata": {},
   "source": [
    "## Looping through each coordinate to find intersection coordinates in the Footprint dataframe"
   ]
  },
  {
   "cell_type": "code",
   "execution_count": 13,
   "id": "486aa793-ddf9-4adc-b630-fd6ade80cde6",
   "metadata": {},
   "outputs": [],
   "source": [
    "import numpy as np"
   ]
  },
  {
   "cell_type": "markdown",
   "id": "ff03467d-fa31-45d4-96c8-ca8765c96fdb",
   "metadata": {},
   "source": [
    "Getting the flood-trace class"
   ]
  },
  {
   "cell_type": "code",
   "execution_count": 55,
   "id": "d18ad161-86dc-4a59-a2b8-59f643afb7bc",
   "metadata": {},
   "outputs": [
    {
     "data": {
      "text/html": [
       "<div>\n",
       "<style scoped>\n",
       "    .dataframe tbody tr th:only-of-type {\n",
       "        vertical-align: middle;\n",
       "    }\n",
       "\n",
       "    .dataframe tbody tr th {\n",
       "        vertical-align: top;\n",
       "    }\n",
       "\n",
       "    .dataframe thead th {\n",
       "        text-align: right;\n",
       "    }\n",
       "</style>\n",
       "<table border=\"1\" class=\"dataframe\">\n",
       "  <thead>\n",
       "    <tr style=\"text-align: right;\">\n",
       "      <th></th>\n",
       "      <th>class</th>\n",
       "      <th>geometry</th>\n",
       "    </tr>\n",
       "  </thead>\n",
       "  <tbody>\n",
       "    <tr>\n",
       "      <th>295</th>\n",
       "      <td>flood-trace</td>\n",
       "      <td>POLYGON ((150.88725 -32.25680, 150.88736 -32.2...</td>\n",
       "    </tr>\n",
       "    <tr>\n",
       "      <th>436</th>\n",
       "      <td>flood-trace</td>\n",
       "      <td>POLYGON ((150.88356 -32.33784, 150.88359 -32.3...</td>\n",
       "    </tr>\n",
       "    <tr>\n",
       "      <th>449</th>\n",
       "      <td>flood-trace</td>\n",
       "      <td>POLYGON ((150.87831 -32.32271, 150.87819 -32.3...</td>\n",
       "    </tr>\n",
       "    <tr>\n",
       "      <th>1014</th>\n",
       "      <td>flood-trace</td>\n",
       "      <td>POLYGON ((150.99354 -32.54876, 150.99354 -32.5...</td>\n",
       "    </tr>\n",
       "    <tr>\n",
       "      <th>1095</th>\n",
       "      <td>flood-trace</td>\n",
       "      <td>POLYGON ((150.97138 -32.57291, 150.97134 -32.5...</td>\n",
       "    </tr>\n",
       "    <tr>\n",
       "      <th>...</th>\n",
       "      <td>...</td>\n",
       "      <td>...</td>\n",
       "    </tr>\n",
       "    <tr>\n",
       "      <th>42445</th>\n",
       "      <td>flood-trace</td>\n",
       "      <td>POLYGON ((151.18287 -32.55453, 151.18285 -32.5...</td>\n",
       "    </tr>\n",
       "    <tr>\n",
       "      <th>42459</th>\n",
       "      <td>flood-trace</td>\n",
       "      <td>POLYGON ((151.11194 -32.68864, 151.11200 -32.6...</td>\n",
       "    </tr>\n",
       "    <tr>\n",
       "      <th>42488</th>\n",
       "      <td>flood-trace</td>\n",
       "      <td>POLYGON ((151.19435 -32.59770, 151.19441 -32.5...</td>\n",
       "    </tr>\n",
       "    <tr>\n",
       "      <th>42511</th>\n",
       "      <td>flood-trace</td>\n",
       "      <td>POLYGON ((151.16862 -32.43871, 151.16856 -32.4...</td>\n",
       "    </tr>\n",
       "    <tr>\n",
       "      <th>42608</th>\n",
       "      <td>flood-trace</td>\n",
       "      <td>POLYGON ((151.13915 -32.56989, 151.13922 -32.5...</td>\n",
       "    </tr>\n",
       "  </tbody>\n",
       "</table>\n",
       "<p>399 rows × 2 columns</p>\n",
       "</div>"
      ],
      "text/plain": [
       "             class                                           geometry\n",
       "295    flood-trace  POLYGON ((150.88725 -32.25680, 150.88736 -32.2...\n",
       "436    flood-trace  POLYGON ((150.88356 -32.33784, 150.88359 -32.3...\n",
       "449    flood-trace  POLYGON ((150.87831 -32.32271, 150.87819 -32.3...\n",
       "1014   flood-trace  POLYGON ((150.99354 -32.54876, 150.99354 -32.5...\n",
       "1095   flood-trace  POLYGON ((150.97138 -32.57291, 150.97134 -32.5...\n",
       "...            ...                                                ...\n",
       "42445  flood-trace  POLYGON ((151.18287 -32.55453, 151.18285 -32.5...\n",
       "42459  flood-trace  POLYGON ((151.11194 -32.68864, 151.11200 -32.6...\n",
       "42488  flood-trace  POLYGON ((151.19435 -32.59770, 151.19441 -32.5...\n",
       "42511  flood-trace  POLYGON ((151.16862 -32.43871, 151.16856 -32.4...\n",
       "42608  flood-trace  POLYGON ((151.13915 -32.56989, 151.13922 -32.5...\n",
       "\n",
       "[399 rows x 2 columns]"
      ]
     },
     "execution_count": 55,
     "metadata": {},
     "output_type": "execute_result"
    }
   ],
   "source": [
    "test.groupby('class').get_group('flood-trace')"
   ]
  },
  {
   "cell_type": "markdown",
   "id": "e7ea2dc2-4c8c-40da-8b84-e33bb0a9936c",
   "metadata": {},
   "source": [
    "Checking the first index, being 295 and not 1. This is the case becaus the full `test` DF contains many classes, but we filtered by the flood-trace class in the previous cell."
   ]
  },
  {
   "cell_type": "code",
   "execution_count": 56,
   "id": "99a65054-0629-422d-8b77-76c86565cbfc",
   "metadata": {},
   "outputs": [
    {
     "data": {
      "text/plain": [
       "class                                             flood-trace\n",
       "geometry    POLYGON ((150.8872532897568 -32.25679598968163...\n",
       "Name: 295, dtype: object"
      ]
     },
     "execution_count": 56,
     "metadata": {},
     "output_type": "execute_result"
    }
   ],
   "source": [
    "test.loc[295]"
   ]
  },
  {
   "cell_type": "markdown",
   "id": "6d788e59-d681-48dd-9b26-b441f5657a12",
   "metadata": {},
   "source": [
    "Details of the first polygon in the footprint dataframe (i.e. the coordinates of the first building in the DF)"
   ]
  },
  {
   "cell_type": "markdown",
   "id": "b0692599-4ec6-4627-afe1-c048de8a4f3a",
   "metadata": {},
   "source": [
    "Accessing the coordinates of the first building. "
   ]
  },
  {
   "cell_type": "code",
   "execution_count": 79,
   "id": "337941a2-e1fa-4333-839d-bb5bfcd5a113",
   "metadata": {},
   "outputs": [
    {
     "data": {
      "text/plain": [
       "Int64Index([  295,   436,   449,  1014,  1095,  1156,  1188,  1360,  1426,\n",
       "             1552,\n",
       "            ...\n",
       "            41924, 41927, 42071, 42232, 42412, 42445, 42459, 42488, 42511,\n",
       "            42608],\n",
       "           dtype='int64', length=399)"
      ]
     },
     "execution_count": 79,
     "metadata": {},
     "output_type": "execute_result"
    }
   ],
   "source": [
    "test.groupby('class').get_group('flood-trace')['geometry'].index"
   ]
  },
  {
   "cell_type": "code",
   "execution_count": 101,
   "id": "c6a1b8c7-1c8a-4663-807e-b1025978099b",
   "metadata": {},
   "outputs": [
    {
     "data": {
      "text/plain": [
       "(150.8871978737571, -32.25693153405079, 150.8873607340969, -32.25679598968163)"
      ]
     },
     "execution_count": 101,
     "metadata": {},
     "output_type": "execute_result"
    }
   ],
   "source": [
    "test['geometry'][295].bounds"
   ]
  },
  {
   "cell_type": "code",
   "execution_count": 102,
   "id": "459a64eb-4aff-47e5-bacc-b3669a330142",
   "metadata": {},
   "outputs": [
    {
     "data": {
      "text/plain": [
       "(150.8001922262388, -32.3206707407335, 150.8003744702567, -32.32053677553388)"
      ]
     },
     "execution_count": 102,
     "metadata": {},
     "output_type": "execute_result"
    }
   ],
   "source": [
    "aoi_footprint['geometry'][0].bounds"
   ]
  },
  {
   "cell_type": "code",
   "execution_count": 112,
   "id": "37d655ee-473e-4fb2-a94d-41cff557c94c",
   "metadata": {},
   "outputs": [
    {
     "data": {
      "text/plain": [
       "(150.8001922262388, -32.3206707407335, 150.8003744702567, -32.32053677553388)"
      ]
     },
     "execution_count": 112,
     "metadata": {},
     "output_type": "execute_result"
    }
   ],
   "source": [
    "test['geometry'][0].bounds"
   ]
  },
  {
   "cell_type": "code",
   "execution_count": 116,
   "id": "f6000f16-01bf-45f5-be42-35e1ffb5bda4",
   "metadata": {},
   "outputs": [
    {
     "data": {
      "text/plain": [
       "True"
      ]
     },
     "execution_count": 116,
     "metadata": {},
     "output_type": "execute_result"
    }
   ],
   "source": [
    "test['geometry'][41927].bounds == test['geometry'][41927].bounds"
   ]
  },
  {
   "cell_type": "code",
   "execution_count": 129,
   "id": "3411f17a-6b5a-4d39-a6d9-081bbee62e42",
   "metadata": {},
   "outputs": [
    {
     "data": {
      "text/plain": [
       "(151.1512153715256, -32.58407969618406, 151.1513278599995, -32.58392574669479)"
      ]
     },
     "execution_count": 129,
     "metadata": {},
     "output_type": "execute_result"
    }
   ],
   "source": [
    "test['geometry'][41927].bounds"
   ]
  },
  {
   "cell_type": "markdown",
   "id": "a10216f1-65a3-4a0f-8864-e72016ad2d9f",
   "metadata": {},
   "source": [
    "With the below loop, we should expect 399 'k' indices. "
   ]
  },
  {
   "cell_type": "code",
   "execution_count": 133,
   "id": "e2394447-47c8-4736-8bdb-b36fe7773f7b",
   "metadata": {},
   "outputs": [
    {
     "ename": "KeyboardInterrupt",
     "evalue": "",
     "output_type": "error",
     "traceback": [
      "\u001b[0;31m---------------------------------------------------------------------------\u001b[0m",
      "\u001b[0;31mKeyboardInterrupt\u001b[0m                         Traceback (most recent call last)",
      "\u001b[0;32m/tmp/ipykernel_9658/1457174300.py\u001b[0m in \u001b[0;36m<module>\u001b[0;34m\u001b[0m\n\u001b[1;32m      1\u001b[0m \u001b[0;32mfor\u001b[0m \u001b[0mi\u001b[0m \u001b[0;32min\u001b[0m \u001b[0mtest\u001b[0m\u001b[0;34m.\u001b[0m\u001b[0mgroupby\u001b[0m\u001b[0;34m(\u001b[0m\u001b[0;34m'class'\u001b[0m\u001b[0;34m)\u001b[0m\u001b[0;34m.\u001b[0m\u001b[0mget_group\u001b[0m\u001b[0;34m(\u001b[0m\u001b[0;34m'flood-trace'\u001b[0m\u001b[0;34m)\u001b[0m\u001b[0;34m[\u001b[0m\u001b[0;34m'geometry'\u001b[0m\u001b[0;34m]\u001b[0m\u001b[0;34m.\u001b[0m\u001b[0mindex\u001b[0m\u001b[0;34m:\u001b[0m\u001b[0;34m\u001b[0m\u001b[0;34m\u001b[0m\u001b[0m\n\u001b[1;32m      2\u001b[0m     \u001b[0;32mfor\u001b[0m \u001b[0mk\u001b[0m \u001b[0;32min\u001b[0m \u001b[0mrange\u001b[0m\u001b[0;34m(\u001b[0m\u001b[0mlen\u001b[0m\u001b[0;34m(\u001b[0m\u001b[0maoi_footprint\u001b[0m\u001b[0;34m)\u001b[0m\u001b[0;34m)\u001b[0m\u001b[0;34m:\u001b[0m\u001b[0;34m\u001b[0m\u001b[0;34m\u001b[0m\u001b[0m\n\u001b[0;32m----> 3\u001b[0;31m         \u001b[0;32mif\u001b[0m \u001b[0mtest\u001b[0m\u001b[0;34m[\u001b[0m\u001b[0;34m'geometry'\u001b[0m\u001b[0;34m]\u001b[0m\u001b[0;34m[\u001b[0m\u001b[0mi\u001b[0m\u001b[0;34m]\u001b[0m\u001b[0;34m.\u001b[0m\u001b[0mbounds\u001b[0m \u001b[0;34m==\u001b[0m \u001b[0maoi_footprint\u001b[0m\u001b[0;34m[\u001b[0m\u001b[0;34m'geometry'\u001b[0m\u001b[0;34m]\u001b[0m\u001b[0;34m[\u001b[0m\u001b[0mj\u001b[0m\u001b[0;34m]\u001b[0m\u001b[0;34m.\u001b[0m\u001b[0mbounds\u001b[0m\u001b[0;34m:\u001b[0m\u001b[0;34m\u001b[0m\u001b[0;34m\u001b[0m\u001b[0m\n\u001b[0m\u001b[1;32m      4\u001b[0m             \u001b[0mprint\u001b[0m\u001b[0;34m(\u001b[0m\u001b[0;34mf'Footprint index {k} contains the full coordinates'\u001b[0m\u001b[0;34m)\u001b[0m\u001b[0;34m\u001b[0m\u001b[0;34m\u001b[0m\u001b[0m\n",
      "\u001b[0;32m/opt/conda/lib/python3.7/site-packages/shapely/geometry/base.py\u001b[0m in \u001b[0;36mbounds\u001b[0;34m(self)\u001b[0m\n\u001b[1;32m    473\u001b[0m             \u001b[0;32mreturn\u001b[0m \u001b[0;34m(\u001b[0m\u001b[0;34m)\u001b[0m\u001b[0;34m\u001b[0m\u001b[0;34m\u001b[0m\u001b[0m\n\u001b[1;32m    474\u001b[0m         \u001b[0;32melse\u001b[0m\u001b[0;34m:\u001b[0m\u001b[0;34m\u001b[0m\u001b[0;34m\u001b[0m\u001b[0m\n\u001b[0;32m--> 475\u001b[0;31m             \u001b[0;32mreturn\u001b[0m \u001b[0mself\u001b[0m\u001b[0;34m.\u001b[0m\u001b[0mimpl\u001b[0m\u001b[0;34m[\u001b[0m\u001b[0;34m'bounds'\u001b[0m\u001b[0;34m]\u001b[0m\u001b[0;34m(\u001b[0m\u001b[0mself\u001b[0m\u001b[0;34m)\u001b[0m\u001b[0;34m\u001b[0m\u001b[0;34m\u001b[0m\u001b[0m\n\u001b[0m\u001b[1;32m    476\u001b[0m \u001b[0;34m\u001b[0m\u001b[0m\n\u001b[1;32m    477\u001b[0m     \u001b[0;34m@\u001b[0m\u001b[0mproperty\u001b[0m\u001b[0;34m\u001b[0m\u001b[0;34m\u001b[0m\u001b[0m\n",
      "\u001b[0;32m/opt/conda/lib/python3.7/site-packages/shapely/coords.py\u001b[0m in \u001b[0;36m__call__\u001b[0;34m(self, this)\u001b[0m\n\u001b[1;32m    197\u001b[0m         \u001b[0mtemp\u001b[0m \u001b[0;34m=\u001b[0m \u001b[0mc_double\u001b[0m\u001b[0;34m(\u001b[0m\u001b[0;34m)\u001b[0m\u001b[0;34m\u001b[0m\u001b[0;34m\u001b[0m\u001b[0m\n\u001b[1;32m    198\u001b[0m         \u001b[0;32mfor\u001b[0m \u001b[0mi\u001b[0m \u001b[0;32min\u001b[0m \u001b[0mrange\u001b[0m\u001b[0;34m(\u001b[0m\u001b[0mcs_len\u001b[0m\u001b[0;34m.\u001b[0m\u001b[0mvalue\u001b[0m\u001b[0;34m)\u001b[0m\u001b[0;34m:\u001b[0m\u001b[0;34m\u001b[0m\u001b[0;34m\u001b[0m\u001b[0m\n\u001b[0;32m--> 199\u001b[0;31m             \u001b[0mlgeos\u001b[0m\u001b[0;34m.\u001b[0m\u001b[0mGEOSCoordSeq_getX\u001b[0m\u001b[0;34m(\u001b[0m\u001b[0mcs\u001b[0m\u001b[0;34m,\u001b[0m \u001b[0mi\u001b[0m\u001b[0;34m,\u001b[0m \u001b[0mbyref\u001b[0m\u001b[0;34m(\u001b[0m\u001b[0mtemp\u001b[0m\u001b[0;34m)\u001b[0m\u001b[0;34m)\u001b[0m\u001b[0;34m\u001b[0m\u001b[0;34m\u001b[0m\u001b[0m\n\u001b[0m\u001b[1;32m    200\u001b[0m             \u001b[0mx\u001b[0m \u001b[0;34m=\u001b[0m \u001b[0mtemp\u001b[0m\u001b[0;34m.\u001b[0m\u001b[0mvalue\u001b[0m\u001b[0;34m\u001b[0m\u001b[0;34m\u001b[0m\u001b[0m\n\u001b[1;32m    201\u001b[0m             \u001b[0;32mif\u001b[0m \u001b[0mx\u001b[0m \u001b[0;34m<\u001b[0m \u001b[0mminx\u001b[0m\u001b[0;34m:\u001b[0m \u001b[0mminx\u001b[0m \u001b[0;34m=\u001b[0m \u001b[0mx\u001b[0m\u001b[0;34m\u001b[0m\u001b[0;34m\u001b[0m\u001b[0m\n",
      "\u001b[0;31mKeyboardInterrupt\u001b[0m: "
     ]
    }
   ],
   "source": [
    "for i in test.groupby('class').get_group('flood-trace')['geometry'].index:\n",
    "    for k in range(len(aoi_footprint)):\n",
    "        if test['geometry'][i].bounds == aoi_footprint['geometry'][j].bounds:\n",
    "            print(f'Footprint index {k} contains the full coordinates')"
   ]
  }
 ],
 "metadata": {
  "environment": {
   "kernel": "python3",
   "name": "common-cpu.m95",
   "type": "gcloud",
   "uri": "gcr.io/deeplearning-platform-release/base-cpu:m95"
  },
  "kernelspec": {
   "display_name": "Python 3",
   "language": "python",
   "name": "python3"
  },
  "language_info": {
   "codemirror_mode": {
    "name": "ipython",
    "version": 3
   },
   "file_extension": ".py",
   "mimetype": "text/x-python",
   "name": "python",
   "nbconvert_exporter": "python",
   "pygments_lexer": "ipython3",
   "version": "3.7.12"
  }
 },
 "nbformat": 4,
 "nbformat_minor": 5
}
